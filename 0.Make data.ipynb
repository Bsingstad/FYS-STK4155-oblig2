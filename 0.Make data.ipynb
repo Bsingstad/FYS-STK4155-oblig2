{
 "cells": [
  {
   "cell_type": "code",
   "execution_count": 1,
   "metadata": {
    "id": "Y8_0sLJvcgy2"
   },
   "outputs": [],
   "source": [
    "#@title Loading some packages and defining a function to load data\n",
    "import os\n",
    "import numpy as np, sys,os\n",
    "import pandas as pd\n",
    "import matplotlib.pyplot as plt\n",
    "import seaborn as sns\n",
    "from scipy.io import loadmat\n",
    "\n",
    "import tarfile\n",
    "\n",
    "from sklearn.preprocessing import MultiLabelBinarizer\n",
    "from sklearn.model_selection import StratifiedKFold\n",
    "from keras.preprocessing.sequence import pad_sequences\n",
    "import math\n",
    "import warnings\n",
    "import os\n",
    "\n",
    "\n",
    "\n",
    "\n",
    "def load_challenge_data(filename):\n",
    "    x = loadmat(filename)\n",
    "    data = np.asarray(x['val'], dtype=np.float64)\n",
    "    new_file = filename.replace('.mat','.hea')\n",
    "    input_header_file = os.path.join(new_file)\n",
    "    with open(input_header_file,'r') as f:\n",
    "        header_data=f.readlines()\n",
    "    return data, header_data\n",
    "\n",
    "\n",
    "def fxn():\n",
    "    warnings.warn(\"deprecated\", DeprecationWarning)\n",
    "\n",
    "with warnings.catch_warnings():\n",
    "    warnings.simplefilter(\"ignore\")\n",
    "    fxn()"
   ]
  },
  {
   "cell_type": "code",
   "execution_count": 2,
   "metadata": {
    "colab": {
     "base_uri": "https://localhost:8080/",
     "height": 989
    },
    "id": "rR9UFuKtaC6g",
    "outputId": "255b905d-8110-4802-f88e-b24136906eb4"
   },
   "outputs": [
    {
     "name": "stdout",
     "output_type": "stream",
     "text": [
      "Collecting ECG-featurizer\n",
      "  Downloading https://files.pythonhosted.org/packages/1f/7d/350cbc067de79f4b14526a4d380c13b75d6e68418759bac71ec94151cc7a/ECG_featurizer-0.0.10-py3-none-any.whl\n",
      "Collecting neurokit2>=0.0.41\n",
      "\u001b[?25l  Downloading https://files.pythonhosted.org/packages/39/d5/c1d8ae5e2c7680a938ea470cdbd16d91a9e83e6831f7fc5a1817642e763c/neurokit2-0.0.41-py2.py3-none-any.whl (983kB)\n",
      "\u001b[K     |████████████████████████████████| 993kB 4.5MB/s \n",
      "\u001b[?25hRequirement already satisfied: pandas>=1.0.5 in /usr/local/lib/python3.6/dist-packages (from ECG-featurizer) (1.1.4)\n",
      "Collecting numpy>=1.19.0\n",
      "\u001b[33m  WARNING: Retrying (Retry(total=4, connect=None, read=None, redirect=None, status=None)) after connection broken by 'ProtocolError('Connection aborted.', ConnectionResetError(104, 'Connection reset by peer'))': /packages/87/86/753182c9085ba4936c0076269a571613387cdb77ae2bf537448bfd63472c/numpy-1.19.4-cp36-cp36m-manylinux2010_x86_64.whl\u001b[0m\n",
      "\u001b[?25l  Downloading https://files.pythonhosted.org/packages/87/86/753182c9085ba4936c0076269a571613387cdb77ae2bf537448bfd63472c/numpy-1.19.4-cp36-cp36m-manylinux2010_x86_64.whl (14.5MB)\n",
      "\u001b[K     |████████████████████████████████| 14.5MB 325kB/s \n",
      "\u001b[33mWARNING: Retrying (Retry(total=4, connect=None, read=None, redirect=None, status=None)) after connection broken by 'ProtocolError('Connection aborted.', ConnectionResetError(104, 'Connection reset by peer'))': /simple/wfdb/\u001b[0m\n",
      "\u001b[?25hCollecting wfdb>=3.1.1\n",
      "\u001b[?25l  Downloading https://files.pythonhosted.org/packages/b1/a0/922d06ec737e219a9f45545432842e68a84e8b52f292704056eea1d35e41/wfdb-3.1.1.tar.gz (113kB)\n",
      "\u001b[K     |████████████████████████████████| 122kB 49.7MB/s \n",
      "\u001b[?25hRequirement already satisfied: matplotlib in /usr/local/lib/python3.6/dist-packages (from neurokit2>=0.0.41->ECG-featurizer) (3.2.2)\n",
      "Requirement already satisfied: scipy in /usr/local/lib/python3.6/dist-packages (from neurokit2>=0.0.41->ECG-featurizer) (1.4.1)\n",
      "Requirement already satisfied: sklearn in /usr/local/lib/python3.6/dist-packages (from neurokit2>=0.0.41->ECG-featurizer) (0.0)\n",
      "Requirement already satisfied: pytz>=2017.2 in /usr/local/lib/python3.6/dist-packages (from pandas>=1.0.5->ECG-featurizer) (2018.9)\n",
      "Requirement already satisfied: python-dateutil>=2.7.3 in /usr/local/lib/python3.6/dist-packages (from pandas>=1.0.5->ECG-featurizer) (2.8.1)\n",
      "Requirement already satisfied: certifi>=2016.8.2 in /usr/local/lib/python3.6/dist-packages (from wfdb>=3.1.1->ECG-featurizer) (2020.6.20)\n",
      "Requirement already satisfied: chardet>=3.0.0 in /usr/local/lib/python3.6/dist-packages (from wfdb>=3.1.1->ECG-featurizer) (3.0.4)\n",
      "Requirement already satisfied: cycler>=0.10.0 in /usr/local/lib/python3.6/dist-packages (from wfdb>=3.1.1->ECG-featurizer) (0.10.0)\n",
      "Requirement already satisfied: idna>=2.2 in /usr/local/lib/python3.6/dist-packages (from wfdb>=3.1.1->ECG-featurizer) (2.10)\n",
      "Requirement already satisfied: joblib>=0.11 in /usr/local/lib/python3.6/dist-packages (from wfdb>=3.1.1->ECG-featurizer) (0.17.0)\n",
      "Requirement already satisfied: kiwisolver>=1.1.0 in /usr/local/lib/python3.6/dist-packages (from wfdb>=3.1.1->ECG-featurizer) (1.3.1)\n",
      "Collecting mne>=0.18.0\n",
      "\u001b[?25l  Downloading https://files.pythonhosted.org/packages/d6/4d/430bade320c039681ef167422dbd01f4451fd45e6747923bf0bb3b01dae1/mne-0.21.1-py3-none-any.whl (6.8MB)\n",
      "\u001b[K     |████████████████████████████████| 6.8MB 43.6MB/s \n",
      "\u001b[?25hCollecting nose>=1.3.7\n",
      "\u001b[?25l  Downloading https://files.pythonhosted.org/packages/15/d8/dd071918c040f50fa1cf80da16423af51ff8ce4a0f2399b7bf8de45ac3d9/nose-1.3.7-py3-none-any.whl (154kB)\n",
      "\u001b[K     |████████████████████████████████| 163kB 40.2MB/s \n",
      "\u001b[?25hRequirement already satisfied: pyparsing>=2.0.4 in /usr/local/lib/python3.6/dist-packages (from wfdb>=3.1.1->ECG-featurizer) (2.4.7)\n",
      "Requirement already satisfied: requests>=2.8.1 in /usr/local/lib/python3.6/dist-packages (from wfdb>=3.1.1->ECG-featurizer) (2.23.0)\n",
      "Requirement already satisfied: scikit-learn>=0.18 in /usr/local/lib/python3.6/dist-packages (from wfdb>=3.1.1->ECG-featurizer) (0.22.2.post1)\n",
      "Requirement already satisfied: six>=0.9.0 in /usr/local/lib/python3.6/dist-packages (from wfdb>=3.1.1->ECG-featurizer) (1.15.0)\n",
      "Collecting threadpoolctl>=1.0.0\n",
      "  Downloading https://files.pythonhosted.org/packages/f7/12/ec3f2e203afa394a149911729357aa48affc59c20e2c1c8297a60f33f133/threadpoolctl-2.1.0-py3-none-any.whl\n",
      "Requirement already satisfied: urllib3>=1.22 in /usr/local/lib/python3.6/dist-packages (from wfdb>=3.1.1->ECG-featurizer) (1.24.3)\n",
      "Building wheels for collected packages: wfdb\n",
      "  Building wheel for wfdb (setup.py) ... \u001b[?25l\u001b[?25hdone\n",
      "  Created wheel for wfdb: filename=wfdb-3.1.1-cp36-none-any.whl size=117828 sha256=109c3d469d2a5919b179a0cc14ab7a73834e36246eccc84786c39d57fe6bf294\n",
      "  Stored in directory: /root/.cache/pip/wheels/bc/d0/c1/90538d266ccba2d1076fbc9970192c7ea1a09c99df3e65c69b\n",
      "Successfully built wfdb\n",
      "\u001b[31mERROR: tensorflow 2.3.0 has requirement numpy<1.19.0,>=1.16.0, but you'll have numpy 1.19.4 which is incompatible.\u001b[0m\n",
      "\u001b[31mERROR: datascience 0.10.6 has requirement folium==0.2.1, but you'll have folium 0.8.3 which is incompatible.\u001b[0m\n",
      "\u001b[31mERROR: albumentations 0.1.12 has requirement imgaug<0.2.7,>=0.2.5, but you'll have imgaug 0.2.9 which is incompatible.\u001b[0m\n",
      "Installing collected packages: numpy, neurokit2, mne, nose, threadpoolctl, wfdb, ECG-featurizer\n",
      "  Found existing installation: numpy 1.18.5\n",
      "    Uninstalling numpy-1.18.5:\n",
      "      Successfully uninstalled numpy-1.18.5\n",
      "Successfully installed ECG-featurizer-0.0.10 mne-0.21.1 neurokit2-0.0.41 nose-1.3.7 numpy-1.19.4 threadpoolctl-2.1.0 wfdb-3.1.1\n"
     ]
    },
    {
     "data": {
      "application/vnd.colab-display-data+json": {
       "pip_warning": {
        "packages": [
         "numpy"
        ]
       }
      }
     },
     "metadata": {
      "tags": []
     },
     "output_type": "display_data"
    }
   ],
   "source": [
    "!pip install ECG-featurizer\n"
   ]
  },
  {
   "cell_type": "code",
   "execution_count": 1,
   "metadata": {
    "id": "MTQ4k4bKaMkM"
   },
   "outputs": [],
   "source": [
    "from ECGfeaturizer import featurize as ef"
   ]
  },
  {
   "cell_type": "code",
   "execution_count": 2,
   "metadata": {
    "id": "I1xN-Xq2axFv"
   },
   "outputs": [],
   "source": [
    "MyFeaturizer = ef.get_features()"
   ]
  },
  {
   "cell_type": "code",
   "execution_count": 5,
   "metadata": {
    "id": "L-0VwarJbrAM"
   },
   "outputs": [],
   "source": [
    "!pip install -q kaggle"
   ]
  },
  {
   "cell_type": "code",
   "execution_count": 6,
   "metadata": {
    "colab": {
     "base_uri": "https://localhost:8080/"
    },
    "id": "mO_h0-9ebtCo",
    "outputId": "b39ed59d-11a3-412f-96d8-26c9dbe323a7"
   },
   "outputs": [
    {
     "name": "stdout",
     "output_type": "stream",
     "text": [
      "Mounted at /content/drive\n"
     ]
    }
   ],
   "source": [
    "from google.colab import drive\n",
    "drive.mount('/content/drive')"
   ]
  },
  {
   "cell_type": "code",
   "execution_count": 7,
   "metadata": {
    "colab": {
     "base_uri": "https://localhost:8080/",
     "height": 35
    },
    "id": "Xg1wZ8uJbvxg",
    "outputId": "dc9b4473-24a7-4cfd-f431-188340fd21a3"
   },
   "outputs": [
    {
     "data": {
      "application/vnd.google.colaboratory.intrinsic+json": {
       "type": "string"
      },
      "text/plain": [
       "'./kaggle.json'"
      ]
     },
     "execution_count": 7,
     "metadata": {
      "tags": []
     },
     "output_type": "execute_result"
    }
   ],
   "source": [
    "import os\n",
    "import shutil\n",
    "shutil.copy(\"/content/drive/My Drive/kaggle.json\",\"./kaggle.json\")"
   ]
  },
  {
   "cell_type": "code",
   "execution_count": 8,
   "metadata": {
    "colab": {
     "base_uri": "https://localhost:8080/"
    },
    "id": "E-vcCbd_b-FX",
    "outputId": "a41cf142-55a0-49e8-d589-c79624e7c6f0"
   },
   "outputs": [
    {
     "name": "stdout",
     "output_type": "stream",
     "text": [
      "kaggle.json\n"
     ]
    }
   ],
   "source": [
    "!mkdir -p ~/.kaggle\n",
    "!cp kaggle.json ~/.kaggle/\n",
    "!ls ~/.kaggle\n",
    "!chmod 600 /root/.kaggle/kaggle.json"
   ]
  },
  {
   "cell_type": "code",
   "execution_count": 9,
   "metadata": {
    "colab": {
     "base_uri": "https://localhost:8080/"
    },
    "id": "471p9r_vcBM1",
    "outputId": "b4a62377-953a-4eb2-c67c-d5062d1b7541"
   },
   "outputs": [
    {
     "name": "stdout",
     "output_type": "stream",
     "text": [
      "Downloading ptbxlphysionet.zip to /content\n",
      "100% 1.71G/1.72G [00:50<00:00, 31.1MB/s]\n",
      "100% 1.72G/1.72G [00:50<00:00, 36.7MB/s]\n"
     ]
    }
   ],
   "source": [
    "!kaggle datasets download -d bjoernjostein/ptbxlphysionet"
   ]
  },
  {
   "cell_type": "code",
   "execution_count": 10,
   "metadata": {
    "id": "dow_5w8kcUiD"
   },
   "outputs": [],
   "source": [
    "import os, zipfile\n",
    "\n",
    "dir_name = \"./\"\n",
    "extension = \".zip\"\n",
    "\n",
    "os.chdir(dir_name) # change directory from working dir to dir with files\n",
    "\n",
    "for item in os.listdir(dir_name): # loop through items in dir\n",
    "    if item.endswith(extension): # check for \".zip\" extension\n",
    "        file_name = os.path.abspath(item) # get full path of files\n",
    "        zip_ref = zipfile.ZipFile(file_name) # create zipfile object\n",
    "        zip_ref.extractall(dir_name) # extract file to dir\n",
    "        zip_ref.close() # close file\n",
    "        os.remove(file_name) # delete zipped file"
   ]
  },
  {
   "cell_type": "code",
   "execution_count": 3,
   "metadata": {
    "id": "yLKsWRtwcWTE"
   },
   "outputs": [],
   "source": [
    "import pandas as pd\n",
    "import numpy as np\n",
    "import wfdb\n",
    "import ast\n",
    "\n",
    "def load_raw_data(df, sampling_rate, path):\n",
    "    if sampling_rate == 100:\n",
    "        data = [wfdb.rdsamp(path+f) for f in df.filename_lr]\n",
    "    else:\n",
    "        data = [wfdb.rdsamp(path+f) for f in df.filename_hr]\n",
    "    data = np.array([signal for signal, meta in data])\n",
    "    return data\n",
    "\n",
    "path = '/content/ptb-xl-a-large-publicly-available-electrocardiography-dataset-1.0.1/'\n",
    "sampling_rate=500\n",
    "\n",
    "# load and convert annotation data\n",
    "Y = pd.read_csv(path+'ptbxl_database.csv', index_col='ecg_id')\n",
    "Y.scp_codes = Y.scp_codes.apply(lambda x: ast.literal_eval(x))\n",
    "\n",
    "# Load raw signal data\n",
    "#X = load_raw_data(Y, sampling_rate, path)\n",
    "\n",
    "# Load scp_statements.csv for diagnostic aggregation\n",
    "agg_df = pd.read_csv(path+'scp_statements.csv', index_col=0)\n",
    "agg_df = agg_df[agg_df.diagnostic == 1]\n",
    "\n",
    "def aggregate_diagnostic(y_dic):\n",
    "    tmp = []\n",
    "    for key in y_dic.keys():\n",
    "        if key in agg_df.index:\n",
    "            tmp.append(agg_df.loc[key].diagnostic_class)\n",
    "    return list(set(tmp))\n",
    "\n",
    "# Apply diagnostic superclass\n",
    "Y['diagnostic_superclass'] = Y.scp_codes.apply(aggregate_diagnostic)\n",
    "\n",
    "# Split data into train and test\n",
    "test_fold = 10\n",
    "# Train\n",
    "#X_train = X[np.where(Y.strat_fold != test_fold)]\n",
    "y_train = Y[(Y.strat_fold != test_fold)].diagnostic_superclass\n",
    "# Test\n",
    "#X_test = X[np.where(Y.strat_fold == test_fold)]\n",
    "y_test = Y[Y.strat_fold == test_fold].diagnostic_superclass\n"
   ]
  },
  {
   "cell_type": "code",
   "execution_count": 4,
   "metadata": {
    "id": "Yg-4kH1mmyLR"
   },
   "outputs": [],
   "source": [
    "y_test_df = Y.iloc[np.where(Y.strat_fold == 10)].filename_hr\n",
    "y_train_df = Y.iloc[np.where(Y.strat_fold != 10)].filename_hr\n",
    "\n",
    "train_ecg_filename = np.asarray(y_train_df)\n",
    "test_ecg_filename = np.asarray(y_test_df)"
   ]
  },
  {
   "cell_type": "code",
   "execution_count": 5,
   "metadata": {
    "id": "khuJXkfxm0OM"
   },
   "outputs": [],
   "source": [
    "y_train = np.asarray(y_train)\n",
    "y_test = np.asarray(y_test)"
   ]
  },
  {
   "cell_type": "code",
   "execution_count": 6,
   "metadata": {
    "colab": {
     "base_uri": "https://localhost:8080/"
    },
    "id": "tWJvU2EpmO2I",
    "outputId": "186bc8e7-de59-4126-c99f-a6c9980feaf8"
   },
   "outputs": [
    {
     "name": "stdout",
     "output_type": "stream",
     "text": [
      "1 out of 1 succeeded\n",
      "2 out of 2 succeeded\n",
      "3 out of 3 succeeded\n",
      "4 out of 4 succeeded\n",
      "5 out of 5 succeeded\n",
      "6 out of 6 succeeded\n"
     ]
    },
    {
     "name": "stderr",
     "output_type": "stream",
     "text": [
      "/usr/local/lib/python3.6/dist-packages/numpy/core/fromnumeric.py:3373: RuntimeWarning:\n",
      "\n",
      "Mean of empty slice.\n",
      "\n",
      "/usr/local/lib/python3.6/dist-packages/numpy/core/_methods.py:170: RuntimeWarning:\n",
      "\n",
      "invalid value encountered in double_scalars\n",
      "\n"
     ]
    },
    {
     "name": "stdout",
     "output_type": "stream",
     "text": [
      "7 out of 7 succeeded\n",
      "8 out of 8 succeeded\n",
      "9 out of 9 succeeded\n",
      "10 out of 10 succeeded\n",
      "11 out of 11 succeeded\n",
      "12 out of 12 succeeded\n",
      "13 out of 13 succeeded\n"
     ]
    },
    {
     "name": "stderr",
     "output_type": "stream",
     "text": [
      "/usr/local/lib/python3.6/dist-packages/numpy/core/fromnumeric.py:3373: RuntimeWarning:\n",
      "\n",
      "Mean of empty slice.\n",
      "\n",
      "/usr/local/lib/python3.6/dist-packages/numpy/core/_methods.py:170: RuntimeWarning:\n",
      "\n",
      "invalid value encountered in double_scalars\n",
      "\n"
     ]
    },
    {
     "name": "stdout",
     "output_type": "stream",
     "text": [
      "14 out of 14 succeeded\n"
     ]
    },
    {
     "name": "stderr",
     "output_type": "stream",
     "text": [
      "/usr/local/lib/python3.6/dist-packages/numpy/core/fromnumeric.py:3373: RuntimeWarning:\n",
      "\n",
      "Mean of empty slice.\n",
      "\n",
      "/usr/local/lib/python3.6/dist-packages/numpy/core/_methods.py:170: RuntimeWarning:\n",
      "\n",
      "invalid value encountered in double_scalars\n",
      "\n"
     ]
    },
    {
     "name": "stdout",
     "output_type": "stream",
     "text": [
      "15 out of 15 succeeded\n",
      "16 out of 16 succeeded\n",
      "17 out of 17 succeeded\n",
      "18 out of 18 succeeded\n",
      "19 out of 19 succeeded\n",
      "20 out of 20 succeeded\n",
      "21 out of 21 succeeded\n",
      "22 out of 22 succeeded\n",
      "23 out of 23 succeeded\n",
      "24 out of 24 succeeded\n",
      "25 out of 25 succeeded\n",
      "26 out of 26 succeeded\n",
      "27 out of 27 succeeded\n",
      "28 out of 28 succeeded\n",
      "29 out of 29 succeeded\n",
      "30 out of 30 succeeded\n",
      "31 out of 31 succeeded\n",
      "32 out of 32 succeeded\n",
      "33 out of 33 succeeded\n",
      "34 out of 34 succeeded\n",
      "35 out of 35 succeeded\n",
      "36 out of 36 succeeded\n",
      "37 out of 37 succeeded\n",
      "38 out of 38 succeeded\n",
      "39 out of 39 succeeded\n",
      "40 out of 40 succeeded\n",
      "41 out of 41 succeeded\n"
     ]
    },
    {
     "name": "stderr",
     "output_type": "stream",
     "text": [
      "/usr/local/lib/python3.6/dist-packages/numpy/core/fromnumeric.py:3373: RuntimeWarning:\n",
      "\n",
      "Mean of empty slice.\n",
      "\n",
      "/usr/local/lib/python3.6/dist-packages/numpy/core/_methods.py:170: RuntimeWarning:\n",
      "\n",
      "invalid value encountered in double_scalars\n",
      "\n"
     ]
    },
    {
     "name": "stdout",
     "output_type": "stream",
     "text": [
      "42 out of 42 succeeded\n",
      "43 out of 43 succeeded\n"
     ]
    },
    {
     "name": "stderr",
     "output_type": "stream",
     "text": [
      "/usr/local/lib/python3.6/dist-packages/numpy/core/fromnumeric.py:3373: RuntimeWarning:\n",
      "\n",
      "Mean of empty slice.\n",
      "\n",
      "/usr/local/lib/python3.6/dist-packages/numpy/core/_methods.py:170: RuntimeWarning:\n",
      "\n",
      "invalid value encountered in double_scalars\n",
      "\n"
     ]
    },
    {
     "name": "stdout",
     "output_type": "stream",
     "text": [
      "44 out of 44 succeeded\n",
      "45 out of 45 succeeded\n",
      "46 out of 46 succeeded\n",
      "47 out of 47 succeeded\n",
      "48 out of 48 succeeded\n",
      "49 out of 49 succeeded\n",
      "50 out of 50 succeeded\n",
      "51 out of 51 succeeded\n",
      "52 out of 52 succeeded\n",
      "53 out of 53 succeeded\n",
      "54 out of 54 succeeded\n",
      "55 out of 55 succeeded\n",
      "56 out of 56 succeeded\n",
      "57 out of 57 succeeded\n"
     ]
    },
    {
     "name": "stderr",
     "output_type": "stream",
     "text": [
      "/usr/local/lib/python3.6/dist-packages/numpy/core/fromnumeric.py:3373: RuntimeWarning:\n",
      "\n",
      "Mean of empty slice.\n",
      "\n",
      "/usr/local/lib/python3.6/dist-packages/numpy/core/_methods.py:170: RuntimeWarning:\n",
      "\n",
      "invalid value encountered in double_scalars\n",
      "\n"
     ]
    },
    {
     "name": "stdout",
     "output_type": "stream",
     "text": [
      "58 out of 58 succeeded\n",
      "59 out of 59 succeeded\n",
      "60 out of 60 succeeded\n",
      "61 out of 61 succeeded\n",
      "62 out of 62 succeeded\n",
      "63 out of 63 succeeded\n",
      "64 out of 64 succeeded\n",
      "65 out of 65 succeeded\n",
      "66 out of 66 succeeded\n",
      "67 out of 67 succeeded\n",
      "68 out of 68 succeeded\n",
      "69 out of 69 succeeded\n",
      "70 out of 70 succeeded\n",
      "71 out of 71 succeeded\n",
      "72 out of 72 succeeded\n",
      "73 out of 73 succeeded\n"
     ]
    },
    {
     "name": "stderr",
     "output_type": "stream",
     "text": [
      "/usr/local/lib/python3.6/dist-packages/numpy/core/fromnumeric.py:3373: RuntimeWarning:\n",
      "\n",
      "Mean of empty slice.\n",
      "\n",
      "/usr/local/lib/python3.6/dist-packages/numpy/core/_methods.py:170: RuntimeWarning:\n",
      "\n",
      "invalid value encountered in double_scalars\n",
      "\n"
     ]
    },
    {
     "name": "stdout",
     "output_type": "stream",
     "text": [
      "74 out of 74 succeeded\n",
      "75 out of 75 succeeded\n",
      "76 out of 76 succeeded\n",
      "77 out of 77 succeeded\n",
      "78 out of 78 succeeded\n"
     ]
    },
    {
     "name": "stderr",
     "output_type": "stream",
     "text": [
      "/usr/local/lib/python3.6/dist-packages/numpy/core/fromnumeric.py:3373: RuntimeWarning:\n",
      "\n",
      "Mean of empty slice.\n",
      "\n",
      "/usr/local/lib/python3.6/dist-packages/numpy/core/_methods.py:170: RuntimeWarning:\n",
      "\n",
      "invalid value encountered in double_scalars\n",
      "\n"
     ]
    },
    {
     "name": "stdout",
     "output_type": "stream",
     "text": [
      "79 out of 79 succeeded\n",
      "80 out of 80 succeeded\n",
      "81 out of 81 succeeded\n",
      "82 out of 82 succeeded\n",
      "83 out of 83 succeeded\n",
      "84 out of 84 succeeded\n",
      "85 out of 85 succeeded\n",
      "86 out of 86 succeeded\n",
      "87 out of 87 succeeded\n",
      "88 out of 88 succeeded\n",
      "89 out of 89 succeeded\n",
      "90 out of 90 succeeded\n",
      "91 out of 91 succeeded\n",
      "92 out of 92 succeeded\n",
      "93 out of 93 succeeded\n",
      "94 out of 94 succeeded\n"
     ]
    },
    {
     "name": "stderr",
     "output_type": "stream",
     "text": [
      "/usr/local/lib/python3.6/dist-packages/numpy/core/fromnumeric.py:3373: RuntimeWarning:\n",
      "\n",
      "Mean of empty slice.\n",
      "\n",
      "/usr/local/lib/python3.6/dist-packages/numpy/core/_methods.py:170: RuntimeWarning:\n",
      "\n",
      "invalid value encountered in double_scalars\n",
      "\n"
     ]
    },
    {
     "name": "stdout",
     "output_type": "stream",
     "text": [
      "95 out of 95 succeeded\n",
      "96 out of 96 succeeded\n",
      "97 out of 97 succeeded\n",
      "98 out of 98 succeeded\n",
      "99 out of 99 succeeded\n",
      "100 out of 100 succeeded\n",
      "files not annotated: []\n",
      "labels for files not annotated: []\n"
     ]
    }
   ],
   "source": [
    "Test_df = MyFeaturizer.featurizer(features=test_ecg_filename,labels=y_test,directory='/content/ptb-xl-a-large-publicly-available-electrocardiography-dataset-1.0.1/',demographical_data= Y)"
   ]
  },
  {
   "cell_type": "code",
   "execution_count": null,
   "metadata": {
    "id": "h0JdcY0KhwyC"
   },
   "outputs": [],
   "source": [
    "Test_df.to_csv(\"test_data.csv\")"
   ]
  },
  {
   "cell_type": "code",
   "execution_count": null,
   "metadata": {},
   "outputs": [],
   "source": [
    "Train_df = MyFeaturizer.featurizer(features=train_ecg_filename,labels=y_train,directory='/content/ptb-xl-a-large-publicly-available-electrocardiography-dataset-1.0.1/',demographical_data= Y)"
   ]
  },
  {
   "cell_type": "code",
   "execution_count": null,
   "metadata": {},
   "outputs": [],
   "source": [
    "Train_df.to_csv(\"train_data.csv\")"
   ]
  }
 ],
 "metadata": {
  "colab": {
   "name": "Featurize PTB-XL data.ipynb",
   "provenance": []
  },
  "kernelspec": {
   "display_name": "Python 3",
   "language": "python",
   "name": "python3"
  },
  "language_info": {
   "codemirror_mode": {
    "name": "ipython",
    "version": 3
   },
   "file_extension": ".py",
   "mimetype": "text/x-python",
   "name": "python",
   "nbconvert_exporter": "python",
   "pygments_lexer": "ipython3",
   "version": "3.7.7"
  }
 },
 "nbformat": 4,
 "nbformat_minor": 1
}
