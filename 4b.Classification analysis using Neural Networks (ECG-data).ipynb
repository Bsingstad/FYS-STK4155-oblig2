{
 "cells": [
  {
   "cell_type": "code",
   "execution_count": 56,
   "metadata": {
    "id": "GchOCS1E2JJK"
   },
   "outputs": [
    {
     "name": "stdout",
     "output_type": "stream",
     "text": [
      "The autoreload extension is already loaded. To reload it, use:\n",
      "  %reload_ext autoreload\n"
     ]
    }
   ],
   "source": [
    "import warnings\n",
    "warnings.filterwarnings(\"ignore\")\n",
    "from sklearn import preprocessing\n",
    "import pandas as pd\n",
    "import numpy as np\n",
    "import matplotlib.pyplot as plt\n",
    "from sklearn.linear_model import SGDRegressor\n",
    "from sklearn.metrics import mean_squared_error\n",
    "from numpy import random\n",
    "from sklearn.model_selection import train_test_split\n",
    "import os\n",
    "from matplotlib import cm\n",
    "from matplotlib.ticker import LinearLocator, FormatStrFormatter\n",
    "from sklearn.preprocessing import StandardScaler\n",
    "from sklearn.utils import resample\n",
    "from sklearn.metrics import r2_score\n",
    "from random import seed\n",
    "from random import randrange\n",
    "import timeit\n",
    "import tensorflow as tf\n",
    "%load_ext autoreload\n",
    "%autoreload\n",
    "%reload_ext autoreload\n",
    "from Scripts import plot\n",
    "from Scripts import ECG_processing\n",
    "from Scripts import metrics\n",
    "from scipy import optimize"
   ]
  },
  {
   "cell_type": "code",
   "execution_count": 59,
   "metadata": {},
   "outputs": [],
   "source": [
    "def thr_acc_metrics(thr, label, output_prob):\n",
    "    return -metrics.compute_accuracy(label, np.array(output_prob>thr))"
   ]
  },
  {
   "cell_type": "code",
   "execution_count": 57,
   "metadata": {},
   "outputs": [],
   "source": []
  },
  {
   "cell_type": "code",
   "execution_count": 11,
   "metadata": {
    "colab": {
     "base_uri": "https://localhost:8080/"
    },
    "id": "CPkrHhSK3hsD",
    "outputId": "35d611eb-d62b-4d03-99b1-5a4d0508c2e8"
   },
   "outputs": [],
   "source": [
    "#from google.colab import drive\n",
    "#drive.mount('/content/drive')\n"
   ]
  },
  {
   "cell_type": "code",
   "execution_count": 12,
   "metadata": {
    "id": "QvowcUrvdDD0"
   },
   "outputs": [],
   "source": [
    "train_data = pd.read_csv('./Data/train_data_ptb.csv')"
   ]
  },
  {
   "cell_type": "code",
   "execution_count": 13,
   "metadata": {
    "id": "U4B4ElLcI3kq"
   },
   "outputs": [],
   "source": [
    "test_data = pd.read_csv('./Data/test_data_ptb.csv')"
   ]
  },
  {
   "cell_type": "code",
   "execution_count": 14,
   "metadata": {
    "colab": {
     "base_uri": "https://localhost:8080/",
     "height": 507
    },
    "id": "12pe6rFW_byh",
    "outputId": "87965508-6bfb-4ae9-ff2f-69d1a613c1f0"
   },
   "outputs": [
    {
     "data": {
      "text/html": [
       "<div>\n",
       "<style scoped>\n",
       "    .dataframe tbody tr th:only-of-type {\n",
       "        vertical-align: middle;\n",
       "    }\n",
       "\n",
       "    .dataframe tbody tr th {\n",
       "        vertical-align: top;\n",
       "    }\n",
       "\n",
       "    .dataframe thead th {\n",
       "        text-align: right;\n",
       "    }\n",
       "</style>\n",
       "<table border=\"1\" class=\"dataframe\">\n",
       "  <thead>\n",
       "    <tr style=\"text-align: right;\">\n",
       "      <th></th>\n",
       "      <th>Unnamed: 0</th>\n",
       "      <th>gender</th>\n",
       "      <th>age</th>\n",
       "      <th>R HR STD</th>\n",
       "      <th>R HR median</th>\n",
       "      <th>R HR min</th>\n",
       "      <th>R HR max</th>\n",
       "      <th>R HR mean</th>\n",
       "      <th>RMSSD</th>\n",
       "      <th>R amp II std</th>\n",
       "      <th>...</th>\n",
       "      <th>t_offset_median</th>\n",
       "      <th>t_offset_min</th>\n",
       "      <th>t_offset_max</th>\n",
       "      <th>mean_t_offset</th>\n",
       "      <th>t_onsets_std</th>\n",
       "      <th>t_onsets_median</th>\n",
       "      <th>t_onsets_min</th>\n",
       "      <th>t_onsets_max</th>\n",
       "      <th>mean_t_onsets</th>\n",
       "      <th>Labels</th>\n",
       "    </tr>\n",
       "  </thead>\n",
       "  <tbody>\n",
       "    <tr>\n",
       "      <th>0</th>\n",
       "      <td>0</td>\n",
       "      <td>2.0</td>\n",
       "      <td>-1.0</td>\n",
       "      <td>35.022173</td>\n",
       "      <td>64.242480</td>\n",
       "      <td>62.240664</td>\n",
       "      <td>178.571429</td>\n",
       "      <td>78.968869</td>\n",
       "      <td>7462.634770</td>\n",
       "      <td>0.098937</td>\n",
       "      <td>...</td>\n",
       "      <td>65.865579</td>\n",
       "      <td>61.855670</td>\n",
       "      <td>288.461538</td>\n",
       "      <td>89.609104</td>\n",
       "      <td>61.288462</td>\n",
       "      <td>65.077147</td>\n",
       "      <td>60.483871</td>\n",
       "      <td>270.270270</td>\n",
       "      <td>87.847241</td>\n",
       "      <td>['NORM']</td>\n",
       "    </tr>\n",
       "    <tr>\n",
       "      <th>1</th>\n",
       "      <td>1</td>\n",
       "      <td>2.0</td>\n",
       "      <td>-1.0</td>\n",
       "      <td>23.360239</td>\n",
       "      <td>50.726668</td>\n",
       "      <td>43.795620</td>\n",
       "      <td>116.731518</td>\n",
       "      <td>60.291780</td>\n",
       "      <td>4180.799504</td>\n",
       "      <td>0.522686</td>\n",
       "      <td>...</td>\n",
       "      <td>50.251256</td>\n",
       "      <td>43.352601</td>\n",
       "      <td>97.719870</td>\n",
       "      <td>60.381687</td>\n",
       "      <td>21.792238</td>\n",
       "      <td>48.701299</td>\n",
       "      <td>41.551247</td>\n",
       "      <td>97.719870</td>\n",
       "      <td>60.685624</td>\n",
       "      <td>['NORM']</td>\n",
       "    </tr>\n",
       "    <tr>\n",
       "      <th>2</th>\n",
       "      <td>2</td>\n",
       "      <td>2.0</td>\n",
       "      <td>-1.0</td>\n",
       "      <td>27.444595</td>\n",
       "      <td>64.308756</td>\n",
       "      <td>61.475410</td>\n",
       "      <td>138.888889</td>\n",
       "      <td>77.215155</td>\n",
       "      <td>6715.386001</td>\n",
       "      <td>0.260972</td>\n",
       "      <td>...</td>\n",
       "      <td>66.080578</td>\n",
       "      <td>51.993068</td>\n",
       "      <td>180.722892</td>\n",
       "      <td>79.872997</td>\n",
       "      <td>48.470414</td>\n",
       "      <td>65.011598</td>\n",
       "      <td>53.475936</td>\n",
       "      <td>223.880597</td>\n",
       "      <td>82.741229</td>\n",
       "      <td>['NORM']</td>\n",
       "    </tr>\n",
       "    <tr>\n",
       "      <th>3</th>\n",
       "      <td>3</td>\n",
       "      <td>2.0</td>\n",
       "      <td>-1.0</td>\n",
       "      <td>3.937792</td>\n",
       "      <td>76.142622</td>\n",
       "      <td>68.649886</td>\n",
       "      <td>83.102493</td>\n",
       "      <td>75.315293</td>\n",
       "      <td>5687.899616</td>\n",
       "      <td>0.411491</td>\n",
       "      <td>...</td>\n",
       "      <td>74.074074</td>\n",
       "      <td>69.124424</td>\n",
       "      <td>82.417582</td>\n",
       "      <td>74.724755</td>\n",
       "      <td>3.361471</td>\n",
       "      <td>74.165750</td>\n",
       "      <td>68.181818</td>\n",
       "      <td>78.947368</td>\n",
       "      <td>74.100926</td>\n",
       "      <td>['NORM']</td>\n",
       "    </tr>\n",
       "    <tr>\n",
       "      <th>4</th>\n",
       "      <td>4</td>\n",
       "      <td>2.0</td>\n",
       "      <td>-1.0</td>\n",
       "      <td>3.568312</td>\n",
       "      <td>66.519174</td>\n",
       "      <td>60.975610</td>\n",
       "      <td>72.289157</td>\n",
       "      <td>66.474286</td>\n",
       "      <td>4431.563492</td>\n",
       "      <td>0.127395</td>\n",
       "      <td>...</td>\n",
       "      <td>65.288434</td>\n",
       "      <td>60.483871</td>\n",
       "      <td>73.170732</td>\n",
       "      <td>66.478167</td>\n",
       "      <td>3.622490</td>\n",
       "      <td>65.502183</td>\n",
       "      <td>62.761506</td>\n",
       "      <td>73.891626</td>\n",
       "      <td>66.544697</td>\n",
       "      <td>['NORM']</td>\n",
       "    </tr>\n",
       "    <tr>\n",
       "      <th>...</th>\n",
       "      <td>...</td>\n",
       "      <td>...</td>\n",
       "      <td>...</td>\n",
       "      <td>...</td>\n",
       "      <td>...</td>\n",
       "      <td>...</td>\n",
       "      <td>...</td>\n",
       "      <td>...</td>\n",
       "      <td>...</td>\n",
       "      <td>...</td>\n",
       "      <td>...</td>\n",
       "      <td>...</td>\n",
       "      <td>...</td>\n",
       "      <td>...</td>\n",
       "      <td>...</td>\n",
       "      <td>...</td>\n",
       "      <td>...</td>\n",
       "      <td>...</td>\n",
       "      <td>...</td>\n",
       "      <td>...</td>\n",
       "      <td>...</td>\n",
       "    </tr>\n",
       "    <tr>\n",
       "      <th>19603</th>\n",
       "      <td>19603</td>\n",
       "      <td>2.0</td>\n",
       "      <td>-1.0</td>\n",
       "      <td>10.235809</td>\n",
       "      <td>107.720275</td>\n",
       "      <td>85.714286</td>\n",
       "      <td>142.180095</td>\n",
       "      <td>108.752499</td>\n",
       "      <td>11931.877900</td>\n",
       "      <td>0.407431</td>\n",
       "      <td>...</td>\n",
       "      <td>106.382979</td>\n",
       "      <td>65.359477</td>\n",
       "      <td>135.135135</td>\n",
       "      <td>103.745420</td>\n",
       "      <td>16.437627</td>\n",
       "      <td>107.913669</td>\n",
       "      <td>67.264574</td>\n",
       "      <td>137.614679</td>\n",
       "      <td>104.168044</td>\n",
       "      <td>['NORM']</td>\n",
       "    </tr>\n",
       "    <tr>\n",
       "      <th>19604</th>\n",
       "      <td>19604</td>\n",
       "      <td>2.0</td>\n",
       "      <td>-1.0</td>\n",
       "      <td>4.089769</td>\n",
       "      <td>67.267618</td>\n",
       "      <td>65.789474</td>\n",
       "      <td>80.428954</td>\n",
       "      <td>68.441891</td>\n",
       "      <td>4701.018623</td>\n",
       "      <td>0.090460</td>\n",
       "      <td>...</td>\n",
       "      <td>67.114094</td>\n",
       "      <td>64.516129</td>\n",
       "      <td>68.807339</td>\n",
       "      <td>67.256308</td>\n",
       "      <td>2.235809</td>\n",
       "      <td>66.964286</td>\n",
       "      <td>62.761506</td>\n",
       "      <td>70.588235</td>\n",
       "      <td>66.989704</td>\n",
       "      <td>['CD']</td>\n",
       "    </tr>\n",
       "    <tr>\n",
       "      <th>19605</th>\n",
       "      <td>19605</td>\n",
       "      <td>2.0</td>\n",
       "      <td>-1.0</td>\n",
       "      <td>38.461356</td>\n",
       "      <td>81.146063</td>\n",
       "      <td>55.045872</td>\n",
       "      <td>171.428571</td>\n",
       "      <td>92.664642</td>\n",
       "      <td>10066.011663</td>\n",
       "      <td>0.308788</td>\n",
       "      <td>...</td>\n",
       "      <td>72.639225</td>\n",
       "      <td>54.644809</td>\n",
       "      <td>263.157895</td>\n",
       "      <td>102.831542</td>\n",
       "      <td>53.624632</td>\n",
       "      <td>75.566751</td>\n",
       "      <td>54.249548</td>\n",
       "      <td>196.078431</td>\n",
       "      <td>99.489230</td>\n",
       "      <td>['CD']</td>\n",
       "    </tr>\n",
       "    <tr>\n",
       "      <th>19606</th>\n",
       "      <td>19606</td>\n",
       "      <td>2.0</td>\n",
       "      <td>-1.0</td>\n",
       "      <td>10.795504</td>\n",
       "      <td>69.204981</td>\n",
       "      <td>58.027079</td>\n",
       "      <td>101.694915</td>\n",
       "      <td>71.262827</td>\n",
       "      <td>5194.933469</td>\n",
       "      <td>0.028010</td>\n",
       "      <td>...</td>\n",
       "      <td>68.181818</td>\n",
       "      <td>56.603774</td>\n",
       "      <td>105.263158</td>\n",
       "      <td>71.615786</td>\n",
       "      <td>11.696963</td>\n",
       "      <td>68.649886</td>\n",
       "      <td>58.708415</td>\n",
       "      <td>102.739726</td>\n",
       "      <td>71.375763</td>\n",
       "      <td>['CD', 'STTC', 'MI']</td>\n",
       "    </tr>\n",
       "    <tr>\n",
       "      <th>19607</th>\n",
       "      <td>19607</td>\n",
       "      <td>2.0</td>\n",
       "      <td>-1.0</td>\n",
       "      <td>0.576332</td>\n",
       "      <td>59.171598</td>\n",
       "      <td>58.252427</td>\n",
       "      <td>60.240964</td>\n",
       "      <td>59.203135</td>\n",
       "      <td>3505.343403</td>\n",
       "      <td>0.019503</td>\n",
       "      <td>...</td>\n",
       "      <td>59.057178</td>\n",
       "      <td>58.027079</td>\n",
       "      <td>62.370062</td>\n",
       "      <td>59.405972</td>\n",
       "      <td>2.733110</td>\n",
       "      <td>59.311703</td>\n",
       "      <td>55.658627</td>\n",
       "      <td>64.239829</td>\n",
       "      <td>59.266767</td>\n",
       "      <td>['STTC']</td>\n",
       "    </tr>\n",
       "  </tbody>\n",
       "</table>\n",
       "<p>19608 rows × 114 columns</p>\n",
       "</div>"
      ],
      "text/plain": [
       "       Unnamed: 0  gender  age   R HR STD  R HR median   R HR min    R HR max  \\\n",
       "0               0     2.0 -1.0  35.022173    64.242480  62.240664  178.571429   \n",
       "1               1     2.0 -1.0  23.360239    50.726668  43.795620  116.731518   \n",
       "2               2     2.0 -1.0  27.444595    64.308756  61.475410  138.888889   \n",
       "3               3     2.0 -1.0   3.937792    76.142622  68.649886   83.102493   \n",
       "4               4     2.0 -1.0   3.568312    66.519174  60.975610   72.289157   \n",
       "...           ...     ...  ...        ...          ...        ...         ...   \n",
       "19603       19603     2.0 -1.0  10.235809   107.720275  85.714286  142.180095   \n",
       "19604       19604     2.0 -1.0   4.089769    67.267618  65.789474   80.428954   \n",
       "19605       19605     2.0 -1.0  38.461356    81.146063  55.045872  171.428571   \n",
       "19606       19606     2.0 -1.0  10.795504    69.204981  58.027079  101.694915   \n",
       "19607       19607     2.0 -1.0   0.576332    59.171598  58.252427   60.240964   \n",
       "\n",
       "        R HR mean         RMSSD  R amp II std  ...  t_offset_median  \\\n",
       "0       78.968869   7462.634770      0.098937  ...        65.865579   \n",
       "1       60.291780   4180.799504      0.522686  ...        50.251256   \n",
       "2       77.215155   6715.386001      0.260972  ...        66.080578   \n",
       "3       75.315293   5687.899616      0.411491  ...        74.074074   \n",
       "4       66.474286   4431.563492      0.127395  ...        65.288434   \n",
       "...           ...           ...           ...  ...              ...   \n",
       "19603  108.752499  11931.877900      0.407431  ...       106.382979   \n",
       "19604   68.441891   4701.018623      0.090460  ...        67.114094   \n",
       "19605   92.664642  10066.011663      0.308788  ...        72.639225   \n",
       "19606   71.262827   5194.933469      0.028010  ...        68.181818   \n",
       "19607   59.203135   3505.343403      0.019503  ...        59.057178   \n",
       "\n",
       "       t_offset_min  t_offset_max  mean_t_offset  t_onsets_std  \\\n",
       "0         61.855670    288.461538      89.609104     61.288462   \n",
       "1         43.352601     97.719870      60.381687     21.792238   \n",
       "2         51.993068    180.722892      79.872997     48.470414   \n",
       "3         69.124424     82.417582      74.724755      3.361471   \n",
       "4         60.483871     73.170732      66.478167      3.622490   \n",
       "...             ...           ...            ...           ...   \n",
       "19603     65.359477    135.135135     103.745420     16.437627   \n",
       "19604     64.516129     68.807339      67.256308      2.235809   \n",
       "19605     54.644809    263.157895     102.831542     53.624632   \n",
       "19606     56.603774    105.263158      71.615786     11.696963   \n",
       "19607     58.027079     62.370062      59.405972      2.733110   \n",
       "\n",
       "       t_onsets_median  t_onsets_min  t_onsets_max  mean_t_onsets  \\\n",
       "0            65.077147     60.483871    270.270270      87.847241   \n",
       "1            48.701299     41.551247     97.719870      60.685624   \n",
       "2            65.011598     53.475936    223.880597      82.741229   \n",
       "3            74.165750     68.181818     78.947368      74.100926   \n",
       "4            65.502183     62.761506     73.891626      66.544697   \n",
       "...                ...           ...           ...            ...   \n",
       "19603       107.913669     67.264574    137.614679     104.168044   \n",
       "19604        66.964286     62.761506     70.588235      66.989704   \n",
       "19605        75.566751     54.249548    196.078431      99.489230   \n",
       "19606        68.649886     58.708415    102.739726      71.375763   \n",
       "19607        59.311703     55.658627     64.239829      59.266767   \n",
       "\n",
       "                     Labels  \n",
       "0                  ['NORM']  \n",
       "1                  ['NORM']  \n",
       "2                  ['NORM']  \n",
       "3                  ['NORM']  \n",
       "4                  ['NORM']  \n",
       "...                     ...  \n",
       "19603              ['NORM']  \n",
       "19604                ['CD']  \n",
       "19605                ['CD']  \n",
       "19606  ['CD', 'STTC', 'MI']  \n",
       "19607              ['STTC']  \n",
       "\n",
       "[19608 rows x 114 columns]"
      ]
     },
     "execution_count": 14,
     "metadata": {},
     "output_type": "execute_result"
    }
   ],
   "source": [
    "train_data"
   ]
  },
  {
   "cell_type": "code",
   "execution_count": 15,
   "metadata": {
    "colab": {
     "base_uri": "https://localhost:8080/"
    },
    "id": "r9KoawzlJG32",
    "outputId": "b364f5c5-a3ef-46d3-923d-00dfc061f863"
   },
   "outputs": [
    {
     "name": "stdout",
     "output_type": "stream",
     "text": [
      "(array([1021, 1021, 1021, 1021, 1021, 1021, 1021, 1021, 1021, 1021, 1021,\n",
      "       1021, 1021, 1021, 1021, 1021, 1021, 1021, 1021, 1021, 1021, 1597,\n",
      "       1597, 1597, 1597, 1597, 1597, 1597, 1597, 1597, 2030, 2030, 2030,\n",
      "       2030, 2030, 2030, 2030, 2030, 2030], dtype=int64), array([ 86,  87,  90,  91,  92,  93,  94,  95,  96,  97,  98,  99, 100,\n",
      "       101, 102, 103, 104, 107, 108, 109, 112,  86,  87,  90, 103, 104,\n",
      "       107, 108, 109, 112,  86,  87,  90, 103, 104, 107, 108, 109, 112],\n",
      "      dtype=int64))\n",
      "Int64Index([], dtype='int64')\n",
      "-------\n",
      "0\n",
      "1021\n",
      "86\n",
      "nan\n",
      "1\n",
      "-------\n",
      "1\n",
      "1021\n",
      "90\n",
      "nan\n",
      "2\n",
      "-------\n",
      "2\n",
      "1021\n",
      "92\n",
      "nan\n",
      "3\n",
      "-------\n",
      "3\n",
      "1021\n",
      "94\n",
      "nan\n",
      "4\n",
      "-------\n",
      "4\n",
      "1021\n",
      "96\n",
      "nan\n",
      "5\n",
      "-------\n",
      "5\n",
      "1021\n",
      "98\n",
      "nan\n",
      "6\n",
      "-------\n",
      "6\n",
      "1021\n",
      "100\n",
      "nan\n",
      "7\n",
      "-------\n",
      "7\n",
      "1021\n",
      "102\n",
      "nan\n",
      "8\n",
      "-------\n",
      "8\n",
      "1021\n",
      "104\n",
      "nan\n",
      "9\n",
      "-------\n",
      "9\n",
      "1021\n",
      "108\n",
      "nan\n",
      "10\n",
      "-------\n",
      "10\n",
      "1021\n",
      "112\n",
      "nan\n",
      "11\n",
      "-------\n",
      "11\n",
      "1021\n",
      "87\n",
      "nan\n",
      "12\n",
      "-------\n",
      "12\n",
      "1021\n",
      "103\n",
      "nan\n",
      "13\n",
      "-------\n",
      "13\n",
      "1021\n",
      "107\n",
      "nan\n",
      "14\n",
      "-------\n",
      "14\n",
      "1021\n",
      "109\n",
      "nan\n",
      "15\n",
      "-------\n",
      "15\n",
      "1021\n",
      "86\n",
      "14.939227040749353\n",
      "16\n",
      "-------\n",
      "16\n",
      "1021\n",
      "87\n",
      "75.01747710530589\n",
      "17\n",
      "-------\n",
      "17\n",
      "1021\n",
      "90\n",
      "78.94823922112606\n",
      "18\n",
      "-------\n",
      "18\n",
      "1021\n",
      "103\n",
      "15.988065782919795\n",
      "19\n",
      "-------\n",
      "19\n",
      "1021\n",
      "104\n",
      "75.08083513696856\n",
      "20\n",
      "-------\n",
      "20\n",
      "1021\n",
      "107\n",
      "79.26914674133708\n",
      "21\n",
      "-------\n",
      "21\n",
      "1597\n",
      "108\n",
      "nan\n",
      "22\n",
      "-------\n",
      "22\n",
      "1597\n",
      "112\n",
      "nan\n",
      "23\n",
      "-------\n",
      "23\n",
      "1597\n",
      "-------\n",
      "0\n",
      "1021\n",
      "91\n",
      "nan\n",
      "24\n",
      "-------\n",
      "1\n",
      "1021\n",
      "95\n",
      "nan\n",
      "25\n",
      "-------\n",
      "2\n",
      "1021\n",
      "99\n",
      "nan\n",
      "26\n",
      "-------\n",
      "3\n",
      "1021\n",
      "86\n",
      "14.939227040749355\n",
      "27\n",
      "-------\n",
      "4\n",
      "1021\n",
      "87\n",
      "75.01747710530589\n",
      "28\n",
      "-------\n",
      "5\n",
      "1021\n",
      "90\n",
      "78.94823922112606\n",
      "29\n",
      "-------\n",
      "6\n",
      "1597\n",
      "103\n",
      "nan\n",
      "30\n",
      "-------\n",
      "7\n",
      "1597\n",
      "107\n",
      "nan\n",
      "31\n",
      "-------\n",
      "8\n",
      "1597\n",
      "86\n",
      "nan\n",
      "32\n",
      "-------\n",
      "9\n",
      "1597\n",
      "90\n",
      "nan\n",
      "33\n",
      "-------\n",
      "10\n",
      "1597\n",
      "104\n",
      "nan\n",
      "34\n",
      "-------\n",
      "11\n",
      "1597\n",
      "108\n",
      "16.928863236802357\n",
      "35\n",
      "-------\n",
      "12\n",
      "1597\n",
      "109\n",
      "nan\n",
      "36\n",
      "-------\n",
      "13\n",
      "2030\n",
      "-------\n",
      "0\n",
      "1021\n",
      "93\n",
      "nan\n",
      "37\n",
      "-------\n",
      "1\n",
      "1021\n",
      "101\n",
      "nan\n",
      "38\n",
      "-------\n",
      "2\n",
      "1021\n",
      "86\n",
      "14.939227040749355\n",
      "39\n",
      "-------\n",
      "3\n",
      "1597\n",
      "87\n",
      "nan\n",
      "40\n",
      "-------\n",
      "4\n",
      "2030\n",
      "103\n",
      "nan\n",
      "41\n",
      "-------\n",
      "5\n",
      "2030\n",
      "107\n",
      "nan\n",
      "42\n",
      "-------\n",
      "6\n",
      "2030\n",
      "109\n",
      "nan\n",
      "43\n",
      "-------\n",
      "7\n",
      "2030\n",
      "-------\n",
      "0\n",
      "1021\n",
      "97\n",
      "nan\n",
      "44\n",
      "-------\n",
      "1\n",
      "2030\n",
      "87\n",
      "nan\n",
      "45\n",
      "-------\n",
      "2\n",
      "2030\n",
      "104\n",
      "nan\n",
      "46\n",
      "-------\n",
      "3\n",
      "2030\n",
      "112\n",
      "nan\n",
      "47\n",
      "-------\n",
      "4\n",
      "2030\n",
      "-------\n",
      "0\n",
      "2030\n",
      "86\n",
      "nan\n",
      "48\n",
      "-------\n",
      "1\n",
      "2030\n",
      "108\n",
      "nan\n",
      "49\n",
      "-------\n",
      "2\n",
      "2030\n",
      "-------\n",
      "0\n",
      "2030\n",
      "90\n",
      "nan\n",
      "50\n",
      "(array([  281,   281,   281,   281,   281,   281,   281,   281,   281,\n",
      "         281,   281,   281,   281,   281,   281,   281,   281,   281,\n",
      "         281,   281,   281,   477,   477,   477,   477,   477,   477,\n",
      "         477,   477,   477,   477,   477,   477,   477,   477,   477,\n",
      "         477,   477,   477,   477,   477,   477,  3294,  3294,  3294,\n",
      "        3294,  3294,  3294,  3294,  3294,  3294,  3294,  3294,  3294,\n",
      "        3294,  3294,  3294,  3294,  3294,  3294,  3294,  3294,  3294,\n",
      "        3298,  3298,  3298,  3298,  3298,  3298,  3298,  3298,  3298,\n",
      "        3299,  3299,  3299,  3299,  3299,  3299,  3299,  3299,  3299,\n",
      "        3546,  3546,  3546,  3546,  3546,  3546,  3546,  3546,  3546,\n",
      "        3546,  3546,  3546,  3546,  3546,  3546,  3546,  3546,  3546,\n",
      "        3546,  3546,  3546,  4141,  4141,  4141,  4141,  4141,  4141,\n",
      "        4141,  4141,  4141,  5882,  5882,  5882,  5882,  5882,  5882,\n",
      "        5882,  5882,  5882,  5882,  5882,  5882,  5882,  5882,  5882,\n",
      "        5882,  5882,  5882,  5882,  5882,  5882,  5907,  5907,  5907,\n",
      "        6061,  6061,  6061,  6061,  6061,  6061,  6061,  6061,  6061,\n",
      "        6086,  6086,  6086,  6086,  6086,  6086,  6086,  6086,  6086,\n",
      "        6086,  6086,  6086,  6086,  6086,  6086,  6086,  6086,  6086,\n",
      "        6086,  6086,  6086,  6374,  6374,  6374,  6374,  6374,  6374,\n",
      "        6374,  6374,  6374,  6374,  6374,  6374,  6374,  6374,  6374,\n",
      "        6374,  6374,  6374,  6374,  6374,  6374,  6571,  6571,  6571,\n",
      "        6571,  6571,  6571,  6571,  6571,  6571,  6571,  6571,  6571,\n",
      "        6571,  6571,  6571,  6571,  6571,  6571,  6571,  6571,  6571,\n",
      "        6614,  6614,  6614,  6619,  6619,  6619,  6619,  6619,  6619,\n",
      "        6619,  6619,  6619,  6619,  6619,  6619,  6619,  6619,  6619,\n",
      "        6619,  6619,  6619,  6619,  6619,  6619,  6983,  6983,  6983,\n",
      "        6983,  6983,  6983,  6983,  6983,  6983,  7449,  7449,  7449,\n",
      "        7449,  7449,  7449,  7449,  7449,  7449,  7449,  7449,  7449,\n",
      "        7449,  7449,  7449,  7449,  7449,  7449,  7449,  7449,  7449,\n",
      "        7918,  7918,  7918,  7918,  7918,  7918,  7918,  7918,  7918,\n",
      "        7930,  7930,  7930,  7930,  7930,  7930,  7930,  7930,  7930,\n",
      "        7930,  7930,  7930,  7930,  7930,  7930,  7930,  7930,  7930,\n",
      "        7930,  7930,  7930,  7948,  7948,  7948,  7948,  7948,  7948,\n",
      "        7948,  7948,  7948,  9056,  9056,  9056,  9056,  9056,  9056,\n",
      "        9056,  9056,  9056,  9133,  9133,  9133,  9133,  9133,  9133,\n",
      "        9133,  9133,  9133,  9133,  9133,  9133,  9133,  9133,  9133,\n",
      "        9133,  9133,  9133,  9133,  9133,  9133,  9419,  9419,  9419,\n",
      "        9419,  9419,  9419,  9419,  9419,  9419, 10924, 11111, 11111,\n",
      "       11111, 11111, 11111, 11111, 11111, 11111, 11111, 11111, 11111,\n",
      "       11111, 11111, 11111, 11111, 11111, 11111, 11111, 11111, 11111,\n",
      "       11111, 11473, 11473, 11473, 11473, 11473, 11473, 11473, 11473,\n",
      "       11473, 13636, 13636, 13636, 13925, 13925, 13925, 13925, 13925,\n",
      "       13925, 13925, 13925, 13925, 13925, 13925, 13925, 13925, 13925,\n",
      "       13925, 13925, 13925, 13925, 13925, 13925, 13925, 14354, 14354,\n",
      "       14354, 14354, 14354, 14354, 14354, 14354, 14354, 14354, 14354,\n",
      "       14354, 14354, 14354, 14354, 14354, 14354, 14354, 14354, 14354,\n",
      "       14354, 14463, 14463, 14463, 14463, 14463, 14463, 14463, 14463,\n",
      "       14463, 14532, 14532, 14532, 14532, 14532, 14532, 14532, 14532,\n",
      "       14532, 14654, 14654, 14654, 14654, 14654, 14654, 14654, 14654,\n",
      "       14654, 14654, 14654, 14654, 14654, 14654, 14654, 14654, 14654,\n",
      "       14654, 14654, 14654, 14654, 15773, 15773, 15773, 15773, 15773,\n",
      "       15773, 15773, 15773, 15773, 15773, 15773, 15773, 15773, 15773,\n",
      "       15773, 15773, 15773, 15773, 15773, 15773, 15773, 15945, 15945,\n",
      "       15945, 16463, 16463, 16463, 16463, 16463, 16463, 16463, 16463,\n",
      "       16463, 16463, 16463, 16463, 16463, 16463, 16463, 16463, 16463,\n",
      "       16463, 16463, 16463, 16463, 17300, 17378, 17378, 17378, 17378,\n",
      "       17378, 17378, 17378, 17378, 17378, 17378, 17378, 17378, 17378,\n",
      "       17378, 17378, 17378, 17378, 17378, 17378, 17378, 17378, 17384,\n",
      "       17384, 17384, 17384, 17384, 17384, 17384, 17384, 17384, 18000,\n",
      "       18000, 18000, 18355, 18355, 18355, 18355, 18355, 18355, 18355,\n",
      "       18355, 18355, 18355, 18355, 18355, 18355, 18355, 18355, 18355,\n",
      "       18355, 18355, 18355, 18355, 18355, 18692, 18804, 18804, 18804,\n",
      "       18804, 18804, 18804, 18804, 18804, 18804, 18935, 18935, 18935,\n",
      "       19360, 19360, 19360, 19360, 19360, 19360, 19360, 19360, 19360,\n",
      "       19360, 19360, 19360, 19360, 19360, 19360, 19360, 19360, 19360,\n",
      "       19360, 19360, 19360], dtype=int64), array([ 86,  87,  90,  91,  92,  93,  94,  95,  96,  97,  98,  99, 100,\n",
      "       101, 102, 103, 104, 107, 108, 109, 112,  86,  87,  90,  91,  92,\n",
      "        93,  94,  95,  96,  97,  98,  99, 100, 101, 102, 103, 104, 107,\n",
      "       108, 109, 112,  86,  87,  90,  91,  92,  93,  94,  95,  96,  97,\n",
      "        98,  99, 100, 101, 102, 103, 104, 107, 108, 109, 112,  86,  87,\n",
      "        90, 103, 104, 107, 108, 109, 112,  86,  87,  90, 103, 104, 107,\n",
      "       108, 109, 112,  86,  87,  90,  91,  92,  93,  94,  95,  96,  97,\n",
      "        98,  99, 100, 101, 102, 103, 104, 107, 108, 109, 112,  86,  87,\n",
      "        90, 103, 104, 107, 108, 109, 112,  86,  87,  90,  91,  92,  93,\n",
      "        94,  95,  96,  97,  98,  99, 100, 101, 102, 103, 104, 107, 108,\n",
      "       109, 112,  86, 103, 108,  86,  87,  90, 103, 104, 107, 108, 109,\n",
      "       112,  86,  87,  90,  91,  92,  93,  94,  95,  96,  97,  98,  99,\n",
      "       100, 101, 102, 103, 104, 107, 108, 109, 112,  86,  87,  90,  91,\n",
      "        92,  93,  94,  95,  96,  97,  98,  99, 100, 101, 102, 103, 104,\n",
      "       107, 108, 109, 112,  86,  87,  90,  91,  92,  93,  94,  95,  96,\n",
      "        97,  98,  99, 100, 101, 102, 103, 104, 107, 108, 109, 112,  86,\n",
      "       103, 108,  86,  87,  90,  91,  92,  93,  94,  95,  96,  97,  98,\n",
      "        99, 100, 101, 102, 103, 104, 107, 108, 109, 112,  86,  87,  90,\n",
      "       103, 104, 107, 108, 109, 112,  86,  87,  90,  91,  92,  93,  94,\n",
      "        95,  96,  97,  98,  99, 100, 101, 102, 103, 104, 107, 108, 109,\n",
      "       112,  86,  87,  90, 103, 104, 107, 108, 109, 112,  86,  87,  90,\n",
      "        91,  92,  93,  94,  95,  96,  97,  98,  99, 100, 101, 102, 103,\n",
      "       104, 107, 108, 109, 112,  86,  87,  90, 103, 104, 107, 108, 109,\n",
      "       112,  86,  87,  90, 103, 104, 107, 108, 109, 112,  86,  87,  90,\n",
      "        91,  92,  93,  94,  95,  96,  97,  98,  99, 100, 101, 102, 103,\n",
      "       104, 107, 108, 109, 112,  86,  87,  90, 103, 104, 107, 108, 109,\n",
      "       112,  69,  86,  87,  90,  91,  92,  93,  94,  95,  96,  97,  98,\n",
      "        99, 100, 101, 102, 103, 104, 107, 108, 109, 112,  86,  87,  90,\n",
      "       103, 104, 107, 108, 109, 112,  86, 103, 108,  86,  87,  90,  91,\n",
      "        92,  93,  94,  95,  96,  97,  98,  99, 100, 101, 102, 103, 104,\n",
      "       107, 108, 109, 112,  86,  87,  90,  91,  92,  93,  94,  95,  96,\n",
      "        97,  98,  99, 100, 101, 102, 103, 104, 107, 108, 109, 112,  86,\n",
      "        87,  90, 103, 104, 107, 108, 109, 112,  86,  87,  90, 103, 104,\n",
      "       107, 108, 109, 112,  86,  87,  90,  91,  92,  93,  94,  95,  96,\n",
      "        97,  98,  99, 100, 101, 102, 103, 104, 107, 108, 109, 112,  86,\n",
      "        87,  90,  91,  92,  93,  94,  95,  96,  97,  98,  99, 100, 101,\n",
      "       102, 103, 104, 107, 108, 109, 112,  86, 103, 108,  86,  87,  90,\n",
      "        91,  92,  93,  94,  95,  96,  97,  98,  99, 100, 101, 102, 103,\n",
      "       104, 107, 108, 109, 112,  69,  86,  87,  90,  91,  92,  93,  94,\n",
      "        95,  96,  97,  98,  99, 100, 101, 102, 103, 104, 107, 108, 109,\n",
      "       112,  86,  87,  90, 103, 104, 107, 108, 109, 112,  86, 103, 108,\n",
      "        86,  87,  90,  91,  92,  93,  94,  95,  96,  97,  98,  99, 100,\n",
      "       101, 102, 103, 104, 107, 108, 109, 112,  69,  86,  87,  90, 103,\n",
      "       104, 107, 108, 109, 112,  86, 103, 108,  86,  87,  90,  91,  92,\n",
      "        93,  94,  95,  96,  97,  98,  99, 100, 101, 102, 103, 104, 107,\n",
      "       108, 109, 112], dtype=int64))\n"
     ]
    },
    {
     "name": "stdout",
     "output_type": "stream",
     "text": [
      "Int64Index([5907, 6614, 10924, 13636, 15945, 17300, 18000, 18692, 18935], dtype='int64')\n",
      "(array([], dtype=int64), array([], dtype=int64))\n",
      "Int64Index([], dtype='int64')\n",
      "(19564, 114)\n"
     ]
    }
   ],
   "source": [
    "# Preprocessing\n",
    "print(np.where(test_data.iloc[:,:-1].isna()))\n",
    "print(test_data.index[np.isinf(test_data.iloc[:,:-1]).any(1)])\n",
    "#print(test_data.columns.to_series()[np.isinf(test_data.iloc[:,:-1]).any()])\n",
    "\n",
    "count = 0\n",
    "while len(np.where(test_data.iloc[:,:-1].isna())[1]) != 0:\n",
    "    try:\n",
    "        for i,j in enumerate(np.where(test_data.iloc[:,:-1].isna())[0]):\n",
    "            print(\"-------\")\n",
    "            print(i)\n",
    "            print(j)\n",
    "            print(np.where(test_data.iloc[:,:-1].isna())[1][i])\n",
    "            print(test_data.iloc[j,np.where(test_data.iloc[:,:-1].isna())[1][i]])\n",
    "            test_data.iloc[j,np.where(test_data.iloc[:,:-1].isna())[1][i]] = test_data.iloc[:,np.where(test_data.iloc[:,:-1].isna())[1][i]].mean()\n",
    "            count = count + 1\n",
    "            print(count)\n",
    "    except:\n",
    "        continue\n",
    "        \n",
    "print(np.where(train_data.iloc[:,:-1].isna()))\n",
    "print(train_data.index[np.isinf(train_data.iloc[:,:-1]).any(1)])\n",
    "#print(data.columns.to_series()[np.isinf(data.iloc[:,:-1]).any()])\n",
    "\n",
    "train_data = train_data.dropna()\n",
    "\n",
    "print(np.where(train_data.iloc[:,1:-1].isna()))\n",
    "print(train_data.index[np.isinf(train_data.iloc[:,1:-1]).any(1)])\n",
    "#print(data.columns.to_series()[np.isinf(data.iloc[:,1:-1]).any()])\n",
    "\n",
    "print(train_data.shape)"
   ]
  },
  {
   "cell_type": "code",
   "execution_count": 16,
   "metadata": {
    "id": "bGlAZ_wX0oOC"
   },
   "outputs": [],
   "source": [
    "y_train = train_data['Labels'].str.lstrip(\"'[\").str.rstrip(\"]'\").str.replace(\"'\", \"\").str.replace(\" \", \"\")"
   ]
  },
  {
   "cell_type": "code",
   "execution_count": 17,
   "metadata": {
    "id": "83Iu2S0U27gS"
   },
   "outputs": [],
   "source": [
    "y_test = test_data['Labels'].str.lstrip(\"'[\").str.rstrip(\"]'\").str.replace(\"'\", \"\").str.replace(\" \", \"\")"
   ]
  },
  {
   "cell_type": "code",
   "execution_count": 18,
   "metadata": {
    "id": "ojVmjNoT0zh4"
   },
   "outputs": [],
   "source": [
    "X_train = train_data.iloc[:,1:-1]"
   ]
  },
  {
   "cell_type": "code",
   "execution_count": 19,
   "metadata": {
    "id": "O8roFa289ZWg"
   },
   "outputs": [],
   "source": [
    "X_test = test_data.iloc[:,1:-1]"
   ]
  },
  {
   "cell_type": "code",
   "execution_count": 20,
   "metadata": {
    "colab": {
     "base_uri": "https://localhost:8080/"
    },
    "id": "CMhw16gYR_6W",
    "outputId": "f77fd450-feb8-481e-c27c-c51388ab110e"
   },
   "outputs": [
    {
     "name": "stdout",
     "output_type": "stream",
     "text": [
      "['' 'CD' 'HYP' 'MI' 'NORM' 'STTC']\n",
      "classes: 6\n"
     ]
    }
   ],
   "source": [
    "from sklearn.preprocessing import MultiLabelBinarizer\n",
    "one_hot = MultiLabelBinarizer()\n",
    "y_train_ohe=one_hot.fit_transform(y_train.str.split(','))\n",
    "print(one_hot.classes_)\n",
    "print(\"classes: {}\".format(y_train_ohe.shape[1]))"
   ]
  },
  {
   "cell_type": "code",
   "execution_count": 21,
   "metadata": {
    "colab": {
     "base_uri": "https://localhost:8080/"
    },
    "id": "86Vaonew3KzW",
    "outputId": "c0131b59-0214-46ea-b2cf-0f93965cc80a"
   },
   "outputs": [
    {
     "name": "stdout",
     "output_type": "stream",
     "text": [
      "classes: 6\n"
     ]
    }
   ],
   "source": [
    "y_test_ohe = one_hot.transform(y_test.str.split(','))\n",
    "print(\"classes: {}\".format(y_test_ohe.shape[1]))"
   ]
  },
  {
   "cell_type": "code",
   "execution_count": 22,
   "metadata": {
    "id": "8qqSZQIN5Kpi"
   },
   "outputs": [],
   "source": [
    "y_test_ohe = np.delete(y_test_ohe, 0, axis=1)"
   ]
  },
  {
   "cell_type": "code",
   "execution_count": 23,
   "metadata": {
    "id": "jMyjZJIz3ct7"
   },
   "outputs": [],
   "source": [
    "y_train_ohe = np.delete(y_train_ohe, 0, axis=1)"
   ]
  },
  {
   "cell_type": "code",
   "execution_count": 28,
   "metadata": {
    "colab": {
     "base_uri": "https://localhost:8080/",
     "height": 999
    },
    "id": "NcPM_5pA3mPX",
    "outputId": "13c20450-ac52-488f-f6e8-b8c9f0731eb9"
   },
   "outputs": [
    {
     "data": {
      "image/png": "[encoded data removed]",
      "text/plain": [
       "<Figure size 1440x1152 with 1 Axes>"
      ]
     },
     "metadata": {
      "needs_background": "light"
     },
     "output_type": "display_data"
    }
   ],
   "source": [
    "plot.plot_classes(one_hot.classes_[1:],y_train_ohe, plot_name = \"distribution_training\")"
   ]
  },
  {
   "cell_type": "code",
   "execution_count": 30,
   "metadata": {
    "colab": {
     "base_uri": "https://localhost:8080/",
     "height": 999
    },
    "id": "aynBBGml4Tyb",
    "outputId": "ae5d6add-9e25-4b90-a98b-63582612df40"
   },
   "outputs": [
    {
     "data": {
      "image/png": "[encoded data removed]",
      "text/plain": [
       "<Figure size 1440x1152 with 1 Axes>"
      ]
     },
     "metadata": {
      "needs_background": "light"
     },
     "output_type": "display_data"
    }
   ],
   "source": [
    "plot.plot_classes(one_hot.classes_[1:],y_test_ohe,plot_name = \"distribution_test\")"
   ]
  },
  {
   "cell_type": "code",
   "execution_count": 33,
   "metadata": {
    "colab": {
     "base_uri": "https://localhost:8080/"
    },
    "id": "Yaom7G8A5euX",
    "outputId": "4c73a442-0198-472d-bf7a-36be75be5ca0"
   },
   "outputs": [
    {
     "name": "stdout",
     "output_type": "stream",
     "text": [
      "Total number of unique combinations of diagnosis: 22\n"
     ]
    }
   ],
   "source": [
    "y_train_ = ECG_processing.get_new_labels(y_train_ohe)\n",
    "print(\"Total number of unique combinations of diagnosis: {}\".format(len(np.unique(y_train_))))"
   ]
  },
  {
   "cell_type": "code",
   "execution_count": 34,
   "metadata": {
    "colab": {
     "base_uri": "https://localhost:8080/"
    },
    "id": "FSDzwTrM5i2o",
    "outputId": "2187f476-fe2b-4c8c-a450-fac4f8c84123"
   },
   "outputs": [
    {
     "name": "stdout",
     "output_type": "stream",
     "text": [
      "Total number of unique combinations of diagnosis: 20\n"
     ]
    }
   ],
   "source": [
    "y_test_ = ECG_processing.get_new_labels(y_test_ohe)\n",
    "print(\"Total number of unique combinations of diagnosis: {}\".format(len(np.unique(y_test_))))"
   ]
  },
  {
   "cell_type": "code",
   "execution_count": 35,
   "metadata": {
    "colab": {
     "base_uri": "https://localhost:8080/"
    },
    "id": "9yJP7EnM5n9l",
    "outputId": "c92e53ae-5e17-46f5-c486-e1465eea35c1"
   },
   "outputs": [
    {
     "name": "stdout",
     "output_type": "stream",
     "text": [
      "Training split: 17607\n",
      "Validation split: 1957\n"
     ]
    }
   ],
   "source": [
    "from sklearn.model_selection import StratifiedKFold\n",
    "folds = list(StratifiedKFold(n_splits=10, shuffle=True, random_state=42).split(y_train_ohe,y_train_))\n",
    "print(\"Training split: {}\".format(len(folds[0][0])))\n",
    "print(\"Validation split: {}\".format(len(folds[0][1])))"
   ]
  },
  {
   "cell_type": "code",
   "execution_count": 36,
   "metadata": {},
   "outputs": [],
   "source": [
    "def mlp_clf(input_dim, output_dim, lr = 0.01, hidden_units = 100, n_hidden_l = 1 ,activation_hidden=\"relu\", bias_init=\"zeros\", weigth_init=\"RandomNormal\"):\n",
    "    model = tf.keras.Sequential()\n",
    "    model.add(tf.keras.layers.Dense(hidden_units, input_dim=input_dim, activation=activation_hidden, use_bias=True,bias_initializer=bias_init, kernel_initializer= weigth_init))\n",
    "    for i in range(n_hidden_l):\n",
    "        model.add(tf.keras.layers.Dense(hidden_units, activation=activation_hidden))\n",
    "    model.add(tf.keras.layers.Dense(output_dim, activation='sigmoid'))\n",
    "    model.compile(loss=tf.keras.losses.binary_crossentropy, optimizer=tf.keras.optimizers.SGD(learning_rate = lr), metrics=[\"accuracy\",\"AUC\"])\n",
    "    return model"
   ]
  },
  {
   "cell_type": "code",
   "execution_count": 37,
   "metadata": {
    "id": "9S7zZAQ0eZTY"
   },
   "outputs": [],
   "source": [
    "from sklearn.neural_network import MLPClassifier\n",
    "from sklearn.datasets import make_classification\n",
    "model = MLPClassifier(solver='adam', alpha=0.0001, hidden_layer_sizes=(200,200,200,200,200), verbose=1, max_iter=10, batch_size=100, learning_rate='adaptive', activation='relu',learning_rate_init=0.0001)"
   ]
  },
  {
   "cell_type": "code",
   "execution_count": 40,
   "metadata": {
    "id": "hVgcyu6XlciB"
   },
   "outputs": [],
   "source": [
    "import kerastuner\n",
    "from kerastuner import HyperModel\n",
    "import tensorflow as tf\n",
    "from tensorflow.keras import regularizers\n",
    "\n",
    "\n",
    "class HyperModel(HyperModel):\n",
    "    def __init__(self, input_shape, num_classes):\n",
    "        self.input_shape = input_shape\n",
    "        self.num_classes = num_classes\n",
    "\n",
    "    def build(self, hp):\n",
    "        model = tf.keras.Sequential()\n",
    "        model.add(tf.keras.layers.Dense(units=hp.Int('unit_0', 50, 500, step=50, default=100), input_dim=112,activation=hp.Choice('act_0', values=['relu', 'elu', 'selu'], default='relu')))\n",
    "        for i in range(hp.Int('number_of_layers',1,10,step=1, default=5)):\n",
    "            model.add(tf.keras.layers.Dense(units=hp.Int('unit_{}'.format(i+1), 50, 500, step=50, default=100), activation=hp.Choice('act_{}'.format(i+1), values=['relu', 'elu', 'selu'], default='relu')))\n",
    "\n",
    "        model.add(tf.keras.layers.Dense(5, activation='sigmoid'))\n",
    "        model.compile(loss=tf.keras.losses.binary_crossentropy, optimizer=tf.keras.optimizers.SGD(learning_rate = hp.Choice('learning_rate', values=[0.00001, 0.0001, 0.001, 0.01, 0.1], default=0.001)), metrics=[\"accuracy\",\"AUC\"])\n",
    "        return model"
   ]
  },
  {
   "cell_type": "code",
   "execution_count": 41,
   "metadata": {
    "id": "_4zOmgaEocdr"
   },
   "outputs": [],
   "source": [
    "class MyTuner(kerastuner.tuners.BayesianOptimization):\n",
    "    def run_trial(self, trial, *args, **kwargs):\n",
    "        # You can add additional HyperParameters for preprocessing and custom training loops\n",
    "        # via overriding `run_trial`\n",
    "        kwargs['batch_size'] = trial.hyperparameters.Int('batch_size', 10, 100, step=10)\n",
    "        kwargs['epochs'] = trial.hyperparameters.Int('epochs', 10, 100, step=10)\n",
    "        super(MyTuner, self).run_trial(trial, *args, **kwargs)"
   ]
  },
  {
   "cell_type": "code",
   "execution_count": null,
   "metadata": {
    "id": "rho7lNhxoiR3"
   },
   "outputs": [],
   "source": [
    "from kerastuner.tuners import BayesianOptimization\n",
    "\n",
    "NUM_CLASSES = one_hot.classes_[1:]\n",
    "INPUT_SHAPE = 112  \n",
    "SEED = 42\n",
    "MAX_TRIALS = 50\n",
    "EXECUTION_PER_TRIAL = 3\n",
    "\n",
    "hypermodel = HyperModel(input_shape=INPUT_SHAPE, num_classes=NUM_CLASSES)\n",
    "\n",
    "tuner = MyTuner(\n",
    "    hypermodel,\n",
    "    objective='val_accuracy',\n",
    "    seed=SEED,\n",
    "    max_trials=MAX_TRIALS,\n",
    "    executions_per_trial=EXECUTION_PER_TRIAL,\n",
    "    directory='drive/My Drive/logs/fysstk_oblig',\n",
    "    project_name='ECGopt11',\n",
    ")"
   ]
  },
  {
   "cell_type": "code",
   "execution_count": null,
   "metadata": {
    "id": "6H1sAbNEqE03"
   },
   "outputs": [],
   "source": [
    "scaler = StandardScaler()\n",
    "scaler.fit(X_train)\n",
    "X_train_scaled = scaler.transform(X_train)"
   ]
  },
  {
   "cell_type": "code",
   "execution_count": null,
   "metadata": {
    "colab": {
     "base_uri": "https://localhost:8080/",
     "height": 1000
    },
    "id": "WBC9zUS3qAKr",
    "outputId": "cfdb656c-d3c8-430c-f8c5-6666a914000c"
   },
   "outputs": [
    {
     "name": "stdout",
     "output_type": "stream",
     "text": [
      "Epoch 1/10\n",
      "157/157 [==============================] - 1s 5ms/step - loss: 0.6828 - accuracy: 0.2192 - auc: 0.4568 - val_loss: 0.6841 - val_accuracy: 0.2245 - val_auc: 0.4736\n",
      "Epoch 2/10\n",
      "157/157 [==============================] - 0s 3ms/step - loss: 0.6823 - accuracy: 0.2198 - auc: 0.4577 - val_loss: 0.6837 - val_accuracy: 0.2245 - val_auc: 0.4745\n",
      "Epoch 3/10\n",
      "157/157 [==============================] - 0s 3ms/step - loss: 0.6818 - accuracy: 0.2204 - auc: 0.4584 - val_loss: 0.6832 - val_accuracy: 0.2245 - val_auc: 0.4747\n",
      "Epoch 4/10\n",
      "157/157 [==============================] - 0s 3ms/step - loss: 0.6813 - accuracy: 0.2217 - auc: 0.4591 - val_loss: 0.6828 - val_accuracy: 0.2245 - val_auc: 0.4748\n",
      "Epoch 5/10\n",
      "157/157 [==============================] - 0s 3ms/step - loss: 0.6809 - accuracy: 0.2224 - auc: 0.4596 - val_loss: 0.6824 - val_accuracy: 0.2194 - val_auc: 0.4749\n",
      "Epoch 6/10\n",
      "157/157 [==============================] - 0s 3ms/step - loss: 0.6804 - accuracy: 0.2224 - auc: 0.4608 - val_loss: 0.6820 - val_accuracy: 0.2194 - val_auc: 0.4758\n",
      "Epoch 7/10\n",
      "157/157 [==============================] - 0s 3ms/step - loss: 0.6799 - accuracy: 0.2217 - auc: 0.4619 - val_loss: 0.6816 - val_accuracy: 0.2219 - val_auc: 0.4765\n",
      "Epoch 8/10\n",
      "157/157 [==============================] - 0s 3ms/step - loss: 0.6794 - accuracy: 0.2217 - auc: 0.4626 - val_loss: 0.6812 - val_accuracy: 0.2219 - val_auc: 0.4763\n",
      "Epoch 9/10\n",
      "157/157 [==============================] - 0s 3ms/step - loss: 0.6789 - accuracy: 0.2224 - auc: 0.4632 - val_loss: 0.6808 - val_accuracy: 0.2219 - val_auc: 0.4770\n",
      "Epoch 10/10\n",
      "157/157 [==============================] - 0s 3ms/step - loss: 0.6784 - accuracy: 0.2211 - auc: 0.4639 - val_loss: 0.6804 - val_accuracy: 0.2219 - val_auc: 0.4776\n",
      "Epoch 1/10\n",
      "157/157 [==============================] - 1s 5ms/step - loss: 0.6956 - accuracy: 0.2345 - auc: 0.4976 - val_loss: 0.6950 - val_accuracy: 0.2628 - val_auc: 0.5165\n",
      "Epoch 2/10\n",
      "157/157 [==============================] - 0s 3ms/step - loss: 0.6949 - accuracy: 0.2345 - auc: 0.4981 - val_loss: 0.6944 - val_accuracy: 0.2628 - val_auc: 0.5166\n",
      "Epoch 3/10\n",
      "157/157 [==============================] - 0s 3ms/step - loss: 0.6942 - accuracy: 0.2345 - auc: 0.4985 - val_loss: 0.6938 - val_accuracy: 0.2628 - val_auc: 0.5169\n",
      "Epoch 4/10\n",
      "157/157 [==============================] - 0s 3ms/step - loss: 0.6935 - accuracy: 0.2332 - auc: 0.4992 - val_loss: 0.6932 - val_accuracy: 0.2628 - val_auc: 0.5171\n",
      "Epoch 5/10\n",
      "157/157 [==============================] - 0s 3ms/step - loss: 0.6928 - accuracy: 0.2332 - auc: 0.5000 - val_loss: 0.6926 - val_accuracy: 0.2628 - val_auc: 0.5174\n",
      "Epoch 6/10\n",
      "157/157 [==============================] - 0s 3ms/step - loss: 0.6922 - accuracy: 0.2332 - auc: 0.5006 - val_loss: 0.6920 - val_accuracy: 0.2628 - val_auc: 0.5178\n",
      "Epoch 7/10\n",
      "157/157 [==============================] - 0s 3ms/step - loss: 0.6915 - accuracy: 0.2332 - auc: 0.5009 - val_loss: 0.6914 - val_accuracy: 0.2628 - val_auc: 0.5187\n",
      "Epoch 8/10\n",
      "157/157 [==============================] - 0s 3ms/step - loss: 0.6908 - accuracy: 0.2332 - auc: 0.5014 - val_loss: 0.6908 - val_accuracy: 0.2628 - val_auc: 0.5193\n",
      "Epoch 9/10\n",
      "157/157 [==============================] - 0s 3ms/step - loss: 0.6902 - accuracy: 0.2332 - auc: 0.5022 - val_loss: 0.6902 - val_accuracy: 0.2628 - val_auc: 0.5193\n",
      "Epoch 10/10\n",
      "157/157 [==============================] - 0s 3ms/step - loss: 0.6895 - accuracy: 0.2339 - auc: 0.5029 - val_loss: 0.6896 - val_accuracy: 0.2628 - val_auc: 0.5190\n",
      "Epoch 1/10\n",
      "157/157 [==============================] - 1s 5ms/step - loss: 0.6718 - accuracy: 0.4006 - auc: 0.5701 - val_loss: 0.6851 - val_accuracy: 0.3265 - val_auc: 0.5126\n",
      "Epoch 2/10\n",
      "157/157 [==============================] - 1s 3ms/step - loss: 0.6713 - accuracy: 0.4013 - auc: 0.5702 - val_loss: 0.6847 - val_accuracy: 0.3291 - val_auc: 0.5120\n",
      "Epoch 3/10\n",
      "157/157 [==============================] - 0s 3ms/step - loss: 0.6708 - accuracy: 0.4013 - auc: 0.5704 - val_loss: 0.6842 - val_accuracy: 0.3265 - val_auc: 0.5124\n",
      "Epoch 4/10\n",
      "157/157 [==============================] - 0s 3ms/step - loss: 0.6702 - accuracy: 0.4013 - auc: 0.5706 - val_loss: 0.6837 - val_accuracy: 0.3265 - val_auc: 0.5127\n",
      "Epoch 5/10\n",
      "157/157 [==============================] - 0s 3ms/step - loss: 0.6697 - accuracy: 0.4019 - auc: 0.5709 - val_loss: 0.6833 - val_accuracy: 0.3265 - val_auc: 0.5131\n",
      "Epoch 6/10\n",
      "157/157 [==============================] - 0s 3ms/step - loss: 0.6692 - accuracy: 0.4026 - auc: 0.5713 - val_loss: 0.6828 - val_accuracy: 0.3265 - val_auc: 0.5135\n",
      "Epoch 7/10\n",
      "157/157 [==============================] - 0s 3ms/step - loss: 0.6687 - accuracy: 0.4032 - auc: 0.5713 - val_loss: 0.6823 - val_accuracy: 0.3265 - val_auc: 0.5131\n",
      "Epoch 8/10\n",
      "157/157 [==============================] - 0s 3ms/step - loss: 0.6682 - accuracy: 0.4032 - auc: 0.5714 - val_loss: 0.6819 - val_accuracy: 0.3265 - val_auc: 0.5135\n",
      "Epoch 9/10\n",
      "157/157 [==============================] - 0s 3ms/step - loss: 0.6677 - accuracy: 0.4045 - auc: 0.5716 - val_loss: 0.6814 - val_accuracy: 0.3265 - val_auc: 0.5137\n",
      "Epoch 10/10\n",
      "157/157 [==============================] - 0s 3ms/step - loss: 0.6672 - accuracy: 0.4058 - auc: 0.5718 - val_loss: 0.6810 - val_accuracy: 0.3265 - val_auc: 0.5141\n"
     ]
    },
    {
     "data": {
      "text/html": [
       "<span style=\"color:#4527A0\"><h1 style=\"font-size:18px\">Trial complete</h1></span>"
      ],
      "text/plain": [
       "<IPython.core.display.HTML object>"
      ]
     },
     "metadata": {
      "tags": []
     },
     "output_type": "display_data"
    },
    {
     "data": {
      "text/html": [
       "<span style=\"color:#4527A0\"><h1 style=\"font-size:18px\">Trial summary</h1></span>"
      ],
      "text/plain": [
       "<IPython.core.display.HTML object>"
      ]
     },
     "metadata": {
      "tags": []
     },
     "output_type": "display_data"
    },
    {
     "data": {
      "text/html": [
       "<span style=\"color:cyan\"> |-Trial ID: c5306ab8b0a428018948e9a9a851c8a9</span>"
      ],
      "text/plain": [
       "<IPython.core.display.HTML object>"
      ]
     },
     "metadata": {
      "tags": []
     },
     "output_type": "display_data"
    },
    {
     "data": {
      "text/html": [
       "<span style=\"color:cyan\"> |-Score: 0.2721088379621506</span>"
      ],
      "text/plain": [
       "<IPython.core.display.HTML object>"
      ]
     },
     "metadata": {
      "tags": []
     },
     "output_type": "display_data"
    },
    {
     "data": {
      "text/html": [
       "<span style=\"color:cyan\"> |-Best step: 0</span>"
      ],
      "text/plain": [
       "<IPython.core.display.HTML object>"
      ]
     },
     "metadata": {
      "tags": []
     },
     "output_type": "display_data"
    },
    {
     "data": {
      "text/html": [
       "<span style=\"color:#7E57C2\"><h2 style=\"font-size:16px\">Hyperparameters:</h2></span>"
      ],
      "text/plain": [
       "<IPython.core.display.HTML object>"
      ]
     },
     "metadata": {
      "tags": []
     },
     "output_type": "display_data"
    },
    {
     "data": {
      "text/html": [
       "<span style=\"color:cyan\"> |-act_0: relu</span>"
      ],
      "text/plain": [
       "<IPython.core.display.HTML object>"
      ]
     },
     "metadata": {
      "tags": []
     },
     "output_type": "display_data"
    },
    {
     "data": {
      "text/html": [
       "<span style=\"color:blue\"> |-act_1: relu</span>"
      ],
      "text/plain": [
       "<IPython.core.display.HTML object>"
      ]
     },
     "metadata": {
      "tags": []
     },
     "output_type": "display_data"
    },
    {
     "data": {
      "text/html": [
       "<span style=\"color:cyan\"> |-act_2: selu</span>"
      ],
      "text/plain": [
       "<IPython.core.display.HTML object>"
      ]
     },
     "metadata": {
      "tags": []
     },
     "output_type": "display_data"
    },
    {
     "data": {
      "text/html": [
       "<span style=\"color:blue\"> |-act_3: elu</span>"
      ],
      "text/plain": [
       "<IPython.core.display.HTML object>"
      ]
     },
     "metadata": {
      "tags": []
     },
     "output_type": "display_data"
    },
    {
     "data": {
      "text/html": [
       "<span style=\"color:cyan\"> |-act_4: elu</span>"
      ],
      "text/plain": [
       "<IPython.core.display.HTML object>"
      ]
     },
     "metadata": {
      "tags": []
     },
     "output_type": "display_data"
    },
    {
     "data": {
      "text/html": [
       "<span style=\"color:blue\"> |-act_5: relu</span>"
      ],
      "text/plain": [
       "<IPython.core.display.HTML object>"
      ]
     },
     "metadata": {
      "tags": []
     },
     "output_type": "display_data"
    },
    {
     "data": {
      "text/html": [
       "<span style=\"color:cyan\"> |-batch_size: 10</span>"
      ],
      "text/plain": [
       "<IPython.core.display.HTML object>"
      ]
     },
     "metadata": {
      "tags": []
     },
     "output_type": "display_data"
    },
    {
     "data": {
      "text/html": [
       "<span style=\"color:blue\"> |-epochs: 10</span>"
      ],
      "text/plain": [
       "<IPython.core.display.HTML object>"
      ]
     },
     "metadata": {
      "tags": []
     },
     "output_type": "display_data"
    },
    {
     "data": {
      "text/html": [
       "<span style=\"color:cyan\"> |-learning_rate: 1e-05</span>"
      ],
      "text/plain": [
       "<IPython.core.display.HTML object>"
      ]
     },
     "metadata": {
      "tags": []
     },
     "output_type": "display_data"
    },
    {
     "data": {
      "text/html": [
       "<span style=\"color:blue\"> |-number_of_layers: 5</span>"
      ],
      "text/plain": [
       "<IPython.core.display.HTML object>"
      ]
     },
     "metadata": {
      "tags": []
     },
     "output_type": "display_data"
    },
    {
     "data": {
      "text/html": [
       "<span style=\"color:cyan\"> |-unit_0: 350</span>"
      ],
      "text/plain": [
       "<IPython.core.display.HTML object>"
      ]
     },
     "metadata": {
      "tags": []
     },
     "output_type": "display_data"
    },
    {
     "data": {
      "text/html": [
       "<span style=\"color:blue\"> |-unit_1: 150</span>"
      ],
      "text/plain": [
       "<IPython.core.display.HTML object>"
      ]
     },
     "metadata": {
      "tags": []
     },
     "output_type": "display_data"
    },
    {
     "data": {
      "text/html": [
       "<span style=\"color:cyan\"> |-unit_2: 200</span>"
      ],
      "text/plain": [
       "<IPython.core.display.HTML object>"
      ]
     },
     "metadata": {
      "tags": []
     },
     "output_type": "display_data"
    },
    {
     "data": {
      "text/html": [
       "<span style=\"color:blue\"> |-unit_3: 100</span>"
      ],
      "text/plain": [
       "<IPython.core.display.HTML object>"
      ]
     },
     "metadata": {
      "tags": []
     },
     "output_type": "display_data"
    },
    {
     "data": {
      "text/html": [
       "<span style=\"color:cyan\"> |-unit_4: 150</span>"
      ],
      "text/plain": [
       "<IPython.core.display.HTML object>"
      ]
     },
     "metadata": {
      "tags": []
     },
     "output_type": "display_data"
    },
    {
     "data": {
      "text/html": [
       "<span style=\"color:blue\"> |-unit_5: 350</span>"
      ],
      "text/plain": [
       "<IPython.core.display.HTML object>"
      ]
     },
     "metadata": {
      "tags": []
     },
     "output_type": "display_data"
    },
    {
     "name": "stdout",
     "output_type": "stream",
     "text": [
      "Epoch 1/40\n",
      "18/18 [==============================] - 0s 26ms/step - loss: 0.7349 - accuracy: 0.3687 - auc: 0.6064 - val_loss: 0.7476 - val_accuracy: 0.3010 - val_auc: 0.5508\n",
      "Epoch 2/40\n",
      "18/18 [==============================] - 0s 9ms/step - loss: 0.7348 - accuracy: 0.3687 - auc: 0.6063 - val_loss: 0.7475 - val_accuracy: 0.3010 - val_auc: 0.5509\n",
      "Epoch 3/40\n",
      "18/18 [==============================] - 0s 9ms/step - loss: 0.7347 - accuracy: 0.3687 - auc: 0.6064 - val_loss: 0.7474 - val_accuracy: 0.3010 - val_auc: 0.5509\n",
      "Epoch 4/40\n",
      "18/18 [==============================] - 0s 9ms/step - loss: 0.7346 - accuracy: 0.3687 - auc: 0.6066 - val_loss: 0.7473 - val_accuracy: 0.3010 - val_auc: 0.5509\n",
      "Epoch 5/40\n",
      "18/18 [==============================] - 0s 9ms/step - loss: 0.7345 - accuracy: 0.3687 - auc: 0.6066 - val_loss: 0.7472 - val_accuracy: 0.3010 - val_auc: 0.5509\n",
      "Epoch 6/40\n",
      "18/18 [==============================] - 0s 9ms/step - loss: 0.7344 - accuracy: 0.3693 - auc: 0.6067 - val_loss: 0.7471 - val_accuracy: 0.3010 - val_auc: 0.5508\n",
      "Epoch 7/40\n",
      "18/18 [==============================] - 0s 8ms/step - loss: 0.7343 - accuracy: 0.3693 - auc: 0.6068 - val_loss: 0.7470 - val_accuracy: 0.2985 - val_auc: 0.5508\n",
      "Epoch 8/40\n",
      "18/18 [==============================] - 0s 9ms/step - loss: 0.7342 - accuracy: 0.3693 - auc: 0.6068 - val_loss: 0.7470 - val_accuracy: 0.2985 - val_auc: 0.5511\n",
      "Epoch 9/40\n",
      "18/18 [==============================] - 0s 8ms/step - loss: 0.7341 - accuracy: 0.3687 - auc: 0.6068 - val_loss: 0.7469 - val_accuracy: 0.2985 - val_auc: 0.5512\n",
      "Epoch 10/40\n",
      "18/18 [==============================] - 0s 8ms/step - loss: 0.7341 - accuracy: 0.3687 - auc: 0.6068 - val_loss: 0.7468 - val_accuracy: 0.2985 - val_auc: 0.5513\n",
      "Epoch 11/40\n",
      "18/18 [==============================] - 0s 9ms/step - loss: 0.7340 - accuracy: 0.3693 - auc: 0.6069 - val_loss: 0.7467 - val_accuracy: 0.2985 - val_auc: 0.5512\n",
      "Epoch 12/40\n",
      "18/18 [==============================] - 0s 8ms/step - loss: 0.7339 - accuracy: 0.3693 - auc: 0.6068 - val_loss: 0.7466 - val_accuracy: 0.2985 - val_auc: 0.5514\n",
      "Epoch 13/40\n",
      "18/18 [==============================] - 0s 8ms/step - loss: 0.7338 - accuracy: 0.3693 - auc: 0.6068 - val_loss: 0.7465 - val_accuracy: 0.2985 - val_auc: 0.5514\n",
      "Epoch 14/40\n",
      "18/18 [==============================] - 0s 9ms/step - loss: 0.7337 - accuracy: 0.3700 - auc: 0.6069 - val_loss: 0.7464 - val_accuracy: 0.2985 - val_auc: 0.5515\n",
      "Epoch 15/40\n",
      "18/18 [==============================] - 0s 9ms/step - loss: 0.7336 - accuracy: 0.3700 - auc: 0.6070 - val_loss: 0.7463 - val_accuracy: 0.2985 - val_auc: 0.5517\n",
      "Epoch 16/40\n",
      "18/18 [==============================] - 0s 9ms/step - loss: 0.7335 - accuracy: 0.3700 - auc: 0.6070 - val_loss: 0.7462 - val_accuracy: 0.2985 - val_auc: 0.5517\n",
      "Epoch 17/40\n",
      "18/18 [==============================] - 0s 9ms/step - loss: 0.7334 - accuracy: 0.3700 - auc: 0.6071 - val_loss: 0.7462 - val_accuracy: 0.2985 - val_auc: 0.5517\n",
      "Epoch 18/40\n",
      "18/18 [==============================] - 0s 9ms/step - loss: 0.7333 - accuracy: 0.3700 - auc: 0.6071 - val_loss: 0.7461 - val_accuracy: 0.2985 - val_auc: 0.5516\n",
      "Epoch 19/40\n",
      "18/18 [==============================] - 0s 9ms/step - loss: 0.7332 - accuracy: 0.3700 - auc: 0.6072 - val_loss: 0.7460 - val_accuracy: 0.2985 - val_auc: 0.5515\n",
      "Epoch 20/40\n",
      "18/18 [==============================] - 0s 8ms/step - loss: 0.7331 - accuracy: 0.3700 - auc: 0.6072 - val_loss: 0.7459 - val_accuracy: 0.2985 - val_auc: 0.5514\n",
      "Epoch 21/40\n",
      "18/18 [==============================] - 0s 8ms/step - loss: 0.7330 - accuracy: 0.3700 - auc: 0.6072 - val_loss: 0.7458 - val_accuracy: 0.2985 - val_auc: 0.5514\n",
      "Epoch 22/40\n",
      "18/18 [==============================] - 0s 9ms/step - loss: 0.7329 - accuracy: 0.3700 - auc: 0.6073 - val_loss: 0.7457 - val_accuracy: 0.2985 - val_auc: 0.5516\n",
      "Epoch 23/40\n",
      "18/18 [==============================] - 0s 9ms/step - loss: 0.7328 - accuracy: 0.3700 - auc: 0.6073 - val_loss: 0.7456 - val_accuracy: 0.2985 - val_auc: 0.5515\n",
      "Epoch 24/40\n",
      "18/18 [==============================] - 0s 9ms/step - loss: 0.7327 - accuracy: 0.3706 - auc: 0.6073 - val_loss: 0.7455 - val_accuracy: 0.2985 - val_auc: 0.5517\n",
      "Epoch 25/40\n",
      "18/18 [==============================] - 0s 10ms/step - loss: 0.7326 - accuracy: 0.3706 - auc: 0.6074 - val_loss: 0.7454 - val_accuracy: 0.2985 - val_auc: 0.5518\n",
      "Epoch 26/40\n",
      "18/18 [==============================] - 0s 8ms/step - loss: 0.7325 - accuracy: 0.3706 - auc: 0.6075 - val_loss: 0.7454 - val_accuracy: 0.2985 - val_auc: 0.5518\n",
      "Epoch 27/40\n",
      "18/18 [==============================] - 0s 8ms/step - loss: 0.7324 - accuracy: 0.3706 - auc: 0.6076 - val_loss: 0.7453 - val_accuracy: 0.2985 - val_auc: 0.5517\n",
      "Epoch 28/40\n",
      "18/18 [==============================] - 0s 9ms/step - loss: 0.7323 - accuracy: 0.3706 - auc: 0.6075 - val_loss: 0.7452 - val_accuracy: 0.2985 - val_auc: 0.5516\n",
      "Epoch 29/40\n",
      "18/18 [==============================] - 0s 9ms/step - loss: 0.7322 - accuracy: 0.3706 - auc: 0.6076 - val_loss: 0.7451 - val_accuracy: 0.2985 - val_auc: 0.5517\n",
      "Epoch 30/40\n",
      "18/18 [==============================] - 0s 8ms/step - loss: 0.7321 - accuracy: 0.3706 - auc: 0.6076 - val_loss: 0.7450 - val_accuracy: 0.2985 - val_auc: 0.5516\n",
      "Epoch 31/40\n",
      "18/18 [==============================] - 0s 9ms/step - loss: 0.7320 - accuracy: 0.3706 - auc: 0.6075 - val_loss: 0.7449 - val_accuracy: 0.2985 - val_auc: 0.5515\n",
      "Epoch 32/40\n",
      "18/18 [==============================] - 0s 9ms/step - loss: 0.7319 - accuracy: 0.3706 - auc: 0.6076 - val_loss: 0.7448 - val_accuracy: 0.2985 - val_auc: 0.5516\n",
      "Epoch 33/40\n",
      "18/18 [==============================] - 0s 8ms/step - loss: 0.7318 - accuracy: 0.3712 - auc: 0.6077 - val_loss: 0.7447 - val_accuracy: 0.2985 - val_auc: 0.5518\n",
      "Epoch 34/40\n",
      "18/18 [==============================] - 0s 9ms/step - loss: 0.7317 - accuracy: 0.3706 - auc: 0.6078 - val_loss: 0.7447 - val_accuracy: 0.2985 - val_auc: 0.5518\n",
      "Epoch 35/40\n",
      "18/18 [==============================] - 0s 9ms/step - loss: 0.7317 - accuracy: 0.3706 - auc: 0.6078 - val_loss: 0.7446 - val_accuracy: 0.2985 - val_auc: 0.5518\n",
      "Epoch 36/40\n",
      "18/18 [==============================] - 0s 9ms/step - loss: 0.7316 - accuracy: 0.3706 - auc: 0.6079 - val_loss: 0.7445 - val_accuracy: 0.2985 - val_auc: 0.5520\n",
      "Epoch 37/40\n",
      "18/18 [==============================] - 0s 8ms/step - loss: 0.7315 - accuracy: 0.3706 - auc: 0.6080 - val_loss: 0.7444 - val_accuracy: 0.2985 - val_auc: 0.5521\n",
      "Epoch 38/40\n",
      "18/18 [==============================] - 0s 9ms/step - loss: 0.7314 - accuracy: 0.3706 - auc: 0.6081 - val_loss: 0.7443 - val_accuracy: 0.2985 - val_auc: 0.5522\n",
      "Epoch 39/40\n",
      "18/18 [==============================] - 0s 9ms/step - loss: 0.7313 - accuracy: 0.3706 - auc: 0.6081 - val_loss: 0.7442 - val_accuracy: 0.2985 - val_auc: 0.5523\n",
      "Epoch 40/40\n",
      "18/18 [==============================] - 0s 9ms/step - loss: 0.7312 - accuracy: 0.3706 - auc: 0.6081 - val_loss: 0.7441 - val_accuracy: 0.2985 - val_auc: 0.5525\n",
      "Epoch 1/40\n",
      "18/18 [==============================] - 0s 22ms/step - loss: 0.7284 - accuracy: 0.2498 - auc: 0.5352 - val_loss: 0.7231 - val_accuracy: 0.2526 - val_auc: 0.5535\n",
      "Epoch 2/40\n",
      "18/18 [==============================] - 0s 9ms/step - loss: 0.7283 - accuracy: 0.2492 - auc: 0.5352 - val_loss: 0.7230 - val_accuracy: 0.2526 - val_auc: 0.5537\n",
      "Epoch 3/40\n",
      "18/18 [==============================] - 0s 8ms/step - loss: 0.7282 - accuracy: 0.2498 - auc: 0.5351 - val_loss: 0.7230 - val_accuracy: 0.2526 - val_auc: 0.5537\n",
      "Epoch 4/40\n",
      "18/18 [==============================] - 0s 9ms/step - loss: 0.7281 - accuracy: 0.2505 - auc: 0.5352 - val_loss: 0.7229 - val_accuracy: 0.2526 - val_auc: 0.5536\n",
      "Epoch 5/40\n",
      "18/18 [==============================] - 0s 8ms/step - loss: 0.7280 - accuracy: 0.2498 - auc: 0.5353 - val_loss: 0.7228 - val_accuracy: 0.2526 - val_auc: 0.5536\n",
      "Epoch 6/40\n",
      "18/18 [==============================] - 0s 8ms/step - loss: 0.7279 - accuracy: 0.2498 - auc: 0.5354 - val_loss: 0.7227 - val_accuracy: 0.2526 - val_auc: 0.5537\n",
      "Epoch 7/40\n",
      "18/18 [==============================] - 0s 8ms/step - loss: 0.7278 - accuracy: 0.2505 - auc: 0.5355 - val_loss: 0.7226 - val_accuracy: 0.2526 - val_auc: 0.5539\n",
      "Epoch 8/40\n",
      "18/18 [==============================] - 0s 9ms/step - loss: 0.7277 - accuracy: 0.2505 - auc: 0.5355 - val_loss: 0.7225 - val_accuracy: 0.2551 - val_auc: 0.5538\n",
      "Epoch 9/40\n",
      "18/18 [==============================] - 0s 8ms/step - loss: 0.7276 - accuracy: 0.2518 - auc: 0.5355 - val_loss: 0.7225 - val_accuracy: 0.2551 - val_auc: 0.5538\n",
      "Epoch 10/40\n",
      "18/18 [==============================] - 0s 9ms/step - loss: 0.7275 - accuracy: 0.2518 - auc: 0.5356 - val_loss: 0.7224 - val_accuracy: 0.2551 - val_auc: 0.5537\n",
      "Epoch 11/40\n",
      "18/18 [==============================] - 0s 8ms/step - loss: 0.7274 - accuracy: 0.2518 - auc: 0.5356 - val_loss: 0.7223 - val_accuracy: 0.2551 - val_auc: 0.5538\n",
      "Epoch 12/40\n",
      "18/18 [==============================] - 0s 8ms/step - loss: 0.7273 - accuracy: 0.2518 - auc: 0.5358 - val_loss: 0.7222 - val_accuracy: 0.2551 - val_auc: 0.5539\n",
      "Epoch 13/40\n",
      "18/18 [==============================] - 0s 9ms/step - loss: 0.7272 - accuracy: 0.2518 - auc: 0.5358 - val_loss: 0.7221 - val_accuracy: 0.2551 - val_auc: 0.5539\n",
      "Epoch 14/40\n",
      "18/18 [==============================] - 0s 8ms/step - loss: 0.7271 - accuracy: 0.2524 - auc: 0.5358 - val_loss: 0.7220 - val_accuracy: 0.2551 - val_auc: 0.5538\n",
      "Epoch 15/40\n",
      "18/18 [==============================] - 0s 8ms/step - loss: 0.7270 - accuracy: 0.2524 - auc: 0.5359 - val_loss: 0.7220 - val_accuracy: 0.2551 - val_auc: 0.5538\n",
      "Epoch 16/40\n",
      "18/18 [==============================] - 0s 9ms/step - loss: 0.7269 - accuracy: 0.2530 - auc: 0.5359 - val_loss: 0.7219 - val_accuracy: 0.2551 - val_auc: 0.5537\n",
      "Epoch 17/40\n",
      "18/18 [==============================] - 0s 8ms/step - loss: 0.7268 - accuracy: 0.2537 - auc: 0.5358 - val_loss: 0.7218 - val_accuracy: 0.2551 - val_auc: 0.5539\n",
      "Epoch 18/40\n",
      "18/18 [==============================] - 0s 8ms/step - loss: 0.7267 - accuracy: 0.2537 - auc: 0.5359 - val_loss: 0.7217 - val_accuracy: 0.2551 - val_auc: 0.5538\n",
      "Epoch 19/40\n",
      "18/18 [==============================] - 0s 8ms/step - loss: 0.7266 - accuracy: 0.2537 - auc: 0.5359 - val_loss: 0.7216 - val_accuracy: 0.2551 - val_auc: 0.5538\n",
      "Epoch 20/40\n",
      "18/18 [==============================] - 0s 8ms/step - loss: 0.7265 - accuracy: 0.2537 - auc: 0.5361 - val_loss: 0.7215 - val_accuracy: 0.2551 - val_auc: 0.5538\n",
      "Epoch 21/40\n",
      "18/18 [==============================] - 0s 9ms/step - loss: 0.7264 - accuracy: 0.2537 - auc: 0.5361 - val_loss: 0.7215 - val_accuracy: 0.2551 - val_auc: 0.5539\n",
      "Epoch 22/40\n",
      "18/18 [==============================] - 0s 9ms/step - loss: 0.7264 - accuracy: 0.2537 - auc: 0.5361 - val_loss: 0.7214 - val_accuracy: 0.2551 - val_auc: 0.5539\n",
      "Epoch 23/40\n",
      "18/18 [==============================] - 0s 9ms/step - loss: 0.7263 - accuracy: 0.2537 - auc: 0.5360 - val_loss: 0.7213 - val_accuracy: 0.2551 - val_auc: 0.5540\n",
      "Epoch 24/40\n",
      "18/18 [==============================] - 0s 8ms/step - loss: 0.7262 - accuracy: 0.2537 - auc: 0.5360 - val_loss: 0.7212 - val_accuracy: 0.2551 - val_auc: 0.5541\n",
      "Epoch 25/40\n",
      "18/18 [==============================] - 0s 8ms/step - loss: 0.7261 - accuracy: 0.2537 - auc: 0.5361 - val_loss: 0.7211 - val_accuracy: 0.2551 - val_auc: 0.5540\n",
      "Epoch 26/40\n",
      "18/18 [==============================] - 0s 8ms/step - loss: 0.7260 - accuracy: 0.2537 - auc: 0.5361 - val_loss: 0.7211 - val_accuracy: 0.2551 - val_auc: 0.5540\n",
      "Epoch 27/40\n",
      "18/18 [==============================] - 0s 9ms/step - loss: 0.7259 - accuracy: 0.2537 - auc: 0.5360 - val_loss: 0.7210 - val_accuracy: 0.2551 - val_auc: 0.5538\n",
      "Epoch 28/40\n",
      "18/18 [==============================] - 0s 8ms/step - loss: 0.7258 - accuracy: 0.2543 - auc: 0.5360 - val_loss: 0.7209 - val_accuracy: 0.2551 - val_auc: 0.5539\n",
      "Epoch 29/40\n",
      "18/18 [==============================] - 0s 8ms/step - loss: 0.7257 - accuracy: 0.2543 - auc: 0.5361 - val_loss: 0.7208 - val_accuracy: 0.2551 - val_auc: 0.5539\n",
      "Epoch 30/40\n",
      "18/18 [==============================] - 0s 8ms/step - loss: 0.7256 - accuracy: 0.2543 - auc: 0.5361 - val_loss: 0.7207 - val_accuracy: 0.2551 - val_auc: 0.5541\n",
      "Epoch 31/40\n",
      "18/18 [==============================] - 0s 8ms/step - loss: 0.7255 - accuracy: 0.2550 - auc: 0.5362 - val_loss: 0.7207 - val_accuracy: 0.2577 - val_auc: 0.5542\n",
      "Epoch 32/40\n",
      "18/18 [==============================] - 0s 8ms/step - loss: 0.7254 - accuracy: 0.2543 - auc: 0.5363 - val_loss: 0.7206 - val_accuracy: 0.2577 - val_auc: 0.5541\n",
      "Epoch 33/40\n",
      "18/18 [==============================] - 0s 8ms/step - loss: 0.7253 - accuracy: 0.2543 - auc: 0.5364 - val_loss: 0.7205 - val_accuracy: 0.2602 - val_auc: 0.5542\n",
      "Epoch 34/40\n",
      "18/18 [==============================] - 0s 8ms/step - loss: 0.7252 - accuracy: 0.2562 - auc: 0.5365 - val_loss: 0.7204 - val_accuracy: 0.2602 - val_auc: 0.5542\n",
      "Epoch 35/40\n",
      "18/18 [==============================] - 0s 9ms/step - loss: 0.7251 - accuracy: 0.2569 - auc: 0.5366 - val_loss: 0.7203 - val_accuracy: 0.2602 - val_auc: 0.5542\n",
      "Epoch 36/40\n",
      "18/18 [==============================] - 0s 8ms/step - loss: 0.7250 - accuracy: 0.2569 - auc: 0.5367 - val_loss: 0.7202 - val_accuracy: 0.2602 - val_auc: 0.5542\n",
      "Epoch 37/40\n",
      "18/18 [==============================] - 0s 8ms/step - loss: 0.7249 - accuracy: 0.2569 - auc: 0.5367 - val_loss: 0.7202 - val_accuracy: 0.2602 - val_auc: 0.5544\n",
      "Epoch 38/40\n",
      "18/18 [==============================] - 0s 8ms/step - loss: 0.7248 - accuracy: 0.2569 - auc: 0.5368 - val_loss: 0.7201 - val_accuracy: 0.2602 - val_auc: 0.5546\n",
      "Epoch 39/40\n",
      "18/18 [==============================] - 0s 9ms/step - loss: 0.7247 - accuracy: 0.2575 - auc: 0.5369 - val_loss: 0.7200 - val_accuracy: 0.2602 - val_auc: 0.5546\n",
      "Epoch 40/40\n",
      "18/18 [==============================] - 0s 9ms/step - loss: 0.7246 - accuracy: 0.2581 - auc: 0.5370 - val_loss: 0.7199 - val_accuracy: 0.2602 - val_auc: 0.5547\n",
      "Epoch 1/40\n",
      "18/18 [==============================] - 0s 22ms/step - loss: 0.7076 - accuracy: 0.2358 - auc: 0.4772 - val_loss: 0.7026 - val_accuracy: 0.2372 - val_auc: 0.4962\n",
      "Epoch 2/40\n",
      "18/18 [==============================] - 0s 8ms/step - loss: 0.7075 - accuracy: 0.2358 - auc: 0.4774 - val_loss: 0.7025 - val_accuracy: 0.2398 - val_auc: 0.4961\n",
      "Epoch 3/40\n",
      "18/18 [==============================] - 0s 8ms/step - loss: 0.7073 - accuracy: 0.2358 - auc: 0.4776 - val_loss: 0.7024 - val_accuracy: 0.2398 - val_auc: 0.4963\n",
      "Epoch 4/40\n",
      "18/18 [==============================] - 0s 8ms/step - loss: 0.7072 - accuracy: 0.2358 - auc: 0.4777 - val_loss: 0.7023 - val_accuracy: 0.2398 - val_auc: 0.4963\n",
      "Epoch 5/40\n",
      "18/18 [==============================] - 0s 9ms/step - loss: 0.7071 - accuracy: 0.2358 - auc: 0.4777 - val_loss: 0.7021 - val_accuracy: 0.2398 - val_auc: 0.4962\n",
      "Epoch 6/40\n",
      "18/18 [==============================] - 0s 8ms/step - loss: 0.7069 - accuracy: 0.2358 - auc: 0.4777 - val_loss: 0.7020 - val_accuracy: 0.2398 - val_auc: 0.4963\n",
      "Epoch 7/40\n",
      "18/18 [==============================] - 0s 8ms/step - loss: 0.7068 - accuracy: 0.2358 - auc: 0.4778 - val_loss: 0.7019 - val_accuracy: 0.2398 - val_auc: 0.4963\n",
      "Epoch 8/40\n",
      "18/18 [==============================] - 0s 9ms/step - loss: 0.7067 - accuracy: 0.2358 - auc: 0.4780 - val_loss: 0.7018 - val_accuracy: 0.2398 - val_auc: 0.4962\n",
      "Epoch 9/40\n",
      "18/18 [==============================] - 0s 9ms/step - loss: 0.7066 - accuracy: 0.2358 - auc: 0.4781 - val_loss: 0.7017 - val_accuracy: 0.2398 - val_auc: 0.4962\n",
      "Epoch 10/40\n",
      "18/18 [==============================] - 0s 9ms/step - loss: 0.7064 - accuracy: 0.2358 - auc: 0.4781 - val_loss: 0.7016 - val_accuracy: 0.2398 - val_auc: 0.4964\n",
      "Epoch 11/40\n",
      "18/18 [==============================] - 0s 10ms/step - loss: 0.7063 - accuracy: 0.2358 - auc: 0.4782 - val_loss: 0.7015 - val_accuracy: 0.2398 - val_auc: 0.4966\n",
      "Epoch 12/40\n",
      "18/18 [==============================] - 0s 9ms/step - loss: 0.7062 - accuracy: 0.2358 - auc: 0.4783 - val_loss: 0.7014 - val_accuracy: 0.2398 - val_auc: 0.4967\n",
      "Epoch 13/40\n",
      "18/18 [==============================] - 0s 9ms/step - loss: 0.7060 - accuracy: 0.2358 - auc: 0.4784 - val_loss: 0.7013 - val_accuracy: 0.2398 - val_auc: 0.4969\n",
      "Epoch 14/40\n",
      "18/18 [==============================] - 0s 9ms/step - loss: 0.7059 - accuracy: 0.2358 - auc: 0.4786 - val_loss: 0.7012 - val_accuracy: 0.2398 - val_auc: 0.4971\n",
      "Epoch 15/40\n",
      "18/18 [==============================] - 0s 10ms/step - loss: 0.7058 - accuracy: 0.2351 - auc: 0.4787 - val_loss: 0.7011 - val_accuracy: 0.2398 - val_auc: 0.4971\n",
      "Epoch 16/40\n",
      "18/18 [==============================] - 0s 9ms/step - loss: 0.7057 - accuracy: 0.2351 - auc: 0.4789 - val_loss: 0.7010 - val_accuracy: 0.2398 - val_auc: 0.4970\n",
      "Epoch 17/40\n",
      "18/18 [==============================] - 0s 9ms/step - loss: 0.7055 - accuracy: 0.2351 - auc: 0.4789 - val_loss: 0.7008 - val_accuracy: 0.2398 - val_auc: 0.4971\n",
      "Epoch 18/40\n",
      "18/18 [==============================] - 0s 10ms/step - loss: 0.7054 - accuracy: 0.2351 - auc: 0.4789 - val_loss: 0.7007 - val_accuracy: 0.2398 - val_auc: 0.4971\n",
      "Epoch 19/40\n",
      "18/18 [==============================] - 0s 9ms/step - loss: 0.7053 - accuracy: 0.2351 - auc: 0.4790 - val_loss: 0.7006 - val_accuracy: 0.2398 - val_auc: 0.4973\n",
      "Epoch 20/40\n",
      "18/18 [==============================] - 0s 10ms/step - loss: 0.7051 - accuracy: 0.2351 - auc: 0.4791 - val_loss: 0.7005 - val_accuracy: 0.2398 - val_auc: 0.4973\n",
      "Epoch 21/40\n",
      "18/18 [==============================] - 0s 9ms/step - loss: 0.7050 - accuracy: 0.2351 - auc: 0.4792 - val_loss: 0.7004 - val_accuracy: 0.2398 - val_auc: 0.4976\n",
      "Epoch 22/40\n",
      "18/18 [==============================] - 0s 9ms/step - loss: 0.7049 - accuracy: 0.2351 - auc: 0.4794 - val_loss: 0.7003 - val_accuracy: 0.2398 - val_auc: 0.4979\n",
      "Epoch 23/40\n",
      "18/18 [==============================] - 0s 9ms/step - loss: 0.7048 - accuracy: 0.2351 - auc: 0.4797 - val_loss: 0.7002 - val_accuracy: 0.2398 - val_auc: 0.4980\n",
      "Epoch 24/40\n",
      "18/18 [==============================] - 0s 9ms/step - loss: 0.7046 - accuracy: 0.2358 - auc: 0.4798 - val_loss: 0.7001 - val_accuracy: 0.2398 - val_auc: 0.4982\n",
      "Epoch 25/40\n",
      "18/18 [==============================] - 0s 9ms/step - loss: 0.7045 - accuracy: 0.2364 - auc: 0.4800 - val_loss: 0.7000 - val_accuracy: 0.2372 - val_auc: 0.4983\n",
      "Epoch 26/40\n",
      "18/18 [==============================] - 0s 9ms/step - loss: 0.7044 - accuracy: 0.2364 - auc: 0.4801 - val_loss: 0.6999 - val_accuracy: 0.2372 - val_auc: 0.4985\n",
      "Epoch 27/40\n",
      "18/18 [==============================] - 0s 10ms/step - loss: 0.7042 - accuracy: 0.2364 - auc: 0.4802 - val_loss: 0.6998 - val_accuracy: 0.2347 - val_auc: 0.4984\n",
      "Epoch 28/40\n",
      "18/18 [==============================] - 0s 9ms/step - loss: 0.7041 - accuracy: 0.2364 - auc: 0.4803 - val_loss: 0.6997 - val_accuracy: 0.2347 - val_auc: 0.4985\n",
      "Epoch 29/40\n",
      "18/18 [==============================] - 0s 9ms/step - loss: 0.7040 - accuracy: 0.2358 - auc: 0.4804 - val_loss: 0.6996 - val_accuracy: 0.2347 - val_auc: 0.4984\n",
      "Epoch 30/40\n",
      "18/18 [==============================] - 0s 9ms/step - loss: 0.7039 - accuracy: 0.2358 - auc: 0.4806 - val_loss: 0.6995 - val_accuracy: 0.2347 - val_auc: 0.4985\n",
      "Epoch 31/40\n",
      "18/18 [==============================] - 0s 9ms/step - loss: 0.7037 - accuracy: 0.2358 - auc: 0.4806 - val_loss: 0.6993 - val_accuracy: 0.2347 - val_auc: 0.4985\n",
      "Epoch 32/40\n",
      "18/18 [==============================] - 0s 9ms/step - loss: 0.7036 - accuracy: 0.2358 - auc: 0.4808 - val_loss: 0.6992 - val_accuracy: 0.2347 - val_auc: 0.4983\n",
      "Epoch 33/40\n",
      "18/18 [==============================] - 0s 9ms/step - loss: 0.7035 - accuracy: 0.2358 - auc: 0.4809 - val_loss: 0.6991 - val_accuracy: 0.2347 - val_auc: 0.4982\n",
      "Epoch 34/40\n",
      "18/18 [==============================] - 0s 9ms/step - loss: 0.7034 - accuracy: 0.2358 - auc: 0.4810 - val_loss: 0.6990 - val_accuracy: 0.2347 - val_auc: 0.4982\n",
      "Epoch 35/40\n",
      "18/18 [==============================] - 0s 9ms/step - loss: 0.7032 - accuracy: 0.2351 - auc: 0.4811 - val_loss: 0.6989 - val_accuracy: 0.2347 - val_auc: 0.4983\n",
      "Epoch 36/40\n",
      "18/18 [==============================] - 0s 9ms/step - loss: 0.7031 - accuracy: 0.2351 - auc: 0.4812 - val_loss: 0.6988 - val_accuracy: 0.2347 - val_auc: 0.4981\n",
      "Epoch 37/40\n",
      "18/18 [==============================] - 0s 9ms/step - loss: 0.7030 - accuracy: 0.2351 - auc: 0.4814 - val_loss: 0.6987 - val_accuracy: 0.2347 - val_auc: 0.4982\n",
      "Epoch 38/40\n",
      "18/18 [==============================] - 0s 9ms/step - loss: 0.7029 - accuracy: 0.2358 - auc: 0.4814 - val_loss: 0.6986 - val_accuracy: 0.2347 - val_auc: 0.4984\n",
      "Epoch 39/40\n",
      "18/18 [==============================] - 0s 8ms/step - loss: 0.7027 - accuracy: 0.2358 - auc: 0.4816 - val_loss: 0.6985 - val_accuracy: 0.2347 - val_auc: 0.4982\n",
      "Epoch 40/40\n",
      "18/18 [==============================] - 0s 8ms/step - loss: 0.7026 - accuracy: 0.2358 - auc: 0.4817 - val_loss: 0.6984 - val_accuracy: 0.2347 - val_auc: 0.4983\n"
     ]
    },
    {
     "data": {
      "text/html": [
       "<span style=\"color:#4527A0\"><h1 style=\"font-size:18px\">Trial complete</h1></span>"
      ],
      "text/plain": [
       "<IPython.core.display.HTML object>"
      ]
     },
     "metadata": {
      "tags": []
     },
     "output_type": "display_data"
    },
    {
     "data": {
      "text/html": [
       "<span style=\"color:#4527A0\"><h1 style=\"font-size:18px\">Trial summary</h1></span>"
      ],
      "text/plain": [
       "<IPython.core.display.HTML object>"
      ]
     },
     "metadata": {
      "tags": []
     },
     "output_type": "display_data"
    },
    {
     "data": {
      "text/html": [
       "<span style=\"color:cyan\"> |-Trial ID: 2db9412eba98b455602dd6155923bde9</span>"
      ],
      "text/plain": [
       "<IPython.core.display.HTML object>"
      ]
     },
     "metadata": {
      "tags": []
     },
     "output_type": "display_data"
    },
    {
     "data": {
      "text/html": [
       "<span style=\"color:cyan\"> |-Score: 0.2670068045457204</span>"
      ],
      "text/plain": [
       "<IPython.core.display.HTML object>"
      ]
     },
     "metadata": {
      "tags": []
     },
     "output_type": "display_data"
    },
    {
     "data": {
      "text/html": [
       "<span style=\"color:cyan\"> |-Best step: 0</span>"
      ],
      "text/plain": [
       "<IPython.core.display.HTML object>"
      ]
     },
     "metadata": {
      "tags": []
     },
     "output_type": "display_data"
    },
    {
     "data": {
      "text/html": [
       "<span style=\"color:#7E57C2\"><h2 style=\"font-size:16px\">Hyperparameters:</h2></span>"
      ],
      "text/plain": [
       "<IPython.core.display.HTML object>"
      ]
     },
     "metadata": {
      "tags": []
     },
     "output_type": "display_data"
    },
    {
     "data": {
      "text/html": [
       "<span style=\"color:cyan\"> |-act_0: relu</span>"
      ],
      "text/plain": [
       "<IPython.core.display.HTML object>"
      ]
     },
     "metadata": {
      "tags": []
     },
     "output_type": "display_data"
    },
    {
     "data": {
      "text/html": [
       "<span style=\"color:blue\"> |-act_1: elu</span>"
      ],
      "text/plain": [
       "<IPython.core.display.HTML object>"
      ]
     },
     "metadata": {
      "tags": []
     },
     "output_type": "display_data"
    },
    {
     "data": {
      "text/html": [
       "<span style=\"color:cyan\"> |-act_2: selu</span>"
      ],
      "text/plain": [
       "<IPython.core.display.HTML object>"
      ]
     },
     "metadata": {
      "tags": []
     },
     "output_type": "display_data"
    },
    {
     "data": {
      "text/html": [
       "<span style=\"color:blue\"> |-act_3: elu</span>"
      ],
      "text/plain": [
       "<IPython.core.display.HTML object>"
      ]
     },
     "metadata": {
      "tags": []
     },
     "output_type": "display_data"
    },
    {
     "data": {
      "text/html": [
       "<span style=\"color:cyan\"> |-act_4: relu</span>"
      ],
      "text/plain": [
       "<IPython.core.display.HTML object>"
      ]
     },
     "metadata": {
      "tags": []
     },
     "output_type": "display_data"
    },
    {
     "data": {
      "text/html": [
       "<span style=\"color:blue\"> |-act_5: selu</span>"
      ],
      "text/plain": [
       "<IPython.core.display.HTML object>"
      ]
     },
     "metadata": {
      "tags": []
     },
     "output_type": "display_data"
    },
    {
     "data": {
      "text/html": [
       "<span style=\"color:cyan\"> |-act_6: relu</span>"
      ],
      "text/plain": [
       "<IPython.core.display.HTML object>"
      ]
     },
     "metadata": {
      "tags": []
     },
     "output_type": "display_data"
    },
    {
     "data": {
      "text/html": [
       "<span style=\"color:blue\"> |-batch_size: 90</span>"
      ],
      "text/plain": [
       "<IPython.core.display.HTML object>"
      ]
     },
     "metadata": {
      "tags": []
     },
     "output_type": "display_data"
    },
    {
     "data": {
      "text/html": [
       "<span style=\"color:cyan\"> |-epochs: 40</span>"
      ],
      "text/plain": [
       "<IPython.core.display.HTML object>"
      ]
     },
     "metadata": {
      "tags": []
     },
     "output_type": "display_data"
    },
    {
     "data": {
      "text/html": [
       "<span style=\"color:blue\"> |-learning_rate: 1e-05</span>"
      ],
      "text/plain": [
       "<IPython.core.display.HTML object>"
      ]
     },
     "metadata": {
      "tags": []
     },
     "output_type": "display_data"
    },
    {
     "data": {
      "text/html": [
       "<span style=\"color:cyan\"> |-number_of_layers: 6</span>"
      ],
      "text/plain": [
       "<IPython.core.display.HTML object>"
      ]
     },
     "metadata": {
      "tags": []
     },
     "output_type": "display_data"
    },
    {
     "data": {
      "text/html": [
       "<span style=\"color:blue\"> |-unit_0: 500</span>"
      ],
      "text/plain": [
       "<IPython.core.display.HTML object>"
      ]
     },
     "metadata": {
      "tags": []
     },
     "output_type": "display_data"
    },
    {
     "data": {
      "text/html": [
       "<span style=\"color:cyan\"> |-unit_1: 150</span>"
      ],
      "text/plain": [
       "<IPython.core.display.HTML object>"
      ]
     },
     "metadata": {
      "tags": []
     },
     "output_type": "display_data"
    },
    {
     "data": {
      "text/html": [
       "<span style=\"color:blue\"> |-unit_2: 250</span>"
      ],
      "text/plain": [
       "<IPython.core.display.HTML object>"
      ]
     },
     "metadata": {
      "tags": []
     },
     "output_type": "display_data"
    },
    {
     "data": {
      "text/html": [
       "<span style=\"color:cyan\"> |-unit_3: 250</span>"
      ],
      "text/plain": [
       "<IPython.core.display.HTML object>"
      ]
     },
     "metadata": {
      "tags": []
     },
     "output_type": "display_data"
    },
    {
     "data": {
      "text/html": [
       "<span style=\"color:blue\"> |-unit_4: 250</span>"
      ],
      "text/plain": [
       "<IPython.core.display.HTML object>"
      ]
     },
     "metadata": {
      "tags": []
     },
     "output_type": "display_data"
    },
    {
     "data": {
      "text/html": [
       "<span style=\"color:cyan\"> |-unit_5: 100</span>"
      ],
      "text/plain": [
       "<IPython.core.display.HTML object>"
      ]
     },
     "metadata": {
      "tags": []
     },
     "output_type": "display_data"
    },
    {
     "data": {
      "text/html": [
       "<span style=\"color:blue\"> |-unit_6: 100</span>"
      ],
      "text/plain": [
       "<IPython.core.display.HTML object>"
      ]
     },
     "metadata": {
      "tags": []
     },
     "output_type": "display_data"
    },
    {
     "name": "stdout",
     "output_type": "stream",
     "text": [
      "Epoch 1/70\n",
      "32/32 [==============================] - 0s 13ms/step - loss: 0.6872 - accuracy: 0.1444 - auc: 0.4856 - val_loss: 0.6498 - val_accuracy: 0.1811 - val_auc: 0.5218\n",
      "Epoch 2/70\n",
      "32/32 [==============================] - 0s 5ms/step - loss: 0.6111 - accuracy: 0.2256 - auc: 0.5592 - val_loss: 0.6172 - val_accuracy: 0.1888 - val_auc: 0.5418\n",
      "Epoch 3/70\n",
      "32/32 [==============================] - 0s 4ms/step - loss: 0.5787 - accuracy: 0.3188 - auc: 0.5968 - val_loss: 0.6046 - val_accuracy: 0.2577 - val_auc: 0.5527\n",
      "Epoch 4/70\n",
      "32/32 [==============================] - 0s 5ms/step - loss: 0.5630 - accuracy: 0.3827 - auc: 0.6169 - val_loss: 0.5994 - val_accuracy: 0.2959 - val_auc: 0.5596\n",
      "Epoch 5/70\n",
      "32/32 [==============================] - 0s 5ms/step - loss: 0.5545 - accuracy: 0.4045 - auc: 0.6273 - val_loss: 0.5973 - val_accuracy: 0.3112 - val_auc: 0.5640\n",
      "Epoch 6/70\n",
      "32/32 [==============================] - 0s 5ms/step - loss: 0.5492 - accuracy: 0.4153 - auc: 0.6346 - val_loss: 0.5966 - val_accuracy: 0.3189 - val_auc: 0.5674\n",
      "Epoch 7/70\n",
      "32/32 [==============================] - 0s 5ms/step - loss: 0.5456 - accuracy: 0.4236 - auc: 0.6399 - val_loss: 0.5962 - val_accuracy: 0.3265 - val_auc: 0.5689\n",
      "Epoch 8/70\n",
      "32/32 [==============================] - 0s 3ms/step - loss: 0.5430 - accuracy: 0.4243 - auc: 0.6433 - val_loss: 0.5956 - val_accuracy: 0.3240 - val_auc: 0.5707\n",
      "Epoch 9/70\n",
      "32/32 [==============================] - 0s 4ms/step - loss: 0.5410 - accuracy: 0.4249 - auc: 0.6467 - val_loss: 0.5957 - val_accuracy: 0.3291 - val_auc: 0.5718\n",
      "Epoch 10/70\n",
      "32/32 [==============================] - 0s 3ms/step - loss: 0.5394 - accuracy: 0.4268 - auc: 0.6498 - val_loss: 0.5955 - val_accuracy: 0.3291 - val_auc: 0.5727\n",
      "Epoch 11/70\n",
      "32/32 [==============================] - 0s 3ms/step - loss: 0.5379 - accuracy: 0.4281 - auc: 0.6524 - val_loss: 0.5952 - val_accuracy: 0.3291 - val_auc: 0.5735\n",
      "Epoch 12/70\n",
      "32/32 [==============================] - 0s 5ms/step - loss: 0.5366 - accuracy: 0.4288 - auc: 0.6549 - val_loss: 0.5956 - val_accuracy: 0.3342 - val_auc: 0.5744\n",
      "Epoch 13/70\n",
      "32/32 [==============================] - 0s 3ms/step - loss: 0.5354 - accuracy: 0.4300 - auc: 0.6571 - val_loss: 0.5953 - val_accuracy: 0.3291 - val_auc: 0.5746\n",
      "Epoch 14/70\n",
      "32/32 [==============================] - 0s 3ms/step - loss: 0.5343 - accuracy: 0.4313 - auc: 0.6591 - val_loss: 0.5949 - val_accuracy: 0.3316 - val_auc: 0.5753\n",
      "Epoch 15/70\n",
      "32/32 [==============================] - 0s 3ms/step - loss: 0.5333 - accuracy: 0.4313 - auc: 0.6612 - val_loss: 0.5944 - val_accuracy: 0.3291 - val_auc: 0.5754\n",
      "Epoch 16/70\n",
      "32/32 [==============================] - 0s 4ms/step - loss: 0.5323 - accuracy: 0.4326 - auc: 0.6633 - val_loss: 0.5943 - val_accuracy: 0.3316 - val_auc: 0.5756\n",
      "Epoch 17/70\n",
      "32/32 [==============================] - 0s 3ms/step - loss: 0.5314 - accuracy: 0.4345 - auc: 0.6649 - val_loss: 0.5939 - val_accuracy: 0.3342 - val_auc: 0.5765\n",
      "Epoch 18/70\n",
      "32/32 [==============================] - 0s 4ms/step - loss: 0.5305 - accuracy: 0.4332 - auc: 0.6670 - val_loss: 0.5933 - val_accuracy: 0.3316 - val_auc: 0.5767\n",
      "Epoch 19/70\n",
      "32/32 [==============================] - 0s 3ms/step - loss: 0.5297 - accuracy: 0.4326 - auc: 0.6688 - val_loss: 0.5935 - val_accuracy: 0.3316 - val_auc: 0.5763\n",
      "Epoch 20/70\n",
      "32/32 [==============================] - 0s 3ms/step - loss: 0.5289 - accuracy: 0.4332 - auc: 0.6703 - val_loss: 0.5932 - val_accuracy: 0.3316 - val_auc: 0.5762\n",
      "Epoch 21/70\n",
      "32/32 [==============================] - 0s 3ms/step - loss: 0.5281 - accuracy: 0.4345 - auc: 0.6720 - val_loss: 0.5927 - val_accuracy: 0.3316 - val_auc: 0.5763\n",
      "Epoch 22/70\n",
      "32/32 [==============================] - 0s 3ms/step - loss: 0.5274 - accuracy: 0.4351 - auc: 0.6738 - val_loss: 0.5925 - val_accuracy: 0.3316 - val_auc: 0.5763\n",
      "Epoch 23/70\n",
      "32/32 [==============================] - 0s 3ms/step - loss: 0.5267 - accuracy: 0.4358 - auc: 0.6753 - val_loss: 0.5924 - val_accuracy: 0.3316 - val_auc: 0.5769\n",
      "Epoch 24/70\n",
      "32/32 [==============================] - 0s 3ms/step - loss: 0.5260 - accuracy: 0.4351 - auc: 0.6771 - val_loss: 0.5926 - val_accuracy: 0.3316 - val_auc: 0.5772\n",
      "Epoch 25/70\n",
      "32/32 [==============================] - 0s 4ms/step - loss: 0.5253 - accuracy: 0.4364 - auc: 0.6782 - val_loss: 0.5921 - val_accuracy: 0.3316 - val_auc: 0.5773\n",
      "Epoch 26/70\n",
      "32/32 [==============================] - 0s 3ms/step - loss: 0.5246 - accuracy: 0.4358 - auc: 0.6801 - val_loss: 0.5923 - val_accuracy: 0.3316 - val_auc: 0.5775\n",
      "Epoch 27/70\n",
      "32/32 [==============================] - 0s 3ms/step - loss: 0.5240 - accuracy: 0.4364 - auc: 0.6815 - val_loss: 0.5924 - val_accuracy: 0.3316 - val_auc: 0.5781\n",
      "Epoch 28/70\n",
      "32/32 [==============================] - 0s 3ms/step - loss: 0.5234 - accuracy: 0.4383 - auc: 0.6829 - val_loss: 0.5926 - val_accuracy: 0.3316 - val_auc: 0.5771\n",
      "Epoch 29/70\n",
      "32/32 [==============================] - 0s 3ms/step - loss: 0.5228 - accuracy: 0.4377 - auc: 0.6843 - val_loss: 0.5925 - val_accuracy: 0.3316 - val_auc: 0.5774\n",
      "Epoch 30/70\n",
      "32/32 [==============================] - 0s 3ms/step - loss: 0.5222 - accuracy: 0.4390 - auc: 0.6858 - val_loss: 0.5924 - val_accuracy: 0.3316 - val_auc: 0.5772\n",
      "Epoch 31/70\n",
      "32/32 [==============================] - 0s 3ms/step - loss: 0.5216 - accuracy: 0.4390 - auc: 0.6874 - val_loss: 0.5924 - val_accuracy: 0.3316 - val_auc: 0.5776\n",
      "Epoch 32/70\n",
      "32/32 [==============================] - 0s 3ms/step - loss: 0.5210 - accuracy: 0.4371 - auc: 0.6887 - val_loss: 0.5923 - val_accuracy: 0.3342 - val_auc: 0.5778\n",
      "Epoch 33/70\n",
      "32/32 [==============================] - 0s 3ms/step - loss: 0.5205 - accuracy: 0.4396 - auc: 0.6897 - val_loss: 0.5923 - val_accuracy: 0.3342 - val_auc: 0.5780\n",
      "Epoch 34/70\n",
      "32/32 [==============================] - 0s 3ms/step - loss: 0.5199 - accuracy: 0.4403 - auc: 0.6908 - val_loss: 0.5917 - val_accuracy: 0.3316 - val_auc: 0.5783\n",
      "Epoch 35/70\n",
      "32/32 [==============================] - 0s 3ms/step - loss: 0.5194 - accuracy: 0.4415 - auc: 0.6924 - val_loss: 0.5919 - val_accuracy: 0.3342 - val_auc: 0.5777\n",
      "Epoch 36/70\n",
      "32/32 [==============================] - 0s 3ms/step - loss: 0.5189 - accuracy: 0.4396 - auc: 0.6937 - val_loss: 0.5927 - val_accuracy: 0.3342 - val_auc: 0.5779\n",
      "Epoch 37/70\n",
      "32/32 [==============================] - 0s 3ms/step - loss: 0.5184 - accuracy: 0.4415 - auc: 0.6947 - val_loss: 0.5925 - val_accuracy: 0.3342 - val_auc: 0.5782\n",
      "Epoch 38/70\n",
      "32/32 [==============================] - 0s 3ms/step - loss: 0.5179 - accuracy: 0.4415 - auc: 0.6961 - val_loss: 0.5924 - val_accuracy: 0.3342 - val_auc: 0.5778\n",
      "Epoch 39/70\n",
      "32/32 [==============================] - 0s 3ms/step - loss: 0.5173 - accuracy: 0.4422 - auc: 0.6972 - val_loss: 0.5923 - val_accuracy: 0.3342 - val_auc: 0.5777\n",
      "Epoch 40/70\n",
      "32/32 [==============================] - 0s 3ms/step - loss: 0.5168 - accuracy: 0.4447 - auc: 0.6984 - val_loss: 0.5924 - val_accuracy: 0.3342 - val_auc: 0.5774\n",
      "Epoch 41/70\n",
      "32/32 [==============================] - 0s 3ms/step - loss: 0.5164 - accuracy: 0.4441 - auc: 0.6994 - val_loss: 0.5923 - val_accuracy: 0.3342 - val_auc: 0.5779\n",
      "Epoch 42/70\n",
      "32/32 [==============================] - 0s 3ms/step - loss: 0.5159 - accuracy: 0.4441 - auc: 0.7008 - val_loss: 0.5921 - val_accuracy: 0.3342 - val_auc: 0.5782\n",
      "Epoch 43/70\n",
      "32/32 [==============================] - 0s 3ms/step - loss: 0.5154 - accuracy: 0.4441 - auc: 0.7017 - val_loss: 0.5923 - val_accuracy: 0.3316 - val_auc: 0.5783\n",
      "Epoch 44/70\n",
      "32/32 [==============================] - 0s 3ms/step - loss: 0.5149 - accuracy: 0.4428 - auc: 0.7023 - val_loss: 0.5922 - val_accuracy: 0.3342 - val_auc: 0.5785\n",
      "Epoch 45/70\n",
      "32/32 [==============================] - 0s 3ms/step - loss: 0.5145 - accuracy: 0.4441 - auc: 0.7036 - val_loss: 0.5918 - val_accuracy: 0.3342 - val_auc: 0.5782\n",
      "Epoch 46/70\n",
      "32/32 [==============================] - 0s 5ms/step - loss: 0.5141 - accuracy: 0.4454 - auc: 0.7047 - val_loss: 0.5916 - val_accuracy: 0.3367 - val_auc: 0.5788\n",
      "Epoch 47/70\n",
      "32/32 [==============================] - 0s 3ms/step - loss: 0.5136 - accuracy: 0.4441 - auc: 0.7057 - val_loss: 0.5916 - val_accuracy: 0.3367 - val_auc: 0.5785\n",
      "Epoch 48/70\n",
      "32/32 [==============================] - 0s 5ms/step - loss: 0.5131 - accuracy: 0.4466 - auc: 0.7069 - val_loss: 0.5917 - val_accuracy: 0.3393 - val_auc: 0.5787\n",
      "Epoch 49/70\n",
      "32/32 [==============================] - 0s 3ms/step - loss: 0.5127 - accuracy: 0.4447 - auc: 0.7081 - val_loss: 0.5921 - val_accuracy: 0.3393 - val_auc: 0.5783\n",
      "Epoch 50/70\n",
      "32/32 [==============================] - 0s 3ms/step - loss: 0.5123 - accuracy: 0.4460 - auc: 0.7089 - val_loss: 0.5925 - val_accuracy: 0.3342 - val_auc: 0.5778\n",
      "Epoch 51/70\n",
      "32/32 [==============================] - 0s 3ms/step - loss: 0.5118 - accuracy: 0.4454 - auc: 0.7099 - val_loss: 0.5927 - val_accuracy: 0.3393 - val_auc: 0.5776\n",
      "Epoch 52/70\n",
      "32/32 [==============================] - 0s 3ms/step - loss: 0.5114 - accuracy: 0.4466 - auc: 0.7108 - val_loss: 0.5928 - val_accuracy: 0.3367 - val_auc: 0.5774\n",
      "Epoch 53/70\n",
      "32/32 [==============================] - 0s 3ms/step - loss: 0.5110 - accuracy: 0.4473 - auc: 0.7115 - val_loss: 0.5926 - val_accuracy: 0.3367 - val_auc: 0.5771\n",
      "Epoch 54/70\n",
      "32/32 [==============================] - 0s 3ms/step - loss: 0.5106 - accuracy: 0.4466 - auc: 0.7125 - val_loss: 0.5925 - val_accuracy: 0.3367 - val_auc: 0.5773\n",
      "Epoch 55/70\n",
      "32/32 [==============================] - 0s 3ms/step - loss: 0.5102 - accuracy: 0.4479 - auc: 0.7133 - val_loss: 0.5924 - val_accuracy: 0.3367 - val_auc: 0.5778\n",
      "Epoch 56/70\n",
      "32/32 [==============================] - 0s 3ms/step - loss: 0.5097 - accuracy: 0.4466 - auc: 0.7143 - val_loss: 0.5926 - val_accuracy: 0.3367 - val_auc: 0.5776\n",
      "Epoch 57/70\n",
      "32/32 [==============================] - 0s 3ms/step - loss: 0.5093 - accuracy: 0.4479 - auc: 0.7153 - val_loss: 0.5929 - val_accuracy: 0.3367 - val_auc: 0.5770\n",
      "Epoch 58/70\n",
      "32/32 [==============================] - 0s 3ms/step - loss: 0.5090 - accuracy: 0.4492 - auc: 0.7159 - val_loss: 0.5930 - val_accuracy: 0.3367 - val_auc: 0.5772\n",
      "Epoch 59/70\n",
      "32/32 [==============================] - 0s 3ms/step - loss: 0.5086 - accuracy: 0.4479 - auc: 0.7166 - val_loss: 0.5933 - val_accuracy: 0.3367 - val_auc: 0.5775\n",
      "Epoch 60/70\n",
      "32/32 [==============================] - 0s 3ms/step - loss: 0.5082 - accuracy: 0.4492 - auc: 0.7174 - val_loss: 0.5934 - val_accuracy: 0.3367 - val_auc: 0.5773\n",
      "Epoch 61/70\n",
      "32/32 [==============================] - 0s 4ms/step - loss: 0.5078 - accuracy: 0.4479 - auc: 0.7179 - val_loss: 0.5934 - val_accuracy: 0.3367 - val_auc: 0.5778\n",
      "Epoch 62/70\n",
      "32/32 [==============================] - 0s 3ms/step - loss: 0.5075 - accuracy: 0.4486 - auc: 0.7190 - val_loss: 0.5939 - val_accuracy: 0.3367 - val_auc: 0.5771\n",
      "Epoch 63/70\n",
      "32/32 [==============================] - 0s 3ms/step - loss: 0.5071 - accuracy: 0.4492 - auc: 0.7193 - val_loss: 0.5934 - val_accuracy: 0.3367 - val_auc: 0.5774\n",
      "Epoch 64/70\n",
      "32/32 [==============================] - 0s 3ms/step - loss: 0.5067 - accuracy: 0.4486 - auc: 0.7204 - val_loss: 0.5938 - val_accuracy: 0.3367 - val_auc: 0.5776\n",
      "Epoch 65/70\n",
      "32/32 [==============================] - 0s 3ms/step - loss: 0.5063 - accuracy: 0.4492 - auc: 0.7211 - val_loss: 0.5938 - val_accuracy: 0.3367 - val_auc: 0.5774\n",
      "Epoch 66/70\n",
      "32/32 [==============================] - 0s 3ms/step - loss: 0.5060 - accuracy: 0.4492 - auc: 0.7217 - val_loss: 0.5938 - val_accuracy: 0.3367 - val_auc: 0.5769\n",
      "Epoch 67/70\n",
      "32/32 [==============================] - 0s 4ms/step - loss: 0.5056 - accuracy: 0.4492 - auc: 0.7226 - val_loss: 0.5938 - val_accuracy: 0.3342 - val_auc: 0.5771\n",
      "Epoch 68/70\n",
      "32/32 [==============================] - 0s 3ms/step - loss: 0.5052 - accuracy: 0.4498 - auc: 0.7235 - val_loss: 0.5936 - val_accuracy: 0.3342 - val_auc: 0.5774\n",
      "Epoch 69/70\n",
      "32/32 [==============================] - 0s 3ms/step - loss: 0.5049 - accuracy: 0.4505 - auc: 0.7241 - val_loss: 0.5936 - val_accuracy: 0.3291 - val_auc: 0.5777\n",
      "Epoch 70/70\n",
      "32/32 [==============================] - 0s 3ms/step - loss: 0.5045 - accuracy: 0.4492 - auc: 0.7249 - val_loss: 0.5934 - val_accuracy: 0.3291 - val_auc: 0.5778\n",
      "Epoch 1/70\n",
      "32/32 [==============================] - 0s 11ms/step - loss: 0.6645 - accuracy: 0.2166 - auc: 0.5364 - val_loss: 0.6327 - val_accuracy: 0.2423 - val_auc: 0.5383\n",
      "Epoch 2/70\n",
      "32/32 [==============================] - 0s 3ms/step - loss: 0.5985 - accuracy: 0.3022 - auc: 0.5836 - val_loss: 0.6048 - val_accuracy: 0.2781 - val_auc: 0.5579\n",
      "Epoch 3/70\n",
      "32/32 [==============================] - 0s 3ms/step - loss: 0.5711 - accuracy: 0.3514 - auc: 0.6095 - val_loss: 0.5950 - val_accuracy: 0.3087 - val_auc: 0.5675\n",
      "Epoch 4/70\n",
      "32/32 [==============================] - 0s 3ms/step - loss: 0.5587 - accuracy: 0.3821 - auc: 0.6234 - val_loss: 0.5911 - val_accuracy: 0.3189 - val_auc: 0.5731\n",
      "Epoch 5/70\n",
      "32/32 [==============================] - 0s 3ms/step - loss: 0.5519 - accuracy: 0.3994 - auc: 0.6311 - val_loss: 0.5892 - val_accuracy: 0.3342 - val_auc: 0.5767\n",
      "Epoch 6/70\n",
      "32/32 [==============================] - 0s 3ms/step - loss: 0.5478 - accuracy: 0.4064 - auc: 0.6361 - val_loss: 0.5881 - val_accuracy: 0.3342 - val_auc: 0.5797\n",
      "Epoch 7/70\n",
      "32/32 [==============================] - 0s 3ms/step - loss: 0.5451 - accuracy: 0.4179 - auc: 0.6404 - val_loss: 0.5874 - val_accuracy: 0.3367 - val_auc: 0.5813\n",
      "Epoch 8/70\n",
      "32/32 [==============================] - 0s 3ms/step - loss: 0.5430 - accuracy: 0.4179 - auc: 0.6440 - val_loss: 0.5870 - val_accuracy: 0.3316 - val_auc: 0.5829\n",
      "Epoch 9/70\n",
      "32/32 [==============================] - 0s 3ms/step - loss: 0.5412 - accuracy: 0.4204 - auc: 0.6469 - val_loss: 0.5868 - val_accuracy: 0.3342 - val_auc: 0.5842\n",
      "Epoch 10/70\n",
      "32/32 [==============================] - 0s 3ms/step - loss: 0.5397 - accuracy: 0.4230 - auc: 0.6497 - val_loss: 0.5864 - val_accuracy: 0.3316 - val_auc: 0.5854\n",
      "Epoch 11/70\n",
      "32/32 [==============================] - 0s 3ms/step - loss: 0.5383 - accuracy: 0.4256 - auc: 0.6520 - val_loss: 0.5860 - val_accuracy: 0.3393 - val_auc: 0.5866\n",
      "Epoch 12/70\n",
      "32/32 [==============================] - 0s 3ms/step - loss: 0.5370 - accuracy: 0.4249 - auc: 0.6543 - val_loss: 0.5859 - val_accuracy: 0.3367 - val_auc: 0.5868\n",
      "Epoch 13/70\n",
      "32/32 [==============================] - 0s 5ms/step - loss: 0.5359 - accuracy: 0.4288 - auc: 0.6564 - val_loss: 0.5852 - val_accuracy: 0.3418 - val_auc: 0.5878\n",
      "Epoch 14/70\n",
      "32/32 [==============================] - 0s 3ms/step - loss: 0.5348 - accuracy: 0.4275 - auc: 0.6579 - val_loss: 0.5848 - val_accuracy: 0.3418 - val_auc: 0.5888\n",
      "Epoch 15/70\n",
      "32/32 [==============================] - 0s 3ms/step - loss: 0.5337 - accuracy: 0.4281 - auc: 0.6604 - val_loss: 0.5846 - val_accuracy: 0.3418 - val_auc: 0.5899\n",
      "Epoch 16/70\n",
      "32/32 [==============================] - 0s 3ms/step - loss: 0.5327 - accuracy: 0.4288 - auc: 0.6621 - val_loss: 0.5843 - val_accuracy: 0.3418 - val_auc: 0.5899\n",
      "Epoch 17/70\n",
      "32/32 [==============================] - 0s 3ms/step - loss: 0.5319 - accuracy: 0.4281 - auc: 0.6640 - val_loss: 0.5839 - val_accuracy: 0.3418 - val_auc: 0.5902\n",
      "Epoch 18/70\n",
      "32/32 [==============================] - 0s 3ms/step - loss: 0.5310 - accuracy: 0.4294 - auc: 0.6657 - val_loss: 0.5836 - val_accuracy: 0.3418 - val_auc: 0.5902\n",
      "Epoch 19/70\n",
      "32/32 [==============================] - 0s 6ms/step - loss: 0.5300 - accuracy: 0.4307 - auc: 0.6671 - val_loss: 0.5833 - val_accuracy: 0.3444 - val_auc: 0.5905\n",
      "Epoch 20/70\n",
      "32/32 [==============================] - 0s 4ms/step - loss: 0.5293 - accuracy: 0.4326 - auc: 0.6686 - val_loss: 0.5836 - val_accuracy: 0.3444 - val_auc: 0.5905\n",
      "Epoch 21/70\n",
      "32/32 [==============================] - 0s 3ms/step - loss: 0.5284 - accuracy: 0.4313 - auc: 0.6705 - val_loss: 0.5832 - val_accuracy: 0.3444 - val_auc: 0.5911\n",
      "Epoch 22/70\n",
      "32/32 [==============================] - 0s 3ms/step - loss: 0.5276 - accuracy: 0.4326 - auc: 0.6717 - val_loss: 0.5828 - val_accuracy: 0.3444 - val_auc: 0.5919\n",
      "Epoch 23/70\n",
      "32/32 [==============================] - 0s 3ms/step - loss: 0.5269 - accuracy: 0.4351 - auc: 0.6737 - val_loss: 0.5825 - val_accuracy: 0.3444 - val_auc: 0.5918\n",
      "Epoch 24/70\n",
      "32/32 [==============================] - 0s 3ms/step - loss: 0.5262 - accuracy: 0.4332 - auc: 0.6750 - val_loss: 0.5822 - val_accuracy: 0.3444 - val_auc: 0.5914\n",
      "Epoch 25/70\n",
      "32/32 [==============================] - 0s 3ms/step - loss: 0.5255 - accuracy: 0.4345 - auc: 0.6762 - val_loss: 0.5818 - val_accuracy: 0.3444 - val_auc: 0.5917\n",
      "Epoch 26/70\n",
      "32/32 [==============================] - 0s 4ms/step - loss: 0.5248 - accuracy: 0.4345 - auc: 0.6779 - val_loss: 0.5818 - val_accuracy: 0.3444 - val_auc: 0.5921\n",
      "Epoch 27/70\n",
      "32/32 [==============================] - 0s 3ms/step - loss: 0.5241 - accuracy: 0.4332 - auc: 0.6790 - val_loss: 0.5819 - val_accuracy: 0.3444 - val_auc: 0.5918\n",
      "Epoch 28/70\n",
      "32/32 [==============================] - 0s 3ms/step - loss: 0.5234 - accuracy: 0.4351 - auc: 0.6809 - val_loss: 0.5819 - val_accuracy: 0.3444 - val_auc: 0.5924\n",
      "Epoch 29/70\n",
      "32/32 [==============================] - 0s 3ms/step - loss: 0.5228 - accuracy: 0.4364 - auc: 0.6822 - val_loss: 0.5820 - val_accuracy: 0.3444 - val_auc: 0.5922\n",
      "Epoch 30/70\n",
      "32/32 [==============================] - 0s 4ms/step - loss: 0.5222 - accuracy: 0.4364 - auc: 0.6834 - val_loss: 0.5815 - val_accuracy: 0.3418 - val_auc: 0.5922\n",
      "Epoch 31/70\n",
      "32/32 [==============================] - 0s 5ms/step - loss: 0.5215 - accuracy: 0.4358 - auc: 0.6851 - val_loss: 0.5819 - val_accuracy: 0.3469 - val_auc: 0.5927\n",
      "Epoch 32/70\n",
      "32/32 [==============================] - 0s 3ms/step - loss: 0.5210 - accuracy: 0.4358 - auc: 0.6863 - val_loss: 0.5815 - val_accuracy: 0.3444 - val_auc: 0.5925\n",
      "Epoch 33/70\n",
      "32/32 [==============================] - 0s 3ms/step - loss: 0.5204 - accuracy: 0.4351 - auc: 0.6875 - val_loss: 0.5816 - val_accuracy: 0.3444 - val_auc: 0.5926\n",
      "Epoch 34/70\n",
      "32/32 [==============================] - 0s 3ms/step - loss: 0.5198 - accuracy: 0.4396 - auc: 0.6893 - val_loss: 0.5819 - val_accuracy: 0.3444 - val_auc: 0.5927\n",
      "Epoch 35/70\n",
      "32/32 [==============================] - 0s 3ms/step - loss: 0.5193 - accuracy: 0.4409 - auc: 0.6899 - val_loss: 0.5813 - val_accuracy: 0.3418 - val_auc: 0.5932\n",
      "Epoch 36/70\n",
      "32/32 [==============================] - 0s 4ms/step - loss: 0.5187 - accuracy: 0.4409 - auc: 0.6915 - val_loss: 0.5811 - val_accuracy: 0.3418 - val_auc: 0.5936\n",
      "Epoch 37/70\n",
      "32/32 [==============================] - 0s 3ms/step - loss: 0.5182 - accuracy: 0.4415 - auc: 0.6926 - val_loss: 0.5817 - val_accuracy: 0.3418 - val_auc: 0.5935\n",
      "Epoch 38/70\n",
      "32/32 [==============================] - 0s 3ms/step - loss: 0.5176 - accuracy: 0.4422 - auc: 0.6939 - val_loss: 0.5816 - val_accuracy: 0.3393 - val_auc: 0.5931\n",
      "Epoch 39/70\n",
      "32/32 [==============================] - 0s 3ms/step - loss: 0.5171 - accuracy: 0.4415 - auc: 0.6950 - val_loss: 0.5819 - val_accuracy: 0.3393 - val_auc: 0.5930\n",
      "Epoch 40/70\n",
      "32/32 [==============================] - 0s 4ms/step - loss: 0.5166 - accuracy: 0.4415 - auc: 0.6958 - val_loss: 0.5818 - val_accuracy: 0.3393 - val_auc: 0.5928\n",
      "Epoch 41/70\n",
      "32/32 [==============================] - 0s 3ms/step - loss: 0.5161 - accuracy: 0.4428 - auc: 0.6971 - val_loss: 0.5819 - val_accuracy: 0.3393 - val_auc: 0.5929\n",
      "Epoch 42/70\n",
      "32/32 [==============================] - 0s 3ms/step - loss: 0.5156 - accuracy: 0.4441 - auc: 0.6982 - val_loss: 0.5817 - val_accuracy: 0.3393 - val_auc: 0.5933\n",
      "Epoch 43/70\n",
      "32/32 [==============================] - 0s 3ms/step - loss: 0.5151 - accuracy: 0.4441 - auc: 0.6994 - val_loss: 0.5814 - val_accuracy: 0.3469 - val_auc: 0.5928\n",
      "Epoch 44/70\n",
      "32/32 [==============================] - 0s 3ms/step - loss: 0.5146 - accuracy: 0.4454 - auc: 0.7003 - val_loss: 0.5810 - val_accuracy: 0.3469 - val_auc: 0.5936\n",
      "Epoch 45/70\n",
      "32/32 [==============================] - 0s 3ms/step - loss: 0.5142 - accuracy: 0.4428 - auc: 0.7012 - val_loss: 0.5812 - val_accuracy: 0.3444 - val_auc: 0.5936\n",
      "Epoch 46/70\n",
      "32/32 [==============================] - 0s 3ms/step - loss: 0.5137 - accuracy: 0.4441 - auc: 0.7027 - val_loss: 0.5815 - val_accuracy: 0.3444 - val_auc: 0.5929\n",
      "Epoch 47/70\n",
      "32/32 [==============================] - 0s 3ms/step - loss: 0.5133 - accuracy: 0.4441 - auc: 0.7035 - val_loss: 0.5817 - val_accuracy: 0.3469 - val_auc: 0.5928\n",
      "Epoch 48/70\n",
      "32/32 [==============================] - 0s 3ms/step - loss: 0.5128 - accuracy: 0.4441 - auc: 0.7048 - val_loss: 0.5821 - val_accuracy: 0.3418 - val_auc: 0.5932\n",
      "Epoch 49/70\n",
      "32/32 [==============================] - 0s 3ms/step - loss: 0.5124 - accuracy: 0.4428 - auc: 0.7052 - val_loss: 0.5820 - val_accuracy: 0.3418 - val_auc: 0.5929\n",
      "Epoch 50/70\n",
      "32/32 [==============================] - 0s 3ms/step - loss: 0.5119 - accuracy: 0.4428 - auc: 0.7062 - val_loss: 0.5819 - val_accuracy: 0.3444 - val_auc: 0.5936\n",
      "Epoch 51/70\n",
      "32/32 [==============================] - 0s 3ms/step - loss: 0.5115 - accuracy: 0.4447 - auc: 0.7076 - val_loss: 0.5818 - val_accuracy: 0.3444 - val_auc: 0.5934\n",
      "Epoch 52/70\n",
      "32/32 [==============================] - 0s 4ms/step - loss: 0.5111 - accuracy: 0.4447 - auc: 0.7081 - val_loss: 0.5820 - val_accuracy: 0.3444 - val_auc: 0.5929\n",
      "Epoch 53/70\n",
      "32/32 [==============================] - 0s 3ms/step - loss: 0.5107 - accuracy: 0.4466 - auc: 0.7093 - val_loss: 0.5818 - val_accuracy: 0.3418 - val_auc: 0.5933\n",
      "Epoch 54/70\n",
      "32/32 [==============================] - 0s 3ms/step - loss: 0.5102 - accuracy: 0.4460 - auc: 0.7104 - val_loss: 0.5820 - val_accuracy: 0.3393 - val_auc: 0.5933\n",
      "Epoch 55/70\n",
      "32/32 [==============================] - 0s 3ms/step - loss: 0.5098 - accuracy: 0.4460 - auc: 0.7110 - val_loss: 0.5817 - val_accuracy: 0.3367 - val_auc: 0.5942\n",
      "Epoch 56/70\n",
      "32/32 [==============================] - 0s 3ms/step - loss: 0.5094 - accuracy: 0.4473 - auc: 0.7120 - val_loss: 0.5820 - val_accuracy: 0.3367 - val_auc: 0.5938\n",
      "Epoch 57/70\n",
      "32/32 [==============================] - 0s 3ms/step - loss: 0.5090 - accuracy: 0.4466 - auc: 0.7127 - val_loss: 0.5820 - val_accuracy: 0.3367 - val_auc: 0.5939\n",
      "Epoch 58/70\n",
      "32/32 [==============================] - 0s 3ms/step - loss: 0.5086 - accuracy: 0.4466 - auc: 0.7136 - val_loss: 0.5825 - val_accuracy: 0.3342 - val_auc: 0.5935\n",
      "Epoch 59/70\n",
      "32/32 [==============================] - 0s 3ms/step - loss: 0.5081 - accuracy: 0.4460 - auc: 0.7145 - val_loss: 0.5822 - val_accuracy: 0.3342 - val_auc: 0.5937\n",
      "Epoch 60/70\n",
      "32/32 [==============================] - 0s 3ms/step - loss: 0.5077 - accuracy: 0.4479 - auc: 0.7154 - val_loss: 0.5825 - val_accuracy: 0.3367 - val_auc: 0.5936\n",
      "Epoch 61/70\n",
      "32/32 [==============================] - 0s 3ms/step - loss: 0.5074 - accuracy: 0.4466 - auc: 0.7160 - val_loss: 0.5825 - val_accuracy: 0.3367 - val_auc: 0.5939\n",
      "Epoch 62/70\n",
      "32/32 [==============================] - 0s 3ms/step - loss: 0.5070 - accuracy: 0.4479 - auc: 0.7170 - val_loss: 0.5820 - val_accuracy: 0.3367 - val_auc: 0.5933\n",
      "Epoch 63/70\n",
      "32/32 [==============================] - 0s 3ms/step - loss: 0.5066 - accuracy: 0.4498 - auc: 0.7182 - val_loss: 0.5823 - val_accuracy: 0.3367 - val_auc: 0.5931\n",
      "Epoch 64/70\n",
      "32/32 [==============================] - 0s 3ms/step - loss: 0.5062 - accuracy: 0.4518 - auc: 0.7192 - val_loss: 0.5829 - val_accuracy: 0.3367 - val_auc: 0.5930\n",
      "Epoch 65/70\n",
      "32/32 [==============================] - 0s 3ms/step - loss: 0.5058 - accuracy: 0.4473 - auc: 0.7191 - val_loss: 0.5827 - val_accuracy: 0.3367 - val_auc: 0.5929\n",
      "Epoch 66/70\n",
      "32/32 [==============================] - 0s 3ms/step - loss: 0.5055 - accuracy: 0.4486 - auc: 0.7201 - val_loss: 0.5822 - val_accuracy: 0.3393 - val_auc: 0.5932\n",
      "Epoch 67/70\n",
      "32/32 [==============================] - 0s 3ms/step - loss: 0.5051 - accuracy: 0.4511 - auc: 0.7212 - val_loss: 0.5825 - val_accuracy: 0.3367 - val_auc: 0.5931\n",
      "Epoch 68/70\n",
      "32/32 [==============================] - 0s 3ms/step - loss: 0.5047 - accuracy: 0.4537 - auc: 0.7217 - val_loss: 0.5827 - val_accuracy: 0.3367 - val_auc: 0.5934\n",
      "Epoch 69/70\n",
      "32/32 [==============================] - 0s 3ms/step - loss: 0.5043 - accuracy: 0.4518 - auc: 0.7225 - val_loss: 0.5823 - val_accuracy: 0.3367 - val_auc: 0.5941\n",
      "Epoch 70/70\n",
      "32/32 [==============================] - 0s 4ms/step - loss: 0.5040 - accuracy: 0.4511 - auc: 0.7235 - val_loss: 0.5822 - val_accuracy: 0.3342 - val_auc: 0.5934\n",
      "Epoch 1/70\n",
      "32/32 [==============================] - 0s 11ms/step - loss: 0.6465 - accuracy: 0.2396 - auc: 0.5371 - val_loss: 0.6310 - val_accuracy: 0.2296 - val_auc: 0.5169\n",
      "Epoch 2/70\n",
      "32/32 [==============================] - 0s 3ms/step - loss: 0.5911 - accuracy: 0.3329 - auc: 0.5857 - val_loss: 0.6084 - val_accuracy: 0.2883 - val_auc: 0.5346\n",
      "Epoch 3/70\n",
      "32/32 [==============================] - 0s 3ms/step - loss: 0.5677 - accuracy: 0.3738 - auc: 0.6112 - val_loss: 0.6002 - val_accuracy: 0.3163 - val_auc: 0.5441\n",
      "Epoch 4/70\n",
      "32/32 [==============================] - 0s 3ms/step - loss: 0.5566 - accuracy: 0.4070 - auc: 0.6232 - val_loss: 0.5969 - val_accuracy: 0.3189 - val_auc: 0.5503\n",
      "Epoch 5/70\n",
      "32/32 [==============================] - 0s 3ms/step - loss: 0.5504 - accuracy: 0.4173 - auc: 0.6318 - val_loss: 0.5953 - val_accuracy: 0.3189 - val_auc: 0.5551\n",
      "Epoch 6/70\n",
      "32/32 [==============================] - 0s 3ms/step - loss: 0.5464 - accuracy: 0.4198 - auc: 0.6379 - val_loss: 0.5945 - val_accuracy: 0.3240 - val_auc: 0.5588\n",
      "Epoch 7/70\n",
      "32/32 [==============================] - 0s 3ms/step - loss: 0.5437 - accuracy: 0.4236 - auc: 0.6427 - val_loss: 0.5939 - val_accuracy: 0.3240 - val_auc: 0.5609\n",
      "Epoch 8/70\n",
      "32/32 [==============================] - 0s 4ms/step - loss: 0.5416 - accuracy: 0.4256 - auc: 0.6462 - val_loss: 0.5940 - val_accuracy: 0.3291 - val_auc: 0.5629\n",
      "Epoch 9/70\n",
      "32/32 [==============================] - 0s 4ms/step - loss: 0.5398 - accuracy: 0.4294 - auc: 0.6500 - val_loss: 0.5934 - val_accuracy: 0.3291 - val_auc: 0.5650\n",
      "Epoch 10/70\n",
      "32/32 [==============================] - 0s 3ms/step - loss: 0.5383 - accuracy: 0.4294 - auc: 0.6530 - val_loss: 0.5936 - val_accuracy: 0.3265 - val_auc: 0.5659\n",
      "Epoch 11/70\n",
      "32/32 [==============================] - 0s 3ms/step - loss: 0.5369 - accuracy: 0.4319 - auc: 0.6556 - val_loss: 0.5935 - val_accuracy: 0.3291 - val_auc: 0.5669\n",
      "Epoch 12/70\n",
      "32/32 [==============================] - 0s 3ms/step - loss: 0.5357 - accuracy: 0.4326 - auc: 0.6582 - val_loss: 0.5927 - val_accuracy: 0.3342 - val_auc: 0.5680\n",
      "Epoch 13/70\n",
      "32/32 [==============================] - 0s 3ms/step - loss: 0.5345 - accuracy: 0.4319 - auc: 0.6607 - val_loss: 0.5928 - val_accuracy: 0.3367 - val_auc: 0.5684\n",
      "Epoch 14/70\n",
      "32/32 [==============================] - 0s 3ms/step - loss: 0.5334 - accuracy: 0.4332 - auc: 0.6628 - val_loss: 0.5922 - val_accuracy: 0.3393 - val_auc: 0.5692\n",
      "Epoch 15/70\n",
      "32/32 [==============================] - 0s 4ms/step - loss: 0.5324 - accuracy: 0.4364 - auc: 0.6645 - val_loss: 0.5916 - val_accuracy: 0.3342 - val_auc: 0.5701\n",
      "Epoch 16/70\n",
      "32/32 [==============================] - 0s 3ms/step - loss: 0.5314 - accuracy: 0.4358 - auc: 0.6667 - val_loss: 0.5913 - val_accuracy: 0.3367 - val_auc: 0.5706\n",
      "Epoch 17/70\n",
      "32/32 [==============================] - 0s 3ms/step - loss: 0.5305 - accuracy: 0.4351 - auc: 0.6684 - val_loss: 0.5915 - val_accuracy: 0.3367 - val_auc: 0.5707\n",
      "Epoch 18/70\n",
      "32/32 [==============================] - 0s 3ms/step - loss: 0.5296 - accuracy: 0.4383 - auc: 0.6703 - val_loss: 0.5909 - val_accuracy: 0.3342 - val_auc: 0.5711\n",
      "Epoch 19/70\n",
      "32/32 [==============================] - 0s 3ms/step - loss: 0.5287 - accuracy: 0.4383 - auc: 0.6720 - val_loss: 0.5908 - val_accuracy: 0.3342 - val_auc: 0.5720\n",
      "Epoch 20/70\n",
      "32/32 [==============================] - 0s 3ms/step - loss: 0.5279 - accuracy: 0.4403 - auc: 0.6738 - val_loss: 0.5902 - val_accuracy: 0.3342 - val_auc: 0.5722\n",
      "Epoch 21/70\n",
      "32/32 [==============================] - 0s 3ms/step - loss: 0.5270 - accuracy: 0.4403 - auc: 0.6756 - val_loss: 0.5904 - val_accuracy: 0.3367 - val_auc: 0.5726\n",
      "Epoch 22/70\n",
      "32/32 [==============================] - 0s 4ms/step - loss: 0.5263 - accuracy: 0.4435 - auc: 0.6772 - val_loss: 0.5897 - val_accuracy: 0.3367 - val_auc: 0.5731\n",
      "Epoch 23/70\n",
      "32/32 [==============================] - 0s 3ms/step - loss: 0.5255 - accuracy: 0.4428 - auc: 0.6789 - val_loss: 0.5898 - val_accuracy: 0.3367 - val_auc: 0.5731\n",
      "Epoch 24/70\n",
      "32/32 [==============================] - 0s 3ms/step - loss: 0.5249 - accuracy: 0.4454 - auc: 0.6802 - val_loss: 0.5894 - val_accuracy: 0.3367 - val_auc: 0.5732\n",
      "Epoch 25/70\n",
      "32/32 [==============================] - 0s 3ms/step - loss: 0.5241 - accuracy: 0.4454 - auc: 0.6818 - val_loss: 0.5892 - val_accuracy: 0.3393 - val_auc: 0.5734\n",
      "Epoch 26/70\n",
      "32/32 [==============================] - 0s 3ms/step - loss: 0.5235 - accuracy: 0.4454 - auc: 0.6830 - val_loss: 0.5890 - val_accuracy: 0.3393 - val_auc: 0.5739\n",
      "Epoch 27/70\n",
      "32/32 [==============================] - 0s 3ms/step - loss: 0.5228 - accuracy: 0.4460 - auc: 0.6846 - val_loss: 0.5894 - val_accuracy: 0.3393 - val_auc: 0.5738\n",
      "Epoch 28/70\n",
      "32/32 [==============================] - 0s 4ms/step - loss: 0.5221 - accuracy: 0.4460 - auc: 0.6859 - val_loss: 0.5889 - val_accuracy: 0.3393 - val_auc: 0.5745\n",
      "Epoch 29/70\n",
      "32/32 [==============================] - 0s 3ms/step - loss: 0.5215 - accuracy: 0.4466 - auc: 0.6873 - val_loss: 0.5891 - val_accuracy: 0.3367 - val_auc: 0.5746\n",
      "Epoch 30/70\n",
      "32/32 [==============================] - 0s 3ms/step - loss: 0.5209 - accuracy: 0.4454 - auc: 0.6887 - val_loss: 0.5890 - val_accuracy: 0.3342 - val_auc: 0.5742\n",
      "Epoch 31/70\n",
      "32/32 [==============================] - 0s 3ms/step - loss: 0.5202 - accuracy: 0.4466 - auc: 0.6904 - val_loss: 0.5892 - val_accuracy: 0.3342 - val_auc: 0.5734\n",
      "Epoch 32/70\n",
      "32/32 [==============================] - 0s 4ms/step - loss: 0.5196 - accuracy: 0.4454 - auc: 0.6916 - val_loss: 0.5891 - val_accuracy: 0.3342 - val_auc: 0.5740\n",
      "Epoch 33/70\n",
      "32/32 [==============================] - 0s 3ms/step - loss: 0.5191 - accuracy: 0.4466 - auc: 0.6928 - val_loss: 0.5887 - val_accuracy: 0.3342 - val_auc: 0.5745\n",
      "Epoch 34/70\n",
      "32/32 [==============================] - 0s 3ms/step - loss: 0.5185 - accuracy: 0.4466 - auc: 0.6941 - val_loss: 0.5887 - val_accuracy: 0.3342 - val_auc: 0.5741\n",
      "Epoch 35/70\n",
      "32/32 [==============================] - 0s 4ms/step - loss: 0.5180 - accuracy: 0.4473 - auc: 0.6953 - val_loss: 0.5883 - val_accuracy: 0.3367 - val_auc: 0.5743\n",
      "Epoch 36/70\n",
      "32/32 [==============================] - 0s 3ms/step - loss: 0.5173 - accuracy: 0.4466 - auc: 0.6967 - val_loss: 0.5885 - val_accuracy: 0.3367 - val_auc: 0.5746\n",
      "Epoch 37/70\n",
      "32/32 [==============================] - 0s 3ms/step - loss: 0.5168 - accuracy: 0.4473 - auc: 0.6980 - val_loss: 0.5883 - val_accuracy: 0.3367 - val_auc: 0.5749\n",
      "Epoch 38/70\n",
      "32/32 [==============================] - 0s 4ms/step - loss: 0.5162 - accuracy: 0.4479 - auc: 0.6989 - val_loss: 0.5882 - val_accuracy: 0.3393 - val_auc: 0.5745\n",
      "Epoch 39/70\n",
      "32/32 [==============================] - 0s 3ms/step - loss: 0.5157 - accuracy: 0.4479 - auc: 0.7001 - val_loss: 0.5887 - val_accuracy: 0.3393 - val_auc: 0.5751\n",
      "Epoch 40/70\n",
      "32/32 [==============================] - 0s 3ms/step - loss: 0.5153 - accuracy: 0.4479 - auc: 0.7010 - val_loss: 0.5888 - val_accuracy: 0.3393 - val_auc: 0.5742\n",
      "Epoch 41/70\n",
      "32/32 [==============================] - 0s 3ms/step - loss: 0.5147 - accuracy: 0.4479 - auc: 0.7019 - val_loss: 0.5883 - val_accuracy: 0.3393 - val_auc: 0.5748\n",
      "Epoch 42/70\n",
      "32/32 [==============================] - 0s 3ms/step - loss: 0.5142 - accuracy: 0.4486 - auc: 0.7033 - val_loss: 0.5890 - val_accuracy: 0.3393 - val_auc: 0.5751\n",
      "Epoch 43/70\n",
      "32/32 [==============================] - 0s 3ms/step - loss: 0.5137 - accuracy: 0.4473 - auc: 0.7043 - val_loss: 0.5889 - val_accuracy: 0.3393 - val_auc: 0.5747\n",
      "Epoch 44/70\n",
      "32/32 [==============================] - 0s 3ms/step - loss: 0.5132 - accuracy: 0.4479 - auc: 0.7053 - val_loss: 0.5888 - val_accuracy: 0.3367 - val_auc: 0.5754\n",
      "Epoch 45/70\n",
      "32/32 [==============================] - 0s 4ms/step - loss: 0.5127 - accuracy: 0.4479 - auc: 0.7061 - val_loss: 0.5886 - val_accuracy: 0.3393 - val_auc: 0.5750\n",
      "Epoch 46/70\n",
      "32/32 [==============================] - 0s 3ms/step - loss: 0.5122 - accuracy: 0.4473 - auc: 0.7074 - val_loss: 0.5887 - val_accuracy: 0.3393 - val_auc: 0.5752\n",
      "Epoch 47/70\n",
      "32/32 [==============================] - 0s 3ms/step - loss: 0.5117 - accuracy: 0.4479 - auc: 0.7083 - val_loss: 0.5888 - val_accuracy: 0.3393 - val_auc: 0.5750\n",
      "Epoch 48/70\n",
      "32/32 [==============================] - 0s 3ms/step - loss: 0.5113 - accuracy: 0.4505 - auc: 0.7094 - val_loss: 0.5887 - val_accuracy: 0.3393 - val_auc: 0.5752\n",
      "Epoch 49/70\n",
      "32/32 [==============================] - 0s 3ms/step - loss: 0.5108 - accuracy: 0.4479 - auc: 0.7103 - val_loss: 0.5888 - val_accuracy: 0.3367 - val_auc: 0.5754\n",
      "Epoch 50/70\n",
      "32/32 [==============================] - 0s 3ms/step - loss: 0.5103 - accuracy: 0.4505 - auc: 0.7115 - val_loss: 0.5888 - val_accuracy: 0.3342 - val_auc: 0.5759\n",
      "Epoch 51/70\n",
      "32/32 [==============================] - 0s 4ms/step - loss: 0.5099 - accuracy: 0.4505 - auc: 0.7124 - val_loss: 0.5885 - val_accuracy: 0.3316 - val_auc: 0.5757\n",
      "Epoch 52/70\n",
      "32/32 [==============================] - 0s 3ms/step - loss: 0.5094 - accuracy: 0.4505 - auc: 0.7135 - val_loss: 0.5887 - val_accuracy: 0.3291 - val_auc: 0.5761\n",
      "Epoch 53/70\n",
      "32/32 [==============================] - 0s 4ms/step - loss: 0.5090 - accuracy: 0.4486 - auc: 0.7145 - val_loss: 0.5889 - val_accuracy: 0.3316 - val_auc: 0.5754\n",
      "Epoch 54/70\n",
      "32/32 [==============================] - 0s 3ms/step - loss: 0.5086 - accuracy: 0.4492 - auc: 0.7152 - val_loss: 0.5892 - val_accuracy: 0.3342 - val_auc: 0.5760\n",
      "Epoch 55/70\n",
      "32/32 [==============================] - 0s 4ms/step - loss: 0.5082 - accuracy: 0.4486 - auc: 0.7159 - val_loss: 0.5891 - val_accuracy: 0.3367 - val_auc: 0.5761\n",
      "Epoch 56/70\n",
      "32/32 [==============================] - 0s 4ms/step - loss: 0.5077 - accuracy: 0.4498 - auc: 0.7169 - val_loss: 0.5883 - val_accuracy: 0.3367 - val_auc: 0.5770\n",
      "Epoch 57/70\n",
      "32/32 [==============================] - 0s 4ms/step - loss: 0.5073 - accuracy: 0.4498 - auc: 0.7180 - val_loss: 0.5883 - val_accuracy: 0.3367 - val_auc: 0.5768\n",
      "Epoch 58/70\n",
      "32/32 [==============================] - 0s 4ms/step - loss: 0.5069 - accuracy: 0.4505 - auc: 0.7188 - val_loss: 0.5886 - val_accuracy: 0.3367 - val_auc: 0.5767\n",
      "Epoch 59/70\n",
      "32/32 [==============================] - 0s 4ms/step - loss: 0.5065 - accuracy: 0.4498 - auc: 0.7198 - val_loss: 0.5889 - val_accuracy: 0.3367 - val_auc: 0.5775\n",
      "Epoch 60/70\n",
      "32/32 [==============================] - 0s 3ms/step - loss: 0.5061 - accuracy: 0.4498 - auc: 0.7201 - val_loss: 0.5892 - val_accuracy: 0.3367 - val_auc: 0.5765\n",
      "Epoch 61/70\n",
      "32/32 [==============================] - 0s 4ms/step - loss: 0.5057 - accuracy: 0.4505 - auc: 0.7211 - val_loss: 0.5892 - val_accuracy: 0.3316 - val_auc: 0.5761\n",
      "Epoch 62/70\n",
      "32/32 [==============================] - 0s 4ms/step - loss: 0.5054 - accuracy: 0.4524 - auc: 0.7219 - val_loss: 0.5893 - val_accuracy: 0.3316 - val_auc: 0.5765\n",
      "Epoch 63/70\n",
      "32/32 [==============================] - 0s 3ms/step - loss: 0.5049 - accuracy: 0.4518 - auc: 0.7226 - val_loss: 0.5896 - val_accuracy: 0.3316 - val_auc: 0.5764\n",
      "Epoch 64/70\n",
      "32/32 [==============================] - 0s 4ms/step - loss: 0.5046 - accuracy: 0.4518 - auc: 0.7232 - val_loss: 0.5893 - val_accuracy: 0.3291 - val_auc: 0.5768\n",
      "Epoch 65/70\n",
      "32/32 [==============================] - 0s 4ms/step - loss: 0.5041 - accuracy: 0.4524 - auc: 0.7240 - val_loss: 0.5891 - val_accuracy: 0.3265 - val_auc: 0.5770\n",
      "Epoch 66/70\n",
      "32/32 [==============================] - 0s 3ms/step - loss: 0.5038 - accuracy: 0.4511 - auc: 0.7249 - val_loss: 0.5888 - val_accuracy: 0.3291 - val_auc: 0.5772\n",
      "Epoch 67/70\n",
      "32/32 [==============================] - 0s 4ms/step - loss: 0.5034 - accuracy: 0.4530 - auc: 0.7260 - val_loss: 0.5891 - val_accuracy: 0.3291 - val_auc: 0.5772\n",
      "Epoch 68/70\n",
      "32/32 [==============================] - 0s 4ms/step - loss: 0.5030 - accuracy: 0.4524 - auc: 0.7267 - val_loss: 0.5888 - val_accuracy: 0.3265 - val_auc: 0.5776\n",
      "Epoch 69/70\n",
      "32/32 [==============================] - 0s 4ms/step - loss: 0.5026 - accuracy: 0.4537 - auc: 0.7273 - val_loss: 0.5889 - val_accuracy: 0.3240 - val_auc: 0.5777\n",
      "Epoch 70/70\n",
      "32/32 [==============================] - 0s 4ms/step - loss: 0.5022 - accuracy: 0.4537 - auc: 0.7284 - val_loss: 0.5895 - val_accuracy: 0.3291 - val_auc: 0.5776\n"
     ]
    },
    {
     "data": {
      "text/html": [
       "<span style=\"color:#4527A0\"><h1 style=\"font-size:18px\">Trial complete</h1></span>"
      ],
      "text/plain": [
       "<IPython.core.display.HTML object>"
      ]
     },
     "metadata": {
      "tags": []
     },
     "output_type": "display_data"
    },
    {
     "data": {
      "text/html": [
       "<span style=\"color:#4527A0\"><h1 style=\"font-size:18px\">Trial summary</h1></span>"
      ],
      "text/plain": [
       "<IPython.core.display.HTML object>"
      ]
     },
     "metadata": {
      "tags": []
     },
     "output_type": "display_data"
    },
    {
     "data": {
      "text/html": [
       "<span style=\"color:cyan\"> |-Trial ID: a47dab924548ff64dca71c97bad4587e</span>"
      ],
      "text/plain": [
       "<IPython.core.display.HTML object>"
      ]
     },
     "metadata": {
      "tags": []
     },
     "output_type": "display_data"
    },
    {
     "data": {
      "text/html": [
       "<span style=\"color:cyan\"> |-Score: 0.34183673063913983</span>"
      ],
      "text/plain": [
       "<IPython.core.display.HTML object>"
      ]
     },
     "metadata": {
      "tags": []
     },
     "output_type": "display_data"
    },
    {
     "data": {
      "text/html": [
       "<span style=\"color:cyan\"> |-Best step: 0</span>"
      ],
      "text/plain": [
       "<IPython.core.display.HTML object>"
      ]
     },
     "metadata": {
      "tags": []
     },
     "output_type": "display_data"
    },
    {
     "data": {
      "text/html": [
       "<span style=\"color:#7E57C2\"><h2 style=\"font-size:16px\">Hyperparameters:</h2></span>"
      ],
      "text/plain": [
       "<IPython.core.display.HTML object>"
      ]
     },
     "metadata": {
      "tags": []
     },
     "output_type": "display_data"
    },
    {
     "data": {
      "text/html": [
       "<span style=\"color:cyan\"> |-act_0: selu</span>"
      ],
      "text/plain": [
       "<IPython.core.display.HTML object>"
      ]
     },
     "metadata": {
      "tags": []
     },
     "output_type": "display_data"
    },
    {
     "data": {
      "text/html": [
       "<span style=\"color:blue\"> |-act_1: relu</span>"
      ],
      "text/plain": [
       "<IPython.core.display.HTML object>"
      ]
     },
     "metadata": {
      "tags": []
     },
     "output_type": "display_data"
    },
    {
     "data": {
      "text/html": [
       "<span style=\"color:cyan\"> |-act_2: elu</span>"
      ],
      "text/plain": [
       "<IPython.core.display.HTML object>"
      ]
     },
     "metadata": {
      "tags": []
     },
     "output_type": "display_data"
    },
    {
     "data": {
      "text/html": [
       "<span style=\"color:blue\"> |-act_3: relu</span>"
      ],
      "text/plain": [
       "<IPython.core.display.HTML object>"
      ]
     },
     "metadata": {
      "tags": []
     },
     "output_type": "display_data"
    },
    {
     "data": {
      "text/html": [
       "<span style=\"color:cyan\"> |-act_4: selu</span>"
      ],
      "text/plain": [
       "<IPython.core.display.HTML object>"
      ]
     },
     "metadata": {
      "tags": []
     },
     "output_type": "display_data"
    },
    {
     "data": {
      "text/html": [
       "<span style=\"color:blue\"> |-act_5: elu</span>"
      ],
      "text/plain": [
       "<IPython.core.display.HTML object>"
      ]
     },
     "metadata": {
      "tags": []
     },
     "output_type": "display_data"
    },
    {
     "data": {
      "text/html": [
       "<span style=\"color:cyan\"> |-act_6: selu</span>"
      ],
      "text/plain": [
       "<IPython.core.display.HTML object>"
      ]
     },
     "metadata": {
      "tags": []
     },
     "output_type": "display_data"
    },
    {
     "data": {
      "text/html": [
       "<span style=\"color:blue\"> |-batch_size: 50</span>"
      ],
      "text/plain": [
       "<IPython.core.display.HTML object>"
      ]
     },
     "metadata": {
      "tags": []
     },
     "output_type": "display_data"
    },
    {
     "data": {
      "text/html": [
       "<span style=\"color:cyan\"> |-epochs: 70</span>"
      ],
      "text/plain": [
       "<IPython.core.display.HTML object>"
      ]
     },
     "metadata": {
      "tags": []
     },
     "output_type": "display_data"
    },
    {
     "data": {
      "text/html": [
       "<span style=\"color:blue\"> |-learning_rate: 0.01</span>"
      ],
      "text/plain": [
       "<IPython.core.display.HTML object>"
      ]
     },
     "metadata": {
      "tags": []
     },
     "output_type": "display_data"
    },
    {
     "data": {
      "text/html": [
       "<span style=\"color:cyan\"> |-number_of_layers: 1</span>"
      ],
      "text/plain": [
       "<IPython.core.display.HTML object>"
      ]
     },
     "metadata": {
      "tags": []
     },
     "output_type": "display_data"
    },
    {
     "data": {
      "text/html": [
       "<span style=\"color:blue\"> |-unit_0: 150</span>"
      ],
      "text/plain": [
       "<IPython.core.display.HTML object>"
      ]
     },
     "metadata": {
      "tags": []
     },
     "output_type": "display_data"
    },
    {
     "data": {
      "text/html": [
       "<span style=\"color:cyan\"> |-unit_1: 500</span>"
      ],
      "text/plain": [
       "<IPython.core.display.HTML object>"
      ]
     },
     "metadata": {
      "tags": []
     },
     "output_type": "display_data"
    },
    {
     "data": {
      "text/html": [
       "<span style=\"color:blue\"> |-unit_2: 450</span>"
      ],
      "text/plain": [
       "<IPython.core.display.HTML object>"
      ]
     },
     "metadata": {
      "tags": []
     },
     "output_type": "display_data"
    },
    {
     "data": {
      "text/html": [
       "<span style=\"color:cyan\"> |-unit_3: 500</span>"
      ],
      "text/plain": [
       "<IPython.core.display.HTML object>"
      ]
     },
     "metadata": {
      "tags": []
     },
     "output_type": "display_data"
    },
    {
     "data": {
      "text/html": [
       "<span style=\"color:blue\"> |-unit_4: 300</span>"
      ],
      "text/plain": [
       "<IPython.core.display.HTML object>"
      ]
     },
     "metadata": {
      "tags": []
     },
     "output_type": "display_data"
    },
    {
     "data": {
      "text/html": [
       "<span style=\"color:cyan\"> |-unit_5: 300</span>"
      ],
      "text/plain": [
       "<IPython.core.display.HTML object>"
      ]
     },
     "metadata": {
      "tags": []
     },
     "output_type": "display_data"
    },
    {
     "data": {
      "text/html": [
       "<span style=\"color:blue\"> |-unit_6: 300</span>"
      ],
      "text/plain": [
       "<IPython.core.display.HTML object>"
      ]
     },
     "metadata": {
      "tags": []
     },
     "output_type": "display_data"
    },
    {
     "name": "stdout",
     "output_type": "stream",
     "text": [
      "Epoch 1/100\n",
      "16/16 [==============================] - 1s 38ms/step - loss: 0.6170 - accuracy: 0.3604 - auc: 0.5890 - val_loss: 0.5730 - val_accuracy: 0.3393 - val_auc: 0.5965\n",
      "Epoch 2/100\n",
      "16/16 [==============================] - 0s 16ms/step - loss: 0.5345 - accuracy: 0.4371 - auc: 0.6487 - val_loss: 0.5840 - val_accuracy: 0.3393 - val_auc: 0.5934\n",
      "Epoch 3/100\n",
      "16/16 [==============================] - 0s 16ms/step - loss: 0.5318 - accuracy: 0.4371 - auc: 0.6577 - val_loss: 0.5799 - val_accuracy: 0.3393 - val_auc: 0.5908\n",
      "Epoch 4/100\n",
      "16/16 [==============================] - 0s 16ms/step - loss: 0.5300 - accuracy: 0.4371 - auc: 0.6643 - val_loss: 0.5800 - val_accuracy: 0.3393 - val_auc: 0.5983\n",
      "Epoch 5/100\n",
      "16/16 [==============================] - 0s 18ms/step - loss: 0.5280 - accuracy: 0.4371 - auc: 0.6723 - val_loss: 0.5762 - val_accuracy: 0.3393 - val_auc: 0.5978\n",
      "Epoch 6/100\n",
      "16/16 [==============================] - 0s 16ms/step - loss: 0.5266 - accuracy: 0.4371 - auc: 0.6765 - val_loss: 0.5844 - val_accuracy: 0.3393 - val_auc: 0.6034\n",
      "Epoch 7/100\n",
      "16/16 [==============================] - 0s 16ms/step - loss: 0.5260 - accuracy: 0.4371 - auc: 0.6792 - val_loss: 0.5839 - val_accuracy: 0.3393 - val_auc: 0.5953\n",
      "Epoch 8/100\n",
      "16/16 [==============================] - 0s 16ms/step - loss: 0.5241 - accuracy: 0.4371 - auc: 0.6836 - val_loss: 0.5842 - val_accuracy: 0.3393 - val_auc: 0.5971\n",
      "Epoch 9/100\n",
      "16/16 [==============================] - 0s 16ms/step - loss: 0.5226 - accuracy: 0.4371 - auc: 0.6891 - val_loss: 0.5800 - val_accuracy: 0.3393 - val_auc: 0.6004\n",
      "Epoch 10/100\n",
      "16/16 [==============================] - 0s 16ms/step - loss: 0.5210 - accuracy: 0.4371 - auc: 0.6936 - val_loss: 0.5806 - val_accuracy: 0.3393 - val_auc: 0.5979\n",
      "Epoch 11/100\n",
      "16/16 [==============================] - 0s 16ms/step - loss: 0.5196 - accuracy: 0.4371 - auc: 0.6961 - val_loss: 0.5821 - val_accuracy: 0.3393 - val_auc: 0.5925\n",
      "Epoch 12/100\n",
      "16/16 [==============================] - 0s 16ms/step - loss: 0.5183 - accuracy: 0.4371 - auc: 0.7001 - val_loss: 0.5789 - val_accuracy: 0.3393 - val_auc: 0.5974\n",
      "Epoch 13/100\n",
      "16/16 [==============================] - 0s 16ms/step - loss: 0.5154 - accuracy: 0.4371 - auc: 0.7068 - val_loss: 0.5820 - val_accuracy: 0.3393 - val_auc: 0.5897\n",
      "Epoch 14/100\n",
      "16/16 [==============================] - 0s 17ms/step - loss: 0.5143 - accuracy: 0.4371 - auc: 0.7103 - val_loss: 0.5859 - val_accuracy: 0.3393 - val_auc: 0.5927\n",
      "Epoch 15/100\n",
      "16/16 [==============================] - 0s 17ms/step - loss: 0.5115 - accuracy: 0.4371 - auc: 0.7153 - val_loss: 0.5828 - val_accuracy: 0.3393 - val_auc: 0.5922\n",
      "Epoch 16/100\n",
      "16/16 [==============================] - 0s 17ms/step - loss: 0.5087 - accuracy: 0.4371 - auc: 0.7232 - val_loss: 0.5955 - val_accuracy: 0.3393 - val_auc: 0.5969\n",
      "Epoch 17/100\n",
      "16/16 [==============================] - 0s 16ms/step - loss: 0.5060 - accuracy: 0.4371 - auc: 0.7272 - val_loss: 0.5811 - val_accuracy: 0.3393 - val_auc: 0.5897\n",
      "Epoch 18/100\n",
      "16/16 [==============================] - 0s 16ms/step - loss: 0.5050 - accuracy: 0.4371 - auc: 0.7270 - val_loss: 0.5935 - val_accuracy: 0.3393 - val_auc: 0.5917\n",
      "Epoch 19/100\n",
      "16/16 [==============================] - 0s 16ms/step - loss: 0.5008 - accuracy: 0.4371 - auc: 0.7361 - val_loss: 0.5987 - val_accuracy: 0.3393 - val_auc: 0.5932\n",
      "Epoch 20/100\n",
      "16/16 [==============================] - 0s 17ms/step - loss: 0.4960 - accuracy: 0.4371 - auc: 0.7437 - val_loss: 0.5824 - val_accuracy: 0.3342 - val_auc: 0.5921\n",
      "Epoch 21/100\n",
      "16/16 [==============================] - 0s 20ms/step - loss: 0.4933 - accuracy: 0.4377 - auc: 0.7457 - val_loss: 0.5964 - val_accuracy: 0.3418 - val_auc: 0.5918\n",
      "Epoch 22/100\n",
      "16/16 [==============================] - 0s 16ms/step - loss: 0.4889 - accuracy: 0.4498 - auc: 0.7498 - val_loss: 0.5794 - val_accuracy: 0.3189 - val_auc: 0.5823\n",
      "Epoch 23/100\n",
      "16/16 [==============================] - 0s 16ms/step - loss: 0.4826 - accuracy: 0.4518 - auc: 0.7620 - val_loss: 0.6129 - val_accuracy: 0.3316 - val_auc: 0.5847\n",
      "Epoch 24/100\n",
      "16/16 [==============================] - 0s 18ms/step - loss: 0.4802 - accuracy: 0.4505 - auc: 0.7617 - val_loss: 0.6355 - val_accuracy: 0.3418 - val_auc: 0.5967\n",
      "Epoch 25/100\n",
      "16/16 [==============================] - 0s 16ms/step - loss: 0.4788 - accuracy: 0.4486 - auc: 0.7624 - val_loss: 0.6393 - val_accuracy: 0.3367 - val_auc: 0.5806\n",
      "Epoch 26/100\n",
      "16/16 [==============================] - 0s 16ms/step - loss: 0.4737 - accuracy: 0.4498 - auc: 0.7724 - val_loss: 0.6229 - val_accuracy: 0.3342 - val_auc: 0.5787\n",
      "Epoch 27/100\n",
      "16/16 [==============================] - 0s 17ms/step - loss: 0.4788 - accuracy: 0.4351 - auc: 0.7614 - val_loss: 0.6118 - val_accuracy: 0.3214 - val_auc: 0.5866\n",
      "Epoch 28/100\n",
      "16/16 [==============================] - 0s 16ms/step - loss: 0.4751 - accuracy: 0.4652 - auc: 0.7676 - val_loss: 0.6320 - val_accuracy: 0.3291 - val_auc: 0.5814\n",
      "Epoch 29/100\n",
      "16/16 [==============================] - 0s 20ms/step - loss: 0.4652 - accuracy: 0.4869 - auc: 0.7823 - val_loss: 0.6380 - val_accuracy: 0.3469 - val_auc: 0.5807\n",
      "Epoch 30/100\n",
      "16/16 [==============================] - 0s 16ms/step - loss: 0.4618 - accuracy: 0.4562 - auc: 0.7847 - val_loss: 0.6033 - val_accuracy: 0.2577 - val_auc: 0.5702\n",
      "Epoch 31/100\n",
      "16/16 [==============================] - 0s 22ms/step - loss: 0.4448 - accuracy: 0.4927 - auc: 0.8105 - val_loss: 0.6790 - val_accuracy: 0.3520 - val_auc: 0.5910\n",
      "Epoch 32/100\n",
      "16/16 [==============================] - 0s 16ms/step - loss: 0.4469 - accuracy: 0.4939 - auc: 0.8056 - val_loss: 0.7028 - val_accuracy: 0.3393 - val_auc: 0.5703\n",
      "Epoch 33/100\n",
      "16/16 [==============================] - 0s 16ms/step - loss: 0.4445 - accuracy: 0.4907 - auc: 0.8050 - val_loss: 0.7605 - val_accuracy: 0.3418 - val_auc: 0.5862\n",
      "Epoch 34/100\n",
      "16/16 [==============================] - 0s 16ms/step - loss: 0.4464 - accuracy: 0.5010 - auc: 0.8042 - val_loss: 0.6517 - val_accuracy: 0.3036 - val_auc: 0.5579\n",
      "Epoch 35/100\n",
      "16/16 [==============================] - 0s 16ms/step - loss: 0.4480 - accuracy: 0.4843 - auc: 0.7995 - val_loss: 0.6775 - val_accuracy: 0.3138 - val_auc: 0.5821\n",
      "Epoch 36/100\n",
      "16/16 [==============================] - 0s 17ms/step - loss: 0.4324 - accuracy: 0.5035 - auc: 0.8215 - val_loss: 0.6635 - val_accuracy: 0.2653 - val_auc: 0.5212\n",
      "Epoch 37/100\n",
      "16/16 [==============================] - 0s 16ms/step - loss: 0.4328 - accuracy: 0.5233 - auc: 0.8171 - val_loss: 0.7719 - val_accuracy: 0.3393 - val_auc: 0.5779\n",
      "Epoch 38/100\n",
      "16/16 [==============================] - 0s 16ms/step - loss: 0.4229 - accuracy: 0.5016 - auc: 0.8301 - val_loss: 0.6527 - val_accuracy: 0.1429 - val_auc: 0.4825\n",
      "Epoch 39/100\n",
      "16/16 [==============================] - 0s 16ms/step - loss: 0.4261 - accuracy: 0.4984 - auc: 0.8257 - val_loss: 0.7565 - val_accuracy: 0.3138 - val_auc: 0.5796\n",
      "Epoch 40/100\n",
      "16/16 [==============================] - 0s 16ms/step - loss: 0.4075 - accuracy: 0.5399 - auc: 0.8474 - val_loss: 0.7788 - val_accuracy: 0.3265 - val_auc: 0.5650\n",
      "Epoch 41/100\n",
      "16/16 [==============================] - 0s 16ms/step - loss: 0.4070 - accuracy: 0.5559 - auc: 0.8443 - val_loss: 0.7231 - val_accuracy: 0.2934 - val_auc: 0.5818\n",
      "Epoch 42/100\n",
      "16/16 [==============================] - 0s 17ms/step - loss: 0.3888 - accuracy: 0.5649 - auc: 0.8610 - val_loss: 0.6971 - val_accuracy: 0.1505 - val_auc: 0.5208\n",
      "Epoch 43/100\n",
      "16/16 [==============================] - 0s 16ms/step - loss: 0.4103 - accuracy: 0.5355 - auc: 0.8403 - val_loss: 0.7117 - val_accuracy: 0.2908 - val_auc: 0.5592\n",
      "Epoch 44/100\n",
      "16/16 [==============================] - 0s 16ms/step - loss: 0.3918 - accuracy: 0.5681 - auc: 0.8576 - val_loss: 0.7766 - val_accuracy: 0.3240 - val_auc: 0.5727\n",
      "Epoch 45/100\n",
      "16/16 [==============================] - 0s 17ms/step - loss: 0.3620 - accuracy: 0.6141 - auc: 0.8840 - val_loss: 0.8337 - val_accuracy: 0.2551 - val_auc: 0.5412\n",
      "Epoch 46/100\n",
      "16/16 [==============================] - 0s 16ms/step - loss: 0.4026 - accuracy: 0.5470 - auc: 0.8448 - val_loss: 0.7981 - val_accuracy: 0.2679 - val_auc: 0.5562\n",
      "Epoch 47/100\n",
      "16/16 [==============================] - 0s 16ms/step - loss: 0.3832 - accuracy: 0.5674 - auc: 0.8635 - val_loss: 0.8099 - val_accuracy: 0.3316 - val_auc: 0.5638\n",
      "Epoch 48/100\n",
      "16/16 [==============================] - 0s 16ms/step - loss: 0.3580 - accuracy: 0.6038 - auc: 0.8861 - val_loss: 0.8119 - val_accuracy: 0.3138 - val_auc: 0.5891\n",
      "Epoch 49/100\n",
      "16/16 [==============================] - 0s 18ms/step - loss: 0.3826 - accuracy: 0.5712 - auc: 0.8635 - val_loss: 0.7854 - val_accuracy: 0.2245 - val_auc: 0.5369\n",
      "Epoch 50/100\n",
      "16/16 [==============================] - 0s 16ms/step - loss: 0.3474 - accuracy: 0.6166 - auc: 0.8938 - val_loss: 0.7595 - val_accuracy: 0.1327 - val_auc: 0.4830\n",
      "Epoch 51/100\n",
      "16/16 [==============================] - 0s 17ms/step - loss: 0.3660 - accuracy: 0.5942 - auc: 0.8773 - val_loss: 0.8710 - val_accuracy: 0.2117 - val_auc: 0.5394\n",
      "Epoch 52/100\n",
      "16/16 [==============================] - 0s 16ms/step - loss: 0.3468 - accuracy: 0.5949 - auc: 0.8931 - val_loss: 0.7862 - val_accuracy: 0.2781 - val_auc: 0.5583\n",
      "Epoch 53/100\n",
      "16/16 [==============================] - 0s 16ms/step - loss: 0.3321 - accuracy: 0.6230 - auc: 0.9025 - val_loss: 0.8507 - val_accuracy: 0.3189 - val_auc: 0.5721\n",
      "Epoch 54/100\n",
      "16/16 [==============================] - 0s 17ms/step - loss: 0.3433 - accuracy: 0.6173 - auc: 0.8939 - val_loss: 0.8652 - val_accuracy: 0.2985 - val_auc: 0.5512\n",
      "Epoch 55/100\n",
      "16/16 [==============================] - 0s 16ms/step - loss: 0.3393 - accuracy: 0.6224 - auc: 0.8978 - val_loss: 0.9521 - val_accuracy: 0.3112 - val_auc: 0.5583\n",
      "Epoch 56/100\n",
      "16/16 [==============================] - 0s 16ms/step - loss: 0.3052 - accuracy: 0.6696 - auc: 0.9193 - val_loss: 0.9649 - val_accuracy: 0.2985 - val_auc: 0.5314\n",
      "Epoch 57/100\n",
      "16/16 [==============================] - 0s 16ms/step - loss: 0.3055 - accuracy: 0.6594 - auc: 0.9201 - val_loss: 1.0180 - val_accuracy: 0.3316 - val_auc: 0.5631\n",
      "Epoch 58/100\n",
      "16/16 [==============================] - 0s 16ms/step - loss: 0.3294 - accuracy: 0.6518 - auc: 0.9041 - val_loss: 0.9465 - val_accuracy: 0.2908 - val_auc: 0.5736\n",
      "Epoch 59/100\n",
      "16/16 [==============================] - 0s 16ms/step - loss: 0.2872 - accuracy: 0.6780 - auc: 0.9307 - val_loss: 0.8890 - val_accuracy: 0.1684 - val_auc: 0.5295\n",
      "Epoch 60/100\n",
      "16/16 [==============================] - 0s 16ms/step - loss: 0.3021 - accuracy: 0.6677 - auc: 0.9201 - val_loss: 1.0952 - val_accuracy: 0.3138 - val_auc: 0.5573\n",
      "Epoch 61/100\n",
      "16/16 [==============================] - 0s 16ms/step - loss: 0.2794 - accuracy: 0.6786 - auc: 0.9346 - val_loss: 0.9375 - val_accuracy: 0.1403 - val_auc: 0.4962\n",
      "Epoch 62/100\n",
      "16/16 [==============================] - 0s 16ms/step - loss: 0.3411 - accuracy: 0.6332 - auc: 0.8957 - val_loss: 0.8320 - val_accuracy: 0.2730 - val_auc: 0.5406\n",
      "Epoch 63/100\n",
      "16/16 [==============================] - 0s 16ms/step - loss: 0.2371 - accuracy: 0.7329 - auc: 0.9561 - val_loss: 0.8925 - val_accuracy: 0.2296 - val_auc: 0.5375\n",
      "Epoch 64/100\n",
      "16/16 [==============================] - 0s 17ms/step - loss: 0.2893 - accuracy: 0.7003 - auc: 0.9269 - val_loss: 1.0486 - val_accuracy: 0.2806 - val_auc: 0.5668\n",
      "Epoch 65/100\n",
      "16/16 [==============================] - 0s 18ms/step - loss: 0.2463 - accuracy: 0.7118 - auc: 0.9502 - val_loss: 0.9429 - val_accuracy: 0.1862 - val_auc: 0.5241\n",
      "Epoch 66/100\n",
      "16/16 [==============================] - 0s 16ms/step - loss: 0.2250 - accuracy: 0.7380 - auc: 0.9601 - val_loss: 1.1174 - val_accuracy: 0.3112 - val_auc: 0.5467\n",
      "Epoch 67/100\n",
      "16/16 [==============================] - 0s 17ms/step - loss: 0.2491 - accuracy: 0.7265 - auc: 0.9466 - val_loss: 0.9407 - val_accuracy: 0.2628 - val_auc: 0.5440\n",
      "Epoch 68/100\n",
      "16/16 [==============================] - 0s 16ms/step - loss: 0.2152 - accuracy: 0.7495 - auc: 0.9615 - val_loss: 1.0031 - val_accuracy: 0.2347 - val_auc: 0.5205\n",
      "Epoch 69/100\n",
      "16/16 [==============================] - 0s 16ms/step - loss: 0.2617 - accuracy: 0.7188 - auc: 0.9423 - val_loss: 0.9840 - val_accuracy: 0.2679 - val_auc: 0.5485\n",
      "Epoch 70/100\n",
      "16/16 [==============================] - 0s 17ms/step - loss: 0.1426 - accuracy: 0.8249 - auc: 0.9887 - val_loss: 1.2242 - val_accuracy: 0.2398 - val_auc: 0.5528\n",
      "Epoch 71/100\n",
      "16/16 [==============================] - 0s 16ms/step - loss: 0.2059 - accuracy: 0.7636 - auc: 0.9647 - val_loss: 1.2211 - val_accuracy: 0.2526 - val_auc: 0.5479\n",
      "Epoch 72/100\n",
      "16/16 [==============================] - 0s 17ms/step - loss: 0.1798 - accuracy: 0.7719 - auc: 0.9729 - val_loss: 1.2799 - val_accuracy: 0.2526 - val_auc: 0.5560\n",
      "Epoch 73/100\n",
      "16/16 [==============================] - 0s 16ms/step - loss: 0.2195 - accuracy: 0.7502 - auc: 0.9584 - val_loss: 1.1380 - val_accuracy: 0.2883 - val_auc: 0.5369\n",
      "Epoch 74/100\n",
      "16/16 [==============================] - 0s 15ms/step - loss: 0.1801 - accuracy: 0.7853 - auc: 0.9706 - val_loss: 0.9853 - val_accuracy: 0.1658 - val_auc: 0.4212\n",
      "Epoch 75/100\n",
      "16/16 [==============================] - 0s 16ms/step - loss: 0.2528 - accuracy: 0.7272 - auc: 0.9454 - val_loss: 0.9682 - val_accuracy: 0.1964 - val_auc: 0.5002\n",
      "Epoch 76/100\n",
      "16/16 [==============================] - 0s 16ms/step - loss: 0.1949 - accuracy: 0.7827 - auc: 0.9704 - val_loss: 1.1613 - val_accuracy: 0.2296 - val_auc: 0.5427\n",
      "Epoch 77/100\n",
      "16/16 [==============================] - 0s 16ms/step - loss: 0.1036 - accuracy: 0.8473 - auc: 0.9940 - val_loss: 1.3027 - val_accuracy: 0.1582 - val_auc: 0.4941\n",
      "Epoch 78/100\n",
      "16/16 [==============================] - 0s 16ms/step - loss: 0.2454 - accuracy: 0.7380 - auc: 0.9476 - val_loss: 1.2670 - val_accuracy: 0.2117 - val_auc: 0.5467\n",
      "Epoch 79/100\n",
      "16/16 [==============================] - 0s 16ms/step - loss: 0.0976 - accuracy: 0.8454 - auc: 0.9950 - val_loss: 1.3760 - val_accuracy: 0.2602 - val_auc: 0.5311\n",
      "Epoch 80/100\n",
      "16/16 [==============================] - 0s 16ms/step - loss: 0.0913 - accuracy: 0.8447 - auc: 0.9945 - val_loss: 1.4287 - val_accuracy: 0.2781 - val_auc: 0.5424\n",
      "Epoch 81/100\n",
      "16/16 [==============================] - 0s 16ms/step - loss: 0.0677 - accuracy: 0.8466 - auc: 0.9977 - val_loss: 1.8724 - val_accuracy: 0.2934 - val_auc: 0.5263\n",
      "Epoch 82/100\n",
      "16/16 [==============================] - 0s 16ms/step - loss: 0.4033 - accuracy: 0.6460 - auc: 0.8786 - val_loss: 1.1681 - val_accuracy: 0.2551 - val_auc: 0.5316\n",
      "Epoch 83/100\n",
      "16/16 [==============================] - 0s 16ms/step - loss: 0.0940 - accuracy: 0.8454 - auc: 0.9962 - val_loss: 1.4767 - val_accuracy: 0.2270 - val_auc: 0.5455\n",
      "Epoch 84/100\n",
      "16/16 [==============================] - 0s 16ms/step - loss: 0.1506 - accuracy: 0.7949 - auc: 0.9805 - val_loss: 1.3848 - val_accuracy: 0.2602 - val_auc: 0.5360\n",
      "Epoch 85/100\n",
      "16/16 [==============================] - 0s 16ms/step - loss: 0.0629 - accuracy: 0.8498 - auc: 0.9983 - val_loss: 1.5705 - val_accuracy: 0.2526 - val_auc: 0.5292\n",
      "Epoch 86/100\n",
      "16/16 [==============================] - 0s 16ms/step - loss: 0.0405 - accuracy: 0.8575 - auc: 0.9996 - val_loss: 1.6992 - val_accuracy: 0.2526 - val_auc: 0.5319\n",
      "Epoch 87/100\n",
      "16/16 [==============================] - 0s 16ms/step - loss: 0.0290 - accuracy: 0.8633 - auc: 0.9999 - val_loss: 1.7537 - val_accuracy: 0.2296 - val_auc: 0.5124\n",
      "Epoch 88/100\n",
      "16/16 [==============================] - 0s 16ms/step - loss: 0.0245 - accuracy: 0.8633 - auc: 0.9999 - val_loss: 1.9377 - val_accuracy: 0.2857 - val_auc: 0.5272\n",
      "Epoch 89/100\n",
      "16/16 [==============================] - 0s 16ms/step - loss: 0.0224 - accuracy: 0.8575 - auc: 0.9999 - val_loss: 1.9888 - val_accuracy: 0.2653 - val_auc: 0.5281\n",
      "Epoch 90/100\n",
      "16/16 [==============================] - 0s 18ms/step - loss: 0.0177 - accuracy: 0.8594 - auc: 1.0000 - val_loss: 2.0391 - val_accuracy: 0.2398 - val_auc: 0.5239\n",
      "Epoch 91/100\n",
      "16/16 [==============================] - 0s 16ms/step - loss: 0.0132 - accuracy: 0.8601 - auc: 1.0000 - val_loss: 2.1490 - val_accuracy: 0.2755 - val_auc: 0.5254\n",
      "Epoch 92/100\n",
      "16/16 [==============================] - 0s 16ms/step - loss: 0.0104 - accuracy: 0.8639 - auc: 1.0000 - val_loss: 2.2134 - val_accuracy: 0.2679 - val_auc: 0.5266\n",
      "Epoch 93/100\n",
      "16/16 [==============================] - 0s 16ms/step - loss: 0.0084 - accuracy: 0.8594 - auc: 1.0000 - val_loss: 2.2916 - val_accuracy: 0.2449 - val_auc: 0.5274\n",
      "Epoch 94/100\n",
      "16/16 [==============================] - 0s 16ms/step - loss: 0.0071 - accuracy: 0.8550 - auc: 1.0000 - val_loss: 2.3031 - val_accuracy: 0.2372 - val_auc: 0.5235\n",
      "Epoch 95/100\n",
      "16/16 [==============================] - 0s 16ms/step - loss: 0.0063 - accuracy: 0.8581 - auc: 1.0000 - val_loss: 2.4062 - val_accuracy: 0.2679 - val_auc: 0.5280\n",
      "Epoch 96/100\n",
      "16/16 [==============================] - 0s 16ms/step - loss: 0.0055 - accuracy: 0.8620 - auc: 1.0000 - val_loss: 2.4258 - val_accuracy: 0.2474 - val_auc: 0.5241\n",
      "Epoch 97/100\n",
      "16/16 [==============================] - 0s 16ms/step - loss: 0.0053 - accuracy: 0.8620 - auc: 1.0000 - val_loss: 2.4842 - val_accuracy: 0.2423 - val_auc: 0.5312\n",
      "Epoch 98/100\n",
      "16/16 [==============================] - 0s 16ms/step - loss: 0.0046 - accuracy: 0.8626 - auc: 1.0000 - val_loss: 2.5593 - val_accuracy: 0.2857 - val_auc: 0.5282\n",
      "Epoch 99/100\n",
      "16/16 [==============================] - 0s 17ms/step - loss: 0.0042 - accuracy: 0.8607 - auc: 1.0000 - val_loss: 2.5395 - val_accuracy: 0.2347 - val_auc: 0.5267\n",
      "Epoch 100/100\n",
      "16/16 [==============================] - 0s 16ms/step - loss: 0.0038 - accuracy: 0.8594 - auc: 1.0000 - val_loss: 2.6050 - val_accuracy: 0.2526 - val_auc: 0.5311\n",
      "Epoch 1/100\n",
      "16/16 [==============================] - 1s 33ms/step - loss: 0.5858 - accuracy: 0.4364 - auc: 0.6187 - val_loss: 0.5783 - val_accuracy: 0.3393 - val_auc: 0.5913\n",
      "Epoch 2/100\n",
      "16/16 [==============================] - 0s 16ms/step - loss: 0.5334 - accuracy: 0.4371 - auc: 0.6537 - val_loss: 0.5796 - val_accuracy: 0.3393 - val_auc: 0.5903\n",
      "Epoch 3/100\n",
      "16/16 [==============================] - 0s 16ms/step - loss: 0.5308 - accuracy: 0.4371 - auc: 0.6629 - val_loss: 0.5813 - val_accuracy: 0.3393 - val_auc: 0.5952\n",
      "Epoch 4/100\n",
      "16/16 [==============================] - 0s 17ms/step - loss: 0.5291 - accuracy: 0.4371 - auc: 0.6667 - val_loss: 0.5829 - val_accuracy: 0.3393 - val_auc: 0.5903\n",
      "Epoch 5/100\n",
      "16/16 [==============================] - 0s 16ms/step - loss: 0.5272 - accuracy: 0.4371 - auc: 0.6738 - val_loss: 0.5800 - val_accuracy: 0.3393 - val_auc: 0.5953\n",
      "Epoch 6/100\n",
      "16/16 [==============================] - 0s 17ms/step - loss: 0.5257 - accuracy: 0.4371 - auc: 0.6780 - val_loss: 0.5814 - val_accuracy: 0.3393 - val_auc: 0.5914\n",
      "Epoch 7/100\n",
      "16/16 [==============================] - 0s 16ms/step - loss: 0.5241 - accuracy: 0.4371 - auc: 0.6845 - val_loss: 0.5837 - val_accuracy: 0.3393 - val_auc: 0.5879\n",
      "Epoch 8/100\n",
      "16/16 [==============================] - 0s 17ms/step - loss: 0.5219 - accuracy: 0.4371 - auc: 0.6910 - val_loss: 0.5855 - val_accuracy: 0.3393 - val_auc: 0.5859\n",
      "Epoch 9/100\n",
      "16/16 [==============================] - 0s 17ms/step - loss: 0.5202 - accuracy: 0.4371 - auc: 0.6928 - val_loss: 0.5805 - val_accuracy: 0.3393 - val_auc: 0.5886\n",
      "Epoch 10/100\n",
      "16/16 [==============================] - 0s 16ms/step - loss: 0.5182 - accuracy: 0.4371 - auc: 0.6987 - val_loss: 0.5817 - val_accuracy: 0.3393 - val_auc: 0.5931\n",
      "Epoch 11/100\n",
      "16/16 [==============================] - 0s 16ms/step - loss: 0.5163 - accuracy: 0.4383 - auc: 0.7004 - val_loss: 0.5953 - val_accuracy: 0.3393 - val_auc: 0.5864\n",
      "Epoch 12/100\n",
      "16/16 [==============================] - 0s 17ms/step - loss: 0.5141 - accuracy: 0.4377 - auc: 0.7041 - val_loss: 0.5885 - val_accuracy: 0.3393 - val_auc: 0.5911\n",
      "Epoch 13/100\n",
      "16/16 [==============================] - 0s 16ms/step - loss: 0.5109 - accuracy: 0.4345 - auc: 0.7103 - val_loss: 0.5776 - val_accuracy: 0.3342 - val_auc: 0.5896\n",
      "Epoch 14/100\n",
      "16/16 [==============================] - 0s 16ms/step - loss: 0.5100 - accuracy: 0.4390 - auc: 0.7106 - val_loss: 0.5884 - val_accuracy: 0.3367 - val_auc: 0.5855\n",
      "Epoch 15/100\n",
      "16/16 [==============================] - 0s 17ms/step - loss: 0.5061 - accuracy: 0.4396 - auc: 0.7163 - val_loss: 0.5794 - val_accuracy: 0.3367 - val_auc: 0.5897\n",
      "Epoch 16/100\n",
      "16/16 [==============================] - 0s 16ms/step - loss: 0.5031 - accuracy: 0.4409 - auc: 0.7225 - val_loss: 0.5918 - val_accuracy: 0.3291 - val_auc: 0.5854\n",
      "Epoch 17/100\n",
      "16/16 [==============================] - 0s 17ms/step - loss: 0.5013 - accuracy: 0.4409 - auc: 0.7250 - val_loss: 0.6001 - val_accuracy: 0.3316 - val_auc: 0.5863\n",
      "Epoch 18/100\n",
      "16/16 [==============================] - 0s 16ms/step - loss: 0.5004 - accuracy: 0.4435 - auc: 0.7252 - val_loss: 0.5845 - val_accuracy: 0.3112 - val_auc: 0.5841\n",
      "Epoch 19/100\n",
      "16/16 [==============================] - 0s 16ms/step - loss: 0.4946 - accuracy: 0.4473 - auc: 0.7363 - val_loss: 0.5943 - val_accuracy: 0.3240 - val_auc: 0.5885\n",
      "Epoch 20/100\n",
      "16/16 [==============================] - 0s 16ms/step - loss: 0.4900 - accuracy: 0.4415 - auc: 0.7414 - val_loss: 0.6458 - val_accuracy: 0.3342 - val_auc: 0.5855\n",
      "Epoch 21/100\n",
      "16/16 [==============================] - 0s 16ms/step - loss: 0.4857 - accuracy: 0.4364 - auc: 0.7470 - val_loss: 0.6398 - val_accuracy: 0.3265 - val_auc: 0.5794\n",
      "Epoch 22/100\n",
      "16/16 [==============================] - 0s 17ms/step - loss: 0.4819 - accuracy: 0.4581 - auc: 0.7544 - val_loss: 0.6358 - val_accuracy: 0.3214 - val_auc: 0.5864\n",
      "Epoch 23/100\n",
      "16/16 [==============================] - 0s 16ms/step - loss: 0.4763 - accuracy: 0.4716 - auc: 0.7606 - val_loss: 0.5997 - val_accuracy: 0.3163 - val_auc: 0.5904\n",
      "Epoch 24/100\n",
      "16/16 [==============================] - 0s 16ms/step - loss: 0.4799 - accuracy: 0.4492 - auc: 0.7568 - val_loss: 0.6074 - val_accuracy: 0.3265 - val_auc: 0.5887\n",
      "Epoch 25/100\n",
      "16/16 [==============================] - 0s 16ms/step - loss: 0.4866 - accuracy: 0.4275 - auc: 0.7438 - val_loss: 0.6202 - val_accuracy: 0.3265 - val_auc: 0.5798\n",
      "Epoch 26/100\n",
      "16/16 [==============================] - 0s 17ms/step - loss: 0.4767 - accuracy: 0.4613 - auc: 0.7595 - val_loss: 0.6453 - val_accuracy: 0.3087 - val_auc: 0.5817\n",
      "Epoch 27/100\n",
      "16/16 [==============================] - 0s 16ms/step - loss: 0.4747 - accuracy: 0.4403 - auc: 0.7593 - val_loss: 0.7132 - val_accuracy: 0.3367 - val_auc: 0.5784\n",
      "Epoch 28/100\n",
      "16/16 [==============================] - 0s 16ms/step - loss: 0.4724 - accuracy: 0.4524 - auc: 0.7648 - val_loss: 0.6057 - val_accuracy: 0.2653 - val_auc: 0.5643\n",
      "Epoch 29/100\n",
      "16/16 [==============================] - 0s 17ms/step - loss: 0.4563 - accuracy: 0.4741 - auc: 0.7865 - val_loss: 0.6358 - val_accuracy: 0.3112 - val_auc: 0.5769\n",
      "Epoch 30/100\n",
      "16/16 [==============================] - 0s 16ms/step - loss: 0.4405 - accuracy: 0.5054 - auc: 0.8082 - val_loss: 0.6615 - val_accuracy: 0.2883 - val_auc: 0.5762\n",
      "Epoch 31/100\n",
      "16/16 [==============================] - 0s 15ms/step - loss: 0.4739 - accuracy: 0.4498 - auc: 0.7630 - val_loss: 0.6034 - val_accuracy: 0.2194 - val_auc: 0.5450\n",
      "Epoch 32/100\n",
      "16/16 [==============================] - 0s 16ms/step - loss: 0.4555 - accuracy: 0.4767 - auc: 0.7876 - val_loss: 0.6138 - val_accuracy: 0.2321 - val_auc: 0.5656\n",
      "Epoch 33/100\n",
      "16/16 [==============================] - 0s 16ms/step - loss: 0.4333 - accuracy: 0.4971 - auc: 0.8134 - val_loss: 0.7190 - val_accuracy: 0.3163 - val_auc: 0.5731\n",
      "Epoch 34/100\n",
      "16/16 [==============================] - 0s 16ms/step - loss: 0.4611 - accuracy: 0.4690 - auc: 0.7782 - val_loss: 0.6600 - val_accuracy: 0.2959 - val_auc: 0.5755\n",
      "Epoch 35/100\n",
      "16/16 [==============================] - 0s 16ms/step - loss: 0.4283 - accuracy: 0.5099 - auc: 0.8187 - val_loss: 0.6112 - val_accuracy: 0.2577 - val_auc: 0.5667\n",
      "Epoch 36/100\n",
      "16/16 [==============================] - 0s 16ms/step - loss: 0.4275 - accuracy: 0.5080 - auc: 0.8217 - val_loss: 0.7447 - val_accuracy: 0.3214 - val_auc: 0.5675\n",
      "Epoch 37/100\n",
      "16/16 [==============================] - 0s 17ms/step - loss: 0.4348 - accuracy: 0.4933 - auc: 0.8124 - val_loss: 0.6074 - val_accuracy: 0.2449 - val_auc: 0.5564\n",
      "Epoch 38/100\n",
      "16/16 [==============================] - 0s 16ms/step - loss: 0.4085 - accuracy: 0.5367 - auc: 0.8431 - val_loss: 0.6549 - val_accuracy: 0.2628 - val_auc: 0.5615\n",
      "Epoch 39/100\n",
      "16/16 [==============================] - 0s 16ms/step - loss: 0.4162 - accuracy: 0.5291 - auc: 0.8310 - val_loss: 0.6485 - val_accuracy: 0.2321 - val_auc: 0.5484\n",
      "Epoch 40/100\n",
      "16/16 [==============================] - 0s 16ms/step - loss: 0.4035 - accuracy: 0.5431 - auc: 0.8470 - val_loss: 0.6749 - val_accuracy: 0.2551 - val_auc: 0.5552\n",
      "Epoch 41/100\n",
      "16/16 [==============================] - 0s 17ms/step - loss: 0.3958 - accuracy: 0.5489 - auc: 0.8486 - val_loss: 0.6659 - val_accuracy: 0.2474 - val_auc: 0.5569\n",
      "Epoch 42/100\n",
      "16/16 [==============================] - 0s 17ms/step - loss: 0.3885 - accuracy: 0.5700 - auc: 0.8569 - val_loss: 0.8105 - val_accuracy: 0.2985 - val_auc: 0.5523\n",
      "Epoch 43/100\n",
      "16/16 [==============================] - 0s 16ms/step - loss: 0.3927 - accuracy: 0.5585 - auc: 0.8534 - val_loss: 0.6558 - val_accuracy: 0.1862 - val_auc: 0.5306\n",
      "Epoch 44/100\n",
      "16/16 [==============================] - 0s 17ms/step - loss: 0.3845 - accuracy: 0.5712 - auc: 0.8632 - val_loss: 0.7971 - val_accuracy: 0.2934 - val_auc: 0.5592\n",
      "Epoch 45/100\n",
      "16/16 [==============================] - 0s 16ms/step - loss: 0.3852 - accuracy: 0.5565 - auc: 0.8600 - val_loss: 0.7920 - val_accuracy: 0.2985 - val_auc: 0.5523\n",
      "Epoch 46/100\n",
      "16/16 [==============================] - 0s 16ms/step - loss: 0.3649 - accuracy: 0.5904 - auc: 0.8773 - val_loss: 1.0512 - val_accuracy: 0.3418 - val_auc: 0.5368\n",
      "Epoch 47/100\n",
      "16/16 [==============================] - 0s 16ms/step - loss: 0.3658 - accuracy: 0.5904 - auc: 0.8789 - val_loss: 0.7173 - val_accuracy: 0.1888 - val_auc: 0.5015\n",
      "Epoch 48/100\n",
      "16/16 [==============================] - 0s 17ms/step - loss: 0.3817 - accuracy: 0.5757 - auc: 0.8626 - val_loss: 0.9298 - val_accuracy: 0.3138 - val_auc: 0.5552\n",
      "Epoch 49/100\n",
      "16/16 [==============================] - 0s 15ms/step - loss: 0.3486 - accuracy: 0.6006 - auc: 0.8912 - val_loss: 0.7279 - val_accuracy: 0.2066 - val_auc: 0.5311\n",
      "Epoch 50/100\n",
      "16/16 [==============================] - 0s 16ms/step - loss: 0.3527 - accuracy: 0.5968 - auc: 0.8857 - val_loss: 1.1138 - val_accuracy: 0.3010 - val_auc: 0.5523\n",
      "Epoch 51/100\n",
      "16/16 [==============================] - 0s 17ms/step - loss: 0.3542 - accuracy: 0.6013 - auc: 0.8847 - val_loss: 0.7255 - val_accuracy: 0.2321 - val_auc: 0.5383\n",
      "Epoch 52/100\n",
      "16/16 [==============================] - 0s 16ms/step - loss: 0.3123 - accuracy: 0.6466 - auc: 0.9169 - val_loss: 0.7370 - val_accuracy: 0.2526 - val_auc: 0.5254\n",
      "Epoch 53/100\n",
      "16/16 [==============================] - 0s 16ms/step - loss: 0.3273 - accuracy: 0.6262 - auc: 0.9063 - val_loss: 0.7738 - val_accuracy: 0.1531 - val_auc: 0.4912\n",
      "Epoch 54/100\n",
      "16/16 [==============================] - 0s 17ms/step - loss: 0.3198 - accuracy: 0.6473 - auc: 0.9104 - val_loss: 0.9367 - val_accuracy: 0.2755 - val_auc: 0.5444\n",
      "Epoch 55/100\n",
      "16/16 [==============================] - 0s 16ms/step - loss: 0.3329 - accuracy: 0.6486 - auc: 0.9006 - val_loss: 0.8470 - val_accuracy: 0.2321 - val_auc: 0.5364\n",
      "Epoch 56/100\n",
      "16/16 [==============================] - 0s 16ms/step - loss: 0.2930 - accuracy: 0.6773 - auc: 0.9246 - val_loss: 0.7826 - val_accuracy: 0.2041 - val_auc: 0.5209\n",
      "Epoch 57/100\n",
      "16/16 [==============================] - 0s 17ms/step - loss: 0.3056 - accuracy: 0.6639 - auc: 0.9181 - val_loss: 0.7985 - val_accuracy: 0.2270 - val_auc: 0.5361\n",
      "Epoch 58/100\n",
      "16/16 [==============================] - 0s 16ms/step - loss: 0.2718 - accuracy: 0.6927 - auc: 0.9399 - val_loss: 0.8915 - val_accuracy: 0.1173 - val_auc: 0.4575\n",
      "Epoch 59/100\n",
      "16/16 [==============================] - 0s 16ms/step - loss: 0.3131 - accuracy: 0.6703 - auc: 0.9138 - val_loss: 0.8816 - val_accuracy: 0.2372 - val_auc: 0.5473\n",
      "Epoch 60/100\n",
      "16/16 [==============================] - 0s 16ms/step - loss: 0.2889 - accuracy: 0.6639 - auc: 0.9251 - val_loss: 0.7624 - val_accuracy: 0.2347 - val_auc: 0.4968\n",
      "Epoch 61/100\n",
      "16/16 [==============================] - 0s 16ms/step - loss: 0.2782 - accuracy: 0.6863 - auc: 0.9360 - val_loss: 0.9398 - val_accuracy: 0.2679 - val_auc: 0.5611\n",
      "Epoch 62/100\n",
      "16/16 [==============================] - 0s 16ms/step - loss: 0.2274 - accuracy: 0.7380 - auc: 0.9591 - val_loss: 0.8937 - val_accuracy: 0.1582 - val_auc: 0.4792\n",
      "Epoch 63/100\n",
      "16/16 [==============================] - 0s 17ms/step - loss: 0.2943 - accuracy: 0.6741 - auc: 0.9243 - val_loss: 0.9782 - val_accuracy: 0.2679 - val_auc: 0.5409\n",
      "Epoch 64/100\n",
      "16/16 [==============================] - 0s 16ms/step - loss: 0.2503 - accuracy: 0.7125 - auc: 0.9467 - val_loss: 0.8144 - val_accuracy: 0.1684 - val_auc: 0.4860\n",
      "Epoch 65/100\n",
      "16/16 [==============================] - 0s 16ms/step - loss: 0.2527 - accuracy: 0.7163 - auc: 0.9470 - val_loss: 1.0907 - val_accuracy: 0.2628 - val_auc: 0.5421\n",
      "Epoch 66/100\n",
      "16/16 [==============================] - 0s 16ms/step - loss: 0.1729 - accuracy: 0.7847 - auc: 0.9802 - val_loss: 1.0163 - val_accuracy: 0.2551 - val_auc: 0.5327\n",
      "Epoch 67/100\n",
      "16/16 [==============================] - 0s 16ms/step - loss: 0.2913 - accuracy: 0.6824 - auc: 0.9257 - val_loss: 0.8957 - val_accuracy: 0.2041 - val_auc: 0.5149\n",
      "Epoch 68/100\n",
      "16/16 [==============================] - 0s 16ms/step - loss: 0.2128 - accuracy: 0.7508 - auc: 0.9647 - val_loss: 1.0821 - val_accuracy: 0.2704 - val_auc: 0.5461\n",
      "Epoch 69/100\n",
      "16/16 [==============================] - 0s 16ms/step - loss: 0.1574 - accuracy: 0.7898 - auc: 0.9834 - val_loss: 1.2951 - val_accuracy: 0.3036 - val_auc: 0.5467\n",
      "Epoch 70/100\n",
      "16/16 [==============================] - 0s 16ms/step - loss: 0.1585 - accuracy: 0.8013 - auc: 0.9814 - val_loss: 1.1906 - val_accuracy: 0.2347 - val_auc: 0.5341\n",
      "Epoch 71/100\n",
      "16/16 [==============================] - 0s 16ms/step - loss: 0.2801 - accuracy: 0.6907 - auc: 0.9319 - val_loss: 1.2525 - val_accuracy: 0.3214 - val_auc: 0.5415\n",
      "Epoch 72/100\n",
      "16/16 [==============================] - 0s 16ms/step - loss: 0.2602 - accuracy: 0.7061 - auc: 0.9426 - val_loss: 1.0531 - val_accuracy: 0.2066 - val_auc: 0.5354\n",
      "Epoch 73/100\n",
      "16/16 [==============================] - 0s 16ms/step - loss: 0.1330 - accuracy: 0.8153 - auc: 0.9897 - val_loss: 1.3287 - val_accuracy: 0.3061 - val_auc: 0.5377\n",
      "Epoch 74/100\n",
      "16/16 [==============================] - 0s 16ms/step - loss: 0.1432 - accuracy: 0.8070 - auc: 0.9850 - val_loss: 1.6166 - val_accuracy: 0.3138 - val_auc: 0.5557\n",
      "Epoch 75/100\n",
      "16/16 [==============================] - 0s 16ms/step - loss: 0.2023 - accuracy: 0.7687 - auc: 0.9650 - val_loss: 1.3092 - val_accuracy: 0.2934 - val_auc: 0.5553\n",
      "Epoch 76/100\n",
      "16/16 [==============================] - 0s 16ms/step - loss: 0.1530 - accuracy: 0.7949 - auc: 0.9813 - val_loss: 1.6267 - val_accuracy: 0.3291 - val_auc: 0.5431\n",
      "Epoch 77/100\n",
      "16/16 [==============================] - 0s 15ms/step - loss: 0.2758 - accuracy: 0.7099 - auc: 0.9342 - val_loss: 1.2231 - val_accuracy: 0.2500 - val_auc: 0.5362\n",
      "Epoch 78/100\n",
      "16/16 [==============================] - 0s 16ms/step - loss: 0.1305 - accuracy: 0.8262 - auc: 0.9897 - val_loss: 1.4437 - val_accuracy: 0.3036 - val_auc: 0.5692\n",
      "Epoch 79/100\n",
      "16/16 [==============================] - 0s 16ms/step - loss: 0.0947 - accuracy: 0.8403 - auc: 0.9952 - val_loss: 1.3970 - val_accuracy: 0.2755 - val_auc: 0.5435\n",
      "Epoch 80/100\n",
      "16/16 [==============================] - 0s 17ms/step - loss: 0.0938 - accuracy: 0.8256 - auc: 0.9936 - val_loss: 1.7880 - val_accuracy: 0.3367 - val_auc: 0.5693\n",
      "Epoch 81/100\n",
      "16/16 [==============================] - 0s 16ms/step - loss: 0.1002 - accuracy: 0.8466 - auc: 0.9932 - val_loss: 1.7594 - val_accuracy: 0.2934 - val_auc: 0.5652\n",
      "Epoch 82/100\n",
      "16/16 [==============================] - 0s 16ms/step - loss: 0.0589 - accuracy: 0.8550 - auc: 0.9987 - val_loss: 1.6281 - val_accuracy: 0.2602 - val_auc: 0.5644\n",
      "Epoch 83/100\n",
      "16/16 [==============================] - 0s 18ms/step - loss: 0.3501 - accuracy: 0.7010 - auc: 0.9205 - val_loss: 0.7504 - val_accuracy: 0.2245 - val_auc: 0.4952\n",
      "Epoch 84/100\n",
      "16/16 [==============================] - 0s 16ms/step - loss: 0.2927 - accuracy: 0.6728 - auc: 0.9250 - val_loss: 1.0367 - val_accuracy: 0.2857 - val_auc: 0.5314\n",
      "Epoch 85/100\n",
      "16/16 [==============================] - 0s 16ms/step - loss: 0.1224 - accuracy: 0.8230 - auc: 0.9922 - val_loss: 1.2863 - val_accuracy: 0.2883 - val_auc: 0.5600\n",
      "Epoch 86/100\n",
      "16/16 [==============================] - 0s 17ms/step - loss: 0.0704 - accuracy: 0.8498 - auc: 0.9984 - val_loss: 1.4554 - val_accuracy: 0.2653 - val_auc: 0.5536\n",
      "Epoch 87/100\n",
      "16/16 [==============================] - 0s 17ms/step - loss: 0.0509 - accuracy: 0.8550 - auc: 0.9994 - val_loss: 1.7077 - val_accuracy: 0.2730 - val_auc: 0.5475\n",
      "Epoch 88/100\n",
      "16/16 [==============================] - 0s 17ms/step - loss: 0.0377 - accuracy: 0.8594 - auc: 0.9998 - val_loss: 1.8709 - val_accuracy: 0.2755 - val_auc: 0.5509\n",
      "Epoch 89/100\n",
      "16/16 [==============================] - 0s 16ms/step - loss: 0.0429 - accuracy: 0.8601 - auc: 0.9992 - val_loss: 1.8439 - val_accuracy: 0.1964 - val_auc: 0.5303\n",
      "Epoch 90/100\n",
      "16/16 [==============================] - 0s 19ms/step - loss: 0.3483 - accuracy: 0.6696 - auc: 0.9068 - val_loss: 1.2343 - val_accuracy: 0.2959 - val_auc: 0.5408\n",
      "Epoch 91/100\n",
      "16/16 [==============================] - 0s 16ms/step - loss: 0.0929 - accuracy: 0.8409 - auc: 0.9954 - val_loss: 1.6354 - val_accuracy: 0.3189 - val_auc: 0.5620\n",
      "Epoch 92/100\n",
      "16/16 [==============================] - 0s 17ms/step - loss: 0.0465 - accuracy: 0.8671 - auc: 0.9994 - val_loss: 1.7813 - val_accuracy: 0.2806 - val_auc: 0.5509\n",
      "Epoch 93/100\n",
      "16/16 [==============================] - 0s 16ms/step - loss: 0.0293 - accuracy: 0.8722 - auc: 0.9999 - val_loss: 1.9035 - val_accuracy: 0.3112 - val_auc: 0.5567\n",
      "Epoch 94/100\n",
      "16/16 [==============================] - 0s 16ms/step - loss: 0.0220 - accuracy: 0.8665 - auc: 1.0000 - val_loss: 1.9946 - val_accuracy: 0.2806 - val_auc: 0.5477\n",
      "Epoch 95/100\n",
      "16/16 [==============================] - 0s 16ms/step - loss: 0.0178 - accuracy: 0.8671 - auc: 1.0000 - val_loss: 2.0706 - val_accuracy: 0.2934 - val_auc: 0.5414\n",
      "Epoch 96/100\n",
      "16/16 [==============================] - 0s 16ms/step - loss: 0.0142 - accuracy: 0.8677 - auc: 1.0000 - val_loss: 2.1831 - val_accuracy: 0.2959 - val_auc: 0.5510\n",
      "Epoch 97/100\n",
      "16/16 [==============================] - 0s 17ms/step - loss: 0.0106 - accuracy: 0.8645 - auc: 1.0000 - val_loss: 2.2843 - val_accuracy: 0.2908 - val_auc: 0.5493\n",
      "Epoch 98/100\n",
      "16/16 [==============================] - 0s 16ms/step - loss: 0.0090 - accuracy: 0.8677 - auc: 1.0000 - val_loss: 2.3513 - val_accuracy: 0.2934 - val_auc: 0.5497\n",
      "Epoch 99/100\n",
      "16/16 [==============================] - 0s 16ms/step - loss: 0.0076 - accuracy: 0.8633 - auc: 1.0000 - val_loss: 2.3960 - val_accuracy: 0.2857 - val_auc: 0.5463\n",
      "Epoch 100/100\n",
      "16/16 [==============================] - 0s 16ms/step - loss: 0.0066 - accuracy: 0.8607 - auc: 1.0000 - val_loss: 2.4569 - val_accuracy: 0.2883 - val_auc: 0.5430\n",
      "Epoch 1/100\n",
      "16/16 [==============================] - 1s 36ms/step - loss: 0.6521 - accuracy: 0.2192 - auc: 0.5005 - val_loss: 0.6018 - val_accuracy: 0.3036 - val_auc: 0.5180\n",
      "Epoch 2/100\n",
      "16/16 [==============================] - 0s 16ms/step - loss: 0.5481 - accuracy: 0.4332 - auc: 0.6227 - val_loss: 0.5860 - val_accuracy: 0.3393 - val_auc: 0.5784\n",
      "Epoch 3/100\n",
      "16/16 [==============================] - 0s 16ms/step - loss: 0.5334 - accuracy: 0.4371 - auc: 0.6507 - val_loss: 0.5811 - val_accuracy: 0.3393 - val_auc: 0.5911\n",
      "Epoch 4/100\n",
      "16/16 [==============================] - 0s 15ms/step - loss: 0.5315 - accuracy: 0.4371 - auc: 0.6573 - val_loss: 0.5796 - val_accuracy: 0.3393 - val_auc: 0.5889\n",
      "Epoch 5/100\n",
      "16/16 [==============================] - 0s 16ms/step - loss: 0.5298 - accuracy: 0.4371 - auc: 0.6641 - val_loss: 0.5784 - val_accuracy: 0.3393 - val_auc: 0.5880\n",
      "Epoch 6/100\n",
      "16/16 [==============================] - 0s 16ms/step - loss: 0.5285 - accuracy: 0.4371 - auc: 0.6694 - val_loss: 0.5799 - val_accuracy: 0.3393 - val_auc: 0.5840\n",
      "Epoch 7/100\n",
      "16/16 [==============================] - 0s 17ms/step - loss: 0.5278 - accuracy: 0.4371 - auc: 0.6712 - val_loss: 0.5843 - val_accuracy: 0.3393 - val_auc: 0.5872\n",
      "Epoch 8/100\n",
      "16/16 [==============================] - 0s 16ms/step - loss: 0.5266 - accuracy: 0.4371 - auc: 0.6756 - val_loss: 0.5782 - val_accuracy: 0.3393 - val_auc: 0.5878\n",
      "Epoch 9/100\n",
      "16/16 [==============================] - 0s 16ms/step - loss: 0.5248 - accuracy: 0.4371 - auc: 0.6825 - val_loss: 0.5792 - val_accuracy: 0.3393 - val_auc: 0.5843\n",
      "Epoch 10/100\n",
      "16/16 [==============================] - 0s 17ms/step - loss: 0.5239 - accuracy: 0.4371 - auc: 0.6859 - val_loss: 0.5845 - val_accuracy: 0.3393 - val_auc: 0.5828\n",
      "Epoch 11/100\n",
      "16/16 [==============================] - 0s 16ms/step - loss: 0.5223 - accuracy: 0.4371 - auc: 0.6887 - val_loss: 0.5786 - val_accuracy: 0.3393 - val_auc: 0.5901\n",
      "Epoch 12/100\n",
      "16/16 [==============================] - 0s 16ms/step - loss: 0.5209 - accuracy: 0.4371 - auc: 0.6945 - val_loss: 0.5926 - val_accuracy: 0.3393 - val_auc: 0.5873\n",
      "Epoch 13/100\n",
      "16/16 [==============================] - 0s 16ms/step - loss: 0.5188 - accuracy: 0.4371 - auc: 0.6956 - val_loss: 0.5816 - val_accuracy: 0.3393 - val_auc: 0.5853\n",
      "Epoch 14/100\n",
      "16/16 [==============================] - 0s 15ms/step - loss: 0.5178 - accuracy: 0.4371 - auc: 0.7000 - val_loss: 0.5832 - val_accuracy: 0.3393 - val_auc: 0.5899\n",
      "Epoch 15/100\n",
      "16/16 [==============================] - 0s 16ms/step - loss: 0.5160 - accuracy: 0.4371 - auc: 0.7039 - val_loss: 0.5860 - val_accuracy: 0.3393 - val_auc: 0.5864\n",
      "Epoch 16/100\n",
      "16/16 [==============================] - 0s 15ms/step - loss: 0.5136 - accuracy: 0.4377 - auc: 0.7102 - val_loss: 0.5834 - val_accuracy: 0.3393 - val_auc: 0.5895\n",
      "Epoch 17/100\n",
      "16/16 [==============================] - 0s 16ms/step - loss: 0.5112 - accuracy: 0.4377 - auc: 0.7144 - val_loss: 0.5859 - val_accuracy: 0.3393 - val_auc: 0.5847\n",
      "Epoch 18/100\n",
      "16/16 [==============================] - 0s 15ms/step - loss: 0.5079 - accuracy: 0.4396 - auc: 0.7195 - val_loss: 0.5831 - val_accuracy: 0.3367 - val_auc: 0.5900\n",
      "Epoch 19/100\n",
      "16/16 [==============================] - 0s 16ms/step - loss: 0.5054 - accuracy: 0.4383 - auc: 0.7245 - val_loss: 0.5809 - val_accuracy: 0.3163 - val_auc: 0.5826\n",
      "Epoch 20/100\n",
      "16/16 [==============================] - 0s 16ms/step - loss: 0.5039 - accuracy: 0.4422 - auc: 0.7256 - val_loss: 0.5993 - val_accuracy: 0.3367 - val_auc: 0.5872\n",
      "Epoch 21/100\n",
      "16/16 [==============================] - 0s 16ms/step - loss: 0.5001 - accuracy: 0.4415 - auc: 0.7313 - val_loss: 0.5895 - val_accuracy: 0.3316 - val_auc: 0.5855\n",
      "Epoch 22/100\n",
      "16/16 [==============================] - 0s 16ms/step - loss: 0.4958 - accuracy: 0.4486 - auc: 0.7373 - val_loss: 0.5978 - val_accuracy: 0.3163 - val_auc: 0.5853\n",
      "Epoch 23/100\n",
      "16/16 [==============================] - 0s 16ms/step - loss: 0.4929 - accuracy: 0.4466 - auc: 0.7407 - val_loss: 0.5910 - val_accuracy: 0.3061 - val_auc: 0.5818\n",
      "Epoch 24/100\n",
      "16/16 [==============================] - 0s 17ms/step - loss: 0.4874 - accuracy: 0.4486 - auc: 0.7488 - val_loss: 0.5870 - val_accuracy: 0.2832 - val_auc: 0.5730\n",
      "Epoch 25/100\n",
      "16/16 [==============================] - 0s 16ms/step - loss: 0.4806 - accuracy: 0.4537 - auc: 0.7603 - val_loss: 0.6032 - val_accuracy: 0.2755 - val_auc: 0.5713\n",
      "Epoch 26/100\n",
      "16/16 [==============================] - 0s 16ms/step - loss: 0.4871 - accuracy: 0.4422 - auc: 0.7479 - val_loss: 0.5905 - val_accuracy: 0.2806 - val_auc: 0.5769\n",
      "Epoch 27/100\n",
      "16/16 [==============================] - 0s 16ms/step - loss: 0.4763 - accuracy: 0.4581 - auc: 0.7661 - val_loss: 0.5875 - val_accuracy: 0.2551 - val_auc: 0.5819\n",
      "Epoch 28/100\n",
      "16/16 [==============================] - 0s 16ms/step - loss: 0.4761 - accuracy: 0.4524 - auc: 0.7668 - val_loss: 0.6020 - val_accuracy: 0.2908 - val_auc: 0.5836\n",
      "Epoch 29/100\n",
      "16/16 [==============================] - 0s 16ms/step - loss: 0.4658 - accuracy: 0.4665 - auc: 0.7813 - val_loss: 0.6729 - val_accuracy: 0.3291 - val_auc: 0.5856\n",
      "Epoch 30/100\n",
      "16/16 [==============================] - 0s 16ms/step - loss: 0.4740 - accuracy: 0.4537 - auc: 0.7661 - val_loss: 0.6172 - val_accuracy: 0.2857 - val_auc: 0.5766\n",
      "Epoch 31/100\n",
      "16/16 [==============================] - 0s 15ms/step - loss: 0.4661 - accuracy: 0.4607 - auc: 0.7786 - val_loss: 0.6603 - val_accuracy: 0.3189 - val_auc: 0.5869\n",
      "Epoch 32/100\n",
      "16/16 [==============================] - 0s 16ms/step - loss: 0.4652 - accuracy: 0.4639 - auc: 0.7792 - val_loss: 0.6487 - val_accuracy: 0.2934 - val_auc: 0.5718\n",
      "Epoch 33/100\n",
      "16/16 [==============================] - 0s 16ms/step - loss: 0.4566 - accuracy: 0.4633 - auc: 0.7885 - val_loss: 0.6818 - val_accuracy: 0.3189 - val_auc: 0.5762\n",
      "Epoch 34/100\n",
      "16/16 [==============================] - 0s 16ms/step - loss: 0.4558 - accuracy: 0.4920 - auc: 0.7922 - val_loss: 0.6436 - val_accuracy: 0.2832 - val_auc: 0.5611\n",
      "Epoch 35/100\n",
      "16/16 [==============================] - 0s 16ms/step - loss: 0.4462 - accuracy: 0.4920 - auc: 0.8040 - val_loss: 0.6988 - val_accuracy: 0.3367 - val_auc: 0.5792\n",
      "Epoch 36/100\n",
      "16/16 [==============================] - 0s 16ms/step - loss: 0.4703 - accuracy: 0.4518 - auc: 0.7696 - val_loss: 0.6241 - val_accuracy: 0.2806 - val_auc: 0.5634\n",
      "Epoch 37/100\n",
      "16/16 [==============================] - 0s 17ms/step - loss: 0.4365 - accuracy: 0.4946 - auc: 0.8144 - val_loss: 0.6160 - val_accuracy: 0.2423 - val_auc: 0.5536\n",
      "Epoch 38/100\n",
      "16/16 [==============================] - 0s 16ms/step - loss: 0.4502 - accuracy: 0.4856 - auc: 0.7985 - val_loss: 0.6072 - val_accuracy: 0.1990 - val_auc: 0.5514\n",
      "Epoch 39/100\n",
      "16/16 [==============================] - 0s 18ms/step - loss: 0.4280 - accuracy: 0.5099 - auc: 0.8276 - val_loss: 0.7429 - val_accuracy: 0.3189 - val_auc: 0.5744\n",
      "Epoch 40/100\n",
      "16/16 [==============================] - 0s 16ms/step - loss: 0.4267 - accuracy: 0.5144 - auc: 0.8218 - val_loss: 0.6737 - val_accuracy: 0.2628 - val_auc: 0.5484\n",
      "Epoch 41/100\n",
      "16/16 [==============================] - 0s 16ms/step - loss: 0.4252 - accuracy: 0.5073 - auc: 0.8238 - val_loss: 0.6551 - val_accuracy: 0.2296 - val_auc: 0.5501\n",
      "Epoch 42/100\n",
      "16/16 [==============================] - 0s 17ms/step - loss: 0.4179 - accuracy: 0.5329 - auc: 0.8335 - val_loss: 0.7993 - val_accuracy: 0.3444 - val_auc: 0.5799\n",
      "Epoch 43/100\n",
      "16/16 [==============================] - 0s 16ms/step - loss: 0.4262 - accuracy: 0.5188 - auc: 0.8235 - val_loss: 0.6803 - val_accuracy: 0.2985 - val_auc: 0.5563\n",
      "Epoch 44/100\n",
      "16/16 [==============================] - 0s 16ms/step - loss: 0.4094 - accuracy: 0.5399 - auc: 0.8411 - val_loss: 0.6340 - val_accuracy: 0.2143 - val_auc: 0.5417\n",
      "Epoch 45/100\n",
      "16/16 [==============================] - 0s 17ms/step - loss: 0.4090 - accuracy: 0.5374 - auc: 0.8412 - val_loss: 0.6559 - val_accuracy: 0.2041 - val_auc: 0.5440\n",
      "Epoch 46/100\n",
      "16/16 [==============================] - 0s 16ms/step - loss: 0.3870 - accuracy: 0.5623 - auc: 0.8623 - val_loss: 0.6938 - val_accuracy: 0.2832 - val_auc: 0.5872\n",
      "Epoch 47/100\n",
      "16/16 [==============================] - 0s 16ms/step - loss: 0.3953 - accuracy: 0.5470 - auc: 0.8525 - val_loss: 0.8093 - val_accuracy: 0.3061 - val_auc: 0.5624\n",
      "Epoch 48/100\n",
      "16/16 [==============================] - 0s 16ms/step - loss: 0.4077 - accuracy: 0.5348 - auc: 0.8388 - val_loss: 0.7151 - val_accuracy: 0.2908 - val_auc: 0.5645\n",
      "Epoch 49/100\n",
      "16/16 [==============================] - 0s 16ms/step - loss: 0.3698 - accuracy: 0.5815 - auc: 0.8758 - val_loss: 0.7550 - val_accuracy: 0.3036 - val_auc: 0.5587\n",
      "Epoch 50/100\n",
      "16/16 [==============================] - 0s 17ms/step - loss: 0.3800 - accuracy: 0.5681 - auc: 0.8672 - val_loss: 0.8129 - val_accuracy: 0.3112 - val_auc: 0.5619\n",
      "Epoch 51/100\n",
      "16/16 [==============================] - 0s 16ms/step - loss: 0.3715 - accuracy: 0.5821 - auc: 0.8746 - val_loss: 0.8732 - val_accuracy: 0.3240 - val_auc: 0.5626\n",
      "Epoch 52/100\n",
      "16/16 [==============================] - 0s 16ms/step - loss: 0.3353 - accuracy: 0.6435 - auc: 0.9005 - val_loss: 0.7039 - val_accuracy: 0.2143 - val_auc: 0.5322\n",
      "Epoch 53/100\n",
      "16/16 [==============================] - 0s 17ms/step - loss: 0.3578 - accuracy: 0.5987 - auc: 0.8838 - val_loss: 0.7108 - val_accuracy: 0.2041 - val_auc: 0.5112\n",
      "Epoch 54/100\n",
      "16/16 [==============================] - 0s 16ms/step - loss: 0.3619 - accuracy: 0.6058 - auc: 0.8799 - val_loss: 0.9205 - val_accuracy: 0.2398 - val_auc: 0.5311\n",
      "Epoch 55/100\n",
      "16/16 [==============================] - 0s 16ms/step - loss: 0.3570 - accuracy: 0.5949 - auc: 0.8823 - val_loss: 0.8783 - val_accuracy: 0.2959 - val_auc: 0.5577\n",
      "Epoch 56/100\n",
      "16/16 [==============================] - 0s 16ms/step - loss: 0.3215 - accuracy: 0.6198 - auc: 0.9105 - val_loss: 1.0410 - val_accuracy: 0.3291 - val_auc: 0.5629\n",
      "Epoch 57/100\n",
      "16/16 [==============================] - 0s 16ms/step - loss: 0.3470 - accuracy: 0.5936 - auc: 0.8891 - val_loss: 0.8311 - val_accuracy: 0.3010 - val_auc: 0.5529\n",
      "Epoch 58/100\n",
      "16/16 [==============================] - 0s 17ms/step - loss: 0.3081 - accuracy: 0.6728 - auc: 0.9180 - val_loss: 0.7510 - val_accuracy: 0.1964 - val_auc: 0.5288\n",
      "Epoch 59/100\n",
      "16/16 [==============================] - 0s 16ms/step - loss: 0.3188 - accuracy: 0.6371 - auc: 0.9108 - val_loss: 0.7875 - val_accuracy: 0.2423 - val_auc: 0.5315\n",
      "Epoch 60/100\n",
      "16/16 [==============================] - 0s 17ms/step - loss: 0.3284 - accuracy: 0.6275 - auc: 0.9047 - val_loss: 0.8283 - val_accuracy: 0.2577 - val_auc: 0.5557\n",
      "Epoch 61/100\n",
      "16/16 [==============================] - 0s 16ms/step - loss: 0.3265 - accuracy: 0.6371 - auc: 0.9062 - val_loss: 0.9724 - val_accuracy: 0.3010 - val_auc: 0.5563\n",
      "Epoch 62/100\n",
      "16/16 [==============================] - 0s 16ms/step - loss: 0.2633 - accuracy: 0.7048 - auc: 0.9455 - val_loss: 0.9159 - val_accuracy: 0.2755 - val_auc: 0.5488\n",
      "Epoch 63/100\n",
      "16/16 [==============================] - 0s 16ms/step - loss: 0.3048 - accuracy: 0.6562 - auc: 0.9187 - val_loss: 0.7890 - val_accuracy: 0.2219 - val_auc: 0.5374\n",
      "Epoch 64/100\n",
      "16/16 [==============================] - 0s 16ms/step - loss: 0.2438 - accuracy: 0.7220 - auc: 0.9546 - val_loss: 1.1032 - val_accuracy: 0.2959 - val_auc: 0.5524\n",
      "Epoch 65/100\n",
      "16/16 [==============================] - 0s 15ms/step - loss: 0.3048 - accuracy: 0.6518 - auc: 0.9171 - val_loss: 1.0143 - val_accuracy: 0.3291 - val_auc: 0.5420\n",
      "Epoch 66/100\n",
      "16/16 [==============================] - 0s 17ms/step - loss: 0.2374 - accuracy: 0.7201 - auc: 0.9554 - val_loss: 0.8288 - val_accuracy: 0.2296 - val_auc: 0.5455\n",
      "Epoch 67/100\n",
      "16/16 [==============================] - 0s 16ms/step - loss: 0.2387 - accuracy: 0.7227 - auc: 0.9521 - val_loss: 0.9589 - val_accuracy: 0.2883 - val_auc: 0.5509\n",
      "Epoch 68/100\n",
      "16/16 [==============================] - 0s 16ms/step - loss: 0.2544 - accuracy: 0.7093 - auc: 0.9448 - val_loss: 1.2353 - val_accuracy: 0.3189 - val_auc: 0.5617\n",
      "Epoch 69/100\n",
      "16/16 [==============================] - 0s 16ms/step - loss: 0.2388 - accuracy: 0.7240 - auc: 0.9523 - val_loss: 1.0807 - val_accuracy: 0.2755 - val_auc: 0.5360\n",
      "Epoch 70/100\n",
      "16/16 [==============================] - 0s 17ms/step - loss: 0.1895 - accuracy: 0.7681 - auc: 0.9711 - val_loss: 1.0797 - val_accuracy: 0.2602 - val_auc: 0.5527\n",
      "Epoch 71/100\n",
      "16/16 [==============================] - 0s 16ms/step - loss: 0.2826 - accuracy: 0.6863 - auc: 0.9307 - val_loss: 0.9910 - val_accuracy: 0.2628 - val_auc: 0.5408\n",
      "Epoch 72/100\n",
      "16/16 [==============================] - 0s 16ms/step - loss: 0.1608 - accuracy: 0.7866 - auc: 0.9818 - val_loss: 1.0176 - val_accuracy: 0.2015 - val_auc: 0.5239\n",
      "Epoch 73/100\n",
      "16/16 [==============================] - 0s 16ms/step - loss: 0.2887 - accuracy: 0.6978 - auc: 0.9284 - val_loss: 1.0436 - val_accuracy: 0.2730 - val_auc: 0.5232\n",
      "Epoch 74/100\n",
      "16/16 [==============================] - 0s 17ms/step - loss: 0.1501 - accuracy: 0.7968 - auc: 0.9847 - val_loss: 1.1411 - val_accuracy: 0.1913 - val_auc: 0.5132\n",
      "Epoch 75/100\n",
      "16/16 [==============================] - 0s 16ms/step - loss: 0.2155 - accuracy: 0.7514 - auc: 0.9594 - val_loss: 1.0679 - val_accuracy: 0.2321 - val_auc: 0.5247\n",
      "Epoch 76/100\n",
      "16/16 [==============================] - 0s 17ms/step - loss: 0.1329 - accuracy: 0.8096 - auc: 0.9882 - val_loss: 1.7112 - val_accuracy: 0.2934 - val_auc: 0.5472\n",
      "Epoch 77/100\n",
      "16/16 [==============================] - 0s 16ms/step - loss: 0.2206 - accuracy: 0.7553 - auc: 0.9577 - val_loss: 1.1397 - val_accuracy: 0.2551 - val_auc: 0.5197\n",
      "Epoch 78/100\n",
      "16/16 [==============================] - 0s 16ms/step - loss: 0.2199 - accuracy: 0.7534 - auc: 0.9581 - val_loss: 1.1962 - val_accuracy: 0.2500 - val_auc: 0.5231\n",
      "Epoch 79/100\n",
      "16/16 [==============================] - 0s 17ms/step - loss: 0.0934 - accuracy: 0.8422 - auc: 0.9958 - val_loss: 1.4111 - val_accuracy: 0.2730 - val_auc: 0.5463\n",
      "Epoch 80/100\n",
      "16/16 [==============================] - 0s 16ms/step - loss: 0.1463 - accuracy: 0.7840 - auc: 0.9812 - val_loss: 1.3771 - val_accuracy: 0.2602 - val_auc: 0.5197\n",
      "Epoch 81/100\n",
      "16/16 [==============================] - 0s 16ms/step - loss: 0.2525 - accuracy: 0.7131 - auc: 0.9456 - val_loss: 1.0597 - val_accuracy: 0.2526 - val_auc: 0.5419\n",
      "Epoch 82/100\n",
      "16/16 [==============================] - 0s 17ms/step - loss: 0.0947 - accuracy: 0.8364 - auc: 0.9961 - val_loss: 1.3406 - val_accuracy: 0.2628 - val_auc: 0.5256\n",
      "Epoch 83/100\n",
      "16/16 [==============================] - 0s 16ms/step - loss: 0.0608 - accuracy: 0.8511 - auc: 0.9987 - val_loss: 1.6367 - val_accuracy: 0.2679 - val_auc: 0.5281\n",
      "Epoch 84/100\n",
      "16/16 [==============================] - 0s 16ms/step - loss: 0.3121 - accuracy: 0.6856 - auc: 0.9210 - val_loss: 1.3099 - val_accuracy: 0.2883 - val_auc: 0.5425\n",
      "Epoch 85/100\n",
      "16/16 [==============================] - 0s 16ms/step - loss: 0.0855 - accuracy: 0.8479 - auc: 0.9970 - val_loss: 1.4614 - val_accuracy: 0.2628 - val_auc: 0.5430\n",
      "Epoch 86/100\n",
      "16/16 [==============================] - 0s 17ms/step - loss: 0.0571 - accuracy: 0.8505 - auc: 0.9990 - val_loss: 1.5553 - val_accuracy: 0.2423 - val_auc: 0.5239\n",
      "Epoch 87/100\n",
      "16/16 [==============================] - 0s 16ms/step - loss: 0.0395 - accuracy: 0.8671 - auc: 0.9996 - val_loss: 1.7382 - val_accuracy: 0.2577 - val_auc: 0.5358\n",
      "Epoch 88/100\n",
      "16/16 [==============================] - 0s 16ms/step - loss: 0.0292 - accuracy: 0.8550 - auc: 0.9998 - val_loss: 1.8549 - val_accuracy: 0.2526 - val_auc: 0.5343\n",
      "Epoch 89/100\n",
      "16/16 [==============================] - 0s 17ms/step - loss: 0.0705 - accuracy: 0.8428 - auc: 0.9936 - val_loss: 1.7315 - val_accuracy: 0.2015 - val_auc: 0.4463\n",
      "Epoch 90/100\n",
      "16/16 [==============================] - 0s 16ms/step - loss: 0.5810 - accuracy: 0.5220 - auc: 0.7825 - val_loss: 1.0428 - val_accuracy: 0.2653 - val_auc: 0.5480\n",
      "Epoch 91/100\n",
      "16/16 [==============================] - 0s 17ms/step - loss: 0.1557 - accuracy: 0.7968 - auc: 0.9855 - val_loss: 1.4801 - val_accuracy: 0.2577 - val_auc: 0.5295\n",
      "Epoch 92/100\n",
      "16/16 [==============================] - 0s 16ms/step - loss: 0.0785 - accuracy: 0.8537 - auc: 0.9964 - val_loss: 1.5625 - val_accuracy: 0.2602 - val_auc: 0.5412\n",
      "Epoch 93/100\n",
      "16/16 [==============================] - 0s 16ms/step - loss: 0.0444 - accuracy: 0.8626 - auc: 0.9994 - val_loss: 1.7091 - val_accuracy: 0.2372 - val_auc: 0.5164\n",
      "Epoch 94/100\n",
      "16/16 [==============================] - 0s 17ms/step - loss: 0.0390 - accuracy: 0.8652 - auc: 0.9993 - val_loss: 1.8362 - val_accuracy: 0.2347 - val_auc: 0.5186\n",
      "Epoch 95/100\n",
      "16/16 [==============================] - 0s 16ms/step - loss: 0.1880 - accuracy: 0.7834 - auc: 0.9701 - val_loss: 0.9745 - val_accuracy: 0.2219 - val_auc: 0.5097\n",
      "Epoch 96/100\n",
      "16/16 [==============================] - 0s 18ms/step - loss: 0.1157 - accuracy: 0.8179 - auc: 0.9914 - val_loss: 1.5609 - val_accuracy: 0.2372 - val_auc: 0.5249\n",
      "Epoch 97/100\n",
      "16/16 [==============================] - 0s 16ms/step - loss: 0.0406 - accuracy: 0.8703 - auc: 0.9995 - val_loss: 1.7799 - val_accuracy: 0.2474 - val_auc: 0.5309\n",
      "Epoch 98/100\n",
      "16/16 [==============================] - 0s 17ms/step - loss: 0.0234 - accuracy: 0.8709 - auc: 0.9999 - val_loss: 1.9194 - val_accuracy: 0.2423 - val_auc: 0.5238\n",
      "Epoch 99/100\n",
      "16/16 [==============================] - 0s 16ms/step - loss: 0.0171 - accuracy: 0.8748 - auc: 0.9999 - val_loss: 2.0536 - val_accuracy: 0.2474 - val_auc: 0.5248\n",
      "Epoch 100/100\n",
      "16/16 [==============================] - 0s 17ms/step - loss: 0.0138 - accuracy: 0.8780 - auc: 0.9999 - val_loss: 2.1557 - val_accuracy: 0.2526 - val_auc: 0.5321\n"
     ]
    },
    {
     "data": {
      "text/html": [
       "<span style=\"color:#4527A0\"><h1 style=\"font-size:18px\">Trial complete</h1></span>"
      ],
      "text/plain": [
       "<IPython.core.display.HTML object>"
      ]
     },
     "metadata": {
      "tags": []
     },
     "output_type": "display_data"
    },
    {
     "data": {
      "text/html": [
       "<span style=\"color:#4527A0\"><h1 style=\"font-size:18px\">Trial summary</h1></span>"
      ],
      "text/plain": [
       "<IPython.core.display.HTML object>"
      ]
     },
     "metadata": {
      "tags": []
     },
     "output_type": "display_data"
    },
    {
     "data": {
      "text/html": [
       "<span style=\"color:cyan\"> |-Trial ID: 6c4d8e373ccd8df7f607b2f483679da4</span>"
      ],
      "text/plain": [
       "<IPython.core.display.HTML object>"
      ]
     },
     "metadata": {
      "tags": []
     },
     "output_type": "display_data"
    },
    {
     "data": {
      "text/html": [
       "<span style=\"color:cyan\"> |-Score: 0.3460884392261505</span>"
      ],
      "text/plain": [
       "<IPython.core.display.HTML object>"
      ]
     },
     "metadata": {
      "tags": []
     },
     "output_type": "display_data"
    },
    {
     "data": {
      "text/html": [
       "<span style=\"color:cyan\"> |-Best step: 0</span>"
      ],
      "text/plain": [
       "<IPython.core.display.HTML object>"
      ]
     },
     "metadata": {
      "tags": []
     },
     "output_type": "display_data"
    },
    {
     "data": {
      "text/html": [
       "<span style=\"color:#7E57C2\"><h2 style=\"font-size:16px\">Hyperparameters:</h2></span>"
      ],
      "text/plain": [
       "<IPython.core.display.HTML object>"
      ]
     },
     "metadata": {
      "tags": []
     },
     "output_type": "display_data"
    },
    {
     "data": {
      "text/html": [
       "<span style=\"color:cyan\"> |-act_0: selu</span>"
      ],
      "text/plain": [
       "<IPython.core.display.HTML object>"
      ]
     },
     "metadata": {
      "tags": []
     },
     "output_type": "display_data"
    },
    {
     "data": {
      "text/html": [
       "<span style=\"color:blue\"> |-act_1: selu</span>"
      ],
      "text/plain": [
       "<IPython.core.display.HTML object>"
      ]
     },
     "metadata": {
      "tags": []
     },
     "output_type": "display_data"
    },
    {
     "data": {
      "text/html": [
       "<span style=\"color:cyan\"> |-act_10: relu</span>"
      ],
      "text/plain": [
       "<IPython.core.display.HTML object>"
      ]
     },
     "metadata": {
      "tags": []
     },
     "output_type": "display_data"
    },
    {
     "data": {
      "text/html": [
       "<span style=\"color:blue\"> |-act_2: relu</span>"
      ],
      "text/plain": [
       "<IPython.core.display.HTML object>"
      ]
     },
     "metadata": {
      "tags": []
     },
     "output_type": "display_data"
    },
    {
     "data": {
      "text/html": [
       "<span style=\"color:cyan\"> |-act_3: selu</span>"
      ],
      "text/plain": [
       "<IPython.core.display.HTML object>"
      ]
     },
     "metadata": {
      "tags": []
     },
     "output_type": "display_data"
    },
    {
     "data": {
      "text/html": [
       "<span style=\"color:blue\"> |-act_4: selu</span>"
      ],
      "text/plain": [
       "<IPython.core.display.HTML object>"
      ]
     },
     "metadata": {
      "tags": []
     },
     "output_type": "display_data"
    },
    {
     "data": {
      "text/html": [
       "<span style=\"color:cyan\"> |-act_5: relu</span>"
      ],
      "text/plain": [
       "<IPython.core.display.HTML object>"
      ]
     },
     "metadata": {
      "tags": []
     },
     "output_type": "display_data"
    },
    {
     "data": {
      "text/html": [
       "<span style=\"color:blue\"> |-act_6: selu</span>"
      ],
      "text/plain": [
       "<IPython.core.display.HTML object>"
      ]
     },
     "metadata": {
      "tags": []
     },
     "output_type": "display_data"
    },
    {
     "data": {
      "text/html": [
       "<span style=\"color:cyan\"> |-act_7: relu</span>"
      ],
      "text/plain": [
       "<IPython.core.display.HTML object>"
      ]
     },
     "metadata": {
      "tags": []
     },
     "output_type": "display_data"
    },
    {
     "data": {
      "text/html": [
       "<span style=\"color:blue\"> |-act_8: relu</span>"
      ],
      "text/plain": [
       "<IPython.core.display.HTML object>"
      ]
     },
     "metadata": {
      "tags": []
     },
     "output_type": "display_data"
    },
    {
     "data": {
      "text/html": [
       "<span style=\"color:cyan\"> |-act_9: relu</span>"
      ],
      "text/plain": [
       "<IPython.core.display.HTML object>"
      ]
     },
     "metadata": {
      "tags": []
     },
     "output_type": "display_data"
    },
    {
     "data": {
      "text/html": [
       "<span style=\"color:blue\"> |-batch_size: 100</span>"
      ],
      "text/plain": [
       "<IPython.core.display.HTML object>"
      ]
     },
     "metadata": {
      "tags": []
     },
     "output_type": "display_data"
    },
    {
     "data": {
      "text/html": [
       "<span style=\"color:cyan\"> |-epochs: 100</span>"
      ],
      "text/plain": [
       "<IPython.core.display.HTML object>"
      ]
     },
     "metadata": {
      "tags": []
     },
     "output_type": "display_data"
    },
    {
     "data": {
      "text/html": [
       "<span style=\"color:blue\"> |-learning_rate: 0.1</span>"
      ],
      "text/plain": [
       "<IPython.core.display.HTML object>"
      ]
     },
     "metadata": {
      "tags": []
     },
     "output_type": "display_data"
    },
    {
     "data": {
      "text/html": [
       "<span style=\"color:cyan\"> |-number_of_layers: 10</span>"
      ],
      "text/plain": [
       "<IPython.core.display.HTML object>"
      ]
     },
     "metadata": {
      "tags": []
     },
     "output_type": "display_data"
    },
    {
     "data": {
      "text/html": [
       "<span style=\"color:blue\"> |-unit_0: 50</span>"
      ],
      "text/plain": [
       "<IPython.core.display.HTML object>"
      ]
     },
     "metadata": {
      "tags": []
     },
     "output_type": "display_data"
    },
    {
     "data": {
      "text/html": [
       "<span style=\"color:cyan\"> |-unit_1: 500</span>"
      ],
      "text/plain": [
       "<IPython.core.display.HTML object>"
      ]
     },
     "metadata": {
      "tags": []
     },
     "output_type": "display_data"
    },
    {
     "data": {
      "text/html": [
       "<span style=\"color:blue\"> |-unit_10: 100</span>"
      ],
      "text/plain": [
       "<IPython.core.display.HTML object>"
      ]
     },
     "metadata": {
      "tags": []
     },
     "output_type": "display_data"
    },
    {
     "data": {
      "text/html": [
       "<span style=\"color:cyan\"> |-unit_2: 500</span>"
      ],
      "text/plain": [
       "<IPython.core.display.HTML object>"
      ]
     },
     "metadata": {
      "tags": []
     },
     "output_type": "display_data"
    },
    {
     "data": {
      "text/html": [
       "<span style=\"color:blue\"> |-unit_3: 50</span>"
      ],
      "text/plain": [
       "<IPython.core.display.HTML object>"
      ]
     },
     "metadata": {
      "tags": []
     },
     "output_type": "display_data"
    },
    {
     "data": {
      "text/html": [
       "<span style=\"color:cyan\"> |-unit_4: 500</span>"
      ],
      "text/plain": [
       "<IPython.core.display.HTML object>"
      ]
     },
     "metadata": {
      "tags": []
     },
     "output_type": "display_data"
    },
    {
     "data": {
      "text/html": [
       "<span style=\"color:blue\"> |-unit_5: 500</span>"
      ],
      "text/plain": [
       "<IPython.core.display.HTML object>"
      ]
     },
     "metadata": {
      "tags": []
     },
     "output_type": "display_data"
    },
    {
     "data": {
      "text/html": [
       "<span style=\"color:cyan\"> |-unit_6: 500</span>"
      ],
      "text/plain": [
       "<IPython.core.display.HTML object>"
      ]
     },
     "metadata": {
      "tags": []
     },
     "output_type": "display_data"
    },
    {
     "data": {
      "text/html": [
       "<span style=\"color:blue\"> |-unit_7: 100</span>"
      ],
      "text/plain": [
       "<IPython.core.display.HTML object>"
      ]
     },
     "metadata": {
      "tags": []
     },
     "output_type": "display_data"
    },
    {
     "data": {
      "text/html": [
       "<span style=\"color:cyan\"> |-unit_8: 100</span>"
      ],
      "text/plain": [
       "<IPython.core.display.HTML object>"
      ]
     },
     "metadata": {
      "tags": []
     },
     "output_type": "display_data"
    },
    {
     "data": {
      "text/html": [
       "<span style=\"color:blue\"> |-unit_9: 100</span>"
      ],
      "text/plain": [
       "<IPython.core.display.HTML object>"
      ]
     },
     "metadata": {
      "tags": []
     },
     "output_type": "display_data"
    },
    {
     "name": "stdout",
     "output_type": "stream",
     "text": [
      "Epoch 1/100\n",
      "157/157 [==============================] - 2s 16ms/step - loss: 0.7329 - accuracy: 0.3470 - auc: 0.6009 - val_loss: 0.5923 - val_accuracy: 0.3393 - val_auc: 0.5624\n",
      "Epoch 2/100\n",
      "157/157 [==============================] - 2s 13ms/step - loss: 0.5386 - accuracy: 0.4000 - auc: 0.6557 - val_loss: 0.6340 - val_accuracy: 0.2551 - val_auc: 0.5312\n",
      "Epoch 3/100\n",
      "157/157 [==============================] - 2s 14ms/step - loss: 0.5228 - accuracy: 0.4243 - auc: 0.6898 - val_loss: 0.6119 - val_accuracy: 0.3189 - val_auc: 0.5569\n",
      "Epoch 4/100\n",
      "157/157 [==============================] - 2s 13ms/step - loss: 0.5068 - accuracy: 0.4192 - auc: 0.7182 - val_loss: 0.7078 - val_accuracy: 0.1378 - val_auc: 0.5341\n",
      "Epoch 5/100\n",
      "157/157 [==============================] - 2s 13ms/step - loss: 0.4925 - accuracy: 0.4690 - auc: 0.7440 - val_loss: 0.6440 - val_accuracy: 0.2194 - val_auc: 0.5874\n",
      "Epoch 6/100\n",
      "157/157 [==============================] - 2s 13ms/step - loss: 0.4729 - accuracy: 0.4709 - auc: 0.7733 - val_loss: 0.6359 - val_accuracy: 0.2653 - val_auc: 0.5633\n",
      "Epoch 7/100\n",
      "157/157 [==============================] - 2s 13ms/step - loss: 0.4510 - accuracy: 0.5118 - auc: 0.7986 - val_loss: 0.6875 - val_accuracy: 0.2117 - val_auc: 0.5061\n",
      "Epoch 8/100\n",
      "157/157 [==============================] - 2s 13ms/step - loss: 0.4271 - accuracy: 0.5387 - auc: 0.8248 - val_loss: 0.7269 - val_accuracy: 0.2679 - val_auc: 0.5414\n",
      "Epoch 9/100\n",
      "157/157 [==============================] - 2s 13ms/step - loss: 0.4110 - accuracy: 0.5572 - auc: 0.8425 - val_loss: 0.8392 - val_accuracy: 0.3163 - val_auc: 0.5544\n",
      "Epoch 10/100\n",
      "157/157 [==============================] - 2s 12ms/step - loss: 0.3808 - accuracy: 0.5942 - auc: 0.8678 - val_loss: 0.8236 - val_accuracy: 0.2985 - val_auc: 0.5772\n",
      "Epoch 11/100\n",
      "157/157 [==============================] - 2s 12ms/step - loss: 0.3524 - accuracy: 0.6096 - auc: 0.8884 - val_loss: 0.8484 - val_accuracy: 0.2857 - val_auc: 0.5399\n",
      "Epoch 12/100\n",
      "157/157 [==============================] - 2s 12ms/step - loss: 0.3331 - accuracy: 0.6396 - auc: 0.9014 - val_loss: 0.9219 - val_accuracy: 0.2117 - val_auc: 0.5470\n",
      "Epoch 13/100\n",
      "157/157 [==============================] - 2s 12ms/step - loss: 0.3154 - accuracy: 0.6581 - auc: 0.9133 - val_loss: 0.9645 - val_accuracy: 0.2066 - val_auc: 0.5121\n",
      "Epoch 14/100\n",
      "157/157 [==============================] - 2s 13ms/step - loss: 0.2834 - accuracy: 0.6895 - auc: 0.9303 - val_loss: 1.0802 - val_accuracy: 0.3189 - val_auc: 0.5431\n",
      "Epoch 15/100\n",
      "157/157 [==============================] - 2s 13ms/step - loss: 0.2691 - accuracy: 0.6990 - auc: 0.9383 - val_loss: 0.8885 - val_accuracy: 0.3036 - val_auc: 0.5581\n",
      "Epoch 16/100\n",
      "157/157 [==============================] - 2s 13ms/step - loss: 0.2450 - accuracy: 0.7227 - auc: 0.9494 - val_loss: 1.0279 - val_accuracy: 0.2934 - val_auc: 0.5326\n",
      "Epoch 17/100\n",
      "157/157 [==============================] - 2s 13ms/step - loss: 0.2356 - accuracy: 0.7406 - auc: 0.9532 - val_loss: 1.1104 - val_accuracy: 0.3061 - val_auc: 0.5561\n",
      "Epoch 18/100\n",
      "157/157 [==============================] - 2s 13ms/step - loss: 0.2108 - accuracy: 0.7425 - auc: 0.9622 - val_loss: 1.1695 - val_accuracy: 0.2474 - val_auc: 0.5330\n",
      "Epoch 19/100\n",
      "157/157 [==============================] - 2s 14ms/step - loss: 0.2017 - accuracy: 0.7508 - auc: 0.9645 - val_loss: 1.0945 - val_accuracy: 0.2755 - val_auc: 0.5382\n",
      "Epoch 20/100\n",
      "157/157 [==============================] - 2s 14ms/step - loss: 0.1869 - accuracy: 0.7629 - auc: 0.9701 - val_loss: 1.1900 - val_accuracy: 0.2908 - val_auc: 0.5560\n",
      "Epoch 21/100\n",
      "157/157 [==============================] - 2s 13ms/step - loss: 0.1482 - accuracy: 0.8077 - auc: 0.9806 - val_loss: 1.3239 - val_accuracy: 0.1939 - val_auc: 0.5184\n",
      "Epoch 22/100\n",
      "157/157 [==============================] - 2s 13ms/step - loss: 0.1699 - accuracy: 0.7808 - auc: 0.9747 - val_loss: 1.3765 - val_accuracy: 0.3138 - val_auc: 0.5481\n",
      "Epoch 23/100\n",
      "157/157 [==============================] - 2s 13ms/step - loss: 0.1681 - accuracy: 0.8000 - auc: 0.9760 - val_loss: 1.2697 - val_accuracy: 0.2347 - val_auc: 0.5260\n",
      "Epoch 24/100\n",
      "157/157 [==============================] - 2s 14ms/step - loss: 0.1343 - accuracy: 0.8089 - auc: 0.9838 - val_loss: 1.3923 - val_accuracy: 0.2832 - val_auc: 0.5296\n",
      "Epoch 25/100\n",
      "157/157 [==============================] - 3s 16ms/step - loss: 0.1269 - accuracy: 0.8032 - auc: 0.9849 - val_loss: 1.3758 - val_accuracy: 0.2526 - val_auc: 0.5412\n",
      "Epoch 26/100\n",
      "157/157 [==============================] - 2s 15ms/step - loss: 0.1162 - accuracy: 0.8141 - auc: 0.9877 - val_loss: 1.5360 - val_accuracy: 0.2781 - val_auc: 0.5376\n",
      "Epoch 27/100\n",
      "157/157 [==============================] - 2s 15ms/step - loss: 0.0973 - accuracy: 0.8243 - auc: 0.9908 - val_loss: 1.6213 - val_accuracy: 0.2219 - val_auc: 0.5405\n",
      "Epoch 28/100\n",
      "157/157 [==============================] - 2s 14ms/step - loss: 0.1231 - accuracy: 0.8153 - auc: 0.9858 - val_loss: 1.6721 - val_accuracy: 0.2474 - val_auc: 0.5199\n",
      "Epoch 29/100\n",
      "157/157 [==============================] - 2s 13ms/step - loss: 0.0763 - accuracy: 0.8518 - auc: 0.9935 - val_loss: 1.6915 - val_accuracy: 0.2066 - val_auc: 0.4879\n",
      "Epoch 30/100\n",
      "157/157 [==============================] - 2s 13ms/step - loss: 0.1031 - accuracy: 0.8192 - auc: 0.9897 - val_loss: 1.5436 - val_accuracy: 0.2474 - val_auc: 0.5295\n",
      "Epoch 31/100\n",
      "157/157 [==============================] - 2s 14ms/step - loss: 0.0931 - accuracy: 0.8300 - auc: 0.9909 - val_loss: 1.5332 - val_accuracy: 0.2934 - val_auc: 0.5547\n",
      "Epoch 32/100\n",
      "157/157 [==============================] - 2s 14ms/step - loss: 0.0598 - accuracy: 0.8415 - auc: 0.9955 - val_loss: 1.7066 - val_accuracy: 0.2551 - val_auc: 0.5237\n",
      "Epoch 33/100\n",
      "157/157 [==============================] - 2s 14ms/step - loss: 0.0725 - accuracy: 0.8466 - auc: 0.9942 - val_loss: 1.7465 - val_accuracy: 0.1556 - val_auc: 0.5130\n",
      "Epoch 34/100\n",
      "157/157 [==============================] - 2s 13ms/step - loss: 0.0727 - accuracy: 0.8537 - auc: 0.9945 - val_loss: 1.7276 - val_accuracy: 0.2806 - val_auc: 0.5380\n",
      "Epoch 35/100\n",
      "157/157 [==============================] - 2s 13ms/step - loss: 0.0435 - accuracy: 0.8492 - auc: 0.9981 - val_loss: 1.9250 - val_accuracy: 0.2959 - val_auc: 0.5445\n",
      "Epoch 36/100\n",
      "157/157 [==============================] - 2s 13ms/step - loss: 0.0737 - accuracy: 0.8409 - auc: 0.9929 - val_loss: 1.5490 - val_accuracy: 0.2883 - val_auc: 0.5414\n",
      "Epoch 37/100\n",
      "157/157 [==============================] - 2s 13ms/step - loss: 0.0961 - accuracy: 0.8358 - auc: 0.9898 - val_loss: 1.5122 - val_accuracy: 0.2806 - val_auc: 0.5590\n",
      "Epoch 38/100\n",
      "157/157 [==============================] - 2s 13ms/step - loss: 0.0551 - accuracy: 0.8358 - auc: 0.9965 - val_loss: 1.7718 - val_accuracy: 0.2755 - val_auc: 0.5300\n",
      "Epoch 39/100\n",
      "157/157 [==============================] - 2s 13ms/step - loss: 0.0229 - accuracy: 0.8556 - auc: 0.9991 - val_loss: 1.9458 - val_accuracy: 0.2806 - val_auc: 0.5337\n",
      "Epoch 40/100\n",
      "157/157 [==============================] - 2s 13ms/step - loss: 0.0598 - accuracy: 0.8422 - auc: 0.9943 - val_loss: 1.9790 - val_accuracy: 0.2219 - val_auc: 0.5172\n",
      "Epoch 41/100\n",
      "157/157 [==============================] - 2s 13ms/step - loss: 0.0980 - accuracy: 0.8351 - auc: 0.9897 - val_loss: 1.5483 - val_accuracy: 0.2806 - val_auc: 0.5437\n",
      "Epoch 42/100\n",
      "157/157 [==============================] - 2s 13ms/step - loss: 0.0575 - accuracy: 0.8383 - auc: 0.9957 - val_loss: 1.8128 - val_accuracy: 0.2653 - val_auc: 0.5357\n",
      "Epoch 43/100\n",
      "157/157 [==============================] - 2s 13ms/step - loss: 0.0504 - accuracy: 0.8486 - auc: 0.9965 - val_loss: 1.7166 - val_accuracy: 0.2602 - val_auc: 0.5498\n",
      "Epoch 44/100\n",
      "157/157 [==============================] - 2s 13ms/step - loss: 0.0664 - accuracy: 0.8383 - auc: 0.9941 - val_loss: 1.7254 - val_accuracy: 0.2219 - val_auc: 0.5306\n",
      "Epoch 45/100\n",
      "157/157 [==============================] - 2s 13ms/step - loss: 0.0545 - accuracy: 0.8524 - auc: 0.9963 - val_loss: 1.8742 - val_accuracy: 0.2143 - val_auc: 0.5156\n",
      "Epoch 46/100\n",
      "157/157 [==============================] - 2s 13ms/step - loss: 0.0347 - accuracy: 0.8479 - auc: 0.9979 - val_loss: 2.0501 - val_accuracy: 0.2423 - val_auc: 0.5151\n",
      "Epoch 47/100\n",
      "157/157 [==============================] - 2s 13ms/step - loss: 0.0531 - accuracy: 0.8626 - auc: 0.9951 - val_loss: 1.8773 - val_accuracy: 0.2781 - val_auc: 0.5308\n",
      "Epoch 48/100\n",
      "157/157 [==============================] - 2s 13ms/step - loss: 0.0147 - accuracy: 0.8773 - auc: 0.9989 - val_loss: 2.1199 - val_accuracy: 0.2449 - val_auc: 0.5255\n",
      "Epoch 49/100\n",
      "157/157 [==============================] - 2s 13ms/step - loss: 0.0063 - accuracy: 0.8946 - auc: 0.9998 - val_loss: 2.1693 - val_accuracy: 0.2730 - val_auc: 0.5345\n",
      "Epoch 50/100\n",
      "157/157 [==============================] - 2s 13ms/step - loss: 0.0014 - accuracy: 0.8735 - auc: 1.0000 - val_loss: 2.2094 - val_accuracy: 0.2577 - val_auc: 0.5303\n",
      "Epoch 51/100\n",
      "157/157 [==============================] - 2s 13ms/step - loss: 4.8463e-04 - accuracy: 0.8869 - auc: 1.0000 - val_loss: 2.2959 - val_accuracy: 0.2602 - val_auc: 0.5338\n",
      "Epoch 52/100\n",
      "157/157 [==============================] - 2s 13ms/step - loss: 2.9181e-04 - accuracy: 0.8831 - auc: 1.0000 - val_loss: 2.3492 - val_accuracy: 0.2653 - val_auc: 0.5344\n",
      "Epoch 53/100\n",
      "157/157 [==============================] - 2s 13ms/step - loss: 2.3742e-04 - accuracy: 0.8780 - auc: 1.0000 - val_loss: 2.3921 - val_accuracy: 0.2704 - val_auc: 0.5340\n",
      "Epoch 54/100\n",
      "157/157 [==============================] - 2s 13ms/step - loss: 2.0127e-04 - accuracy: 0.8780 - auc: 1.0000 - val_loss: 2.4293 - val_accuracy: 0.2704 - val_auc: 0.5352\n",
      "Epoch 55/100\n",
      "157/157 [==============================] - 2s 13ms/step - loss: 1.7499e-04 - accuracy: 0.8760 - auc: 1.0000 - val_loss: 2.4621 - val_accuracy: 0.2704 - val_auc: 0.5326\n",
      "Epoch 56/100\n",
      "157/157 [==============================] - 2s 13ms/step - loss: 1.5489e-04 - accuracy: 0.8754 - auc: 1.0000 - val_loss: 2.4914 - val_accuracy: 0.2704 - val_auc: 0.5330\n",
      "Epoch 57/100\n",
      "157/157 [==============================] - 2s 13ms/step - loss: 1.3885e-04 - accuracy: 0.8741 - auc: 1.0000 - val_loss: 2.5179 - val_accuracy: 0.2679 - val_auc: 0.5333\n",
      "Epoch 58/100\n",
      "157/157 [==============================] - 2s 12ms/step - loss: 1.2582e-04 - accuracy: 0.8735 - auc: 1.0000 - val_loss: 2.5421 - val_accuracy: 0.2679 - val_auc: 0.5335\n",
      "Epoch 59/100\n",
      "157/157 [==============================] - 2s 12ms/step - loss: 1.1499e-04 - accuracy: 0.8735 - auc: 1.0000 - val_loss: 2.5643 - val_accuracy: 0.2679 - val_auc: 0.5335\n",
      "Epoch 60/100\n",
      "157/157 [==============================] - 2s 12ms/step - loss: 1.0587e-04 - accuracy: 0.8735 - auc: 1.0000 - val_loss: 2.5851 - val_accuracy: 0.2679 - val_auc: 0.5333\n",
      "Epoch 61/100\n",
      "157/157 [==============================] - 2s 12ms/step - loss: 9.8009e-05 - accuracy: 0.8728 - auc: 1.0000 - val_loss: 2.6044 - val_accuracy: 0.2653 - val_auc: 0.5336\n",
      "Epoch 62/100\n",
      "157/157 [==============================] - 2s 13ms/step - loss: 9.1235e-05 - accuracy: 0.8722 - auc: 1.0000 - val_loss: 2.6225 - val_accuracy: 0.2679 - val_auc: 0.5340\n",
      "Epoch 63/100\n",
      "157/157 [==============================] - 2s 13ms/step - loss: 8.5316e-05 - accuracy: 0.8716 - auc: 1.0000 - val_loss: 2.6396 - val_accuracy: 0.2679 - val_auc: 0.5344\n",
      "Epoch 64/100\n",
      "157/157 [==============================] - 2s 13ms/step - loss: 8.0096e-05 - accuracy: 0.8716 - auc: 1.0000 - val_loss: 2.6558 - val_accuracy: 0.2679 - val_auc: 0.5344\n",
      "Epoch 65/100\n",
      "157/157 [==============================] - 2s 13ms/step - loss: 7.5443e-05 - accuracy: 0.8709 - auc: 1.0000 - val_loss: 2.6711 - val_accuracy: 0.2679 - val_auc: 0.5340\n",
      "Epoch 66/100\n",
      "157/157 [==============================] - 2s 12ms/step - loss: 7.1288e-05 - accuracy: 0.8709 - auc: 1.0000 - val_loss: 2.6857 - val_accuracy: 0.2679 - val_auc: 0.5342\n",
      "Epoch 67/100\n",
      "157/157 [==============================] - 2s 13ms/step - loss: 6.7552e-05 - accuracy: 0.8709 - auc: 1.0000 - val_loss: 2.6997 - val_accuracy: 0.2653 - val_auc: 0.5346\n",
      "Epoch 68/100\n",
      "157/157 [==============================] - 2s 13ms/step - loss: 6.4169e-05 - accuracy: 0.8696 - auc: 1.0000 - val_loss: 2.7129 - val_accuracy: 0.2653 - val_auc: 0.5340\n",
      "Epoch 69/100\n",
      "157/157 [==============================] - 2s 13ms/step - loss: 6.1100e-05 - accuracy: 0.8690 - auc: 1.0000 - val_loss: 2.7256 - val_accuracy: 0.2653 - val_auc: 0.5337\n",
      "Epoch 70/100\n",
      "157/157 [==============================] - 2s 13ms/step - loss: 5.8306e-05 - accuracy: 0.8696 - auc: 1.0000 - val_loss: 2.7378 - val_accuracy: 0.2653 - val_auc: 0.5338\n",
      "Epoch 71/100\n",
      "157/157 [==============================] - 2s 13ms/step - loss: 5.5742e-05 - accuracy: 0.8696 - auc: 1.0000 - val_loss: 2.7496 - val_accuracy: 0.2679 - val_auc: 0.5333\n",
      "Epoch 72/100\n",
      "157/157 [==============================] - 2s 13ms/step - loss: 5.3383e-05 - accuracy: 0.8684 - auc: 1.0000 - val_loss: 2.7608 - val_accuracy: 0.2679 - val_auc: 0.5335\n",
      "Epoch 73/100\n",
      "157/157 [==============================] - 2s 13ms/step - loss: 5.1215e-05 - accuracy: 0.8684 - auc: 1.0000 - val_loss: 2.7716 - val_accuracy: 0.2679 - val_auc: 0.5338\n",
      "Epoch 74/100\n",
      "157/157 [==============================] - 2s 13ms/step - loss: 4.9205e-05 - accuracy: 0.8684 - auc: 1.0000 - val_loss: 2.7821 - val_accuracy: 0.2679 - val_auc: 0.5338\n",
      "Epoch 75/100\n",
      "157/157 [==============================] - 2s 13ms/step - loss: 4.7340e-05 - accuracy: 0.8690 - auc: 1.0000 - val_loss: 2.7922 - val_accuracy: 0.2679 - val_auc: 0.5340\n",
      "Epoch 76/100\n",
      "157/157 [==============================] - 2s 13ms/step - loss: 4.5607e-05 - accuracy: 0.8690 - auc: 1.0000 - val_loss: 2.8020 - val_accuracy: 0.2679 - val_auc: 0.5342\n",
      "Epoch 77/100\n",
      "157/157 [==============================] - 2s 14ms/step - loss: 4.3988e-05 - accuracy: 0.8690 - auc: 1.0000 - val_loss: 2.8115 - val_accuracy: 0.2679 - val_auc: 0.5345\n",
      "Epoch 78/100\n",
      "157/157 [==============================] - 2s 14ms/step - loss: 4.2480e-05 - accuracy: 0.8696 - auc: 1.0000 - val_loss: 2.8207 - val_accuracy: 0.2679 - val_auc: 0.5346\n",
      "Epoch 79/100\n",
      "157/157 [==============================] - 2s 14ms/step - loss: 4.1065e-05 - accuracy: 0.8696 - auc: 1.0000 - val_loss: 2.8297 - val_accuracy: 0.2704 - val_auc: 0.5347\n",
      "Epoch 80/100\n",
      "157/157 [==============================] - 2s 15ms/step - loss: 3.9738e-05 - accuracy: 0.8696 - auc: 1.0000 - val_loss: 2.8383 - val_accuracy: 0.2704 - val_auc: 0.5341\n",
      "Epoch 81/100\n",
      "157/157 [==============================] - 2s 15ms/step - loss: 3.8492e-05 - accuracy: 0.8690 - auc: 1.0000 - val_loss: 2.8467 - val_accuracy: 0.2704 - val_auc: 0.5342\n",
      "Epoch 82/100\n",
      "157/157 [==============================] - 2s 15ms/step - loss: 3.7311e-05 - accuracy: 0.8696 - auc: 1.0000 - val_loss: 2.8549 - val_accuracy: 0.2704 - val_auc: 0.5342\n",
      "Epoch 83/100\n",
      "157/157 [==============================] - 2s 14ms/step - loss: 3.6203e-05 - accuracy: 0.8690 - auc: 1.0000 - val_loss: 2.8629 - val_accuracy: 0.2704 - val_auc: 0.5344\n",
      "Epoch 84/100\n",
      "157/157 [==============================] - 2s 15ms/step - loss: 3.5154e-05 - accuracy: 0.8690 - auc: 1.0000 - val_loss: 2.8708 - val_accuracy: 0.2704 - val_auc: 0.5350\n",
      "Epoch 85/100\n",
      "157/157 [==============================] - 2s 15ms/step - loss: 3.4154e-05 - accuracy: 0.8690 - auc: 1.0000 - val_loss: 2.8784 - val_accuracy: 0.2704 - val_auc: 0.5358\n",
      "Epoch 86/100\n",
      "157/157 [==============================] - 2s 14ms/step - loss: 3.3216e-05 - accuracy: 0.8690 - auc: 1.0000 - val_loss: 2.8858 - val_accuracy: 0.2704 - val_auc: 0.5351\n",
      "Epoch 87/100\n",
      "157/157 [==============================] - 2s 15ms/step - loss: 3.2324e-05 - accuracy: 0.8684 - auc: 1.0000 - val_loss: 2.8930 - val_accuracy: 0.2704 - val_auc: 0.5351\n",
      "Epoch 88/100\n",
      "157/157 [==============================] - 2s 15ms/step - loss: 3.1475e-05 - accuracy: 0.8684 - auc: 1.0000 - val_loss: 2.9001 - val_accuracy: 0.2704 - val_auc: 0.5344\n",
      "Epoch 89/100\n",
      "157/157 [==============================] - 2s 15ms/step - loss: 3.0661e-05 - accuracy: 0.8684 - auc: 1.0000 - val_loss: 2.9071 - val_accuracy: 0.2704 - val_auc: 0.5345\n",
      "Epoch 90/100\n",
      "157/157 [==============================] - 2s 14ms/step - loss: 2.9893e-05 - accuracy: 0.8684 - auc: 1.0000 - val_loss: 2.9138 - val_accuracy: 0.2704 - val_auc: 0.5345\n",
      "Epoch 91/100\n",
      "157/157 [==============================] - 2s 15ms/step - loss: 2.9158e-05 - accuracy: 0.8684 - auc: 1.0000 - val_loss: 2.9204 - val_accuracy: 0.2704 - val_auc: 0.5339\n",
      "Epoch 92/100\n",
      "157/157 [==============================] - 2s 14ms/step - loss: 2.8460e-05 - accuracy: 0.8684 - auc: 1.0000 - val_loss: 2.9269 - val_accuracy: 0.2704 - val_auc: 0.5341\n",
      "Epoch 93/100\n",
      "157/157 [==============================] - 2s 15ms/step - loss: 2.7791e-05 - accuracy: 0.8684 - auc: 1.0000 - val_loss: 2.9332 - val_accuracy: 0.2704 - val_auc: 0.5345\n",
      "Epoch 94/100\n",
      "157/157 [==============================] - 2s 15ms/step - loss: 2.7153e-05 - accuracy: 0.8684 - auc: 1.0000 - val_loss: 2.9393 - val_accuracy: 0.2704 - val_auc: 0.5345\n",
      "Epoch 95/100\n",
      "157/157 [==============================] - 2s 15ms/step - loss: 2.6543e-05 - accuracy: 0.8690 - auc: 1.0000 - val_loss: 2.9454 - val_accuracy: 0.2704 - val_auc: 0.5348\n",
      "Epoch 96/100\n",
      "157/157 [==============================] - 2s 15ms/step - loss: 2.5958e-05 - accuracy: 0.8696 - auc: 1.0000 - val_loss: 2.9514 - val_accuracy: 0.2704 - val_auc: 0.5348\n",
      "Epoch 97/100\n",
      "157/157 [==============================] - 2s 15ms/step - loss: 2.5398e-05 - accuracy: 0.8690 - auc: 1.0000 - val_loss: 2.9572 - val_accuracy: 0.2704 - val_auc: 0.5347\n",
      "Epoch 98/100\n",
      "157/157 [==============================] - 2s 14ms/step - loss: 2.4859e-05 - accuracy: 0.8696 - auc: 1.0000 - val_loss: 2.9629 - val_accuracy: 0.2704 - val_auc: 0.5347\n",
      "Epoch 99/100\n",
      "157/157 [==============================] - 2s 14ms/step - loss: 2.4342e-05 - accuracy: 0.8684 - auc: 1.0000 - val_loss: 2.9685 - val_accuracy: 0.2704 - val_auc: 0.5347\n",
      "Epoch 100/100\n",
      "157/157 [==============================] - 2s 14ms/step - loss: 2.3845e-05 - accuracy: 0.8684 - auc: 1.0000 - val_loss: 2.9740 - val_accuracy: 0.2704 - val_auc: 0.5347\n",
      "Epoch 1/100\n",
      "157/157 [==============================] - 3s 17ms/step - loss: 0.6670 - accuracy: 0.3374 - auc: 0.6032 - val_loss: 0.6527 - val_accuracy: 0.3393 - val_auc: 0.5266\n",
      "Epoch 2/100\n",
      "157/157 [==============================] - 2s 14ms/step - loss: 0.5387 - accuracy: 0.3949 - auc: 0.6570 - val_loss: 0.6082 - val_accuracy: 0.3418 - val_auc: 0.5414\n",
      "Epoch 3/100\n",
      "157/157 [==============================] - 2s 14ms/step - loss: 0.5264 - accuracy: 0.3994 - auc: 0.6829 - val_loss: 0.5936 - val_accuracy: 0.2577 - val_auc: 0.5595\n",
      "Epoch 4/100\n",
      "157/157 [==============================] - 2s 14ms/step - loss: 0.5090 - accuracy: 0.4262 - auc: 0.7151 - val_loss: 0.7160 - val_accuracy: 0.3342 - val_auc: 0.5559\n",
      "Epoch 5/100\n",
      "157/157 [==============================] - 2s 14ms/step - loss: 0.4931 - accuracy: 0.4486 - auc: 0.7442 - val_loss: 0.6540 - val_accuracy: 0.1760 - val_auc: 0.5158\n",
      "Epoch 6/100\n",
      "157/157 [==============================] - 2s 14ms/step - loss: 0.4760 - accuracy: 0.4690 - auc: 0.7691 - val_loss: 0.6438 - val_accuracy: 0.2423 - val_auc: 0.5613\n",
      "Epoch 7/100\n",
      "157/157 [==============================] - 2s 14ms/step - loss: 0.4505 - accuracy: 0.4875 - auc: 0.7985 - val_loss: 0.7328 - val_accuracy: 0.2551 - val_auc: 0.5545\n",
      "Epoch 8/100\n",
      "157/157 [==============================] - 2s 14ms/step - loss: 0.4364 - accuracy: 0.4907 - auc: 0.8165 - val_loss: 0.8265 - val_accuracy: 0.2934 - val_auc: 0.5560\n",
      "Epoch 9/100\n",
      "157/157 [==============================] - 2s 14ms/step - loss: 0.4187 - accuracy: 0.5393 - auc: 0.8345 - val_loss: 0.7600 - val_accuracy: 0.2704 - val_auc: 0.5247\n",
      "Epoch 10/100\n",
      "157/157 [==============================] - 2s 15ms/step - loss: 0.3847 - accuracy: 0.5847 - auc: 0.8654 - val_loss: 0.8331 - val_accuracy: 0.2577 - val_auc: 0.5397\n",
      "Epoch 11/100\n",
      "157/157 [==============================] - 2s 15ms/step - loss: 0.3587 - accuracy: 0.6096 - auc: 0.8835 - val_loss: 0.9568 - val_accuracy: 0.3316 - val_auc: 0.5493\n",
      "Epoch 12/100\n",
      "157/157 [==============================] - 2s 15ms/step - loss: 0.3458 - accuracy: 0.6096 - auc: 0.8941 - val_loss: 0.8531 - val_accuracy: 0.2219 - val_auc: 0.5128\n",
      "Epoch 13/100\n",
      "157/157 [==============================] - 2s 15ms/step - loss: 0.3258 - accuracy: 0.6454 - auc: 0.9081 - val_loss: 0.8690 - val_accuracy: 0.2219 - val_auc: 0.5064\n",
      "Epoch 14/100\n",
      "157/157 [==============================] - 2s 15ms/step - loss: 0.2899 - accuracy: 0.6837 - auc: 0.9283 - val_loss: 1.1503 - val_accuracy: 0.1607 - val_auc: 0.4683\n",
      "Epoch 15/100\n",
      "157/157 [==============================] - 2s 15ms/step - loss: 0.2732 - accuracy: 0.6773 - auc: 0.9365 - val_loss: 1.0416 - val_accuracy: 0.2449 - val_auc: 0.5148\n",
      "Epoch 16/100\n",
      "157/157 [==============================] - 2s 15ms/step - loss: 0.2576 - accuracy: 0.6952 - auc: 0.9448 - val_loss: 1.1652 - val_accuracy: 0.2781 - val_auc: 0.5455\n",
      "Epoch 17/100\n",
      "157/157 [==============================] - 2s 15ms/step - loss: 0.2271 - accuracy: 0.7304 - auc: 0.9569 - val_loss: 1.1544 - val_accuracy: 0.2908 - val_auc: 0.5621\n",
      "Epoch 18/100\n",
      "157/157 [==============================] - 2s 15ms/step - loss: 0.2406 - accuracy: 0.7169 - auc: 0.9516 - val_loss: 1.1564 - val_accuracy: 0.2934 - val_auc: 0.5269\n",
      "Epoch 19/100\n",
      "157/157 [==============================] - 2s 15ms/step - loss: 0.1929 - accuracy: 0.7553 - auc: 0.9684 - val_loss: 1.1792 - val_accuracy: 0.1939 - val_auc: 0.5219\n",
      "Epoch 20/100\n",
      "157/157 [==============================] - 2s 15ms/step - loss: 0.2016 - accuracy: 0.7508 - auc: 0.9658 - val_loss: 1.1289 - val_accuracy: 0.2500 - val_auc: 0.5279\n",
      "Epoch 21/100\n",
      "157/157 [==============================] - 2s 15ms/step - loss: 0.1738 - accuracy: 0.7757 - auc: 0.9744 - val_loss: 1.3230 - val_accuracy: 0.2449 - val_auc: 0.5380\n",
      "Epoch 22/100\n",
      "157/157 [==============================] - 2s 15ms/step - loss: 0.1455 - accuracy: 0.7891 - auc: 0.9811 - val_loss: 1.3258 - val_accuracy: 0.2321 - val_auc: 0.5314\n",
      "Epoch 23/100\n",
      "157/157 [==============================] - 2s 15ms/step - loss: 0.1530 - accuracy: 0.8115 - auc: 0.9788 - val_loss: 1.3046 - val_accuracy: 0.2781 - val_auc: 0.5580\n",
      "Epoch 24/100\n",
      "157/157 [==============================] - 2s 15ms/step - loss: 0.1364 - accuracy: 0.8045 - auc: 0.9833 - val_loss: 1.3052 - val_accuracy: 0.1888 - val_auc: 0.5153\n",
      "Epoch 25/100\n",
      "157/157 [==============================] - 2s 15ms/step - loss: 0.1143 - accuracy: 0.8147 - auc: 0.9882 - val_loss: 1.4698 - val_accuracy: 0.2194 - val_auc: 0.5447\n",
      "Epoch 26/100\n",
      "157/157 [==============================] - 2s 15ms/step - loss: 0.1417 - accuracy: 0.8032 - auc: 0.9811 - val_loss: 1.2683 - val_accuracy: 0.2832 - val_auc: 0.5239\n",
      "Epoch 27/100\n",
      "157/157 [==============================] - 2s 15ms/step - loss: 0.1258 - accuracy: 0.8083 - auc: 0.9865 - val_loss: 1.4463 - val_accuracy: 0.2526 - val_auc: 0.5565\n",
      "Epoch 28/100\n",
      "157/157 [==============================] - 2s 15ms/step - loss: 0.0990 - accuracy: 0.8211 - auc: 0.9901 - val_loss: 1.6595 - val_accuracy: 0.2347 - val_auc: 0.5229\n",
      "Epoch 29/100\n",
      "157/157 [==============================] - 2s 15ms/step - loss: 0.0897 - accuracy: 0.8313 - auc: 0.9928 - val_loss: 1.5873 - val_accuracy: 0.2628 - val_auc: 0.5342\n",
      "Epoch 30/100\n",
      "157/157 [==============================] - 2s 15ms/step - loss: 0.0869 - accuracy: 0.8332 - auc: 0.9914 - val_loss: 1.5622 - val_accuracy: 0.2423 - val_auc: 0.5563\n",
      "Epoch 31/100\n",
      "157/157 [==============================] - 2s 15ms/step - loss: 0.1125 - accuracy: 0.8281 - auc: 0.9873 - val_loss: 1.4044 - val_accuracy: 0.2806 - val_auc: 0.5399\n",
      "Epoch 32/100\n",
      "157/157 [==============================] - 2s 15ms/step - loss: 0.0514 - accuracy: 0.8486 - auc: 0.9970 - val_loss: 1.7847 - val_accuracy: 0.2296 - val_auc: 0.5295\n",
      "Epoch 33/100\n",
      "157/157 [==============================] - 2s 14ms/step - loss: 0.0986 - accuracy: 0.8313 - auc: 0.9911 - val_loss: 1.9251 - val_accuracy: 0.2985 - val_auc: 0.5202\n",
      "Epoch 34/100\n",
      "157/157 [==============================] - 2s 14ms/step - loss: 0.0723 - accuracy: 0.8409 - auc: 0.9937 - val_loss: 1.5701 - val_accuracy: 0.2194 - val_auc: 0.5109\n",
      "Epoch 35/100\n",
      "157/157 [==============================] - 2s 14ms/step - loss: 0.0417 - accuracy: 0.8575 - auc: 0.9979 - val_loss: 1.8808 - val_accuracy: 0.2679 - val_auc: 0.5185\n",
      "Epoch 36/100\n",
      "157/157 [==============================] - 2s 14ms/step - loss: 0.0657 - accuracy: 0.8537 - auc: 0.9951 - val_loss: 1.8012 - val_accuracy: 0.2296 - val_auc: 0.5111\n",
      "Epoch 37/100\n",
      "157/157 [==============================] - 2s 14ms/step - loss: 0.0546 - accuracy: 0.8626 - auc: 0.9964 - val_loss: 1.8609 - val_accuracy: 0.2602 - val_auc: 0.5253\n",
      "Epoch 38/100\n",
      "157/157 [==============================] - 2s 13ms/step - loss: 0.0839 - accuracy: 0.8358 - auc: 0.9925 - val_loss: 1.7881 - val_accuracy: 0.2041 - val_auc: 0.5265\n",
      "Epoch 39/100\n",
      "157/157 [==============================] - 2s 13ms/step - loss: 0.0631 - accuracy: 0.8581 - auc: 0.9952 - val_loss: 1.8348 - val_accuracy: 0.2806 - val_auc: 0.5513\n",
      "Epoch 40/100\n",
      "157/157 [==============================] - 2s 13ms/step - loss: 0.0385 - accuracy: 0.8588 - auc: 0.9970 - val_loss: 1.8790 - val_accuracy: 0.2577 - val_auc: 0.5097\n",
      "Epoch 41/100\n",
      "157/157 [==============================] - 2s 13ms/step - loss: 0.0405 - accuracy: 0.8441 - auc: 0.9968 - val_loss: 1.7692 - val_accuracy: 0.2398 - val_auc: 0.5310\n",
      "Epoch 42/100\n",
      "157/157 [==============================] - 2s 13ms/step - loss: 0.0729 - accuracy: 0.8594 - auc: 0.9931 - val_loss: 1.7281 - val_accuracy: 0.2781 - val_auc: 0.5565\n",
      "Epoch 43/100\n",
      "157/157 [==============================] - 2s 13ms/step - loss: 0.0359 - accuracy: 0.8569 - auc: 0.9979 - val_loss: 1.8947 - val_accuracy: 0.2474 - val_auc: 0.5305\n",
      "Epoch 44/100\n",
      "157/157 [==============================] - 2s 14ms/step - loss: 0.0385 - accuracy: 0.8652 - auc: 0.9970 - val_loss: 2.0689 - val_accuracy: 0.2551 - val_auc: 0.5218\n",
      "Epoch 45/100\n",
      "157/157 [==============================] - 2s 14ms/step - loss: 0.0733 - accuracy: 0.8505 - auc: 0.9936 - val_loss: 1.8209 - val_accuracy: 0.2015 - val_auc: 0.5108\n",
      "Epoch 46/100\n",
      "157/157 [==============================] - 2s 14ms/step - loss: 0.0560 - accuracy: 0.8371 - auc: 0.9961 - val_loss: 1.7619 - val_accuracy: 0.2551 - val_auc: 0.5357\n",
      "Epoch 47/100\n",
      "157/157 [==============================] - 2s 14ms/step - loss: 0.0317 - accuracy: 0.8371 - auc: 0.9982 - val_loss: 1.9353 - val_accuracy: 0.2372 - val_auc: 0.5242\n",
      "Epoch 48/100\n",
      "157/157 [==============================] - 2s 14ms/step - loss: 0.0039 - accuracy: 0.8652 - auc: 1.0000 - val_loss: 2.1094 - val_accuracy: 0.2832 - val_auc: 0.5382\n",
      "Epoch 49/100\n",
      "157/157 [==============================] - 2s 14ms/step - loss: 0.0015 - accuracy: 0.8409 - auc: 1.0000 - val_loss: 2.2256 - val_accuracy: 0.2679 - val_auc: 0.5363\n",
      "Epoch 50/100\n",
      "157/157 [==============================] - 2s 14ms/step - loss: 3.9164e-04 - accuracy: 0.8575 - auc: 1.0000 - val_loss: 2.2941 - val_accuracy: 0.2679 - val_auc: 0.5331\n",
      "Epoch 51/100\n",
      "157/157 [==============================] - 2s 14ms/step - loss: 2.9225e-04 - accuracy: 0.8550 - auc: 1.0000 - val_loss: 2.3474 - val_accuracy: 0.2679 - val_auc: 0.5334\n",
      "Epoch 52/100\n",
      "157/157 [==============================] - 2s 14ms/step - loss: 2.3765e-04 - accuracy: 0.8556 - auc: 1.0000 - val_loss: 2.3918 - val_accuracy: 0.2653 - val_auc: 0.5339\n",
      "Epoch 53/100\n",
      "157/157 [==============================] - 2s 14ms/step - loss: 2.0096e-04 - accuracy: 0.8543 - auc: 1.0000 - val_loss: 2.4300 - val_accuracy: 0.2653 - val_auc: 0.5331\n",
      "Epoch 54/100\n",
      "157/157 [==============================] - 2s 14ms/step - loss: 1.7427e-04 - accuracy: 0.8550 - auc: 1.0000 - val_loss: 2.4638 - val_accuracy: 0.2653 - val_auc: 0.5350\n",
      "Epoch 55/100\n",
      "157/157 [==============================] - 2s 14ms/step - loss: 1.5375e-04 - accuracy: 0.8562 - auc: 1.0000 - val_loss: 2.4939 - val_accuracy: 0.2653 - val_auc: 0.5355\n",
      "Epoch 56/100\n",
      "157/157 [==============================] - 2s 14ms/step - loss: 1.3764e-04 - accuracy: 0.8562 - auc: 1.0000 - val_loss: 2.5211 - val_accuracy: 0.2628 - val_auc: 0.5354\n",
      "Epoch 57/100\n",
      "157/157 [==============================] - 2s 14ms/step - loss: 1.2456e-04 - accuracy: 0.8569 - auc: 1.0000 - val_loss: 2.5460 - val_accuracy: 0.2628 - val_auc: 0.5358\n",
      "Epoch 58/100\n",
      "157/157 [==============================] - 2s 14ms/step - loss: 1.1370e-04 - accuracy: 0.8575 - auc: 1.0000 - val_loss: 2.5691 - val_accuracy: 0.2628 - val_auc: 0.5344\n",
      "Epoch 59/100\n",
      "157/157 [==============================] - 2s 14ms/step - loss: 1.0455e-04 - accuracy: 0.8575 - auc: 1.0000 - val_loss: 2.5903 - val_accuracy: 0.2602 - val_auc: 0.5341\n",
      "Epoch 60/100\n",
      "157/157 [==============================] - 2s 14ms/step - loss: 9.6750e-05 - accuracy: 0.8569 - auc: 1.0000 - val_loss: 2.6100 - val_accuracy: 0.2602 - val_auc: 0.5328\n",
      "Epoch 61/100\n",
      "157/157 [==============================] - 2s 14ms/step - loss: 9.0003e-05 - accuracy: 0.8562 - auc: 1.0000 - val_loss: 2.6286 - val_accuracy: 0.2602 - val_auc: 0.5330\n",
      "Epoch 62/100\n",
      "157/157 [==============================] - 2s 14ms/step - loss: 8.4108e-05 - accuracy: 0.8562 - auc: 1.0000 - val_loss: 2.6460 - val_accuracy: 0.2602 - val_auc: 0.5341\n",
      "Epoch 63/100\n",
      "157/157 [==============================] - 2s 14ms/step - loss: 7.8921e-05 - accuracy: 0.8562 - auc: 1.0000 - val_loss: 2.6626 - val_accuracy: 0.2602 - val_auc: 0.5337\n",
      "Epoch 64/100\n",
      "157/157 [==============================] - 2s 16ms/step - loss: 7.4312e-05 - accuracy: 0.8562 - auc: 1.0000 - val_loss: 2.6783 - val_accuracy: 0.2602 - val_auc: 0.5344\n",
      "Epoch 65/100\n",
      "157/157 [==============================] - 3s 16ms/step - loss: 7.0191e-05 - accuracy: 0.8569 - auc: 1.0000 - val_loss: 2.6932 - val_accuracy: 0.2602 - val_auc: 0.5332\n",
      "Epoch 66/100\n",
      "157/157 [==============================] - 2s 16ms/step - loss: 6.6499e-05 - accuracy: 0.8562 - auc: 1.0000 - val_loss: 2.7074 - val_accuracy: 0.2602 - val_auc: 0.5327\n",
      "Epoch 67/100\n",
      "157/157 [==============================] - 3s 16ms/step - loss: 6.3158e-05 - accuracy: 0.8569 - auc: 1.0000 - val_loss: 2.7210 - val_accuracy: 0.2602 - val_auc: 0.5336\n",
      "Epoch 68/100\n",
      "157/157 [==============================] - 2s 15ms/step - loss: 6.0129e-05 - accuracy: 0.8562 - auc: 1.0000 - val_loss: 2.7340 - val_accuracy: 0.2602 - val_auc: 0.5337\n",
      "Epoch 69/100\n",
      "157/157 [==============================] - 2s 15ms/step - loss: 5.7366e-05 - accuracy: 0.8562 - auc: 1.0000 - val_loss: 2.7465 - val_accuracy: 0.2602 - val_auc: 0.5338\n",
      "Epoch 70/100\n",
      "157/157 [==============================] - 2s 15ms/step - loss: 5.4841e-05 - accuracy: 0.8562 - auc: 1.0000 - val_loss: 2.7585 - val_accuracy: 0.2602 - val_auc: 0.5335\n",
      "Epoch 71/100\n",
      "157/157 [==============================] - 2s 15ms/step - loss: 5.2517e-05 - accuracy: 0.8562 - auc: 1.0000 - val_loss: 2.7700 - val_accuracy: 0.2602 - val_auc: 0.5337\n",
      "Epoch 72/100\n",
      "157/157 [==============================] - 2s 15ms/step - loss: 5.0379e-05 - accuracy: 0.8569 - auc: 1.0000 - val_loss: 2.7811 - val_accuracy: 0.2602 - val_auc: 0.5336\n",
      "Epoch 73/100\n",
      "157/157 [==============================] - 2s 15ms/step - loss: 4.8396e-05 - accuracy: 0.8556 - auc: 1.0000 - val_loss: 2.7919 - val_accuracy: 0.2602 - val_auc: 0.5339\n",
      "Epoch 74/100\n",
      "157/157 [==============================] - 2s 15ms/step - loss: 4.6556e-05 - accuracy: 0.8575 - auc: 1.0000 - val_loss: 2.8022 - val_accuracy: 0.2602 - val_auc: 0.5343\n",
      "Epoch 75/100\n",
      "157/157 [==============================] - 2s 15ms/step - loss: 4.4853e-05 - accuracy: 0.8575 - auc: 1.0000 - val_loss: 2.8123 - val_accuracy: 0.2602 - val_auc: 0.5332\n",
      "Epoch 76/100\n",
      "157/157 [==============================] - 2s 15ms/step - loss: 4.3254e-05 - accuracy: 0.8562 - auc: 1.0000 - val_loss: 2.8220 - val_accuracy: 0.2602 - val_auc: 0.5331\n",
      "Epoch 77/100\n",
      "157/157 [==============================] - 2s 15ms/step - loss: 4.1771e-05 - accuracy: 0.8569 - auc: 1.0000 - val_loss: 2.8314 - val_accuracy: 0.2602 - val_auc: 0.5332\n",
      "Epoch 78/100\n",
      "157/157 [==============================] - 2s 14ms/step - loss: 4.0379e-05 - accuracy: 0.8569 - auc: 1.0000 - val_loss: 2.8406 - val_accuracy: 0.2628 - val_auc: 0.5328\n",
      "Epoch 79/100\n",
      "157/157 [==============================] - 2s 15ms/step - loss: 3.9073e-05 - accuracy: 0.8575 - auc: 1.0000 - val_loss: 2.8494 - val_accuracy: 0.2628 - val_auc: 0.5331\n",
      "Epoch 80/100\n",
      "157/157 [==============================] - 2s 15ms/step - loss: 3.7848e-05 - accuracy: 0.8569 - auc: 1.0000 - val_loss: 2.8581 - val_accuracy: 0.2628 - val_auc: 0.5327\n",
      "Epoch 81/100\n",
      "157/157 [==============================] - 2s 15ms/step - loss: 3.6693e-05 - accuracy: 0.8569 - auc: 1.0000 - val_loss: 2.8664 - val_accuracy: 0.2628 - val_auc: 0.5329\n",
      "Epoch 82/100\n",
      "157/157 [==============================] - 2s 15ms/step - loss: 3.5609e-05 - accuracy: 0.8569 - auc: 1.0000 - val_loss: 2.8746 - val_accuracy: 0.2602 - val_auc: 0.5332\n",
      "Epoch 83/100\n",
      "157/157 [==============================] - 2s 14ms/step - loss: 3.4573e-05 - accuracy: 0.8569 - auc: 1.0000 - val_loss: 2.8826 - val_accuracy: 0.2602 - val_auc: 0.5328\n",
      "Epoch 84/100\n",
      "157/157 [==============================] - 2s 14ms/step - loss: 3.3602e-05 - accuracy: 0.8575 - auc: 1.0000 - val_loss: 2.8904 - val_accuracy: 0.2602 - val_auc: 0.5330\n",
      "Epoch 85/100\n",
      "157/157 [==============================] - 2s 13ms/step - loss: 3.2680e-05 - accuracy: 0.8569 - auc: 1.0000 - val_loss: 2.8980 - val_accuracy: 0.2602 - val_auc: 0.5332\n",
      "Epoch 86/100\n",
      "157/157 [==============================] - 2s 13ms/step - loss: 3.1803e-05 - accuracy: 0.8569 - auc: 1.0000 - val_loss: 2.9054 - val_accuracy: 0.2602 - val_auc: 0.5336\n",
      "Epoch 87/100\n",
      "157/157 [==============================] - 2s 14ms/step - loss: 3.0969e-05 - accuracy: 0.8575 - auc: 1.0000 - val_loss: 2.9126 - val_accuracy: 0.2602 - val_auc: 0.5337\n",
      "Epoch 88/100\n",
      "157/157 [==============================] - 2s 13ms/step - loss: 3.0178e-05 - accuracy: 0.8575 - auc: 1.0000 - val_loss: 2.9197 - val_accuracy: 0.2602 - val_auc: 0.5339\n",
      "Epoch 89/100\n",
      "157/157 [==============================] - 2s 13ms/step - loss: 2.9422e-05 - accuracy: 0.8588 - auc: 1.0000 - val_loss: 2.9266 - val_accuracy: 0.2628 - val_auc: 0.5334\n",
      "Epoch 90/100\n",
      "157/157 [==============================] - 2s 14ms/step - loss: 2.8702e-05 - accuracy: 0.8588 - auc: 1.0000 - val_loss: 2.9333 - val_accuracy: 0.2628 - val_auc: 0.5336\n",
      "Epoch 91/100\n",
      "157/157 [==============================] - 2s 15ms/step - loss: 2.8018e-05 - accuracy: 0.8588 - auc: 1.0000 - val_loss: 2.9399 - val_accuracy: 0.2628 - val_auc: 0.5337\n",
      "Epoch 92/100\n",
      "157/157 [==============================] - 2s 16ms/step - loss: 2.7362e-05 - accuracy: 0.8588 - auc: 1.0000 - val_loss: 2.9464 - val_accuracy: 0.2628 - val_auc: 0.5337\n",
      "Epoch 93/100\n",
      "157/157 [==============================] - 2s 15ms/step - loss: 2.6735e-05 - accuracy: 0.8588 - auc: 1.0000 - val_loss: 2.9527 - val_accuracy: 0.2628 - val_auc: 0.5341\n",
      "Epoch 94/100\n",
      "157/157 [==============================] - 2s 13ms/step - loss: 2.6135e-05 - accuracy: 0.8594 - auc: 1.0000 - val_loss: 2.9590 - val_accuracy: 0.2628 - val_auc: 0.5341\n",
      "Epoch 95/100\n",
      "157/157 [==============================] - 2s 14ms/step - loss: 2.5559e-05 - accuracy: 0.8594 - auc: 1.0000 - val_loss: 2.9651 - val_accuracy: 0.2628 - val_auc: 0.5341\n",
      "Epoch 96/100\n",
      "157/157 [==============================] - 2s 14ms/step - loss: 2.5007e-05 - accuracy: 0.8581 - auc: 1.0000 - val_loss: 2.9711 - val_accuracy: 0.2628 - val_auc: 0.5341\n",
      "Epoch 97/100\n",
      "157/157 [==============================] - 2s 14ms/step - loss: 2.4476e-05 - accuracy: 0.8575 - auc: 1.0000 - val_loss: 2.9770 - val_accuracy: 0.2628 - val_auc: 0.5341\n",
      "Epoch 98/100\n",
      "157/157 [==============================] - 2s 14ms/step - loss: 2.3967e-05 - accuracy: 0.8575 - auc: 1.0000 - val_loss: 2.9828 - val_accuracy: 0.2628 - val_auc: 0.5340\n",
      "Epoch 99/100\n",
      "157/157 [==============================] - 2s 14ms/step - loss: 2.3476e-05 - accuracy: 0.8575 - auc: 1.0000 - val_loss: 2.9884 - val_accuracy: 0.2628 - val_auc: 0.5340\n",
      "Epoch 100/100\n",
      "157/157 [==============================] - 2s 14ms/step - loss: 2.3003e-05 - accuracy: 0.8575 - auc: 1.0000 - val_loss: 2.9939 - val_accuracy: 0.2628 - val_auc: 0.5339\n",
      "Epoch 1/100\n",
      "157/157 [==============================] - 2s 16ms/step - loss: 0.7590 - accuracy: 0.3642 - auc: 0.5996 - val_loss: 0.5955 - val_accuracy: 0.3393 - val_auc: 0.5808\n",
      "Epoch 2/100\n",
      "157/157 [==============================] - 2s 14ms/step - loss: 0.5389 - accuracy: 0.3955 - auc: 0.6538 - val_loss: 0.5845 - val_accuracy: 0.3393 - val_auc: 0.5747\n",
      "Epoch 3/100\n",
      "157/157 [==============================] - 2s 14ms/step - loss: 0.5253 - accuracy: 0.4262 - auc: 0.6843 - val_loss: 0.6481 - val_accuracy: 0.2526 - val_auc: 0.5073\n",
      "Epoch 4/100\n",
      "157/157 [==============================] - 2s 14ms/step - loss: 0.5082 - accuracy: 0.4358 - auc: 0.7176 - val_loss: 0.6454 - val_accuracy: 0.1939 - val_auc: 0.4867\n",
      "Epoch 5/100\n",
      "157/157 [==============================] - 2s 14ms/step - loss: 0.4945 - accuracy: 0.4498 - auc: 0.7384 - val_loss: 0.6978 - val_accuracy: 0.2168 - val_auc: 0.4734\n",
      "Epoch 6/100\n",
      "157/157 [==============================] - 2s 14ms/step - loss: 0.4758 - accuracy: 0.4703 - auc: 0.7669 - val_loss: 0.7198 - val_accuracy: 0.3418 - val_auc: 0.5787\n",
      "Epoch 7/100\n",
      "157/157 [==============================] - 2s 13ms/step - loss: 0.4597 - accuracy: 0.4812 - auc: 0.7889 - val_loss: 0.7267 - val_accuracy: 0.2985 - val_auc: 0.5555\n",
      "Epoch 8/100\n",
      "157/157 [==============================] - 2s 14ms/step - loss: 0.4362 - accuracy: 0.5335 - auc: 0.8159 - val_loss: 0.7999 - val_accuracy: 0.1658 - val_auc: 0.4588\n",
      "Epoch 9/100\n",
      "157/157 [==============================] - 2s 13ms/step - loss: 0.4122 - accuracy: 0.5623 - auc: 0.8401 - val_loss: 0.7096 - val_accuracy: 0.3036 - val_auc: 0.5834\n",
      "Epoch 10/100\n",
      "157/157 [==============================] - 2s 13ms/step - loss: 0.3811 - accuracy: 0.5923 - auc: 0.8668 - val_loss: 0.8716 - val_accuracy: 0.1990 - val_auc: 0.5279\n",
      "Epoch 11/100\n",
      "157/157 [==============================] - 2s 13ms/step - loss: 0.3702 - accuracy: 0.6006 - auc: 0.8773 - val_loss: 0.9730 - val_accuracy: 0.3087 - val_auc: 0.5795\n",
      "Epoch 12/100\n",
      "157/157 [==============================] - 2s 13ms/step - loss: 0.3496 - accuracy: 0.6256 - auc: 0.8920 - val_loss: 0.8211 - val_accuracy: 0.2474 - val_auc: 0.5557\n",
      "Epoch 13/100\n",
      "157/157 [==============================] - 2s 14ms/step - loss: 0.3167 - accuracy: 0.6543 - auc: 0.9127 - val_loss: 1.1011 - val_accuracy: 0.1224 - val_auc: 0.4968\n",
      "Epoch 14/100\n",
      "157/157 [==============================] - 2s 15ms/step - loss: 0.2925 - accuracy: 0.6895 - auc: 0.9253 - val_loss: 1.0089 - val_accuracy: 0.3240 - val_auc: 0.5565\n",
      "Epoch 15/100\n",
      "157/157 [==============================] - 2s 14ms/step - loss: 0.2779 - accuracy: 0.7016 - auc: 0.9329 - val_loss: 1.0310 - val_accuracy: 0.2474 - val_auc: 0.5572\n",
      "Epoch 16/100\n",
      "157/157 [==============================] - 2s 13ms/step - loss: 0.2503 - accuracy: 0.7163 - auc: 0.9472 - val_loss: 1.2032 - val_accuracy: 0.2883 - val_auc: 0.5418\n",
      "Epoch 17/100\n",
      "157/157 [==============================] - 2s 13ms/step - loss: 0.2485 - accuracy: 0.7323 - auc: 0.9474 - val_loss: 1.1721 - val_accuracy: 0.1964 - val_auc: 0.5297\n",
      "Epoch 18/100\n",
      "157/157 [==============================] - 2s 13ms/step - loss: 0.2080 - accuracy: 0.7674 - auc: 0.9634 - val_loss: 1.3695 - val_accuracy: 0.1913 - val_auc: 0.5384\n",
      "Epoch 19/100\n",
      "157/157 [==============================] - 2s 13ms/step - loss: 0.2171 - accuracy: 0.7578 - auc: 0.9606 - val_loss: 1.2373 - val_accuracy: 0.1556 - val_auc: 0.5284\n",
      "Epoch 20/100\n",
      "157/157 [==============================] - 2s 13ms/step - loss: 0.1773 - accuracy: 0.7770 - auc: 0.9742 - val_loss: 1.8404 - val_accuracy: 0.1505 - val_auc: 0.4448\n",
      "Epoch 21/100\n",
      "157/157 [==============================] - 2s 13ms/step - loss: 0.1862 - accuracy: 0.7565 - auc: 0.9717 - val_loss: 1.2624 - val_accuracy: 0.2398 - val_auc: 0.5471\n",
      "Epoch 22/100\n",
      "157/157 [==============================] - 2s 13ms/step - loss: 0.1392 - accuracy: 0.7904 - auc: 0.9819 - val_loss: 1.3190 - val_accuracy: 0.2474 - val_auc: 0.5325\n",
      "Epoch 23/100\n",
      "157/157 [==============================] - 2s 13ms/step - loss: 0.1786 - accuracy: 0.7866 - auc: 0.9717 - val_loss: 1.3654 - val_accuracy: 0.3061 - val_auc: 0.5661\n",
      "Epoch 24/100\n",
      "157/157 [==============================] - 2s 13ms/step - loss: 0.1494 - accuracy: 0.7808 - auc: 0.9809 - val_loss: 1.3595 - val_accuracy: 0.2551 - val_auc: 0.5243\n",
      "Epoch 25/100\n",
      "157/157 [==============================] - 2s 13ms/step - loss: 0.1393 - accuracy: 0.8102 - auc: 0.9826 - val_loss: 1.3712 - val_accuracy: 0.2704 - val_auc: 0.5289\n",
      "Epoch 26/100\n",
      "157/157 [==============================] - 2s 14ms/step - loss: 0.0945 - accuracy: 0.8377 - auc: 0.9900 - val_loss: 1.4354 - val_accuracy: 0.2934 - val_auc: 0.5507\n",
      "Epoch 27/100\n",
      "157/157 [==============================] - 2s 13ms/step - loss: 0.0988 - accuracy: 0.8319 - auc: 0.9895 - val_loss: 1.4171 - val_accuracy: 0.2806 - val_auc: 0.5467\n",
      "Epoch 28/100\n",
      "157/157 [==============================] - 2s 13ms/step - loss: 0.0778 - accuracy: 0.8364 - auc: 0.9919 - val_loss: 1.6715 - val_accuracy: 0.2959 - val_auc: 0.5409\n",
      "Epoch 29/100\n",
      "157/157 [==============================] - 2s 13ms/step - loss: 0.0940 - accuracy: 0.8294 - auc: 0.9903 - val_loss: 1.6096 - val_accuracy: 0.2679 - val_auc: 0.5538\n",
      "Epoch 30/100\n",
      "157/157 [==============================] - 2s 14ms/step - loss: 0.1158 - accuracy: 0.8045 - auc: 0.9866 - val_loss: 1.4260 - val_accuracy: 0.2679 - val_auc: 0.5384\n",
      "Epoch 31/100\n",
      "157/157 [==============================] - 2s 14ms/step - loss: 0.0816 - accuracy: 0.8288 - auc: 0.9928 - val_loss: 1.5108 - val_accuracy: 0.2602 - val_auc: 0.5431\n",
      "Epoch 32/100\n",
      "157/157 [==============================] - 2s 14ms/step - loss: 0.0829 - accuracy: 0.8454 - auc: 0.9927 - val_loss: 1.4288 - val_accuracy: 0.2806 - val_auc: 0.5605\n",
      "Epoch 33/100\n",
      "157/157 [==============================] - 2s 14ms/step - loss: 0.0886 - accuracy: 0.8447 - auc: 0.9917 - val_loss: 1.8113 - val_accuracy: 0.2730 - val_auc: 0.5266\n",
      "Epoch 34/100\n",
      "157/157 [==============================] - 2s 14ms/step - loss: 0.0635 - accuracy: 0.8511 - auc: 0.9946 - val_loss: 1.7755 - val_accuracy: 0.3061 - val_auc: 0.5400\n",
      "Epoch 35/100\n",
      "157/157 [==============================] - 2s 14ms/step - loss: 0.0757 - accuracy: 0.8275 - auc: 0.9931 - val_loss: 1.7458 - val_accuracy: 0.2806 - val_auc: 0.5398\n",
      "Epoch 36/100\n",
      "157/157 [==============================] - 2s 14ms/step - loss: 0.0399 - accuracy: 0.8498 - auc: 0.9984 - val_loss: 1.9267 - val_accuracy: 0.2730 - val_auc: 0.5376\n",
      "Epoch 37/100\n",
      "157/157 [==============================] - 2s 14ms/step - loss: 0.0434 - accuracy: 0.8543 - auc: 0.9967 - val_loss: 1.9489 - val_accuracy: 0.2730 - val_auc: 0.5478\n",
      "Epoch 38/100\n",
      "157/157 [==============================] - 2s 14ms/step - loss: 0.0410 - accuracy: 0.8677 - auc: 0.9976 - val_loss: 1.9407 - val_accuracy: 0.2908 - val_auc: 0.5463\n",
      "Epoch 39/100\n",
      "157/157 [==============================] - 2s 14ms/step - loss: 0.0922 - accuracy: 0.8422 - auc: 0.9903 - val_loss: 1.7562 - val_accuracy: 0.2832 - val_auc: 0.5448\n",
      "Epoch 40/100\n",
      "157/157 [==============================] - 2s 15ms/step - loss: 0.0487 - accuracy: 0.8575 - auc: 0.9964 - val_loss: 1.8067 - val_accuracy: 0.2194 - val_auc: 0.5116\n",
      "Epoch 41/100\n",
      "157/157 [==============================] - 2s 14ms/step - loss: 0.0517 - accuracy: 0.8588 - auc: 0.9966 - val_loss: 1.7894 - val_accuracy: 0.2806 - val_auc: 0.5435\n",
      "Epoch 42/100\n",
      "157/157 [==============================] - 2s 14ms/step - loss: 0.0654 - accuracy: 0.8479 - auc: 0.9948 - val_loss: 1.6832 - val_accuracy: 0.2806 - val_auc: 0.5521\n",
      "Epoch 43/100\n",
      "157/157 [==============================] - 2s 14ms/step - loss: 0.0430 - accuracy: 0.8773 - auc: 0.9956 - val_loss: 1.8271 - val_accuracy: 0.2781 - val_auc: 0.5511\n",
      "Epoch 44/100\n",
      "157/157 [==============================] - 2s 14ms/step - loss: 0.0258 - accuracy: 0.8722 - auc: 0.9984 - val_loss: 1.8958 - val_accuracy: 0.2730 - val_auc: 0.5389\n",
      "Epoch 45/100\n",
      "157/157 [==============================] - 2s 14ms/step - loss: 0.0184 - accuracy: 0.8716 - auc: 0.9992 - val_loss: 1.8892 - val_accuracy: 0.2908 - val_auc: 0.5696\n",
      "Epoch 46/100\n",
      "157/157 [==============================] - 2s 13ms/step - loss: 0.0132 - accuracy: 0.8658 - auc: 0.9994 - val_loss: 2.0486 - val_accuracy: 0.2985 - val_auc: 0.5639\n",
      "Epoch 47/100\n",
      "157/157 [==============================] - 2s 14ms/step - loss: 0.0059 - accuracy: 0.8498 - auc: 0.9994 - val_loss: 2.1011 - val_accuracy: 0.3163 - val_auc: 0.5560\n",
      "Epoch 48/100\n",
      "157/157 [==============================] - 2s 13ms/step - loss: 0.0027 - accuracy: 0.8735 - auc: 0.9999 - val_loss: 2.1353 - val_accuracy: 0.2959 - val_auc: 0.5589\n",
      "Epoch 49/100\n",
      "157/157 [==============================] - 2s 14ms/step - loss: 0.0072 - accuracy: 0.8633 - auc: 0.9990 - val_loss: 2.0695 - val_accuracy: 0.3036 - val_auc: 0.5649\n",
      "Epoch 50/100\n",
      "157/157 [==============================] - 2s 14ms/step - loss: 9.7713e-04 - accuracy: 0.8601 - auc: 1.0000 - val_loss: 2.1738 - val_accuracy: 0.3061 - val_auc: 0.5630\n",
      "Epoch 51/100\n",
      "157/157 [==============================] - 2s 14ms/step - loss: 0.0018 - accuracy: 0.8633 - auc: 1.0000 - val_loss: 2.2301 - val_accuracy: 0.3036 - val_auc: 0.5627\n",
      "Epoch 52/100\n",
      "157/157 [==============================] - 2s 14ms/step - loss: 0.0020 - accuracy: 0.8562 - auc: 0.9997 - val_loss: 2.2362 - val_accuracy: 0.3036 - val_auc: 0.5653\n",
      "Epoch 53/100\n",
      "157/157 [==============================] - 2s 15ms/step - loss: 3.1712e-04 - accuracy: 0.8454 - auc: 1.0000 - val_loss: 2.2718 - val_accuracy: 0.3010 - val_auc: 0.5652\n",
      "Epoch 54/100\n",
      "157/157 [==============================] - 2s 15ms/step - loss: 2.0617e-04 - accuracy: 0.8505 - auc: 1.0000 - val_loss: 2.3072 - val_accuracy: 0.2934 - val_auc: 0.5629\n",
      "Epoch 55/100\n",
      "157/157 [==============================] - 2s 14ms/step - loss: 1.6113e-04 - accuracy: 0.8562 - auc: 1.0000 - val_loss: 2.3369 - val_accuracy: 0.2934 - val_auc: 0.5631\n",
      "Epoch 56/100\n",
      "157/157 [==============================] - 2s 14ms/step - loss: 1.3864e-04 - accuracy: 0.8601 - auc: 1.0000 - val_loss: 2.3636 - val_accuracy: 0.2934 - val_auc: 0.5628\n",
      "Epoch 57/100\n",
      "157/157 [==============================] - 2s 14ms/step - loss: 1.2241e-04 - accuracy: 0.8601 - auc: 1.0000 - val_loss: 2.3879 - val_accuracy: 0.2934 - val_auc: 0.5616\n",
      "Epoch 58/100\n",
      "157/157 [==============================] - 2s 14ms/step - loss: 1.0998e-04 - accuracy: 0.8601 - auc: 1.0000 - val_loss: 2.4098 - val_accuracy: 0.2934 - val_auc: 0.5616\n",
      "Epoch 59/100\n",
      "157/157 [==============================] - 2s 14ms/step - loss: 9.9950e-05 - accuracy: 0.8633 - auc: 1.0000 - val_loss: 2.4302 - val_accuracy: 0.2934 - val_auc: 0.5600\n",
      "Epoch 60/100\n",
      "157/157 [==============================] - 2s 14ms/step - loss: 9.1679e-05 - accuracy: 0.8626 - auc: 1.0000 - val_loss: 2.4491 - val_accuracy: 0.2934 - val_auc: 0.5583\n",
      "Epoch 61/100\n",
      "157/157 [==============================] - 2s 15ms/step - loss: 8.4733e-05 - accuracy: 0.8665 - auc: 1.0000 - val_loss: 2.4669 - val_accuracy: 0.2934 - val_auc: 0.5577\n",
      "Epoch 62/100\n",
      "157/157 [==============================] - 2s 14ms/step - loss: 7.8811e-05 - accuracy: 0.8658 - auc: 1.0000 - val_loss: 2.4835 - val_accuracy: 0.2934 - val_auc: 0.5587\n",
      "Epoch 63/100\n",
      "157/157 [==============================] - 2s 15ms/step - loss: 7.3698e-05 - accuracy: 0.8658 - auc: 1.0000 - val_loss: 2.4990 - val_accuracy: 0.2934 - val_auc: 0.5597\n",
      "Epoch 64/100\n",
      "157/157 [==============================] - 2s 14ms/step - loss: 6.9205e-05 - accuracy: 0.8684 - auc: 1.0000 - val_loss: 2.5137 - val_accuracy: 0.2934 - val_auc: 0.5610\n",
      "Epoch 65/100\n",
      "157/157 [==============================] - 2s 15ms/step - loss: 6.5238e-05 - accuracy: 0.8690 - auc: 1.0000 - val_loss: 2.5278 - val_accuracy: 0.2934 - val_auc: 0.5615\n",
      "Epoch 66/100\n",
      "157/157 [==============================] - 2s 14ms/step - loss: 6.1697e-05 - accuracy: 0.8690 - auc: 1.0000 - val_loss: 2.5411 - val_accuracy: 0.2934 - val_auc: 0.5604\n",
      "Epoch 67/100\n",
      "157/157 [==============================] - 2s 14ms/step - loss: 5.8541e-05 - accuracy: 0.8690 - auc: 1.0000 - val_loss: 2.5538 - val_accuracy: 0.2934 - val_auc: 0.5604\n",
      "Epoch 68/100\n",
      "157/157 [==============================] - 2s 14ms/step - loss: 5.5673e-05 - accuracy: 0.8690 - auc: 1.0000 - val_loss: 2.5659 - val_accuracy: 0.2934 - val_auc: 0.5601\n",
      "Epoch 69/100\n",
      "157/157 [==============================] - 2s 14ms/step - loss: 5.3082e-05 - accuracy: 0.8690 - auc: 1.0000 - val_loss: 2.5775 - val_accuracy: 0.2934 - val_auc: 0.5605\n",
      "Epoch 70/100\n",
      "157/157 [==============================] - 2s 14ms/step - loss: 5.0716e-05 - accuracy: 0.8696 - auc: 1.0000 - val_loss: 2.5887 - val_accuracy: 0.2934 - val_auc: 0.5598\n",
      "Epoch 71/100\n",
      "157/157 [==============================] - 2s 14ms/step - loss: 4.8554e-05 - accuracy: 0.8690 - auc: 1.0000 - val_loss: 2.5994 - val_accuracy: 0.2934 - val_auc: 0.5600\n",
      "Epoch 72/100\n",
      "157/157 [==============================] - 2s 14ms/step - loss: 4.6550e-05 - accuracy: 0.8690 - auc: 1.0000 - val_loss: 2.6098 - val_accuracy: 0.2934 - val_auc: 0.5596\n",
      "Epoch 73/100\n",
      "157/157 [==============================] - 2s 14ms/step - loss: 4.4715e-05 - accuracy: 0.8696 - auc: 1.0000 - val_loss: 2.6197 - val_accuracy: 0.2934 - val_auc: 0.5595\n",
      "Epoch 74/100\n",
      "157/157 [==============================] - 2s 14ms/step - loss: 4.3011e-05 - accuracy: 0.8696 - auc: 1.0000 - val_loss: 2.6293 - val_accuracy: 0.2934 - val_auc: 0.5595\n",
      "Epoch 75/100\n",
      "157/157 [==============================] - 2s 14ms/step - loss: 4.1429e-05 - accuracy: 0.8696 - auc: 1.0000 - val_loss: 2.6385 - val_accuracy: 0.2934 - val_auc: 0.5587\n",
      "Epoch 76/100\n",
      "157/157 [==============================] - 2s 14ms/step - loss: 3.9962e-05 - accuracy: 0.8703 - auc: 1.0000 - val_loss: 2.6475 - val_accuracy: 0.2934 - val_auc: 0.5592\n",
      "Epoch 77/100\n",
      "157/157 [==============================] - 2s 14ms/step - loss: 3.8588e-05 - accuracy: 0.8696 - auc: 1.0000 - val_loss: 2.6562 - val_accuracy: 0.2934 - val_auc: 0.5589\n",
      "Epoch 78/100\n",
      "157/157 [==============================] - 2s 14ms/step - loss: 3.7308e-05 - accuracy: 0.8703 - auc: 1.0000 - val_loss: 2.6647 - val_accuracy: 0.2934 - val_auc: 0.5582\n",
      "Epoch 79/100\n",
      "157/157 [==============================] - 2s 14ms/step - loss: 3.6104e-05 - accuracy: 0.8703 - auc: 1.0000 - val_loss: 2.6728 - val_accuracy: 0.2934 - val_auc: 0.5577\n",
      "Epoch 80/100\n",
      "157/157 [==============================] - 2s 14ms/step - loss: 3.4975e-05 - accuracy: 0.8696 - auc: 1.0000 - val_loss: 2.6808 - val_accuracy: 0.2934 - val_auc: 0.5573\n",
      "Epoch 81/100\n",
      "157/157 [==============================] - 2s 14ms/step - loss: 3.3912e-05 - accuracy: 0.8703 - auc: 1.0000 - val_loss: 2.6885 - val_accuracy: 0.2934 - val_auc: 0.5572\n",
      "Epoch 82/100\n",
      "157/157 [==============================] - 2s 14ms/step - loss: 3.2911e-05 - accuracy: 0.8703 - auc: 1.0000 - val_loss: 2.6961 - val_accuracy: 0.2934 - val_auc: 0.5565\n",
      "Epoch 83/100\n",
      "157/157 [==============================] - 2s 14ms/step - loss: 3.1969e-05 - accuracy: 0.8703 - auc: 1.0000 - val_loss: 2.7034 - val_accuracy: 0.2934 - val_auc: 0.5567\n",
      "Epoch 84/100\n",
      "157/157 [==============================] - 2s 14ms/step - loss: 3.1069e-05 - accuracy: 0.8703 - auc: 1.0000 - val_loss: 2.7106 - val_accuracy: 0.2934 - val_auc: 0.5567\n",
      "Epoch 85/100\n",
      "157/157 [==============================] - 2s 14ms/step - loss: 3.0221e-05 - accuracy: 0.8696 - auc: 1.0000 - val_loss: 2.7176 - val_accuracy: 0.2934 - val_auc: 0.5564\n",
      "Epoch 86/100\n",
      "157/157 [==============================] - 2s 15ms/step - loss: 2.9416e-05 - accuracy: 0.8696 - auc: 1.0000 - val_loss: 2.7244 - val_accuracy: 0.2934 - val_auc: 0.5568\n",
      "Epoch 87/100\n",
      "157/157 [==============================] - 2s 14ms/step - loss: 2.8648e-05 - accuracy: 0.8696 - auc: 1.0000 - val_loss: 2.7310 - val_accuracy: 0.2934 - val_auc: 0.5556\n",
      "Epoch 88/100\n",
      "157/157 [==============================] - 2s 14ms/step - loss: 2.7920e-05 - accuracy: 0.8696 - auc: 1.0000 - val_loss: 2.7375 - val_accuracy: 0.2934 - val_auc: 0.5543\n",
      "Epoch 89/100\n",
      "157/157 [==============================] - 2s 15ms/step - loss: 2.7229e-05 - accuracy: 0.8690 - auc: 1.0000 - val_loss: 2.7438 - val_accuracy: 0.2934 - val_auc: 0.5536\n",
      "Epoch 90/100\n",
      "157/157 [==============================] - 2s 15ms/step - loss: 2.6542e-05 - accuracy: 0.8684 - auc: 1.0000 - val_loss: 2.7500 - val_accuracy: 0.2934 - val_auc: 0.5536\n",
      "Epoch 91/100\n",
      "157/157 [==============================] - 2s 14ms/step - loss: 2.5914e-05 - accuracy: 0.8690 - auc: 1.0000 - val_loss: 2.7561 - val_accuracy: 0.2934 - val_auc: 0.5536\n",
      "Epoch 92/100\n",
      "157/157 [==============================] - 2s 14ms/step - loss: 2.5314e-05 - accuracy: 0.8696 - auc: 1.0000 - val_loss: 2.7621 - val_accuracy: 0.2934 - val_auc: 0.5531\n",
      "Epoch 93/100\n",
      "157/157 [==============================] - 2s 14ms/step - loss: 2.4739e-05 - accuracy: 0.8690 - auc: 1.0000 - val_loss: 2.7680 - val_accuracy: 0.2934 - val_auc: 0.5526\n",
      "Epoch 94/100\n",
      "157/157 [==============================] - 2s 15ms/step - loss: 2.4189e-05 - accuracy: 0.8690 - auc: 1.0000 - val_loss: 2.7737 - val_accuracy: 0.2934 - val_auc: 0.5525\n",
      "Epoch 95/100\n",
      "157/157 [==============================] - 2s 14ms/step - loss: 2.3662e-05 - accuracy: 0.8690 - auc: 1.0000 - val_loss: 2.7793 - val_accuracy: 0.2934 - val_auc: 0.5525\n",
      "Epoch 96/100\n",
      "157/157 [==============================] - 2s 14ms/step - loss: 2.3158e-05 - accuracy: 0.8690 - auc: 1.0000 - val_loss: 2.7848 - val_accuracy: 0.2934 - val_auc: 0.5528\n",
      "Epoch 97/100\n",
      "157/157 [==============================] - 2s 14ms/step - loss: 2.2673e-05 - accuracy: 0.8690 - auc: 1.0000 - val_loss: 2.7902 - val_accuracy: 0.2934 - val_auc: 0.5528\n",
      "Epoch 98/100\n",
      "157/157 [==============================] - 2s 14ms/step - loss: 2.2207e-05 - accuracy: 0.8690 - auc: 1.0000 - val_loss: 2.7956 - val_accuracy: 0.2934 - val_auc: 0.5528\n",
      "Epoch 99/100\n",
      "157/157 [==============================] - 2s 15ms/step - loss: 2.1758e-05 - accuracy: 0.8690 - auc: 1.0000 - val_loss: 2.8008 - val_accuracy: 0.2934 - val_auc: 0.5528\n",
      "Epoch 100/100\n",
      "157/157 [==============================] - 2s 15ms/step - loss: 2.1326e-05 - accuracy: 0.8690 - auc: 1.0000 - val_loss: 2.8059 - val_accuracy: 0.2934 - val_auc: 0.5523\n"
     ]
    },
    {
     "data": {
      "text/html": [
       "<span style=\"color:#4527A0\"><h1 style=\"font-size:18px\">Trial complete</h1></span>"
      ],
      "text/plain": [
       "<IPython.core.display.HTML object>"
      ]
     },
     "metadata": {
      "tags": []
     },
     "output_type": "display_data"
    },
    {
     "data": {
      "text/html": [
       "<span style=\"color:#4527A0\"><h1 style=\"font-size:18px\">Trial summary</h1></span>"
      ],
      "text/plain": [
       "<IPython.core.display.HTML object>"
      ]
     },
     "metadata": {
      "tags": []
     },
     "output_type": "display_data"
    },
    {
     "data": {
      "text/html": [
       "<span style=\"color:cyan\"> |-Trial ID: 48aed9e3cee58bb0f4b5a00d3c2ab426</span>"
      ],
      "text/plain": [
       "<IPython.core.display.HTML object>"
      ]
     },
     "metadata": {
      "tags": []
     },
     "output_type": "display_data"
    },
    {
     "data": {
      "text/html": [
       "<span style=\"color:cyan\"> |-Score: 0.3409863809744517</span>"
      ],
      "text/plain": [
       "<IPython.core.display.HTML object>"
      ]
     },
     "metadata": {
      "tags": []
     },
     "output_type": "display_data"
    },
    {
     "data": {
      "text/html": [
       "<span style=\"color:cyan\"> |-Best step: 0</span>"
      ],
      "text/plain": [
       "<IPython.core.display.HTML object>"
      ]
     },
     "metadata": {
      "tags": []
     },
     "output_type": "display_data"
    },
    {
     "data": {
      "text/html": [
       "<span style=\"color:#7E57C2\"><h2 style=\"font-size:16px\">Hyperparameters:</h2></span>"
      ],
      "text/plain": [
       "<IPython.core.display.HTML object>"
      ]
     },
     "metadata": {
      "tags": []
     },
     "output_type": "display_data"
    },
    {
     "data": {
      "text/html": [
       "<span style=\"color:cyan\"> |-act_0: selu</span>"
      ],
      "text/plain": [
       "<IPython.core.display.HTML object>"
      ]
     },
     "metadata": {
      "tags": []
     },
     "output_type": "display_data"
    },
    {
     "data": {
      "text/html": [
       "<span style=\"color:blue\"> |-act_1: relu</span>"
      ],
      "text/plain": [
       "<IPython.core.display.HTML object>"
      ]
     },
     "metadata": {
      "tags": []
     },
     "output_type": "display_data"
    },
    {
     "data": {
      "text/html": [
       "<span style=\"color:cyan\"> |-act_10: selu</span>"
      ],
      "text/plain": [
       "<IPython.core.display.HTML object>"
      ]
     },
     "metadata": {
      "tags": []
     },
     "output_type": "display_data"
    },
    {
     "data": {
      "text/html": [
       "<span style=\"color:blue\"> |-act_2: relu</span>"
      ],
      "text/plain": [
       "<IPython.core.display.HTML object>"
      ]
     },
     "metadata": {
      "tags": []
     },
     "output_type": "display_data"
    },
    {
     "data": {
      "text/html": [
       "<span style=\"color:cyan\"> |-act_3: relu</span>"
      ],
      "text/plain": [
       "<IPython.core.display.HTML object>"
      ]
     },
     "metadata": {
      "tags": []
     },
     "output_type": "display_data"
    },
    {
     "data": {
      "text/html": [
       "<span style=\"color:blue\"> |-act_4: selu</span>"
      ],
      "text/plain": [
       "<IPython.core.display.HTML object>"
      ]
     },
     "metadata": {
      "tags": []
     },
     "output_type": "display_data"
    },
    {
     "data": {
      "text/html": [
       "<span style=\"color:cyan\"> |-act_5: selu</span>"
      ],
      "text/plain": [
       "<IPython.core.display.HTML object>"
      ]
     },
     "metadata": {
      "tags": []
     },
     "output_type": "display_data"
    },
    {
     "data": {
      "text/html": [
       "<span style=\"color:blue\"> |-act_6: selu</span>"
      ],
      "text/plain": [
       "<IPython.core.display.HTML object>"
      ]
     },
     "metadata": {
      "tags": []
     },
     "output_type": "display_data"
    },
    {
     "data": {
      "text/html": [
       "<span style=\"color:cyan\"> |-act_7: selu</span>"
      ],
      "text/plain": [
       "<IPython.core.display.HTML object>"
      ]
     },
     "metadata": {
      "tags": []
     },
     "output_type": "display_data"
    },
    {
     "data": {
      "text/html": [
       "<span style=\"color:blue\"> |-act_8: selu</span>"
      ],
      "text/plain": [
       "<IPython.core.display.HTML object>"
      ]
     },
     "metadata": {
      "tags": []
     },
     "output_type": "display_data"
    },
    {
     "data": {
      "text/html": [
       "<span style=\"color:cyan\"> |-act_9: selu</span>"
      ],
      "text/plain": [
       "<IPython.core.display.HTML object>"
      ]
     },
     "metadata": {
      "tags": []
     },
     "output_type": "display_data"
    },
    {
     "data": {
      "text/html": [
       "<span style=\"color:blue\"> |-batch_size: 10</span>"
      ],
      "text/plain": [
       "<IPython.core.display.HTML object>"
      ]
     },
     "metadata": {
      "tags": []
     },
     "output_type": "display_data"
    },
    {
     "data": {
      "text/html": [
       "<span style=\"color:cyan\"> |-epochs: 100</span>"
      ],
      "text/plain": [
       "<IPython.core.display.HTML object>"
      ]
     },
     "metadata": {
      "tags": []
     },
     "output_type": "display_data"
    },
    {
     "data": {
      "text/html": [
       "<span style=\"color:blue\"> |-learning_rate: 0.1</span>"
      ],
      "text/plain": [
       "<IPython.core.display.HTML object>"
      ]
     },
     "metadata": {
      "tags": []
     },
     "output_type": "display_data"
    },
    {
     "data": {
      "text/html": [
       "<span style=\"color:cyan\"> |-number_of_layers: 10</span>"
      ],
      "text/plain": [
       "<IPython.core.display.HTML object>"
      ]
     },
     "metadata": {
      "tags": []
     },
     "output_type": "display_data"
    },
    {
     "data": {
      "text/html": [
       "<span style=\"color:blue\"> |-unit_0: 50</span>"
      ],
      "text/plain": [
       "<IPython.core.display.HTML object>"
      ]
     },
     "metadata": {
      "tags": []
     },
     "output_type": "display_data"
    },
    {
     "data": {
      "text/html": [
       "<span style=\"color:cyan\"> |-unit_1: 500</span>"
      ],
      "text/plain": [
       "<IPython.core.display.HTML object>"
      ]
     },
     "metadata": {
      "tags": []
     },
     "output_type": "display_data"
    },
    {
     "data": {
      "text/html": [
       "<span style=\"color:blue\"> |-unit_10: 500</span>"
      ],
      "text/plain": [
       "<IPython.core.display.HTML object>"
      ]
     },
     "metadata": {
      "tags": []
     },
     "output_type": "display_data"
    },
    {
     "data": {
      "text/html": [
       "<span style=\"color:cyan\"> |-unit_2: 500</span>"
      ],
      "text/plain": [
       "<IPython.core.display.HTML object>"
      ]
     },
     "metadata": {
      "tags": []
     },
     "output_type": "display_data"
    },
    {
     "data": {
      "text/html": [
       "<span style=\"color:blue\"> |-unit_3: 500</span>"
      ],
      "text/plain": [
       "<IPython.core.display.HTML object>"
      ]
     },
     "metadata": {
      "tags": []
     },
     "output_type": "display_data"
    },
    {
     "data": {
      "text/html": [
       "<span style=\"color:cyan\"> |-unit_4: 500</span>"
      ],
      "text/plain": [
       "<IPython.core.display.HTML object>"
      ]
     },
     "metadata": {
      "tags": []
     },
     "output_type": "display_data"
    },
    {
     "data": {
      "text/html": [
       "<span style=\"color:blue\"> |-unit_5: 500</span>"
      ],
      "text/plain": [
       "<IPython.core.display.HTML object>"
      ]
     },
     "metadata": {
      "tags": []
     },
     "output_type": "display_data"
    },
    {
     "data": {
      "text/html": [
       "<span style=\"color:cyan\"> |-unit_6: 500</span>"
      ],
      "text/plain": [
       "<IPython.core.display.HTML object>"
      ]
     },
     "metadata": {
      "tags": []
     },
     "output_type": "display_data"
    },
    {
     "data": {
      "text/html": [
       "<span style=\"color:blue\"> |-unit_7: 500</span>"
      ],
      "text/plain": [
       "<IPython.core.display.HTML object>"
      ]
     },
     "metadata": {
      "tags": []
     },
     "output_type": "display_data"
    },
    {
     "data": {
      "text/html": [
       "<span style=\"color:cyan\"> |-unit_8: 500</span>"
      ],
      "text/plain": [
       "<IPython.core.display.HTML object>"
      ]
     },
     "metadata": {
      "tags": []
     },
     "output_type": "display_data"
    },
    {
     "data": {
      "text/html": [
       "<span style=\"color:blue\"> |-unit_9: 500</span>"
      ],
      "text/plain": [
       "<IPython.core.display.HTML object>"
      ]
     },
     "metadata": {
      "tags": []
     },
     "output_type": "display_data"
    },
    {
     "name": "stdout",
     "output_type": "stream",
     "text": [
      "Epoch 1/100\n",
      "16/16 [==============================] - 0s 25ms/step - loss: 0.6586 - accuracy: 0.2901 - auc: 0.5458 - val_loss: 0.6342 - val_accuracy: 0.2985 - val_auc: 0.5261\n",
      "Epoch 2/100\n",
      "16/16 [==============================] - 0s 9ms/step - loss: 0.5793 - accuracy: 0.3955 - auc: 0.6158 - val_loss: 0.6046 - val_accuracy: 0.3163 - val_auc: 0.5517\n",
      "Epoch 3/100\n",
      "16/16 [==============================] - 0s 10ms/step - loss: 0.5522 - accuracy: 0.4192 - auc: 0.6325 - val_loss: 0.5917 - val_accuracy: 0.3418 - val_auc: 0.5629\n",
      "Epoch 4/100\n",
      "16/16 [==============================] - 0s 5ms/step - loss: 0.5404 - accuracy: 0.4268 - auc: 0.6491 - val_loss: 0.5924 - val_accuracy: 0.3418 - val_auc: 0.5631\n",
      "Epoch 5/100\n",
      "16/16 [==============================] - 0s 5ms/step - loss: 0.5351 - accuracy: 0.4243 - auc: 0.6583 - val_loss: 0.5901 - val_accuracy: 0.3367 - val_auc: 0.5647\n",
      "Epoch 6/100\n",
      "16/16 [==============================] - 0s 9ms/step - loss: 0.5324 - accuracy: 0.4319 - auc: 0.6616 - val_loss: 0.5893 - val_accuracy: 0.3444 - val_auc: 0.5672\n",
      "Epoch 7/100\n",
      "16/16 [==============================] - 0s 5ms/step - loss: 0.5307 - accuracy: 0.4326 - auc: 0.6649 - val_loss: 0.5887 - val_accuracy: 0.3418 - val_auc: 0.5766\n",
      "Epoch 8/100\n",
      "16/16 [==============================] - 0s 5ms/step - loss: 0.5292 - accuracy: 0.4281 - auc: 0.6682 - val_loss: 0.5898 - val_accuracy: 0.3444 - val_auc: 0.5769\n",
      "Epoch 9/100\n",
      "16/16 [==============================] - 0s 5ms/step - loss: 0.5269 - accuracy: 0.4358 - auc: 0.6743 - val_loss: 0.5890 - val_accuracy: 0.3444 - val_auc: 0.5787\n",
      "Epoch 10/100\n",
      "16/16 [==============================] - 0s 8ms/step - loss: 0.5263 - accuracy: 0.4390 - auc: 0.6764 - val_loss: 0.5912 - val_accuracy: 0.3495 - val_auc: 0.5705\n",
      "Epoch 11/100\n",
      "16/16 [==============================] - 0s 8ms/step - loss: 0.5262 - accuracy: 0.4383 - auc: 0.6755 - val_loss: 0.5896 - val_accuracy: 0.3520 - val_auc: 0.5751\n",
      "Epoch 12/100\n",
      "16/16 [==============================] - 0s 5ms/step - loss: 0.5243 - accuracy: 0.4364 - auc: 0.6799 - val_loss: 0.5895 - val_accuracy: 0.3495 - val_auc: 0.5742\n",
      "Epoch 13/100\n",
      "16/16 [==============================] - 0s 5ms/step - loss: 0.5230 - accuracy: 0.4447 - auc: 0.6824 - val_loss: 0.5872 - val_accuracy: 0.3444 - val_auc: 0.5841\n",
      "Epoch 14/100\n",
      "16/16 [==============================] - 0s 11ms/step - loss: 0.5217 - accuracy: 0.4345 - auc: 0.6861 - val_loss: 0.5904 - val_accuracy: 0.3571 - val_auc: 0.5735\n",
      "Epoch 15/100\n",
      "16/16 [==============================] - 0s 5ms/step - loss: 0.5216 - accuracy: 0.4403 - auc: 0.6861 - val_loss: 0.5902 - val_accuracy: 0.3418 - val_auc: 0.5807\n",
      "Epoch 16/100\n",
      "16/16 [==============================] - 0s 5ms/step - loss: 0.5213 - accuracy: 0.4377 - auc: 0.6870 - val_loss: 0.5897 - val_accuracy: 0.3520 - val_auc: 0.5778\n",
      "Epoch 17/100\n",
      "16/16 [==============================] - 0s 5ms/step - loss: 0.5198 - accuracy: 0.4454 - auc: 0.6905 - val_loss: 0.5893 - val_accuracy: 0.3444 - val_auc: 0.5812\n",
      "Epoch 18/100\n",
      "16/16 [==============================] - 0s 5ms/step - loss: 0.5184 - accuracy: 0.4415 - auc: 0.6925 - val_loss: 0.5939 - val_accuracy: 0.3418 - val_auc: 0.5761\n",
      "Epoch 19/100\n",
      "16/16 [==============================] - 0s 5ms/step - loss: 0.5189 - accuracy: 0.4422 - auc: 0.6915 - val_loss: 0.5914 - val_accuracy: 0.3520 - val_auc: 0.5765\n",
      "Epoch 20/100\n",
      "16/16 [==============================] - 0s 5ms/step - loss: 0.5177 - accuracy: 0.4415 - auc: 0.6942 - val_loss: 0.5918 - val_accuracy: 0.3520 - val_auc: 0.5712\n",
      "Epoch 21/100\n",
      "16/16 [==============================] - 0s 6ms/step - loss: 0.5184 - accuracy: 0.4422 - auc: 0.6930 - val_loss: 0.5917 - val_accuracy: 0.3393 - val_auc: 0.5739\n",
      "Epoch 22/100\n",
      "16/16 [==============================] - 0s 5ms/step - loss: 0.5160 - accuracy: 0.4422 - auc: 0.6970 - val_loss: 0.5925 - val_accuracy: 0.3469 - val_auc: 0.5744\n",
      "Epoch 23/100\n",
      "16/16 [==============================] - 0s 5ms/step - loss: 0.5162 - accuracy: 0.4473 - auc: 0.6978 - val_loss: 0.5947 - val_accuracy: 0.3316 - val_auc: 0.5677\n",
      "Epoch 24/100\n",
      "16/16 [==============================] - 0s 5ms/step - loss: 0.5155 - accuracy: 0.4403 - auc: 0.6991 - val_loss: 0.5926 - val_accuracy: 0.3495 - val_auc: 0.5729\n",
      "Epoch 25/100\n",
      "16/16 [==============================] - 0s 5ms/step - loss: 0.5145 - accuracy: 0.4466 - auc: 0.7018 - val_loss: 0.5947 - val_accuracy: 0.3367 - val_auc: 0.5736\n",
      "Epoch 26/100\n",
      "16/16 [==============================] - 0s 5ms/step - loss: 0.5146 - accuracy: 0.4447 - auc: 0.7011 - val_loss: 0.5947 - val_accuracy: 0.3444 - val_auc: 0.5742\n",
      "Epoch 27/100\n",
      "16/16 [==============================] - 0s 5ms/step - loss: 0.5138 - accuracy: 0.4492 - auc: 0.7024 - val_loss: 0.5914 - val_accuracy: 0.3418 - val_auc: 0.5757\n",
      "Epoch 28/100\n",
      "16/16 [==============================] - 0s 5ms/step - loss: 0.5127 - accuracy: 0.4511 - auc: 0.7047 - val_loss: 0.5927 - val_accuracy: 0.3393 - val_auc: 0.5740\n",
      "Epoch 29/100\n",
      "16/16 [==============================] - 0s 6ms/step - loss: 0.5114 - accuracy: 0.4454 - auc: 0.7080 - val_loss: 0.5977 - val_accuracy: 0.3367 - val_auc: 0.5677\n",
      "Epoch 30/100\n",
      "16/16 [==============================] - 0s 5ms/step - loss: 0.5119 - accuracy: 0.4466 - auc: 0.7061 - val_loss: 0.5989 - val_accuracy: 0.3316 - val_auc: 0.5661\n",
      "Epoch 31/100\n",
      "16/16 [==============================] - 0s 5ms/step - loss: 0.5112 - accuracy: 0.4511 - auc: 0.7082 - val_loss: 0.5933 - val_accuracy: 0.3342 - val_auc: 0.5795\n",
      "Epoch 32/100\n",
      "16/16 [==============================] - 0s 5ms/step - loss: 0.5110 - accuracy: 0.4422 - auc: 0.7083 - val_loss: 0.5947 - val_accuracy: 0.3469 - val_auc: 0.5714\n",
      "Epoch 33/100\n",
      "16/16 [==============================] - 0s 5ms/step - loss: 0.5099 - accuracy: 0.4454 - auc: 0.7099 - val_loss: 0.5950 - val_accuracy: 0.3495 - val_auc: 0.5720\n",
      "Epoch 34/100\n",
      "16/16 [==============================] - 0s 5ms/step - loss: 0.5094 - accuracy: 0.4492 - auc: 0.7122 - val_loss: 0.5919 - val_accuracy: 0.3495 - val_auc: 0.5817\n",
      "Epoch 35/100\n",
      "16/16 [==============================] - 0s 5ms/step - loss: 0.5085 - accuracy: 0.4492 - auc: 0.7134 - val_loss: 0.5973 - val_accuracy: 0.3367 - val_auc: 0.5752\n",
      "Epoch 36/100\n",
      "16/16 [==============================] - 0s 5ms/step - loss: 0.5082 - accuracy: 0.4524 - auc: 0.7128 - val_loss: 0.5993 - val_accuracy: 0.3342 - val_auc: 0.5672\n",
      "Epoch 37/100\n",
      "16/16 [==============================] - 0s 4ms/step - loss: 0.5078 - accuracy: 0.4441 - auc: 0.7152 - val_loss: 0.5957 - val_accuracy: 0.3495 - val_auc: 0.5735\n",
      "Epoch 38/100\n",
      "16/16 [==============================] - 0s 4ms/step - loss: 0.5066 - accuracy: 0.4607 - auc: 0.7158 - val_loss: 0.5980 - val_accuracy: 0.3291 - val_auc: 0.5711\n",
      "Epoch 39/100\n",
      "16/16 [==============================] - 0s 4ms/step - loss: 0.5066 - accuracy: 0.4486 - auc: 0.7160 - val_loss: 0.5980 - val_accuracy: 0.3291 - val_auc: 0.5694\n",
      "Epoch 40/100\n",
      "16/16 [==============================] - 0s 5ms/step - loss: 0.5050 - accuracy: 0.4479 - auc: 0.7199 - val_loss: 0.5979 - val_accuracy: 0.3291 - val_auc: 0.5757\n",
      "Epoch 41/100\n",
      "16/16 [==============================] - 0s 5ms/step - loss: 0.5046 - accuracy: 0.4530 - auc: 0.7205 - val_loss: 0.6013 - val_accuracy: 0.3240 - val_auc: 0.5662\n",
      "Epoch 42/100\n",
      "16/16 [==============================] - 0s 5ms/step - loss: 0.5048 - accuracy: 0.4556 - auc: 0.7187 - val_loss: 0.5969 - val_accuracy: 0.3444 - val_auc: 0.5744\n",
      "Epoch 43/100\n",
      "16/16 [==============================] - 0s 4ms/step - loss: 0.5040 - accuracy: 0.4594 - auc: 0.7222 - val_loss: 0.5960 - val_accuracy: 0.3240 - val_auc: 0.5759\n",
      "Epoch 44/100\n",
      "16/16 [==============================] - 0s 4ms/step - loss: 0.5030 - accuracy: 0.4575 - auc: 0.7232 - val_loss: 0.5996 - val_accuracy: 0.3367 - val_auc: 0.5743\n",
      "Epoch 45/100\n",
      "16/16 [==============================] - 0s 5ms/step - loss: 0.5031 - accuracy: 0.4569 - auc: 0.7220 - val_loss: 0.6008 - val_accuracy: 0.3316 - val_auc: 0.5664\n",
      "Epoch 46/100\n",
      "16/16 [==============================] - 0s 5ms/step - loss: 0.5018 - accuracy: 0.4562 - auc: 0.7261 - val_loss: 0.5981 - val_accuracy: 0.3418 - val_auc: 0.5717\n",
      "Epoch 47/100\n",
      "16/16 [==============================] - 0s 5ms/step - loss: 0.5012 - accuracy: 0.4492 - auc: 0.7258 - val_loss: 0.6032 - val_accuracy: 0.3061 - val_auc: 0.5654\n",
      "Epoch 48/100\n",
      "16/16 [==============================] - 0s 4ms/step - loss: 0.5006 - accuracy: 0.4543 - auc: 0.7272 - val_loss: 0.6020 - val_accuracy: 0.3342 - val_auc: 0.5673\n",
      "Epoch 49/100\n",
      "16/16 [==============================] - 0s 5ms/step - loss: 0.5001 - accuracy: 0.4671 - auc: 0.7280 - val_loss: 0.6053 - val_accuracy: 0.3163 - val_auc: 0.5656\n",
      "Epoch 50/100\n",
      "16/16 [==============================] - 0s 4ms/step - loss: 0.4997 - accuracy: 0.4588 - auc: 0.7280 - val_loss: 0.5999 - val_accuracy: 0.3163 - val_auc: 0.5752\n",
      "Epoch 51/100\n",
      "16/16 [==============================] - 0s 5ms/step - loss: 0.4998 - accuracy: 0.4645 - auc: 0.7281 - val_loss: 0.6058 - val_accuracy: 0.3087 - val_auc: 0.5648\n",
      "Epoch 52/100\n",
      "16/16 [==============================] - 0s 5ms/step - loss: 0.4989 - accuracy: 0.4575 - auc: 0.7294 - val_loss: 0.6053 - val_accuracy: 0.3189 - val_auc: 0.5678\n",
      "Epoch 53/100\n",
      "16/16 [==============================] - 0s 5ms/step - loss: 0.4974 - accuracy: 0.4652 - auc: 0.7320 - val_loss: 0.6068 - val_accuracy: 0.3393 - val_auc: 0.5647\n",
      "Epoch 54/100\n",
      "16/16 [==============================] - 0s 4ms/step - loss: 0.4976 - accuracy: 0.4562 - auc: 0.7324 - val_loss: 0.6017 - val_accuracy: 0.3342 - val_auc: 0.5724\n",
      "Epoch 55/100\n",
      "16/16 [==============================] - 0s 4ms/step - loss: 0.4982 - accuracy: 0.4601 - auc: 0.7305 - val_loss: 0.6046 - val_accuracy: 0.3240 - val_auc: 0.5657\n",
      "Epoch 56/100\n",
      "16/16 [==============================] - 0s 4ms/step - loss: 0.4967 - accuracy: 0.4607 - auc: 0.7333 - val_loss: 0.6100 - val_accuracy: 0.3138 - val_auc: 0.5657\n",
      "Epoch 57/100\n",
      "16/16 [==============================] - 0s 4ms/step - loss: 0.4961 - accuracy: 0.4569 - auc: 0.7340 - val_loss: 0.6078 - val_accuracy: 0.3138 - val_auc: 0.5631\n",
      "Epoch 58/100\n",
      "16/16 [==============================] - 0s 4ms/step - loss: 0.4952 - accuracy: 0.4645 - auc: 0.7358 - val_loss: 0.6114 - val_accuracy: 0.3010 - val_auc: 0.5627\n",
      "Epoch 59/100\n",
      "16/16 [==============================] - 0s 4ms/step - loss: 0.4948 - accuracy: 0.4613 - auc: 0.7367 - val_loss: 0.6065 - val_accuracy: 0.2934 - val_auc: 0.5680\n",
      "Epoch 60/100\n",
      "16/16 [==============================] - 0s 4ms/step - loss: 0.4951 - accuracy: 0.4665 - auc: 0.7351 - val_loss: 0.6051 - val_accuracy: 0.3112 - val_auc: 0.5689\n",
      "Epoch 61/100\n",
      "16/16 [==============================] - 0s 4ms/step - loss: 0.4932 - accuracy: 0.4658 - auc: 0.7387 - val_loss: 0.6088 - val_accuracy: 0.3112 - val_auc: 0.5656\n",
      "Epoch 62/100\n",
      "16/16 [==============================] - 0s 4ms/step - loss: 0.4932 - accuracy: 0.4575 - auc: 0.7389 - val_loss: 0.6063 - val_accuracy: 0.3163 - val_auc: 0.5664\n",
      "Epoch 63/100\n",
      "16/16 [==============================] - 0s 5ms/step - loss: 0.4916 - accuracy: 0.4601 - auc: 0.7411 - val_loss: 0.6103 - val_accuracy: 0.3316 - val_auc: 0.5690\n",
      "Epoch 64/100\n",
      "16/16 [==============================] - 0s 4ms/step - loss: 0.4923 - accuracy: 0.4639 - auc: 0.7399 - val_loss: 0.6089 - val_accuracy: 0.3214 - val_auc: 0.5700\n",
      "Epoch 65/100\n",
      "16/16 [==============================] - 0s 4ms/step - loss: 0.4899 - accuracy: 0.4805 - auc: 0.7447 - val_loss: 0.6060 - val_accuracy: 0.3163 - val_auc: 0.5695\n",
      "Epoch 66/100\n",
      "16/16 [==============================] - 0s 4ms/step - loss: 0.4904 - accuracy: 0.4760 - auc: 0.7435 - val_loss: 0.6088 - val_accuracy: 0.3138 - val_auc: 0.5665\n",
      "Epoch 67/100\n",
      "16/16 [==============================] - 0s 4ms/step - loss: 0.4898 - accuracy: 0.4684 - auc: 0.7434 - val_loss: 0.6072 - val_accuracy: 0.3240 - val_auc: 0.5732\n",
      "Epoch 68/100\n",
      "16/16 [==============================] - 0s 4ms/step - loss: 0.4890 - accuracy: 0.4658 - auc: 0.7452 - val_loss: 0.6135 - val_accuracy: 0.3214 - val_auc: 0.5618\n",
      "Epoch 69/100\n",
      "16/16 [==============================] - 0s 4ms/step - loss: 0.4884 - accuracy: 0.4620 - auc: 0.7470 - val_loss: 0.6147 - val_accuracy: 0.3112 - val_auc: 0.5665\n",
      "Epoch 70/100\n",
      "16/16 [==============================] - 0s 4ms/step - loss: 0.4867 - accuracy: 0.4652 - auc: 0.7493 - val_loss: 0.6159 - val_accuracy: 0.3163 - val_auc: 0.5617\n",
      "Epoch 71/100\n",
      "16/16 [==============================] - 0s 4ms/step - loss: 0.4871 - accuracy: 0.4728 - auc: 0.7481 - val_loss: 0.6120 - val_accuracy: 0.3087 - val_auc: 0.5641\n",
      "Epoch 72/100\n",
      "16/16 [==============================] - 0s 4ms/step - loss: 0.4858 - accuracy: 0.4665 - auc: 0.7506 - val_loss: 0.6199 - val_accuracy: 0.2883 - val_auc: 0.5614\n",
      "Epoch 73/100\n",
      "16/16 [==============================] - 0s 4ms/step - loss: 0.4860 - accuracy: 0.4677 - auc: 0.7495 - val_loss: 0.6143 - val_accuracy: 0.3061 - val_auc: 0.5605\n",
      "Epoch 74/100\n",
      "16/16 [==============================] - 0s 4ms/step - loss: 0.4858 - accuracy: 0.4569 - auc: 0.7497 - val_loss: 0.6138 - val_accuracy: 0.3138 - val_auc: 0.5648\n",
      "Epoch 75/100\n",
      "16/16 [==============================] - 0s 4ms/step - loss: 0.4839 - accuracy: 0.4728 - auc: 0.7534 - val_loss: 0.6115 - val_accuracy: 0.3163 - val_auc: 0.5657\n",
      "Epoch 76/100\n",
      "16/16 [==============================] - 0s 5ms/step - loss: 0.4837 - accuracy: 0.4677 - auc: 0.7541 - val_loss: 0.6169 - val_accuracy: 0.3265 - val_auc: 0.5627\n",
      "Epoch 77/100\n",
      "16/16 [==============================] - 0s 4ms/step - loss: 0.4860 - accuracy: 0.4773 - auc: 0.7502 - val_loss: 0.6152 - val_accuracy: 0.2934 - val_auc: 0.5578\n",
      "Epoch 78/100\n",
      "16/16 [==============================] - 0s 4ms/step - loss: 0.4823 - accuracy: 0.4767 - auc: 0.7559 - val_loss: 0.6105 - val_accuracy: 0.3138 - val_auc: 0.5703\n",
      "Epoch 79/100\n",
      "16/16 [==============================] - 0s 4ms/step - loss: 0.4813 - accuracy: 0.4818 - auc: 0.7569 - val_loss: 0.6200 - val_accuracy: 0.2730 - val_auc: 0.5605\n",
      "Epoch 80/100\n",
      "16/16 [==============================] - 0s 4ms/step - loss: 0.4795 - accuracy: 0.4741 - auc: 0.7607 - val_loss: 0.6139 - val_accuracy: 0.3112 - val_auc: 0.5653\n",
      "Epoch 81/100\n",
      "16/16 [==============================] - 0s 4ms/step - loss: 0.4787 - accuracy: 0.4741 - auc: 0.7616 - val_loss: 0.6322 - val_accuracy: 0.2704 - val_auc: 0.5627\n",
      "Epoch 82/100\n",
      "16/16 [==============================] - 0s 4ms/step - loss: 0.4789 - accuracy: 0.4856 - auc: 0.7599 - val_loss: 0.6347 - val_accuracy: 0.2679 - val_auc: 0.5470\n",
      "Epoch 83/100\n",
      "16/16 [==============================] - 0s 4ms/step - loss: 0.4802 - accuracy: 0.4652 - auc: 0.7581 - val_loss: 0.6295 - val_accuracy: 0.2934 - val_auc: 0.5549\n",
      "Epoch 84/100\n",
      "16/16 [==============================] - 0s 5ms/step - loss: 0.4777 - accuracy: 0.4850 - auc: 0.7627 - val_loss: 0.6152 - val_accuracy: 0.3061 - val_auc: 0.5670\n",
      "Epoch 85/100\n",
      "16/16 [==============================] - 0s 4ms/step - loss: 0.4763 - accuracy: 0.4671 - auc: 0.7640 - val_loss: 0.6226 - val_accuracy: 0.2908 - val_auc: 0.5650\n",
      "Epoch 86/100\n",
      "16/16 [==============================] - 0s 4ms/step - loss: 0.4768 - accuracy: 0.4792 - auc: 0.7633 - val_loss: 0.6288 - val_accuracy: 0.2602 - val_auc: 0.5615\n",
      "Epoch 87/100\n",
      "16/16 [==============================] - 0s 5ms/step - loss: 0.4749 - accuracy: 0.4863 - auc: 0.7661 - val_loss: 0.6191 - val_accuracy: 0.3087 - val_auc: 0.5708\n",
      "Epoch 88/100\n",
      "16/16 [==============================] - 0s 4ms/step - loss: 0.4758 - accuracy: 0.4773 - auc: 0.7651 - val_loss: 0.6175 - val_accuracy: 0.3061 - val_auc: 0.5699\n",
      "Epoch 89/100\n",
      "16/16 [==============================] - 0s 4ms/step - loss: 0.4740 - accuracy: 0.4805 - auc: 0.7672 - val_loss: 0.6227 - val_accuracy: 0.3240 - val_auc: 0.5640\n",
      "Epoch 90/100\n",
      "16/16 [==============================] - 0s 6ms/step - loss: 0.4738 - accuracy: 0.4812 - auc: 0.7672 - val_loss: 0.6235 - val_accuracy: 0.3010 - val_auc: 0.5618\n",
      "Epoch 91/100\n",
      "16/16 [==============================] - 0s 4ms/step - loss: 0.4721 - accuracy: 0.4735 - auc: 0.7712 - val_loss: 0.6238 - val_accuracy: 0.2755 - val_auc: 0.5644\n",
      "Epoch 92/100\n",
      "16/16 [==============================] - 0s 4ms/step - loss: 0.4718 - accuracy: 0.4773 - auc: 0.7705 - val_loss: 0.6256 - val_accuracy: 0.2985 - val_auc: 0.5681\n",
      "Epoch 93/100\n",
      "16/16 [==============================] - 0s 4ms/step - loss: 0.4739 - accuracy: 0.4773 - auc: 0.7668 - val_loss: 0.6239 - val_accuracy: 0.2934 - val_auc: 0.5566\n",
      "Epoch 94/100\n",
      "16/16 [==============================] - 0s 4ms/step - loss: 0.4730 - accuracy: 0.4748 - auc: 0.7685 - val_loss: 0.6275 - val_accuracy: 0.2832 - val_auc: 0.5481\n",
      "Epoch 95/100\n",
      "16/16 [==============================] - 0s 4ms/step - loss: 0.4723 - accuracy: 0.4920 - auc: 0.7704 - val_loss: 0.6348 - val_accuracy: 0.2628 - val_auc: 0.5468\n",
      "Epoch 96/100\n",
      "16/16 [==============================] - 0s 5ms/step - loss: 0.4705 - accuracy: 0.4773 - auc: 0.7723 - val_loss: 0.6326 - val_accuracy: 0.2806 - val_auc: 0.5501\n",
      "Epoch 97/100\n",
      "16/16 [==============================] - 0s 4ms/step - loss: 0.4704 - accuracy: 0.4837 - auc: 0.7722 - val_loss: 0.6288 - val_accuracy: 0.2806 - val_auc: 0.5561\n",
      "Epoch 98/100\n",
      "16/16 [==============================] - 0s 4ms/step - loss: 0.4702 - accuracy: 0.4792 - auc: 0.7718 - val_loss: 0.6396 - val_accuracy: 0.2730 - val_auc: 0.5446\n",
      "Epoch 99/100\n",
      "16/16 [==============================] - 0s 4ms/step - loss: 0.4691 - accuracy: 0.4665 - auc: 0.7719 - val_loss: 0.6294 - val_accuracy: 0.2908 - val_auc: 0.5570\n",
      "Epoch 100/100\n",
      "16/16 [==============================] - 0s 4ms/step - loss: 0.4675 - accuracy: 0.4888 - auc: 0.7760 - val_loss: 0.6337 - val_accuracy: 0.2959 - val_auc: 0.5584\n",
      "Epoch 1/100\n",
      "16/16 [==============================] - 0s 20ms/step - loss: 0.6737 - accuracy: 0.2288 - auc: 0.5176 - val_loss: 0.6398 - val_accuracy: 0.2577 - val_auc: 0.5266\n",
      "Epoch 2/100\n",
      "16/16 [==============================] - 0s 4ms/step - loss: 0.5924 - accuracy: 0.3604 - auc: 0.6045 - val_loss: 0.6038 - val_accuracy: 0.2934 - val_auc: 0.5559\n",
      "Epoch 3/100\n",
      "16/16 [==============================] - 0s 5ms/step - loss: 0.5586 - accuracy: 0.3987 - auc: 0.6385 - val_loss: 0.5958 - val_accuracy: 0.3010 - val_auc: 0.5528\n",
      "Epoch 4/100\n",
      "16/16 [==============================] - 0s 4ms/step - loss: 0.5442 - accuracy: 0.4179 - auc: 0.6502 - val_loss: 0.5838 - val_accuracy: 0.3418 - val_auc: 0.5749\n",
      "Epoch 5/100\n",
      "16/16 [==============================] - 0s 4ms/step - loss: 0.5369 - accuracy: 0.4300 - auc: 0.6562 - val_loss: 0.5837 - val_accuracy: 0.3418 - val_auc: 0.5763\n",
      "Epoch 6/100\n",
      "16/16 [==============================] - 0s 4ms/step - loss: 0.5321 - accuracy: 0.4288 - auc: 0.6657 - val_loss: 0.5833 - val_accuracy: 0.3393 - val_auc: 0.5823\n",
      "Epoch 7/100\n",
      "16/16 [==============================] - 0s 4ms/step - loss: 0.5295 - accuracy: 0.4364 - auc: 0.6694 - val_loss: 0.5871 - val_accuracy: 0.3214 - val_auc: 0.5727\n",
      "Epoch 8/100\n",
      "16/16 [==============================] - 0s 6ms/step - loss: 0.5288 - accuracy: 0.4281 - auc: 0.6707 - val_loss: 0.5848 - val_accuracy: 0.3367 - val_auc: 0.5850\n",
      "Epoch 9/100\n",
      "16/16 [==============================] - 0s 4ms/step - loss: 0.5273 - accuracy: 0.4345 - auc: 0.6725 - val_loss: 0.5843 - val_accuracy: 0.3393 - val_auc: 0.5841\n",
      "Epoch 10/100\n",
      "16/16 [==============================] - 0s 5ms/step - loss: 0.5257 - accuracy: 0.4326 - auc: 0.6773 - val_loss: 0.5856 - val_accuracy: 0.3393 - val_auc: 0.5835\n",
      "Epoch 11/100\n",
      "16/16 [==============================] - 0s 5ms/step - loss: 0.5246 - accuracy: 0.4345 - auc: 0.6793 - val_loss: 0.5863 - val_accuracy: 0.3316 - val_auc: 0.5810\n",
      "Epoch 12/100\n",
      "16/16 [==============================] - 0s 4ms/step - loss: 0.5243 - accuracy: 0.4351 - auc: 0.6808 - val_loss: 0.5881 - val_accuracy: 0.3240 - val_auc: 0.5816\n",
      "Epoch 13/100\n",
      "16/16 [==============================] - 0s 4ms/step - loss: 0.5235 - accuracy: 0.4319 - auc: 0.6826 - val_loss: 0.5845 - val_accuracy: 0.3367 - val_auc: 0.5886\n",
      "Epoch 14/100\n",
      "16/16 [==============================] - 0s 4ms/step - loss: 0.5226 - accuracy: 0.4358 - auc: 0.6840 - val_loss: 0.5859 - val_accuracy: 0.3367 - val_auc: 0.5856\n",
      "Epoch 15/100\n",
      "16/16 [==============================] - 0s 4ms/step - loss: 0.5223 - accuracy: 0.4319 - auc: 0.6847 - val_loss: 0.5852 - val_accuracy: 0.3393 - val_auc: 0.5913\n",
      "Epoch 16/100\n",
      "16/16 [==============================] - 0s 4ms/step - loss: 0.5211 - accuracy: 0.4351 - auc: 0.6867 - val_loss: 0.5856 - val_accuracy: 0.3367 - val_auc: 0.5889\n",
      "Epoch 17/100\n",
      "16/16 [==============================] - 0s 4ms/step - loss: 0.5209 - accuracy: 0.4351 - auc: 0.6875 - val_loss: 0.5871 - val_accuracy: 0.3342 - val_auc: 0.5881\n",
      "Epoch 18/100\n",
      "16/16 [==============================] - 0s 4ms/step - loss: 0.5199 - accuracy: 0.4332 - auc: 0.6898 - val_loss: 0.5891 - val_accuracy: 0.3316 - val_auc: 0.5816\n",
      "Epoch 19/100\n",
      "16/16 [==============================] - 0s 4ms/step - loss: 0.5186 - accuracy: 0.4345 - auc: 0.6923 - val_loss: 0.5876 - val_accuracy: 0.3444 - val_auc: 0.5915\n",
      "Epoch 20/100\n",
      "16/16 [==============================] - 0s 4ms/step - loss: 0.5186 - accuracy: 0.4383 - auc: 0.6915 - val_loss: 0.5900 - val_accuracy: 0.3291 - val_auc: 0.5811\n",
      "Epoch 21/100\n",
      "16/16 [==============================] - 0s 4ms/step - loss: 0.5182 - accuracy: 0.4403 - auc: 0.6941 - val_loss: 0.5900 - val_accuracy: 0.3291 - val_auc: 0.5861\n",
      "Epoch 22/100\n",
      "16/16 [==============================] - 0s 5ms/step - loss: 0.5175 - accuracy: 0.4377 - auc: 0.6932 - val_loss: 0.5900 - val_accuracy: 0.3342 - val_auc: 0.5880\n",
      "Epoch 23/100\n",
      "16/16 [==============================] - 0s 4ms/step - loss: 0.5168 - accuracy: 0.4371 - auc: 0.6960 - val_loss: 0.5892 - val_accuracy: 0.3444 - val_auc: 0.5867\n",
      "Epoch 24/100\n",
      "16/16 [==============================] - 0s 4ms/step - loss: 0.5168 - accuracy: 0.4435 - auc: 0.6956 - val_loss: 0.5900 - val_accuracy: 0.3444 - val_auc: 0.5840\n",
      "Epoch 25/100\n",
      "16/16 [==============================] - 0s 4ms/step - loss: 0.5163 - accuracy: 0.4358 - auc: 0.6969 - val_loss: 0.5892 - val_accuracy: 0.3342 - val_auc: 0.5863\n",
      "Epoch 26/100\n",
      "16/16 [==============================] - 0s 4ms/step - loss: 0.5150 - accuracy: 0.4428 - auc: 0.6996 - val_loss: 0.5888 - val_accuracy: 0.3393 - val_auc: 0.5861\n",
      "Epoch 27/100\n",
      "16/16 [==============================] - 0s 4ms/step - loss: 0.5149 - accuracy: 0.4313 - auc: 0.7000 - val_loss: 0.5903 - val_accuracy: 0.3418 - val_auc: 0.5875\n",
      "Epoch 28/100\n",
      "16/16 [==============================] - 0s 5ms/step - loss: 0.5132 - accuracy: 0.4409 - auc: 0.7025 - val_loss: 0.5896 - val_accuracy: 0.3418 - val_auc: 0.5875\n",
      "Epoch 29/100\n",
      "16/16 [==============================] - 0s 4ms/step - loss: 0.5140 - accuracy: 0.4403 - auc: 0.7020 - val_loss: 0.5908 - val_accuracy: 0.3393 - val_auc: 0.5881\n",
      "Epoch 30/100\n",
      "16/16 [==============================] - 0s 4ms/step - loss: 0.5134 - accuracy: 0.4435 - auc: 0.7029 - val_loss: 0.5895 - val_accuracy: 0.3316 - val_auc: 0.5898\n",
      "Epoch 31/100\n",
      "16/16 [==============================] - 0s 4ms/step - loss: 0.5129 - accuracy: 0.4403 - auc: 0.7031 - val_loss: 0.5903 - val_accuracy: 0.3189 - val_auc: 0.5900\n",
      "Epoch 32/100\n",
      "16/16 [==============================] - 0s 4ms/step - loss: 0.5125 - accuracy: 0.4435 - auc: 0.7044 - val_loss: 0.5894 - val_accuracy: 0.3444 - val_auc: 0.5903\n",
      "Epoch 33/100\n",
      "16/16 [==============================] - 0s 4ms/step - loss: 0.5117 - accuracy: 0.4422 - auc: 0.7065 - val_loss: 0.5896 - val_accuracy: 0.3444 - val_auc: 0.5887\n",
      "Epoch 34/100\n",
      "16/16 [==============================] - 0s 5ms/step - loss: 0.5108 - accuracy: 0.4460 - auc: 0.7076 - val_loss: 0.5927 - val_accuracy: 0.3189 - val_auc: 0.5854\n",
      "Epoch 35/100\n",
      "16/16 [==============================] - 0s 4ms/step - loss: 0.5100 - accuracy: 0.4428 - auc: 0.7088 - val_loss: 0.5956 - val_accuracy: 0.3291 - val_auc: 0.5810\n",
      "Epoch 36/100\n",
      "16/16 [==============================] - 0s 4ms/step - loss: 0.5103 - accuracy: 0.4454 - auc: 0.7092 - val_loss: 0.5905 - val_accuracy: 0.3291 - val_auc: 0.5894\n",
      "Epoch 37/100\n",
      "16/16 [==============================] - 0s 4ms/step - loss: 0.5085 - accuracy: 0.4479 - auc: 0.7120 - val_loss: 0.5905 - val_accuracy: 0.3367 - val_auc: 0.5920\n",
      "Epoch 38/100\n",
      "16/16 [==============================] - 0s 5ms/step - loss: 0.5090 - accuracy: 0.4511 - auc: 0.7113 - val_loss: 0.5915 - val_accuracy: 0.3342 - val_auc: 0.5885\n",
      "Epoch 39/100\n",
      "16/16 [==============================] - 0s 5ms/step - loss: 0.5084 - accuracy: 0.4447 - auc: 0.7116 - val_loss: 0.5895 - val_accuracy: 0.3342 - val_auc: 0.5908\n",
      "Epoch 40/100\n",
      "16/16 [==============================] - 0s 4ms/step - loss: 0.5074 - accuracy: 0.4505 - auc: 0.7136 - val_loss: 0.5968 - val_accuracy: 0.3189 - val_auc: 0.5763\n",
      "Epoch 41/100\n",
      "16/16 [==============================] - 0s 4ms/step - loss: 0.5081 - accuracy: 0.4422 - auc: 0.7130 - val_loss: 0.5954 - val_accuracy: 0.3367 - val_auc: 0.5863\n",
      "Epoch 42/100\n",
      "16/16 [==============================] - 0s 4ms/step - loss: 0.5072 - accuracy: 0.4473 - auc: 0.7148 - val_loss: 0.5954 - val_accuracy: 0.3291 - val_auc: 0.5821\n",
      "Epoch 43/100\n",
      "16/16 [==============================] - 0s 5ms/step - loss: 0.5056 - accuracy: 0.4505 - auc: 0.7172 - val_loss: 0.5958 - val_accuracy: 0.3316 - val_auc: 0.5841\n",
      "Epoch 44/100\n",
      "16/16 [==============================] - 0s 4ms/step - loss: 0.5051 - accuracy: 0.4511 - auc: 0.7181 - val_loss: 0.5983 - val_accuracy: 0.3087 - val_auc: 0.5823\n",
      "Epoch 45/100\n",
      "16/16 [==============================] - 0s 4ms/step - loss: 0.5060 - accuracy: 0.4479 - auc: 0.7167 - val_loss: 0.5949 - val_accuracy: 0.3265 - val_auc: 0.5864\n",
      "Epoch 46/100\n",
      "16/16 [==============================] - 0s 4ms/step - loss: 0.5042 - accuracy: 0.4518 - auc: 0.7199 - val_loss: 0.5992 - val_accuracy: 0.3291 - val_auc: 0.5782\n",
      "Epoch 47/100\n",
      "16/16 [==============================] - 0s 4ms/step - loss: 0.5044 - accuracy: 0.4530 - auc: 0.7194 - val_loss: 0.5945 - val_accuracy: 0.3291 - val_auc: 0.5894\n",
      "Epoch 48/100\n",
      "16/16 [==============================] - 0s 4ms/step - loss: 0.5030 - accuracy: 0.4543 - auc: 0.7212 - val_loss: 0.5989 - val_accuracy: 0.3189 - val_auc: 0.5828\n",
      "Epoch 49/100\n",
      "16/16 [==============================] - 0s 5ms/step - loss: 0.5034 - accuracy: 0.4473 - auc: 0.7213 - val_loss: 0.5928 - val_accuracy: 0.3265 - val_auc: 0.5891\n",
      "Epoch 50/100\n",
      "16/16 [==============================] - 0s 4ms/step - loss: 0.5024 - accuracy: 0.4518 - auc: 0.7232 - val_loss: 0.5953 - val_accuracy: 0.3265 - val_auc: 0.5886\n",
      "Epoch 51/100\n",
      "16/16 [==============================] - 0s 4ms/step - loss: 0.5018 - accuracy: 0.4466 - auc: 0.7244 - val_loss: 0.5933 - val_accuracy: 0.3342 - val_auc: 0.5907\n",
      "Epoch 52/100\n",
      "16/16 [==============================] - 0s 4ms/step - loss: 0.5019 - accuracy: 0.4607 - auc: 0.7237 - val_loss: 0.5992 - val_accuracy: 0.3240 - val_auc: 0.5799\n",
      "Epoch 53/100\n",
      "16/16 [==============================] - 0s 4ms/step - loss: 0.5013 - accuracy: 0.4466 - auc: 0.7246 - val_loss: 0.5972 - val_accuracy: 0.3265 - val_auc: 0.5865\n",
      "Epoch 54/100\n",
      "16/16 [==============================] - 0s 4ms/step - loss: 0.5005 - accuracy: 0.4575 - auc: 0.7254 - val_loss: 0.5938 - val_accuracy: 0.3214 - val_auc: 0.5904\n",
      "Epoch 55/100\n",
      "16/16 [==============================] - 0s 5ms/step - loss: 0.4991 - accuracy: 0.4633 - auc: 0.7283 - val_loss: 0.5951 - val_accuracy: 0.3342 - val_auc: 0.5862\n",
      "Epoch 56/100\n",
      "16/16 [==============================] - 0s 5ms/step - loss: 0.4997 - accuracy: 0.4601 - auc: 0.7280 - val_loss: 0.5981 - val_accuracy: 0.3112 - val_auc: 0.5810\n",
      "Epoch 57/100\n",
      "16/16 [==============================] - 0s 4ms/step - loss: 0.4986 - accuracy: 0.4537 - auc: 0.7297 - val_loss: 0.5948 - val_accuracy: 0.3240 - val_auc: 0.5887\n",
      "Epoch 58/100\n",
      "16/16 [==============================] - 0s 5ms/step - loss: 0.4977 - accuracy: 0.4588 - auc: 0.7313 - val_loss: 0.6001 - val_accuracy: 0.3240 - val_auc: 0.5840\n",
      "Epoch 59/100\n",
      "16/16 [==============================] - 0s 4ms/step - loss: 0.4980 - accuracy: 0.4543 - auc: 0.7301 - val_loss: 0.5950 - val_accuracy: 0.3240 - val_auc: 0.5894\n",
      "Epoch 60/100\n",
      "16/16 [==============================] - 0s 4ms/step - loss: 0.4969 - accuracy: 0.4505 - auc: 0.7323 - val_loss: 0.5984 - val_accuracy: 0.3163 - val_auc: 0.5859\n",
      "Epoch 61/100\n",
      "16/16 [==============================] - 0s 4ms/step - loss: 0.4976 - accuracy: 0.4601 - auc: 0.7297 - val_loss: 0.6010 - val_accuracy: 0.3189 - val_auc: 0.5825\n",
      "Epoch 62/100\n",
      "16/16 [==============================] - 0s 4ms/step - loss: 0.4957 - accuracy: 0.4588 - auc: 0.7341 - val_loss: 0.5987 - val_accuracy: 0.3240 - val_auc: 0.5887\n",
      "Epoch 63/100\n",
      "16/16 [==============================] - 0s 4ms/step - loss: 0.4940 - accuracy: 0.4601 - auc: 0.7370 - val_loss: 0.5993 - val_accuracy: 0.3214 - val_auc: 0.5841\n",
      "Epoch 64/100\n",
      "16/16 [==============================] - 0s 4ms/step - loss: 0.4956 - accuracy: 0.4658 - auc: 0.7331 - val_loss: 0.5970 - val_accuracy: 0.3240 - val_auc: 0.5871\n",
      "Epoch 65/100\n",
      "16/16 [==============================] - 0s 4ms/step - loss: 0.4940 - accuracy: 0.4652 - auc: 0.7366 - val_loss: 0.6022 - val_accuracy: 0.3087 - val_auc: 0.5813\n",
      "Epoch 66/100\n",
      "16/16 [==============================] - 0s 4ms/step - loss: 0.4942 - accuracy: 0.4639 - auc: 0.7357 - val_loss: 0.6036 - val_accuracy: 0.3138 - val_auc: 0.5809\n",
      "Epoch 67/100\n",
      "16/16 [==============================] - 0s 6ms/step - loss: 0.4925 - accuracy: 0.4645 - auc: 0.7397 - val_loss: 0.6053 - val_accuracy: 0.3189 - val_auc: 0.5786\n",
      "Epoch 68/100\n",
      "16/16 [==============================] - 0s 4ms/step - loss: 0.4923 - accuracy: 0.4677 - auc: 0.7399 - val_loss: 0.6062 - val_accuracy: 0.3112 - val_auc: 0.5762\n",
      "Epoch 69/100\n",
      "16/16 [==============================] - 0s 4ms/step - loss: 0.4921 - accuracy: 0.4652 - auc: 0.7390 - val_loss: 0.6007 - val_accuracy: 0.3291 - val_auc: 0.5863\n",
      "Epoch 70/100\n",
      "16/16 [==============================] - 0s 5ms/step - loss: 0.4907 - accuracy: 0.4626 - auc: 0.7420 - val_loss: 0.6117 - val_accuracy: 0.3087 - val_auc: 0.5712\n",
      "Epoch 71/100\n",
      "16/16 [==============================] - 0s 4ms/step - loss: 0.4893 - accuracy: 0.4665 - auc: 0.7436 - val_loss: 0.6015 - val_accuracy: 0.3138 - val_auc: 0.5857\n",
      "Epoch 72/100\n",
      "16/16 [==============================] - 0s 4ms/step - loss: 0.4894 - accuracy: 0.4690 - auc: 0.7434 - val_loss: 0.6063 - val_accuracy: 0.3112 - val_auc: 0.5797\n",
      "Epoch 73/100\n",
      "16/16 [==============================] - 0s 5ms/step - loss: 0.4893 - accuracy: 0.4677 - auc: 0.7438 - val_loss: 0.6044 - val_accuracy: 0.3189 - val_auc: 0.5840\n",
      "Epoch 74/100\n",
      "16/16 [==============================] - 0s 4ms/step - loss: 0.4906 - accuracy: 0.4652 - auc: 0.7417 - val_loss: 0.5994 - val_accuracy: 0.3163 - val_auc: 0.5896\n",
      "Epoch 75/100\n",
      "16/16 [==============================] - 0s 4ms/step - loss: 0.4876 - accuracy: 0.4703 - auc: 0.7475 - val_loss: 0.6066 - val_accuracy: 0.3163 - val_auc: 0.5847\n",
      "Epoch 76/100\n",
      "16/16 [==============================] - 0s 4ms/step - loss: 0.4860 - accuracy: 0.4684 - auc: 0.7492 - val_loss: 0.6039 - val_accuracy: 0.3240 - val_auc: 0.5875\n",
      "Epoch 77/100\n",
      "16/16 [==============================] - 0s 4ms/step - loss: 0.4867 - accuracy: 0.4652 - auc: 0.7490 - val_loss: 0.6038 - val_accuracy: 0.3061 - val_auc: 0.5878\n",
      "Epoch 78/100\n",
      "16/16 [==============================] - 0s 4ms/step - loss: 0.4857 - accuracy: 0.4722 - auc: 0.7494 - val_loss: 0.6067 - val_accuracy: 0.3163 - val_auc: 0.5842\n",
      "Epoch 79/100\n",
      "16/16 [==============================] - 0s 4ms/step - loss: 0.4855 - accuracy: 0.4607 - auc: 0.7494 - val_loss: 0.6090 - val_accuracy: 0.3087 - val_auc: 0.5799\n",
      "Epoch 80/100\n",
      "16/16 [==============================] - 0s 4ms/step - loss: 0.4850 - accuracy: 0.4805 - auc: 0.7504 - val_loss: 0.6047 - val_accuracy: 0.3061 - val_auc: 0.5865\n",
      "Epoch 81/100\n",
      "16/16 [==============================] - 0s 4ms/step - loss: 0.4850 - accuracy: 0.4690 - auc: 0.7506 - val_loss: 0.6062 - val_accuracy: 0.3036 - val_auc: 0.5843\n",
      "Epoch 82/100\n",
      "16/16 [==============================] - 0s 5ms/step - loss: 0.4821 - accuracy: 0.4709 - auc: 0.7541 - val_loss: 0.6174 - val_accuracy: 0.2959 - val_auc: 0.5695\n",
      "Epoch 83/100\n",
      "16/16 [==============================] - 0s 4ms/step - loss: 0.4832 - accuracy: 0.4786 - auc: 0.7534 - val_loss: 0.6090 - val_accuracy: 0.3036 - val_auc: 0.5783\n",
      "Epoch 84/100\n",
      "16/16 [==============================] - 0s 4ms/step - loss: 0.4833 - accuracy: 0.4773 - auc: 0.7539 - val_loss: 0.6172 - val_accuracy: 0.3087 - val_auc: 0.5730\n",
      "Epoch 85/100\n",
      "16/16 [==============================] - 0s 4ms/step - loss: 0.4811 - accuracy: 0.4773 - auc: 0.7554 - val_loss: 0.6137 - val_accuracy: 0.2985 - val_auc: 0.5751\n",
      "Epoch 86/100\n",
      "16/16 [==============================] - 0s 4ms/step - loss: 0.4801 - accuracy: 0.4805 - auc: 0.7580 - val_loss: 0.6080 - val_accuracy: 0.3112 - val_auc: 0.5838\n",
      "Epoch 87/100\n",
      "16/16 [==============================] - 0s 4ms/step - loss: 0.4788 - accuracy: 0.4754 - auc: 0.7603 - val_loss: 0.6165 - val_accuracy: 0.2934 - val_auc: 0.5755\n",
      "Epoch 88/100\n",
      "16/16 [==============================] - 0s 5ms/step - loss: 0.4799 - accuracy: 0.4728 - auc: 0.7582 - val_loss: 0.6287 - val_accuracy: 0.2883 - val_auc: 0.5650\n",
      "Epoch 89/100\n",
      "16/16 [==============================] - 0s 5ms/step - loss: 0.4797 - accuracy: 0.4812 - auc: 0.7567 - val_loss: 0.6221 - val_accuracy: 0.3010 - val_auc: 0.5712\n",
      "Epoch 90/100\n",
      "16/16 [==============================] - 0s 4ms/step - loss: 0.4775 - accuracy: 0.4767 - auc: 0.7613 - val_loss: 0.6142 - val_accuracy: 0.3087 - val_auc: 0.5763\n",
      "Epoch 91/100\n",
      "16/16 [==============================] - 0s 4ms/step - loss: 0.4773 - accuracy: 0.4760 - auc: 0.7628 - val_loss: 0.6189 - val_accuracy: 0.2985 - val_auc: 0.5725\n",
      "Epoch 92/100\n",
      "16/16 [==============================] - 0s 4ms/step - loss: 0.4764 - accuracy: 0.4875 - auc: 0.7633 - val_loss: 0.6213 - val_accuracy: 0.2832 - val_auc: 0.5655\n",
      "Epoch 93/100\n",
      "16/16 [==============================] - 0s 4ms/step - loss: 0.4762 - accuracy: 0.4735 - auc: 0.7624 - val_loss: 0.6144 - val_accuracy: 0.3112 - val_auc: 0.5769\n",
      "Epoch 94/100\n",
      "16/16 [==============================] - 0s 4ms/step - loss: 0.4752 - accuracy: 0.4812 - auc: 0.7649 - val_loss: 0.6170 - val_accuracy: 0.3061 - val_auc: 0.5720\n",
      "Epoch 95/100\n",
      "16/16 [==============================] - 0s 4ms/step - loss: 0.4760 - accuracy: 0.4837 - auc: 0.7627 - val_loss: 0.6207 - val_accuracy: 0.2908 - val_auc: 0.5730\n",
      "Epoch 96/100\n",
      "16/16 [==============================] - 0s 4ms/step - loss: 0.4750 - accuracy: 0.4812 - auc: 0.7646 - val_loss: 0.6254 - val_accuracy: 0.2985 - val_auc: 0.5660\n",
      "Epoch 97/100\n",
      "16/16 [==============================] - 0s 4ms/step - loss: 0.4745 - accuracy: 0.4780 - auc: 0.7661 - val_loss: 0.6329 - val_accuracy: 0.2959 - val_auc: 0.5623\n",
      "Epoch 98/100\n",
      "16/16 [==============================] - 0s 4ms/step - loss: 0.4722 - accuracy: 0.4837 - auc: 0.7684 - val_loss: 0.6229 - val_accuracy: 0.3010 - val_auc: 0.5687\n",
      "Epoch 99/100\n",
      "16/16 [==============================] - 0s 4ms/step - loss: 0.4714 - accuracy: 0.4888 - auc: 0.7706 - val_loss: 0.6166 - val_accuracy: 0.3138 - val_auc: 0.5827\n",
      "Epoch 100/100\n",
      "16/16 [==============================] - 0s 4ms/step - loss: 0.4709 - accuracy: 0.4875 - auc: 0.7719 - val_loss: 0.6245 - val_accuracy: 0.3240 - val_auc: 0.5703\n",
      "Epoch 1/100\n",
      "16/16 [==============================] - 0s 20ms/step - loss: 0.6767 - accuracy: 0.2575 - auc: 0.5262 - val_loss: 0.6306 - val_accuracy: 0.2704 - val_auc: 0.5548\n",
      "Epoch 2/100\n",
      "16/16 [==============================] - 0s 4ms/step - loss: 0.5899 - accuracy: 0.3661 - auc: 0.6063 - val_loss: 0.5950 - val_accuracy: 0.3316 - val_auc: 0.5722\n",
      "Epoch 3/100\n",
      "16/16 [==============================] - 0s 4ms/step - loss: 0.5572 - accuracy: 0.4115 - auc: 0.6316 - val_loss: 0.5839 - val_accuracy: 0.3342 - val_auc: 0.5788\n",
      "Epoch 4/100\n",
      "16/16 [==============================] - 0s 5ms/step - loss: 0.5428 - accuracy: 0.4236 - auc: 0.6482 - val_loss: 0.5808 - val_accuracy: 0.3418 - val_auc: 0.5811\n",
      "Epoch 5/100\n",
      "16/16 [==============================] - 0s 4ms/step - loss: 0.5352 - accuracy: 0.4256 - auc: 0.6572 - val_loss: 0.5823 - val_accuracy: 0.3214 - val_auc: 0.5844\n",
      "Epoch 6/100\n",
      "16/16 [==============================] - 0s 4ms/step - loss: 0.5326 - accuracy: 0.4288 - auc: 0.6595 - val_loss: 0.5808 - val_accuracy: 0.3418 - val_auc: 0.5841\n",
      "Epoch 7/100\n",
      "16/16 [==============================] - 0s 4ms/step - loss: 0.5294 - accuracy: 0.4256 - auc: 0.6663 - val_loss: 0.5811 - val_accuracy: 0.3342 - val_auc: 0.5850\n",
      "Epoch 8/100\n",
      "16/16 [==============================] - 0s 4ms/step - loss: 0.5276 - accuracy: 0.4326 - auc: 0.6711 - val_loss: 0.5825 - val_accuracy: 0.3393 - val_auc: 0.5827\n",
      "Epoch 9/100\n",
      "16/16 [==============================] - 0s 4ms/step - loss: 0.5263 - accuracy: 0.4275 - auc: 0.6733 - val_loss: 0.5816 - val_accuracy: 0.3444 - val_auc: 0.5858\n",
      "Epoch 10/100\n",
      "16/16 [==============================] - 0s 5ms/step - loss: 0.5248 - accuracy: 0.4326 - auc: 0.6774 - val_loss: 0.5839 - val_accuracy: 0.3342 - val_auc: 0.5845\n",
      "Epoch 11/100\n",
      "16/16 [==============================] - 0s 5ms/step - loss: 0.5247 - accuracy: 0.4332 - auc: 0.6773 - val_loss: 0.5846 - val_accuracy: 0.3367 - val_auc: 0.5817\n",
      "Epoch 12/100\n",
      "16/16 [==============================] - 0s 5ms/step - loss: 0.5222 - accuracy: 0.4307 - auc: 0.6847 - val_loss: 0.5863 - val_accuracy: 0.3520 - val_auc: 0.5811\n",
      "Epoch 13/100\n",
      "16/16 [==============================] - 0s 4ms/step - loss: 0.5227 - accuracy: 0.4358 - auc: 0.6823 - val_loss: 0.5864 - val_accuracy: 0.3342 - val_auc: 0.5823\n",
      "Epoch 14/100\n",
      "16/16 [==============================] - 0s 4ms/step - loss: 0.5213 - accuracy: 0.4371 - auc: 0.6854 - val_loss: 0.5873 - val_accuracy: 0.3418 - val_auc: 0.5815\n",
      "Epoch 15/100\n",
      "16/16 [==============================] - 0s 4ms/step - loss: 0.5211 - accuracy: 0.4358 - auc: 0.6861 - val_loss: 0.5868 - val_accuracy: 0.3393 - val_auc: 0.5806\n",
      "Epoch 16/100\n",
      "16/16 [==============================] - 0s 4ms/step - loss: 0.5204 - accuracy: 0.4345 - auc: 0.6869 - val_loss: 0.5869 - val_accuracy: 0.3418 - val_auc: 0.5804\n",
      "Epoch 17/100\n",
      "16/16 [==============================] - 0s 5ms/step - loss: 0.5189 - accuracy: 0.4326 - auc: 0.6906 - val_loss: 0.5886 - val_accuracy: 0.3367 - val_auc: 0.5788\n",
      "Epoch 18/100\n",
      "16/16 [==============================] - 0s 4ms/step - loss: 0.5186 - accuracy: 0.4377 - auc: 0.6916 - val_loss: 0.5896 - val_accuracy: 0.3367 - val_auc: 0.5798\n",
      "Epoch 19/100\n",
      "16/16 [==============================] - 0s 4ms/step - loss: 0.5183 - accuracy: 0.4390 - auc: 0.6919 - val_loss: 0.5896 - val_accuracy: 0.3265 - val_auc: 0.5811\n",
      "Epoch 20/100\n",
      "16/16 [==============================] - 0s 4ms/step - loss: 0.5170 - accuracy: 0.4377 - auc: 0.6945 - val_loss: 0.5889 - val_accuracy: 0.3342 - val_auc: 0.5820\n",
      "Epoch 21/100\n",
      "16/16 [==============================] - 0s 4ms/step - loss: 0.5167 - accuracy: 0.4383 - auc: 0.6954 - val_loss: 0.5898 - val_accuracy: 0.3469 - val_auc: 0.5794\n",
      "Epoch 22/100\n",
      "16/16 [==============================] - 0s 5ms/step - loss: 0.5161 - accuracy: 0.4307 - auc: 0.6976 - val_loss: 0.5896 - val_accuracy: 0.3469 - val_auc: 0.5827\n",
      "Epoch 23/100\n",
      "16/16 [==============================] - 0s 4ms/step - loss: 0.5150 - accuracy: 0.4377 - auc: 0.6985 - val_loss: 0.5901 - val_accuracy: 0.3520 - val_auc: 0.5837\n",
      "Epoch 24/100\n",
      "16/16 [==============================] - 0s 4ms/step - loss: 0.5150 - accuracy: 0.4345 - auc: 0.6991 - val_loss: 0.5889 - val_accuracy: 0.3418 - val_auc: 0.5828\n",
      "Epoch 25/100\n",
      "16/16 [==============================] - 0s 5ms/step - loss: 0.5145 - accuracy: 0.4326 - auc: 0.7006 - val_loss: 0.5917 - val_accuracy: 0.3444 - val_auc: 0.5796\n",
      "Epoch 26/100\n",
      "16/16 [==============================] - 0s 4ms/step - loss: 0.5140 - accuracy: 0.4396 - auc: 0.7011 - val_loss: 0.5921 - val_accuracy: 0.3265 - val_auc: 0.5783\n",
      "Epoch 27/100\n",
      "16/16 [==============================] - 0s 4ms/step - loss: 0.5127 - accuracy: 0.4377 - auc: 0.7036 - val_loss: 0.5901 - val_accuracy: 0.3418 - val_auc: 0.5822\n",
      "Epoch 28/100\n",
      "16/16 [==============================] - 0s 5ms/step - loss: 0.5121 - accuracy: 0.4428 - auc: 0.7053 - val_loss: 0.5918 - val_accuracy: 0.3240 - val_auc: 0.5804\n",
      "Epoch 29/100\n",
      "16/16 [==============================] - 0s 4ms/step - loss: 0.5124 - accuracy: 0.4403 - auc: 0.7045 - val_loss: 0.5930 - val_accuracy: 0.3291 - val_auc: 0.5795\n",
      "Epoch 30/100\n",
      "16/16 [==============================] - 0s 4ms/step - loss: 0.5115 - accuracy: 0.4473 - auc: 0.7062 - val_loss: 0.5921 - val_accuracy: 0.3444 - val_auc: 0.5807\n",
      "Epoch 31/100\n",
      "16/16 [==============================] - 0s 4ms/step - loss: 0.5103 - accuracy: 0.4409 - auc: 0.7077 - val_loss: 0.5939 - val_accuracy: 0.3240 - val_auc: 0.5768\n",
      "Epoch 32/100\n",
      "16/16 [==============================] - 0s 4ms/step - loss: 0.5097 - accuracy: 0.4473 - auc: 0.7095 - val_loss: 0.5918 - val_accuracy: 0.3418 - val_auc: 0.5802\n",
      "Epoch 33/100\n",
      "16/16 [==============================] - 0s 4ms/step - loss: 0.5098 - accuracy: 0.4447 - auc: 0.7096 - val_loss: 0.5938 - val_accuracy: 0.3342 - val_auc: 0.5807\n",
      "Epoch 34/100\n",
      "16/16 [==============================] - 0s 4ms/step - loss: 0.5092 - accuracy: 0.4460 - auc: 0.7095 - val_loss: 0.5947 - val_accuracy: 0.3469 - val_auc: 0.5786\n",
      "Epoch 35/100\n",
      "16/16 [==============================] - 0s 4ms/step - loss: 0.5082 - accuracy: 0.4454 - auc: 0.7116 - val_loss: 0.5955 - val_accuracy: 0.3291 - val_auc: 0.5771\n",
      "Epoch 36/100\n",
      "16/16 [==============================] - 0s 5ms/step - loss: 0.5083 - accuracy: 0.4466 - auc: 0.7123 - val_loss: 0.5954 - val_accuracy: 0.3393 - val_auc: 0.5763\n",
      "Epoch 37/100\n",
      "16/16 [==============================] - 0s 5ms/step - loss: 0.5076 - accuracy: 0.4505 - auc: 0.7135 - val_loss: 0.5971 - val_accuracy: 0.3138 - val_auc: 0.5710\n",
      "Epoch 38/100\n",
      "16/16 [==============================] - 0s 4ms/step - loss: 0.5065 - accuracy: 0.4511 - auc: 0.7161 - val_loss: 0.5951 - val_accuracy: 0.3418 - val_auc: 0.5780\n",
      "Epoch 39/100\n",
      "16/16 [==============================] - 0s 5ms/step - loss: 0.5066 - accuracy: 0.4479 - auc: 0.7148 - val_loss: 0.5944 - val_accuracy: 0.3393 - val_auc: 0.5815\n",
      "Epoch 40/100\n",
      "16/16 [==============================] - 0s 5ms/step - loss: 0.5063 - accuracy: 0.4486 - auc: 0.7144 - val_loss: 0.5941 - val_accuracy: 0.3444 - val_auc: 0.5804\n",
      "Epoch 41/100\n",
      "16/16 [==============================] - 0s 4ms/step - loss: 0.5052 - accuracy: 0.4473 - auc: 0.7171 - val_loss: 0.5980 - val_accuracy: 0.3291 - val_auc: 0.5729\n",
      "Epoch 42/100\n",
      "16/16 [==============================] - 0s 4ms/step - loss: 0.5045 - accuracy: 0.4492 - auc: 0.7188 - val_loss: 0.5982 - val_accuracy: 0.3138 - val_auc: 0.5746\n",
      "Epoch 43/100\n",
      "16/16 [==============================] - 0s 4ms/step - loss: 0.5042 - accuracy: 0.4518 - auc: 0.7200 - val_loss: 0.5992 - val_accuracy: 0.3189 - val_auc: 0.5756\n",
      "Epoch 44/100\n",
      "16/16 [==============================] - 0s 4ms/step - loss: 0.5038 - accuracy: 0.4498 - auc: 0.7197 - val_loss: 0.5972 - val_accuracy: 0.3214 - val_auc: 0.5774\n",
      "Epoch 45/100\n",
      "16/16 [==============================] - 0s 4ms/step - loss: 0.5021 - accuracy: 0.4543 - auc: 0.7227 - val_loss: 0.5986 - val_accuracy: 0.3240 - val_auc: 0.5740\n",
      "Epoch 46/100\n",
      "16/16 [==============================] - 0s 4ms/step - loss: 0.5023 - accuracy: 0.4537 - auc: 0.7229 - val_loss: 0.5998 - val_accuracy: 0.3291 - val_auc: 0.5756\n",
      "Epoch 47/100\n",
      "16/16 [==============================] - 0s 7ms/step - loss: 0.5020 - accuracy: 0.4556 - auc: 0.7238 - val_loss: 0.6001 - val_accuracy: 0.3189 - val_auc: 0.5727\n",
      "Epoch 48/100\n",
      "16/16 [==============================] - 0s 4ms/step - loss: 0.5000 - accuracy: 0.4498 - auc: 0.7275 - val_loss: 0.6032 - val_accuracy: 0.3291 - val_auc: 0.5731\n",
      "Epoch 49/100\n",
      "16/16 [==============================] - 0s 4ms/step - loss: 0.5007 - accuracy: 0.4601 - auc: 0.7263 - val_loss: 0.6045 - val_accuracy: 0.3265 - val_auc: 0.5668\n",
      "Epoch 50/100\n",
      "16/16 [==============================] - 0s 4ms/step - loss: 0.4996 - accuracy: 0.4569 - auc: 0.7272 - val_loss: 0.5994 - val_accuracy: 0.3291 - val_auc: 0.5784\n",
      "Epoch 51/100\n",
      "16/16 [==============================] - 0s 5ms/step - loss: 0.4992 - accuracy: 0.4518 - auc: 0.7286 - val_loss: 0.6026 - val_accuracy: 0.3291 - val_auc: 0.5720\n",
      "Epoch 52/100\n",
      "16/16 [==============================] - 0s 4ms/step - loss: 0.4983 - accuracy: 0.4594 - auc: 0.7291 - val_loss: 0.6006 - val_accuracy: 0.3214 - val_auc: 0.5759\n",
      "Epoch 53/100\n",
      "16/16 [==============================] - 0s 4ms/step - loss: 0.4975 - accuracy: 0.4601 - auc: 0.7311 - val_loss: 0.6023 - val_accuracy: 0.3342 - val_auc: 0.5752\n",
      "Epoch 54/100\n",
      "16/16 [==============================] - 0s 4ms/step - loss: 0.4974 - accuracy: 0.4550 - auc: 0.7309 - val_loss: 0.6035 - val_accuracy: 0.3112 - val_auc: 0.5716\n",
      "Epoch 55/100\n",
      "16/16 [==============================] - 0s 4ms/step - loss: 0.4977 - accuracy: 0.4601 - auc: 0.7307 - val_loss: 0.6004 - val_accuracy: 0.3087 - val_auc: 0.5784\n",
      "Epoch 56/100\n",
      "16/16 [==============================] - 0s 4ms/step - loss: 0.4990 - accuracy: 0.4575 - auc: 0.7279 - val_loss: 0.6020 - val_accuracy: 0.3240 - val_auc: 0.5775\n",
      "Epoch 57/100\n",
      "16/16 [==============================] - 0s 4ms/step - loss: 0.4962 - accuracy: 0.4588 - auc: 0.7328 - val_loss: 0.6009 - val_accuracy: 0.3265 - val_auc: 0.5746\n",
      "Epoch 58/100\n",
      "16/16 [==============================] - 0s 4ms/step - loss: 0.4948 - accuracy: 0.4607 - auc: 0.7353 - val_loss: 0.6033 - val_accuracy: 0.3240 - val_auc: 0.5726\n",
      "Epoch 59/100\n",
      "16/16 [==============================] - 0s 5ms/step - loss: 0.4941 - accuracy: 0.4543 - auc: 0.7368 - val_loss: 0.6039 - val_accuracy: 0.3265 - val_auc: 0.5748\n",
      "Epoch 60/100\n",
      "16/16 [==============================] - 0s 4ms/step - loss: 0.4943 - accuracy: 0.4658 - auc: 0.7356 - val_loss: 0.6042 - val_accuracy: 0.3163 - val_auc: 0.5714\n",
      "Epoch 61/100\n",
      "16/16 [==============================] - 0s 4ms/step - loss: 0.4938 - accuracy: 0.4569 - auc: 0.7372 - val_loss: 0.6045 - val_accuracy: 0.3036 - val_auc: 0.5725\n",
      "Epoch 62/100\n",
      "16/16 [==============================] - 0s 4ms/step - loss: 0.4935 - accuracy: 0.4594 - auc: 0.7371 - val_loss: 0.6063 - val_accuracy: 0.3138 - val_auc: 0.5714\n",
      "Epoch 63/100\n",
      "16/16 [==============================] - 0s 5ms/step - loss: 0.4922 - accuracy: 0.4639 - auc: 0.7391 - val_loss: 0.6091 - val_accuracy: 0.3138 - val_auc: 0.5710\n",
      "Epoch 64/100\n",
      "16/16 [==============================] - 0s 5ms/step - loss: 0.4913 - accuracy: 0.4607 - auc: 0.7414 - val_loss: 0.6164 - val_accuracy: 0.3010 - val_auc: 0.5676\n",
      "Epoch 65/100\n",
      "16/16 [==============================] - 0s 5ms/step - loss: 0.4915 - accuracy: 0.4613 - auc: 0.7403 - val_loss: 0.6111 - val_accuracy: 0.3189 - val_auc: 0.5718\n",
      "Epoch 66/100\n",
      "16/16 [==============================] - 0s 5ms/step - loss: 0.4916 - accuracy: 0.4569 - auc: 0.7398 - val_loss: 0.6092 - val_accuracy: 0.3291 - val_auc: 0.5670\n",
      "Epoch 67/100\n",
      "16/16 [==============================] - 0s 4ms/step - loss: 0.4909 - accuracy: 0.4652 - auc: 0.7418 - val_loss: 0.6131 - val_accuracy: 0.3061 - val_auc: 0.5651\n",
      "Epoch 68/100\n",
      "16/16 [==============================] - 0s 5ms/step - loss: 0.4893 - accuracy: 0.4633 - auc: 0.7442 - val_loss: 0.6085 - val_accuracy: 0.3214 - val_auc: 0.5741\n",
      "Epoch 69/100\n",
      "16/16 [==============================] - 0s 5ms/step - loss: 0.4883 - accuracy: 0.4671 - auc: 0.7462 - val_loss: 0.6069 - val_accuracy: 0.3214 - val_auc: 0.5723\n",
      "Epoch 70/100\n",
      "16/16 [==============================] - 0s 4ms/step - loss: 0.4887 - accuracy: 0.4696 - auc: 0.7447 - val_loss: 0.6123 - val_accuracy: 0.3112 - val_auc: 0.5660\n",
      "Epoch 71/100\n",
      "16/16 [==============================] - 0s 4ms/step - loss: 0.4877 - accuracy: 0.4613 - auc: 0.7473 - val_loss: 0.6122 - val_accuracy: 0.3342 - val_auc: 0.5676\n",
      "Epoch 72/100\n",
      "16/16 [==============================] - 0s 4ms/step - loss: 0.4873 - accuracy: 0.4639 - auc: 0.7469 - val_loss: 0.6123 - val_accuracy: 0.3036 - val_auc: 0.5690\n",
      "Epoch 73/100\n",
      "16/16 [==============================] - 0s 4ms/step - loss: 0.4879 - accuracy: 0.4658 - auc: 0.7466 - val_loss: 0.6136 - val_accuracy: 0.3265 - val_auc: 0.5652\n",
      "Epoch 74/100\n",
      "16/16 [==============================] - 0s 4ms/step - loss: 0.4854 - accuracy: 0.4607 - auc: 0.7501 - val_loss: 0.6148 - val_accuracy: 0.3138 - val_auc: 0.5702\n",
      "Epoch 75/100\n",
      "16/16 [==============================] - 0s 5ms/step - loss: 0.4857 - accuracy: 0.4722 - auc: 0.7501 - val_loss: 0.6130 - val_accuracy: 0.3316 - val_auc: 0.5680\n",
      "Epoch 76/100\n",
      "16/16 [==============================] - 0s 4ms/step - loss: 0.4839 - accuracy: 0.4684 - auc: 0.7515 - val_loss: 0.6149 - val_accuracy: 0.3036 - val_auc: 0.5693\n",
      "Epoch 77/100\n",
      "16/16 [==============================] - 0s 4ms/step - loss: 0.4847 - accuracy: 0.4760 - auc: 0.7504 - val_loss: 0.6160 - val_accuracy: 0.2959 - val_auc: 0.5656\n",
      "Epoch 78/100\n",
      "16/16 [==============================] - 0s 5ms/step - loss: 0.4841 - accuracy: 0.4709 - auc: 0.7517 - val_loss: 0.6143 - val_accuracy: 0.3087 - val_auc: 0.5613\n",
      "Epoch 79/100\n",
      "16/16 [==============================] - 0s 6ms/step - loss: 0.4824 - accuracy: 0.4735 - auc: 0.7550 - val_loss: 0.6185 - val_accuracy: 0.3061 - val_auc: 0.5637\n",
      "Epoch 80/100\n",
      "16/16 [==============================] - 0s 4ms/step - loss: 0.4821 - accuracy: 0.4665 - auc: 0.7552 - val_loss: 0.6175 - val_accuracy: 0.2908 - val_auc: 0.5620\n",
      "Epoch 81/100\n",
      "16/16 [==============================] - 0s 4ms/step - loss: 0.4809 - accuracy: 0.4728 - auc: 0.7565 - val_loss: 0.6265 - val_accuracy: 0.2755 - val_auc: 0.5575\n",
      "Epoch 82/100\n",
      "16/16 [==============================] - 0s 4ms/step - loss: 0.4811 - accuracy: 0.4652 - auc: 0.7553 - val_loss: 0.6232 - val_accuracy: 0.2934 - val_auc: 0.5543\n",
      "Epoch 83/100\n",
      "16/16 [==============================] - 0s 5ms/step - loss: 0.4800 - accuracy: 0.4748 - auc: 0.7581 - val_loss: 0.6185 - val_accuracy: 0.3036 - val_auc: 0.5630\n",
      "Epoch 84/100\n",
      "16/16 [==============================] - 0s 5ms/step - loss: 0.4815 - accuracy: 0.4645 - auc: 0.7561 - val_loss: 0.6229 - val_accuracy: 0.3112 - val_auc: 0.5610\n",
      "Epoch 85/100\n",
      "16/16 [==============================] - 0s 4ms/step - loss: 0.4787 - accuracy: 0.4843 - auc: 0.7607 - val_loss: 0.6237 - val_accuracy: 0.3036 - val_auc: 0.5644\n",
      "Epoch 86/100\n",
      "16/16 [==============================] - 0s 4ms/step - loss: 0.4782 - accuracy: 0.4728 - auc: 0.7597 - val_loss: 0.6238 - val_accuracy: 0.3240 - val_auc: 0.5673\n",
      "Epoch 87/100\n",
      "16/16 [==============================] - 0s 4ms/step - loss: 0.4779 - accuracy: 0.4754 - auc: 0.7616 - val_loss: 0.6235 - val_accuracy: 0.3087 - val_auc: 0.5570\n",
      "Epoch 88/100\n",
      "16/16 [==============================] - 0s 4ms/step - loss: 0.4782 - accuracy: 0.4716 - auc: 0.7594 - val_loss: 0.6250 - val_accuracy: 0.2959 - val_auc: 0.5565\n",
      "Epoch 89/100\n",
      "16/16 [==============================] - 0s 4ms/step - loss: 0.4762 - accuracy: 0.4831 - auc: 0.7634 - val_loss: 0.6231 - val_accuracy: 0.3036 - val_auc: 0.5641\n",
      "Epoch 90/100\n",
      "16/16 [==============================] - 0s 5ms/step - loss: 0.4771 - accuracy: 0.4696 - auc: 0.7619 - val_loss: 0.6227 - val_accuracy: 0.3138 - val_auc: 0.5622\n",
      "Epoch 91/100\n",
      "16/16 [==============================] - 0s 4ms/step - loss: 0.4749 - accuracy: 0.4882 - auc: 0.7664 - val_loss: 0.6267 - val_accuracy: 0.3061 - val_auc: 0.5576\n",
      "Epoch 92/100\n",
      "16/16 [==============================] - 0s 4ms/step - loss: 0.4764 - accuracy: 0.4824 - auc: 0.7628 - val_loss: 0.6279 - val_accuracy: 0.3010 - val_auc: 0.5599\n",
      "Epoch 93/100\n",
      "16/16 [==============================] - 0s 5ms/step - loss: 0.4750 - accuracy: 0.4850 - auc: 0.7633 - val_loss: 0.6314 - val_accuracy: 0.3112 - val_auc: 0.5611\n",
      "Epoch 94/100\n",
      "16/16 [==============================] - 0s 4ms/step - loss: 0.4726 - accuracy: 0.4882 - auc: 0.7693 - val_loss: 0.6287 - val_accuracy: 0.2959 - val_auc: 0.5555\n",
      "Epoch 95/100\n",
      "16/16 [==============================] - 0s 4ms/step - loss: 0.4723 - accuracy: 0.4843 - auc: 0.7685 - val_loss: 0.6375 - val_accuracy: 0.2781 - val_auc: 0.5616\n",
      "Epoch 96/100\n",
      "16/16 [==============================] - 0s 5ms/step - loss: 0.4729 - accuracy: 0.4799 - auc: 0.7677 - val_loss: 0.6278 - val_accuracy: 0.3112 - val_auc: 0.5590\n",
      "Epoch 97/100\n",
      "16/16 [==============================] - 0s 4ms/step - loss: 0.4708 - accuracy: 0.4741 - auc: 0.7697 - val_loss: 0.6277 - val_accuracy: 0.3061 - val_auc: 0.5636\n",
      "Epoch 98/100\n",
      "16/16 [==============================] - 0s 5ms/step - loss: 0.4704 - accuracy: 0.4818 - auc: 0.7710 - val_loss: 0.6368 - val_accuracy: 0.2832 - val_auc: 0.5592\n",
      "Epoch 99/100\n",
      "16/16 [==============================] - 0s 4ms/step - loss: 0.4706 - accuracy: 0.4946 - auc: 0.7717 - val_loss: 0.6297 - val_accuracy: 0.3240 - val_auc: 0.5604\n",
      "Epoch 100/100\n",
      "16/16 [==============================] - 0s 4ms/step - loss: 0.4679 - accuracy: 0.4850 - auc: 0.7753 - val_loss: 0.6280 - val_accuracy: 0.3138 - val_auc: 0.5634\n"
     ]
    },
    {
     "data": {
      "text/html": [
       "<span style=\"color:#4527A0\"><h1 style=\"font-size:18px\">Trial complete</h1></span>"
      ],
      "text/plain": [
       "<IPython.core.display.HTML object>"
      ]
     },
     "metadata": {
      "tags": []
     },
     "output_type": "display_data"
    },
    {
     "data": {
      "text/html": [
       "<span style=\"color:#4527A0\"><h1 style=\"font-size:18px\">Trial summary</h1></span>"
      ],
      "text/plain": [
       "<IPython.core.display.HTML object>"
      ]
     },
     "metadata": {
      "tags": []
     },
     "output_type": "display_data"
    },
    {
     "data": {
      "text/html": [
       "<span style=\"color:cyan\"> |-Trial ID: b88ba7c58e1be4e3731325a70ae63f5e</span>"
      ],
      "text/plain": [
       "<IPython.core.display.HTML object>"
      ]
     },
     "metadata": {
      "tags": []
     },
     "output_type": "display_data"
    },
    {
     "data": {
      "text/html": [
       "<span style=\"color:cyan\"> |-Score: 0.3511904875437419</span>"
      ],
      "text/plain": [
       "<IPython.core.display.HTML object>"
      ]
     },
     "metadata": {
      "tags": []
     },
     "output_type": "display_data"
    },
    {
     "data": {
      "text/html": [
       "<span style=\"color:cyan\"> |-Best step: 0</span>"
      ],
      "text/plain": [
       "<IPython.core.display.HTML object>"
      ]
     },
     "metadata": {
      "tags": []
     },
     "output_type": "display_data"
    },
    {
     "data": {
      "text/html": [
       "<span style=\"color:#7E57C2\"><h2 style=\"font-size:16px\">Hyperparameters:</h2></span>"
      ],
      "text/plain": [
       "<IPython.core.display.HTML object>"
      ]
     },
     "metadata": {
      "tags": []
     },
     "output_type": "display_data"
    },
    {
     "data": {
      "text/html": [
       "<span style=\"color:cyan\"> |-act_0: selu</span>"
      ],
      "text/plain": [
       "<IPython.core.display.HTML object>"
      ]
     },
     "metadata": {
      "tags": []
     },
     "output_type": "display_data"
    },
    {
     "data": {
      "text/html": [
       "<span style=\"color:blue\"> |-act_1: selu</span>"
      ],
      "text/plain": [
       "<IPython.core.display.HTML object>"
      ]
     },
     "metadata": {
      "tags": []
     },
     "output_type": "display_data"
    },
    {
     "data": {
      "text/html": [
       "<span style=\"color:cyan\"> |-act_10: selu</span>"
      ],
      "text/plain": [
       "<IPython.core.display.HTML object>"
      ]
     },
     "metadata": {
      "tags": []
     },
     "output_type": "display_data"
    },
    {
     "data": {
      "text/html": [
       "<span style=\"color:blue\"> |-act_2: relu</span>"
      ],
      "text/plain": [
       "<IPython.core.display.HTML object>"
      ]
     },
     "metadata": {
      "tags": []
     },
     "output_type": "display_data"
    },
    {
     "data": {
      "text/html": [
       "<span style=\"color:cyan\"> |-act_3: relu</span>"
      ],
      "text/plain": [
       "<IPython.core.display.HTML object>"
      ]
     },
     "metadata": {
      "tags": []
     },
     "output_type": "display_data"
    },
    {
     "data": {
      "text/html": [
       "<span style=\"color:blue\"> |-act_4: selu</span>"
      ],
      "text/plain": [
       "<IPython.core.display.HTML object>"
      ]
     },
     "metadata": {
      "tags": []
     },
     "output_type": "display_data"
    },
    {
     "data": {
      "text/html": [
       "<span style=\"color:cyan\"> |-act_5: relu</span>"
      ],
      "text/plain": [
       "<IPython.core.display.HTML object>"
      ]
     },
     "metadata": {
      "tags": []
     },
     "output_type": "display_data"
    },
    {
     "data": {
      "text/html": [
       "<span style=\"color:blue\"> |-act_6: selu</span>"
      ],
      "text/plain": [
       "<IPython.core.display.HTML object>"
      ]
     },
     "metadata": {
      "tags": []
     },
     "output_type": "display_data"
    },
    {
     "data": {
      "text/html": [
       "<span style=\"color:cyan\"> |-act_7: selu</span>"
      ],
      "text/plain": [
       "<IPython.core.display.HTML object>"
      ]
     },
     "metadata": {
      "tags": []
     },
     "output_type": "display_data"
    },
    {
     "data": {
      "text/html": [
       "<span style=\"color:blue\"> |-act_8: relu</span>"
      ],
      "text/plain": [
       "<IPython.core.display.HTML object>"
      ]
     },
     "metadata": {
      "tags": []
     },
     "output_type": "display_data"
    },
    {
     "data": {
      "text/html": [
       "<span style=\"color:cyan\"> |-act_9: selu</span>"
      ],
      "text/plain": [
       "<IPython.core.display.HTML object>"
      ]
     },
     "metadata": {
      "tags": []
     },
     "output_type": "display_data"
    },
    {
     "data": {
      "text/html": [
       "<span style=\"color:blue\"> |-batch_size: 100</span>"
      ],
      "text/plain": [
       "<IPython.core.display.HTML object>"
      ]
     },
     "metadata": {
      "tags": []
     },
     "output_type": "display_data"
    },
    {
     "data": {
      "text/html": [
       "<span style=\"color:cyan\"> |-epochs: 100</span>"
      ],
      "text/plain": [
       "<IPython.core.display.HTML object>"
      ]
     },
     "metadata": {
      "tags": []
     },
     "output_type": "display_data"
    },
    {
     "data": {
      "text/html": [
       "<span style=\"color:blue\"> |-learning_rate: 0.1</span>"
      ],
      "text/plain": [
       "<IPython.core.display.HTML object>"
      ]
     },
     "metadata": {
      "tags": []
     },
     "output_type": "display_data"
    },
    {
     "data": {
      "text/html": [
       "<span style=\"color:cyan\"> |-number_of_layers: 1</span>"
      ],
      "text/plain": [
       "<IPython.core.display.HTML object>"
      ]
     },
     "metadata": {
      "tags": []
     },
     "output_type": "display_data"
    },
    {
     "data": {
      "text/html": [
       "<span style=\"color:blue\"> |-unit_0: 50</span>"
      ],
      "text/plain": [
       "<IPython.core.display.HTML object>"
      ]
     },
     "metadata": {
      "tags": []
     },
     "output_type": "display_data"
    },
    {
     "data": {
      "text/html": [
       "<span style=\"color:cyan\"> |-unit_1: 500</span>"
      ],
      "text/plain": [
       "<IPython.core.display.HTML object>"
      ]
     },
     "metadata": {
      "tags": []
     },
     "output_type": "display_data"
    },
    {
     "data": {
      "text/html": [
       "<span style=\"color:blue\"> |-unit_10: 50</span>"
      ],
      "text/plain": [
       "<IPython.core.display.HTML object>"
      ]
     },
     "metadata": {
      "tags": []
     },
     "output_type": "display_data"
    },
    {
     "data": {
      "text/html": [
       "<span style=\"color:cyan\"> |-unit_2: 50</span>"
      ],
      "text/plain": [
       "<IPython.core.display.HTML object>"
      ]
     },
     "metadata": {
      "tags": []
     },
     "output_type": "display_data"
    },
    {
     "data": {
      "text/html": [
       "<span style=\"color:blue\"> |-unit_3: 500</span>"
      ],
      "text/plain": [
       "<IPython.core.display.HTML object>"
      ]
     },
     "metadata": {
      "tags": []
     },
     "output_type": "display_data"
    },
    {
     "data": {
      "text/html": [
       "<span style=\"color:cyan\"> |-unit_4: 50</span>"
      ],
      "text/plain": [
       "<IPython.core.display.HTML object>"
      ]
     },
     "metadata": {
      "tags": []
     },
     "output_type": "display_data"
    },
    {
     "data": {
      "text/html": [
       "<span style=\"color:blue\"> |-unit_5: 500</span>"
      ],
      "text/plain": [
       "<IPython.core.display.HTML object>"
      ]
     },
     "metadata": {
      "tags": []
     },
     "output_type": "display_data"
    },
    {
     "data": {
      "text/html": [
       "<span style=\"color:cyan\"> |-unit_6: 500</span>"
      ],
      "text/plain": [
       "<IPython.core.display.HTML object>"
      ]
     },
     "metadata": {
      "tags": []
     },
     "output_type": "display_data"
    },
    {
     "data": {
      "text/html": [
       "<span style=\"color:blue\"> |-unit_7: 500</span>"
      ],
      "text/plain": [
       "<IPython.core.display.HTML object>"
      ]
     },
     "metadata": {
      "tags": []
     },
     "output_type": "display_data"
    },
    {
     "data": {
      "text/html": [
       "<span style=\"color:cyan\"> |-unit_8: 50</span>"
      ],
      "text/plain": [
       "<IPython.core.display.HTML object>"
      ]
     },
     "metadata": {
      "tags": []
     },
     "output_type": "display_data"
    },
    {
     "data": {
      "text/html": [
       "<span style=\"color:blue\"> |-unit_9: 500</span>"
      ],
      "text/plain": [
       "<IPython.core.display.HTML object>"
      ]
     },
     "metadata": {
      "tags": []
     },
     "output_type": "display_data"
    },
    {
     "name": "stdout",
     "output_type": "stream",
     "text": [
      "Epoch 1/10\n",
      "16/16 [==============================] - 0s 23ms/step - loss: 0.6689 - accuracy: 0.2658 - auc: 0.5338 - val_loss: 0.6366 - val_accuracy: 0.2857 - val_auc: 0.5433\n",
      "Epoch 2/10\n",
      "16/16 [==============================] - 0s 7ms/step - loss: 0.5879 - accuracy: 0.3661 - auc: 0.6079 - val_loss: 0.6037 - val_accuracy: 0.3189 - val_auc: 0.5576\n",
      "Epoch 3/10\n",
      "16/16 [==============================] - 0s 5ms/step - loss: 0.5562 - accuracy: 0.4064 - auc: 0.6361 - val_loss: 0.5926 - val_accuracy: 0.3189 - val_auc: 0.5627\n",
      "Epoch 4/10\n",
      "16/16 [==============================] - 0s 7ms/step - loss: 0.5419 - accuracy: 0.4224 - auc: 0.6516 - val_loss: 0.5894 - val_accuracy: 0.3214 - val_auc: 0.5659\n",
      "Epoch 5/10\n",
      "16/16 [==============================] - 0s 9ms/step - loss: 0.5351 - accuracy: 0.4236 - auc: 0.6614 - val_loss: 0.5844 - val_accuracy: 0.3291 - val_auc: 0.5784\n",
      "Epoch 6/10\n",
      "16/16 [==============================] - 0s 4ms/step - loss: 0.5323 - accuracy: 0.4313 - auc: 0.6647 - val_loss: 0.5836 - val_accuracy: 0.3291 - val_auc: 0.5832\n",
      "Epoch 7/10\n",
      "16/16 [==============================] - 0s 7ms/step - loss: 0.5296 - accuracy: 0.4326 - auc: 0.6699 - val_loss: 0.5862 - val_accuracy: 0.3316 - val_auc: 0.5809\n",
      "Epoch 8/10\n",
      "16/16 [==============================] - 0s 7ms/step - loss: 0.5275 - accuracy: 0.4371 - auc: 0.6736 - val_loss: 0.5886 - val_accuracy: 0.3342 - val_auc: 0.5771\n",
      "Epoch 9/10\n",
      "16/16 [==============================] - 0s 4ms/step - loss: 0.5263 - accuracy: 0.4415 - auc: 0.6772 - val_loss: 0.5891 - val_accuracy: 0.3342 - val_auc: 0.5764\n",
      "Epoch 10/10\n",
      "16/16 [==============================] - 0s 7ms/step - loss: 0.5249 - accuracy: 0.4345 - auc: 0.6800 - val_loss: 0.5910 - val_accuracy: 0.3367 - val_auc: 0.5753\n",
      "Epoch 1/10\n",
      "16/16 [==============================] - 0s 18ms/step - loss: 0.6613 - accuracy: 0.2843 - auc: 0.5429 - val_loss: 0.6382 - val_accuracy: 0.2832 - val_auc: 0.5231\n",
      "Epoch 2/10\n",
      "16/16 [==============================] - 0s 4ms/step - loss: 0.5857 - accuracy: 0.3751 - auc: 0.6083 - val_loss: 0.6024 - val_accuracy: 0.3367 - val_auc: 0.5572\n",
      "Epoch 3/10\n",
      "16/16 [==============================] - 0s 4ms/step - loss: 0.5553 - accuracy: 0.4134 - auc: 0.6346 - val_loss: 0.5929 - val_accuracy: 0.3265 - val_auc: 0.5631\n",
      "Epoch 4/10\n",
      "16/16 [==============================] - 0s 4ms/step - loss: 0.5423 - accuracy: 0.4288 - auc: 0.6464 - val_loss: 0.5895 - val_accuracy: 0.3342 - val_auc: 0.5658\n",
      "Epoch 5/10\n",
      "16/16 [==============================] - 0s 8ms/step - loss: 0.5350 - accuracy: 0.4275 - auc: 0.6566 - val_loss: 0.5869 - val_accuracy: 0.3444 - val_auc: 0.5732\n",
      "Epoch 6/10\n",
      "16/16 [==============================] - 0s 4ms/step - loss: 0.5312 - accuracy: 0.4364 - auc: 0.6627 - val_loss: 0.5886 - val_accuracy: 0.3444 - val_auc: 0.5685\n",
      "Epoch 7/10\n",
      "16/16 [==============================] - 0s 6ms/step - loss: 0.5289 - accuracy: 0.4371 - auc: 0.6668 - val_loss: 0.5868 - val_accuracy: 0.3469 - val_auc: 0.5762\n",
      "Epoch 8/10\n",
      "16/16 [==============================] - 0s 4ms/step - loss: 0.5276 - accuracy: 0.4383 - auc: 0.6693 - val_loss: 0.5872 - val_accuracy: 0.3469 - val_auc: 0.5788\n",
      "Epoch 9/10\n",
      "16/16 [==============================] - 0s 7ms/step - loss: 0.5262 - accuracy: 0.4403 - auc: 0.6730 - val_loss: 0.5856 - val_accuracy: 0.3520 - val_auc: 0.5824\n",
      "Epoch 10/10\n",
      "16/16 [==============================] - 0s 4ms/step - loss: 0.5256 - accuracy: 0.4409 - auc: 0.6742 - val_loss: 0.5882 - val_accuracy: 0.3495 - val_auc: 0.5766\n",
      "Epoch 1/10\n",
      "16/16 [==============================] - 0s 21ms/step - loss: 0.6669 - accuracy: 0.3035 - auc: 0.5505 - val_loss: 0.6347 - val_accuracy: 0.2551 - val_auc: 0.5349\n",
      "Epoch 2/10\n",
      "16/16 [==============================] - 0s 5ms/step - loss: 0.5862 - accuracy: 0.3796 - auc: 0.6099 - val_loss: 0.5968 - val_accuracy: 0.3112 - val_auc: 0.5671\n",
      "Epoch 3/10\n",
      "16/16 [==============================] - 0s 4ms/step - loss: 0.5540 - accuracy: 0.4109 - auc: 0.6419 - val_loss: 0.5864 - val_accuracy: 0.3291 - val_auc: 0.5720\n",
      "Epoch 4/10\n",
      "16/16 [==============================] - 0s 4ms/step - loss: 0.5392 - accuracy: 0.4256 - auc: 0.6559 - val_loss: 0.5813 - val_accuracy: 0.3342 - val_auc: 0.5812\n",
      "Epoch 5/10\n",
      "16/16 [==============================] - 0s 4ms/step - loss: 0.5340 - accuracy: 0.4262 - auc: 0.6617 - val_loss: 0.5821 - val_accuracy: 0.3316 - val_auc: 0.5801\n",
      "Epoch 6/10\n",
      "16/16 [==============================] - 0s 4ms/step - loss: 0.5301 - accuracy: 0.4332 - auc: 0.6674 - val_loss: 0.5812 - val_accuracy: 0.3291 - val_auc: 0.5879\n",
      "Epoch 7/10\n",
      "16/16 [==============================] - 0s 4ms/step - loss: 0.5280 - accuracy: 0.4319 - auc: 0.6720 - val_loss: 0.5835 - val_accuracy: 0.3367 - val_auc: 0.5890\n",
      "Epoch 8/10\n",
      "16/16 [==============================] - 0s 4ms/step - loss: 0.5266 - accuracy: 0.4339 - auc: 0.6745 - val_loss: 0.5837 - val_accuracy: 0.3367 - val_auc: 0.5847\n",
      "Epoch 9/10\n",
      "16/16 [==============================] - 0s 4ms/step - loss: 0.5255 - accuracy: 0.4313 - auc: 0.6781 - val_loss: 0.5831 - val_accuracy: 0.3342 - val_auc: 0.5879\n",
      "Epoch 10/10\n",
      "16/16 [==============================] - 0s 4ms/step - loss: 0.5243 - accuracy: 0.4351 - auc: 0.6803 - val_loss: 0.5824 - val_accuracy: 0.3418 - val_auc: 0.5907\n"
     ]
    },
    {
     "data": {
      "text/html": [
       "<span style=\"color:#4527A0\"><h1 style=\"font-size:18px\">Trial complete</h1></span>"
      ],
      "text/plain": [
       "<IPython.core.display.HTML object>"
      ]
     },
     "metadata": {
      "tags": []
     },
     "output_type": "display_data"
    },
    {
     "data": {
      "text/html": [
       "<span style=\"color:#4527A0\"><h1 style=\"font-size:18px\">Trial summary</h1></span>"
      ],
      "text/plain": [
       "<IPython.core.display.HTML object>"
      ]
     },
     "metadata": {
      "tags": []
     },
     "output_type": "display_data"
    },
    {
     "data": {
      "text/html": [
       "<span style=\"color:cyan\"> |-Trial ID: 528f75e98120afc29a0785bee9a98a04</span>"
      ],
      "text/plain": [
       "<IPython.core.display.HTML object>"
      ]
     },
     "metadata": {
      "tags": []
     },
     "output_type": "display_data"
    },
    {
     "data": {
      "text/html": [
       "<span style=\"color:cyan\"> |-Score: 0.3435374101003011</span>"
      ],
      "text/plain": [
       "<IPython.core.display.HTML object>"
      ]
     },
     "metadata": {
      "tags": []
     },
     "output_type": "display_data"
    },
    {
     "data": {
      "text/html": [
       "<span style=\"color:cyan\"> |-Best step: 0</span>"
      ],
      "text/plain": [
       "<IPython.core.display.HTML object>"
      ]
     },
     "metadata": {
      "tags": []
     },
     "output_type": "display_data"
    },
    {
     "data": {
      "text/html": [
       "<span style=\"color:#7E57C2\"><h2 style=\"font-size:16px\">Hyperparameters:</h2></span>"
      ],
      "text/plain": [
       "<IPython.core.display.HTML object>"
      ]
     },
     "metadata": {
      "tags": []
     },
     "output_type": "display_data"
    },
    {
     "data": {
      "text/html": [
       "<span style=\"color:cyan\"> |-act_0: selu</span>"
      ],
      "text/plain": [
       "<IPython.core.display.HTML object>"
      ]
     },
     "metadata": {
      "tags": []
     },
     "output_type": "display_data"
    },
    {
     "data": {
      "text/html": [
       "<span style=\"color:blue\"> |-act_1: selu</span>"
      ],
      "text/plain": [
       "<IPython.core.display.HTML object>"
      ]
     },
     "metadata": {
      "tags": []
     },
     "output_type": "display_data"
    },
    {
     "data": {
      "text/html": [
       "<span style=\"color:cyan\"> |-act_10: selu</span>"
      ],
      "text/plain": [
       "<IPython.core.display.HTML object>"
      ]
     },
     "metadata": {
      "tags": []
     },
     "output_type": "display_data"
    },
    {
     "data": {
      "text/html": [
       "<span style=\"color:blue\"> |-act_2: relu</span>"
      ],
      "text/plain": [
       "<IPython.core.display.HTML object>"
      ]
     },
     "metadata": {
      "tags": []
     },
     "output_type": "display_data"
    },
    {
     "data": {
      "text/html": [
       "<span style=\"color:cyan\"> |-act_3: selu</span>"
      ],
      "text/plain": [
       "<IPython.core.display.HTML object>"
      ]
     },
     "metadata": {
      "tags": []
     },
     "output_type": "display_data"
    },
    {
     "data": {
      "text/html": [
       "<span style=\"color:blue\"> |-act_4: selu</span>"
      ],
      "text/plain": [
       "<IPython.core.display.HTML object>"
      ]
     },
     "metadata": {
      "tags": []
     },
     "output_type": "display_data"
    },
    {
     "data": {
      "text/html": [
       "<span style=\"color:cyan\"> |-act_5: relu</span>"
      ],
      "text/plain": [
       "<IPython.core.display.HTML object>"
      ]
     },
     "metadata": {
      "tags": []
     },
     "output_type": "display_data"
    },
    {
     "data": {
      "text/html": [
       "<span style=\"color:blue\"> |-act_6: selu</span>"
      ],
      "text/plain": [
       "<IPython.core.display.HTML object>"
      ]
     },
     "metadata": {
      "tags": []
     },
     "output_type": "display_data"
    },
    {
     "data": {
      "text/html": [
       "<span style=\"color:cyan\"> |-act_7: selu</span>"
      ],
      "text/plain": [
       "<IPython.core.display.HTML object>"
      ]
     },
     "metadata": {
      "tags": []
     },
     "output_type": "display_data"
    },
    {
     "data": {
      "text/html": [
       "<span style=\"color:blue\"> |-act_8: selu</span>"
      ],
      "text/plain": [
       "<IPython.core.display.HTML object>"
      ]
     },
     "metadata": {
      "tags": []
     },
     "output_type": "display_data"
    },
    {
     "data": {
      "text/html": [
       "<span style=\"color:cyan\"> |-act_9: selu</span>"
      ],
      "text/plain": [
       "<IPython.core.display.HTML object>"
      ]
     },
     "metadata": {
      "tags": []
     },
     "output_type": "display_data"
    },
    {
     "data": {
      "text/html": [
       "<span style=\"color:blue\"> |-batch_size: 100</span>"
      ],
      "text/plain": [
       "<IPython.core.display.HTML object>"
      ]
     },
     "metadata": {
      "tags": []
     },
     "output_type": "display_data"
    },
    {
     "data": {
      "text/html": [
       "<span style=\"color:cyan\"> |-epochs: 10</span>"
      ],
      "text/plain": [
       "<IPython.core.display.HTML object>"
      ]
     },
     "metadata": {
      "tags": []
     },
     "output_type": "display_data"
    },
    {
     "data": {
      "text/html": [
       "<span style=\"color:blue\"> |-learning_rate: 0.1</span>"
      ],
      "text/plain": [
       "<IPython.core.display.HTML object>"
      ]
     },
     "metadata": {
      "tags": []
     },
     "output_type": "display_data"
    },
    {
     "data": {
      "text/html": [
       "<span style=\"color:cyan\"> |-number_of_layers: 1</span>"
      ],
      "text/plain": [
       "<IPython.core.display.HTML object>"
      ]
     },
     "metadata": {
      "tags": []
     },
     "output_type": "display_data"
    },
    {
     "data": {
      "text/html": [
       "<span style=\"color:blue\"> |-unit_0: 50</span>"
      ],
      "text/plain": [
       "<IPython.core.display.HTML object>"
      ]
     },
     "metadata": {
      "tags": []
     },
     "output_type": "display_data"
    },
    {
     "data": {
      "text/html": [
       "<span style=\"color:cyan\"> |-unit_1: 500</span>"
      ],
      "text/plain": [
       "<IPython.core.display.HTML object>"
      ]
     },
     "metadata": {
      "tags": []
     },
     "output_type": "display_data"
    },
    {
     "data": {
      "text/html": [
       "<span style=\"color:blue\"> |-unit_10: 500</span>"
      ],
      "text/plain": [
       "<IPython.core.display.HTML object>"
      ]
     },
     "metadata": {
      "tags": []
     },
     "output_type": "display_data"
    },
    {
     "data": {
      "text/html": [
       "<span style=\"color:cyan\"> |-unit_2: 500</span>"
      ],
      "text/plain": [
       "<IPython.core.display.HTML object>"
      ]
     },
     "metadata": {
      "tags": []
     },
     "output_type": "display_data"
    },
    {
     "data": {
      "text/html": [
       "<span style=\"color:blue\"> |-unit_3: 500</span>"
      ],
      "text/plain": [
       "<IPython.core.display.HTML object>"
      ]
     },
     "metadata": {
      "tags": []
     },
     "output_type": "display_data"
    },
    {
     "data": {
      "text/html": [
       "<span style=\"color:cyan\"> |-unit_4: 50</span>"
      ],
      "text/plain": [
       "<IPython.core.display.HTML object>"
      ]
     },
     "metadata": {
      "tags": []
     },
     "output_type": "display_data"
    },
    {
     "data": {
      "text/html": [
       "<span style=\"color:blue\"> |-unit_5: 50</span>"
      ],
      "text/plain": [
       "<IPython.core.display.HTML object>"
      ]
     },
     "metadata": {
      "tags": []
     },
     "output_type": "display_data"
    },
    {
     "data": {
      "text/html": [
       "<span style=\"color:cyan\"> |-unit_6: 500</span>"
      ],
      "text/plain": [
       "<IPython.core.display.HTML object>"
      ]
     },
     "metadata": {
      "tags": []
     },
     "output_type": "display_data"
    },
    {
     "data": {
      "text/html": [
       "<span style=\"color:blue\"> |-unit_7: 50</span>"
      ],
      "text/plain": [
       "<IPython.core.display.HTML object>"
      ]
     },
     "metadata": {
      "tags": []
     },
     "output_type": "display_data"
    },
    {
     "data": {
      "text/html": [
       "<span style=\"color:cyan\"> |-unit_8: 500</span>"
      ],
      "text/plain": [
       "<IPython.core.display.HTML object>"
      ]
     },
     "metadata": {
      "tags": []
     },
     "output_type": "display_data"
    },
    {
     "data": {
      "text/html": [
       "<span style=\"color:blue\"> |-unit_9: 50</span>"
      ],
      "text/plain": [
       "<IPython.core.display.HTML object>"
      ]
     },
     "metadata": {
      "tags": []
     },
     "output_type": "display_data"
    },
    {
     "name": "stdout",
     "output_type": "stream",
     "text": [
      "Epoch 1/100\n",
      "16/16 [==============================] - 0s 21ms/step - loss: 0.6193 - accuracy: 0.3252 - auc: 0.5808 - val_loss: 0.5983 - val_accuracy: 0.3444 - val_auc: 0.5611\n",
      "Epoch 2/100\n",
      "16/16 [==============================] - 0s 4ms/step - loss: 0.5510 - accuracy: 0.4230 - auc: 0.6335 - val_loss: 0.5922 - val_accuracy: 0.3393 - val_auc: 0.5682\n",
      "Epoch 3/100\n",
      "16/16 [==============================] - 0s 4ms/step - loss: 0.5410 - accuracy: 0.4319 - auc: 0.6457 - val_loss: 0.5917 - val_accuracy: 0.3367 - val_auc: 0.5742\n",
      "Epoch 4/100\n",
      "16/16 [==============================] - 0s 4ms/step - loss: 0.5370 - accuracy: 0.4351 - auc: 0.6517 - val_loss: 0.5914 - val_accuracy: 0.3367 - val_auc: 0.5761\n",
      "Epoch 5/100\n",
      "16/16 [==============================] - 0s 4ms/step - loss: 0.5345 - accuracy: 0.4364 - auc: 0.6566 - val_loss: 0.5893 - val_accuracy: 0.3418 - val_auc: 0.5792\n",
      "Epoch 6/100\n",
      "16/16 [==============================] - 0s 4ms/step - loss: 0.5322 - accuracy: 0.4377 - auc: 0.6625 - val_loss: 0.5909 - val_accuracy: 0.3393 - val_auc: 0.5791\n",
      "Epoch 7/100\n",
      "16/16 [==============================] - 0s 4ms/step - loss: 0.5303 - accuracy: 0.4390 - auc: 0.6657 - val_loss: 0.5891 - val_accuracy: 0.3418 - val_auc: 0.5817\n",
      "Epoch 8/100\n",
      "16/16 [==============================] - 0s 4ms/step - loss: 0.5287 - accuracy: 0.4383 - auc: 0.6697 - val_loss: 0.5895 - val_accuracy: 0.3393 - val_auc: 0.5825\n",
      "Epoch 9/100\n",
      "16/16 [==============================] - 0s 4ms/step - loss: 0.5272 - accuracy: 0.4396 - auc: 0.6727 - val_loss: 0.5882 - val_accuracy: 0.3418 - val_auc: 0.5839\n",
      "Epoch 10/100\n",
      "16/16 [==============================] - 0s 4ms/step - loss: 0.5256 - accuracy: 0.4409 - auc: 0.6765 - val_loss: 0.5885 - val_accuracy: 0.3418 - val_auc: 0.5833\n",
      "Epoch 11/100\n",
      "16/16 [==============================] - 0s 4ms/step - loss: 0.5242 - accuracy: 0.4415 - auc: 0.6792 - val_loss: 0.5872 - val_accuracy: 0.3393 - val_auc: 0.5839\n",
      "Epoch 12/100\n",
      "16/16 [==============================] - 0s 4ms/step - loss: 0.5228 - accuracy: 0.4396 - auc: 0.6829 - val_loss: 0.5889 - val_accuracy: 0.3393 - val_auc: 0.5842\n",
      "Epoch 13/100\n",
      "16/16 [==============================] - 0s 4ms/step - loss: 0.5214 - accuracy: 0.4415 - auc: 0.6855 - val_loss: 0.5880 - val_accuracy: 0.3393 - val_auc: 0.5851\n",
      "Epoch 14/100\n",
      "16/16 [==============================] - 0s 4ms/step - loss: 0.5202 - accuracy: 0.4403 - auc: 0.6879 - val_loss: 0.5880 - val_accuracy: 0.3393 - val_auc: 0.5839\n",
      "Epoch 15/100\n",
      "16/16 [==============================] - 0s 4ms/step - loss: 0.5190 - accuracy: 0.4422 - auc: 0.6913 - val_loss: 0.5881 - val_accuracy: 0.3393 - val_auc: 0.5844\n",
      "Epoch 16/100\n",
      "16/16 [==============================] - 0s 4ms/step - loss: 0.5178 - accuracy: 0.4428 - auc: 0.6933 - val_loss: 0.5861 - val_accuracy: 0.3367 - val_auc: 0.5841\n",
      "Epoch 17/100\n",
      "16/16 [==============================] - 0s 4ms/step - loss: 0.5166 - accuracy: 0.4422 - auc: 0.6970 - val_loss: 0.5877 - val_accuracy: 0.3393 - val_auc: 0.5838\n",
      "Epoch 18/100\n",
      "16/16 [==============================] - 0s 4ms/step - loss: 0.5157 - accuracy: 0.4415 - auc: 0.6984 - val_loss: 0.5871 - val_accuracy: 0.3393 - val_auc: 0.5845\n",
      "Epoch 19/100\n",
      "16/16 [==============================] - 0s 4ms/step - loss: 0.5144 - accuracy: 0.4435 - auc: 0.7009 - val_loss: 0.5857 - val_accuracy: 0.3393 - val_auc: 0.5854\n",
      "Epoch 20/100\n",
      "16/16 [==============================] - 0s 4ms/step - loss: 0.5132 - accuracy: 0.4435 - auc: 0.7042 - val_loss: 0.5866 - val_accuracy: 0.3367 - val_auc: 0.5846\n",
      "Epoch 21/100\n",
      "16/16 [==============================] - 0s 4ms/step - loss: 0.5123 - accuracy: 0.4460 - auc: 0.7061 - val_loss: 0.5879 - val_accuracy: 0.3393 - val_auc: 0.5850\n",
      "Epoch 22/100\n",
      "16/16 [==============================] - 0s 4ms/step - loss: 0.5112 - accuracy: 0.4435 - auc: 0.7078 - val_loss: 0.5863 - val_accuracy: 0.3367 - val_auc: 0.5847\n",
      "Epoch 23/100\n",
      "16/16 [==============================] - 0s 4ms/step - loss: 0.5103 - accuracy: 0.4454 - auc: 0.7104 - val_loss: 0.5867 - val_accuracy: 0.3367 - val_auc: 0.5850\n",
      "Epoch 24/100\n",
      "16/16 [==============================] - 0s 4ms/step - loss: 0.5094 - accuracy: 0.4435 - auc: 0.7122 - val_loss: 0.5860 - val_accuracy: 0.3393 - val_auc: 0.5857\n",
      "Epoch 25/100\n",
      "16/16 [==============================] - 0s 5ms/step - loss: 0.5083 - accuracy: 0.4466 - auc: 0.7154 - val_loss: 0.5885 - val_accuracy: 0.3393 - val_auc: 0.5849\n",
      "Epoch 26/100\n",
      "16/16 [==============================] - 0s 4ms/step - loss: 0.5073 - accuracy: 0.4479 - auc: 0.7162 - val_loss: 0.5872 - val_accuracy: 0.3393 - val_auc: 0.5864\n",
      "Epoch 27/100\n",
      "16/16 [==============================] - 0s 4ms/step - loss: 0.5064 - accuracy: 0.4466 - auc: 0.7179 - val_loss: 0.5875 - val_accuracy: 0.3393 - val_auc: 0.5849\n",
      "Epoch 28/100\n",
      "16/16 [==============================] - 0s 4ms/step - loss: 0.5054 - accuracy: 0.4498 - auc: 0.7202 - val_loss: 0.5873 - val_accuracy: 0.3367 - val_auc: 0.5852\n",
      "Epoch 29/100\n",
      "16/16 [==============================] - 0s 4ms/step - loss: 0.5044 - accuracy: 0.4511 - auc: 0.7229 - val_loss: 0.5897 - val_accuracy: 0.3367 - val_auc: 0.5845\n",
      "Epoch 30/100\n",
      "16/16 [==============================] - 0s 4ms/step - loss: 0.5037 - accuracy: 0.4505 - auc: 0.7241 - val_loss: 0.5893 - val_accuracy: 0.3367 - val_auc: 0.5858\n",
      "Epoch 31/100\n",
      "16/16 [==============================] - 0s 4ms/step - loss: 0.5028 - accuracy: 0.4492 - auc: 0.7250 - val_loss: 0.5880 - val_accuracy: 0.3444 - val_auc: 0.5859\n",
      "Epoch 32/100\n",
      "16/16 [==============================] - 0s 4ms/step - loss: 0.5018 - accuracy: 0.4543 - auc: 0.7284 - val_loss: 0.5901 - val_accuracy: 0.3393 - val_auc: 0.5855\n",
      "Epoch 33/100\n",
      "16/16 [==============================] - 0s 8ms/step - loss: 0.5008 - accuracy: 0.4511 - auc: 0.7288 - val_loss: 0.5872 - val_accuracy: 0.3469 - val_auc: 0.5858\n",
      "Epoch 34/100\n",
      "16/16 [==============================] - 0s 4ms/step - loss: 0.5001 - accuracy: 0.4556 - auc: 0.7315 - val_loss: 0.5878 - val_accuracy: 0.3444 - val_auc: 0.5857\n",
      "Epoch 35/100\n",
      "16/16 [==============================] - 0s 5ms/step - loss: 0.4991 - accuracy: 0.4550 - auc: 0.7328 - val_loss: 0.5870 - val_accuracy: 0.3342 - val_auc: 0.5847\n",
      "Epoch 36/100\n",
      "16/16 [==============================] - 0s 4ms/step - loss: 0.4984 - accuracy: 0.4575 - auc: 0.7353 - val_loss: 0.5899 - val_accuracy: 0.3469 - val_auc: 0.5844\n",
      "Epoch 37/100\n",
      "16/16 [==============================] - 0s 4ms/step - loss: 0.4974 - accuracy: 0.4581 - auc: 0.7360 - val_loss: 0.5910 - val_accuracy: 0.3469 - val_auc: 0.5829\n",
      "Epoch 38/100\n",
      "16/16 [==============================] - 0s 4ms/step - loss: 0.4966 - accuracy: 0.4594 - auc: 0.7377 - val_loss: 0.5905 - val_accuracy: 0.3418 - val_auc: 0.5846\n",
      "Epoch 39/100\n",
      "16/16 [==============================] - 0s 4ms/step - loss: 0.4955 - accuracy: 0.4601 - auc: 0.7395 - val_loss: 0.5909 - val_accuracy: 0.3342 - val_auc: 0.5835\n",
      "Epoch 40/100\n",
      "16/16 [==============================] - 0s 4ms/step - loss: 0.4947 - accuracy: 0.4633 - auc: 0.7413 - val_loss: 0.5910 - val_accuracy: 0.3393 - val_auc: 0.5833\n",
      "Epoch 41/100\n",
      "16/16 [==============================] - 0s 4ms/step - loss: 0.4939 - accuracy: 0.4633 - auc: 0.7425 - val_loss: 0.5909 - val_accuracy: 0.3367 - val_auc: 0.5830\n",
      "Epoch 42/100\n",
      "16/16 [==============================] - 0s 4ms/step - loss: 0.4931 - accuracy: 0.4696 - auc: 0.7443 - val_loss: 0.5916 - val_accuracy: 0.3418 - val_auc: 0.5843\n",
      "Epoch 43/100\n",
      "16/16 [==============================] - 0s 4ms/step - loss: 0.4922 - accuracy: 0.4677 - auc: 0.7460 - val_loss: 0.5912 - val_accuracy: 0.3393 - val_auc: 0.5842\n",
      "Epoch 44/100\n",
      "16/16 [==============================] - 0s 4ms/step - loss: 0.4914 - accuracy: 0.4684 - auc: 0.7467 - val_loss: 0.5911 - val_accuracy: 0.3367 - val_auc: 0.5827\n",
      "Epoch 45/100\n",
      "16/16 [==============================] - 0s 4ms/step - loss: 0.4905 - accuracy: 0.4741 - auc: 0.7483 - val_loss: 0.5891 - val_accuracy: 0.3393 - val_auc: 0.5860\n",
      "Epoch 46/100\n",
      "16/16 [==============================] - 0s 4ms/step - loss: 0.4897 - accuracy: 0.4690 - auc: 0.7506 - val_loss: 0.5892 - val_accuracy: 0.3367 - val_auc: 0.5849\n",
      "Epoch 47/100\n",
      "16/16 [==============================] - 0s 4ms/step - loss: 0.4887 - accuracy: 0.4786 - auc: 0.7523 - val_loss: 0.5918 - val_accuracy: 0.3367 - val_auc: 0.5823\n",
      "Epoch 48/100\n",
      "16/16 [==============================] - 0s 4ms/step - loss: 0.4879 - accuracy: 0.4735 - auc: 0.7536 - val_loss: 0.5918 - val_accuracy: 0.3342 - val_auc: 0.5827\n",
      "Epoch 49/100\n",
      "16/16 [==============================] - 0s 4ms/step - loss: 0.4872 - accuracy: 0.4735 - auc: 0.7540 - val_loss: 0.5910 - val_accuracy: 0.3342 - val_auc: 0.5840\n",
      "Epoch 50/100\n",
      "16/16 [==============================] - 0s 5ms/step - loss: 0.4863 - accuracy: 0.4760 - auc: 0.7561 - val_loss: 0.5918 - val_accuracy: 0.3367 - val_auc: 0.5846\n",
      "Epoch 51/100\n",
      "16/16 [==============================] - 0s 4ms/step - loss: 0.4854 - accuracy: 0.4773 - auc: 0.7569 - val_loss: 0.5905 - val_accuracy: 0.3367 - val_auc: 0.5851\n",
      "Epoch 52/100\n",
      "16/16 [==============================] - 0s 4ms/step - loss: 0.4846 - accuracy: 0.4792 - auc: 0.7598 - val_loss: 0.5922 - val_accuracy: 0.3342 - val_auc: 0.5836\n",
      "Epoch 53/100\n",
      "16/16 [==============================] - 0s 4ms/step - loss: 0.4839 - accuracy: 0.4831 - auc: 0.7606 - val_loss: 0.5927 - val_accuracy: 0.3393 - val_auc: 0.5849\n",
      "Epoch 54/100\n",
      "16/16 [==============================] - 0s 4ms/step - loss: 0.4831 - accuracy: 0.4792 - auc: 0.7611 - val_loss: 0.5924 - val_accuracy: 0.3418 - val_auc: 0.5848\n",
      "Epoch 55/100\n",
      "16/16 [==============================] - 0s 4ms/step - loss: 0.4823 - accuracy: 0.4792 - auc: 0.7626 - val_loss: 0.5936 - val_accuracy: 0.3342 - val_auc: 0.5823\n",
      "Epoch 56/100\n",
      "16/16 [==============================] - 0s 4ms/step - loss: 0.4814 - accuracy: 0.4818 - auc: 0.7641 - val_loss: 0.5926 - val_accuracy: 0.3393 - val_auc: 0.5827\n",
      "Epoch 57/100\n",
      "16/16 [==============================] - 0s 4ms/step - loss: 0.4804 - accuracy: 0.4824 - auc: 0.7656 - val_loss: 0.5926 - val_accuracy: 0.3342 - val_auc: 0.5832\n",
      "Epoch 58/100\n",
      "16/16 [==============================] - 0s 4ms/step - loss: 0.4795 - accuracy: 0.4824 - auc: 0.7674 - val_loss: 0.5943 - val_accuracy: 0.3342 - val_auc: 0.5810\n",
      "Epoch 59/100\n",
      "16/16 [==============================] - 0s 4ms/step - loss: 0.4788 - accuracy: 0.4843 - auc: 0.7685 - val_loss: 0.5938 - val_accuracy: 0.3316 - val_auc: 0.5829\n",
      "Epoch 60/100\n",
      "16/16 [==============================] - 0s 4ms/step - loss: 0.4780 - accuracy: 0.4869 - auc: 0.7689 - val_loss: 0.5944 - val_accuracy: 0.3342 - val_auc: 0.5822\n",
      "Epoch 61/100\n",
      "16/16 [==============================] - 0s 4ms/step - loss: 0.4770 - accuracy: 0.4856 - auc: 0.7716 - val_loss: 0.5963 - val_accuracy: 0.3291 - val_auc: 0.5811\n",
      "Epoch 62/100\n",
      "16/16 [==============================] - 0s 4ms/step - loss: 0.4764 - accuracy: 0.4824 - auc: 0.7723 - val_loss: 0.5957 - val_accuracy: 0.3240 - val_auc: 0.5814\n",
      "Epoch 63/100\n",
      "16/16 [==============================] - 0s 4ms/step - loss: 0.4757 - accuracy: 0.4882 - auc: 0.7724 - val_loss: 0.5947 - val_accuracy: 0.3291 - val_auc: 0.5819\n",
      "Epoch 64/100\n",
      "16/16 [==============================] - 0s 4ms/step - loss: 0.4742 - accuracy: 0.4837 - auc: 0.7756 - val_loss: 0.5965 - val_accuracy: 0.3214 - val_auc: 0.5808\n",
      "Epoch 65/100\n",
      "16/16 [==============================] - 0s 4ms/step - loss: 0.4737 - accuracy: 0.4927 - auc: 0.7752 - val_loss: 0.5938 - val_accuracy: 0.3240 - val_auc: 0.5832\n",
      "Epoch 66/100\n",
      "16/16 [==============================] - 0s 4ms/step - loss: 0.4730 - accuracy: 0.4933 - auc: 0.7781 - val_loss: 0.5978 - val_accuracy: 0.3265 - val_auc: 0.5816\n",
      "Epoch 67/100\n",
      "16/16 [==============================] - 0s 4ms/step - loss: 0.4719 - accuracy: 0.4914 - auc: 0.7788 - val_loss: 0.5971 - val_accuracy: 0.3214 - val_auc: 0.5820\n",
      "Epoch 68/100\n",
      "16/16 [==============================] - 0s 4ms/step - loss: 0.4708 - accuracy: 0.4914 - auc: 0.7788 - val_loss: 0.5945 - val_accuracy: 0.3189 - val_auc: 0.5811\n",
      "Epoch 69/100\n",
      "16/16 [==============================] - 0s 4ms/step - loss: 0.4703 - accuracy: 0.4933 - auc: 0.7812 - val_loss: 0.5946 - val_accuracy: 0.3189 - val_auc: 0.5813\n",
      "Epoch 70/100\n",
      "16/16 [==============================] - 0s 4ms/step - loss: 0.4693 - accuracy: 0.4946 - auc: 0.7840 - val_loss: 0.5971 - val_accuracy: 0.3189 - val_auc: 0.5825\n",
      "Epoch 71/100\n",
      "16/16 [==============================] - 0s 4ms/step - loss: 0.4689 - accuracy: 0.4933 - auc: 0.7828 - val_loss: 0.5964 - val_accuracy: 0.3214 - val_auc: 0.5827\n",
      "Epoch 72/100\n",
      "16/16 [==============================] - 0s 4ms/step - loss: 0.4678 - accuracy: 0.4971 - auc: 0.7847 - val_loss: 0.5990 - val_accuracy: 0.3265 - val_auc: 0.5809\n",
      "Epoch 73/100\n",
      "16/16 [==============================] - 0s 4ms/step - loss: 0.4666 - accuracy: 0.4984 - auc: 0.7864 - val_loss: 0.5971 - val_accuracy: 0.3189 - val_auc: 0.5825\n",
      "Epoch 74/100\n",
      "16/16 [==============================] - 0s 4ms/step - loss: 0.4659 - accuracy: 0.4978 - auc: 0.7879 - val_loss: 0.5986 - val_accuracy: 0.3189 - val_auc: 0.5827\n",
      "Epoch 75/100\n",
      "16/16 [==============================] - 0s 4ms/step - loss: 0.4648 - accuracy: 0.4971 - auc: 0.7884 - val_loss: 0.5986 - val_accuracy: 0.3189 - val_auc: 0.5812\n",
      "Epoch 76/100\n",
      "16/16 [==============================] - 0s 5ms/step - loss: 0.4642 - accuracy: 0.4978 - auc: 0.7891 - val_loss: 0.5986 - val_accuracy: 0.3214 - val_auc: 0.5799\n",
      "Epoch 77/100\n",
      "16/16 [==============================] - 0s 4ms/step - loss: 0.4631 - accuracy: 0.4990 - auc: 0.7913 - val_loss: 0.5998 - val_accuracy: 0.3112 - val_auc: 0.5791\n",
      "Epoch 78/100\n",
      "16/16 [==============================] - 0s 4ms/step - loss: 0.4620 - accuracy: 0.5042 - auc: 0.7941 - val_loss: 0.6000 - val_accuracy: 0.3163 - val_auc: 0.5819\n",
      "Epoch 79/100\n",
      "16/16 [==============================] - 0s 4ms/step - loss: 0.4614 - accuracy: 0.5010 - auc: 0.7927 - val_loss: 0.5985 - val_accuracy: 0.3112 - val_auc: 0.5799\n",
      "Epoch 80/100\n",
      "16/16 [==============================] - 0s 4ms/step - loss: 0.4606 - accuracy: 0.5061 - auc: 0.7950 - val_loss: 0.5983 - val_accuracy: 0.3087 - val_auc: 0.5817\n",
      "Epoch 81/100\n",
      "16/16 [==============================] - 0s 4ms/step - loss: 0.4596 - accuracy: 0.5029 - auc: 0.7968 - val_loss: 0.6006 - val_accuracy: 0.3214 - val_auc: 0.5814\n",
      "Epoch 82/100\n",
      "16/16 [==============================] - 0s 4ms/step - loss: 0.4587 - accuracy: 0.5093 - auc: 0.7971 - val_loss: 0.5998 - val_accuracy: 0.2959 - val_auc: 0.5802\n",
      "Epoch 83/100\n",
      "16/16 [==============================] - 0s 4ms/step - loss: 0.4579 - accuracy: 0.5099 - auc: 0.7993 - val_loss: 0.6013 - val_accuracy: 0.3087 - val_auc: 0.5809\n",
      "Epoch 84/100\n",
      "16/16 [==============================] - 0s 4ms/step - loss: 0.4569 - accuracy: 0.5144 - auc: 0.7991 - val_loss: 0.6019 - val_accuracy: 0.3061 - val_auc: 0.5781\n",
      "Epoch 85/100\n",
      "16/16 [==============================] - 0s 5ms/step - loss: 0.4562 - accuracy: 0.5093 - auc: 0.8009 - val_loss: 0.6038 - val_accuracy: 0.3112 - val_auc: 0.5781\n",
      "Epoch 86/100\n",
      "16/16 [==============================] - 0s 4ms/step - loss: 0.4549 - accuracy: 0.5131 - auc: 0.8016 - val_loss: 0.6030 - val_accuracy: 0.2908 - val_auc: 0.5769\n",
      "Epoch 87/100\n",
      "16/16 [==============================] - 0s 4ms/step - loss: 0.4543 - accuracy: 0.5099 - auc: 0.8031 - val_loss: 0.6026 - val_accuracy: 0.2985 - val_auc: 0.5770\n",
      "Epoch 88/100\n",
      "16/16 [==============================] - 0s 4ms/step - loss: 0.4531 - accuracy: 0.5182 - auc: 0.8047 - val_loss: 0.6020 - val_accuracy: 0.3061 - val_auc: 0.5797\n",
      "Epoch 89/100\n",
      "16/16 [==============================] - 0s 4ms/step - loss: 0.4523 - accuracy: 0.5118 - auc: 0.8058 - val_loss: 0.6027 - val_accuracy: 0.2959 - val_auc: 0.5781\n",
      "Epoch 90/100\n",
      "16/16 [==============================] - 0s 4ms/step - loss: 0.4521 - accuracy: 0.5240 - auc: 0.8063 - val_loss: 0.6032 - val_accuracy: 0.2908 - val_auc: 0.5783\n",
      "Epoch 91/100\n",
      "16/16 [==============================] - 0s 4ms/step - loss: 0.4507 - accuracy: 0.5188 - auc: 0.8083 - val_loss: 0.6047 - val_accuracy: 0.2857 - val_auc: 0.5783\n",
      "Epoch 92/100\n",
      "16/16 [==============================] - 0s 4ms/step - loss: 0.4495 - accuracy: 0.5214 - auc: 0.8096 - val_loss: 0.6077 - val_accuracy: 0.3061 - val_auc: 0.5772\n",
      "Epoch 93/100\n",
      "16/16 [==============================] - 0s 4ms/step - loss: 0.4488 - accuracy: 0.5214 - auc: 0.8102 - val_loss: 0.6071 - val_accuracy: 0.2959 - val_auc: 0.5749\n",
      "Epoch 94/100\n",
      "16/16 [==============================] - 0s 4ms/step - loss: 0.4475 - accuracy: 0.5252 - auc: 0.8108 - val_loss: 0.6061 - val_accuracy: 0.2832 - val_auc: 0.5740\n",
      "Epoch 95/100\n",
      "16/16 [==============================] - 0s 4ms/step - loss: 0.4469 - accuracy: 0.5252 - auc: 0.8142 - val_loss: 0.6092 - val_accuracy: 0.2908 - val_auc: 0.5753\n",
      "Epoch 96/100\n",
      "16/16 [==============================] - 0s 4ms/step - loss: 0.4463 - accuracy: 0.5208 - auc: 0.8125 - val_loss: 0.6065 - val_accuracy: 0.2730 - val_auc: 0.5767\n",
      "Epoch 97/100\n",
      "16/16 [==============================] - 0s 5ms/step - loss: 0.4449 - accuracy: 0.5284 - auc: 0.8160 - val_loss: 0.6061 - val_accuracy: 0.2883 - val_auc: 0.5782\n",
      "Epoch 98/100\n",
      "16/16 [==============================] - 0s 4ms/step - loss: 0.4442 - accuracy: 0.5265 - auc: 0.8167 - val_loss: 0.6096 - val_accuracy: 0.2883 - val_auc: 0.5749\n",
      "Epoch 99/100\n",
      "16/16 [==============================] - 0s 4ms/step - loss: 0.4429 - accuracy: 0.5310 - auc: 0.8179 - val_loss: 0.6101 - val_accuracy: 0.3036 - val_auc: 0.5755\n",
      "Epoch 100/100\n",
      "16/16 [==============================] - 0s 4ms/step - loss: 0.4422 - accuracy: 0.5335 - auc: 0.8188 - val_loss: 0.6114 - val_accuracy: 0.2755 - val_auc: 0.5757\n",
      "Epoch 1/100\n",
      "16/16 [==============================] - 0s 19ms/step - loss: 0.6018 - accuracy: 0.3131 - auc: 0.5764 - val_loss: 0.5919 - val_accuracy: 0.3367 - val_auc: 0.5697\n",
      "Epoch 2/100\n",
      "16/16 [==============================] - 0s 4ms/step - loss: 0.5485 - accuracy: 0.4230 - auc: 0.6339 - val_loss: 0.5865 - val_accuracy: 0.3469 - val_auc: 0.5787\n",
      "Epoch 3/100\n",
      "16/16 [==============================] - 0s 4ms/step - loss: 0.5401 - accuracy: 0.4326 - auc: 0.6460 - val_loss: 0.5862 - val_accuracy: 0.3469 - val_auc: 0.5826\n",
      "Epoch 4/100\n",
      "16/16 [==============================] - 0s 4ms/step - loss: 0.5364 - accuracy: 0.4364 - auc: 0.6524 - val_loss: 0.5860 - val_accuracy: 0.3418 - val_auc: 0.5846\n",
      "Epoch 5/100\n",
      "16/16 [==============================] - 0s 7ms/step - loss: 0.5335 - accuracy: 0.4371 - auc: 0.6594 - val_loss: 0.5850 - val_accuracy: 0.3495 - val_auc: 0.5858\n",
      "Epoch 6/100\n",
      "16/16 [==============================] - 0s 4ms/step - loss: 0.5313 - accuracy: 0.4377 - auc: 0.6637 - val_loss: 0.5845 - val_accuracy: 0.3469 - val_auc: 0.5865\n",
      "Epoch 7/100\n",
      "16/16 [==============================] - 0s 4ms/step - loss: 0.5292 - accuracy: 0.4364 - auc: 0.6684 - val_loss: 0.5838 - val_accuracy: 0.3495 - val_auc: 0.5890\n",
      "Epoch 8/100\n",
      "16/16 [==============================] - 0s 5ms/step - loss: 0.5274 - accuracy: 0.4371 - auc: 0.6729 - val_loss: 0.5838 - val_accuracy: 0.3418 - val_auc: 0.5894\n",
      "Epoch 9/100\n",
      "16/16 [==============================] - 0s 4ms/step - loss: 0.5258 - accuracy: 0.4358 - auc: 0.6763 - val_loss: 0.5840 - val_accuracy: 0.3418 - val_auc: 0.5896\n",
      "Epoch 10/100\n",
      "16/16 [==============================] - 0s 4ms/step - loss: 0.5244 - accuracy: 0.4377 - auc: 0.6800 - val_loss: 0.5845 - val_accuracy: 0.3393 - val_auc: 0.5897\n",
      "Epoch 11/100\n",
      "16/16 [==============================] - 0s 4ms/step - loss: 0.5228 - accuracy: 0.4371 - auc: 0.6836 - val_loss: 0.5836 - val_accuracy: 0.3418 - val_auc: 0.5903\n",
      "Epoch 12/100\n",
      "16/16 [==============================] - 0s 4ms/step - loss: 0.5214 - accuracy: 0.4383 - auc: 0.6873 - val_loss: 0.5844 - val_accuracy: 0.3393 - val_auc: 0.5899\n",
      "Epoch 13/100\n",
      "16/16 [==============================] - 0s 4ms/step - loss: 0.5202 - accuracy: 0.4377 - auc: 0.6896 - val_loss: 0.5836 - val_accuracy: 0.3444 - val_auc: 0.5899\n",
      "Epoch 14/100\n",
      "16/16 [==============================] - 0s 4ms/step - loss: 0.5189 - accuracy: 0.4403 - auc: 0.6925 - val_loss: 0.5841 - val_accuracy: 0.3393 - val_auc: 0.5889\n",
      "Epoch 15/100\n",
      "16/16 [==============================] - 0s 4ms/step - loss: 0.5179 - accuracy: 0.4403 - auc: 0.6953 - val_loss: 0.5840 - val_accuracy: 0.3393 - val_auc: 0.5893\n",
      "Epoch 16/100\n",
      "16/16 [==============================] - 0s 4ms/step - loss: 0.5166 - accuracy: 0.4415 - auc: 0.6985 - val_loss: 0.5844 - val_accuracy: 0.3418 - val_auc: 0.5900\n",
      "Epoch 17/100\n",
      "16/16 [==============================] - 0s 4ms/step - loss: 0.5156 - accuracy: 0.4409 - auc: 0.7001 - val_loss: 0.5840 - val_accuracy: 0.3418 - val_auc: 0.5889\n",
      "Epoch 18/100\n",
      "16/16 [==============================] - 0s 4ms/step - loss: 0.5144 - accuracy: 0.4441 - auc: 0.7032 - val_loss: 0.5833 - val_accuracy: 0.3444 - val_auc: 0.5909\n",
      "Epoch 19/100\n",
      "16/16 [==============================] - 0s 4ms/step - loss: 0.5134 - accuracy: 0.4454 - auc: 0.7045 - val_loss: 0.5836 - val_accuracy: 0.3418 - val_auc: 0.5906\n",
      "Epoch 20/100\n",
      "16/16 [==============================] - 0s 4ms/step - loss: 0.5122 - accuracy: 0.4473 - auc: 0.7080 - val_loss: 0.5857 - val_accuracy: 0.3393 - val_auc: 0.5893\n",
      "Epoch 21/100\n",
      "16/16 [==============================] - 0s 4ms/step - loss: 0.5115 - accuracy: 0.4479 - auc: 0.7092 - val_loss: 0.5858 - val_accuracy: 0.3393 - val_auc: 0.5894\n",
      "Epoch 22/100\n",
      "16/16 [==============================] - 0s 4ms/step - loss: 0.5104 - accuracy: 0.4498 - auc: 0.7113 - val_loss: 0.5858 - val_accuracy: 0.3418 - val_auc: 0.5894\n",
      "Epoch 23/100\n",
      "16/16 [==============================] - 0s 4ms/step - loss: 0.5093 - accuracy: 0.4492 - auc: 0.7137 - val_loss: 0.5865 - val_accuracy: 0.3367 - val_auc: 0.5904\n",
      "Epoch 24/100\n",
      "16/16 [==============================] - 0s 4ms/step - loss: 0.5083 - accuracy: 0.4466 - auc: 0.7152 - val_loss: 0.5839 - val_accuracy: 0.3393 - val_auc: 0.5903\n",
      "Epoch 25/100\n",
      "16/16 [==============================] - 0s 4ms/step - loss: 0.5074 - accuracy: 0.4543 - auc: 0.7177 - val_loss: 0.5850 - val_accuracy: 0.3444 - val_auc: 0.5898\n",
      "Epoch 26/100\n",
      "16/16 [==============================] - 0s 4ms/step - loss: 0.5064 - accuracy: 0.4511 - auc: 0.7196 - val_loss: 0.5861 - val_accuracy: 0.3393 - val_auc: 0.5903\n",
      "Epoch 27/100\n",
      "16/16 [==============================] - 0s 4ms/step - loss: 0.5058 - accuracy: 0.4543 - auc: 0.7208 - val_loss: 0.5866 - val_accuracy: 0.3342 - val_auc: 0.5894\n",
      "Epoch 28/100\n",
      "16/16 [==============================] - 0s 4ms/step - loss: 0.5047 - accuracy: 0.4581 - auc: 0.7231 - val_loss: 0.5870 - val_accuracy: 0.3393 - val_auc: 0.5889\n",
      "Epoch 29/100\n",
      "16/16 [==============================] - 0s 4ms/step - loss: 0.5037 - accuracy: 0.4594 - auc: 0.7256 - val_loss: 0.5893 - val_accuracy: 0.3342 - val_auc: 0.5880\n",
      "Epoch 30/100\n",
      "16/16 [==============================] - 0s 4ms/step - loss: 0.5028 - accuracy: 0.4518 - auc: 0.7259 - val_loss: 0.5863 - val_accuracy: 0.3469 - val_auc: 0.5894\n",
      "Epoch 31/100\n",
      "16/16 [==============================] - 0s 4ms/step - loss: 0.5020 - accuracy: 0.4511 - auc: 0.7285 - val_loss: 0.5867 - val_accuracy: 0.3469 - val_auc: 0.5896\n",
      "Epoch 32/100\n",
      "16/16 [==============================] - 0s 4ms/step - loss: 0.5010 - accuracy: 0.4581 - auc: 0.7305 - val_loss: 0.5877 - val_accuracy: 0.3418 - val_auc: 0.5903\n",
      "Epoch 33/100\n",
      "16/16 [==============================] - 0s 6ms/step - loss: 0.5005 - accuracy: 0.4550 - auc: 0.7310 - val_loss: 0.5873 - val_accuracy: 0.3495 - val_auc: 0.5905\n",
      "Epoch 34/100\n",
      "16/16 [==============================] - 0s 4ms/step - loss: 0.4995 - accuracy: 0.4588 - auc: 0.7328 - val_loss: 0.5862 - val_accuracy: 0.3495 - val_auc: 0.5905\n",
      "Epoch 35/100\n",
      "16/16 [==============================] - 0s 4ms/step - loss: 0.4985 - accuracy: 0.4594 - auc: 0.7346 - val_loss: 0.5870 - val_accuracy: 0.3444 - val_auc: 0.5886\n",
      "Epoch 36/100\n",
      "16/16 [==============================] - 0s 4ms/step - loss: 0.4979 - accuracy: 0.4639 - auc: 0.7360 - val_loss: 0.5868 - val_accuracy: 0.3495 - val_auc: 0.5898\n",
      "Epoch 37/100\n",
      "16/16 [==============================] - 0s 4ms/step - loss: 0.4969 - accuracy: 0.4658 - auc: 0.7378 - val_loss: 0.5868 - val_accuracy: 0.3495 - val_auc: 0.5903\n",
      "Epoch 38/100\n",
      "16/16 [==============================] - 0s 5ms/step - loss: 0.4961 - accuracy: 0.4690 - auc: 0.7394 - val_loss: 0.5893 - val_accuracy: 0.3469 - val_auc: 0.5885\n",
      "Epoch 39/100\n",
      "16/16 [==============================] - 0s 4ms/step - loss: 0.4952 - accuracy: 0.4665 - auc: 0.7410 - val_loss: 0.5911 - val_accuracy: 0.3469 - val_auc: 0.5880\n",
      "Epoch 40/100\n",
      "16/16 [==============================] - 0s 7ms/step - loss: 0.4946 - accuracy: 0.4620 - auc: 0.7409 - val_loss: 0.5889 - val_accuracy: 0.3546 - val_auc: 0.5888\n",
      "Epoch 41/100\n",
      "16/16 [==============================] - 0s 4ms/step - loss: 0.4934 - accuracy: 0.4696 - auc: 0.7433 - val_loss: 0.5876 - val_accuracy: 0.3546 - val_auc: 0.5909\n",
      "Epoch 42/100\n",
      "16/16 [==============================] - 0s 4ms/step - loss: 0.4928 - accuracy: 0.4728 - auc: 0.7451 - val_loss: 0.5908 - val_accuracy: 0.3469 - val_auc: 0.5868\n",
      "Epoch 43/100\n",
      "16/16 [==============================] - 0s 4ms/step - loss: 0.4918 - accuracy: 0.4696 - auc: 0.7456 - val_loss: 0.5882 - val_accuracy: 0.3469 - val_auc: 0.5886\n",
      "Epoch 44/100\n",
      "16/16 [==============================] - 0s 4ms/step - loss: 0.4913 - accuracy: 0.4760 - auc: 0.7489 - val_loss: 0.5909 - val_accuracy: 0.3469 - val_auc: 0.5876\n",
      "Epoch 45/100\n",
      "16/16 [==============================] - 0s 4ms/step - loss: 0.4902 - accuracy: 0.4703 - auc: 0.7500 - val_loss: 0.5920 - val_accuracy: 0.3520 - val_auc: 0.5872\n",
      "Epoch 46/100\n",
      "16/16 [==============================] - 0s 8ms/step - loss: 0.4895 - accuracy: 0.4735 - auc: 0.7502 - val_loss: 0.5908 - val_accuracy: 0.3571 - val_auc: 0.5898\n",
      "Epoch 47/100\n",
      "16/16 [==============================] - 0s 4ms/step - loss: 0.4885 - accuracy: 0.4812 - auc: 0.7524 - val_loss: 0.5928 - val_accuracy: 0.3520 - val_auc: 0.5894\n",
      "Epoch 48/100\n",
      "16/16 [==============================] - 0s 4ms/step - loss: 0.4880 - accuracy: 0.4741 - auc: 0.7522 - val_loss: 0.5907 - val_accuracy: 0.3495 - val_auc: 0.5901\n",
      "Epoch 49/100\n",
      "16/16 [==============================] - 0s 4ms/step - loss: 0.4871 - accuracy: 0.4741 - auc: 0.7538 - val_loss: 0.5900 - val_accuracy: 0.3495 - val_auc: 0.5895\n",
      "Epoch 50/100\n",
      "16/16 [==============================] - 0s 4ms/step - loss: 0.4862 - accuracy: 0.4786 - auc: 0.7560 - val_loss: 0.5917 - val_accuracy: 0.3444 - val_auc: 0.5876\n",
      "Epoch 51/100\n",
      "16/16 [==============================] - 0s 4ms/step - loss: 0.4854 - accuracy: 0.4799 - auc: 0.7571 - val_loss: 0.5906 - val_accuracy: 0.3367 - val_auc: 0.5885\n",
      "Epoch 52/100\n",
      "16/16 [==============================] - 0s 4ms/step - loss: 0.4847 - accuracy: 0.4786 - auc: 0.7591 - val_loss: 0.5915 - val_accuracy: 0.3444 - val_auc: 0.5899\n",
      "Epoch 53/100\n",
      "16/16 [==============================] - 0s 4ms/step - loss: 0.4836 - accuracy: 0.4805 - auc: 0.7602 - val_loss: 0.5912 - val_accuracy: 0.3469 - val_auc: 0.5884\n",
      "Epoch 54/100\n",
      "16/16 [==============================] - 0s 4ms/step - loss: 0.4829 - accuracy: 0.4831 - auc: 0.7614 - val_loss: 0.5917 - val_accuracy: 0.3418 - val_auc: 0.5888\n",
      "Epoch 55/100\n",
      "16/16 [==============================] - 0s 4ms/step - loss: 0.4822 - accuracy: 0.4780 - auc: 0.7623 - val_loss: 0.5912 - val_accuracy: 0.3342 - val_auc: 0.5892\n",
      "Epoch 56/100\n",
      "16/16 [==============================] - 0s 4ms/step - loss: 0.4815 - accuracy: 0.4837 - auc: 0.7642 - val_loss: 0.5922 - val_accuracy: 0.3469 - val_auc: 0.5897\n",
      "Epoch 57/100\n",
      "16/16 [==============================] - 0s 4ms/step - loss: 0.4807 - accuracy: 0.4824 - auc: 0.7648 - val_loss: 0.5928 - val_accuracy: 0.3418 - val_auc: 0.5894\n",
      "Epoch 58/100\n",
      "16/16 [==============================] - 0s 4ms/step - loss: 0.4795 - accuracy: 0.4818 - auc: 0.7667 - val_loss: 0.5935 - val_accuracy: 0.3316 - val_auc: 0.5878\n",
      "Epoch 59/100\n",
      "16/16 [==============================] - 0s 4ms/step - loss: 0.4788 - accuracy: 0.4869 - auc: 0.7689 - val_loss: 0.5938 - val_accuracy: 0.3393 - val_auc: 0.5896\n",
      "Epoch 60/100\n",
      "16/16 [==============================] - 0s 4ms/step - loss: 0.4782 - accuracy: 0.4875 - auc: 0.7681 - val_loss: 0.5928 - val_accuracy: 0.3418 - val_auc: 0.5908\n",
      "Epoch 61/100\n",
      "16/16 [==============================] - 0s 4ms/step - loss: 0.4773 - accuracy: 0.4863 - auc: 0.7708 - val_loss: 0.5942 - val_accuracy: 0.3367 - val_auc: 0.5891\n",
      "Epoch 62/100\n",
      "16/16 [==============================] - 0s 4ms/step - loss: 0.4762 - accuracy: 0.4824 - auc: 0.7715 - val_loss: 0.5933 - val_accuracy: 0.3291 - val_auc: 0.5895\n",
      "Epoch 63/100\n",
      "16/16 [==============================] - 0s 4ms/step - loss: 0.4754 - accuracy: 0.4856 - auc: 0.7737 - val_loss: 0.5945 - val_accuracy: 0.3393 - val_auc: 0.5892\n",
      "Epoch 64/100\n",
      "16/16 [==============================] - 0s 4ms/step - loss: 0.4745 - accuracy: 0.4901 - auc: 0.7748 - val_loss: 0.5947 - val_accuracy: 0.3291 - val_auc: 0.5896\n",
      "Epoch 65/100\n",
      "16/16 [==============================] - 0s 4ms/step - loss: 0.4738 - accuracy: 0.4882 - auc: 0.7754 - val_loss: 0.5945 - val_accuracy: 0.3265 - val_auc: 0.5903\n",
      "Epoch 66/100\n",
      "16/16 [==============================] - 0s 4ms/step - loss: 0.4729 - accuracy: 0.4856 - auc: 0.7768 - val_loss: 0.5946 - val_accuracy: 0.3265 - val_auc: 0.5890\n",
      "Epoch 67/100\n",
      "16/16 [==============================] - 0s 4ms/step - loss: 0.4720 - accuracy: 0.4946 - auc: 0.7771 - val_loss: 0.5937 - val_accuracy: 0.3061 - val_auc: 0.5894\n",
      "Epoch 68/100\n",
      "16/16 [==============================] - 0s 4ms/step - loss: 0.4715 - accuracy: 0.4901 - auc: 0.7799 - val_loss: 0.5961 - val_accuracy: 0.3342 - val_auc: 0.5896\n",
      "Epoch 69/100\n",
      "16/16 [==============================] - 0s 4ms/step - loss: 0.4706 - accuracy: 0.4901 - auc: 0.7805 - val_loss: 0.5962 - val_accuracy: 0.3291 - val_auc: 0.5890\n",
      "Epoch 70/100\n",
      "16/16 [==============================] - 0s 4ms/step - loss: 0.4694 - accuracy: 0.4952 - auc: 0.7821 - val_loss: 0.5987 - val_accuracy: 0.3316 - val_auc: 0.5858\n",
      "Epoch 71/100\n",
      "16/16 [==============================] - 0s 4ms/step - loss: 0.4689 - accuracy: 0.4984 - auc: 0.7822 - val_loss: 0.5970 - val_accuracy: 0.3265 - val_auc: 0.5883\n",
      "Epoch 72/100\n",
      "16/16 [==============================] - 0s 4ms/step - loss: 0.4677 - accuracy: 0.4939 - auc: 0.7841 - val_loss: 0.5968 - val_accuracy: 0.3291 - val_auc: 0.5882\n",
      "Epoch 73/100\n",
      "16/16 [==============================] - 0s 4ms/step - loss: 0.4674 - accuracy: 0.4952 - auc: 0.7848 - val_loss: 0.5986 - val_accuracy: 0.3138 - val_auc: 0.5859\n",
      "Epoch 74/100\n",
      "16/16 [==============================] - 0s 4ms/step - loss: 0.4663 - accuracy: 0.4965 - auc: 0.7859 - val_loss: 0.5977 - val_accuracy: 0.3061 - val_auc: 0.5868\n",
      "Epoch 75/100\n",
      "16/16 [==============================] - 0s 6ms/step - loss: 0.4658 - accuracy: 0.5016 - auc: 0.7881 - val_loss: 0.6004 - val_accuracy: 0.3189 - val_auc: 0.5852\n",
      "Epoch 76/100\n",
      "16/16 [==============================] - 0s 4ms/step - loss: 0.4647 - accuracy: 0.4971 - auc: 0.7890 - val_loss: 0.6007 - val_accuracy: 0.3265 - val_auc: 0.5873\n",
      "Epoch 77/100\n",
      "16/16 [==============================] - 0s 4ms/step - loss: 0.4637 - accuracy: 0.5003 - auc: 0.7892 - val_loss: 0.5995 - val_accuracy: 0.3214 - val_auc: 0.5877\n",
      "Epoch 78/100\n",
      "16/16 [==============================] - 0s 4ms/step - loss: 0.4628 - accuracy: 0.5022 - auc: 0.7912 - val_loss: 0.5994 - val_accuracy: 0.3138 - val_auc: 0.5867\n",
      "Epoch 79/100\n",
      "16/16 [==============================] - 0s 4ms/step - loss: 0.4617 - accuracy: 0.5042 - auc: 0.7945 - val_loss: 0.6011 - val_accuracy: 0.3316 - val_auc: 0.5871\n",
      "Epoch 80/100\n",
      "16/16 [==============================] - 0s 4ms/step - loss: 0.4614 - accuracy: 0.5048 - auc: 0.7924 - val_loss: 0.6009 - val_accuracy: 0.3163 - val_auc: 0.5874\n",
      "Epoch 81/100\n",
      "16/16 [==============================] - 0s 4ms/step - loss: 0.4600 - accuracy: 0.5048 - auc: 0.7956 - val_loss: 0.6005 - val_accuracy: 0.3240 - val_auc: 0.5891\n",
      "Epoch 82/100\n",
      "16/16 [==============================] - 0s 4ms/step - loss: 0.4591 - accuracy: 0.5080 - auc: 0.7961 - val_loss: 0.6015 - val_accuracy: 0.3189 - val_auc: 0.5872\n",
      "Epoch 83/100\n",
      "16/16 [==============================] - 0s 4ms/step - loss: 0.4583 - accuracy: 0.5073 - auc: 0.7972 - val_loss: 0.6000 - val_accuracy: 0.3163 - val_auc: 0.5876\n",
      "Epoch 84/100\n",
      "16/16 [==============================] - 0s 4ms/step - loss: 0.4577 - accuracy: 0.5125 - auc: 0.8000 - val_loss: 0.6032 - val_accuracy: 0.3291 - val_auc: 0.5871\n",
      "Epoch 85/100\n",
      "16/16 [==============================] - 0s 4ms/step - loss: 0.4568 - accuracy: 0.5112 - auc: 0.7988 - val_loss: 0.6030 - val_accuracy: 0.3087 - val_auc: 0.5851\n",
      "Epoch 86/100\n",
      "16/16 [==============================] - 0s 4ms/step - loss: 0.4559 - accuracy: 0.5144 - auc: 0.8012 - val_loss: 0.6049 - val_accuracy: 0.3265 - val_auc: 0.5839\n",
      "Epoch 87/100\n",
      "16/16 [==============================] - 0s 6ms/step - loss: 0.4553 - accuracy: 0.5176 - auc: 0.8016 - val_loss: 0.6040 - val_accuracy: 0.3138 - val_auc: 0.5855\n",
      "Epoch 88/100\n",
      "16/16 [==============================] - 0s 5ms/step - loss: 0.4543 - accuracy: 0.5163 - auc: 0.8030 - val_loss: 0.6059 - val_accuracy: 0.3087 - val_auc: 0.5841\n",
      "Epoch 89/100\n",
      "16/16 [==============================] - 0s 4ms/step - loss: 0.4533 - accuracy: 0.5163 - auc: 0.8032 - val_loss: 0.6038 - val_accuracy: 0.2959 - val_auc: 0.5839\n",
      "Epoch 90/100\n",
      "16/16 [==============================] - 0s 4ms/step - loss: 0.4524 - accuracy: 0.5201 - auc: 0.8063 - val_loss: 0.6061 - val_accuracy: 0.3214 - val_auc: 0.5859\n",
      "Epoch 91/100\n",
      "16/16 [==============================] - 0s 4ms/step - loss: 0.4512 - accuracy: 0.5137 - auc: 0.8060 - val_loss: 0.6044 - val_accuracy: 0.2934 - val_auc: 0.5847\n",
      "Epoch 92/100\n",
      "16/16 [==============================] - 0s 4ms/step - loss: 0.4504 - accuracy: 0.5208 - auc: 0.8098 - val_loss: 0.6074 - val_accuracy: 0.3112 - val_auc: 0.5843\n",
      "Epoch 93/100\n",
      "16/16 [==============================] - 0s 4ms/step - loss: 0.4496 - accuracy: 0.5240 - auc: 0.8083 - val_loss: 0.6062 - val_accuracy: 0.3036 - val_auc: 0.5856\n",
      "Epoch 94/100\n",
      "16/16 [==============================] - 0s 4ms/step - loss: 0.4486 - accuracy: 0.5233 - auc: 0.8100 - val_loss: 0.6069 - val_accuracy: 0.2985 - val_auc: 0.5854\n",
      "Epoch 95/100\n",
      "16/16 [==============================] - 0s 4ms/step - loss: 0.4480 - accuracy: 0.5240 - auc: 0.8106 - val_loss: 0.6060 - val_accuracy: 0.2959 - val_auc: 0.5870\n",
      "Epoch 96/100\n",
      "16/16 [==============================] - 0s 4ms/step - loss: 0.4468 - accuracy: 0.5252 - auc: 0.8132 - val_loss: 0.6082 - val_accuracy: 0.3087 - val_auc: 0.5849\n",
      "Epoch 97/100\n",
      "16/16 [==============================] - 0s 4ms/step - loss: 0.4460 - accuracy: 0.5272 - auc: 0.8134 - val_loss: 0.6086 - val_accuracy: 0.3061 - val_auc: 0.5854\n",
      "Epoch 98/100\n",
      "16/16 [==============================] - 0s 4ms/step - loss: 0.4450 - accuracy: 0.5201 - auc: 0.8145 - val_loss: 0.6085 - val_accuracy: 0.3189 - val_auc: 0.5848\n",
      "Epoch 99/100\n",
      "16/16 [==============================] - 0s 4ms/step - loss: 0.4440 - accuracy: 0.5291 - auc: 0.8165 - val_loss: 0.6097 - val_accuracy: 0.3087 - val_auc: 0.5856\n",
      "Epoch 100/100\n",
      "16/16 [==============================] - 0s 4ms/step - loss: 0.4431 - accuracy: 0.5297 - auc: 0.8169 - val_loss: 0.6133 - val_accuracy: 0.3163 - val_auc: 0.5829\n",
      "Epoch 1/100\n",
      "16/16 [==============================] - 0s 20ms/step - loss: 0.5934 - accuracy: 0.3712 - auc: 0.5965 - val_loss: 0.5943 - val_accuracy: 0.3291 - val_auc: 0.5677\n",
      "Epoch 2/100\n",
      "16/16 [==============================] - 0s 4ms/step - loss: 0.5488 - accuracy: 0.4268 - auc: 0.6341 - val_loss: 0.5913 - val_accuracy: 0.3393 - val_auc: 0.5759\n",
      "Epoch 3/100\n",
      "16/16 [==============================] - 0s 4ms/step - loss: 0.5405 - accuracy: 0.4339 - auc: 0.6454 - val_loss: 0.5902 - val_accuracy: 0.3393 - val_auc: 0.5793\n",
      "Epoch 4/100\n",
      "16/16 [==============================] - 0s 4ms/step - loss: 0.5367 - accuracy: 0.4351 - auc: 0.6536 - val_loss: 0.5906 - val_accuracy: 0.3393 - val_auc: 0.5815\n",
      "Epoch 5/100\n",
      "16/16 [==============================] - 0s 4ms/step - loss: 0.5336 - accuracy: 0.4371 - auc: 0.6598 - val_loss: 0.5887 - val_accuracy: 0.3393 - val_auc: 0.5835\n",
      "Epoch 6/100\n",
      "16/16 [==============================] - 0s 4ms/step - loss: 0.5312 - accuracy: 0.4358 - auc: 0.6655 - val_loss: 0.5890 - val_accuracy: 0.3393 - val_auc: 0.5839\n",
      "Epoch 7/100\n",
      "16/16 [==============================] - 0s 4ms/step - loss: 0.5291 - accuracy: 0.4383 - auc: 0.6705 - val_loss: 0.5892 - val_accuracy: 0.3393 - val_auc: 0.5832\n",
      "Epoch 8/100\n",
      "16/16 [==============================] - 0s 4ms/step - loss: 0.5272 - accuracy: 0.4377 - auc: 0.6751 - val_loss: 0.5898 - val_accuracy: 0.3393 - val_auc: 0.5840\n",
      "Epoch 9/100\n",
      "16/16 [==============================] - 0s 4ms/step - loss: 0.5253 - accuracy: 0.4383 - auc: 0.6784 - val_loss: 0.5902 - val_accuracy: 0.3393 - val_auc: 0.5845\n",
      "Epoch 10/100\n",
      "16/16 [==============================] - 0s 4ms/step - loss: 0.5237 - accuracy: 0.4390 - auc: 0.6826 - val_loss: 0.5900 - val_accuracy: 0.3393 - val_auc: 0.5845\n",
      "Epoch 11/100\n",
      "16/16 [==============================] - 0s 4ms/step - loss: 0.5220 - accuracy: 0.4383 - auc: 0.6865 - val_loss: 0.5881 - val_accuracy: 0.3418 - val_auc: 0.5844\n",
      "Epoch 12/100\n",
      "16/16 [==============================] - 0s 4ms/step - loss: 0.5205 - accuracy: 0.4403 - auc: 0.6900 - val_loss: 0.5889 - val_accuracy: 0.3393 - val_auc: 0.5848\n",
      "Epoch 13/100\n",
      "16/16 [==============================] - 0s 4ms/step - loss: 0.5192 - accuracy: 0.4428 - auc: 0.6926 - val_loss: 0.5887 - val_accuracy: 0.3393 - val_auc: 0.5852\n",
      "Epoch 14/100\n",
      "16/16 [==============================] - 0s 4ms/step - loss: 0.5179 - accuracy: 0.4441 - auc: 0.6954 - val_loss: 0.5889 - val_accuracy: 0.3393 - val_auc: 0.5859\n",
      "Epoch 15/100\n",
      "16/16 [==============================] - 0s 4ms/step - loss: 0.5165 - accuracy: 0.4422 - auc: 0.6982 - val_loss: 0.5896 - val_accuracy: 0.3393 - val_auc: 0.5855\n",
      "Epoch 16/100\n",
      "16/16 [==============================] - 0s 4ms/step - loss: 0.5153 - accuracy: 0.4447 - auc: 0.7015 - val_loss: 0.5903 - val_accuracy: 0.3393 - val_auc: 0.5844\n",
      "Epoch 17/100\n",
      "16/16 [==============================] - 0s 4ms/step - loss: 0.5141 - accuracy: 0.4428 - auc: 0.7034 - val_loss: 0.5889 - val_accuracy: 0.3342 - val_auc: 0.5838\n",
      "Epoch 18/100\n",
      "16/16 [==============================] - 0s 4ms/step - loss: 0.5128 - accuracy: 0.4486 - auc: 0.7068 - val_loss: 0.5903 - val_accuracy: 0.3342 - val_auc: 0.5828\n",
      "Epoch 19/100\n",
      "16/16 [==============================] - 0s 4ms/step - loss: 0.5119 - accuracy: 0.4479 - auc: 0.7080 - val_loss: 0.5901 - val_accuracy: 0.3342 - val_auc: 0.5824\n",
      "Epoch 20/100\n",
      "16/16 [==============================] - 0s 4ms/step - loss: 0.5106 - accuracy: 0.4447 - auc: 0.7103 - val_loss: 0.5882 - val_accuracy: 0.3265 - val_auc: 0.5818\n",
      "Epoch 21/100\n",
      "16/16 [==============================] - 0s 4ms/step - loss: 0.5097 - accuracy: 0.4479 - auc: 0.7133 - val_loss: 0.5882 - val_accuracy: 0.3316 - val_auc: 0.5824\n",
      "Epoch 22/100\n",
      "16/16 [==============================] - 0s 4ms/step - loss: 0.5087 - accuracy: 0.4492 - auc: 0.7156 - val_loss: 0.5893 - val_accuracy: 0.3265 - val_auc: 0.5811\n",
      "Epoch 23/100\n",
      "16/16 [==============================] - 0s 4ms/step - loss: 0.5073 - accuracy: 0.4537 - auc: 0.7186 - val_loss: 0.5913 - val_accuracy: 0.3342 - val_auc: 0.5814\n",
      "Epoch 24/100\n",
      "16/16 [==============================] - 0s 4ms/step - loss: 0.5065 - accuracy: 0.4543 - auc: 0.7194 - val_loss: 0.5910 - val_accuracy: 0.3316 - val_auc: 0.5818\n",
      "Epoch 25/100\n",
      "16/16 [==============================] - 0s 4ms/step - loss: 0.5055 - accuracy: 0.4537 - auc: 0.7216 - val_loss: 0.5921 - val_accuracy: 0.3367 - val_auc: 0.5809\n",
      "Epoch 26/100\n",
      "16/16 [==============================] - 0s 4ms/step - loss: 0.5045 - accuracy: 0.4556 - auc: 0.7234 - val_loss: 0.5910 - val_accuracy: 0.3265 - val_auc: 0.5805\n",
      "Epoch 27/100\n",
      "16/16 [==============================] - 0s 4ms/step - loss: 0.5036 - accuracy: 0.4588 - auc: 0.7254 - val_loss: 0.5925 - val_accuracy: 0.3291 - val_auc: 0.5786\n",
      "Epoch 28/100\n",
      "16/16 [==============================] - 0s 4ms/step - loss: 0.5027 - accuracy: 0.4581 - auc: 0.7268 - val_loss: 0.5921 - val_accuracy: 0.3291 - val_auc: 0.5785\n",
      "Epoch 29/100\n",
      "16/16 [==============================] - 0s 4ms/step - loss: 0.5015 - accuracy: 0.4620 - auc: 0.7292 - val_loss: 0.5938 - val_accuracy: 0.3342 - val_auc: 0.5773\n",
      "Epoch 30/100\n",
      "16/16 [==============================] - 0s 6ms/step - loss: 0.5006 - accuracy: 0.4665 - auc: 0.7313 - val_loss: 0.5945 - val_accuracy: 0.3316 - val_auc: 0.5777\n",
      "Epoch 31/100\n",
      "16/16 [==============================] - 0s 4ms/step - loss: 0.4996 - accuracy: 0.4613 - auc: 0.7326 - val_loss: 0.5938 - val_accuracy: 0.3316 - val_auc: 0.5777\n",
      "Epoch 32/100\n",
      "16/16 [==============================] - 0s 4ms/step - loss: 0.4990 - accuracy: 0.4613 - auc: 0.7341 - val_loss: 0.5932 - val_accuracy: 0.3316 - val_auc: 0.5774\n",
      "Epoch 33/100\n",
      "16/16 [==============================] - 0s 4ms/step - loss: 0.4978 - accuracy: 0.4633 - auc: 0.7364 - val_loss: 0.5919 - val_accuracy: 0.3163 - val_auc: 0.5786\n",
      "Epoch 34/100\n",
      "16/16 [==============================] - 0s 4ms/step - loss: 0.4969 - accuracy: 0.4690 - auc: 0.7384 - val_loss: 0.5923 - val_accuracy: 0.3265 - val_auc: 0.5785\n",
      "Epoch 35/100\n",
      "16/16 [==============================] - 0s 4ms/step - loss: 0.4960 - accuracy: 0.4703 - auc: 0.7401 - val_loss: 0.5949 - val_accuracy: 0.3240 - val_auc: 0.5779\n",
      "Epoch 36/100\n",
      "16/16 [==============================] - 0s 4ms/step - loss: 0.4952 - accuracy: 0.4684 - auc: 0.7407 - val_loss: 0.5940 - val_accuracy: 0.3189 - val_auc: 0.5774\n",
      "Epoch 37/100\n",
      "16/16 [==============================] - 0s 4ms/step - loss: 0.4944 - accuracy: 0.4709 - auc: 0.7424 - val_loss: 0.5957 - val_accuracy: 0.3189 - val_auc: 0.5759\n",
      "Epoch 38/100\n",
      "16/16 [==============================] - 0s 4ms/step - loss: 0.4937 - accuracy: 0.4677 - auc: 0.7437 - val_loss: 0.5952 - val_accuracy: 0.3214 - val_auc: 0.5756\n",
      "Epoch 39/100\n",
      "16/16 [==============================] - 0s 5ms/step - loss: 0.4927 - accuracy: 0.4716 - auc: 0.7460 - val_loss: 0.5962 - val_accuracy: 0.3240 - val_auc: 0.5763\n",
      "Epoch 40/100\n",
      "16/16 [==============================] - 0s 4ms/step - loss: 0.4920 - accuracy: 0.4690 - auc: 0.7464 - val_loss: 0.5954 - val_accuracy: 0.3189 - val_auc: 0.5762\n",
      "Epoch 41/100\n",
      "16/16 [==============================] - 0s 4ms/step - loss: 0.4909 - accuracy: 0.4703 - auc: 0.7485 - val_loss: 0.5953 - val_accuracy: 0.3163 - val_auc: 0.5753\n",
      "Epoch 42/100\n",
      "16/16 [==============================] - 0s 4ms/step - loss: 0.4901 - accuracy: 0.4748 - auc: 0.7504 - val_loss: 0.5959 - val_accuracy: 0.3163 - val_auc: 0.5762\n",
      "Epoch 43/100\n",
      "16/16 [==============================] - 0s 4ms/step - loss: 0.4891 - accuracy: 0.4735 - auc: 0.7519 - val_loss: 0.5967 - val_accuracy: 0.3112 - val_auc: 0.5747\n",
      "Epoch 44/100\n",
      "16/16 [==============================] - 0s 4ms/step - loss: 0.4882 - accuracy: 0.4728 - auc: 0.7529 - val_loss: 0.5959 - val_accuracy: 0.3087 - val_auc: 0.5744\n",
      "Epoch 45/100\n",
      "16/16 [==============================] - 0s 4ms/step - loss: 0.4875 - accuracy: 0.4728 - auc: 0.7551 - val_loss: 0.5971 - val_accuracy: 0.3087 - val_auc: 0.5733\n",
      "Epoch 46/100\n",
      "16/16 [==============================] - 0s 4ms/step - loss: 0.4866 - accuracy: 0.4735 - auc: 0.7557 - val_loss: 0.5974 - val_accuracy: 0.3087 - val_auc: 0.5716\n",
      "Epoch 47/100\n",
      "16/16 [==============================] - 0s 4ms/step - loss: 0.4858 - accuracy: 0.4818 - auc: 0.7587 - val_loss: 0.5981 - val_accuracy: 0.3163 - val_auc: 0.5747\n",
      "Epoch 48/100\n",
      "16/16 [==============================] - 0s 4ms/step - loss: 0.4848 - accuracy: 0.4773 - auc: 0.7587 - val_loss: 0.5976 - val_accuracy: 0.3087 - val_auc: 0.5743\n",
      "Epoch 49/100\n",
      "16/16 [==============================] - 0s 4ms/step - loss: 0.4839 - accuracy: 0.4812 - auc: 0.7610 - val_loss: 0.5992 - val_accuracy: 0.3087 - val_auc: 0.5756\n",
      "Epoch 50/100\n",
      "16/16 [==============================] - 0s 4ms/step - loss: 0.4831 - accuracy: 0.4818 - auc: 0.7616 - val_loss: 0.5990 - val_accuracy: 0.3061 - val_auc: 0.5735\n",
      "Epoch 51/100\n",
      "16/16 [==============================] - 0s 4ms/step - loss: 0.4825 - accuracy: 0.4799 - auc: 0.7627 - val_loss: 0.5995 - val_accuracy: 0.3087 - val_auc: 0.5731\n",
      "Epoch 52/100\n",
      "16/16 [==============================] - 0s 4ms/step - loss: 0.4814 - accuracy: 0.4843 - auc: 0.7635 - val_loss: 0.5981 - val_accuracy: 0.3061 - val_auc: 0.5738\n",
      "Epoch 53/100\n",
      "16/16 [==============================] - 0s 4ms/step - loss: 0.4805 - accuracy: 0.4850 - auc: 0.7656 - val_loss: 0.5995 - val_accuracy: 0.3138 - val_auc: 0.5724\n",
      "Epoch 54/100\n",
      "16/16 [==============================] - 0s 4ms/step - loss: 0.4796 - accuracy: 0.4869 - auc: 0.7676 - val_loss: 0.6003 - val_accuracy: 0.3010 - val_auc: 0.5720\n",
      "Epoch 55/100\n",
      "16/16 [==============================] - 0s 4ms/step - loss: 0.4788 - accuracy: 0.4888 - auc: 0.7688 - val_loss: 0.5994 - val_accuracy: 0.3138 - val_auc: 0.5729\n",
      "Epoch 56/100\n",
      "16/16 [==============================] - 0s 4ms/step - loss: 0.4780 - accuracy: 0.4907 - auc: 0.7703 - val_loss: 0.6008 - val_accuracy: 0.3112 - val_auc: 0.5729\n",
      "Epoch 57/100\n",
      "16/16 [==============================] - 0s 5ms/step - loss: 0.4769 - accuracy: 0.4882 - auc: 0.7711 - val_loss: 0.5991 - val_accuracy: 0.3061 - val_auc: 0.5725\n",
      "Epoch 58/100\n",
      "16/16 [==============================] - 0s 4ms/step - loss: 0.4762 - accuracy: 0.4882 - auc: 0.7738 - val_loss: 0.6016 - val_accuracy: 0.3087 - val_auc: 0.5722\n",
      "Epoch 59/100\n",
      "16/16 [==============================] - 0s 4ms/step - loss: 0.4754 - accuracy: 0.4895 - auc: 0.7734 - val_loss: 0.6017 - val_accuracy: 0.2985 - val_auc: 0.5702\n",
      "Epoch 60/100\n",
      "16/16 [==============================] - 0s 4ms/step - loss: 0.4746 - accuracy: 0.4927 - auc: 0.7762 - val_loss: 0.6022 - val_accuracy: 0.3138 - val_auc: 0.5733\n",
      "Epoch 61/100\n",
      "16/16 [==============================] - 0s 4ms/step - loss: 0.4734 - accuracy: 0.4958 - auc: 0.7771 - val_loss: 0.6033 - val_accuracy: 0.3036 - val_auc: 0.5722\n",
      "Epoch 62/100\n",
      "16/16 [==============================] - 0s 4ms/step - loss: 0.4726 - accuracy: 0.4901 - auc: 0.7776 - val_loss: 0.6023 - val_accuracy: 0.3061 - val_auc: 0.5712\n",
      "Epoch 63/100\n",
      "16/16 [==============================] - 0s 4ms/step - loss: 0.4720 - accuracy: 0.4971 - auc: 0.7794 - val_loss: 0.6032 - val_accuracy: 0.3112 - val_auc: 0.5727\n",
      "Epoch 64/100\n",
      "16/16 [==============================] - 0s 4ms/step - loss: 0.4711 - accuracy: 0.4965 - auc: 0.7794 - val_loss: 0.6021 - val_accuracy: 0.3189 - val_auc: 0.5716\n",
      "Epoch 65/100\n",
      "16/16 [==============================] - 0s 6ms/step - loss: 0.4703 - accuracy: 0.4939 - auc: 0.7829 - val_loss: 0.6053 - val_accuracy: 0.3138 - val_auc: 0.5702\n",
      "Epoch 66/100\n",
      "16/16 [==============================] - 0s 4ms/step - loss: 0.4693 - accuracy: 0.5048 - auc: 0.7824 - val_loss: 0.6040 - val_accuracy: 0.3036 - val_auc: 0.5709\n",
      "Epoch 67/100\n",
      "16/16 [==============================] - 0s 4ms/step - loss: 0.4683 - accuracy: 0.5042 - auc: 0.7836 - val_loss: 0.6029 - val_accuracy: 0.2908 - val_auc: 0.5692\n",
      "Epoch 68/100\n",
      "16/16 [==============================] - 0s 4ms/step - loss: 0.4678 - accuracy: 0.4984 - auc: 0.7858 - val_loss: 0.6044 - val_accuracy: 0.3036 - val_auc: 0.5685\n",
      "Epoch 69/100\n",
      "16/16 [==============================] - 0s 4ms/step - loss: 0.4669 - accuracy: 0.5061 - auc: 0.7866 - val_loss: 0.6049 - val_accuracy: 0.3061 - val_auc: 0.5674\n",
      "Epoch 70/100\n",
      "16/16 [==============================] - 0s 4ms/step - loss: 0.4658 - accuracy: 0.5080 - auc: 0.7894 - val_loss: 0.6080 - val_accuracy: 0.3061 - val_auc: 0.5702\n",
      "Epoch 71/100\n",
      "16/16 [==============================] - 0s 4ms/step - loss: 0.4649 - accuracy: 0.5042 - auc: 0.7888 - val_loss: 0.6082 - val_accuracy: 0.2985 - val_auc: 0.5680\n",
      "Epoch 72/100\n",
      "16/16 [==============================] - 0s 4ms/step - loss: 0.4639 - accuracy: 0.5080 - auc: 0.7907 - val_loss: 0.6072 - val_accuracy: 0.3036 - val_auc: 0.5688\n",
      "Epoch 73/100\n",
      "16/16 [==============================] - 0s 4ms/step - loss: 0.4630 - accuracy: 0.5067 - auc: 0.7920 - val_loss: 0.6079 - val_accuracy: 0.3036 - val_auc: 0.5694\n",
      "Epoch 74/100\n",
      "16/16 [==============================] - 0s 5ms/step - loss: 0.4624 - accuracy: 0.5105 - auc: 0.7928 - val_loss: 0.6088 - val_accuracy: 0.3138 - val_auc: 0.5687\n",
      "Epoch 75/100\n",
      "16/16 [==============================] - 0s 4ms/step - loss: 0.4614 - accuracy: 0.5163 - auc: 0.7949 - val_loss: 0.6103 - val_accuracy: 0.3061 - val_auc: 0.5676\n",
      "Epoch 76/100\n",
      "16/16 [==============================] - 0s 5ms/step - loss: 0.4604 - accuracy: 0.5163 - auc: 0.7953 - val_loss: 0.6104 - val_accuracy: 0.3036 - val_auc: 0.5657\n",
      "Epoch 77/100\n",
      "16/16 [==============================] - 0s 4ms/step - loss: 0.4595 - accuracy: 0.5131 - auc: 0.7983 - val_loss: 0.6123 - val_accuracy: 0.3036 - val_auc: 0.5678\n",
      "Epoch 78/100\n",
      "16/16 [==============================] - 0s 4ms/step - loss: 0.4590 - accuracy: 0.5144 - auc: 0.7967 - val_loss: 0.6103 - val_accuracy: 0.2806 - val_auc: 0.5675\n",
      "Epoch 79/100\n",
      "16/16 [==============================] - 0s 4ms/step - loss: 0.4577 - accuracy: 0.5188 - auc: 0.7995 - val_loss: 0.6095 - val_accuracy: 0.2908 - val_auc: 0.5680\n",
      "Epoch 80/100\n",
      "16/16 [==============================] - 0s 4ms/step - loss: 0.4566 - accuracy: 0.5144 - auc: 0.8015 - val_loss: 0.6125 - val_accuracy: 0.2985 - val_auc: 0.5658\n",
      "Epoch 81/100\n",
      "16/16 [==============================] - 0s 4ms/step - loss: 0.4558 - accuracy: 0.5163 - auc: 0.8019 - val_loss: 0.6138 - val_accuracy: 0.3061 - val_auc: 0.5686\n",
      "Epoch 82/100\n",
      "16/16 [==============================] - 0s 4ms/step - loss: 0.4549 - accuracy: 0.5208 - auc: 0.8022 - val_loss: 0.6132 - val_accuracy: 0.2959 - val_auc: 0.5654\n",
      "Epoch 83/100\n",
      "16/16 [==============================] - 0s 4ms/step - loss: 0.4543 - accuracy: 0.5252 - auc: 0.8040 - val_loss: 0.6133 - val_accuracy: 0.2934 - val_auc: 0.5661\n",
      "Epoch 84/100\n",
      "16/16 [==============================] - 0s 4ms/step - loss: 0.4527 - accuracy: 0.5220 - auc: 0.8062 - val_loss: 0.6140 - val_accuracy: 0.3036 - val_auc: 0.5657\n",
      "Epoch 85/100\n",
      "16/16 [==============================] - 0s 4ms/step - loss: 0.4520 - accuracy: 0.5240 - auc: 0.8079 - val_loss: 0.6151 - val_accuracy: 0.2985 - val_auc: 0.5655\n",
      "Epoch 86/100\n",
      "16/16 [==============================] - 0s 4ms/step - loss: 0.4512 - accuracy: 0.5240 - auc: 0.8080 - val_loss: 0.6168 - val_accuracy: 0.2857 - val_auc: 0.5651\n",
      "Epoch 87/100\n",
      "16/16 [==============================] - 0s 4ms/step - loss: 0.4504 - accuracy: 0.5214 - auc: 0.8084 - val_loss: 0.6161 - val_accuracy: 0.2781 - val_auc: 0.5636\n",
      "Epoch 88/100\n",
      "16/16 [==============================] - 0s 4ms/step - loss: 0.4493 - accuracy: 0.5278 - auc: 0.8099 - val_loss: 0.6145 - val_accuracy: 0.2806 - val_auc: 0.5651\n",
      "Epoch 89/100\n",
      "16/16 [==============================] - 0s 4ms/step - loss: 0.4482 - accuracy: 0.5329 - auc: 0.8127 - val_loss: 0.6184 - val_accuracy: 0.2934 - val_auc: 0.5641\n",
      "Epoch 90/100\n",
      "16/16 [==============================] - 0s 4ms/step - loss: 0.4475 - accuracy: 0.5252 - auc: 0.8121 - val_loss: 0.6156 - val_accuracy: 0.2755 - val_auc: 0.5651\n",
      "Epoch 91/100\n",
      "16/16 [==============================] - 0s 4ms/step - loss: 0.4466 - accuracy: 0.5348 - auc: 0.8150 - val_loss: 0.6182 - val_accuracy: 0.2781 - val_auc: 0.5639\n",
      "Epoch 92/100\n",
      "16/16 [==============================] - 0s 4ms/step - loss: 0.4458 - accuracy: 0.5335 - auc: 0.8145 - val_loss: 0.6184 - val_accuracy: 0.2755 - val_auc: 0.5636\n",
      "Epoch 93/100\n",
      "16/16 [==============================] - 0s 4ms/step - loss: 0.4445 - accuracy: 0.5284 - auc: 0.8164 - val_loss: 0.6184 - val_accuracy: 0.2806 - val_auc: 0.5648\n",
      "Epoch 94/100\n",
      "16/16 [==============================] - 0s 4ms/step - loss: 0.4434 - accuracy: 0.5374 - auc: 0.8182 - val_loss: 0.6202 - val_accuracy: 0.2806 - val_auc: 0.5656\n",
      "Epoch 95/100\n",
      "16/16 [==============================] - 0s 4ms/step - loss: 0.4424 - accuracy: 0.5419 - auc: 0.8196 - val_loss: 0.6209 - val_accuracy: 0.2908 - val_auc: 0.5662\n",
      "Epoch 96/100\n",
      "16/16 [==============================] - 0s 4ms/step - loss: 0.4421 - accuracy: 0.5304 - auc: 0.8202 - val_loss: 0.6240 - val_accuracy: 0.2832 - val_auc: 0.5660\n",
      "Epoch 97/100\n",
      "16/16 [==============================] - 0s 6ms/step - loss: 0.4412 - accuracy: 0.5387 - auc: 0.8185 - val_loss: 0.6225 - val_accuracy: 0.2832 - val_auc: 0.5634\n",
      "Epoch 98/100\n",
      "16/16 [==============================] - 0s 4ms/step - loss: 0.4399 - accuracy: 0.5361 - auc: 0.8221 - val_loss: 0.6226 - val_accuracy: 0.2755 - val_auc: 0.5613\n",
      "Epoch 99/100\n",
      "16/16 [==============================] - 0s 4ms/step - loss: 0.4391 - accuracy: 0.5419 - auc: 0.8235 - val_loss: 0.6259 - val_accuracy: 0.2755 - val_auc: 0.5610\n",
      "Epoch 100/100\n",
      "16/16 [==============================] - 0s 5ms/step - loss: 0.4380 - accuracy: 0.5393 - auc: 0.8244 - val_loss: 0.6250 - val_accuracy: 0.2908 - val_auc: 0.5651\n"
     ]
    },
    {
     "data": {
      "text/html": [
       "<span style=\"color:#4527A0\"><h1 style=\"font-size:18px\">Trial complete</h1></span>"
      ],
      "text/plain": [
       "<IPython.core.display.HTML object>"
      ]
     },
     "metadata": {
      "tags": []
     },
     "output_type": "display_data"
    },
    {
     "data": {
      "text/html": [
       "<span style=\"color:#4527A0\"><h1 style=\"font-size:18px\">Trial summary</h1></span>"
      ],
      "text/plain": [
       "<IPython.core.display.HTML object>"
      ]
     },
     "metadata": {
      "tags": []
     },
     "output_type": "display_data"
    },
    {
     "data": {
      "text/html": [
       "<span style=\"color:cyan\"> |-Trial ID: a416f8cc3b492e28be3d687565f0cf53</span>"
      ],
      "text/plain": [
       "<IPython.core.display.HTML object>"
      ]
     },
     "metadata": {
      "tags": []
     },
     "output_type": "display_data"
    },
    {
     "data": {
      "text/html": [
       "<span style=\"color:cyan\"> |-Score: 0.34863945841789246</span>"
      ],
      "text/plain": [
       "<IPython.core.display.HTML object>"
      ]
     },
     "metadata": {
      "tags": []
     },
     "output_type": "display_data"
    },
    {
     "data": {
      "text/html": [
       "<span style=\"color:cyan\"> |-Best step: 0</span>"
      ],
      "text/plain": [
       "<IPython.core.display.HTML object>"
      ]
     },
     "metadata": {
      "tags": []
     },
     "output_type": "display_data"
    },
    {
     "data": {
      "text/html": [
       "<span style=\"color:#7E57C2\"><h2 style=\"font-size:16px\">Hyperparameters:</h2></span>"
      ],
      "text/plain": [
       "<IPython.core.display.HTML object>"
      ]
     },
     "metadata": {
      "tags": []
     },
     "output_type": "display_data"
    },
    {
     "data": {
      "text/html": [
       "<span style=\"color:cyan\"> |-act_0: selu</span>"
      ],
      "text/plain": [
       "<IPython.core.display.HTML object>"
      ]
     },
     "metadata": {
      "tags": []
     },
     "output_type": "display_data"
    },
    {
     "data": {
      "text/html": [
       "<span style=\"color:blue\"> |-act_1: relu</span>"
      ],
      "text/plain": [
       "<IPython.core.display.HTML object>"
      ]
     },
     "metadata": {
      "tags": []
     },
     "output_type": "display_data"
    },
    {
     "data": {
      "text/html": [
       "<span style=\"color:cyan\"> |-act_10: selu</span>"
      ],
      "text/plain": [
       "<IPython.core.display.HTML object>"
      ]
     },
     "metadata": {
      "tags": []
     },
     "output_type": "display_data"
    },
    {
     "data": {
      "text/html": [
       "<span style=\"color:blue\"> |-act_2: relu</span>"
      ],
      "text/plain": [
       "<IPython.core.display.HTML object>"
      ]
     },
     "metadata": {
      "tags": []
     },
     "output_type": "display_data"
    },
    {
     "data": {
      "text/html": [
       "<span style=\"color:cyan\"> |-act_3: relu</span>"
      ],
      "text/plain": [
       "<IPython.core.display.HTML object>"
      ]
     },
     "metadata": {
      "tags": []
     },
     "output_type": "display_data"
    },
    {
     "data": {
      "text/html": [
       "<span style=\"color:blue\"> |-act_4: selu</span>"
      ],
      "text/plain": [
       "<IPython.core.display.HTML object>"
      ]
     },
     "metadata": {
      "tags": []
     },
     "output_type": "display_data"
    },
    {
     "data": {
      "text/html": [
       "<span style=\"color:cyan\"> |-act_5: relu</span>"
      ],
      "text/plain": [
       "<IPython.core.display.HTML object>"
      ]
     },
     "metadata": {
      "tags": []
     },
     "output_type": "display_data"
    },
    {
     "data": {
      "text/html": [
       "<span style=\"color:blue\"> |-act_6: selu</span>"
      ],
      "text/plain": [
       "<IPython.core.display.HTML object>"
      ]
     },
     "metadata": {
      "tags": []
     },
     "output_type": "display_data"
    },
    {
     "data": {
      "text/html": [
       "<span style=\"color:cyan\"> |-act_7: relu</span>"
      ],
      "text/plain": [
       "<IPython.core.display.HTML object>"
      ]
     },
     "metadata": {
      "tags": []
     },
     "output_type": "display_data"
    },
    {
     "data": {
      "text/html": [
       "<span style=\"color:blue\"> |-act_8: relu</span>"
      ],
      "text/plain": [
       "<IPython.core.display.HTML object>"
      ]
     },
     "metadata": {
      "tags": []
     },
     "output_type": "display_data"
    },
    {
     "data": {
      "text/html": [
       "<span style=\"color:cyan\"> |-act_9: relu</span>"
      ],
      "text/plain": [
       "<IPython.core.display.HTML object>"
      ]
     },
     "metadata": {
      "tags": []
     },
     "output_type": "display_data"
    },
    {
     "data": {
      "text/html": [
       "<span style=\"color:blue\"> |-batch_size: 100</span>"
      ],
      "text/plain": [
       "<IPython.core.display.HTML object>"
      ]
     },
     "metadata": {
      "tags": []
     },
     "output_type": "display_data"
    },
    {
     "data": {
      "text/html": [
       "<span style=\"color:cyan\"> |-epochs: 100</span>"
      ],
      "text/plain": [
       "<IPython.core.display.HTML object>"
      ]
     },
     "metadata": {
      "tags": []
     },
     "output_type": "display_data"
    },
    {
     "data": {
      "text/html": [
       "<span style=\"color:blue\"> |-learning_rate: 0.1</span>"
      ],
      "text/plain": [
       "<IPython.core.display.HTML object>"
      ]
     },
     "metadata": {
      "tags": []
     },
     "output_type": "display_data"
    },
    {
     "data": {
      "text/html": [
       "<span style=\"color:cyan\"> |-number_of_layers: 1</span>"
      ],
      "text/plain": [
       "<IPython.core.display.HTML object>"
      ]
     },
     "metadata": {
      "tags": []
     },
     "output_type": "display_data"
    },
    {
     "data": {
      "text/html": [
       "<span style=\"color:blue\"> |-unit_0: 50</span>"
      ],
      "text/plain": [
       "<IPython.core.display.HTML object>"
      ]
     },
     "metadata": {
      "tags": []
     },
     "output_type": "display_data"
    },
    {
     "data": {
      "text/html": [
       "<span style=\"color:cyan\"> |-unit_1: 500</span>"
      ],
      "text/plain": [
       "<IPython.core.display.HTML object>"
      ]
     },
     "metadata": {
      "tags": []
     },
     "output_type": "display_data"
    },
    {
     "data": {
      "text/html": [
       "<span style=\"color:blue\"> |-unit_10: 500</span>"
      ],
      "text/plain": [
       "<IPython.core.display.HTML object>"
      ]
     },
     "metadata": {
      "tags": []
     },
     "output_type": "display_data"
    },
    {
     "data": {
      "text/html": [
       "<span style=\"color:cyan\"> |-unit_2: 500</span>"
      ],
      "text/plain": [
       "<IPython.core.display.HTML object>"
      ]
     },
     "metadata": {
      "tags": []
     },
     "output_type": "display_data"
    },
    {
     "data": {
      "text/html": [
       "<span style=\"color:blue\"> |-unit_3: 50</span>"
      ],
      "text/plain": [
       "<IPython.core.display.HTML object>"
      ]
     },
     "metadata": {
      "tags": []
     },
     "output_type": "display_data"
    },
    {
     "data": {
      "text/html": [
       "<span style=\"color:cyan\"> |-unit_4: 500</span>"
      ],
      "text/plain": [
       "<IPython.core.display.HTML object>"
      ]
     },
     "metadata": {
      "tags": []
     },
     "output_type": "display_data"
    },
    {
     "data": {
      "text/html": [
       "<span style=\"color:blue\"> |-unit_5: 50</span>"
      ],
      "text/plain": [
       "<IPython.core.display.HTML object>"
      ]
     },
     "metadata": {
      "tags": []
     },
     "output_type": "display_data"
    },
    {
     "data": {
      "text/html": [
       "<span style=\"color:cyan\"> |-unit_6: 500</span>"
      ],
      "text/plain": [
       "<IPython.core.display.HTML object>"
      ]
     },
     "metadata": {
      "tags": []
     },
     "output_type": "display_data"
    },
    {
     "data": {
      "text/html": [
       "<span style=\"color:blue\"> |-unit_7: 500</span>"
      ],
      "text/plain": [
       "<IPython.core.display.HTML object>"
      ]
     },
     "metadata": {
      "tags": []
     },
     "output_type": "display_data"
    },
    {
     "data": {
      "text/html": [
       "<span style=\"color:cyan\"> |-unit_8: 500</span>"
      ],
      "text/plain": [
       "<IPython.core.display.HTML object>"
      ]
     },
     "metadata": {
      "tags": []
     },
     "output_type": "display_data"
    },
    {
     "data": {
      "text/html": [
       "<span style=\"color:blue\"> |-unit_9: 500</span>"
      ],
      "text/plain": [
       "<IPython.core.display.HTML object>"
      ]
     },
     "metadata": {
      "tags": []
     },
     "output_type": "display_data"
    },
    {
     "name": "stdout",
     "output_type": "stream",
     "text": [
      "Epoch 1/100\n",
      "16/16 [==============================] - 0s 21ms/step - loss: 0.6807 - accuracy: 0.2377 - auc: 0.5206 - val_loss: 0.6385 - val_accuracy: 0.2500 - val_auc: 0.5317\n",
      "Epoch 2/100\n",
      "16/16 [==============================] - 0s 8ms/step - loss: 0.5921 - accuracy: 0.3412 - auc: 0.6001 - val_loss: 0.6018 - val_accuracy: 0.3061 - val_auc: 0.5577\n",
      "Epoch 3/100\n",
      "16/16 [==============================] - 0s 6ms/step - loss: 0.5583 - accuracy: 0.3968 - auc: 0.6343 - val_loss: 0.5879 - val_accuracy: 0.3393 - val_auc: 0.5719\n",
      "Epoch 4/100\n",
      "16/16 [==============================] - 0s 7ms/step - loss: 0.5441 - accuracy: 0.4173 - auc: 0.6470 - val_loss: 0.5846 - val_accuracy: 0.3469 - val_auc: 0.5770\n",
      "Epoch 5/100\n",
      "16/16 [==============================] - 0s 4ms/step - loss: 0.5355 - accuracy: 0.4319 - auc: 0.6581 - val_loss: 0.5886 - val_accuracy: 0.3393 - val_auc: 0.5729\n",
      "Epoch 6/100\n",
      "16/16 [==============================] - 0s 4ms/step - loss: 0.5326 - accuracy: 0.4307 - auc: 0.6608 - val_loss: 0.5884 - val_accuracy: 0.3367 - val_auc: 0.5728\n",
      "Epoch 7/100\n",
      "16/16 [==============================] - 0s 4ms/step - loss: 0.5296 - accuracy: 0.4339 - auc: 0.6660 - val_loss: 0.5911 - val_accuracy: 0.3393 - val_auc: 0.5688\n",
      "Epoch 8/100\n",
      "16/16 [==============================] - 0s 4ms/step - loss: 0.5285 - accuracy: 0.4332 - auc: 0.6691 - val_loss: 0.5845 - val_accuracy: 0.3469 - val_auc: 0.5885\n",
      "Epoch 9/100\n",
      "16/16 [==============================] - 0s 4ms/step - loss: 0.5268 - accuracy: 0.4313 - auc: 0.6728 - val_loss: 0.5882 - val_accuracy: 0.3393 - val_auc: 0.5784\n",
      "Epoch 10/100\n",
      "16/16 [==============================] - 0s 4ms/step - loss: 0.5256 - accuracy: 0.4358 - auc: 0.6764 - val_loss: 0.5870 - val_accuracy: 0.3444 - val_auc: 0.5820\n",
      "Epoch 11/100\n",
      "16/16 [==============================] - 0s 4ms/step - loss: 0.5250 - accuracy: 0.4351 - auc: 0.6757 - val_loss: 0.5886 - val_accuracy: 0.3444 - val_auc: 0.5817\n",
      "Epoch 12/100\n",
      "16/16 [==============================] - 0s 4ms/step - loss: 0.5241 - accuracy: 0.4339 - auc: 0.6792 - val_loss: 0.5862 - val_accuracy: 0.3393 - val_auc: 0.5881\n",
      "Epoch 13/100\n",
      "16/16 [==============================] - 0s 4ms/step - loss: 0.5237 - accuracy: 0.4332 - auc: 0.6792 - val_loss: 0.5889 - val_accuracy: 0.3418 - val_auc: 0.5818\n",
      "Epoch 14/100\n",
      "16/16 [==============================] - 0s 5ms/step - loss: 0.5223 - accuracy: 0.4377 - auc: 0.6827 - val_loss: 0.5890 - val_accuracy: 0.3444 - val_auc: 0.5823\n",
      "Epoch 15/100\n",
      "16/16 [==============================] - 0s 8ms/step - loss: 0.5215 - accuracy: 0.4332 - auc: 0.6840 - val_loss: 0.5890 - val_accuracy: 0.3520 - val_auc: 0.5824\n",
      "Epoch 16/100\n",
      "16/16 [==============================] - 0s 4ms/step - loss: 0.5208 - accuracy: 0.4377 - auc: 0.6866 - val_loss: 0.5916 - val_accuracy: 0.3444 - val_auc: 0.5777\n",
      "Epoch 17/100\n",
      "16/16 [==============================] - 0s 4ms/step - loss: 0.5201 - accuracy: 0.4396 - auc: 0.6870 - val_loss: 0.5949 - val_accuracy: 0.3367 - val_auc: 0.5740\n",
      "Epoch 18/100\n",
      "16/16 [==============================] - 0s 4ms/step - loss: 0.5192 - accuracy: 0.4326 - auc: 0.6892 - val_loss: 0.5878 - val_accuracy: 0.3520 - val_auc: 0.5865\n",
      "Epoch 19/100\n",
      "16/16 [==============================] - 0s 4ms/step - loss: 0.5196 - accuracy: 0.4364 - auc: 0.6889 - val_loss: 0.5921 - val_accuracy: 0.3469 - val_auc: 0.5794\n",
      "Epoch 20/100\n",
      "16/16 [==============================] - 0s 4ms/step - loss: 0.5175 - accuracy: 0.4435 - auc: 0.6927 - val_loss: 0.5980 - val_accuracy: 0.3163 - val_auc: 0.5740\n",
      "Epoch 21/100\n",
      "16/16 [==============================] - 0s 4ms/step - loss: 0.5190 - accuracy: 0.4377 - auc: 0.6898 - val_loss: 0.5865 - val_accuracy: 0.3520 - val_auc: 0.5916\n",
      "Epoch 22/100\n",
      "16/16 [==============================] - 0s 4ms/step - loss: 0.5167 - accuracy: 0.4377 - auc: 0.6945 - val_loss: 0.5917 - val_accuracy: 0.3393 - val_auc: 0.5753\n",
      "Epoch 23/100\n",
      "16/16 [==============================] - 0s 4ms/step - loss: 0.5165 - accuracy: 0.4390 - auc: 0.6955 - val_loss: 0.5938 - val_accuracy: 0.3418 - val_auc: 0.5789\n",
      "Epoch 24/100\n",
      "16/16 [==============================] - 0s 4ms/step - loss: 0.5169 - accuracy: 0.4396 - auc: 0.6951 - val_loss: 0.5927 - val_accuracy: 0.3367 - val_auc: 0.5841\n",
      "Epoch 25/100\n",
      "16/16 [==============================] - 0s 4ms/step - loss: 0.5151 - accuracy: 0.4351 - auc: 0.6986 - val_loss: 0.5965 - val_accuracy: 0.3316 - val_auc: 0.5784\n",
      "Epoch 26/100\n",
      "16/16 [==============================] - 0s 4ms/step - loss: 0.5149 - accuracy: 0.4358 - auc: 0.6979 - val_loss: 0.5966 - val_accuracy: 0.3342 - val_auc: 0.5762\n",
      "Epoch 27/100\n",
      "16/16 [==============================] - 0s 4ms/step - loss: 0.5149 - accuracy: 0.4403 - auc: 0.6985 - val_loss: 0.5925 - val_accuracy: 0.3393 - val_auc: 0.5846\n",
      "Epoch 28/100\n",
      "16/16 [==============================] - 0s 4ms/step - loss: 0.5136 - accuracy: 0.4422 - auc: 0.7010 - val_loss: 0.5951 - val_accuracy: 0.3265 - val_auc: 0.5792\n",
      "Epoch 29/100\n",
      "16/16 [==============================] - 0s 4ms/step - loss: 0.5142 - accuracy: 0.4390 - auc: 0.6989 - val_loss: 0.5947 - val_accuracy: 0.3291 - val_auc: 0.5809\n",
      "Epoch 30/100\n",
      "16/16 [==============================] - 0s 4ms/step - loss: 0.5124 - accuracy: 0.4454 - auc: 0.7039 - val_loss: 0.5928 - val_accuracy: 0.3418 - val_auc: 0.5834\n",
      "Epoch 31/100\n",
      "16/16 [==============================] - 0s 4ms/step - loss: 0.5127 - accuracy: 0.4428 - auc: 0.7032 - val_loss: 0.5934 - val_accuracy: 0.3418 - val_auc: 0.5834\n",
      "Epoch 32/100\n",
      "16/16 [==============================] - 0s 7ms/step - loss: 0.5116 - accuracy: 0.4396 - auc: 0.7053 - val_loss: 0.5939 - val_accuracy: 0.3571 - val_auc: 0.5832\n",
      "Epoch 33/100\n",
      "16/16 [==============================] - 0s 5ms/step - loss: 0.5106 - accuracy: 0.4454 - auc: 0.7074 - val_loss: 0.5959 - val_accuracy: 0.3393 - val_auc: 0.5795\n",
      "Epoch 34/100\n",
      "16/16 [==============================] - 0s 4ms/step - loss: 0.5092 - accuracy: 0.4454 - auc: 0.7094 - val_loss: 0.5946 - val_accuracy: 0.3546 - val_auc: 0.5836\n",
      "Epoch 35/100\n",
      "16/16 [==============================] - 0s 4ms/step - loss: 0.5109 - accuracy: 0.4435 - auc: 0.7067 - val_loss: 0.5973 - val_accuracy: 0.3342 - val_auc: 0.5766\n",
      "Epoch 36/100\n",
      "16/16 [==============================] - 0s 4ms/step - loss: 0.5093 - accuracy: 0.4460 - auc: 0.7093 - val_loss: 0.5955 - val_accuracy: 0.3342 - val_auc: 0.5789\n",
      "Epoch 37/100\n",
      "16/16 [==============================] - 0s 4ms/step - loss: 0.5093 - accuracy: 0.4435 - auc: 0.7091 - val_loss: 0.5970 - val_accuracy: 0.3418 - val_auc: 0.5808\n",
      "Epoch 38/100\n",
      "16/16 [==============================] - 0s 4ms/step - loss: 0.5079 - accuracy: 0.4396 - auc: 0.7123 - val_loss: 0.5972 - val_accuracy: 0.3316 - val_auc: 0.5760\n",
      "Epoch 39/100\n",
      "16/16 [==============================] - 0s 4ms/step - loss: 0.5070 - accuracy: 0.4498 - auc: 0.7138 - val_loss: 0.5976 - val_accuracy: 0.3214 - val_auc: 0.5767\n",
      "Epoch 40/100\n",
      "16/16 [==============================] - 0s 4ms/step - loss: 0.5075 - accuracy: 0.4466 - auc: 0.7129 - val_loss: 0.6001 - val_accuracy: 0.3316 - val_auc: 0.5746\n",
      "Epoch 41/100\n",
      "16/16 [==============================] - 0s 4ms/step - loss: 0.5078 - accuracy: 0.4454 - auc: 0.7125 - val_loss: 0.5989 - val_accuracy: 0.3240 - val_auc: 0.5743\n",
      "Epoch 42/100\n",
      "16/16 [==============================] - 0s 4ms/step - loss: 0.5064 - accuracy: 0.4543 - auc: 0.7159 - val_loss: 0.5992 - val_accuracy: 0.3214 - val_auc: 0.5755\n",
      "Epoch 43/100\n",
      "16/16 [==============================] - 0s 4ms/step - loss: 0.5061 - accuracy: 0.4479 - auc: 0.7152 - val_loss: 0.6008 - val_accuracy: 0.3214 - val_auc: 0.5796\n",
      "Epoch 44/100\n",
      "16/16 [==============================] - 0s 4ms/step - loss: 0.5053 - accuracy: 0.4486 - auc: 0.7177 - val_loss: 0.5973 - val_accuracy: 0.3316 - val_auc: 0.5822\n",
      "Epoch 45/100\n",
      "16/16 [==============================] - 0s 4ms/step - loss: 0.5062 - accuracy: 0.4466 - auc: 0.7155 - val_loss: 0.6013 - val_accuracy: 0.3214 - val_auc: 0.5763\n",
      "Epoch 46/100\n",
      "16/16 [==============================] - 0s 4ms/step - loss: 0.5038 - accuracy: 0.4454 - auc: 0.7207 - val_loss: 0.5988 - val_accuracy: 0.3571 - val_auc: 0.5774\n",
      "Epoch 47/100\n",
      "16/16 [==============================] - 0s 4ms/step - loss: 0.5041 - accuracy: 0.4486 - auc: 0.7203 - val_loss: 0.6022 - val_accuracy: 0.3291 - val_auc: 0.5767\n",
      "Epoch 48/100\n",
      "16/16 [==============================] - 0s 4ms/step - loss: 0.5029 - accuracy: 0.4486 - auc: 0.7228 - val_loss: 0.5993 - val_accuracy: 0.3393 - val_auc: 0.5766\n",
      "Epoch 49/100\n",
      "16/16 [==============================] - 0s 4ms/step - loss: 0.5022 - accuracy: 0.4486 - auc: 0.7215 - val_loss: 0.6037 - val_accuracy: 0.3240 - val_auc: 0.5755\n",
      "Epoch 50/100\n",
      "16/16 [==============================] - 0s 4ms/step - loss: 0.5012 - accuracy: 0.4505 - auc: 0.7242 - val_loss: 0.5998 - val_accuracy: 0.3316 - val_auc: 0.5822\n",
      "Epoch 51/100\n",
      "16/16 [==============================] - 0s 5ms/step - loss: 0.5012 - accuracy: 0.4498 - auc: 0.7256 - val_loss: 0.6047 - val_accuracy: 0.3291 - val_auc: 0.5744\n",
      "Epoch 52/100\n",
      "16/16 [==============================] - 0s 4ms/step - loss: 0.5008 - accuracy: 0.4486 - auc: 0.7251 - val_loss: 0.6037 - val_accuracy: 0.3316 - val_auc: 0.5758\n",
      "Epoch 53/100\n",
      "16/16 [==============================] - 0s 4ms/step - loss: 0.5006 - accuracy: 0.4498 - auc: 0.7250 - val_loss: 0.6016 - val_accuracy: 0.3495 - val_auc: 0.5783\n",
      "Epoch 54/100\n",
      "16/16 [==============================] - 0s 5ms/step - loss: 0.4991 - accuracy: 0.4518 - auc: 0.7276 - val_loss: 0.6083 - val_accuracy: 0.3240 - val_auc: 0.5697\n",
      "Epoch 55/100\n",
      "16/16 [==============================] - 0s 4ms/step - loss: 0.4987 - accuracy: 0.4498 - auc: 0.7285 - val_loss: 0.6030 - val_accuracy: 0.3291 - val_auc: 0.5764\n",
      "Epoch 56/100\n",
      "16/16 [==============================] - 0s 4ms/step - loss: 0.4992 - accuracy: 0.4569 - auc: 0.7272 - val_loss: 0.6035 - val_accuracy: 0.3291 - val_auc: 0.5713\n",
      "Epoch 57/100\n",
      "16/16 [==============================] - 0s 4ms/step - loss: 0.4989 - accuracy: 0.4492 - auc: 0.7281 - val_loss: 0.6063 - val_accuracy: 0.3189 - val_auc: 0.5703\n",
      "Epoch 58/100\n",
      "16/16 [==============================] - 0s 4ms/step - loss: 0.4981 - accuracy: 0.4505 - auc: 0.7300 - val_loss: 0.6058 - val_accuracy: 0.3265 - val_auc: 0.5763\n",
      "Epoch 59/100\n",
      "16/16 [==============================] - 0s 4ms/step - loss: 0.4973 - accuracy: 0.4492 - auc: 0.7318 - val_loss: 0.6094 - val_accuracy: 0.3036 - val_auc: 0.5771\n",
      "Epoch 60/100\n",
      "16/16 [==============================] - 0s 4ms/step - loss: 0.4961 - accuracy: 0.4626 - auc: 0.7334 - val_loss: 0.6061 - val_accuracy: 0.3189 - val_auc: 0.5781\n",
      "Epoch 61/100\n",
      "16/16 [==============================] - 0s 4ms/step - loss: 0.4954 - accuracy: 0.4588 - auc: 0.7339 - val_loss: 0.6049 - val_accuracy: 0.3418 - val_auc: 0.5774\n",
      "Epoch 62/100\n",
      "16/16 [==============================] - 0s 4ms/step - loss: 0.4960 - accuracy: 0.4569 - auc: 0.7328 - val_loss: 0.6086 - val_accuracy: 0.3214 - val_auc: 0.5671\n",
      "Epoch 63/100\n",
      "16/16 [==============================] - 0s 4ms/step - loss: 0.4941 - accuracy: 0.4479 - auc: 0.7365 - val_loss: 0.6036 - val_accuracy: 0.3291 - val_auc: 0.5752\n",
      "Epoch 64/100\n",
      "16/16 [==============================] - 0s 5ms/step - loss: 0.4938 - accuracy: 0.4550 - auc: 0.7369 - val_loss: 0.6060 - val_accuracy: 0.3367 - val_auc: 0.5787\n",
      "Epoch 65/100\n",
      "16/16 [==============================] - 0s 5ms/step - loss: 0.4935 - accuracy: 0.4537 - auc: 0.7377 - val_loss: 0.6124 - val_accuracy: 0.2934 - val_auc: 0.5675\n",
      "Epoch 66/100\n",
      "16/16 [==============================] - 0s 4ms/step - loss: 0.4922 - accuracy: 0.4543 - auc: 0.7401 - val_loss: 0.6093 - val_accuracy: 0.3240 - val_auc: 0.5650\n",
      "Epoch 67/100\n",
      "16/16 [==============================] - 0s 4ms/step - loss: 0.4919 - accuracy: 0.4594 - auc: 0.7404 - val_loss: 0.6110 - val_accuracy: 0.3138 - val_auc: 0.5651\n",
      "Epoch 68/100\n",
      "16/16 [==============================] - 0s 5ms/step - loss: 0.4917 - accuracy: 0.4588 - auc: 0.7404 - val_loss: 0.6094 - val_accuracy: 0.3393 - val_auc: 0.5718\n",
      "Epoch 69/100\n",
      "16/16 [==============================] - 0s 4ms/step - loss: 0.4921 - accuracy: 0.4562 - auc: 0.7393 - val_loss: 0.6100 - val_accuracy: 0.3265 - val_auc: 0.5742\n",
      "Epoch 70/100\n",
      "16/16 [==============================] - 0s 4ms/step - loss: 0.4916 - accuracy: 0.4658 - auc: 0.7404 - val_loss: 0.6071 - val_accuracy: 0.3418 - val_auc: 0.5765\n",
      "Epoch 71/100\n",
      "16/16 [==============================] - 0s 5ms/step - loss: 0.4896 - accuracy: 0.4601 - auc: 0.7439 - val_loss: 0.6110 - val_accuracy: 0.3418 - val_auc: 0.5730\n",
      "Epoch 72/100\n",
      "16/16 [==============================] - 0s 4ms/step - loss: 0.4888 - accuracy: 0.4703 - auc: 0.7451 - val_loss: 0.6149 - val_accuracy: 0.2959 - val_auc: 0.5705\n",
      "Epoch 73/100\n",
      "16/16 [==============================] - 0s 4ms/step - loss: 0.4895 - accuracy: 0.4626 - auc: 0.7446 - val_loss: 0.6184 - val_accuracy: 0.2908 - val_auc: 0.5667\n",
      "Epoch 74/100\n",
      "16/16 [==============================] - 0s 5ms/step - loss: 0.4889 - accuracy: 0.4581 - auc: 0.7452 - val_loss: 0.6123 - val_accuracy: 0.3444 - val_auc: 0.5747\n",
      "Epoch 75/100\n",
      "16/16 [==============================] - 0s 5ms/step - loss: 0.4866 - accuracy: 0.4652 - auc: 0.7483 - val_loss: 0.6100 - val_accuracy: 0.3367 - val_auc: 0.5747\n",
      "Epoch 76/100\n",
      "16/16 [==============================] - 0s 5ms/step - loss: 0.4879 - accuracy: 0.4639 - auc: 0.7469 - val_loss: 0.6129 - val_accuracy: 0.3342 - val_auc: 0.5720\n",
      "Epoch 77/100\n",
      "16/16 [==============================] - 0s 4ms/step - loss: 0.4868 - accuracy: 0.4633 - auc: 0.7477 - val_loss: 0.6147 - val_accuracy: 0.3189 - val_auc: 0.5661\n",
      "Epoch 78/100\n",
      "16/16 [==============================] - 0s 4ms/step - loss: 0.4868 - accuracy: 0.4620 - auc: 0.7487 - val_loss: 0.6154 - val_accuracy: 0.3265 - val_auc: 0.5732\n",
      "Epoch 79/100\n",
      "16/16 [==============================] - 0s 4ms/step - loss: 0.4858 - accuracy: 0.4671 - auc: 0.7498 - val_loss: 0.6167 - val_accuracy: 0.3342 - val_auc: 0.5681\n",
      "Epoch 80/100\n",
      "16/16 [==============================] - 0s 5ms/step - loss: 0.4850 - accuracy: 0.4594 - auc: 0.7511 - val_loss: 0.6182 - val_accuracy: 0.3240 - val_auc: 0.5696\n",
      "Epoch 81/100\n",
      "16/16 [==============================] - 0s 5ms/step - loss: 0.4852 - accuracy: 0.4543 - auc: 0.7506 - val_loss: 0.6163 - val_accuracy: 0.3138 - val_auc: 0.5667\n",
      "Epoch 82/100\n",
      "16/16 [==============================] - 0s 5ms/step - loss: 0.4820 - accuracy: 0.4709 - auc: 0.7555 - val_loss: 0.6214 - val_accuracy: 0.3061 - val_auc: 0.5653\n",
      "Epoch 83/100\n",
      "16/16 [==============================] - 0s 5ms/step - loss: 0.4831 - accuracy: 0.4652 - auc: 0.7535 - val_loss: 0.6222 - val_accuracy: 0.3163 - val_auc: 0.5593\n",
      "Epoch 84/100\n",
      "16/16 [==============================] - 0s 5ms/step - loss: 0.4809 - accuracy: 0.4735 - auc: 0.7564 - val_loss: 0.6207 - val_accuracy: 0.3291 - val_auc: 0.5665\n",
      "Epoch 85/100\n",
      "16/16 [==============================] - 0s 5ms/step - loss: 0.4806 - accuracy: 0.4690 - auc: 0.7568 - val_loss: 0.6330 - val_accuracy: 0.2653 - val_auc: 0.5490\n",
      "Epoch 86/100\n",
      "16/16 [==============================] - 0s 4ms/step - loss: 0.4800 - accuracy: 0.4690 - auc: 0.7579 - val_loss: 0.6192 - val_accuracy: 0.3163 - val_auc: 0.5586\n",
      "Epoch 87/100\n",
      "16/16 [==============================] - 0s 5ms/step - loss: 0.4807 - accuracy: 0.4709 - auc: 0.7558 - val_loss: 0.6254 - val_accuracy: 0.2806 - val_auc: 0.5585\n",
      "Epoch 88/100\n",
      "16/16 [==============================] - 0s 5ms/step - loss: 0.4817 - accuracy: 0.4652 - auc: 0.7559 - val_loss: 0.6307 - val_accuracy: 0.2985 - val_auc: 0.5604\n",
      "Epoch 89/100\n",
      "16/16 [==============================] - 0s 5ms/step - loss: 0.4778 - accuracy: 0.4709 - auc: 0.7620 - val_loss: 0.6444 - val_accuracy: 0.2704 - val_auc: 0.5561\n",
      "Epoch 90/100\n",
      "16/16 [==============================] - 0s 5ms/step - loss: 0.4796 - accuracy: 0.4812 - auc: 0.7597 - val_loss: 0.6300 - val_accuracy: 0.3010 - val_auc: 0.5631\n",
      "Epoch 91/100\n",
      "16/16 [==============================] - 0s 4ms/step - loss: 0.4776 - accuracy: 0.4709 - auc: 0.7618 - val_loss: 0.6313 - val_accuracy: 0.3010 - val_auc: 0.5567\n",
      "Epoch 92/100\n",
      "16/16 [==============================] - 0s 4ms/step - loss: 0.4762 - accuracy: 0.4716 - auc: 0.7631 - val_loss: 0.6309 - val_accuracy: 0.2883 - val_auc: 0.5523\n",
      "Epoch 93/100\n",
      "16/16 [==============================] - 0s 5ms/step - loss: 0.4760 - accuracy: 0.4741 - auc: 0.7631 - val_loss: 0.6271 - val_accuracy: 0.3061 - val_auc: 0.5675\n",
      "Epoch 94/100\n",
      "16/16 [==============================] - 0s 4ms/step - loss: 0.4741 - accuracy: 0.4792 - auc: 0.7672 - val_loss: 0.6267 - val_accuracy: 0.3087 - val_auc: 0.5601\n",
      "Epoch 95/100\n",
      "16/16 [==============================] - 0s 5ms/step - loss: 0.4751 - accuracy: 0.4792 - auc: 0.7654 - val_loss: 0.6282 - val_accuracy: 0.2934 - val_auc: 0.5565\n",
      "Epoch 96/100\n",
      "16/16 [==============================] - 0s 5ms/step - loss: 0.4744 - accuracy: 0.4824 - auc: 0.7645 - val_loss: 0.6264 - val_accuracy: 0.3061 - val_auc: 0.5609\n",
      "Epoch 97/100\n",
      "16/16 [==============================] - 0s 4ms/step - loss: 0.4724 - accuracy: 0.4703 - auc: 0.7694 - val_loss: 0.6318 - val_accuracy: 0.2934 - val_auc: 0.5542\n",
      "Epoch 98/100\n",
      "16/16 [==============================] - 0s 5ms/step - loss: 0.4719 - accuracy: 0.4837 - auc: 0.7691 - val_loss: 0.6441 - val_accuracy: 0.2653 - val_auc: 0.5468\n",
      "Epoch 99/100\n",
      "16/16 [==============================] - 0s 5ms/step - loss: 0.4725 - accuracy: 0.4728 - auc: 0.7680 - val_loss: 0.6321 - val_accuracy: 0.3112 - val_auc: 0.5639\n",
      "Epoch 100/100\n",
      "16/16 [==============================] - 0s 4ms/step - loss: 0.4732 - accuracy: 0.4792 - auc: 0.7672 - val_loss: 0.6318 - val_accuracy: 0.2934 - val_auc: 0.5593\n",
      "Epoch 1/100\n",
      "16/16 [==============================] - 0s 19ms/step - loss: 0.6740 - accuracy: 0.2856 - auc: 0.5460 - val_loss: 0.6443 - val_accuracy: 0.2500 - val_auc: 0.5333\n",
      "Epoch 2/100\n",
      "16/16 [==============================] - 0s 4ms/step - loss: 0.5895 - accuracy: 0.3649 - auc: 0.6054 - val_loss: 0.6025 - val_accuracy: 0.3163 - val_auc: 0.5610\n",
      "Epoch 3/100\n",
      "16/16 [==============================] - 0s 4ms/step - loss: 0.5554 - accuracy: 0.4102 - auc: 0.6380 - val_loss: 0.5888 - val_accuracy: 0.3367 - val_auc: 0.5737\n",
      "Epoch 4/100\n",
      "16/16 [==============================] - 0s 4ms/step - loss: 0.5408 - accuracy: 0.4256 - auc: 0.6512 - val_loss: 0.5843 - val_accuracy: 0.3342 - val_auc: 0.5786\n",
      "Epoch 5/100\n",
      "16/16 [==============================] - 0s 4ms/step - loss: 0.5341 - accuracy: 0.4294 - auc: 0.6606 - val_loss: 0.5835 - val_accuracy: 0.3367 - val_auc: 0.5795\n",
      "Epoch 6/100\n",
      "16/16 [==============================] - 0s 4ms/step - loss: 0.5314 - accuracy: 0.4307 - auc: 0.6647 - val_loss: 0.5865 - val_accuracy: 0.3444 - val_auc: 0.5758\n",
      "Epoch 7/100\n",
      "16/16 [==============================] - 0s 5ms/step - loss: 0.5285 - accuracy: 0.4358 - auc: 0.6701 - val_loss: 0.5867 - val_accuracy: 0.3367 - val_auc: 0.5797\n",
      "Epoch 8/100\n",
      "16/16 [==============================] - 0s 4ms/step - loss: 0.5277 - accuracy: 0.4294 - auc: 0.6714 - val_loss: 0.5847 - val_accuracy: 0.3418 - val_auc: 0.5831\n",
      "Epoch 9/100\n",
      "16/16 [==============================] - 0s 5ms/step - loss: 0.5253 - accuracy: 0.4377 - auc: 0.6767 - val_loss: 0.5854 - val_accuracy: 0.3342 - val_auc: 0.5811\n",
      "Epoch 10/100\n",
      "16/16 [==============================] - 0s 4ms/step - loss: 0.5246 - accuracy: 0.4371 - auc: 0.6783 - val_loss: 0.5883 - val_accuracy: 0.3495 - val_auc: 0.5771\n",
      "Epoch 11/100\n",
      "16/16 [==============================] - 0s 4ms/step - loss: 0.5230 - accuracy: 0.4396 - auc: 0.6816 - val_loss: 0.5852 - val_accuracy: 0.3495 - val_auc: 0.5874\n",
      "Epoch 12/100\n",
      "16/16 [==============================] - 0s 4ms/step - loss: 0.5229 - accuracy: 0.4447 - auc: 0.6817 - val_loss: 0.5869 - val_accuracy: 0.3469 - val_auc: 0.5836\n",
      "Epoch 13/100\n",
      "16/16 [==============================] - 0s 4ms/step - loss: 0.5205 - accuracy: 0.4358 - auc: 0.6869 - val_loss: 0.5879 - val_accuracy: 0.3444 - val_auc: 0.5844\n",
      "Epoch 14/100\n",
      "16/16 [==============================] - 0s 4ms/step - loss: 0.5211 - accuracy: 0.4345 - auc: 0.6847 - val_loss: 0.5905 - val_accuracy: 0.3393 - val_auc: 0.5794\n",
      "Epoch 15/100\n",
      "16/16 [==============================] - 0s 4ms/step - loss: 0.5186 - accuracy: 0.4466 - auc: 0.6911 - val_loss: 0.5859 - val_accuracy: 0.3469 - val_auc: 0.5873\n",
      "Epoch 16/100\n",
      "16/16 [==============================] - 0s 6ms/step - loss: 0.5182 - accuracy: 0.4409 - auc: 0.6913 - val_loss: 0.5897 - val_accuracy: 0.3367 - val_auc: 0.5830\n",
      "Epoch 17/100\n",
      "16/16 [==============================] - 0s 4ms/step - loss: 0.5188 - accuracy: 0.4415 - auc: 0.6907 - val_loss: 0.5886 - val_accuracy: 0.3495 - val_auc: 0.5813\n",
      "Epoch 18/100\n",
      "16/16 [==============================] - 0s 4ms/step - loss: 0.5163 - accuracy: 0.4460 - auc: 0.6956 - val_loss: 0.5892 - val_accuracy: 0.3444 - val_auc: 0.5821\n",
      "Epoch 19/100\n",
      "16/16 [==============================] - 0s 4ms/step - loss: 0.5164 - accuracy: 0.4377 - auc: 0.6952 - val_loss: 0.5920 - val_accuracy: 0.3189 - val_auc: 0.5814\n",
      "Epoch 20/100\n",
      "16/16 [==============================] - 0s 4ms/step - loss: 0.5166 - accuracy: 0.4435 - auc: 0.6954 - val_loss: 0.5883 - val_accuracy: 0.3444 - val_auc: 0.5822\n",
      "Epoch 21/100\n",
      "16/16 [==============================] - 0s 5ms/step - loss: 0.5154 - accuracy: 0.4390 - auc: 0.6985 - val_loss: 0.5883 - val_accuracy: 0.3418 - val_auc: 0.5874\n",
      "Epoch 22/100\n",
      "16/16 [==============================] - 0s 4ms/step - loss: 0.5148 - accuracy: 0.4428 - auc: 0.6988 - val_loss: 0.5890 - val_accuracy: 0.3469 - val_auc: 0.5844\n",
      "Epoch 23/100\n",
      "16/16 [==============================] - 0s 4ms/step - loss: 0.5144 - accuracy: 0.4498 - auc: 0.6999 - val_loss: 0.5906 - val_accuracy: 0.3342 - val_auc: 0.5827\n",
      "Epoch 24/100\n",
      "16/16 [==============================] - 0s 4ms/step - loss: 0.5131 - accuracy: 0.4530 - auc: 0.7023 - val_loss: 0.5917 - val_accuracy: 0.3393 - val_auc: 0.5792\n",
      "Epoch 25/100\n",
      "16/16 [==============================] - 0s 4ms/step - loss: 0.5121 - accuracy: 0.4466 - auc: 0.7052 - val_loss: 0.5901 - val_accuracy: 0.3342 - val_auc: 0.5851\n",
      "Epoch 26/100\n",
      "16/16 [==============================] - 0s 4ms/step - loss: 0.5126 - accuracy: 0.4447 - auc: 0.7032 - val_loss: 0.5928 - val_accuracy: 0.3393 - val_auc: 0.5782\n",
      "Epoch 27/100\n",
      "16/16 [==============================] - 0s 4ms/step - loss: 0.5126 - accuracy: 0.4473 - auc: 0.7030 - val_loss: 0.5905 - val_accuracy: 0.3418 - val_auc: 0.5852\n",
      "Epoch 28/100\n",
      "16/16 [==============================] - 0s 4ms/step - loss: 0.5118 - accuracy: 0.4409 - auc: 0.7053 - val_loss: 0.5916 - val_accuracy: 0.3444 - val_auc: 0.5824\n",
      "Epoch 29/100\n",
      "16/16 [==============================] - 0s 4ms/step - loss: 0.5105 - accuracy: 0.4441 - auc: 0.7075 - val_loss: 0.5947 - val_accuracy: 0.3316 - val_auc: 0.5746\n",
      "Epoch 30/100\n",
      "16/16 [==============================] - 0s 4ms/step - loss: 0.5107 - accuracy: 0.4441 - auc: 0.7070 - val_loss: 0.5934 - val_accuracy: 0.3367 - val_auc: 0.5781\n",
      "Epoch 31/100\n",
      "16/16 [==============================] - 0s 4ms/step - loss: 0.5098 - accuracy: 0.4543 - auc: 0.7086 - val_loss: 0.5940 - val_accuracy: 0.3342 - val_auc: 0.5772\n",
      "Epoch 32/100\n",
      "16/16 [==============================] - 0s 4ms/step - loss: 0.5079 - accuracy: 0.4518 - auc: 0.7124 - val_loss: 0.5951 - val_accuracy: 0.3291 - val_auc: 0.5775\n",
      "Epoch 33/100\n",
      "16/16 [==============================] - 0s 4ms/step - loss: 0.5078 - accuracy: 0.4550 - auc: 0.7127 - val_loss: 0.5941 - val_accuracy: 0.3240 - val_auc: 0.5780\n",
      "Epoch 34/100\n",
      "16/16 [==============================] - 0s 4ms/step - loss: 0.5073 - accuracy: 0.4562 - auc: 0.7131 - val_loss: 0.5960 - val_accuracy: 0.3189 - val_auc: 0.5773\n",
      "Epoch 35/100\n",
      "16/16 [==============================] - 0s 4ms/step - loss: 0.5063 - accuracy: 0.4479 - auc: 0.7165 - val_loss: 0.5935 - val_accuracy: 0.3240 - val_auc: 0.5824\n",
      "Epoch 36/100\n",
      "16/16 [==============================] - 0s 4ms/step - loss: 0.5060 - accuracy: 0.4479 - auc: 0.7155 - val_loss: 0.5942 - val_accuracy: 0.3291 - val_auc: 0.5824\n",
      "Epoch 37/100\n",
      "16/16 [==============================] - 0s 4ms/step - loss: 0.5057 - accuracy: 0.4601 - auc: 0.7163 - val_loss: 0.5952 - val_accuracy: 0.3240 - val_auc: 0.5827\n",
      "Epoch 38/100\n",
      "16/16 [==============================] - 0s 4ms/step - loss: 0.5050 - accuracy: 0.4511 - auc: 0.7182 - val_loss: 0.5958 - val_accuracy: 0.3189 - val_auc: 0.5808\n",
      "Epoch 39/100\n",
      "16/16 [==============================] - 0s 4ms/step - loss: 0.5037 - accuracy: 0.4562 - auc: 0.7198 - val_loss: 0.5990 - val_accuracy: 0.3214 - val_auc: 0.5749\n",
      "Epoch 40/100\n",
      "16/16 [==============================] - 0s 4ms/step - loss: 0.5043 - accuracy: 0.4524 - auc: 0.7194 - val_loss: 0.6017 - val_accuracy: 0.3087 - val_auc: 0.5674\n",
      "Epoch 41/100\n",
      "16/16 [==============================] - 0s 4ms/step - loss: 0.5038 - accuracy: 0.4530 - auc: 0.7208 - val_loss: 0.5969 - val_accuracy: 0.3393 - val_auc: 0.5831\n",
      "Epoch 42/100\n",
      "16/16 [==============================] - 0s 4ms/step - loss: 0.5025 - accuracy: 0.4588 - auc: 0.7218 - val_loss: 0.6019 - val_accuracy: 0.3138 - val_auc: 0.5701\n",
      "Epoch 43/100\n",
      "16/16 [==============================] - 0s 5ms/step - loss: 0.5019 - accuracy: 0.4594 - auc: 0.7236 - val_loss: 0.5983 - val_accuracy: 0.3112 - val_auc: 0.5761\n",
      "Epoch 44/100\n",
      "16/16 [==============================] - 0s 4ms/step - loss: 0.5008 - accuracy: 0.4575 - auc: 0.7272 - val_loss: 0.5990 - val_accuracy: 0.3112 - val_auc: 0.5805\n",
      "Epoch 45/100\n",
      "16/16 [==============================] - 0s 4ms/step - loss: 0.5020 - accuracy: 0.4543 - auc: 0.7234 - val_loss: 0.6013 - val_accuracy: 0.3036 - val_auc: 0.5759\n",
      "Epoch 46/100\n",
      "16/16 [==============================] - 0s 4ms/step - loss: 0.5002 - accuracy: 0.4575 - auc: 0.7281 - val_loss: 0.5988 - val_accuracy: 0.3138 - val_auc: 0.5805\n",
      "Epoch 47/100\n",
      "16/16 [==============================] - 0s 4ms/step - loss: 0.5010 - accuracy: 0.4581 - auc: 0.7248 - val_loss: 0.5964 - val_accuracy: 0.3240 - val_auc: 0.5803\n",
      "Epoch 48/100\n",
      "16/16 [==============================] - 0s 4ms/step - loss: 0.5000 - accuracy: 0.4677 - auc: 0.7264 - val_loss: 0.5995 - val_accuracy: 0.3163 - val_auc: 0.5763\n",
      "Epoch 49/100\n",
      "16/16 [==============================] - 0s 4ms/step - loss: 0.4985 - accuracy: 0.4633 - auc: 0.7303 - val_loss: 0.6057 - val_accuracy: 0.3112 - val_auc: 0.5708\n",
      "Epoch 50/100\n",
      "16/16 [==============================] - 0s 4ms/step - loss: 0.4985 - accuracy: 0.4588 - auc: 0.7300 - val_loss: 0.6051 - val_accuracy: 0.2934 - val_auc: 0.5658\n",
      "Epoch 51/100\n",
      "16/16 [==============================] - 0s 4ms/step - loss: 0.4966 - accuracy: 0.4601 - auc: 0.7325 - val_loss: 0.6084 - val_accuracy: 0.2883 - val_auc: 0.5619\n",
      "Epoch 52/100\n",
      "16/16 [==============================] - 0s 4ms/step - loss: 0.4974 - accuracy: 0.4556 - auc: 0.7321 - val_loss: 0.6001 - val_accuracy: 0.3138 - val_auc: 0.5780\n",
      "Epoch 53/100\n",
      "16/16 [==============================] - 0s 4ms/step - loss: 0.4967 - accuracy: 0.4581 - auc: 0.7326 - val_loss: 0.6076 - val_accuracy: 0.3112 - val_auc: 0.5697\n",
      "Epoch 54/100\n",
      "16/16 [==============================] - 0s 4ms/step - loss: 0.4968 - accuracy: 0.4613 - auc: 0.7310 - val_loss: 0.6059 - val_accuracy: 0.2959 - val_auc: 0.5683\n",
      "Epoch 55/100\n",
      "16/16 [==============================] - 0s 4ms/step - loss: 0.4964 - accuracy: 0.4556 - auc: 0.7320 - val_loss: 0.6019 - val_accuracy: 0.3138 - val_auc: 0.5791\n",
      "Epoch 56/100\n",
      "16/16 [==============================] - 0s 4ms/step - loss: 0.4955 - accuracy: 0.4626 - auc: 0.7346 - val_loss: 0.6026 - val_accuracy: 0.3087 - val_auc: 0.5800\n",
      "Epoch 57/100\n",
      "16/16 [==============================] - 0s 4ms/step - loss: 0.4951 - accuracy: 0.4594 - auc: 0.7354 - val_loss: 0.6029 - val_accuracy: 0.3112 - val_auc: 0.5760\n",
      "Epoch 58/100\n",
      "16/16 [==============================] - 0s 4ms/step - loss: 0.4936 - accuracy: 0.4658 - auc: 0.7387 - val_loss: 0.6088 - val_accuracy: 0.2832 - val_auc: 0.5737\n",
      "Epoch 59/100\n",
      "16/16 [==============================] - 0s 5ms/step - loss: 0.4938 - accuracy: 0.4620 - auc: 0.7372 - val_loss: 0.6036 - val_accuracy: 0.3189 - val_auc: 0.5797\n",
      "Epoch 60/100\n",
      "16/16 [==============================] - 0s 4ms/step - loss: 0.4940 - accuracy: 0.4633 - auc: 0.7372 - val_loss: 0.6083 - val_accuracy: 0.3061 - val_auc: 0.5719\n",
      "Epoch 61/100\n",
      "16/16 [==============================] - 0s 4ms/step - loss: 0.4920 - accuracy: 0.4690 - auc: 0.7403 - val_loss: 0.6067 - val_accuracy: 0.3189 - val_auc: 0.5740\n",
      "Epoch 62/100\n",
      "16/16 [==============================] - 0s 4ms/step - loss: 0.4930 - accuracy: 0.4665 - auc: 0.7381 - val_loss: 0.6078 - val_accuracy: 0.3163 - val_auc: 0.5787\n",
      "Epoch 63/100\n",
      "16/16 [==============================] - 0s 4ms/step - loss: 0.4927 - accuracy: 0.4613 - auc: 0.7398 - val_loss: 0.6110 - val_accuracy: 0.3138 - val_auc: 0.5683\n",
      "Epoch 64/100\n",
      "16/16 [==============================] - 0s 6ms/step - loss: 0.4902 - accuracy: 0.4754 - auc: 0.7430 - val_loss: 0.6163 - val_accuracy: 0.2908 - val_auc: 0.5679\n",
      "Epoch 65/100\n",
      "16/16 [==============================] - 0s 4ms/step - loss: 0.4907 - accuracy: 0.4556 - auc: 0.7427 - val_loss: 0.6107 - val_accuracy: 0.3163 - val_auc: 0.5774\n",
      "Epoch 66/100\n",
      "16/16 [==============================] - 0s 4ms/step - loss: 0.4898 - accuracy: 0.4754 - auc: 0.7431 - val_loss: 0.6066 - val_accuracy: 0.3138 - val_auc: 0.5767\n",
      "Epoch 67/100\n",
      "16/16 [==============================] - 0s 4ms/step - loss: 0.4878 - accuracy: 0.4722 - auc: 0.7467 - val_loss: 0.6145 - val_accuracy: 0.3036 - val_auc: 0.5670\n",
      "Epoch 68/100\n",
      "16/16 [==============================] - 0s 4ms/step - loss: 0.4885 - accuracy: 0.4767 - auc: 0.7451 - val_loss: 0.6107 - val_accuracy: 0.2985 - val_auc: 0.5702\n",
      "Epoch 69/100\n",
      "16/16 [==============================] - 0s 4ms/step - loss: 0.4872 - accuracy: 0.4703 - auc: 0.7488 - val_loss: 0.6123 - val_accuracy: 0.2857 - val_auc: 0.5665\n",
      "Epoch 70/100\n",
      "16/16 [==============================] - 0s 4ms/step - loss: 0.4866 - accuracy: 0.4709 - auc: 0.7488 - val_loss: 0.6082 - val_accuracy: 0.3265 - val_auc: 0.5785\n",
      "Epoch 71/100\n",
      "16/16 [==============================] - 0s 4ms/step - loss: 0.4863 - accuracy: 0.4754 - auc: 0.7487 - val_loss: 0.6086 - val_accuracy: 0.2985 - val_auc: 0.5763\n",
      "Epoch 72/100\n",
      "16/16 [==============================] - 0s 4ms/step - loss: 0.4872 - accuracy: 0.4690 - auc: 0.7473 - val_loss: 0.6117 - val_accuracy: 0.3112 - val_auc: 0.5727\n",
      "Epoch 73/100\n",
      "16/16 [==============================] - 0s 4ms/step - loss: 0.4847 - accuracy: 0.4773 - auc: 0.7517 - val_loss: 0.6095 - val_accuracy: 0.3214 - val_auc: 0.5785\n",
      "Epoch 74/100\n",
      "16/16 [==============================] - 0s 4ms/step - loss: 0.4866 - accuracy: 0.4690 - auc: 0.7489 - val_loss: 0.6069 - val_accuracy: 0.3163 - val_auc: 0.5816\n",
      "Epoch 75/100\n",
      "16/16 [==============================] - 0s 4ms/step - loss: 0.4843 - accuracy: 0.4786 - auc: 0.7530 - val_loss: 0.6130 - val_accuracy: 0.2934 - val_auc: 0.5716\n",
      "Epoch 76/100\n",
      "16/16 [==============================] - 0s 4ms/step - loss: 0.4840 - accuracy: 0.4741 - auc: 0.7527 - val_loss: 0.6181 - val_accuracy: 0.2806 - val_auc: 0.5608\n",
      "Epoch 77/100\n",
      "16/16 [==============================] - 0s 4ms/step - loss: 0.4833 - accuracy: 0.4696 - auc: 0.7536 - val_loss: 0.6205 - val_accuracy: 0.2755 - val_auc: 0.5684\n",
      "Epoch 78/100\n",
      "16/16 [==============================] - 0s 4ms/step - loss: 0.4812 - accuracy: 0.4869 - auc: 0.7571 - val_loss: 0.6137 - val_accuracy: 0.3036 - val_auc: 0.5766\n",
      "Epoch 79/100\n",
      "16/16 [==============================] - 0s 4ms/step - loss: 0.4833 - accuracy: 0.4805 - auc: 0.7533 - val_loss: 0.6205 - val_accuracy: 0.2628 - val_auc: 0.5653\n",
      "Epoch 80/100\n",
      "16/16 [==============================] - 0s 4ms/step - loss: 0.4812 - accuracy: 0.4645 - auc: 0.7568 - val_loss: 0.6124 - val_accuracy: 0.2908 - val_auc: 0.5753\n",
      "Epoch 81/100\n",
      "16/16 [==============================] - 0s 4ms/step - loss: 0.4801 - accuracy: 0.4767 - auc: 0.7582 - val_loss: 0.6165 - val_accuracy: 0.2857 - val_auc: 0.5713\n",
      "Epoch 82/100\n",
      "16/16 [==============================] - 0s 4ms/step - loss: 0.4808 - accuracy: 0.4748 - auc: 0.7575 - val_loss: 0.6247 - val_accuracy: 0.2679 - val_auc: 0.5622\n",
      "Epoch 83/100\n",
      "16/16 [==============================] - 0s 4ms/step - loss: 0.4799 - accuracy: 0.4773 - auc: 0.7593 - val_loss: 0.6184 - val_accuracy: 0.3061 - val_auc: 0.5646\n",
      "Epoch 84/100\n",
      "16/16 [==============================] - 0s 4ms/step - loss: 0.4776 - accuracy: 0.4856 - auc: 0.7624 - val_loss: 0.6141 - val_accuracy: 0.3138 - val_auc: 0.5760\n",
      "Epoch 85/100\n",
      "16/16 [==============================] - 0s 4ms/step - loss: 0.4760 - accuracy: 0.4837 - auc: 0.7647 - val_loss: 0.6207 - val_accuracy: 0.2781 - val_auc: 0.5648\n",
      "Epoch 86/100\n",
      "16/16 [==============================] - 0s 4ms/step - loss: 0.4775 - accuracy: 0.4792 - auc: 0.7620 - val_loss: 0.6201 - val_accuracy: 0.2883 - val_auc: 0.5666\n",
      "Epoch 87/100\n",
      "16/16 [==============================] - 0s 4ms/step - loss: 0.4769 - accuracy: 0.4767 - auc: 0.7629 - val_loss: 0.6236 - val_accuracy: 0.2832 - val_auc: 0.5657\n",
      "Epoch 88/100\n",
      "16/16 [==============================] - 0s 4ms/step - loss: 0.4771 - accuracy: 0.4696 - auc: 0.7625 - val_loss: 0.6225 - val_accuracy: 0.2679 - val_auc: 0.5631\n",
      "Epoch 89/100\n",
      "16/16 [==============================] - 0s 4ms/step - loss: 0.4783 - accuracy: 0.4703 - auc: 0.7613 - val_loss: 0.6220 - val_accuracy: 0.2934 - val_auc: 0.5667\n",
      "Epoch 90/100\n",
      "16/16 [==============================] - 0s 4ms/step - loss: 0.4737 - accuracy: 0.4792 - auc: 0.7665 - val_loss: 0.6207 - val_accuracy: 0.2959 - val_auc: 0.5669\n",
      "Epoch 91/100\n",
      "16/16 [==============================] - 0s 4ms/step - loss: 0.4747 - accuracy: 0.4690 - auc: 0.7669 - val_loss: 0.6279 - val_accuracy: 0.2602 - val_auc: 0.5637\n",
      "Epoch 92/100\n",
      "16/16 [==============================] - 0s 4ms/step - loss: 0.4735 - accuracy: 0.4696 - auc: 0.7671 - val_loss: 0.6230 - val_accuracy: 0.2934 - val_auc: 0.5664\n",
      "Epoch 93/100\n",
      "16/16 [==============================] - 0s 4ms/step - loss: 0.4752 - accuracy: 0.4837 - auc: 0.7652 - val_loss: 0.6418 - val_accuracy: 0.2959 - val_auc: 0.5535\n",
      "Epoch 94/100\n",
      "16/16 [==============================] - 0s 4ms/step - loss: 0.4748 - accuracy: 0.4748 - auc: 0.7666 - val_loss: 0.6219 - val_accuracy: 0.3036 - val_auc: 0.5722\n",
      "Epoch 95/100\n",
      "16/16 [==============================] - 0s 4ms/step - loss: 0.4741 - accuracy: 0.4920 - auc: 0.7674 - val_loss: 0.6299 - val_accuracy: 0.2526 - val_auc: 0.5571\n",
      "Epoch 96/100\n",
      "16/16 [==============================] - 0s 5ms/step - loss: 0.4711 - accuracy: 0.4837 - auc: 0.7704 - val_loss: 0.6228 - val_accuracy: 0.2908 - val_auc: 0.5671\n",
      "Epoch 97/100\n",
      "16/16 [==============================] - 0s 4ms/step - loss: 0.4694 - accuracy: 0.4831 - auc: 0.7735 - val_loss: 0.6305 - val_accuracy: 0.2755 - val_auc: 0.5616\n",
      "Epoch 98/100\n",
      "16/16 [==============================] - 0s 4ms/step - loss: 0.4702 - accuracy: 0.4843 - auc: 0.7726 - val_loss: 0.6260 - val_accuracy: 0.2934 - val_auc: 0.5629\n",
      "Epoch 99/100\n",
      "16/16 [==============================] - 0s 4ms/step - loss: 0.4682 - accuracy: 0.4895 - auc: 0.7754 - val_loss: 0.6315 - val_accuracy: 0.2602 - val_auc: 0.5624\n",
      "Epoch 100/100\n",
      "16/16 [==============================] - 0s 4ms/step - loss: 0.4679 - accuracy: 0.4831 - auc: 0.7761 - val_loss: 0.6332 - val_accuracy: 0.2806 - val_auc: 0.5665\n",
      "Epoch 1/100\n",
      "16/16 [==============================] - 0s 19ms/step - loss: 0.6509 - accuracy: 0.2786 - auc: 0.5510 - val_loss: 0.6240 - val_accuracy: 0.2832 - val_auc: 0.5464\n",
      "Epoch 2/100\n",
      "16/16 [==============================] - 0s 4ms/step - loss: 0.5794 - accuracy: 0.3770 - auc: 0.6132 - val_loss: 0.5927 - val_accuracy: 0.3393 - val_auc: 0.5747\n",
      "Epoch 3/100\n",
      "16/16 [==============================] - 0s 4ms/step - loss: 0.5524 - accuracy: 0.4083 - auc: 0.6373 - val_loss: 0.5856 - val_accuracy: 0.3418 - val_auc: 0.5753\n",
      "Epoch 4/100\n",
      "16/16 [==============================] - 0s 4ms/step - loss: 0.5411 - accuracy: 0.4224 - auc: 0.6476 - val_loss: 0.5827 - val_accuracy: 0.3418 - val_auc: 0.5817\n",
      "Epoch 5/100\n",
      "16/16 [==============================] - 0s 4ms/step - loss: 0.5343 - accuracy: 0.4313 - auc: 0.6571 - val_loss: 0.5824 - val_accuracy: 0.3418 - val_auc: 0.5842\n",
      "Epoch 6/100\n",
      "16/16 [==============================] - 0s 4ms/step - loss: 0.5317 - accuracy: 0.4313 - auc: 0.6625 - val_loss: 0.5880 - val_accuracy: 0.3367 - val_auc: 0.5781\n",
      "Epoch 7/100\n",
      "16/16 [==============================] - 0s 4ms/step - loss: 0.5299 - accuracy: 0.4319 - auc: 0.6651 - val_loss: 0.5834 - val_accuracy: 0.3444 - val_auc: 0.5888\n",
      "Epoch 8/100\n",
      "16/16 [==============================] - 0s 4ms/step - loss: 0.5271 - accuracy: 0.4371 - auc: 0.6725 - val_loss: 0.5847 - val_accuracy: 0.3393 - val_auc: 0.5896\n",
      "Epoch 9/100\n",
      "16/16 [==============================] - 0s 4ms/step - loss: 0.5253 - accuracy: 0.4358 - auc: 0.6764 - val_loss: 0.5811 - val_accuracy: 0.3469 - val_auc: 0.5964\n",
      "Epoch 10/100\n",
      "16/16 [==============================] - 0s 4ms/step - loss: 0.5248 - accuracy: 0.4364 - auc: 0.6767 - val_loss: 0.5826 - val_accuracy: 0.3495 - val_auc: 0.5955\n",
      "Epoch 11/100\n",
      "16/16 [==============================] - 0s 4ms/step - loss: 0.5234 - accuracy: 0.4383 - auc: 0.6798 - val_loss: 0.5844 - val_accuracy: 0.3495 - val_auc: 0.5900\n",
      "Epoch 12/100\n",
      "16/16 [==============================] - 0s 4ms/step - loss: 0.5226 - accuracy: 0.4313 - auc: 0.6828 - val_loss: 0.5838 - val_accuracy: 0.3444 - val_auc: 0.5935\n",
      "Epoch 13/100\n",
      "16/16 [==============================] - 0s 4ms/step - loss: 0.5210 - accuracy: 0.4364 - auc: 0.6862 - val_loss: 0.5886 - val_accuracy: 0.3418 - val_auc: 0.5825\n",
      "Epoch 14/100\n",
      "16/16 [==============================] - 0s 6ms/step - loss: 0.5213 - accuracy: 0.4377 - auc: 0.6849 - val_loss: 0.5832 - val_accuracy: 0.3520 - val_auc: 0.5968\n",
      "Epoch 15/100\n",
      "16/16 [==============================] - 0s 4ms/step - loss: 0.5201 - accuracy: 0.4409 - auc: 0.6891 - val_loss: 0.5861 - val_accuracy: 0.3469 - val_auc: 0.5884\n",
      "Epoch 16/100\n",
      "16/16 [==============================] - 0s 4ms/step - loss: 0.5198 - accuracy: 0.4364 - auc: 0.6884 - val_loss: 0.5850 - val_accuracy: 0.3444 - val_auc: 0.5951\n",
      "Epoch 17/100\n",
      "16/16 [==============================] - 0s 4ms/step - loss: 0.5175 - accuracy: 0.4396 - auc: 0.6926 - val_loss: 0.5870 - val_accuracy: 0.3469 - val_auc: 0.5872\n",
      "Epoch 18/100\n",
      "16/16 [==============================] - 0s 4ms/step - loss: 0.5187 - accuracy: 0.4383 - auc: 0.6904 - val_loss: 0.5863 - val_accuracy: 0.3546 - val_auc: 0.5903\n",
      "Epoch 19/100\n",
      "16/16 [==============================] - 0s 4ms/step - loss: 0.5174 - accuracy: 0.4409 - auc: 0.6939 - val_loss: 0.5884 - val_accuracy: 0.3393 - val_auc: 0.5924\n",
      "Epoch 20/100\n",
      "16/16 [==============================] - 0s 4ms/step - loss: 0.5174 - accuracy: 0.4371 - auc: 0.6943 - val_loss: 0.5883 - val_accuracy: 0.3393 - val_auc: 0.5896\n",
      "Epoch 21/100\n",
      "16/16 [==============================] - 0s 4ms/step - loss: 0.5146 - accuracy: 0.4435 - auc: 0.6998 - val_loss: 0.5862 - val_accuracy: 0.3520 - val_auc: 0.5891\n",
      "Epoch 22/100\n",
      "16/16 [==============================] - 0s 4ms/step - loss: 0.5152 - accuracy: 0.4422 - auc: 0.6984 - val_loss: 0.5855 - val_accuracy: 0.3520 - val_auc: 0.5946\n",
      "Epoch 23/100\n",
      "16/16 [==============================] - 0s 4ms/step - loss: 0.5143 - accuracy: 0.4447 - auc: 0.6995 - val_loss: 0.5868 - val_accuracy: 0.3444 - val_auc: 0.5928\n",
      "Epoch 24/100\n",
      "16/16 [==============================] - 0s 4ms/step - loss: 0.5143 - accuracy: 0.4486 - auc: 0.7007 - val_loss: 0.5869 - val_accuracy: 0.3342 - val_auc: 0.5957\n",
      "Epoch 25/100\n",
      "16/16 [==============================] - 0s 7ms/step - loss: 0.5136 - accuracy: 0.4466 - auc: 0.7014 - val_loss: 0.5856 - val_accuracy: 0.3622 - val_auc: 0.5953\n",
      "Epoch 26/100\n",
      "16/16 [==============================] - 0s 5ms/step - loss: 0.5114 - accuracy: 0.4492 - auc: 0.7054 - val_loss: 0.5929 - val_accuracy: 0.3316 - val_auc: 0.5885\n",
      "Epoch 27/100\n",
      "16/16 [==============================] - 0s 4ms/step - loss: 0.5117 - accuracy: 0.4466 - auc: 0.7050 - val_loss: 0.5887 - val_accuracy: 0.3495 - val_auc: 0.5922\n",
      "Epoch 28/100\n",
      "16/16 [==============================] - 0s 4ms/step - loss: 0.5115 - accuracy: 0.4447 - auc: 0.7060 - val_loss: 0.5892 - val_accuracy: 0.3418 - val_auc: 0.5862\n",
      "Epoch 29/100\n",
      "16/16 [==============================] - 0s 4ms/step - loss: 0.5108 - accuracy: 0.4422 - auc: 0.7068 - val_loss: 0.5928 - val_accuracy: 0.3444 - val_auc: 0.5832\n",
      "Epoch 30/100\n",
      "16/16 [==============================] - 0s 4ms/step - loss: 0.5115 - accuracy: 0.4486 - auc: 0.7058 - val_loss: 0.5860 - val_accuracy: 0.3469 - val_auc: 0.6006\n",
      "Epoch 31/100\n",
      "16/16 [==============================] - 0s 4ms/step - loss: 0.5091 - accuracy: 0.4486 - auc: 0.7101 - val_loss: 0.5917 - val_accuracy: 0.3418 - val_auc: 0.5893\n",
      "Epoch 32/100\n",
      "16/16 [==============================] - 0s 4ms/step - loss: 0.5081 - accuracy: 0.4473 - auc: 0.7110 - val_loss: 0.5875 - val_accuracy: 0.3546 - val_auc: 0.5975\n",
      "Epoch 33/100\n",
      "16/16 [==============================] - 0s 4ms/step - loss: 0.5087 - accuracy: 0.4492 - auc: 0.7104 - val_loss: 0.5873 - val_accuracy: 0.3495 - val_auc: 0.5941\n",
      "Epoch 34/100\n",
      "16/16 [==============================] - 0s 4ms/step - loss: 0.5069 - accuracy: 0.4466 - auc: 0.7152 - val_loss: 0.5885 - val_accuracy: 0.3444 - val_auc: 0.5938\n",
      "Epoch 35/100\n",
      "16/16 [==============================] - 0s 4ms/step - loss: 0.5078 - accuracy: 0.4569 - auc: 0.7115 - val_loss: 0.5903 - val_accuracy: 0.3444 - val_auc: 0.5937\n",
      "Epoch 36/100\n",
      "16/16 [==============================] - 0s 4ms/step - loss: 0.5073 - accuracy: 0.4441 - auc: 0.7141 - val_loss: 0.5935 - val_accuracy: 0.3393 - val_auc: 0.5885\n",
      "Epoch 37/100\n",
      "16/16 [==============================] - 0s 4ms/step - loss: 0.5059 - accuracy: 0.4518 - auc: 0.7159 - val_loss: 0.5896 - val_accuracy: 0.3367 - val_auc: 0.5931\n",
      "Epoch 38/100\n",
      "16/16 [==============================] - 0s 4ms/step - loss: 0.5045 - accuracy: 0.4530 - auc: 0.7176 - val_loss: 0.5878 - val_accuracy: 0.3469 - val_auc: 0.5959\n",
      "Epoch 39/100\n",
      "16/16 [==============================] - 0s 4ms/step - loss: 0.5043 - accuracy: 0.4588 - auc: 0.7193 - val_loss: 0.5899 - val_accuracy: 0.3546 - val_auc: 0.5929\n",
      "Epoch 40/100\n",
      "16/16 [==============================] - 0s 4ms/step - loss: 0.5044 - accuracy: 0.4524 - auc: 0.7187 - val_loss: 0.5932 - val_accuracy: 0.3469 - val_auc: 0.5893\n",
      "Epoch 41/100\n",
      "16/16 [==============================] - 0s 4ms/step - loss: 0.5031 - accuracy: 0.4511 - auc: 0.7205 - val_loss: 0.5909 - val_accuracy: 0.3444 - val_auc: 0.5982\n",
      "Epoch 42/100\n",
      "16/16 [==============================] - 0s 4ms/step - loss: 0.5030 - accuracy: 0.4530 - auc: 0.7218 - val_loss: 0.5897 - val_accuracy: 0.3469 - val_auc: 0.5996\n",
      "Epoch 43/100\n",
      "16/16 [==============================] - 0s 4ms/step - loss: 0.5026 - accuracy: 0.4588 - auc: 0.7219 - val_loss: 0.5937 - val_accuracy: 0.3367 - val_auc: 0.5953\n",
      "Epoch 44/100\n",
      "16/16 [==============================] - 0s 4ms/step - loss: 0.5016 - accuracy: 0.4537 - auc: 0.7243 - val_loss: 0.5934 - val_accuracy: 0.3418 - val_auc: 0.5883\n",
      "Epoch 45/100\n",
      "16/16 [==============================] - 0s 4ms/step - loss: 0.5016 - accuracy: 0.4518 - auc: 0.7238 - val_loss: 0.5934 - val_accuracy: 0.3495 - val_auc: 0.5899\n",
      "Epoch 46/100\n",
      "16/16 [==============================] - 0s 4ms/step - loss: 0.4997 - accuracy: 0.4575 - auc: 0.7269 - val_loss: 0.5921 - val_accuracy: 0.3316 - val_auc: 0.5930\n",
      "Epoch 47/100\n",
      "16/16 [==============================] - 0s 4ms/step - loss: 0.4995 - accuracy: 0.4486 - auc: 0.7281 - val_loss: 0.5958 - val_accuracy: 0.3265 - val_auc: 0.5904\n",
      "Epoch 48/100\n",
      "16/16 [==============================] - 0s 4ms/step - loss: 0.4994 - accuracy: 0.4581 - auc: 0.7267 - val_loss: 0.5975 - val_accuracy: 0.3367 - val_auc: 0.5846\n",
      "Epoch 49/100\n",
      "16/16 [==============================] - 0s 4ms/step - loss: 0.4981 - accuracy: 0.4486 - auc: 0.7296 - val_loss: 0.5927 - val_accuracy: 0.3367 - val_auc: 0.5959\n",
      "Epoch 50/100\n",
      "16/16 [==============================] - 0s 4ms/step - loss: 0.4985 - accuracy: 0.4601 - auc: 0.7294 - val_loss: 0.5958 - val_accuracy: 0.3265 - val_auc: 0.5908\n",
      "Epoch 51/100\n",
      "16/16 [==============================] - 0s 4ms/step - loss: 0.4989 - accuracy: 0.4639 - auc: 0.7281 - val_loss: 0.5972 - val_accuracy: 0.3265 - val_auc: 0.5862\n",
      "Epoch 52/100\n",
      "16/16 [==============================] - 0s 4ms/step - loss: 0.4974 - accuracy: 0.4645 - auc: 0.7307 - val_loss: 0.5954 - val_accuracy: 0.3291 - val_auc: 0.5904\n",
      "Epoch 53/100\n",
      "16/16 [==============================] - 0s 4ms/step - loss: 0.4950 - accuracy: 0.4633 - auc: 0.7352 - val_loss: 0.5967 - val_accuracy: 0.3342 - val_auc: 0.5874\n",
      "Epoch 54/100\n",
      "16/16 [==============================] - 0s 4ms/step - loss: 0.4951 - accuracy: 0.4594 - auc: 0.7345 - val_loss: 0.6004 - val_accuracy: 0.3291 - val_auc: 0.5865\n",
      "Epoch 55/100\n",
      "16/16 [==============================] - 0s 6ms/step - loss: 0.4963 - accuracy: 0.4633 - auc: 0.7323 - val_loss: 0.6029 - val_accuracy: 0.3112 - val_auc: 0.5854\n",
      "Epoch 56/100\n",
      "16/16 [==============================] - 0s 4ms/step - loss: 0.4941 - accuracy: 0.4677 - auc: 0.7361 - val_loss: 0.6002 - val_accuracy: 0.3291 - val_auc: 0.5849\n",
      "Epoch 57/100\n",
      "16/16 [==============================] - 0s 4ms/step - loss: 0.4939 - accuracy: 0.4671 - auc: 0.7373 - val_loss: 0.5965 - val_accuracy: 0.3418 - val_auc: 0.5919\n",
      "Epoch 58/100\n",
      "16/16 [==============================] - 0s 4ms/step - loss: 0.4933 - accuracy: 0.4677 - auc: 0.7378 - val_loss: 0.5952 - val_accuracy: 0.3240 - val_auc: 0.5904\n",
      "Epoch 59/100\n",
      "16/16 [==============================] - 0s 4ms/step - loss: 0.4922 - accuracy: 0.4620 - auc: 0.7409 - val_loss: 0.6018 - val_accuracy: 0.3316 - val_auc: 0.5844\n",
      "Epoch 60/100\n",
      "16/16 [==============================] - 0s 4ms/step - loss: 0.4925 - accuracy: 0.4658 - auc: 0.7391 - val_loss: 0.6001 - val_accuracy: 0.3393 - val_auc: 0.5891\n",
      "Epoch 61/100\n",
      "16/16 [==============================] - 0s 4ms/step - loss: 0.4910 - accuracy: 0.4728 - auc: 0.7407 - val_loss: 0.6011 - val_accuracy: 0.3265 - val_auc: 0.5817\n",
      "Epoch 62/100\n",
      "16/16 [==============================] - 0s 4ms/step - loss: 0.4907 - accuracy: 0.4658 - auc: 0.7423 - val_loss: 0.6037 - val_accuracy: 0.3367 - val_auc: 0.5878\n",
      "Epoch 63/100\n",
      "16/16 [==============================] - 0s 4ms/step - loss: 0.4908 - accuracy: 0.4728 - auc: 0.7412 - val_loss: 0.6011 - val_accuracy: 0.3291 - val_auc: 0.5877\n",
      "Epoch 64/100\n",
      "16/16 [==============================] - 0s 4ms/step - loss: 0.4891 - accuracy: 0.4671 - auc: 0.7450 - val_loss: 0.6037 - val_accuracy: 0.3291 - val_auc: 0.5817\n",
      "Epoch 65/100\n",
      "16/16 [==============================] - 0s 4ms/step - loss: 0.4899 - accuracy: 0.4594 - auc: 0.7424 - val_loss: 0.5996 - val_accuracy: 0.3316 - val_auc: 0.5917\n",
      "Epoch 66/100\n",
      "16/16 [==============================] - 0s 4ms/step - loss: 0.4878 - accuracy: 0.4748 - auc: 0.7462 - val_loss: 0.6009 - val_accuracy: 0.3367 - val_auc: 0.5857\n",
      "Epoch 67/100\n",
      "16/16 [==============================] - 0s 4ms/step - loss: 0.4875 - accuracy: 0.4716 - auc: 0.7470 - val_loss: 0.6019 - val_accuracy: 0.3265 - val_auc: 0.5884\n",
      "Epoch 68/100\n",
      "16/16 [==============================] - 0s 5ms/step - loss: 0.4880 - accuracy: 0.4754 - auc: 0.7447 - val_loss: 0.6019 - val_accuracy: 0.3265 - val_auc: 0.5827\n",
      "Epoch 69/100\n",
      "16/16 [==============================] - 0s 4ms/step - loss: 0.4863 - accuracy: 0.4677 - auc: 0.7492 - val_loss: 0.6050 - val_accuracy: 0.3189 - val_auc: 0.5833\n",
      "Epoch 70/100\n",
      "16/16 [==============================] - 0s 4ms/step - loss: 0.4856 - accuracy: 0.4716 - auc: 0.7495 - val_loss: 0.6085 - val_accuracy: 0.3036 - val_auc: 0.5827\n",
      "Epoch 71/100\n",
      "16/16 [==============================] - 0s 4ms/step - loss: 0.4855 - accuracy: 0.4690 - auc: 0.7493 - val_loss: 0.6075 - val_accuracy: 0.3240 - val_auc: 0.5844\n",
      "Epoch 72/100\n",
      "16/16 [==============================] - 0s 4ms/step - loss: 0.4834 - accuracy: 0.4786 - auc: 0.7527 - val_loss: 0.6022 - val_accuracy: 0.3316 - val_auc: 0.5929\n",
      "Epoch 73/100\n",
      "16/16 [==============================] - 0s 4ms/step - loss: 0.4843 - accuracy: 0.4767 - auc: 0.7522 - val_loss: 0.6065 - val_accuracy: 0.3214 - val_auc: 0.5830\n",
      "Epoch 74/100\n",
      "16/16 [==============================] - 0s 4ms/step - loss: 0.4834 - accuracy: 0.4722 - auc: 0.7525 - val_loss: 0.6101 - val_accuracy: 0.3087 - val_auc: 0.5842\n",
      "Epoch 75/100\n",
      "16/16 [==============================] - 0s 4ms/step - loss: 0.4835 - accuracy: 0.4728 - auc: 0.7517 - val_loss: 0.6035 - val_accuracy: 0.3138 - val_auc: 0.5927\n",
      "Epoch 76/100\n",
      "16/16 [==============================] - 0s 4ms/step - loss: 0.4808 - accuracy: 0.4843 - auc: 0.7568 - val_loss: 0.6051 - val_accuracy: 0.3189 - val_auc: 0.5848\n",
      "Epoch 77/100\n",
      "16/16 [==============================] - 0s 4ms/step - loss: 0.4818 - accuracy: 0.4722 - auc: 0.7551 - val_loss: 0.6115 - val_accuracy: 0.3138 - val_auc: 0.5785\n",
      "Epoch 78/100\n",
      "16/16 [==============================] - 0s 4ms/step - loss: 0.4794 - accuracy: 0.4837 - auc: 0.7586 - val_loss: 0.6089 - val_accuracy: 0.3163 - val_auc: 0.5805\n",
      "Epoch 79/100\n",
      "16/16 [==============================] - 0s 4ms/step - loss: 0.4803 - accuracy: 0.4728 - auc: 0.7575 - val_loss: 0.6125 - val_accuracy: 0.3087 - val_auc: 0.5806\n",
      "Epoch 80/100\n",
      "16/16 [==============================] - 0s 4ms/step - loss: 0.4800 - accuracy: 0.4882 - auc: 0.7576 - val_loss: 0.6123 - val_accuracy: 0.3010 - val_auc: 0.5797\n",
      "Epoch 81/100\n",
      "16/16 [==============================] - 0s 4ms/step - loss: 0.4793 - accuracy: 0.4843 - auc: 0.7593 - val_loss: 0.6134 - val_accuracy: 0.2806 - val_auc: 0.5769\n",
      "Epoch 82/100\n",
      "16/16 [==============================] - 0s 4ms/step - loss: 0.4802 - accuracy: 0.4760 - auc: 0.7574 - val_loss: 0.6129 - val_accuracy: 0.3112 - val_auc: 0.5775\n",
      "Epoch 83/100\n",
      "16/16 [==============================] - 0s 4ms/step - loss: 0.4778 - accuracy: 0.4805 - auc: 0.7599 - val_loss: 0.6084 - val_accuracy: 0.3240 - val_auc: 0.5823\n",
      "Epoch 84/100\n",
      "16/16 [==============================] - 0s 4ms/step - loss: 0.4758 - accuracy: 0.4863 - auc: 0.7637 - val_loss: 0.6197 - val_accuracy: 0.2959 - val_auc: 0.5764\n",
      "Epoch 85/100\n",
      "16/16 [==============================] - 0s 4ms/step - loss: 0.4773 - accuracy: 0.4665 - auc: 0.7617 - val_loss: 0.6062 - val_accuracy: 0.3342 - val_auc: 0.5900\n",
      "Epoch 86/100\n",
      "16/16 [==============================] - 0s 4ms/step - loss: 0.4755 - accuracy: 0.4818 - auc: 0.7637 - val_loss: 0.6131 - val_accuracy: 0.3163 - val_auc: 0.5870\n",
      "Epoch 87/100\n",
      "16/16 [==============================] - 0s 5ms/step - loss: 0.4751 - accuracy: 0.4914 - auc: 0.7643 - val_loss: 0.6126 - val_accuracy: 0.3291 - val_auc: 0.5836\n",
      "Epoch 88/100\n",
      "16/16 [==============================] - 0s 4ms/step - loss: 0.4762 - accuracy: 0.4882 - auc: 0.7639 - val_loss: 0.6189 - val_accuracy: 0.3087 - val_auc: 0.5740\n",
      "Epoch 89/100\n",
      "16/16 [==============================] - 0s 5ms/step - loss: 0.4729 - accuracy: 0.4869 - auc: 0.7667 - val_loss: 0.6134 - val_accuracy: 0.2934 - val_auc: 0.5800\n",
      "Epoch 90/100\n",
      "16/16 [==============================] - 0s 7ms/step - loss: 0.4717 - accuracy: 0.4939 - auc: 0.7699 - val_loss: 0.6145 - val_accuracy: 0.3214 - val_auc: 0.5821\n",
      "Epoch 91/100\n",
      "16/16 [==============================] - 0s 4ms/step - loss: 0.4717 - accuracy: 0.4927 - auc: 0.7676 - val_loss: 0.6192 - val_accuracy: 0.3061 - val_auc: 0.5826\n",
      "Epoch 92/100\n",
      "16/16 [==============================] - 0s 4ms/step - loss: 0.4728 - accuracy: 0.4837 - auc: 0.7672 - val_loss: 0.6170 - val_accuracy: 0.3112 - val_auc: 0.5802\n",
      "Epoch 93/100\n",
      "16/16 [==============================] - 0s 5ms/step - loss: 0.4727 - accuracy: 0.4869 - auc: 0.7671 - val_loss: 0.6170 - val_accuracy: 0.3163 - val_auc: 0.5812\n",
      "Epoch 94/100\n",
      "16/16 [==============================] - 0s 4ms/step - loss: 0.4704 - accuracy: 0.4927 - auc: 0.7700 - val_loss: 0.6134 - val_accuracy: 0.3240 - val_auc: 0.5847\n",
      "Epoch 95/100\n",
      "16/16 [==============================] - 0s 4ms/step - loss: 0.4686 - accuracy: 0.4875 - auc: 0.7739 - val_loss: 0.6172 - val_accuracy: 0.3240 - val_auc: 0.5835\n",
      "Epoch 96/100\n",
      "16/16 [==============================] - 0s 5ms/step - loss: 0.4676 - accuracy: 0.4914 - auc: 0.7749 - val_loss: 0.6288 - val_accuracy: 0.3087 - val_auc: 0.5813\n",
      "Epoch 97/100\n",
      "16/16 [==============================] - 0s 5ms/step - loss: 0.4688 - accuracy: 0.4875 - auc: 0.7732 - val_loss: 0.6181 - val_accuracy: 0.3240 - val_auc: 0.5827\n",
      "Epoch 98/100\n",
      "16/16 [==============================] - 0s 4ms/step - loss: 0.4670 - accuracy: 0.4939 - auc: 0.7750 - val_loss: 0.6231 - val_accuracy: 0.3061 - val_auc: 0.5729\n",
      "Epoch 99/100\n",
      "16/16 [==============================] - 0s 4ms/step - loss: 0.4642 - accuracy: 0.4895 - auc: 0.7786 - val_loss: 0.6262 - val_accuracy: 0.3163 - val_auc: 0.5764\n",
      "Epoch 100/100\n",
      "16/16 [==============================] - 0s 4ms/step - loss: 0.4681 - accuracy: 0.4875 - auc: 0.7739 - val_loss: 0.6192 - val_accuracy: 0.3112 - val_auc: 0.5864\n"
     ]
    },
    {
     "data": {
      "text/html": [
       "<span style=\"color:#4527A0\"><h1 style=\"font-size:18px\">Trial complete</h1></span>"
      ],
      "text/plain": [
       "<IPython.core.display.HTML object>"
      ]
     },
     "metadata": {
      "tags": []
     },
     "output_type": "display_data"
    },
    {
     "data": {
      "text/html": [
       "<span style=\"color:#4527A0\"><h1 style=\"font-size:18px\">Trial summary</h1></span>"
      ],
      "text/plain": [
       "<IPython.core.display.HTML object>"
      ]
     },
     "metadata": {
      "tags": []
     },
     "output_type": "display_data"
    },
    {
     "data": {
      "text/html": [
       "<span style=\"color:cyan\"> |-Trial ID: 55fea409858df97a08924e742f255e8f</span>"
      ],
      "text/plain": [
       "<IPython.core.display.HTML object>"
      ]
     },
     "metadata": {
      "tags": []
     },
     "output_type": "display_data"
    },
    {
     "data": {
      "text/html": [
       "<span style=\"color:cyan\"> |-Score: 0.35629252592722577</span>"
      ],
      "text/plain": [
       "<IPython.core.display.HTML object>"
      ]
     },
     "metadata": {
      "tags": []
     },
     "output_type": "display_data"
    },
    {
     "data": {
      "text/html": [
       "<span style=\"color:cyan\"> |-Best step: 0</span>"
      ],
      "text/plain": [
       "<IPython.core.display.HTML object>"
      ]
     },
     "metadata": {
      "tags": []
     },
     "output_type": "display_data"
    },
    {
     "data": {
      "text/html": [
       "<span style=\"color:#7E57C2\"><h2 style=\"font-size:16px\">Hyperparameters:</h2></span>"
      ],
      "text/plain": [
       "<IPython.core.display.HTML object>"
      ]
     },
     "metadata": {
      "tags": []
     },
     "output_type": "display_data"
    },
    {
     "data": {
      "text/html": [
       "<span style=\"color:cyan\"> |-act_0: selu</span>"
      ],
      "text/plain": [
       "<IPython.core.display.HTML object>"
      ]
     },
     "metadata": {
      "tags": []
     },
     "output_type": "display_data"
    },
    {
     "data": {
      "text/html": [
       "<span style=\"color:blue\"> |-act_1: selu</span>"
      ],
      "text/plain": [
       "<IPython.core.display.HTML object>"
      ]
     },
     "metadata": {
      "tags": []
     },
     "output_type": "display_data"
    },
    {
     "data": {
      "text/html": [
       "<span style=\"color:cyan\"> |-act_10: selu</span>"
      ],
      "text/plain": [
       "<IPython.core.display.HTML object>"
      ]
     },
     "metadata": {
      "tags": []
     },
     "output_type": "display_data"
    },
    {
     "data": {
      "text/html": [
       "<span style=\"color:blue\"> |-act_2: relu</span>"
      ],
      "text/plain": [
       "<IPython.core.display.HTML object>"
      ]
     },
     "metadata": {
      "tags": []
     },
     "output_type": "display_data"
    },
    {
     "data": {
      "text/html": [
       "<span style=\"color:cyan\"> |-act_3: selu</span>"
      ],
      "text/plain": [
       "<IPython.core.display.HTML object>"
      ]
     },
     "metadata": {
      "tags": []
     },
     "output_type": "display_data"
    },
    {
     "data": {
      "text/html": [
       "<span style=\"color:blue\"> |-act_4: selu</span>"
      ],
      "text/plain": [
       "<IPython.core.display.HTML object>"
      ]
     },
     "metadata": {
      "tags": []
     },
     "output_type": "display_data"
    },
    {
     "data": {
      "text/html": [
       "<span style=\"color:cyan\"> |-act_5: relu</span>"
      ],
      "text/plain": [
       "<IPython.core.display.HTML object>"
      ]
     },
     "metadata": {
      "tags": []
     },
     "output_type": "display_data"
    },
    {
     "data": {
      "text/html": [
       "<span style=\"color:blue\"> |-act_6: selu</span>"
      ],
      "text/plain": [
       "<IPython.core.display.HTML object>"
      ]
     },
     "metadata": {
      "tags": []
     },
     "output_type": "display_data"
    },
    {
     "data": {
      "text/html": [
       "<span style=\"color:cyan\"> |-act_7: selu</span>"
      ],
      "text/plain": [
       "<IPython.core.display.HTML object>"
      ]
     },
     "metadata": {
      "tags": []
     },
     "output_type": "display_data"
    },
    {
     "data": {
      "text/html": [
       "<span style=\"color:blue\"> |-act_8: relu</span>"
      ],
      "text/plain": [
       "<IPython.core.display.HTML object>"
      ]
     },
     "metadata": {
      "tags": []
     },
     "output_type": "display_data"
    },
    {
     "data": {
      "text/html": [
       "<span style=\"color:cyan\"> |-act_9: relu</span>"
      ],
      "text/plain": [
       "<IPython.core.display.HTML object>"
      ]
     },
     "metadata": {
      "tags": []
     },
     "output_type": "display_data"
    },
    {
     "data": {
      "text/html": [
       "<span style=\"color:blue\"> |-batch_size: 100</span>"
      ],
      "text/plain": [
       "<IPython.core.display.HTML object>"
      ]
     },
     "metadata": {
      "tags": []
     },
     "output_type": "display_data"
    },
    {
     "data": {
      "text/html": [
       "<span style=\"color:cyan\"> |-epochs: 100</span>"
      ],
      "text/plain": [
       "<IPython.core.display.HTML object>"
      ]
     },
     "metadata": {
      "tags": []
     },
     "output_type": "display_data"
    },
    {
     "data": {
      "text/html": [
       "<span style=\"color:blue\"> |-learning_rate: 0.1</span>"
      ],
      "text/plain": [
       "<IPython.core.display.HTML object>"
      ]
     },
     "metadata": {
      "tags": []
     },
     "output_type": "display_data"
    },
    {
     "data": {
      "text/html": [
       "<span style=\"color:cyan\"> |-number_of_layers: 1</span>"
      ],
      "text/plain": [
       "<IPython.core.display.HTML object>"
      ]
     },
     "metadata": {
      "tags": []
     },
     "output_type": "display_data"
    },
    {
     "data": {
      "text/html": [
       "<span style=\"color:blue\"> |-unit_0: 50</span>"
      ],
      "text/plain": [
       "<IPython.core.display.HTML object>"
      ]
     },
     "metadata": {
      "tags": []
     },
     "output_type": "display_data"
    },
    {
     "data": {
      "text/html": [
       "<span style=\"color:cyan\"> |-unit_1: 500</span>"
      ],
      "text/plain": [
       "<IPython.core.display.HTML object>"
      ]
     },
     "metadata": {
      "tags": []
     },
     "output_type": "display_data"
    },
    {
     "data": {
      "text/html": [
       "<span style=\"color:blue\"> |-unit_10: 50</span>"
      ],
      "text/plain": [
       "<IPython.core.display.HTML object>"
      ]
     },
     "metadata": {
      "tags": []
     },
     "output_type": "display_data"
    },
    {
     "data": {
      "text/html": [
       "<span style=\"color:cyan\"> |-unit_2: 500</span>"
      ],
      "text/plain": [
       "<IPython.core.display.HTML object>"
      ]
     },
     "metadata": {
      "tags": []
     },
     "output_type": "display_data"
    },
    {
     "data": {
      "text/html": [
       "<span style=\"color:blue\"> |-unit_3: 500</span>"
      ],
      "text/plain": [
       "<IPython.core.display.HTML object>"
      ]
     },
     "metadata": {
      "tags": []
     },
     "output_type": "display_data"
    },
    {
     "data": {
      "text/html": [
       "<span style=\"color:cyan\"> |-unit_4: 500</span>"
      ],
      "text/plain": [
       "<IPython.core.display.HTML object>"
      ]
     },
     "metadata": {
      "tags": []
     },
     "output_type": "display_data"
    },
    {
     "data": {
      "text/html": [
       "<span style=\"color:blue\"> |-unit_5: 500</span>"
      ],
      "text/plain": [
       "<IPython.core.display.HTML object>"
      ]
     },
     "metadata": {
      "tags": []
     },
     "output_type": "display_data"
    },
    {
     "data": {
      "text/html": [
       "<span style=\"color:cyan\"> |-unit_6: 50</span>"
      ],
      "text/plain": [
       "<IPython.core.display.HTML object>"
      ]
     },
     "metadata": {
      "tags": []
     },
     "output_type": "display_data"
    },
    {
     "data": {
      "text/html": [
       "<span style=\"color:blue\"> |-unit_7: 50</span>"
      ],
      "text/plain": [
       "<IPython.core.display.HTML object>"
      ]
     },
     "metadata": {
      "tags": []
     },
     "output_type": "display_data"
    },
    {
     "data": {
      "text/html": [
       "<span style=\"color:cyan\"> |-unit_8: 500</span>"
      ],
      "text/plain": [
       "<IPython.core.display.HTML object>"
      ]
     },
     "metadata": {
      "tags": []
     },
     "output_type": "display_data"
    },
    {
     "data": {
      "text/html": [
       "<span style=\"color:blue\"> |-unit_9: 500</span>"
      ],
      "text/plain": [
       "<IPython.core.display.HTML object>"
      ]
     },
     "metadata": {
      "tags": []
     },
     "output_type": "display_data"
    },
    {
     "name": "stdout",
     "output_type": "stream",
     "text": [
      "Epoch 1/100\n",
      "16/16 [==============================] - 0s 21ms/step - loss: 0.7680 - accuracy: 0.1821 - auc: 0.4977 - val_loss: 0.7488 - val_accuracy: 0.2117 - val_auc: 0.5240\n",
      "Epoch 2/100\n",
      "16/16 [==============================] - 0s 4ms/step - loss: 0.7680 - accuracy: 0.1821 - auc: 0.4977 - val_loss: 0.7488 - val_accuracy: 0.2117 - val_auc: 0.5240\n",
      "Epoch 3/100\n",
      "16/16 [==============================] - 0s 4ms/step - loss: 0.7679 - accuracy: 0.1827 - auc: 0.4977 - val_loss: 0.7487 - val_accuracy: 0.2117 - val_auc: 0.5240\n",
      "Epoch 4/100\n",
      "16/16 [==============================] - 0s 4ms/step - loss: 0.7679 - accuracy: 0.1827 - auc: 0.4978 - val_loss: 0.7487 - val_accuracy: 0.2117 - val_auc: 0.5240\n",
      "Epoch 5/100\n",
      "16/16 [==============================] - 0s 4ms/step - loss: 0.7678 - accuracy: 0.1827 - auc: 0.4978 - val_loss: 0.7487 - val_accuracy: 0.2117 - val_auc: 0.5240\n",
      "Epoch 6/100\n",
      "16/16 [==============================] - 0s 4ms/step - loss: 0.7678 - accuracy: 0.1827 - auc: 0.4978 - val_loss: 0.7486 - val_accuracy: 0.2117 - val_auc: 0.5240\n",
      "Epoch 7/100\n",
      "16/16 [==============================] - 0s 4ms/step - loss: 0.7677 - accuracy: 0.1834 - auc: 0.4978 - val_loss: 0.7486 - val_accuracy: 0.2117 - val_auc: 0.5240\n",
      "Epoch 8/100\n",
      "16/16 [==============================] - 0s 4ms/step - loss: 0.7677 - accuracy: 0.1834 - auc: 0.4978 - val_loss: 0.7485 - val_accuracy: 0.2117 - val_auc: 0.5239\n",
      "Epoch 9/100\n",
      "16/16 [==============================] - 0s 4ms/step - loss: 0.7676 - accuracy: 0.1834 - auc: 0.4978 - val_loss: 0.7485 - val_accuracy: 0.2117 - val_auc: 0.5240\n",
      "Epoch 10/100\n",
      "16/16 [==============================] - 0s 4ms/step - loss: 0.7676 - accuracy: 0.1834 - auc: 0.4979 - val_loss: 0.7485 - val_accuracy: 0.2117 - val_auc: 0.5240\n",
      "Epoch 11/100\n",
      "16/16 [==============================] - 0s 4ms/step - loss: 0.7675 - accuracy: 0.1834 - auc: 0.4979 - val_loss: 0.7484 - val_accuracy: 0.2117 - val_auc: 0.5240\n",
      "Epoch 12/100\n",
      "16/16 [==============================] - 0s 4ms/step - loss: 0.7675 - accuracy: 0.1834 - auc: 0.4979 - val_loss: 0.7484 - val_accuracy: 0.2117 - val_auc: 0.5241\n",
      "Epoch 13/100\n",
      "16/16 [==============================] - 0s 4ms/step - loss: 0.7674 - accuracy: 0.1834 - auc: 0.4979 - val_loss: 0.7483 - val_accuracy: 0.2117 - val_auc: 0.5241\n",
      "Epoch 14/100\n",
      "16/16 [==============================] - 0s 4ms/step - loss: 0.7673 - accuracy: 0.1834 - auc: 0.4979 - val_loss: 0.7483 - val_accuracy: 0.2117 - val_auc: 0.5240\n",
      "Epoch 15/100\n",
      "16/16 [==============================] - 0s 4ms/step - loss: 0.7673 - accuracy: 0.1834 - auc: 0.4979 - val_loss: 0.7483 - val_accuracy: 0.2117 - val_auc: 0.5241\n",
      "Epoch 16/100\n",
      "16/16 [==============================] - 0s 6ms/step - loss: 0.7672 - accuracy: 0.1834 - auc: 0.4979 - val_loss: 0.7482 - val_accuracy: 0.2143 - val_auc: 0.5240\n",
      "Epoch 17/100\n",
      "16/16 [==============================] - 0s 4ms/step - loss: 0.7672 - accuracy: 0.1834 - auc: 0.4979 - val_loss: 0.7482 - val_accuracy: 0.2143 - val_auc: 0.5240\n",
      "Epoch 18/100\n",
      "16/16 [==============================] - 0s 4ms/step - loss: 0.7671 - accuracy: 0.1834 - auc: 0.4979 - val_loss: 0.7481 - val_accuracy: 0.2143 - val_auc: 0.5240\n",
      "Epoch 19/100\n",
      "16/16 [==============================] - 0s 4ms/step - loss: 0.7671 - accuracy: 0.1834 - auc: 0.4980 - val_loss: 0.7481 - val_accuracy: 0.2143 - val_auc: 0.5240\n",
      "Epoch 20/100\n",
      "16/16 [==============================] - 0s 4ms/step - loss: 0.7670 - accuracy: 0.1834 - auc: 0.4980 - val_loss: 0.7481 - val_accuracy: 0.2143 - val_auc: 0.5241\n",
      "Epoch 21/100\n",
      "16/16 [==============================] - 0s 4ms/step - loss: 0.7670 - accuracy: 0.1834 - auc: 0.4980 - val_loss: 0.7480 - val_accuracy: 0.2143 - val_auc: 0.5240\n",
      "Epoch 22/100\n",
      "16/16 [==============================] - 0s 4ms/step - loss: 0.7669 - accuracy: 0.1834 - auc: 0.4980 - val_loss: 0.7480 - val_accuracy: 0.2143 - val_auc: 0.5240\n",
      "Epoch 23/100\n",
      "16/16 [==============================] - 0s 4ms/step - loss: 0.7669 - accuracy: 0.1834 - auc: 0.4980 - val_loss: 0.7480 - val_accuracy: 0.2143 - val_auc: 0.5240\n",
      "Epoch 24/100\n",
      "16/16 [==============================] - 0s 4ms/step - loss: 0.7668 - accuracy: 0.1834 - auc: 0.4980 - val_loss: 0.7479 - val_accuracy: 0.2143 - val_auc: 0.5240\n",
      "Epoch 25/100\n",
      "16/16 [==============================] - 0s 4ms/step - loss: 0.7668 - accuracy: 0.1834 - auc: 0.4980 - val_loss: 0.7479 - val_accuracy: 0.2143 - val_auc: 0.5240\n",
      "Epoch 26/100\n",
      "16/16 [==============================] - 0s 4ms/step - loss: 0.7667 - accuracy: 0.1834 - auc: 0.4980 - val_loss: 0.7478 - val_accuracy: 0.2143 - val_auc: 0.5241\n",
      "Epoch 27/100\n",
      "16/16 [==============================] - 0s 4ms/step - loss: 0.7667 - accuracy: 0.1840 - auc: 0.4981 - val_loss: 0.7478 - val_accuracy: 0.2143 - val_auc: 0.5240\n",
      "Epoch 28/100\n",
      "16/16 [==============================] - 0s 4ms/step - loss: 0.7666 - accuracy: 0.1840 - auc: 0.4981 - val_loss: 0.7478 - val_accuracy: 0.2143 - val_auc: 0.5240\n",
      "Epoch 29/100\n",
      "16/16 [==============================] - 0s 4ms/step - loss: 0.7666 - accuracy: 0.1840 - auc: 0.4981 - val_loss: 0.7477 - val_accuracy: 0.2143 - val_auc: 0.5240\n",
      "Epoch 30/100\n",
      "16/16 [==============================] - 0s 4ms/step - loss: 0.7665 - accuracy: 0.1840 - auc: 0.4982 - val_loss: 0.7477 - val_accuracy: 0.2143 - val_auc: 0.5240\n",
      "Epoch 31/100\n",
      "16/16 [==============================] - 0s 4ms/step - loss: 0.7665 - accuracy: 0.1840 - auc: 0.4982 - val_loss: 0.7476 - val_accuracy: 0.2143 - val_auc: 0.5240\n",
      "Epoch 32/100\n",
      "16/16 [==============================] - 0s 4ms/step - loss: 0.7664 - accuracy: 0.1840 - auc: 0.4982 - val_loss: 0.7476 - val_accuracy: 0.2143 - val_auc: 0.5240\n",
      "Epoch 33/100\n",
      "16/16 [==============================] - 0s 4ms/step - loss: 0.7664 - accuracy: 0.1840 - auc: 0.4982 - val_loss: 0.7476 - val_accuracy: 0.2143 - val_auc: 0.5240\n",
      "Epoch 34/100\n",
      "16/16 [==============================] - 0s 4ms/step - loss: 0.7663 - accuracy: 0.1840 - auc: 0.4982 - val_loss: 0.7475 - val_accuracy: 0.2143 - val_auc: 0.5240\n",
      "Epoch 35/100\n",
      "16/16 [==============================] - 0s 4ms/step - loss: 0.7663 - accuracy: 0.1840 - auc: 0.4982 - val_loss: 0.7475 - val_accuracy: 0.2143 - val_auc: 0.5240\n",
      "Epoch 36/100\n",
      "16/16 [==============================] - 0s 4ms/step - loss: 0.7662 - accuracy: 0.1840 - auc: 0.4982 - val_loss: 0.7474 - val_accuracy: 0.2143 - val_auc: 0.5240\n",
      "Epoch 37/100\n",
      "16/16 [==============================] - 0s 4ms/step - loss: 0.7662 - accuracy: 0.1840 - auc: 0.4983 - val_loss: 0.7474 - val_accuracy: 0.2143 - val_auc: 0.5240\n",
      "Epoch 38/100\n",
      "16/16 [==============================] - 0s 4ms/step - loss: 0.7661 - accuracy: 0.1840 - auc: 0.4983 - val_loss: 0.7474 - val_accuracy: 0.2143 - val_auc: 0.5240\n",
      "Epoch 39/100\n",
      "16/16 [==============================] - 0s 4ms/step - loss: 0.7661 - accuracy: 0.1840 - auc: 0.4983 - val_loss: 0.7473 - val_accuracy: 0.2143 - val_auc: 0.5240\n",
      "Epoch 40/100\n",
      "16/16 [==============================] - 0s 4ms/step - loss: 0.7660 - accuracy: 0.1840 - auc: 0.4983 - val_loss: 0.7473 - val_accuracy: 0.2143 - val_auc: 0.5239\n",
      "Epoch 41/100\n",
      "16/16 [==============================] - 0s 8ms/step - loss: 0.7660 - accuracy: 0.1834 - auc: 0.4983 - val_loss: 0.7473 - val_accuracy: 0.2168 - val_auc: 0.5239\n",
      "Epoch 42/100\n",
      "16/16 [==============================] - 0s 4ms/step - loss: 0.7659 - accuracy: 0.1834 - auc: 0.4983 - val_loss: 0.7472 - val_accuracy: 0.2168 - val_auc: 0.5239\n",
      "Epoch 43/100\n",
      "16/16 [==============================] - 0s 4ms/step - loss: 0.7659 - accuracy: 0.1834 - auc: 0.4984 - val_loss: 0.7472 - val_accuracy: 0.2168 - val_auc: 0.5239\n",
      "Epoch 44/100\n",
      "16/16 [==============================] - 0s 4ms/step - loss: 0.7658 - accuracy: 0.1834 - auc: 0.4984 - val_loss: 0.7471 - val_accuracy: 0.2168 - val_auc: 0.5240\n",
      "Epoch 45/100\n",
      "16/16 [==============================] - 0s 4ms/step - loss: 0.7657 - accuracy: 0.1834 - auc: 0.4984 - val_loss: 0.7471 - val_accuracy: 0.2168 - val_auc: 0.5240\n",
      "Epoch 46/100\n",
      "16/16 [==============================] - 0s 4ms/step - loss: 0.7657 - accuracy: 0.1840 - auc: 0.4984 - val_loss: 0.7471 - val_accuracy: 0.2168 - val_auc: 0.5240\n",
      "Epoch 47/100\n",
      "16/16 [==============================] - 0s 4ms/step - loss: 0.7656 - accuracy: 0.1840 - auc: 0.4984 - val_loss: 0.7470 - val_accuracy: 0.2168 - val_auc: 0.5240\n",
      "Epoch 48/100\n",
      "16/16 [==============================] - 0s 5ms/step - loss: 0.7656 - accuracy: 0.1840 - auc: 0.4984 - val_loss: 0.7470 - val_accuracy: 0.2168 - val_auc: 0.5241\n",
      "Epoch 49/100\n",
      "16/16 [==============================] - 0s 4ms/step - loss: 0.7655 - accuracy: 0.1840 - auc: 0.4984 - val_loss: 0.7469 - val_accuracy: 0.2168 - val_auc: 0.5241\n",
      "Epoch 50/100\n",
      "16/16 [==============================] - 0s 4ms/step - loss: 0.7655 - accuracy: 0.1847 - auc: 0.4984 - val_loss: 0.7469 - val_accuracy: 0.2168 - val_auc: 0.5241\n",
      "Epoch 51/100\n",
      "16/16 [==============================] - 0s 4ms/step - loss: 0.7654 - accuracy: 0.1847 - auc: 0.4984 - val_loss: 0.7469 - val_accuracy: 0.2168 - val_auc: 0.5240\n",
      "Epoch 52/100\n",
      "16/16 [==============================] - 0s 4ms/step - loss: 0.7654 - accuracy: 0.1847 - auc: 0.4984 - val_loss: 0.7468 - val_accuracy: 0.2168 - val_auc: 0.5241\n",
      "Epoch 53/100\n",
      "16/16 [==============================] - 0s 4ms/step - loss: 0.7653 - accuracy: 0.1847 - auc: 0.4984 - val_loss: 0.7468 - val_accuracy: 0.2168 - val_auc: 0.5241\n",
      "Epoch 54/100\n",
      "16/16 [==============================] - 0s 4ms/step - loss: 0.7653 - accuracy: 0.1847 - auc: 0.4985 - val_loss: 0.7468 - val_accuracy: 0.2168 - val_auc: 0.5241\n",
      "Epoch 55/100\n",
      "16/16 [==============================] - 0s 4ms/step - loss: 0.7652 - accuracy: 0.1847 - auc: 0.4985 - val_loss: 0.7467 - val_accuracy: 0.2168 - val_auc: 0.5241\n",
      "Epoch 56/100\n",
      "16/16 [==============================] - 0s 4ms/step - loss: 0.7652 - accuracy: 0.1853 - auc: 0.4985 - val_loss: 0.7467 - val_accuracy: 0.2168 - val_auc: 0.5242\n",
      "Epoch 57/100\n",
      "16/16 [==============================] - 0s 4ms/step - loss: 0.7651 - accuracy: 0.1859 - auc: 0.4985 - val_loss: 0.7466 - val_accuracy: 0.2168 - val_auc: 0.5242\n",
      "Epoch 58/100\n",
      "16/16 [==============================] - 0s 4ms/step - loss: 0.7651 - accuracy: 0.1859 - auc: 0.4985 - val_loss: 0.7466 - val_accuracy: 0.2168 - val_auc: 0.5242\n",
      "Epoch 59/100\n",
      "16/16 [==============================] - 0s 4ms/step - loss: 0.7650 - accuracy: 0.1859 - auc: 0.4985 - val_loss: 0.7466 - val_accuracy: 0.2168 - val_auc: 0.5242\n",
      "Epoch 60/100\n",
      "16/16 [==============================] - 0s 4ms/step - loss: 0.7650 - accuracy: 0.1859 - auc: 0.4985 - val_loss: 0.7465 - val_accuracy: 0.2168 - val_auc: 0.5242\n",
      "Epoch 61/100\n",
      "16/16 [==============================] - 0s 5ms/step - loss: 0.7649 - accuracy: 0.1859 - auc: 0.4986 - val_loss: 0.7465 - val_accuracy: 0.2168 - val_auc: 0.5241\n",
      "Epoch 62/100\n",
      "16/16 [==============================] - 0s 4ms/step - loss: 0.7649 - accuracy: 0.1859 - auc: 0.4986 - val_loss: 0.7464 - val_accuracy: 0.2168 - val_auc: 0.5242\n",
      "Epoch 63/100\n",
      "16/16 [==============================] - 0s 4ms/step - loss: 0.7648 - accuracy: 0.1853 - auc: 0.4986 - val_loss: 0.7464 - val_accuracy: 0.2168 - val_auc: 0.5242\n",
      "Epoch 64/100\n",
      "16/16 [==============================] - 0s 4ms/step - loss: 0.7648 - accuracy: 0.1853 - auc: 0.4986 - val_loss: 0.7464 - val_accuracy: 0.2168 - val_auc: 0.5242\n",
      "Epoch 65/100\n",
      "16/16 [==============================] - 0s 4ms/step - loss: 0.7647 - accuracy: 0.1853 - auc: 0.4986 - val_loss: 0.7463 - val_accuracy: 0.2168 - val_auc: 0.5242\n",
      "Epoch 66/100\n",
      "16/16 [==============================] - 0s 4ms/step - loss: 0.7647 - accuracy: 0.1853 - auc: 0.4987 - val_loss: 0.7463 - val_accuracy: 0.2168 - val_auc: 0.5242\n",
      "Epoch 67/100\n",
      "16/16 [==============================] - 0s 4ms/step - loss: 0.7646 - accuracy: 0.1853 - auc: 0.4987 - val_loss: 0.7463 - val_accuracy: 0.2168 - val_auc: 0.5243\n",
      "Epoch 68/100\n",
      "16/16 [==============================] - 0s 4ms/step - loss: 0.7646 - accuracy: 0.1853 - auc: 0.4987 - val_loss: 0.7462 - val_accuracy: 0.2168 - val_auc: 0.5243\n",
      "Epoch 69/100\n",
      "16/16 [==============================] - 0s 4ms/step - loss: 0.7645 - accuracy: 0.1859 - auc: 0.4987 - val_loss: 0.7462 - val_accuracy: 0.2168 - val_auc: 0.5243\n",
      "Epoch 70/100\n",
      "16/16 [==============================] - 0s 4ms/step - loss: 0.7645 - accuracy: 0.1859 - auc: 0.4987 - val_loss: 0.7461 - val_accuracy: 0.2168 - val_auc: 0.5243\n",
      "Epoch 71/100\n",
      "16/16 [==============================] - 0s 4ms/step - loss: 0.7644 - accuracy: 0.1859 - auc: 0.4987 - val_loss: 0.7461 - val_accuracy: 0.2168 - val_auc: 0.5243\n",
      "Epoch 72/100\n",
      "16/16 [==============================] - 0s 4ms/step - loss: 0.7644 - accuracy: 0.1859 - auc: 0.4987 - val_loss: 0.7461 - val_accuracy: 0.2168 - val_auc: 0.5244\n",
      "Epoch 73/100\n",
      "16/16 [==============================] - 0s 5ms/step - loss: 0.7643 - accuracy: 0.1859 - auc: 0.4987 - val_loss: 0.7460 - val_accuracy: 0.2168 - val_auc: 0.5244\n",
      "Epoch 74/100\n",
      "16/16 [==============================] - 0s 4ms/step - loss: 0.7643 - accuracy: 0.1859 - auc: 0.4988 - val_loss: 0.7460 - val_accuracy: 0.2168 - val_auc: 0.5244\n",
      "Epoch 75/100\n",
      "16/16 [==============================] - 0s 4ms/step - loss: 0.7642 - accuracy: 0.1859 - auc: 0.4988 - val_loss: 0.7460 - val_accuracy: 0.2168 - val_auc: 0.5244\n",
      "Epoch 76/100\n",
      "16/16 [==============================] - 0s 4ms/step - loss: 0.7642 - accuracy: 0.1859 - auc: 0.4987 - val_loss: 0.7459 - val_accuracy: 0.2168 - val_auc: 0.5244\n",
      "Epoch 77/100\n",
      "16/16 [==============================] - 0s 4ms/step - loss: 0.7641 - accuracy: 0.1859 - auc: 0.4987 - val_loss: 0.7459 - val_accuracy: 0.2168 - val_auc: 0.5244\n",
      "Epoch 78/100\n",
      "16/16 [==============================] - 0s 4ms/step - loss: 0.7641 - accuracy: 0.1859 - auc: 0.4988 - val_loss: 0.7458 - val_accuracy: 0.2168 - val_auc: 0.5244\n",
      "Epoch 79/100\n",
      "16/16 [==============================] - 0s 4ms/step - loss: 0.7640 - accuracy: 0.1859 - auc: 0.4988 - val_loss: 0.7458 - val_accuracy: 0.2168 - val_auc: 0.5245\n",
      "Epoch 80/100\n",
      "16/16 [==============================] - 0s 4ms/step - loss: 0.7640 - accuracy: 0.1866 - auc: 0.4988 - val_loss: 0.7458 - val_accuracy: 0.2168 - val_auc: 0.5245\n",
      "Epoch 81/100\n",
      "16/16 [==============================] - 0s 4ms/step - loss: 0.7639 - accuracy: 0.1866 - auc: 0.4988 - val_loss: 0.7457 - val_accuracy: 0.2168 - val_auc: 0.5245\n",
      "Epoch 82/100\n",
      "16/16 [==============================] - 0s 4ms/step - loss: 0.7639 - accuracy: 0.1866 - auc: 0.4988 - val_loss: 0.7457 - val_accuracy: 0.2168 - val_auc: 0.5246\n",
      "Epoch 83/100\n",
      "16/16 [==============================] - 0s 4ms/step - loss: 0.7638 - accuracy: 0.1866 - auc: 0.4988 - val_loss: 0.7457 - val_accuracy: 0.2168 - val_auc: 0.5245\n",
      "Epoch 84/100\n",
      "16/16 [==============================] - 0s 4ms/step - loss: 0.7638 - accuracy: 0.1866 - auc: 0.4988 - val_loss: 0.7456 - val_accuracy: 0.2168 - val_auc: 0.5245\n",
      "Epoch 85/100\n",
      "16/16 [==============================] - 0s 4ms/step - loss: 0.7637 - accuracy: 0.1866 - auc: 0.4988 - val_loss: 0.7456 - val_accuracy: 0.2168 - val_auc: 0.5245\n",
      "Epoch 86/100\n",
      "16/16 [==============================] - 0s 4ms/step - loss: 0.7637 - accuracy: 0.1866 - auc: 0.4988 - val_loss: 0.7455 - val_accuracy: 0.2168 - val_auc: 0.5244\n",
      "Epoch 87/100\n",
      "16/16 [==============================] - 0s 4ms/step - loss: 0.7636 - accuracy: 0.1866 - auc: 0.4989 - val_loss: 0.7455 - val_accuracy: 0.2168 - val_auc: 0.5244\n",
      "Epoch 88/100\n",
      "16/16 [==============================] - 0s 4ms/step - loss: 0.7636 - accuracy: 0.1872 - auc: 0.4989 - val_loss: 0.7455 - val_accuracy: 0.2168 - val_auc: 0.5244\n",
      "Epoch 89/100\n",
      "16/16 [==============================] - 0s 4ms/step - loss: 0.7635 - accuracy: 0.1872 - auc: 0.4989 - val_loss: 0.7454 - val_accuracy: 0.2168 - val_auc: 0.5244\n",
      "Epoch 90/100\n",
      "16/16 [==============================] - 0s 4ms/step - loss: 0.7635 - accuracy: 0.1872 - auc: 0.4989 - val_loss: 0.7454 - val_accuracy: 0.2168 - val_auc: 0.5244\n",
      "Epoch 91/100\n",
      "16/16 [==============================] - 0s 4ms/step - loss: 0.7634 - accuracy: 0.1872 - auc: 0.4989 - val_loss: 0.7454 - val_accuracy: 0.2168 - val_auc: 0.5244\n",
      "Epoch 92/100\n",
      "16/16 [==============================] - 0s 4ms/step - loss: 0.7634 - accuracy: 0.1872 - auc: 0.4989 - val_loss: 0.7453 - val_accuracy: 0.2168 - val_auc: 0.5244\n",
      "Epoch 93/100\n",
      "16/16 [==============================] - 0s 4ms/step - loss: 0.7633 - accuracy: 0.1872 - auc: 0.4989 - val_loss: 0.7453 - val_accuracy: 0.2168 - val_auc: 0.5244\n",
      "Epoch 94/100\n",
      "16/16 [==============================] - 0s 4ms/step - loss: 0.7633 - accuracy: 0.1872 - auc: 0.4990 - val_loss: 0.7452 - val_accuracy: 0.2168 - val_auc: 0.5245\n",
      "Epoch 95/100\n",
      "16/16 [==============================] - 0s 4ms/step - loss: 0.7632 - accuracy: 0.1872 - auc: 0.4990 - val_loss: 0.7452 - val_accuracy: 0.2168 - val_auc: 0.5245\n",
      "Epoch 96/100\n",
      "16/16 [==============================] - 0s 4ms/step - loss: 0.7632 - accuracy: 0.1872 - auc: 0.4990 - val_loss: 0.7452 - val_accuracy: 0.2168 - val_auc: 0.5245\n",
      "Epoch 97/100\n",
      "16/16 [==============================] - 0s 4ms/step - loss: 0.7631 - accuracy: 0.1872 - auc: 0.4990 - val_loss: 0.7451 - val_accuracy: 0.2168 - val_auc: 0.5245\n",
      "Epoch 98/100\n",
      "16/16 [==============================] - 0s 4ms/step - loss: 0.7631 - accuracy: 0.1872 - auc: 0.4990 - val_loss: 0.7451 - val_accuracy: 0.2168 - val_auc: 0.5245\n",
      "Epoch 99/100\n",
      "16/16 [==============================] - 0s 4ms/step - loss: 0.7630 - accuracy: 0.1872 - auc: 0.4990 - val_loss: 0.7451 - val_accuracy: 0.2168 - val_auc: 0.5245\n",
      "Epoch 100/100\n",
      "16/16 [==============================] - 0s 4ms/step - loss: 0.7630 - accuracy: 0.1872 - auc: 0.4990 - val_loss: 0.7450 - val_accuracy: 0.2168 - val_auc: 0.5244\n",
      "Epoch 1/100\n",
      "16/16 [==============================] - 0s 21ms/step - loss: 0.7317 - accuracy: 0.2166 - auc: 0.5232 - val_loss: 0.7306 - val_accuracy: 0.2270 - val_auc: 0.5374\n",
      "Epoch 2/100\n",
      "16/16 [==============================] - 0s 4ms/step - loss: 0.7317 - accuracy: 0.2166 - auc: 0.5233 - val_loss: 0.7306 - val_accuracy: 0.2270 - val_auc: 0.5375\n",
      "Epoch 3/100\n",
      "16/16 [==============================] - 0s 4ms/step - loss: 0.7316 - accuracy: 0.2166 - auc: 0.5233 - val_loss: 0.7305 - val_accuracy: 0.2270 - val_auc: 0.5374\n",
      "Epoch 4/100\n",
      "16/16 [==============================] - 0s 4ms/step - loss: 0.7316 - accuracy: 0.2166 - auc: 0.5233 - val_loss: 0.7305 - val_accuracy: 0.2270 - val_auc: 0.5374\n",
      "Epoch 5/100\n",
      "16/16 [==============================] - 0s 4ms/step - loss: 0.7315 - accuracy: 0.2166 - auc: 0.5234 - val_loss: 0.7304 - val_accuracy: 0.2270 - val_auc: 0.5374\n",
      "Epoch 6/100\n",
      "16/16 [==============================] - 0s 6ms/step - loss: 0.7315 - accuracy: 0.2166 - auc: 0.5234 - val_loss: 0.7304 - val_accuracy: 0.2270 - val_auc: 0.5374\n",
      "Epoch 7/100\n",
      "16/16 [==============================] - 0s 4ms/step - loss: 0.7315 - accuracy: 0.2166 - auc: 0.5234 - val_loss: 0.7304 - val_accuracy: 0.2270 - val_auc: 0.5375\n",
      "Epoch 8/100\n",
      "16/16 [==============================] - 0s 4ms/step - loss: 0.7314 - accuracy: 0.2166 - auc: 0.5234 - val_loss: 0.7303 - val_accuracy: 0.2270 - val_auc: 0.5374\n",
      "Epoch 9/100\n",
      "16/16 [==============================] - 0s 4ms/step - loss: 0.7314 - accuracy: 0.2173 - auc: 0.5235 - val_loss: 0.7303 - val_accuracy: 0.2270 - val_auc: 0.5375\n",
      "Epoch 10/100\n",
      "16/16 [==============================] - 0s 4ms/step - loss: 0.7313 - accuracy: 0.2173 - auc: 0.5235 - val_loss: 0.7303 - val_accuracy: 0.2270 - val_auc: 0.5374\n",
      "Epoch 11/100\n",
      "16/16 [==============================] - 0s 4ms/step - loss: 0.7313 - accuracy: 0.2173 - auc: 0.5235 - val_loss: 0.7302 - val_accuracy: 0.2270 - val_auc: 0.5374\n",
      "Epoch 12/100\n",
      "16/16 [==============================] - 0s 4ms/step - loss: 0.7312 - accuracy: 0.2173 - auc: 0.5235 - val_loss: 0.7302 - val_accuracy: 0.2270 - val_auc: 0.5374\n",
      "Epoch 13/100\n",
      "16/16 [==============================] - 0s 4ms/step - loss: 0.7312 - accuracy: 0.2179 - auc: 0.5235 - val_loss: 0.7302 - val_accuracy: 0.2270 - val_auc: 0.5373\n",
      "Epoch 14/100\n",
      "16/16 [==============================] - 0s 4ms/step - loss: 0.7311 - accuracy: 0.2179 - auc: 0.5236 - val_loss: 0.7301 - val_accuracy: 0.2270 - val_auc: 0.5373\n",
      "Epoch 15/100\n",
      "16/16 [==============================] - 0s 5ms/step - loss: 0.7311 - accuracy: 0.2192 - auc: 0.5236 - val_loss: 0.7301 - val_accuracy: 0.2270 - val_auc: 0.5373\n",
      "Epoch 16/100\n",
      "16/16 [==============================] - 0s 4ms/step - loss: 0.7310 - accuracy: 0.2192 - auc: 0.5236 - val_loss: 0.7300 - val_accuracy: 0.2270 - val_auc: 0.5373\n",
      "Epoch 17/100\n",
      "16/16 [==============================] - 0s 4ms/step - loss: 0.7310 - accuracy: 0.2192 - auc: 0.5235 - val_loss: 0.7300 - val_accuracy: 0.2270 - val_auc: 0.5374\n",
      "Epoch 18/100\n",
      "16/16 [==============================] - 0s 4ms/step - loss: 0.7309 - accuracy: 0.2192 - auc: 0.5235 - val_loss: 0.7300 - val_accuracy: 0.2270 - val_auc: 0.5374\n",
      "Epoch 19/100\n",
      "16/16 [==============================] - 0s 4ms/step - loss: 0.7309 - accuracy: 0.2192 - auc: 0.5235 - val_loss: 0.7299 - val_accuracy: 0.2270 - val_auc: 0.5374\n",
      "Epoch 20/100\n",
      "16/16 [==============================] - 0s 4ms/step - loss: 0.7308 - accuracy: 0.2192 - auc: 0.5235 - val_loss: 0.7299 - val_accuracy: 0.2270 - val_auc: 0.5374\n",
      "Epoch 21/100\n",
      "16/16 [==============================] - 0s 4ms/step - loss: 0.7308 - accuracy: 0.2192 - auc: 0.5235 - val_loss: 0.7299 - val_accuracy: 0.2270 - val_auc: 0.5374\n",
      "Epoch 22/100\n",
      "16/16 [==============================] - 0s 4ms/step - loss: 0.7308 - accuracy: 0.2192 - auc: 0.5236 - val_loss: 0.7298 - val_accuracy: 0.2270 - val_auc: 0.5374\n",
      "Epoch 23/100\n",
      "16/16 [==============================] - 0s 4ms/step - loss: 0.7307 - accuracy: 0.2192 - auc: 0.5236 - val_loss: 0.7298 - val_accuracy: 0.2270 - val_auc: 0.5374\n",
      "Epoch 24/100\n",
      "16/16 [==============================] - 0s 4ms/step - loss: 0.7307 - accuracy: 0.2192 - auc: 0.5236 - val_loss: 0.7298 - val_accuracy: 0.2270 - val_auc: 0.5374\n",
      "Epoch 25/100\n",
      "16/16 [==============================] - 0s 4ms/step - loss: 0.7306 - accuracy: 0.2192 - auc: 0.5236 - val_loss: 0.7297 - val_accuracy: 0.2270 - val_auc: 0.5374\n",
      "Epoch 26/100\n",
      "16/16 [==============================] - 0s 4ms/step - loss: 0.7306 - accuracy: 0.2198 - auc: 0.5237 - val_loss: 0.7297 - val_accuracy: 0.2270 - val_auc: 0.5374\n",
      "Epoch 27/100\n",
      "16/16 [==============================] - 0s 4ms/step - loss: 0.7305 - accuracy: 0.2204 - auc: 0.5237 - val_loss: 0.7296 - val_accuracy: 0.2270 - val_auc: 0.5374\n",
      "Epoch 28/100\n",
      "16/16 [==============================] - 0s 4ms/step - loss: 0.7305 - accuracy: 0.2204 - auc: 0.5237 - val_loss: 0.7296 - val_accuracy: 0.2270 - val_auc: 0.5375\n",
      "Epoch 29/100\n",
      "16/16 [==============================] - 0s 4ms/step - loss: 0.7304 - accuracy: 0.2204 - auc: 0.5237 - val_loss: 0.7296 - val_accuracy: 0.2270 - val_auc: 0.5375\n",
      "Epoch 30/100\n",
      "16/16 [==============================] - 0s 4ms/step - loss: 0.7304 - accuracy: 0.2204 - auc: 0.5237 - val_loss: 0.7295 - val_accuracy: 0.2270 - val_auc: 0.5375\n",
      "Epoch 31/100\n",
      "16/16 [==============================] - 0s 4ms/step - loss: 0.7303 - accuracy: 0.2204 - auc: 0.5237 - val_loss: 0.7295 - val_accuracy: 0.2270 - val_auc: 0.5375\n",
      "Epoch 32/100\n",
      "16/16 [==============================] - 0s 4ms/step - loss: 0.7303 - accuracy: 0.2204 - auc: 0.5237 - val_loss: 0.7295 - val_accuracy: 0.2270 - val_auc: 0.5375\n",
      "Epoch 33/100\n",
      "16/16 [==============================] - 0s 4ms/step - loss: 0.7302 - accuracy: 0.2204 - auc: 0.5238 - val_loss: 0.7294 - val_accuracy: 0.2270 - val_auc: 0.5375\n",
      "Epoch 34/100\n",
      "16/16 [==============================] - 0s 4ms/step - loss: 0.7302 - accuracy: 0.2204 - auc: 0.5238 - val_loss: 0.7294 - val_accuracy: 0.2270 - val_auc: 0.5375\n",
      "Epoch 35/100\n",
      "16/16 [==============================] - 0s 5ms/step - loss: 0.7302 - accuracy: 0.2204 - auc: 0.5238 - val_loss: 0.7294 - val_accuracy: 0.2270 - val_auc: 0.5376\n",
      "Epoch 36/100\n",
      "16/16 [==============================] - 0s 4ms/step - loss: 0.7301 - accuracy: 0.2211 - auc: 0.5238 - val_loss: 0.7293 - val_accuracy: 0.2270 - val_auc: 0.5376\n",
      "Epoch 37/100\n",
      "16/16 [==============================] - 0s 4ms/step - loss: 0.7301 - accuracy: 0.2211 - auc: 0.5238 - val_loss: 0.7293 - val_accuracy: 0.2270 - val_auc: 0.5376\n",
      "Epoch 38/100\n",
      "16/16 [==============================] - 0s 4ms/step - loss: 0.7300 - accuracy: 0.2211 - auc: 0.5238 - val_loss: 0.7292 - val_accuracy: 0.2270 - val_auc: 0.5376\n",
      "Epoch 39/100\n",
      "16/16 [==============================] - 0s 4ms/step - loss: 0.7300 - accuracy: 0.2211 - auc: 0.5238 - val_loss: 0.7292 - val_accuracy: 0.2270 - val_auc: 0.5375\n",
      "Epoch 40/100\n",
      "16/16 [==============================] - 0s 4ms/step - loss: 0.7299 - accuracy: 0.2211 - auc: 0.5239 - val_loss: 0.7292 - val_accuracy: 0.2270 - val_auc: 0.5375\n",
      "Epoch 41/100\n",
      "16/16 [==============================] - 0s 4ms/step - loss: 0.7299 - accuracy: 0.2211 - auc: 0.5239 - val_loss: 0.7291 - val_accuracy: 0.2270 - val_auc: 0.5375\n",
      "Epoch 42/100\n",
      "16/16 [==============================] - 0s 4ms/step - loss: 0.7298 - accuracy: 0.2211 - auc: 0.5239 - val_loss: 0.7291 - val_accuracy: 0.2270 - val_auc: 0.5375\n",
      "Epoch 43/100\n",
      "16/16 [==============================] - 0s 4ms/step - loss: 0.7298 - accuracy: 0.2211 - auc: 0.5239 - val_loss: 0.7291 - val_accuracy: 0.2270 - val_auc: 0.5375\n",
      "Epoch 44/100\n",
      "16/16 [==============================] - 0s 4ms/step - loss: 0.7297 - accuracy: 0.2211 - auc: 0.5239 - val_loss: 0.7290 - val_accuracy: 0.2270 - val_auc: 0.5375\n",
      "Epoch 45/100\n",
      "16/16 [==============================] - 0s 4ms/step - loss: 0.7297 - accuracy: 0.2211 - auc: 0.5239 - val_loss: 0.7290 - val_accuracy: 0.2270 - val_auc: 0.5376\n",
      "Epoch 46/100\n",
      "16/16 [==============================] - 0s 4ms/step - loss: 0.7297 - accuracy: 0.2211 - auc: 0.5239 - val_loss: 0.7290 - val_accuracy: 0.2270 - val_auc: 0.5376\n",
      "Epoch 47/100\n",
      "16/16 [==============================] - 0s 4ms/step - loss: 0.7296 - accuracy: 0.2211 - auc: 0.5239 - val_loss: 0.7289 - val_accuracy: 0.2270 - val_auc: 0.5377\n",
      "Epoch 48/100\n",
      "16/16 [==============================] - 0s 4ms/step - loss: 0.7296 - accuracy: 0.2211 - auc: 0.5240 - val_loss: 0.7289 - val_accuracy: 0.2270 - val_auc: 0.5376\n",
      "Epoch 49/100\n",
      "16/16 [==============================] - 0s 4ms/step - loss: 0.7295 - accuracy: 0.2211 - auc: 0.5240 - val_loss: 0.7289 - val_accuracy: 0.2270 - val_auc: 0.5376\n",
      "Epoch 50/100\n",
      "16/16 [==============================] - 0s 4ms/step - loss: 0.7295 - accuracy: 0.2211 - auc: 0.5240 - val_loss: 0.7288 - val_accuracy: 0.2270 - val_auc: 0.5377\n",
      "Epoch 51/100\n",
      "16/16 [==============================] - 0s 4ms/step - loss: 0.7294 - accuracy: 0.2211 - auc: 0.5240 - val_loss: 0.7288 - val_accuracy: 0.2270 - val_auc: 0.5377\n",
      "Epoch 52/100\n",
      "16/16 [==============================] - 0s 4ms/step - loss: 0.7294 - accuracy: 0.2211 - auc: 0.5240 - val_loss: 0.7287 - val_accuracy: 0.2270 - val_auc: 0.5377\n",
      "Epoch 53/100\n",
      "16/16 [==============================] - 0s 4ms/step - loss: 0.7293 - accuracy: 0.2211 - auc: 0.5240 - val_loss: 0.7287 - val_accuracy: 0.2270 - val_auc: 0.5377\n",
      "Epoch 54/100\n",
      "16/16 [==============================] - 0s 4ms/step - loss: 0.7293 - accuracy: 0.2211 - auc: 0.5240 - val_loss: 0.7287 - val_accuracy: 0.2270 - val_auc: 0.5378\n",
      "Epoch 55/100\n",
      "16/16 [==============================] - 0s 4ms/step - loss: 0.7292 - accuracy: 0.2211 - auc: 0.5240 - val_loss: 0.7286 - val_accuracy: 0.2270 - val_auc: 0.5378\n",
      "Epoch 56/100\n",
      "16/16 [==============================] - 0s 4ms/step - loss: 0.7292 - accuracy: 0.2211 - auc: 0.5240 - val_loss: 0.7286 - val_accuracy: 0.2270 - val_auc: 0.5377\n",
      "Epoch 57/100\n",
      "16/16 [==============================] - 0s 4ms/step - loss: 0.7292 - accuracy: 0.2211 - auc: 0.5240 - val_loss: 0.7286 - val_accuracy: 0.2270 - val_auc: 0.5376\n",
      "Epoch 58/100\n",
      "16/16 [==============================] - 0s 4ms/step - loss: 0.7291 - accuracy: 0.2211 - auc: 0.5241 - val_loss: 0.7285 - val_accuracy: 0.2270 - val_auc: 0.5377\n",
      "Epoch 59/100\n",
      "16/16 [==============================] - 0s 4ms/step - loss: 0.7291 - accuracy: 0.2211 - auc: 0.5241 - val_loss: 0.7285 - val_accuracy: 0.2270 - val_auc: 0.5377\n",
      "Epoch 60/100\n",
      "16/16 [==============================] - 0s 4ms/step - loss: 0.7290 - accuracy: 0.2211 - auc: 0.5241 - val_loss: 0.7285 - val_accuracy: 0.2270 - val_auc: 0.5377\n",
      "Epoch 61/100\n",
      "16/16 [==============================] - 0s 4ms/step - loss: 0.7290 - accuracy: 0.2211 - auc: 0.5241 - val_loss: 0.7284 - val_accuracy: 0.2270 - val_auc: 0.5377\n",
      "Epoch 62/100\n",
      "16/16 [==============================] - 0s 4ms/step - loss: 0.7289 - accuracy: 0.2211 - auc: 0.5241 - val_loss: 0.7284 - val_accuracy: 0.2270 - val_auc: 0.5377\n",
      "Epoch 63/100\n",
      "16/16 [==============================] - 0s 4ms/step - loss: 0.7289 - accuracy: 0.2211 - auc: 0.5241 - val_loss: 0.7284 - val_accuracy: 0.2270 - val_auc: 0.5377\n",
      "Epoch 64/100\n",
      "16/16 [==============================] - 0s 5ms/step - loss: 0.7288 - accuracy: 0.2211 - auc: 0.5242 - val_loss: 0.7283 - val_accuracy: 0.2270 - val_auc: 0.5377\n",
      "Epoch 65/100\n",
      "16/16 [==============================] - 0s 4ms/step - loss: 0.7288 - accuracy: 0.2211 - auc: 0.5242 - val_loss: 0.7283 - val_accuracy: 0.2270 - val_auc: 0.5377\n",
      "Epoch 66/100\n",
      "16/16 [==============================] - 0s 4ms/step - loss: 0.7287 - accuracy: 0.2211 - auc: 0.5242 - val_loss: 0.7282 - val_accuracy: 0.2270 - val_auc: 0.5376\n",
      "Epoch 67/100\n",
      "16/16 [==============================] - 0s 4ms/step - loss: 0.7287 - accuracy: 0.2211 - auc: 0.5242 - val_loss: 0.7282 - val_accuracy: 0.2270 - val_auc: 0.5377\n",
      "Epoch 68/100\n",
      "16/16 [==============================] - 0s 4ms/step - loss: 0.7287 - accuracy: 0.2211 - auc: 0.5242 - val_loss: 0.7282 - val_accuracy: 0.2270 - val_auc: 0.5377\n",
      "Epoch 69/100\n",
      "16/16 [==============================] - 0s 4ms/step - loss: 0.7286 - accuracy: 0.2211 - auc: 0.5243 - val_loss: 0.7281 - val_accuracy: 0.2270 - val_auc: 0.5377\n",
      "Epoch 70/100\n",
      "16/16 [==============================] - 0s 4ms/step - loss: 0.7286 - accuracy: 0.2211 - auc: 0.5243 - val_loss: 0.7281 - val_accuracy: 0.2270 - val_auc: 0.5376\n",
      "Epoch 71/100\n",
      "16/16 [==============================] - 0s 4ms/step - loss: 0.7285 - accuracy: 0.2211 - auc: 0.5243 - val_loss: 0.7281 - val_accuracy: 0.2270 - val_auc: 0.5376\n",
      "Epoch 72/100\n",
      "16/16 [==============================] - 0s 4ms/step - loss: 0.7285 - accuracy: 0.2211 - auc: 0.5243 - val_loss: 0.7280 - val_accuracy: 0.2270 - val_auc: 0.5376\n",
      "Epoch 73/100\n",
      "16/16 [==============================] - 0s 5ms/step - loss: 0.7284 - accuracy: 0.2211 - auc: 0.5243 - val_loss: 0.7280 - val_accuracy: 0.2270 - val_auc: 0.5376\n",
      "Epoch 74/100\n",
      "16/16 [==============================] - 0s 4ms/step - loss: 0.7284 - accuracy: 0.2211 - auc: 0.5243 - val_loss: 0.7280 - val_accuracy: 0.2270 - val_auc: 0.5377\n",
      "Epoch 75/100\n",
      "16/16 [==============================] - 0s 7ms/step - loss: 0.7283 - accuracy: 0.2217 - auc: 0.5243 - val_loss: 0.7279 - val_accuracy: 0.2270 - val_auc: 0.5377\n",
      "Epoch 76/100\n",
      "16/16 [==============================] - 0s 4ms/step - loss: 0.7283 - accuracy: 0.2217 - auc: 0.5243 - val_loss: 0.7279 - val_accuracy: 0.2270 - val_auc: 0.5377\n",
      "Epoch 77/100\n",
      "16/16 [==============================] - 0s 4ms/step - loss: 0.7282 - accuracy: 0.2217 - auc: 0.5243 - val_loss: 0.7279 - val_accuracy: 0.2270 - val_auc: 0.5377\n",
      "Epoch 78/100\n",
      "16/16 [==============================] - 0s 4ms/step - loss: 0.7282 - accuracy: 0.2217 - auc: 0.5243 - val_loss: 0.7278 - val_accuracy: 0.2270 - val_auc: 0.5378\n",
      "Epoch 79/100\n",
      "16/16 [==============================] - 0s 4ms/step - loss: 0.7282 - accuracy: 0.2217 - auc: 0.5243 - val_loss: 0.7278 - val_accuracy: 0.2270 - val_auc: 0.5378\n",
      "Epoch 80/100\n",
      "16/16 [==============================] - 0s 4ms/step - loss: 0.7281 - accuracy: 0.2217 - auc: 0.5243 - val_loss: 0.7278 - val_accuracy: 0.2270 - val_auc: 0.5379\n",
      "Epoch 81/100\n",
      "16/16 [==============================] - 0s 4ms/step - loss: 0.7281 - accuracy: 0.2224 - auc: 0.5244 - val_loss: 0.7277 - val_accuracy: 0.2270 - val_auc: 0.5378\n",
      "Epoch 82/100\n",
      "16/16 [==============================] - 0s 4ms/step - loss: 0.7280 - accuracy: 0.2224 - auc: 0.5244 - val_loss: 0.7277 - val_accuracy: 0.2270 - val_auc: 0.5379\n",
      "Epoch 83/100\n",
      "16/16 [==============================] - 0s 4ms/step - loss: 0.7280 - accuracy: 0.2224 - auc: 0.5244 - val_loss: 0.7277 - val_accuracy: 0.2270 - val_auc: 0.5379\n",
      "Epoch 84/100\n",
      "16/16 [==============================] - 0s 4ms/step - loss: 0.7279 - accuracy: 0.2224 - auc: 0.5244 - val_loss: 0.7276 - val_accuracy: 0.2270 - val_auc: 0.5378\n",
      "Epoch 85/100\n",
      "16/16 [==============================] - 0s 4ms/step - loss: 0.7279 - accuracy: 0.2224 - auc: 0.5244 - val_loss: 0.7276 - val_accuracy: 0.2270 - val_auc: 0.5378\n",
      "Epoch 86/100\n",
      "16/16 [==============================] - 0s 4ms/step - loss: 0.7278 - accuracy: 0.2224 - auc: 0.5244 - val_loss: 0.7275 - val_accuracy: 0.2270 - val_auc: 0.5379\n",
      "Epoch 87/100\n",
      "16/16 [==============================] - 0s 4ms/step - loss: 0.7278 - accuracy: 0.2217 - auc: 0.5244 - val_loss: 0.7275 - val_accuracy: 0.2270 - val_auc: 0.5378\n",
      "Epoch 88/100\n",
      "16/16 [==============================] - 0s 4ms/step - loss: 0.7278 - accuracy: 0.2217 - auc: 0.5244 - val_loss: 0.7275 - val_accuracy: 0.2270 - val_auc: 0.5379\n",
      "Epoch 89/100\n",
      "16/16 [==============================] - 0s 4ms/step - loss: 0.7277 - accuracy: 0.2217 - auc: 0.5244 - val_loss: 0.7274 - val_accuracy: 0.2270 - val_auc: 0.5379\n",
      "Epoch 90/100\n",
      "16/16 [==============================] - 0s 4ms/step - loss: 0.7277 - accuracy: 0.2217 - auc: 0.5244 - val_loss: 0.7274 - val_accuracy: 0.2270 - val_auc: 0.5378\n",
      "Epoch 91/100\n",
      "16/16 [==============================] - 0s 4ms/step - loss: 0.7276 - accuracy: 0.2224 - auc: 0.5244 - val_loss: 0.7274 - val_accuracy: 0.2270 - val_auc: 0.5378\n",
      "Epoch 92/100\n",
      "16/16 [==============================] - 0s 4ms/step - loss: 0.7276 - accuracy: 0.2224 - auc: 0.5244 - val_loss: 0.7273 - val_accuracy: 0.2270 - val_auc: 0.5378\n",
      "Epoch 93/100\n",
      "16/16 [==============================] - 0s 4ms/step - loss: 0.7275 - accuracy: 0.2224 - auc: 0.5244 - val_loss: 0.7273 - val_accuracy: 0.2270 - val_auc: 0.5378\n",
      "Epoch 94/100\n",
      "16/16 [==============================] - 0s 4ms/step - loss: 0.7275 - accuracy: 0.2224 - auc: 0.5244 - val_loss: 0.7273 - val_accuracy: 0.2270 - val_auc: 0.5378\n",
      "Epoch 95/100\n",
      "16/16 [==============================] - 0s 4ms/step - loss: 0.7274 - accuracy: 0.2224 - auc: 0.5244 - val_loss: 0.7272 - val_accuracy: 0.2270 - val_auc: 0.5378\n",
      "Epoch 96/100\n",
      "16/16 [==============================] - 0s 4ms/step - loss: 0.7274 - accuracy: 0.2217 - auc: 0.5245 - val_loss: 0.7272 - val_accuracy: 0.2270 - val_auc: 0.5378\n",
      "Epoch 97/100\n",
      "16/16 [==============================] - 0s 4ms/step - loss: 0.7274 - accuracy: 0.2217 - auc: 0.5245 - val_loss: 0.7272 - val_accuracy: 0.2270 - val_auc: 0.5378\n",
      "Epoch 98/100\n",
      "16/16 [==============================] - 0s 4ms/step - loss: 0.7273 - accuracy: 0.2217 - auc: 0.5245 - val_loss: 0.7271 - val_accuracy: 0.2270 - val_auc: 0.5379\n",
      "Epoch 99/100\n",
      "16/16 [==============================] - 0s 4ms/step - loss: 0.7273 - accuracy: 0.2217 - auc: 0.5245 - val_loss: 0.7271 - val_accuracy: 0.2270 - val_auc: 0.5379\n",
      "Epoch 100/100\n",
      "16/16 [==============================] - 0s 5ms/step - loss: 0.7272 - accuracy: 0.2217 - auc: 0.5245 - val_loss: 0.7271 - val_accuracy: 0.2270 - val_auc: 0.5379\n",
      "Epoch 1/100\n",
      "16/16 [==============================] - 0s 19ms/step - loss: 0.7606 - accuracy: 0.1661 - auc: 0.4978 - val_loss: 0.7744 - val_accuracy: 0.1505 - val_auc: 0.4992\n",
      "Epoch 2/100\n",
      "16/16 [==============================] - 0s 4ms/step - loss: 0.7606 - accuracy: 0.1661 - auc: 0.4978 - val_loss: 0.7744 - val_accuracy: 0.1505 - val_auc: 0.4992\n",
      "Epoch 3/100\n",
      "16/16 [==============================] - 0s 4ms/step - loss: 0.7605 - accuracy: 0.1661 - auc: 0.4978 - val_loss: 0.7743 - val_accuracy: 0.1505 - val_auc: 0.4993\n",
      "Epoch 4/100\n",
      "16/16 [==============================] - 0s 4ms/step - loss: 0.7605 - accuracy: 0.1661 - auc: 0.4978 - val_loss: 0.7743 - val_accuracy: 0.1505 - val_auc: 0.4993\n",
      "Epoch 5/100\n",
      "16/16 [==============================] - 0s 4ms/step - loss: 0.7604 - accuracy: 0.1661 - auc: 0.4978 - val_loss: 0.7742 - val_accuracy: 0.1505 - val_auc: 0.4992\n",
      "Epoch 6/100\n",
      "16/16 [==============================] - 0s 4ms/step - loss: 0.7604 - accuracy: 0.1661 - auc: 0.4979 - val_loss: 0.7742 - val_accuracy: 0.1505 - val_auc: 0.4993\n",
      "Epoch 7/100\n",
      "16/16 [==============================] - 0s 4ms/step - loss: 0.7603 - accuracy: 0.1661 - auc: 0.4979 - val_loss: 0.7741 - val_accuracy: 0.1505 - val_auc: 0.4993\n",
      "Epoch 8/100\n",
      "16/16 [==============================] - 0s 4ms/step - loss: 0.7602 - accuracy: 0.1661 - auc: 0.4979 - val_loss: 0.7741 - val_accuracy: 0.1505 - val_auc: 0.4993\n",
      "Epoch 9/100\n",
      "16/16 [==============================] - 0s 4ms/step - loss: 0.7602 - accuracy: 0.1661 - auc: 0.4979 - val_loss: 0.7740 - val_accuracy: 0.1505 - val_auc: 0.4993\n",
      "Epoch 10/100\n",
      "16/16 [==============================] - 0s 4ms/step - loss: 0.7601 - accuracy: 0.1661 - auc: 0.4979 - val_loss: 0.7739 - val_accuracy: 0.1505 - val_auc: 0.4994\n",
      "Epoch 11/100\n",
      "16/16 [==============================] - 0s 4ms/step - loss: 0.7601 - accuracy: 0.1661 - auc: 0.4979 - val_loss: 0.7739 - val_accuracy: 0.1505 - val_auc: 0.4994\n",
      "Epoch 12/100\n",
      "16/16 [==============================] - 0s 4ms/step - loss: 0.7600 - accuracy: 0.1661 - auc: 0.4980 - val_loss: 0.7738 - val_accuracy: 0.1505 - val_auc: 0.4994\n",
      "Epoch 13/100\n",
      "16/16 [==============================] - 0s 4ms/step - loss: 0.7600 - accuracy: 0.1661 - auc: 0.4980 - val_loss: 0.7738 - val_accuracy: 0.1505 - val_auc: 0.4995\n",
      "Epoch 14/100\n",
      "16/16 [==============================] - 0s 4ms/step - loss: 0.7599 - accuracy: 0.1661 - auc: 0.4980 - val_loss: 0.7737 - val_accuracy: 0.1505 - val_auc: 0.4994\n",
      "Epoch 15/100\n",
      "16/16 [==============================] - 0s 4ms/step - loss: 0.7599 - accuracy: 0.1661 - auc: 0.4980 - val_loss: 0.7737 - val_accuracy: 0.1505 - val_auc: 0.4995\n",
      "Epoch 16/100\n",
      "16/16 [==============================] - 0s 4ms/step - loss: 0.7598 - accuracy: 0.1661 - auc: 0.4980 - val_loss: 0.7736 - val_accuracy: 0.1505 - val_auc: 0.4995\n",
      "Epoch 17/100\n",
      "16/16 [==============================] - 0s 4ms/step - loss: 0.7598 - accuracy: 0.1661 - auc: 0.4980 - val_loss: 0.7736 - val_accuracy: 0.1505 - val_auc: 0.4994\n",
      "Epoch 18/100\n",
      "16/16 [==============================] - 0s 4ms/step - loss: 0.7597 - accuracy: 0.1661 - auc: 0.4980 - val_loss: 0.7735 - val_accuracy: 0.1505 - val_auc: 0.4994\n",
      "Epoch 19/100\n",
      "16/16 [==============================] - 0s 4ms/step - loss: 0.7596 - accuracy: 0.1661 - auc: 0.4981 - val_loss: 0.7735 - val_accuracy: 0.1505 - val_auc: 0.4995\n",
      "Epoch 20/100\n",
      "16/16 [==============================] - 0s 4ms/step - loss: 0.7596 - accuracy: 0.1668 - auc: 0.4981 - val_loss: 0.7734 - val_accuracy: 0.1505 - val_auc: 0.4995\n",
      "Epoch 21/100\n",
      "16/16 [==============================] - 0s 4ms/step - loss: 0.7595 - accuracy: 0.1668 - auc: 0.4981 - val_loss: 0.7734 - val_accuracy: 0.1505 - val_auc: 0.4995\n",
      "Epoch 22/100\n",
      "16/16 [==============================] - 0s 4ms/step - loss: 0.7595 - accuracy: 0.1668 - auc: 0.4981 - val_loss: 0.7733 - val_accuracy: 0.1505 - val_auc: 0.4996\n",
      "Epoch 23/100\n",
      "16/16 [==============================] - 0s 4ms/step - loss: 0.7594 - accuracy: 0.1668 - auc: 0.4982 - val_loss: 0.7733 - val_accuracy: 0.1505 - val_auc: 0.4995\n",
      "Epoch 24/100\n",
      "16/16 [==============================] - 0s 6ms/step - loss: 0.7594 - accuracy: 0.1668 - auc: 0.4982 - val_loss: 0.7732 - val_accuracy: 0.1505 - val_auc: 0.4995\n",
      "Epoch 25/100\n",
      "16/16 [==============================] - 0s 4ms/step - loss: 0.7593 - accuracy: 0.1668 - auc: 0.4982 - val_loss: 0.7732 - val_accuracy: 0.1505 - val_auc: 0.4996\n",
      "Epoch 26/100\n",
      "16/16 [==============================] - 0s 4ms/step - loss: 0.7593 - accuracy: 0.1674 - auc: 0.4982 - val_loss: 0.7731 - val_accuracy: 0.1505 - val_auc: 0.4996\n",
      "Epoch 27/100\n",
      "16/16 [==============================] - 0s 4ms/step - loss: 0.7592 - accuracy: 0.1674 - auc: 0.4981 - val_loss: 0.7731 - val_accuracy: 0.1505 - val_auc: 0.4996\n",
      "Epoch 28/100\n",
      "16/16 [==============================] - 0s 4ms/step - loss: 0.7592 - accuracy: 0.1681 - auc: 0.4982 - val_loss: 0.7730 - val_accuracy: 0.1505 - val_auc: 0.4996\n",
      "Epoch 29/100\n",
      "16/16 [==============================] - 0s 4ms/step - loss: 0.7591 - accuracy: 0.1681 - auc: 0.4981 - val_loss: 0.7729 - val_accuracy: 0.1505 - val_auc: 0.4996\n",
      "Epoch 30/100\n",
      "16/16 [==============================] - 0s 4ms/step - loss: 0.7591 - accuracy: 0.1681 - auc: 0.4982 - val_loss: 0.7729 - val_accuracy: 0.1505 - val_auc: 0.4996\n",
      "Epoch 31/100\n",
      "16/16 [==============================] - 0s 4ms/step - loss: 0.7590 - accuracy: 0.1681 - auc: 0.4982 - val_loss: 0.7728 - val_accuracy: 0.1505 - val_auc: 0.4997\n",
      "Epoch 32/100\n",
      "16/16 [==============================] - 0s 4ms/step - loss: 0.7589 - accuracy: 0.1681 - auc: 0.4982 - val_loss: 0.7728 - val_accuracy: 0.1505 - val_auc: 0.4997\n",
      "Epoch 33/100\n",
      "16/16 [==============================] - 0s 4ms/step - loss: 0.7589 - accuracy: 0.1681 - auc: 0.4982 - val_loss: 0.7727 - val_accuracy: 0.1505 - val_auc: 0.4997\n",
      "Epoch 34/100\n",
      "16/16 [==============================] - 0s 4ms/step - loss: 0.7588 - accuracy: 0.1681 - auc: 0.4982 - val_loss: 0.7727 - val_accuracy: 0.1505 - val_auc: 0.4997\n",
      "Epoch 35/100\n",
      "16/16 [==============================] - 0s 4ms/step - loss: 0.7588 - accuracy: 0.1681 - auc: 0.4982 - val_loss: 0.7726 - val_accuracy: 0.1505 - val_auc: 0.4997\n",
      "Epoch 36/100\n",
      "16/16 [==============================] - 0s 4ms/step - loss: 0.7587 - accuracy: 0.1681 - auc: 0.4982 - val_loss: 0.7726 - val_accuracy: 0.1505 - val_auc: 0.4997\n",
      "Epoch 37/100\n",
      "16/16 [==============================] - 0s 4ms/step - loss: 0.7587 - accuracy: 0.1681 - auc: 0.4983 - val_loss: 0.7725 - val_accuracy: 0.1505 - val_auc: 0.4997\n",
      "Epoch 38/100\n",
      "16/16 [==============================] - 0s 4ms/step - loss: 0.7586 - accuracy: 0.1681 - auc: 0.4983 - val_loss: 0.7725 - val_accuracy: 0.1505 - val_auc: 0.4997\n",
      "Epoch 39/100\n",
      "16/16 [==============================] - 0s 4ms/step - loss: 0.7586 - accuracy: 0.1681 - auc: 0.4983 - val_loss: 0.7724 - val_accuracy: 0.1505 - val_auc: 0.4997\n",
      "Epoch 40/100\n",
      "16/16 [==============================] - 0s 4ms/step - loss: 0.7585 - accuracy: 0.1687 - auc: 0.4983 - val_loss: 0.7724 - val_accuracy: 0.1505 - val_auc: 0.4997\n",
      "Epoch 41/100\n",
      "16/16 [==============================] - 0s 4ms/step - loss: 0.7585 - accuracy: 0.1687 - auc: 0.4983 - val_loss: 0.7723 - val_accuracy: 0.1505 - val_auc: 0.4997\n",
      "Epoch 42/100\n",
      "16/16 [==============================] - 0s 4ms/step - loss: 0.7584 - accuracy: 0.1693 - auc: 0.4983 - val_loss: 0.7723 - val_accuracy: 0.1505 - val_auc: 0.4997\n",
      "Epoch 43/100\n",
      "16/16 [==============================] - 0s 4ms/step - loss: 0.7584 - accuracy: 0.1693 - auc: 0.4983 - val_loss: 0.7722 - val_accuracy: 0.1505 - val_auc: 0.4997\n",
      "Epoch 44/100\n",
      "16/16 [==============================] - 0s 4ms/step - loss: 0.7583 - accuracy: 0.1693 - auc: 0.4983 - val_loss: 0.7722 - val_accuracy: 0.1505 - val_auc: 0.4998\n",
      "Epoch 45/100\n",
      "16/16 [==============================] - 0s 4ms/step - loss: 0.7583 - accuracy: 0.1693 - auc: 0.4983 - val_loss: 0.7721 - val_accuracy: 0.1505 - val_auc: 0.4998\n",
      "Epoch 46/100\n",
      "16/16 [==============================] - 0s 4ms/step - loss: 0.7582 - accuracy: 0.1693 - auc: 0.4983 - val_loss: 0.7721 - val_accuracy: 0.1505 - val_auc: 0.4998\n",
      "Epoch 47/100\n",
      "16/16 [==============================] - 0s 4ms/step - loss: 0.7581 - accuracy: 0.1693 - auc: 0.4983 - val_loss: 0.7720 - val_accuracy: 0.1505 - val_auc: 0.4998\n",
      "Epoch 48/100\n",
      "16/16 [==============================] - 0s 4ms/step - loss: 0.7581 - accuracy: 0.1693 - auc: 0.4983 - val_loss: 0.7720 - val_accuracy: 0.1505 - val_auc: 0.4998\n",
      "Epoch 49/100\n",
      "16/16 [==============================] - 0s 4ms/step - loss: 0.7580 - accuracy: 0.1693 - auc: 0.4983 - val_loss: 0.7719 - val_accuracy: 0.1505 - val_auc: 0.4998\n",
      "Epoch 50/100\n",
      "16/16 [==============================] - 0s 4ms/step - loss: 0.7580 - accuracy: 0.1693 - auc: 0.4983 - val_loss: 0.7719 - val_accuracy: 0.1505 - val_auc: 0.4998\n",
      "Epoch 51/100\n",
      "16/16 [==============================] - 0s 4ms/step - loss: 0.7579 - accuracy: 0.1693 - auc: 0.4983 - val_loss: 0.7718 - val_accuracy: 0.1505 - val_auc: 0.4998\n",
      "Epoch 52/100\n",
      "16/16 [==============================] - 0s 4ms/step - loss: 0.7579 - accuracy: 0.1693 - auc: 0.4983 - val_loss: 0.7717 - val_accuracy: 0.1505 - val_auc: 0.4999\n",
      "Epoch 53/100\n",
      "16/16 [==============================] - 0s 4ms/step - loss: 0.7578 - accuracy: 0.1700 - auc: 0.4983 - val_loss: 0.7717 - val_accuracy: 0.1505 - val_auc: 0.4998\n",
      "Epoch 54/100\n",
      "16/16 [==============================] - 0s 4ms/step - loss: 0.7578 - accuracy: 0.1700 - auc: 0.4983 - val_loss: 0.7716 - val_accuracy: 0.1505 - val_auc: 0.4998\n",
      "Epoch 55/100\n",
      "16/16 [==============================] - 0s 4ms/step - loss: 0.7577 - accuracy: 0.1700 - auc: 0.4984 - val_loss: 0.7716 - val_accuracy: 0.1505 - val_auc: 0.4998\n",
      "Epoch 56/100\n",
      "16/16 [==============================] - 0s 4ms/step - loss: 0.7577 - accuracy: 0.1700 - auc: 0.4984 - val_loss: 0.7715 - val_accuracy: 0.1505 - val_auc: 0.4999\n",
      "Epoch 57/100\n",
      "16/16 [==============================] - 0s 4ms/step - loss: 0.7576 - accuracy: 0.1700 - auc: 0.4984 - val_loss: 0.7715 - val_accuracy: 0.1505 - val_auc: 0.5000\n",
      "Epoch 58/100\n",
      "16/16 [==============================] - 0s 4ms/step - loss: 0.7576 - accuracy: 0.1700 - auc: 0.4984 - val_loss: 0.7714 - val_accuracy: 0.1505 - val_auc: 0.5000\n",
      "Epoch 59/100\n",
      "16/16 [==============================] - 0s 4ms/step - loss: 0.7575 - accuracy: 0.1700 - auc: 0.4984 - val_loss: 0.7714 - val_accuracy: 0.1505 - val_auc: 0.5000\n",
      "Epoch 60/100\n",
      "16/16 [==============================] - 0s 4ms/step - loss: 0.7575 - accuracy: 0.1700 - auc: 0.4984 - val_loss: 0.7713 - val_accuracy: 0.1505 - val_auc: 0.5000\n",
      "Epoch 61/100\n",
      "16/16 [==============================] - 0s 5ms/step - loss: 0.7574 - accuracy: 0.1700 - auc: 0.4984 - val_loss: 0.7713 - val_accuracy: 0.1505 - val_auc: 0.5000\n",
      "Epoch 62/100\n",
      "16/16 [==============================] - 0s 4ms/step - loss: 0.7574 - accuracy: 0.1700 - auc: 0.4984 - val_loss: 0.7712 - val_accuracy: 0.1531 - val_auc: 0.5000\n",
      "Epoch 63/100\n",
      "16/16 [==============================] - 0s 4ms/step - loss: 0.7573 - accuracy: 0.1700 - auc: 0.4984 - val_loss: 0.7712 - val_accuracy: 0.1531 - val_auc: 0.4999\n",
      "Epoch 64/100\n",
      "16/16 [==============================] - 0s 4ms/step - loss: 0.7573 - accuracy: 0.1700 - auc: 0.4984 - val_loss: 0.7711 - val_accuracy: 0.1531 - val_auc: 0.4999\n",
      "Epoch 65/100\n",
      "16/16 [==============================] - 0s 4ms/step - loss: 0.7572 - accuracy: 0.1706 - auc: 0.4985 - val_loss: 0.7711 - val_accuracy: 0.1531 - val_auc: 0.4999\n",
      "Epoch 66/100\n",
      "16/16 [==============================] - 0s 7ms/step - loss: 0.7571 - accuracy: 0.1706 - auc: 0.4985 - val_loss: 0.7710 - val_accuracy: 0.1531 - val_auc: 0.4999\n",
      "Epoch 67/100\n",
      "16/16 [==============================] - 0s 4ms/step - loss: 0.7571 - accuracy: 0.1706 - auc: 0.4985 - val_loss: 0.7710 - val_accuracy: 0.1531 - val_auc: 0.4999\n",
      "Epoch 68/100\n",
      "16/16 [==============================] - 0s 4ms/step - loss: 0.7570 - accuracy: 0.1706 - auc: 0.4985 - val_loss: 0.7709 - val_accuracy: 0.1531 - val_auc: 0.4999\n",
      "Epoch 69/100\n",
      "16/16 [==============================] - 0s 4ms/step - loss: 0.7570 - accuracy: 0.1706 - auc: 0.4986 - val_loss: 0.7709 - val_accuracy: 0.1531 - val_auc: 0.5000\n",
      "Epoch 70/100\n",
      "16/16 [==============================] - 0s 4ms/step - loss: 0.7569 - accuracy: 0.1706 - auc: 0.4986 - val_loss: 0.7708 - val_accuracy: 0.1531 - val_auc: 0.5000\n",
      "Epoch 71/100\n",
      "16/16 [==============================] - 0s 4ms/step - loss: 0.7569 - accuracy: 0.1706 - auc: 0.4986 - val_loss: 0.7708 - val_accuracy: 0.1531 - val_auc: 0.4999\n",
      "Epoch 72/100\n",
      "16/16 [==============================] - 0s 4ms/step - loss: 0.7568 - accuracy: 0.1712 - auc: 0.4987 - val_loss: 0.7707 - val_accuracy: 0.1531 - val_auc: 0.5000\n",
      "Epoch 73/100\n",
      "16/16 [==============================] - 0s 4ms/step - loss: 0.7568 - accuracy: 0.1712 - auc: 0.4987 - val_loss: 0.7707 - val_accuracy: 0.1531 - val_auc: 0.5000\n",
      "Epoch 74/100\n",
      "16/16 [==============================] - 0s 4ms/step - loss: 0.7567 - accuracy: 0.1712 - auc: 0.4987 - val_loss: 0.7706 - val_accuracy: 0.1531 - val_auc: 0.5001\n",
      "Epoch 75/100\n",
      "16/16 [==============================] - 0s 4ms/step - loss: 0.7567 - accuracy: 0.1712 - auc: 0.4987 - val_loss: 0.7706 - val_accuracy: 0.1531 - val_auc: 0.5001\n",
      "Epoch 76/100\n",
      "16/16 [==============================] - 0s 4ms/step - loss: 0.7566 - accuracy: 0.1712 - auc: 0.4988 - val_loss: 0.7705 - val_accuracy: 0.1531 - val_auc: 0.5001\n",
      "Epoch 77/100\n",
      "16/16 [==============================] - 0s 5ms/step - loss: 0.7566 - accuracy: 0.1712 - auc: 0.4988 - val_loss: 0.7705 - val_accuracy: 0.1531 - val_auc: 0.5000\n",
      "Epoch 78/100\n",
      "16/16 [==============================] - 0s 4ms/step - loss: 0.7565 - accuracy: 0.1712 - auc: 0.4988 - val_loss: 0.7704 - val_accuracy: 0.1582 - val_auc: 0.5000\n",
      "Epoch 79/100\n",
      "16/16 [==============================] - 0s 4ms/step - loss: 0.7565 - accuracy: 0.1712 - auc: 0.4988 - val_loss: 0.7704 - val_accuracy: 0.1582 - val_auc: 0.5000\n",
      "Epoch 80/100\n",
      "16/16 [==============================] - 0s 4ms/step - loss: 0.7564 - accuracy: 0.1719 - auc: 0.4988 - val_loss: 0.7703 - val_accuracy: 0.1582 - val_auc: 0.5000\n",
      "Epoch 81/100\n",
      "16/16 [==============================] - 0s 4ms/step - loss: 0.7564 - accuracy: 0.1719 - auc: 0.4988 - val_loss: 0.7703 - val_accuracy: 0.1582 - val_auc: 0.5001\n",
      "Epoch 82/100\n",
      "16/16 [==============================] - 0s 4ms/step - loss: 0.7563 - accuracy: 0.1719 - auc: 0.4988 - val_loss: 0.7702 - val_accuracy: 0.1582 - val_auc: 0.5001\n",
      "Epoch 83/100\n",
      "16/16 [==============================] - 0s 4ms/step - loss: 0.7563 - accuracy: 0.1719 - auc: 0.4989 - val_loss: 0.7702 - val_accuracy: 0.1582 - val_auc: 0.5001\n",
      "Epoch 84/100\n",
      "16/16 [==============================] - 0s 4ms/step - loss: 0.7562 - accuracy: 0.1719 - auc: 0.4989 - val_loss: 0.7701 - val_accuracy: 0.1582 - val_auc: 0.5000\n",
      "Epoch 85/100\n",
      "16/16 [==============================] - 0s 4ms/step - loss: 0.7562 - accuracy: 0.1719 - auc: 0.4989 - val_loss: 0.7701 - val_accuracy: 0.1582 - val_auc: 0.4999\n",
      "Epoch 86/100\n",
      "16/16 [==============================] - 0s 4ms/step - loss: 0.7561 - accuracy: 0.1719 - auc: 0.4989 - val_loss: 0.7700 - val_accuracy: 0.1582 - val_auc: 0.4999\n",
      "Epoch 87/100\n",
      "16/16 [==============================] - 0s 4ms/step - loss: 0.7561 - accuracy: 0.1719 - auc: 0.4989 - val_loss: 0.7700 - val_accuracy: 0.1582 - val_auc: 0.5000\n",
      "Epoch 88/100\n",
      "16/16 [==============================] - 0s 4ms/step - loss: 0.7560 - accuracy: 0.1719 - auc: 0.4989 - val_loss: 0.7699 - val_accuracy: 0.1582 - val_auc: 0.5000\n",
      "Epoch 89/100\n",
      "16/16 [==============================] - 0s 5ms/step - loss: 0.7560 - accuracy: 0.1719 - auc: 0.4989 - val_loss: 0.7699 - val_accuracy: 0.1582 - val_auc: 0.5000\n",
      "Epoch 90/100\n",
      "16/16 [==============================] - 0s 4ms/step - loss: 0.7559 - accuracy: 0.1719 - auc: 0.4989 - val_loss: 0.7698 - val_accuracy: 0.1582 - val_auc: 0.5000\n",
      "Epoch 91/100\n",
      "16/16 [==============================] - 0s 4ms/step - loss: 0.7558 - accuracy: 0.1719 - auc: 0.4989 - val_loss: 0.7698 - val_accuracy: 0.1582 - val_auc: 0.5000\n",
      "Epoch 92/100\n",
      "16/16 [==============================] - 0s 4ms/step - loss: 0.7558 - accuracy: 0.1719 - auc: 0.4989 - val_loss: 0.7697 - val_accuracy: 0.1582 - val_auc: 0.5001\n",
      "Epoch 93/100\n",
      "16/16 [==============================] - 0s 4ms/step - loss: 0.7557 - accuracy: 0.1719 - auc: 0.4989 - val_loss: 0.7697 - val_accuracy: 0.1582 - val_auc: 0.5000\n",
      "Epoch 94/100\n",
      "16/16 [==============================] - 0s 4ms/step - loss: 0.7557 - accuracy: 0.1719 - auc: 0.4989 - val_loss: 0.7696 - val_accuracy: 0.1582 - val_auc: 0.5001\n",
      "Epoch 95/100\n",
      "16/16 [==============================] - 0s 4ms/step - loss: 0.7556 - accuracy: 0.1719 - auc: 0.4989 - val_loss: 0.7696 - val_accuracy: 0.1582 - val_auc: 0.5001\n",
      "Epoch 96/100\n",
      "16/16 [==============================] - 0s 4ms/step - loss: 0.7556 - accuracy: 0.1719 - auc: 0.4989 - val_loss: 0.7695 - val_accuracy: 0.1582 - val_auc: 0.5001\n",
      "Epoch 97/100\n",
      "16/16 [==============================] - 0s 4ms/step - loss: 0.7555 - accuracy: 0.1719 - auc: 0.4989 - val_loss: 0.7695 - val_accuracy: 0.1582 - val_auc: 0.5001\n",
      "Epoch 98/100\n",
      "16/16 [==============================] - 0s 4ms/step - loss: 0.7555 - accuracy: 0.1719 - auc: 0.4990 - val_loss: 0.7694 - val_accuracy: 0.1582 - val_auc: 0.5001\n",
      "Epoch 99/100\n",
      "16/16 [==============================] - 0s 4ms/step - loss: 0.7554 - accuracy: 0.1719 - auc: 0.4989 - val_loss: 0.7694 - val_accuracy: 0.1582 - val_auc: 0.5001\n",
      "Epoch 100/100\n",
      "16/16 [==============================] - 0s 4ms/step - loss: 0.7554 - accuracy: 0.1719 - auc: 0.4990 - val_loss: 0.7693 - val_accuracy: 0.1582 - val_auc: 0.5001\n"
     ]
    },
    {
     "data": {
      "text/html": [
       "<span style=\"color:#4527A0\"><h1 style=\"font-size:18px\">Trial complete</h1></span>"
      ],
      "text/plain": [
       "<IPython.core.display.HTML object>"
      ]
     },
     "metadata": {
      "tags": []
     },
     "output_type": "display_data"
    },
    {
     "data": {
      "text/html": [
       "<span style=\"color:#4527A0\"><h1 style=\"font-size:18px\">Trial summary</h1></span>"
      ],
      "text/plain": [
       "<IPython.core.display.HTML object>"
      ]
     },
     "metadata": {
      "tags": []
     },
     "output_type": "display_data"
    },
    {
     "data": {
      "text/html": [
       "<span style=\"color:cyan\"> |-Trial ID: 8170eda39b05ade0bc730d71a2d9e193</span>"
      ],
      "text/plain": [
       "<IPython.core.display.HTML object>"
      ]
     },
     "metadata": {
      "tags": []
     },
     "output_type": "display_data"
    },
    {
     "data": {
      "text/html": [
       "<span style=\"color:cyan\"> |-Score: 0.20068027079105377</span>"
      ],
      "text/plain": [
       "<IPython.core.display.HTML object>"
      ]
     },
     "metadata": {
      "tags": []
     },
     "output_type": "display_data"
    },
    {
     "data": {
      "text/html": [
       "<span style=\"color:cyan\"> |-Best step: 0</span>"
      ],
      "text/plain": [
       "<IPython.core.display.HTML object>"
      ]
     },
     "metadata": {
      "tags": []
     },
     "output_type": "display_data"
    },
    {
     "data": {
      "text/html": [
       "<span style=\"color:#7E57C2\"><h2 style=\"font-size:16px\">Hyperparameters:</h2></span>"
      ],
      "text/plain": [
       "<IPython.core.display.HTML object>"
      ]
     },
     "metadata": {
      "tags": []
     },
     "output_type": "display_data"
    },
    {
     "data": {
      "text/html": [
       "<span style=\"color:cyan\"> |-act_0: selu</span>"
      ],
      "text/plain": [
       "<IPython.core.display.HTML object>"
      ]
     },
     "metadata": {
      "tags": []
     },
     "output_type": "display_data"
    },
    {
     "data": {
      "text/html": [
       "<span style=\"color:blue\"> |-act_1: selu</span>"
      ],
      "text/plain": [
       "<IPython.core.display.HTML object>"
      ]
     },
     "metadata": {
      "tags": []
     },
     "output_type": "display_data"
    },
    {
     "data": {
      "text/html": [
       "<span style=\"color:cyan\"> |-act_10: relu</span>"
      ],
      "text/plain": [
       "<IPython.core.display.HTML object>"
      ]
     },
     "metadata": {
      "tags": []
     },
     "output_type": "display_data"
    },
    {
     "data": {
      "text/html": [
       "<span style=\"color:blue\"> |-act_2: relu</span>"
      ],
      "text/plain": [
       "<IPython.core.display.HTML object>"
      ]
     },
     "metadata": {
      "tags": []
     },
     "output_type": "display_data"
    },
    {
     "data": {
      "text/html": [
       "<span style=\"color:cyan\"> |-act_3: relu</span>"
      ],
      "text/plain": [
       "<IPython.core.display.HTML object>"
      ]
     },
     "metadata": {
      "tags": []
     },
     "output_type": "display_data"
    },
    {
     "data": {
      "text/html": [
       "<span style=\"color:blue\"> |-act_4: selu</span>"
      ],
      "text/plain": [
       "<IPython.core.display.HTML object>"
      ]
     },
     "metadata": {
      "tags": []
     },
     "output_type": "display_data"
    },
    {
     "data": {
      "text/html": [
       "<span style=\"color:cyan\"> |-act_5: relu</span>"
      ],
      "text/plain": [
       "<IPython.core.display.HTML object>"
      ]
     },
     "metadata": {
      "tags": []
     },
     "output_type": "display_data"
    },
    {
     "data": {
      "text/html": [
       "<span style=\"color:blue\"> |-act_6: selu</span>"
      ],
      "text/plain": [
       "<IPython.core.display.HTML object>"
      ]
     },
     "metadata": {
      "tags": []
     },
     "output_type": "display_data"
    },
    {
     "data": {
      "text/html": [
       "<span style=\"color:cyan\"> |-act_7: selu</span>"
      ],
      "text/plain": [
       "<IPython.core.display.HTML object>"
      ]
     },
     "metadata": {
      "tags": []
     },
     "output_type": "display_data"
    },
    {
     "data": {
      "text/html": [
       "<span style=\"color:blue\"> |-act_8: selu</span>"
      ],
      "text/plain": [
       "<IPython.core.display.HTML object>"
      ]
     },
     "metadata": {
      "tags": []
     },
     "output_type": "display_data"
    },
    {
     "data": {
      "text/html": [
       "<span style=\"color:cyan\"> |-act_9: relu</span>"
      ],
      "text/plain": [
       "<IPython.core.display.HTML object>"
      ]
     },
     "metadata": {
      "tags": []
     },
     "output_type": "display_data"
    },
    {
     "data": {
      "text/html": [
       "<span style=\"color:blue\"> |-batch_size: 100</span>"
      ],
      "text/plain": [
       "<IPython.core.display.HTML object>"
      ]
     },
     "metadata": {
      "tags": []
     },
     "output_type": "display_data"
    },
    {
     "data": {
      "text/html": [
       "<span style=\"color:cyan\"> |-epochs: 100</span>"
      ],
      "text/plain": [
       "<IPython.core.display.HTML object>"
      ]
     },
     "metadata": {
      "tags": []
     },
     "output_type": "display_data"
    },
    {
     "data": {
      "text/html": [
       "<span style=\"color:blue\"> |-learning_rate: 1e-05</span>"
      ],
      "text/plain": [
       "<IPython.core.display.HTML object>"
      ]
     },
     "metadata": {
      "tags": []
     },
     "output_type": "display_data"
    },
    {
     "data": {
      "text/html": [
       "<span style=\"color:cyan\"> |-number_of_layers: 1</span>"
      ],
      "text/plain": [
       "<IPython.core.display.HTML object>"
      ]
     },
     "metadata": {
      "tags": []
     },
     "output_type": "display_data"
    },
    {
     "data": {
      "text/html": [
       "<span style=\"color:blue\"> |-unit_0: 50</span>"
      ],
      "text/plain": [
       "<IPython.core.display.HTML object>"
      ]
     },
     "metadata": {
      "tags": []
     },
     "output_type": "display_data"
    },
    {
     "data": {
      "text/html": [
       "<span style=\"color:cyan\"> |-unit_1: 500</span>"
      ],
      "text/plain": [
       "<IPython.core.display.HTML object>"
      ]
     },
     "metadata": {
      "tags": []
     },
     "output_type": "display_data"
    },
    {
     "data": {
      "text/html": [
       "<span style=\"color:blue\"> |-unit_10: 50</span>"
      ],
      "text/plain": [
       "<IPython.core.display.HTML object>"
      ]
     },
     "metadata": {
      "tags": []
     },
     "output_type": "display_data"
    },
    {
     "data": {
      "text/html": [
       "<span style=\"color:cyan\"> |-unit_2: 500</span>"
      ],
      "text/plain": [
       "<IPython.core.display.HTML object>"
      ]
     },
     "metadata": {
      "tags": []
     },
     "output_type": "display_data"
    },
    {
     "data": {
      "text/html": [
       "<span style=\"color:blue\"> |-unit_3: 500</span>"
      ],
      "text/plain": [
       "<IPython.core.display.HTML object>"
      ]
     },
     "metadata": {
      "tags": []
     },
     "output_type": "display_data"
    },
    {
     "data": {
      "text/html": [
       "<span style=\"color:cyan\"> |-unit_4: 500</span>"
      ],
      "text/plain": [
       "<IPython.core.display.HTML object>"
      ]
     },
     "metadata": {
      "tags": []
     },
     "output_type": "display_data"
    },
    {
     "data": {
      "text/html": [
       "<span style=\"color:blue\"> |-unit_5: 500</span>"
      ],
      "text/plain": [
       "<IPython.core.display.HTML object>"
      ]
     },
     "metadata": {
      "tags": []
     },
     "output_type": "display_data"
    },
    {
     "data": {
      "text/html": [
       "<span style=\"color:cyan\"> |-unit_6: 500</span>"
      ],
      "text/plain": [
       "<IPython.core.display.HTML object>"
      ]
     },
     "metadata": {
      "tags": []
     },
     "output_type": "display_data"
    },
    {
     "data": {
      "text/html": [
       "<span style=\"color:blue\"> |-unit_7: 500</span>"
      ],
      "text/plain": [
       "<IPython.core.display.HTML object>"
      ]
     },
     "metadata": {
      "tags": []
     },
     "output_type": "display_data"
    },
    {
     "data": {
      "text/html": [
       "<span style=\"color:cyan\"> |-unit_8: 500</span>"
      ],
      "text/plain": [
       "<IPython.core.display.HTML object>"
      ]
     },
     "metadata": {
      "tags": []
     },
     "output_type": "display_data"
    },
    {
     "data": {
      "text/html": [
       "<span style=\"color:blue\"> |-unit_9: 50</span>"
      ],
      "text/plain": [
       "<IPython.core.display.HTML object>"
      ]
     },
     "metadata": {
      "tags": []
     },
     "output_type": "display_data"
    },
    {
     "name": "stdout",
     "output_type": "stream",
     "text": [
      "Epoch 1/100\n",
      "157/157 [==============================] - 1s 6ms/step - loss: 0.5416 - accuracy: 0.4300 - auc: 0.6371 - val_loss: 0.6140 - val_accuracy: 0.3393 - val_auc: 0.5801\n",
      "Epoch 2/100\n",
      "157/157 [==============================] - 1s 4ms/step - loss: 0.5338 - accuracy: 0.4371 - auc: 0.6493 - val_loss: 0.5720 - val_accuracy: 0.3393 - val_auc: 0.5917\n",
      "Epoch 3/100\n",
      "157/157 [==============================] - 1s 4ms/step - loss: 0.5297 - accuracy: 0.4371 - auc: 0.6610 - val_loss: 0.6077 - val_accuracy: 0.3393 - val_auc: 0.5841\n",
      "Epoch 4/100\n",
      "157/157 [==============================] - 1s 4ms/step - loss: 0.5284 - accuracy: 0.4358 - auc: 0.6696 - val_loss: 0.5809 - val_accuracy: 0.3393 - val_auc: 0.6012\n",
      "Epoch 5/100\n",
      "157/157 [==============================] - 1s 4ms/step - loss: 0.5266 - accuracy: 0.4351 - auc: 0.6726 - val_loss: 0.5921 - val_accuracy: 0.3393 - val_auc: 0.5828\n",
      "Epoch 6/100\n",
      "157/157 [==============================] - 1s 4ms/step - loss: 0.5208 - accuracy: 0.4313 - auc: 0.6836 - val_loss: 0.5890 - val_accuracy: 0.3367 - val_auc: 0.5860\n",
      "Epoch 7/100\n",
      "157/157 [==============================] - 1s 4ms/step - loss: 0.5212 - accuracy: 0.4249 - auc: 0.6851 - val_loss: 0.5970 - val_accuracy: 0.3393 - val_auc: 0.5826\n",
      "Epoch 8/100\n",
      "157/157 [==============================] - 1s 4ms/step - loss: 0.5146 - accuracy: 0.4230 - auc: 0.6949 - val_loss: 0.5864 - val_accuracy: 0.2832 - val_auc: 0.5983\n",
      "Epoch 9/100\n",
      "157/157 [==============================] - 1s 4ms/step - loss: 0.5076 - accuracy: 0.4070 - auc: 0.7069 - val_loss: 0.5899 - val_accuracy: 0.2755 - val_auc: 0.5796\n",
      "Epoch 10/100\n",
      "157/157 [==============================] - 1s 4ms/step - loss: 0.5045 - accuracy: 0.4115 - auc: 0.7126 - val_loss: 0.6302 - val_accuracy: 0.3342 - val_auc: 0.5769\n",
      "Epoch 11/100\n",
      "157/157 [==============================] - 1s 4ms/step - loss: 0.5008 - accuracy: 0.4217 - auc: 0.7198 - val_loss: 0.6362 - val_accuracy: 0.3061 - val_auc: 0.5814\n",
      "Epoch 12/100\n",
      "157/157 [==============================] - 1s 4ms/step - loss: 0.4940 - accuracy: 0.4115 - auc: 0.7300 - val_loss: 0.7363 - val_accuracy: 0.3342 - val_auc: 0.5643\n",
      "Epoch 13/100\n",
      "157/157 [==============================] - 1s 4ms/step - loss: 0.4845 - accuracy: 0.4198 - auc: 0.7430 - val_loss: 0.6208 - val_accuracy: 0.2270 - val_auc: 0.5767\n",
      "Epoch 14/100\n",
      "157/157 [==============================] - 1s 4ms/step - loss: 0.4734 - accuracy: 0.4268 - auc: 0.7626 - val_loss: 0.6397 - val_accuracy: 0.2832 - val_auc: 0.5913\n",
      "Epoch 15/100\n",
      "157/157 [==============================] - 1s 4ms/step - loss: 0.4702 - accuracy: 0.4652 - auc: 0.7651 - val_loss: 0.6360 - val_accuracy: 0.2628 - val_auc: 0.5675\n",
      "Epoch 16/100\n",
      "157/157 [==============================] - 1s 4ms/step - loss: 0.4616 - accuracy: 0.4518 - auc: 0.7738 - val_loss: 0.6747 - val_accuracy: 0.2806 - val_auc: 0.5533\n",
      "Epoch 17/100\n",
      "157/157 [==============================] - 1s 4ms/step - loss: 0.4592 - accuracy: 0.4652 - auc: 0.7803 - val_loss: 0.6419 - val_accuracy: 0.2474 - val_auc: 0.5757\n",
      "Epoch 18/100\n",
      "157/157 [==============================] - 1s 4ms/step - loss: 0.4538 - accuracy: 0.4927 - auc: 0.7901 - val_loss: 0.7553 - val_accuracy: 0.3240 - val_auc: 0.5722\n",
      "Epoch 19/100\n",
      "157/157 [==============================] - 1s 4ms/step - loss: 0.4463 - accuracy: 0.4958 - auc: 0.7972 - val_loss: 0.6952 - val_accuracy: 0.2806 - val_auc: 0.5609\n",
      "Epoch 20/100\n",
      "157/157 [==============================] - 1s 4ms/step - loss: 0.4332 - accuracy: 0.4952 - auc: 0.8104 - val_loss: 0.6535 - val_accuracy: 0.2628 - val_auc: 0.5393\n",
      "Epoch 21/100\n",
      "157/157 [==============================] - 1s 4ms/step - loss: 0.4327 - accuracy: 0.4978 - auc: 0.8111 - val_loss: 0.7218 - val_accuracy: 0.2704 - val_auc: 0.5563\n",
      "Epoch 22/100\n",
      "157/157 [==============================] - 1s 4ms/step - loss: 0.4202 - accuracy: 0.5233 - auc: 0.8258 - val_loss: 0.7933 - val_accuracy: 0.2985 - val_auc: 0.5525\n",
      "Epoch 23/100\n",
      "157/157 [==============================] - 1s 4ms/step - loss: 0.4075 - accuracy: 0.5265 - auc: 0.8367 - val_loss: 0.7062 - val_accuracy: 0.1964 - val_auc: 0.5295\n",
      "Epoch 24/100\n",
      "157/157 [==============================] - 1s 4ms/step - loss: 0.4045 - accuracy: 0.5265 - auc: 0.8416 - val_loss: 0.7237 - val_accuracy: 0.2372 - val_auc: 0.5572\n",
      "Epoch 25/100\n",
      "157/157 [==============================] - 1s 4ms/step - loss: 0.3962 - accuracy: 0.5629 - auc: 0.8483 - val_loss: 0.7297 - val_accuracy: 0.2117 - val_auc: 0.4989\n",
      "Epoch 26/100\n",
      "157/157 [==============================] - 1s 4ms/step - loss: 0.3915 - accuracy: 0.5444 - auc: 0.8522 - val_loss: 0.7315 - val_accuracy: 0.2755 - val_auc: 0.5517\n",
      "Epoch 27/100\n",
      "157/157 [==============================] - 1s 4ms/step - loss: 0.3717 - accuracy: 0.5827 - auc: 0.8704 - val_loss: 0.7929 - val_accuracy: 0.2449 - val_auc: 0.5364\n",
      "Epoch 28/100\n",
      "157/157 [==============================] - 1s 4ms/step - loss: 0.3539 - accuracy: 0.5911 - auc: 0.8846 - val_loss: 0.8092 - val_accuracy: 0.3010 - val_auc: 0.5519\n",
      "Epoch 29/100\n",
      "157/157 [==============================] - 1s 4ms/step - loss: 0.3572 - accuracy: 0.5847 - auc: 0.8820 - val_loss: 0.7820 - val_accuracy: 0.2423 - val_auc: 0.5611\n",
      "Epoch 30/100\n",
      "157/157 [==============================] - 1s 4ms/step - loss: 0.3552 - accuracy: 0.5917 - auc: 0.8828 - val_loss: 0.7958 - val_accuracy: 0.2500 - val_auc: 0.5721\n",
      "Epoch 31/100\n",
      "157/157 [==============================] - 1s 4ms/step - loss: 0.3381 - accuracy: 0.5936 - auc: 0.8956 - val_loss: 0.7970 - val_accuracy: 0.2117 - val_auc: 0.5273\n",
      "Epoch 32/100\n",
      "157/157 [==============================] - 1s 4ms/step - loss: 0.3495 - accuracy: 0.5847 - auc: 0.8880 - val_loss: 0.8114 - val_accuracy: 0.2143 - val_auc: 0.5090\n",
      "Epoch 33/100\n",
      "157/157 [==============================] - 1s 4ms/step - loss: 0.3268 - accuracy: 0.6211 - auc: 0.9037 - val_loss: 0.9356 - val_accuracy: 0.2959 - val_auc: 0.5536\n",
      "Epoch 34/100\n",
      "157/157 [==============================] - 1s 4ms/step - loss: 0.3197 - accuracy: 0.6281 - auc: 0.9073 - val_loss: 0.8919 - val_accuracy: 0.2577 - val_auc: 0.5338\n",
      "Epoch 35/100\n",
      "157/157 [==============================] - 1s 4ms/step - loss: 0.3170 - accuracy: 0.6313 - auc: 0.9099 - val_loss: 1.0240 - val_accuracy: 0.2908 - val_auc: 0.5480\n",
      "Epoch 36/100\n",
      "157/157 [==============================] - 1s 4ms/step - loss: 0.3029 - accuracy: 0.6550 - auc: 0.9183 - val_loss: 0.8948 - val_accuracy: 0.2398 - val_auc: 0.5455\n",
      "Epoch 37/100\n",
      "157/157 [==============================] - 1s 4ms/step - loss: 0.3066 - accuracy: 0.6460 - auc: 0.9158 - val_loss: 0.8735 - val_accuracy: 0.2730 - val_auc: 0.5536\n",
      "Epoch 38/100\n",
      "157/157 [==============================] - 1s 4ms/step - loss: 0.2972 - accuracy: 0.6505 - auc: 0.9215 - val_loss: 0.9276 - val_accuracy: 0.2577 - val_auc: 0.5359\n",
      "Epoch 39/100\n",
      "157/157 [==============================] - 1s 4ms/step - loss: 0.3024 - accuracy: 0.6805 - auc: 0.9192 - val_loss: 0.9862 - val_accuracy: 0.3087 - val_auc: 0.5638\n",
      "Epoch 40/100\n",
      "157/157 [==============================] - 1s 4ms/step - loss: 0.2799 - accuracy: 0.6882 - auc: 0.9315 - val_loss: 1.0097 - val_accuracy: 0.2628 - val_auc: 0.5371\n",
      "Epoch 41/100\n",
      "157/157 [==============================] - 1s 4ms/step - loss: 0.2861 - accuracy: 0.6639 - auc: 0.9275 - val_loss: 0.9402 - val_accuracy: 0.2449 - val_auc: 0.5455\n",
      "Epoch 42/100\n",
      "157/157 [==============================] - 1s 4ms/step - loss: 0.2646 - accuracy: 0.6728 - auc: 0.9386 - val_loss: 1.0864 - val_accuracy: 0.2449 - val_auc: 0.5445\n",
      "Epoch 43/100\n",
      "157/157 [==============================] - 1s 4ms/step - loss: 0.2663 - accuracy: 0.6920 - auc: 0.9376 - val_loss: 1.0408 - val_accuracy: 0.2526 - val_auc: 0.5387\n",
      "Epoch 44/100\n",
      "157/157 [==============================] - 1s 4ms/step - loss: 0.2347 - accuracy: 0.7099 - auc: 0.9522 - val_loss: 1.2081 - val_accuracy: 0.2704 - val_auc: 0.5526\n",
      "Epoch 45/100\n",
      "157/157 [==============================] - 1s 4ms/step - loss: 0.2570 - accuracy: 0.6939 - auc: 0.9431 - val_loss: 0.9562 - val_accuracy: 0.2781 - val_auc: 0.5642\n",
      "Epoch 46/100\n",
      "157/157 [==============================] - 1s 4ms/step - loss: 0.2366 - accuracy: 0.7157 - auc: 0.9520 - val_loss: 1.1195 - val_accuracy: 0.2270 - val_auc: 0.5334\n",
      "Epoch 47/100\n",
      "157/157 [==============================] - 1s 4ms/step - loss: 0.2586 - accuracy: 0.6958 - auc: 0.9415 - val_loss: 0.9481 - val_accuracy: 0.2730 - val_auc: 0.5512\n",
      "Epoch 48/100\n",
      "157/157 [==============================] - 1s 4ms/step - loss: 0.2389 - accuracy: 0.6997 - auc: 0.9505 - val_loss: 1.0502 - val_accuracy: 0.1837 - val_auc: 0.5195\n",
      "Epoch 49/100\n",
      "157/157 [==============================] - 1s 4ms/step - loss: 0.2262 - accuracy: 0.7195 - auc: 0.9565 - val_loss: 1.0386 - val_accuracy: 0.2219 - val_auc: 0.5580\n",
      "Epoch 50/100\n",
      "157/157 [==============================] - 1s 4ms/step - loss: 0.2011 - accuracy: 0.7438 - auc: 0.9651 - val_loss: 1.2496 - val_accuracy: 0.2500 - val_auc: 0.5511\n",
      "Epoch 51/100\n",
      "157/157 [==============================] - 1s 4ms/step - loss: 0.2371 - accuracy: 0.7163 - auc: 0.9519 - val_loss: 1.0991 - val_accuracy: 0.2985 - val_auc: 0.5484\n",
      "Epoch 52/100\n",
      "157/157 [==============================] - 1s 4ms/step - loss: 0.2098 - accuracy: 0.7348 - auc: 0.9624 - val_loss: 1.1924 - val_accuracy: 0.2653 - val_auc: 0.5604\n",
      "Epoch 53/100\n",
      "157/157 [==============================] - 1s 4ms/step - loss: 0.2154 - accuracy: 0.7329 - auc: 0.9599 - val_loss: 1.0518 - val_accuracy: 0.2194 - val_auc: 0.5345\n",
      "Epoch 54/100\n",
      "157/157 [==============================] - 1s 4ms/step - loss: 0.1910 - accuracy: 0.7597 - auc: 0.9681 - val_loss: 1.2649 - val_accuracy: 0.2628 - val_auc: 0.5489\n",
      "Epoch 55/100\n",
      "157/157 [==============================] - 1s 4ms/step - loss: 0.2141 - accuracy: 0.7265 - auc: 0.9610 - val_loss: 1.2215 - val_accuracy: 0.2679 - val_auc: 0.5442\n",
      "Epoch 56/100\n",
      "157/157 [==============================] - 1s 4ms/step - loss: 0.2103 - accuracy: 0.7431 - auc: 0.9622 - val_loss: 1.0648 - val_accuracy: 0.2679 - val_auc: 0.5686\n",
      "Epoch 57/100\n",
      "157/157 [==============================] - 1s 4ms/step - loss: 0.2063 - accuracy: 0.7470 - auc: 0.9633 - val_loss: 1.0766 - val_accuracy: 0.2423 - val_auc: 0.5437\n",
      "Epoch 58/100\n",
      "157/157 [==============================] - 1s 4ms/step - loss: 0.1799 - accuracy: 0.7629 - auc: 0.9722 - val_loss: 1.1616 - val_accuracy: 0.2602 - val_auc: 0.5237\n",
      "Epoch 59/100\n",
      "157/157 [==============================] - 1s 4ms/step - loss: 0.1989 - accuracy: 0.7597 - auc: 0.9662 - val_loss: 1.3090 - val_accuracy: 0.2628 - val_auc: 0.5460\n",
      "Epoch 60/100\n",
      "157/157 [==============================] - 1s 4ms/step - loss: 0.1581 - accuracy: 0.7796 - auc: 0.9784 - val_loss: 1.3335 - val_accuracy: 0.2551 - val_auc: 0.5476\n",
      "Epoch 61/100\n",
      "157/157 [==============================] - 1s 4ms/step - loss: 0.1856 - accuracy: 0.7674 - auc: 0.9698 - val_loss: 1.2359 - val_accuracy: 0.2168 - val_auc: 0.5372\n",
      "Epoch 62/100\n",
      "157/157 [==============================] - 1s 4ms/step - loss: 0.2034 - accuracy: 0.7387 - auc: 0.9644 - val_loss: 1.2276 - val_accuracy: 0.2704 - val_auc: 0.5493\n",
      "Epoch 63/100\n",
      "157/157 [==============================] - 1s 4ms/step - loss: 0.1831 - accuracy: 0.7534 - auc: 0.9708 - val_loss: 1.1996 - val_accuracy: 0.2449 - val_auc: 0.5452\n",
      "Epoch 64/100\n",
      "157/157 [==============================] - 1s 4ms/step - loss: 0.1785 - accuracy: 0.7655 - auc: 0.9726 - val_loss: 1.2493 - val_accuracy: 0.2423 - val_auc: 0.5493\n",
      "Epoch 65/100\n",
      "157/157 [==============================] - 1s 4ms/step - loss: 0.1575 - accuracy: 0.7866 - auc: 0.9777 - val_loss: 1.1426 - val_accuracy: 0.2806 - val_auc: 0.5720\n",
      "Epoch 66/100\n",
      "157/157 [==============================] - 1s 4ms/step - loss: 0.1854 - accuracy: 0.7623 - auc: 0.9705 - val_loss: 1.0835 - val_accuracy: 0.2730 - val_auc: 0.5593\n",
      "Epoch 67/100\n",
      "157/157 [==============================] - 1s 4ms/step - loss: 0.1562 - accuracy: 0.7879 - auc: 0.9794 - val_loss: 1.3499 - val_accuracy: 0.2679 - val_auc: 0.5704\n",
      "Epoch 68/100\n",
      "157/157 [==============================] - 1s 4ms/step - loss: 0.1557 - accuracy: 0.7923 - auc: 0.9792 - val_loss: 1.1845 - val_accuracy: 0.2474 - val_auc: 0.5428\n",
      "Epoch 69/100\n",
      "157/157 [==============================] - 1s 4ms/step - loss: 0.1438 - accuracy: 0.7962 - auc: 0.9817 - val_loss: 1.4860 - val_accuracy: 0.2653 - val_auc: 0.5438\n",
      "Epoch 70/100\n",
      "157/157 [==============================] - 1s 4ms/step - loss: 0.1458 - accuracy: 0.8064 - auc: 0.9802 - val_loss: 1.3212 - val_accuracy: 0.2704 - val_auc: 0.5677\n",
      "Epoch 71/100\n",
      "157/157 [==============================] - 1s 4ms/step - loss: 0.1649 - accuracy: 0.7815 - auc: 0.9765 - val_loss: 1.3026 - val_accuracy: 0.2781 - val_auc: 0.5743\n",
      "Epoch 72/100\n",
      "157/157 [==============================] - 1s 4ms/step - loss: 0.1474 - accuracy: 0.7955 - auc: 0.9814 - val_loss: 1.3879 - val_accuracy: 0.2577 - val_auc: 0.5400\n",
      "Epoch 73/100\n",
      "157/157 [==============================] - 1s 4ms/step - loss: 0.1540 - accuracy: 0.7789 - auc: 0.9795 - val_loss: 1.1764 - val_accuracy: 0.2474 - val_auc: 0.5496\n",
      "Epoch 74/100\n",
      "157/157 [==============================] - 1s 4ms/step - loss: 0.1269 - accuracy: 0.8083 - auc: 0.9850 - val_loss: 1.2467 - val_accuracy: 0.2372 - val_auc: 0.5343\n",
      "Epoch 75/100\n",
      "157/157 [==============================] - 1s 4ms/step - loss: 0.1123 - accuracy: 0.8192 - auc: 0.9886 - val_loss: 1.4652 - val_accuracy: 0.2474 - val_auc: 0.5401\n",
      "Epoch 76/100\n",
      "157/157 [==============================] - 1s 4ms/step - loss: 0.1099 - accuracy: 0.8243 - auc: 0.9892 - val_loss: 1.5059 - val_accuracy: 0.2704 - val_auc: 0.5586\n",
      "Epoch 77/100\n",
      "157/157 [==============================] - 1s 4ms/step - loss: 0.1492 - accuracy: 0.7770 - auc: 0.9809 - val_loss: 1.4130 - val_accuracy: 0.2857 - val_auc: 0.5483\n",
      "Epoch 78/100\n",
      "157/157 [==============================] - 1s 4ms/step - loss: 0.1398 - accuracy: 0.8000 - auc: 0.9824 - val_loss: 1.3431 - val_accuracy: 0.2628 - val_auc: 0.5380\n",
      "Epoch 79/100\n",
      "157/157 [==============================] - 1s 4ms/step - loss: 0.1028 - accuracy: 0.8160 - auc: 0.9906 - val_loss: 1.3962 - val_accuracy: 0.2781 - val_auc: 0.5625\n",
      "Epoch 80/100\n",
      "157/157 [==============================] - 1s 4ms/step - loss: 0.0912 - accuracy: 0.8326 - auc: 0.9927 - val_loss: 1.6653 - val_accuracy: 0.2347 - val_auc: 0.5405\n",
      "Epoch 81/100\n",
      "157/157 [==============================] - 1s 4ms/step - loss: 0.1821 - accuracy: 0.7744 - auc: 0.9707 - val_loss: 0.9806 - val_accuracy: 0.2423 - val_auc: 0.5460\n",
      "Epoch 82/100\n",
      "157/157 [==============================] - 1s 4ms/step - loss: 0.1388 - accuracy: 0.8006 - auc: 0.9838 - val_loss: 1.3805 - val_accuracy: 0.2704 - val_auc: 0.5498\n",
      "Epoch 83/100\n",
      "157/157 [==============================] - 1s 4ms/step - loss: 0.1144 - accuracy: 0.8217 - auc: 0.9879 - val_loss: 1.3069 - val_accuracy: 0.2526 - val_auc: 0.5670\n",
      "Epoch 84/100\n",
      "157/157 [==============================] - 1s 4ms/step - loss: 0.0997 - accuracy: 0.8268 - auc: 0.9907 - val_loss: 1.5728 - val_accuracy: 0.2500 - val_auc: 0.5387\n",
      "Epoch 85/100\n",
      "157/157 [==============================] - 1s 4ms/step - loss: 0.0894 - accuracy: 0.8262 - auc: 0.9925 - val_loss: 1.4651 - val_accuracy: 0.2653 - val_auc: 0.5544\n",
      "Epoch 86/100\n",
      "157/157 [==============================] - 1s 4ms/step - loss: 0.1364 - accuracy: 0.7987 - auc: 0.9837 - val_loss: 1.2792 - val_accuracy: 0.2577 - val_auc: 0.5525\n",
      "Epoch 87/100\n",
      "157/157 [==============================] - 1s 4ms/step - loss: 0.1184 - accuracy: 0.8268 - auc: 0.9877 - val_loss: 1.5267 - val_accuracy: 0.2551 - val_auc: 0.5347\n",
      "Epoch 88/100\n",
      "157/157 [==============================] - 1s 4ms/step - loss: 0.1030 - accuracy: 0.8307 - auc: 0.9896 - val_loss: 1.4571 - val_accuracy: 0.2526 - val_auc: 0.5251\n",
      "Epoch 89/100\n",
      " 93/157 [================>.............] - ETA: 0s - loss: 0.0730 - accuracy: 0.8484 - auc: 0.9945\b\b\b\b\b\b\b\b\b\b\b\b\b\b\b\b\b\b\b\b\b\b\b\b\b\b\b\b\b\b\b\b\b\b\b\b\b\b\b\b\b\b\b\b\b\b\b\b\b\b\b\b\b\b\b\b\b\b\b\b\b\b\b\b\b\b\b\b\b\b\b\b\b\b\b\b\b\b\b\b\b\b\b\b\b\b\b\b\b\b\b\b\b\b\b\b\b\bBuffered data was truncated after reaching the output size limit."
     ]
    }
   ],
   "source": [
    "tuner.search(X_train_scaled[folds[0][1]],y_train_ohe[folds[0][1]], validation_split=0.2, verbose=1,)"
   ]
  },
  {
   "cell_type": "code",
   "execution_count": null,
   "metadata": {
    "colab": {
     "base_uri": "https://localhost:8080/",
     "height": 1000
    },
    "id": "QEHRh-K85Taj",
    "outputId": "04b448c4-9729-48a0-f715-93a04dae2c8b"
   },
   "outputs": [
    {
     "data": {
      "text/html": [
       "<span style=\"color:#4527A0\"><h1 style=\"font-size:18px\">Results summary</h1></span>"
      ],
      "text/plain": [
       "<IPython.core.display.HTML object>"
      ]
     },
     "metadata": {
      "tags": []
     },
     "output_type": "display_data"
    },
    {
     "data": {
      "text/html": [
       "<span style=\"color:cyan\"> |-Results in drive/My Drive/logs/fysstk_oblig/ECGopt11</span>"
      ],
      "text/plain": [
       "<IPython.core.display.HTML object>"
      ]
     },
     "metadata": {
      "tags": []
     },
     "output_type": "display_data"
    },
    {
     "data": {
      "text/html": [
       "<span style=\"color:cyan\"> |-Showing 10 best trials</span>"
      ],
      "text/plain": [
       "<IPython.core.display.HTML object>"
      ]
     },
     "metadata": {
      "tags": []
     },
     "output_type": "display_data"
    },
    {
     "data": {
      "text/html": [
       "<span style=\"color:cyan\"> |-Objective(name='val_accuracy', direction='max')</span>"
      ],
      "text/plain": [
       "<IPython.core.display.HTML object>"
      ]
     },
     "metadata": {
      "tags": []
     },
     "output_type": "display_data"
    },
    {
     "data": {
      "text/html": [
       "<span style=\"color:#4527A0\"><h1 style=\"font-size:18px\">Trial summary</h1></span>"
      ],
      "text/plain": [
       "<IPython.core.display.HTML object>"
      ]
     },
     "metadata": {
      "tags": []
     },
     "output_type": "display_data"
    },
    {
     "data": {
      "text/html": [
       "<span style=\"color:cyan\"> |-Trial ID: 55fea409858df97a08924e742f255e8f</span>"
      ],
      "text/plain": [
       "<IPython.core.display.HTML object>"
      ]
     },
     "metadata": {
      "tags": []
     },
     "output_type": "display_data"
    },
    {
     "data": {
      "text/html": [
       "<span style=\"color:cyan\"> |-Score: 0.35629252592722577</span>"
      ],
      "text/plain": [
       "<IPython.core.display.HTML object>"
      ]
     },
     "metadata": {
      "tags": []
     },
     "output_type": "display_data"
    },
    {
     "data": {
      "text/html": [
       "<span style=\"color:cyan\"> |-Best step: 0</span>"
      ],
      "text/plain": [
       "<IPython.core.display.HTML object>"
      ]
     },
     "metadata": {
      "tags": []
     },
     "output_type": "display_data"
    },
    {
     "data": {
      "text/html": [
       "<span style=\"color:#7E57C2\"><h2 style=\"font-size:16px\">Hyperparameters:</h2></span>"
      ],
      "text/plain": [
       "<IPython.core.display.HTML object>"
      ]
     },
     "metadata": {
      "tags": []
     },
     "output_type": "display_data"
    },
    {
     "data": {
      "text/html": [
       "<span style=\"color:cyan\"> |-act_0: selu</span>"
      ],
      "text/plain": [
       "<IPython.core.display.HTML object>"
      ]
     },
     "metadata": {
      "tags": []
     },
     "output_type": "display_data"
    },
    {
     "data": {
      "text/html": [
       "<span style=\"color:blue\"> |-act_1: selu</span>"
      ],
      "text/plain": [
       "<IPython.core.display.HTML object>"
      ]
     },
     "metadata": {
      "tags": []
     },
     "output_type": "display_data"
    },
    {
     "data": {
      "text/html": [
       "<span style=\"color:cyan\"> |-act_10: selu</span>"
      ],
      "text/plain": [
       "<IPython.core.display.HTML object>"
      ]
     },
     "metadata": {
      "tags": []
     },
     "output_type": "display_data"
    },
    {
     "data": {
      "text/html": [
       "<span style=\"color:blue\"> |-act_2: relu</span>"
      ],
      "text/plain": [
       "<IPython.core.display.HTML object>"
      ]
     },
     "metadata": {
      "tags": []
     },
     "output_type": "display_data"
    },
    {
     "data": {
      "text/html": [
       "<span style=\"color:cyan\"> |-act_3: selu</span>"
      ],
      "text/plain": [
       "<IPython.core.display.HTML object>"
      ]
     },
     "metadata": {
      "tags": []
     },
     "output_type": "display_data"
    },
    {
     "data": {
      "text/html": [
       "<span style=\"color:blue\"> |-act_4: selu</span>"
      ],
      "text/plain": [
       "<IPython.core.display.HTML object>"
      ]
     },
     "metadata": {
      "tags": []
     },
     "output_type": "display_data"
    },
    {
     "data": {
      "text/html": [
       "<span style=\"color:cyan\"> |-act_5: relu</span>"
      ],
      "text/plain": [
       "<IPython.core.display.HTML object>"
      ]
     },
     "metadata": {
      "tags": []
     },
     "output_type": "display_data"
    },
    {
     "data": {
      "text/html": [
       "<span style=\"color:blue\"> |-act_6: selu</span>"
      ],
      "text/plain": [
       "<IPython.core.display.HTML object>"
      ]
     },
     "metadata": {
      "tags": []
     },
     "output_type": "display_data"
    },
    {
     "data": {
      "text/html": [
       "<span style=\"color:cyan\"> |-act_7: selu</span>"
      ],
      "text/plain": [
       "<IPython.core.display.HTML object>"
      ]
     },
     "metadata": {
      "tags": []
     },
     "output_type": "display_data"
    },
    {
     "data": {
      "text/html": [
       "<span style=\"color:blue\"> |-act_8: relu</span>"
      ],
      "text/plain": [
       "<IPython.core.display.HTML object>"
      ]
     },
     "metadata": {
      "tags": []
     },
     "output_type": "display_data"
    },
    {
     "data": {
      "text/html": [
       "<span style=\"color:cyan\"> |-act_9: relu</span>"
      ],
      "text/plain": [
       "<IPython.core.display.HTML object>"
      ]
     },
     "metadata": {
      "tags": []
     },
     "output_type": "display_data"
    },
    {
     "data": {
      "text/html": [
       "<span style=\"color:blue\"> |-batch_size: 100</span>"
      ],
      "text/plain": [
       "<IPython.core.display.HTML object>"
      ]
     },
     "metadata": {
      "tags": []
     },
     "output_type": "display_data"
    },
    {
     "data": {
      "text/html": [
       "<span style=\"color:cyan\"> |-epochs: 100</span>"
      ],
      "text/plain": [
       "<IPython.core.display.HTML object>"
      ]
     },
     "metadata": {
      "tags": []
     },
     "output_type": "display_data"
    },
    {
     "data": {
      "text/html": [
       "<span style=\"color:blue\"> |-learning_rate: 0.1</span>"
      ],
      "text/plain": [
       "<IPython.core.display.HTML object>"
      ]
     },
     "metadata": {
      "tags": []
     },
     "output_type": "display_data"
    },
    {
     "data": {
      "text/html": [
       "<span style=\"color:cyan\"> |-number_of_layers: 1</span>"
      ],
      "text/plain": [
       "<IPython.core.display.HTML object>"
      ]
     },
     "metadata": {
      "tags": []
     },
     "output_type": "display_data"
    },
    {
     "data": {
      "text/html": [
       "<span style=\"color:blue\"> |-unit_0: 50</span>"
      ],
      "text/plain": [
       "<IPython.core.display.HTML object>"
      ]
     },
     "metadata": {
      "tags": []
     },
     "output_type": "display_data"
    },
    {
     "data": {
      "text/html": [
       "<span style=\"color:cyan\"> |-unit_1: 500</span>"
      ],
      "text/plain": [
       "<IPython.core.display.HTML object>"
      ]
     },
     "metadata": {
      "tags": []
     },
     "output_type": "display_data"
    },
    {
     "data": {
      "text/html": [
       "<span style=\"color:blue\"> |-unit_10: 50</span>"
      ],
      "text/plain": [
       "<IPython.core.display.HTML object>"
      ]
     },
     "metadata": {
      "tags": []
     },
     "output_type": "display_data"
    },
    {
     "data": {
      "text/html": [
       "<span style=\"color:cyan\"> |-unit_2: 500</span>"
      ],
      "text/plain": [
       "<IPython.core.display.HTML object>"
      ]
     },
     "metadata": {
      "tags": []
     },
     "output_type": "display_data"
    },
    {
     "data": {
      "text/html": [
       "<span style=\"color:blue\"> |-unit_3: 500</span>"
      ],
      "text/plain": [
       "<IPython.core.display.HTML object>"
      ]
     },
     "metadata": {
      "tags": []
     },
     "output_type": "display_data"
    },
    {
     "data": {
      "text/html": [
       "<span style=\"color:cyan\"> |-unit_4: 500</span>"
      ],
      "text/plain": [
       "<IPython.core.display.HTML object>"
      ]
     },
     "metadata": {
      "tags": []
     },
     "output_type": "display_data"
    },
    {
     "data": {
      "text/html": [
       "<span style=\"color:blue\"> |-unit_5: 500</span>"
      ],
      "text/plain": [
       "<IPython.core.display.HTML object>"
      ]
     },
     "metadata": {
      "tags": []
     },
     "output_type": "display_data"
    },
    {
     "data": {
      "text/html": [
       "<span style=\"color:cyan\"> |-unit_6: 50</span>"
      ],
      "text/plain": [
       "<IPython.core.display.HTML object>"
      ]
     },
     "metadata": {
      "tags": []
     },
     "output_type": "display_data"
    },
    {
     "data": {
      "text/html": [
       "<span style=\"color:blue\"> |-unit_7: 50</span>"
      ],
      "text/plain": [
       "<IPython.core.display.HTML object>"
      ]
     },
     "metadata": {
      "tags": []
     },
     "output_type": "display_data"
    },
    {
     "data": {
      "text/html": [
       "<span style=\"color:cyan\"> |-unit_8: 500</span>"
      ],
      "text/plain": [
       "<IPython.core.display.HTML object>"
      ]
     },
     "metadata": {
      "tags": []
     },
     "output_type": "display_data"
    },
    {
     "data": {
      "text/html": [
       "<span style=\"color:blue\"> |-unit_9: 500</span>"
      ],
      "text/plain": [
       "<IPython.core.display.HTML object>"
      ]
     },
     "metadata": {
      "tags": []
     },
     "output_type": "display_data"
    },
    {
     "data": {
      "text/html": [
       "<span style=\"color:#4527A0\"><h1 style=\"font-size:18px\">Trial summary</h1></span>"
      ],
      "text/plain": [
       "<IPython.core.display.HTML object>"
      ]
     },
     "metadata": {
      "tags": []
     },
     "output_type": "display_data"
    },
    {
     "data": {
      "text/html": [
       "<span style=\"color:cyan\"> |-Trial ID: 3068c533d598b62396ad9320d6a65edd</span>"
      ],
      "text/plain": [
       "<IPython.core.display.HTML object>"
      ]
     },
     "metadata": {
      "tags": []
     },
     "output_type": "display_data"
    },
    {
     "data": {
      "text/html": [
       "<span style=\"color:cyan\"> |-Score: 0.35459183653195697</span>"
      ],
      "text/plain": [
       "<IPython.core.display.HTML object>"
      ]
     },
     "metadata": {
      "tags": []
     },
     "output_type": "display_data"
    },
    {
     "data": {
      "text/html": [
       "<span style=\"color:cyan\"> |-Best step: 0</span>"
      ],
      "text/plain": [
       "<IPython.core.display.HTML object>"
      ]
     },
     "metadata": {
      "tags": []
     },
     "output_type": "display_data"
    },
    {
     "data": {
      "text/html": [
       "<span style=\"color:#7E57C2\"><h2 style=\"font-size:16px\">Hyperparameters:</h2></span>"
      ],
      "text/plain": [
       "<IPython.core.display.HTML object>"
      ]
     },
     "metadata": {
      "tags": []
     },
     "output_type": "display_data"
    },
    {
     "data": {
      "text/html": [
       "<span style=\"color:cyan\"> |-act_0: relu</span>"
      ],
      "text/plain": [
       "<IPython.core.display.HTML object>"
      ]
     },
     "metadata": {
      "tags": []
     },
     "output_type": "display_data"
    },
    {
     "data": {
      "text/html": [
       "<span style=\"color:blue\"> |-act_1: relu</span>"
      ],
      "text/plain": [
       "<IPython.core.display.HTML object>"
      ]
     },
     "metadata": {
      "tags": []
     },
     "output_type": "display_data"
    },
    {
     "data": {
      "text/html": [
       "<span style=\"color:cyan\"> |-act_10: selu</span>"
      ],
      "text/plain": [
       "<IPython.core.display.HTML object>"
      ]
     },
     "metadata": {
      "tags": []
     },
     "output_type": "display_data"
    },
    {
     "data": {
      "text/html": [
       "<span style=\"color:blue\"> |-act_2: relu</span>"
      ],
      "text/plain": [
       "<IPython.core.display.HTML object>"
      ]
     },
     "metadata": {
      "tags": []
     },
     "output_type": "display_data"
    },
    {
     "data": {
      "text/html": [
       "<span style=\"color:cyan\"> |-act_3: selu</span>"
      ],
      "text/plain": [
       "<IPython.core.display.HTML object>"
      ]
     },
     "metadata": {
      "tags": []
     },
     "output_type": "display_data"
    },
    {
     "data": {
      "text/html": [
       "<span style=\"color:blue\"> |-act_4: selu</span>"
      ],
      "text/plain": [
       "<IPython.core.display.HTML object>"
      ]
     },
     "metadata": {
      "tags": []
     },
     "output_type": "display_data"
    },
    {
     "data": {
      "text/html": [
       "<span style=\"color:cyan\"> |-act_5: relu</span>"
      ],
      "text/plain": [
       "<IPython.core.display.HTML object>"
      ]
     },
     "metadata": {
      "tags": []
     },
     "output_type": "display_data"
    },
    {
     "data": {
      "text/html": [
       "<span style=\"color:blue\"> |-act_6: relu</span>"
      ],
      "text/plain": [
       "<IPython.core.display.HTML object>"
      ]
     },
     "metadata": {
      "tags": []
     },
     "output_type": "display_data"
    },
    {
     "data": {
      "text/html": [
       "<span style=\"color:cyan\"> |-act_7: relu</span>"
      ],
      "text/plain": [
       "<IPython.core.display.HTML object>"
      ]
     },
     "metadata": {
      "tags": []
     },
     "output_type": "display_data"
    },
    {
     "data": {
      "text/html": [
       "<span style=\"color:blue\"> |-act_8: relu</span>"
      ],
      "text/plain": [
       "<IPython.core.display.HTML object>"
      ]
     },
     "metadata": {
      "tags": []
     },
     "output_type": "display_data"
    },
    {
     "data": {
      "text/html": [
       "<span style=\"color:cyan\"> |-act_9: selu</span>"
      ],
      "text/plain": [
       "<IPython.core.display.HTML object>"
      ]
     },
     "metadata": {
      "tags": []
     },
     "output_type": "display_data"
    },
    {
     "data": {
      "text/html": [
       "<span style=\"color:blue\"> |-batch_size: 10</span>"
      ],
      "text/plain": [
       "<IPython.core.display.HTML object>"
      ]
     },
     "metadata": {
      "tags": []
     },
     "output_type": "display_data"
    },
    {
     "data": {
      "text/html": [
       "<span style=\"color:cyan\"> |-epochs: 10</span>"
      ],
      "text/plain": [
       "<IPython.core.display.HTML object>"
      ]
     },
     "metadata": {
      "tags": []
     },
     "output_type": "display_data"
    },
    {
     "data": {
      "text/html": [
       "<span style=\"color:blue\"> |-learning_rate: 0.1</span>"
      ],
      "text/plain": [
       "<IPython.core.display.HTML object>"
      ]
     },
     "metadata": {
      "tags": []
     },
     "output_type": "display_data"
    },
    {
     "data": {
      "text/html": [
       "<span style=\"color:cyan\"> |-number_of_layers: 1</span>"
      ],
      "text/plain": [
       "<IPython.core.display.HTML object>"
      ]
     },
     "metadata": {
      "tags": []
     },
     "output_type": "display_data"
    },
    {
     "data": {
      "text/html": [
       "<span style=\"color:blue\"> |-unit_0: 50</span>"
      ],
      "text/plain": [
       "<IPython.core.display.HTML object>"
      ]
     },
     "metadata": {
      "tags": []
     },
     "output_type": "display_data"
    },
    {
     "data": {
      "text/html": [
       "<span style=\"color:cyan\"> |-unit_1: 500</span>"
      ],
      "text/plain": [
       "<IPython.core.display.HTML object>"
      ]
     },
     "metadata": {
      "tags": []
     },
     "output_type": "display_data"
    },
    {
     "data": {
      "text/html": [
       "<span style=\"color:blue\"> |-unit_10: 50</span>"
      ],
      "text/plain": [
       "<IPython.core.display.HTML object>"
      ]
     },
     "metadata": {
      "tags": []
     },
     "output_type": "display_data"
    },
    {
     "data": {
      "text/html": [
       "<span style=\"color:cyan\"> |-unit_2: 500</span>"
      ],
      "text/plain": [
       "<IPython.core.display.HTML object>"
      ]
     },
     "metadata": {
      "tags": []
     },
     "output_type": "display_data"
    },
    {
     "data": {
      "text/html": [
       "<span style=\"color:blue\"> |-unit_3: 500</span>"
      ],
      "text/plain": [
       "<IPython.core.display.HTML object>"
      ]
     },
     "metadata": {
      "tags": []
     },
     "output_type": "display_data"
    },
    {
     "data": {
      "text/html": [
       "<span style=\"color:cyan\"> |-unit_4: 500</span>"
      ],
      "text/plain": [
       "<IPython.core.display.HTML object>"
      ]
     },
     "metadata": {
      "tags": []
     },
     "output_type": "display_data"
    },
    {
     "data": {
      "text/html": [
       "<span style=\"color:blue\"> |-unit_5: 50</span>"
      ],
      "text/plain": [
       "<IPython.core.display.HTML object>"
      ]
     },
     "metadata": {
      "tags": []
     },
     "output_type": "display_data"
    },
    {
     "data": {
      "text/html": [
       "<span style=\"color:cyan\"> |-unit_6: 500</span>"
      ],
      "text/plain": [
       "<IPython.core.display.HTML object>"
      ]
     },
     "metadata": {
      "tags": []
     },
     "output_type": "display_data"
    },
    {
     "data": {
      "text/html": [
       "<span style=\"color:blue\"> |-unit_7: 50</span>"
      ],
      "text/plain": [
       "<IPython.core.display.HTML object>"
      ]
     },
     "metadata": {
      "tags": []
     },
     "output_type": "display_data"
    },
    {
     "data": {
      "text/html": [
       "<span style=\"color:cyan\"> |-unit_8: 50</span>"
      ],
      "text/plain": [
       "<IPython.core.display.HTML object>"
      ]
     },
     "metadata": {
      "tags": []
     },
     "output_type": "display_data"
    },
    {
     "data": {
      "text/html": [
       "<span style=\"color:blue\"> |-unit_9: 50</span>"
      ],
      "text/plain": [
       "<IPython.core.display.HTML object>"
      ]
     },
     "metadata": {
      "tags": []
     },
     "output_type": "display_data"
    },
    {
     "data": {
      "text/html": [
       "<span style=\"color:#4527A0\"><h1 style=\"font-size:18px\">Trial summary</h1></span>"
      ],
      "text/plain": [
       "<IPython.core.display.HTML object>"
      ]
     },
     "metadata": {
      "tags": []
     },
     "output_type": "display_data"
    },
    {
     "data": {
      "text/html": [
       "<span style=\"color:cyan\"> |-Trial ID: d29a2420f8817dc079fcfb7cb4029793</span>"
      ],
      "text/plain": [
       "<IPython.core.display.HTML object>"
      ]
     },
     "metadata": {
      "tags": []
     },
     "output_type": "display_data"
    },
    {
     "data": {
      "text/html": [
       "<span style=\"color:cyan\"> |-Score: 0.3520408272743225</span>"
      ],
      "text/plain": [
       "<IPython.core.display.HTML object>"
      ]
     },
     "metadata": {
      "tags": []
     },
     "output_type": "display_data"
    },
    {
     "data": {
      "text/html": [
       "<span style=\"color:cyan\"> |-Best step: 0</span>"
      ],
      "text/plain": [
       "<IPython.core.display.HTML object>"
      ]
     },
     "metadata": {
      "tags": []
     },
     "output_type": "display_data"
    },
    {
     "data": {
      "text/html": [
       "<span style=\"color:#7E57C2\"><h2 style=\"font-size:16px\">Hyperparameters:</h2></span>"
      ],
      "text/plain": [
       "<IPython.core.display.HTML object>"
      ]
     },
     "metadata": {
      "tags": []
     },
     "output_type": "display_data"
    },
    {
     "data": {
      "text/html": [
       "<span style=\"color:cyan\"> |-act_0: relu</span>"
      ],
      "text/plain": [
       "<IPython.core.display.HTML object>"
      ]
     },
     "metadata": {
      "tags": []
     },
     "output_type": "display_data"
    },
    {
     "data": {
      "text/html": [
       "<span style=\"color:blue\"> |-act_1: relu</span>"
      ],
      "text/plain": [
       "<IPython.core.display.HTML object>"
      ]
     },
     "metadata": {
      "tags": []
     },
     "output_type": "display_data"
    },
    {
     "data": {
      "text/html": [
       "<span style=\"color:cyan\"> |-act_10: elu</span>"
      ],
      "text/plain": [
       "<IPython.core.display.HTML object>"
      ]
     },
     "metadata": {
      "tags": []
     },
     "output_type": "display_data"
    },
    {
     "data": {
      "text/html": [
       "<span style=\"color:blue\"> |-act_2: relu</span>"
      ],
      "text/plain": [
       "<IPython.core.display.HTML object>"
      ]
     },
     "metadata": {
      "tags": []
     },
     "output_type": "display_data"
    },
    {
     "data": {
      "text/html": [
       "<span style=\"color:cyan\"> |-act_3: selu</span>"
      ],
      "text/plain": [
       "<IPython.core.display.HTML object>"
      ]
     },
     "metadata": {
      "tags": []
     },
     "output_type": "display_data"
    },
    {
     "data": {
      "text/html": [
       "<span style=\"color:blue\"> |-act_4: selu</span>"
      ],
      "text/plain": [
       "<IPython.core.display.HTML object>"
      ]
     },
     "metadata": {
      "tags": []
     },
     "output_type": "display_data"
    },
    {
     "data": {
      "text/html": [
       "<span style=\"color:cyan\"> |-act_5: elu</span>"
      ],
      "text/plain": [
       "<IPython.core.display.HTML object>"
      ]
     },
     "metadata": {
      "tags": []
     },
     "output_type": "display_data"
    },
    {
     "data": {
      "text/html": [
       "<span style=\"color:blue\"> |-act_6: selu</span>"
      ],
      "text/plain": [
       "<IPython.core.display.HTML object>"
      ]
     },
     "metadata": {
      "tags": []
     },
     "output_type": "display_data"
    },
    {
     "data": {
      "text/html": [
       "<span style=\"color:cyan\"> |-act_7: relu</span>"
      ],
      "text/plain": [
       "<IPython.core.display.HTML object>"
      ]
     },
     "metadata": {
      "tags": []
     },
     "output_type": "display_data"
    },
    {
     "data": {
      "text/html": [
       "<span style=\"color:blue\"> |-act_8: relu</span>"
      ],
      "text/plain": [
       "<IPython.core.display.HTML object>"
      ]
     },
     "metadata": {
      "tags": []
     },
     "output_type": "display_data"
    },
    {
     "data": {
      "text/html": [
       "<span style=\"color:cyan\"> |-act_9: selu</span>"
      ],
      "text/plain": [
       "<IPython.core.display.HTML object>"
      ]
     },
     "metadata": {
      "tags": []
     },
     "output_type": "display_data"
    },
    {
     "data": {
      "text/html": [
       "<span style=\"color:blue\"> |-batch_size: 10</span>"
      ],
      "text/plain": [
       "<IPython.core.display.HTML object>"
      ]
     },
     "metadata": {
      "tags": []
     },
     "output_type": "display_data"
    },
    {
     "data": {
      "text/html": [
       "<span style=\"color:cyan\"> |-epochs: 10</span>"
      ],
      "text/plain": [
       "<IPython.core.display.HTML object>"
      ]
     },
     "metadata": {
      "tags": []
     },
     "output_type": "display_data"
    },
    {
     "data": {
      "text/html": [
       "<span style=\"color:blue\"> |-learning_rate: 0.1</span>"
      ],
      "text/plain": [
       "<IPython.core.display.HTML object>"
      ]
     },
     "metadata": {
      "tags": []
     },
     "output_type": "display_data"
    },
    {
     "data": {
      "text/html": [
       "<span style=\"color:cyan\"> |-number_of_layers: 3</span>"
      ],
      "text/plain": [
       "<IPython.core.display.HTML object>"
      ]
     },
     "metadata": {
      "tags": []
     },
     "output_type": "display_data"
    },
    {
     "data": {
      "text/html": [
       "<span style=\"color:blue\"> |-unit_0: 50</span>"
      ],
      "text/plain": [
       "<IPython.core.display.HTML object>"
      ]
     },
     "metadata": {
      "tags": []
     },
     "output_type": "display_data"
    },
    {
     "data": {
      "text/html": [
       "<span style=\"color:cyan\"> |-unit_1: 500</span>"
      ],
      "text/plain": [
       "<IPython.core.display.HTML object>"
      ]
     },
     "metadata": {
      "tags": []
     },
     "output_type": "display_data"
    },
    {
     "data": {
      "text/html": [
       "<span style=\"color:blue\"> |-unit_10: 500</span>"
      ],
      "text/plain": [
       "<IPython.core.display.HTML object>"
      ]
     },
     "metadata": {
      "tags": []
     },
     "output_type": "display_data"
    },
    {
     "data": {
      "text/html": [
       "<span style=\"color:cyan\"> |-unit_2: 50</span>"
      ],
      "text/plain": [
       "<IPython.core.display.HTML object>"
      ]
     },
     "metadata": {
      "tags": []
     },
     "output_type": "display_data"
    },
    {
     "data": {
      "text/html": [
       "<span style=\"color:blue\"> |-unit_3: 500</span>"
      ],
      "text/plain": [
       "<IPython.core.display.HTML object>"
      ]
     },
     "metadata": {
      "tags": []
     },
     "output_type": "display_data"
    },
    {
     "data": {
      "text/html": [
       "<span style=\"color:cyan\"> |-unit_4: 150</span>"
      ],
      "text/plain": [
       "<IPython.core.display.HTML object>"
      ]
     },
     "metadata": {
      "tags": []
     },
     "output_type": "display_data"
    },
    {
     "data": {
      "text/html": [
       "<span style=\"color:blue\"> |-unit_5: 50</span>"
      ],
      "text/plain": [
       "<IPython.core.display.HTML object>"
      ]
     },
     "metadata": {
      "tags": []
     },
     "output_type": "display_data"
    },
    {
     "data": {
      "text/html": [
       "<span style=\"color:cyan\"> |-unit_6: 50</span>"
      ],
      "text/plain": [
       "<IPython.core.display.HTML object>"
      ]
     },
     "metadata": {
      "tags": []
     },
     "output_type": "display_data"
    },
    {
     "data": {
      "text/html": [
       "<span style=\"color:blue\"> |-unit_7: 150</span>"
      ],
      "text/plain": [
       "<IPython.core.display.HTML object>"
      ]
     },
     "metadata": {
      "tags": []
     },
     "output_type": "display_data"
    },
    {
     "data": {
      "text/html": [
       "<span style=\"color:cyan\"> |-unit_8: 500</span>"
      ],
      "text/plain": [
       "<IPython.core.display.HTML object>"
      ]
     },
     "metadata": {
      "tags": []
     },
     "output_type": "display_data"
    },
    {
     "data": {
      "text/html": [
       "<span style=\"color:blue\"> |-unit_9: 50</span>"
      ],
      "text/plain": [
       "<IPython.core.display.HTML object>"
      ]
     },
     "metadata": {
      "tags": []
     },
     "output_type": "display_data"
    },
    {
     "data": {
      "text/html": [
       "<span style=\"color:#4527A0\"><h1 style=\"font-size:18px\">Trial summary</h1></span>"
      ],
      "text/plain": [
       "<IPython.core.display.HTML object>"
      ]
     },
     "metadata": {
      "tags": []
     },
     "output_type": "display_data"
    },
    {
     "data": {
      "text/html": [
       "<span style=\"color:cyan\"> |-Trial ID: b88ba7c58e1be4e3731325a70ae63f5e</span>"
      ],
      "text/plain": [
       "<IPython.core.display.HTML object>"
      ]
     },
     "metadata": {
      "tags": []
     },
     "output_type": "display_data"
    },
    {
     "data": {
      "text/html": [
       "<span style=\"color:cyan\"> |-Score: 0.3511904875437419</span>"
      ],
      "text/plain": [
       "<IPython.core.display.HTML object>"
      ]
     },
     "metadata": {
      "tags": []
     },
     "output_type": "display_data"
    },
    {
     "data": {
      "text/html": [
       "<span style=\"color:cyan\"> |-Best step: 0</span>"
      ],
      "text/plain": [
       "<IPython.core.display.HTML object>"
      ]
     },
     "metadata": {
      "tags": []
     },
     "output_type": "display_data"
    },
    {
     "data": {
      "text/html": [
       "<span style=\"color:#7E57C2\"><h2 style=\"font-size:16px\">Hyperparameters:</h2></span>"
      ],
      "text/plain": [
       "<IPython.core.display.HTML object>"
      ]
     },
     "metadata": {
      "tags": []
     },
     "output_type": "display_data"
    },
    {
     "data": {
      "text/html": [
       "<span style=\"color:cyan\"> |-act_0: selu</span>"
      ],
      "text/plain": [
       "<IPython.core.display.HTML object>"
      ]
     },
     "metadata": {
      "tags": []
     },
     "output_type": "display_data"
    },
    {
     "data": {
      "text/html": [
       "<span style=\"color:blue\"> |-act_1: selu</span>"
      ],
      "text/plain": [
       "<IPython.core.display.HTML object>"
      ]
     },
     "metadata": {
      "tags": []
     },
     "output_type": "display_data"
    },
    {
     "data": {
      "text/html": [
       "<span style=\"color:cyan\"> |-act_10: selu</span>"
      ],
      "text/plain": [
       "<IPython.core.display.HTML object>"
      ]
     },
     "metadata": {
      "tags": []
     },
     "output_type": "display_data"
    },
    {
     "data": {
      "text/html": [
       "<span style=\"color:blue\"> |-act_2: relu</span>"
      ],
      "text/plain": [
       "<IPython.core.display.HTML object>"
      ]
     },
     "metadata": {
      "tags": []
     },
     "output_type": "display_data"
    },
    {
     "data": {
      "text/html": [
       "<span style=\"color:cyan\"> |-act_3: relu</span>"
      ],
      "text/plain": [
       "<IPython.core.display.HTML object>"
      ]
     },
     "metadata": {
      "tags": []
     },
     "output_type": "display_data"
    },
    {
     "data": {
      "text/html": [
       "<span style=\"color:blue\"> |-act_4: selu</span>"
      ],
      "text/plain": [
       "<IPython.core.display.HTML object>"
      ]
     },
     "metadata": {
      "tags": []
     },
     "output_type": "display_data"
    },
    {
     "data": {
      "text/html": [
       "<span style=\"color:cyan\"> |-act_5: relu</span>"
      ],
      "text/plain": [
       "<IPython.core.display.HTML object>"
      ]
     },
     "metadata": {
      "tags": []
     },
     "output_type": "display_data"
    },
    {
     "data": {
      "text/html": [
       "<span style=\"color:blue\"> |-act_6: selu</span>"
      ],
      "text/plain": [
       "<IPython.core.display.HTML object>"
      ]
     },
     "metadata": {
      "tags": []
     },
     "output_type": "display_data"
    },
    {
     "data": {
      "text/html": [
       "<span style=\"color:cyan\"> |-act_7: selu</span>"
      ],
      "text/plain": [
       "<IPython.core.display.HTML object>"
      ]
     },
     "metadata": {
      "tags": []
     },
     "output_type": "display_data"
    },
    {
     "data": {
      "text/html": [
       "<span style=\"color:blue\"> |-act_8: relu</span>"
      ],
      "text/plain": [
       "<IPython.core.display.HTML object>"
      ]
     },
     "metadata": {
      "tags": []
     },
     "output_type": "display_data"
    },
    {
     "data": {
      "text/html": [
       "<span style=\"color:cyan\"> |-act_9: selu</span>"
      ],
      "text/plain": [
       "<IPython.core.display.HTML object>"
      ]
     },
     "metadata": {
      "tags": []
     },
     "output_type": "display_data"
    },
    {
     "data": {
      "text/html": [
       "<span style=\"color:blue\"> |-batch_size: 100</span>"
      ],
      "text/plain": [
       "<IPython.core.display.HTML object>"
      ]
     },
     "metadata": {
      "tags": []
     },
     "output_type": "display_data"
    },
    {
     "data": {
      "text/html": [
       "<span style=\"color:cyan\"> |-epochs: 100</span>"
      ],
      "text/plain": [
       "<IPython.core.display.HTML object>"
      ]
     },
     "metadata": {
      "tags": []
     },
     "output_type": "display_data"
    },
    {
     "data": {
      "text/html": [
       "<span style=\"color:blue\"> |-learning_rate: 0.1</span>"
      ],
      "text/plain": [
       "<IPython.core.display.HTML object>"
      ]
     },
     "metadata": {
      "tags": []
     },
     "output_type": "display_data"
    },
    {
     "data": {
      "text/html": [
       "<span style=\"color:cyan\"> |-number_of_layers: 1</span>"
      ],
      "text/plain": [
       "<IPython.core.display.HTML object>"
      ]
     },
     "metadata": {
      "tags": []
     },
     "output_type": "display_data"
    },
    {
     "data": {
      "text/html": [
       "<span style=\"color:blue\"> |-unit_0: 50</span>"
      ],
      "text/plain": [
       "<IPython.core.display.HTML object>"
      ]
     },
     "metadata": {
      "tags": []
     },
     "output_type": "display_data"
    },
    {
     "data": {
      "text/html": [
       "<span style=\"color:cyan\"> |-unit_1: 500</span>"
      ],
      "text/plain": [
       "<IPython.core.display.HTML object>"
      ]
     },
     "metadata": {
      "tags": []
     },
     "output_type": "display_data"
    },
    {
     "data": {
      "text/html": [
       "<span style=\"color:blue\"> |-unit_10: 50</span>"
      ],
      "text/plain": [
       "<IPython.core.display.HTML object>"
      ]
     },
     "metadata": {
      "tags": []
     },
     "output_type": "display_data"
    },
    {
     "data": {
      "text/html": [
       "<span style=\"color:cyan\"> |-unit_2: 50</span>"
      ],
      "text/plain": [
       "<IPython.core.display.HTML object>"
      ]
     },
     "metadata": {
      "tags": []
     },
     "output_type": "display_data"
    },
    {
     "data": {
      "text/html": [
       "<span style=\"color:blue\"> |-unit_3: 500</span>"
      ],
      "text/plain": [
       "<IPython.core.display.HTML object>"
      ]
     },
     "metadata": {
      "tags": []
     },
     "output_type": "display_data"
    },
    {
     "data": {
      "text/html": [
       "<span style=\"color:cyan\"> |-unit_4: 50</span>"
      ],
      "text/plain": [
       "<IPython.core.display.HTML object>"
      ]
     },
     "metadata": {
      "tags": []
     },
     "output_type": "display_data"
    },
    {
     "data": {
      "text/html": [
       "<span style=\"color:blue\"> |-unit_5: 500</span>"
      ],
      "text/plain": [
       "<IPython.core.display.HTML object>"
      ]
     },
     "metadata": {
      "tags": []
     },
     "output_type": "display_data"
    },
    {
     "data": {
      "text/html": [
       "<span style=\"color:cyan\"> |-unit_6: 500</span>"
      ],
      "text/plain": [
       "<IPython.core.display.HTML object>"
      ]
     },
     "metadata": {
      "tags": []
     },
     "output_type": "display_data"
    },
    {
     "data": {
      "text/html": [
       "<span style=\"color:blue\"> |-unit_7: 500</span>"
      ],
      "text/plain": [
       "<IPython.core.display.HTML object>"
      ]
     },
     "metadata": {
      "tags": []
     },
     "output_type": "display_data"
    },
    {
     "data": {
      "text/html": [
       "<span style=\"color:cyan\"> |-unit_8: 50</span>"
      ],
      "text/plain": [
       "<IPython.core.display.HTML object>"
      ]
     },
     "metadata": {
      "tags": []
     },
     "output_type": "display_data"
    },
    {
     "data": {
      "text/html": [
       "<span style=\"color:blue\"> |-unit_9: 500</span>"
      ],
      "text/plain": [
       "<IPython.core.display.HTML object>"
      ]
     },
     "metadata": {
      "tags": []
     },
     "output_type": "display_data"
    },
    {
     "data": {
      "text/html": [
       "<span style=\"color:#4527A0\"><h1 style=\"font-size:18px\">Trial summary</h1></span>"
      ],
      "text/plain": [
       "<IPython.core.display.HTML object>"
      ]
     },
     "metadata": {
      "tags": []
     },
     "output_type": "display_data"
    },
    {
     "data": {
      "text/html": [
       "<span style=\"color:cyan\"> |-Trial ID: 8f9434b3f5211a0e828256650047c769</span>"
      ],
      "text/plain": [
       "<IPython.core.display.HTML object>"
      ]
     },
     "metadata": {
      "tags": []
     },
     "output_type": "display_data"
    },
    {
     "data": {
      "text/html": [
       "<span style=\"color:cyan\"> |-Score: 0.3511904776096344</span>"
      ],
      "text/plain": [
       "<IPython.core.display.HTML object>"
      ]
     },
     "metadata": {
      "tags": []
     },
     "output_type": "display_data"
    },
    {
     "data": {
      "text/html": [
       "<span style=\"color:cyan\"> |-Best step: 0</span>"
      ],
      "text/plain": [
       "<IPython.core.display.HTML object>"
      ]
     },
     "metadata": {
      "tags": []
     },
     "output_type": "display_data"
    },
    {
     "data": {
      "text/html": [
       "<span style=\"color:#7E57C2\"><h2 style=\"font-size:16px\">Hyperparameters:</h2></span>"
      ],
      "text/plain": [
       "<IPython.core.display.HTML object>"
      ]
     },
     "metadata": {
      "tags": []
     },
     "output_type": "display_data"
    },
    {
     "data": {
      "text/html": [
       "<span style=\"color:cyan\"> |-act_0: selu</span>"
      ],
      "text/plain": [
       "<IPython.core.display.HTML object>"
      ]
     },
     "metadata": {
      "tags": []
     },
     "output_type": "display_data"
    },
    {
     "data": {
      "text/html": [
       "<span style=\"color:blue\"> |-act_1: relu</span>"
      ],
      "text/plain": [
       "<IPython.core.display.HTML object>"
      ]
     },
     "metadata": {
      "tags": []
     },
     "output_type": "display_data"
    },
    {
     "data": {
      "text/html": [
       "<span style=\"color:cyan\"> |-act_10: selu</span>"
      ],
      "text/plain": [
       "<IPython.core.display.HTML object>"
      ]
     },
     "metadata": {
      "tags": []
     },
     "output_type": "display_data"
    },
    {
     "data": {
      "text/html": [
       "<span style=\"color:blue\"> |-act_2: selu</span>"
      ],
      "text/plain": [
       "<IPython.core.display.HTML object>"
      ]
     },
     "metadata": {
      "tags": []
     },
     "output_type": "display_data"
    },
    {
     "data": {
      "text/html": [
       "<span style=\"color:cyan\"> |-act_3: selu</span>"
      ],
      "text/plain": [
       "<IPython.core.display.HTML object>"
      ]
     },
     "metadata": {
      "tags": []
     },
     "output_type": "display_data"
    },
    {
     "data": {
      "text/html": [
       "<span style=\"color:blue\"> |-act_4: selu</span>"
      ],
      "text/plain": [
       "<IPython.core.display.HTML object>"
      ]
     },
     "metadata": {
      "tags": []
     },
     "output_type": "display_data"
    },
    {
     "data": {
      "text/html": [
       "<span style=\"color:cyan\"> |-act_5: selu</span>"
      ],
      "text/plain": [
       "<IPython.core.display.HTML object>"
      ]
     },
     "metadata": {
      "tags": []
     },
     "output_type": "display_data"
    },
    {
     "data": {
      "text/html": [
       "<span style=\"color:blue\"> |-act_6: selu</span>"
      ],
      "text/plain": [
       "<IPython.core.display.HTML object>"
      ]
     },
     "metadata": {
      "tags": []
     },
     "output_type": "display_data"
    },
    {
     "data": {
      "text/html": [
       "<span style=\"color:cyan\"> |-act_7: relu</span>"
      ],
      "text/plain": [
       "<IPython.core.display.HTML object>"
      ]
     },
     "metadata": {
      "tags": []
     },
     "output_type": "display_data"
    },
    {
     "data": {
      "text/html": [
       "<span style=\"color:blue\"> |-act_8: relu</span>"
      ],
      "text/plain": [
       "<IPython.core.display.HTML object>"
      ]
     },
     "metadata": {
      "tags": []
     },
     "output_type": "display_data"
    },
    {
     "data": {
      "text/html": [
       "<span style=\"color:cyan\"> |-act_9: selu</span>"
      ],
      "text/plain": [
       "<IPython.core.display.HTML object>"
      ]
     },
     "metadata": {
      "tags": []
     },
     "output_type": "display_data"
    },
    {
     "data": {
      "text/html": [
       "<span style=\"color:blue\"> |-batch_size: 100</span>"
      ],
      "text/plain": [
       "<IPython.core.display.HTML object>"
      ]
     },
     "metadata": {
      "tags": []
     },
     "output_type": "display_data"
    },
    {
     "data": {
      "text/html": [
       "<span style=\"color:cyan\"> |-epochs: 100</span>"
      ],
      "text/plain": [
       "<IPython.core.display.HTML object>"
      ]
     },
     "metadata": {
      "tags": []
     },
     "output_type": "display_data"
    },
    {
     "data": {
      "text/html": [
       "<span style=\"color:blue\"> |-learning_rate: 0.1</span>"
      ],
      "text/plain": [
       "<IPython.core.display.HTML object>"
      ]
     },
     "metadata": {
      "tags": []
     },
     "output_type": "display_data"
    },
    {
     "data": {
      "text/html": [
       "<span style=\"color:cyan\"> |-number_of_layers: 9</span>"
      ],
      "text/plain": [
       "<IPython.core.display.HTML object>"
      ]
     },
     "metadata": {
      "tags": []
     },
     "output_type": "display_data"
    },
    {
     "data": {
      "text/html": [
       "<span style=\"color:blue\"> |-unit_0: 500</span>"
      ],
      "text/plain": [
       "<IPython.core.display.HTML object>"
      ]
     },
     "metadata": {
      "tags": []
     },
     "output_type": "display_data"
    },
    {
     "data": {
      "text/html": [
       "<span style=\"color:cyan\"> |-unit_1: 500</span>"
      ],
      "text/plain": [
       "<IPython.core.display.HTML object>"
      ]
     },
     "metadata": {
      "tags": []
     },
     "output_type": "display_data"
    },
    {
     "data": {
      "text/html": [
       "<span style=\"color:blue\"> |-unit_10: 500</span>"
      ],
      "text/plain": [
       "<IPython.core.display.HTML object>"
      ]
     },
     "metadata": {
      "tags": []
     },
     "output_type": "display_data"
    },
    {
     "data": {
      "text/html": [
       "<span style=\"color:cyan\"> |-unit_2: 50</span>"
      ],
      "text/plain": [
       "<IPython.core.display.HTML object>"
      ]
     },
     "metadata": {
      "tags": []
     },
     "output_type": "display_data"
    },
    {
     "data": {
      "text/html": [
       "<span style=\"color:blue\"> |-unit_3: 450</span>"
      ],
      "text/plain": [
       "<IPython.core.display.HTML object>"
      ]
     },
     "metadata": {
      "tags": []
     },
     "output_type": "display_data"
    },
    {
     "data": {
      "text/html": [
       "<span style=\"color:cyan\"> |-unit_4: 500</span>"
      ],
      "text/plain": [
       "<IPython.core.display.HTML object>"
      ]
     },
     "metadata": {
      "tags": []
     },
     "output_type": "display_data"
    },
    {
     "data": {
      "text/html": [
       "<span style=\"color:blue\"> |-unit_5: 300</span>"
      ],
      "text/plain": [
       "<IPython.core.display.HTML object>"
      ]
     },
     "metadata": {
      "tags": []
     },
     "output_type": "display_data"
    },
    {
     "data": {
      "text/html": [
       "<span style=\"color:cyan\"> |-unit_6: 50</span>"
      ],
      "text/plain": [
       "<IPython.core.display.HTML object>"
      ]
     },
     "metadata": {
      "tags": []
     },
     "output_type": "display_data"
    },
    {
     "data": {
      "text/html": [
       "<span style=\"color:blue\"> |-unit_7: 250</span>"
      ],
      "text/plain": [
       "<IPython.core.display.HTML object>"
      ]
     },
     "metadata": {
      "tags": []
     },
     "output_type": "display_data"
    },
    {
     "data": {
      "text/html": [
       "<span style=\"color:cyan\"> |-unit_8: 500</span>"
      ],
      "text/plain": [
       "<IPython.core.display.HTML object>"
      ]
     },
     "metadata": {
      "tags": []
     },
     "output_type": "display_data"
    },
    {
     "data": {
      "text/html": [
       "<span style=\"color:blue\"> |-unit_9: 50</span>"
      ],
      "text/plain": [
       "<IPython.core.display.HTML object>"
      ]
     },
     "metadata": {
      "tags": []
     },
     "output_type": "display_data"
    },
    {
     "data": {
      "text/html": [
       "<span style=\"color:#4527A0\"><h1 style=\"font-size:18px\">Trial summary</h1></span>"
      ],
      "text/plain": [
       "<IPython.core.display.HTML object>"
      ]
     },
     "metadata": {
      "tags": []
     },
     "output_type": "display_data"
    },
    {
     "data": {
      "text/html": [
       "<span style=\"color:cyan\"> |-Trial ID: 2b2207721741177a7cffea7a6883131f</span>"
      ],
      "text/plain": [
       "<IPython.core.display.HTML object>"
      ]
     },
     "metadata": {
      "tags": []
     },
     "output_type": "display_data"
    },
    {
     "data": {
      "text/html": [
       "<span style=\"color:cyan\"> |-Score: 0.35034013787905377</span>"
      ],
      "text/plain": [
       "<IPython.core.display.HTML object>"
      ]
     },
     "metadata": {
      "tags": []
     },
     "output_type": "display_data"
    },
    {
     "data": {
      "text/html": [
       "<span style=\"color:cyan\"> |-Best step: 0</span>"
      ],
      "text/plain": [
       "<IPython.core.display.HTML object>"
      ]
     },
     "metadata": {
      "tags": []
     },
     "output_type": "display_data"
    },
    {
     "data": {
      "text/html": [
       "<span style=\"color:#7E57C2\"><h2 style=\"font-size:16px\">Hyperparameters:</h2></span>"
      ],
      "text/plain": [
       "<IPython.core.display.HTML object>"
      ]
     },
     "metadata": {
      "tags": []
     },
     "output_type": "display_data"
    },
    {
     "data": {
      "text/html": [
       "<span style=\"color:cyan\"> |-act_0: selu</span>"
      ],
      "text/plain": [
       "<IPython.core.display.HTML object>"
      ]
     },
     "metadata": {
      "tags": []
     },
     "output_type": "display_data"
    },
    {
     "data": {
      "text/html": [
       "<span style=\"color:blue\"> |-act_1: relu</span>"
      ],
      "text/plain": [
       "<IPython.core.display.HTML object>"
      ]
     },
     "metadata": {
      "tags": []
     },
     "output_type": "display_data"
    },
    {
     "data": {
      "text/html": [
       "<span style=\"color:cyan\"> |-act_10: selu</span>"
      ],
      "text/plain": [
       "<IPython.core.display.HTML object>"
      ]
     },
     "metadata": {
      "tags": []
     },
     "output_type": "display_data"
    },
    {
     "data": {
      "text/html": [
       "<span style=\"color:blue\"> |-act_2: selu</span>"
      ],
      "text/plain": [
       "<IPython.core.display.HTML object>"
      ]
     },
     "metadata": {
      "tags": []
     },
     "output_type": "display_data"
    },
    {
     "data": {
      "text/html": [
       "<span style=\"color:cyan\"> |-act_3: selu</span>"
      ],
      "text/plain": [
       "<IPython.core.display.HTML object>"
      ]
     },
     "metadata": {
      "tags": []
     },
     "output_type": "display_data"
    },
    {
     "data": {
      "text/html": [
       "<span style=\"color:blue\"> |-act_4: selu</span>"
      ],
      "text/plain": [
       "<IPython.core.display.HTML object>"
      ]
     },
     "metadata": {
      "tags": []
     },
     "output_type": "display_data"
    },
    {
     "data": {
      "text/html": [
       "<span style=\"color:cyan\"> |-act_5: elu</span>"
      ],
      "text/plain": [
       "<IPython.core.display.HTML object>"
      ]
     },
     "metadata": {
      "tags": []
     },
     "output_type": "display_data"
    },
    {
     "data": {
      "text/html": [
       "<span style=\"color:blue\"> |-act_6: selu</span>"
      ],
      "text/plain": [
       "<IPython.core.display.HTML object>"
      ]
     },
     "metadata": {
      "tags": []
     },
     "output_type": "display_data"
    },
    {
     "data": {
      "text/html": [
       "<span style=\"color:cyan\"> |-act_7: selu</span>"
      ],
      "text/plain": [
       "<IPython.core.display.HTML object>"
      ]
     },
     "metadata": {
      "tags": []
     },
     "output_type": "display_data"
    },
    {
     "data": {
      "text/html": [
       "<span style=\"color:blue\"> |-act_8: relu</span>"
      ],
      "text/plain": [
       "<IPython.core.display.HTML object>"
      ]
     },
     "metadata": {
      "tags": []
     },
     "output_type": "display_data"
    },
    {
     "data": {
      "text/html": [
       "<span style=\"color:cyan\"> |-act_9: selu</span>"
      ],
      "text/plain": [
       "<IPython.core.display.HTML object>"
      ]
     },
     "metadata": {
      "tags": []
     },
     "output_type": "display_data"
    },
    {
     "data": {
      "text/html": [
       "<span style=\"color:blue\"> |-batch_size: 30</span>"
      ],
      "text/plain": [
       "<IPython.core.display.HTML object>"
      ]
     },
     "metadata": {
      "tags": []
     },
     "output_type": "display_data"
    },
    {
     "data": {
      "text/html": [
       "<span style=\"color:cyan\"> |-epochs: 90</span>"
      ],
      "text/plain": [
       "<IPython.core.display.HTML object>"
      ]
     },
     "metadata": {
      "tags": []
     },
     "output_type": "display_data"
    },
    {
     "data": {
      "text/html": [
       "<span style=\"color:blue\"> |-learning_rate: 0.1</span>"
      ],
      "text/plain": [
       "<IPython.core.display.HTML object>"
      ]
     },
     "metadata": {
      "tags": []
     },
     "output_type": "display_data"
    },
    {
     "data": {
      "text/html": [
       "<span style=\"color:cyan\"> |-number_of_layers: 4</span>"
      ],
      "text/plain": [
       "<IPython.core.display.HTML object>"
      ]
     },
     "metadata": {
      "tags": []
     },
     "output_type": "display_data"
    },
    {
     "data": {
      "text/html": [
       "<span style=\"color:blue\"> |-unit_0: 50</span>"
      ],
      "text/plain": [
       "<IPython.core.display.HTML object>"
      ]
     },
     "metadata": {
      "tags": []
     },
     "output_type": "display_data"
    },
    {
     "data": {
      "text/html": [
       "<span style=\"color:cyan\"> |-unit_1: 500</span>"
      ],
      "text/plain": [
       "<IPython.core.display.HTML object>"
      ]
     },
     "metadata": {
      "tags": []
     },
     "output_type": "display_data"
    },
    {
     "data": {
      "text/html": [
       "<span style=\"color:blue\"> |-unit_10: 500</span>"
      ],
      "text/plain": [
       "<IPython.core.display.HTML object>"
      ]
     },
     "metadata": {
      "tags": []
     },
     "output_type": "display_data"
    },
    {
     "data": {
      "text/html": [
       "<span style=\"color:cyan\"> |-unit_2: 300</span>"
      ],
      "text/plain": [
       "<IPython.core.display.HTML object>"
      ]
     },
     "metadata": {
      "tags": []
     },
     "output_type": "display_data"
    },
    {
     "data": {
      "text/html": [
       "<span style=\"color:blue\"> |-unit_3: 500</span>"
      ],
      "text/plain": [
       "<IPython.core.display.HTML object>"
      ]
     },
     "metadata": {
      "tags": []
     },
     "output_type": "display_data"
    },
    {
     "data": {
      "text/html": [
       "<span style=\"color:cyan\"> |-unit_4: 400</span>"
      ],
      "text/plain": [
       "<IPython.core.display.HTML object>"
      ]
     },
     "metadata": {
      "tags": []
     },
     "output_type": "display_data"
    },
    {
     "data": {
      "text/html": [
       "<span style=\"color:blue\"> |-unit_5: 450</span>"
      ],
      "text/plain": [
       "<IPython.core.display.HTML object>"
      ]
     },
     "metadata": {
      "tags": []
     },
     "output_type": "display_data"
    },
    {
     "data": {
      "text/html": [
       "<span style=\"color:cyan\"> |-unit_6: 50</span>"
      ],
      "text/plain": [
       "<IPython.core.display.HTML object>"
      ]
     },
     "metadata": {
      "tags": []
     },
     "output_type": "display_data"
    },
    {
     "data": {
      "text/html": [
       "<span style=\"color:blue\"> |-unit_7: 50</span>"
      ],
      "text/plain": [
       "<IPython.core.display.HTML object>"
      ]
     },
     "metadata": {
      "tags": []
     },
     "output_type": "display_data"
    },
    {
     "data": {
      "text/html": [
       "<span style=\"color:cyan\"> |-unit_8: 400</span>"
      ],
      "text/plain": [
       "<IPython.core.display.HTML object>"
      ]
     },
     "metadata": {
      "tags": []
     },
     "output_type": "display_data"
    },
    {
     "data": {
      "text/html": [
       "<span style=\"color:blue\"> |-unit_9: 500</span>"
      ],
      "text/plain": [
       "<IPython.core.display.HTML object>"
      ]
     },
     "metadata": {
      "tags": []
     },
     "output_type": "display_data"
    },
    {
     "data": {
      "text/html": [
       "<span style=\"color:#4527A0\"><h1 style=\"font-size:18px\">Trial summary</h1></span>"
      ],
      "text/plain": [
       "<IPython.core.display.HTML object>"
      ]
     },
     "metadata": {
      "tags": []
     },
     "output_type": "display_data"
    },
    {
     "data": {
      "text/html": [
       "<span style=\"color:cyan\"> |-Trial ID: 71467fca1ef796b1227d66e61e2bac45</span>"
      ],
      "text/plain": [
       "<IPython.core.display.HTML object>"
      ]
     },
     "metadata": {
      "tags": []
     },
     "output_type": "display_data"
    },
    {
     "data": {
      "text/html": [
       "<span style=\"color:cyan\"> |-Score: 0.34948980808258057</span>"
      ],
      "text/plain": [
       "<IPython.core.display.HTML object>"
      ]
     },
     "metadata": {
      "tags": []
     },
     "output_type": "display_data"
    },
    {
     "data": {
      "text/html": [
       "<span style=\"color:cyan\"> |-Best step: 0</span>"
      ],
      "text/plain": [
       "<IPython.core.display.HTML object>"
      ]
     },
     "metadata": {
      "tags": []
     },
     "output_type": "display_data"
    },
    {
     "data": {
      "text/html": [
       "<span style=\"color:#7E57C2\"><h2 style=\"font-size:16px\">Hyperparameters:</h2></span>"
      ],
      "text/plain": [
       "<IPython.core.display.HTML object>"
      ]
     },
     "metadata": {
      "tags": []
     },
     "output_type": "display_data"
    },
    {
     "data": {
      "text/html": [
       "<span style=\"color:cyan\"> |-act_0: relu</span>"
      ],
      "text/plain": [
       "<IPython.core.display.HTML object>"
      ]
     },
     "metadata": {
      "tags": []
     },
     "output_type": "display_data"
    },
    {
     "data": {
      "text/html": [
       "<span style=\"color:blue\"> |-act_1: selu</span>"
      ],
      "text/plain": [
       "<IPython.core.display.HTML object>"
      ]
     },
     "metadata": {
      "tags": []
     },
     "output_type": "display_data"
    },
    {
     "data": {
      "text/html": [
       "<span style=\"color:cyan\"> |-act_10: selu</span>"
      ],
      "text/plain": [
       "<IPython.core.display.HTML object>"
      ]
     },
     "metadata": {
      "tags": []
     },
     "output_type": "display_data"
    },
    {
     "data": {
      "text/html": [
       "<span style=\"color:blue\"> |-act_2: selu</span>"
      ],
      "text/plain": [
       "<IPython.core.display.HTML object>"
      ]
     },
     "metadata": {
      "tags": []
     },
     "output_type": "display_data"
    },
    {
     "data": {
      "text/html": [
       "<span style=\"color:cyan\"> |-act_3: selu</span>"
      ],
      "text/plain": [
       "<IPython.core.display.HTML object>"
      ]
     },
     "metadata": {
      "tags": []
     },
     "output_type": "display_data"
    },
    {
     "data": {
      "text/html": [
       "<span style=\"color:blue\"> |-act_4: selu</span>"
      ],
      "text/plain": [
       "<IPython.core.display.HTML object>"
      ]
     },
     "metadata": {
      "tags": []
     },
     "output_type": "display_data"
    },
    {
     "data": {
      "text/html": [
       "<span style=\"color:cyan\"> |-act_5: selu</span>"
      ],
      "text/plain": [
       "<IPython.core.display.HTML object>"
      ]
     },
     "metadata": {
      "tags": []
     },
     "output_type": "display_data"
    },
    {
     "data": {
      "text/html": [
       "<span style=\"color:blue\"> |-act_6: selu</span>"
      ],
      "text/plain": [
       "<IPython.core.display.HTML object>"
      ]
     },
     "metadata": {
      "tags": []
     },
     "output_type": "display_data"
    },
    {
     "data": {
      "text/html": [
       "<span style=\"color:cyan\"> |-act_7: relu</span>"
      ],
      "text/plain": [
       "<IPython.core.display.HTML object>"
      ]
     },
     "metadata": {
      "tags": []
     },
     "output_type": "display_data"
    },
    {
     "data": {
      "text/html": [
       "<span style=\"color:blue\"> |-act_8: relu</span>"
      ],
      "text/plain": [
       "<IPython.core.display.HTML object>"
      ]
     },
     "metadata": {
      "tags": []
     },
     "output_type": "display_data"
    },
    {
     "data": {
      "text/html": [
       "<span style=\"color:cyan\"> |-act_9: selu</span>"
      ],
      "text/plain": [
       "<IPython.core.display.HTML object>"
      ]
     },
     "metadata": {
      "tags": []
     },
     "output_type": "display_data"
    },
    {
     "data": {
      "text/html": [
       "<span style=\"color:blue\"> |-batch_size: 70</span>"
      ],
      "text/plain": [
       "<IPython.core.display.HTML object>"
      ]
     },
     "metadata": {
      "tags": []
     },
     "output_type": "display_data"
    },
    {
     "data": {
      "text/html": [
       "<span style=\"color:cyan\"> |-epochs: 30</span>"
      ],
      "text/plain": [
       "<IPython.core.display.HTML object>"
      ]
     },
     "metadata": {
      "tags": []
     },
     "output_type": "display_data"
    },
    {
     "data": {
      "text/html": [
       "<span style=\"color:blue\"> |-learning_rate: 0.1</span>"
      ],
      "text/plain": [
       "<IPython.core.display.HTML object>"
      ]
     },
     "metadata": {
      "tags": []
     },
     "output_type": "display_data"
    },
    {
     "data": {
      "text/html": [
       "<span style=\"color:cyan\"> |-number_of_layers: 1</span>"
      ],
      "text/plain": [
       "<IPython.core.display.HTML object>"
      ]
     },
     "metadata": {
      "tags": []
     },
     "output_type": "display_data"
    },
    {
     "data": {
      "text/html": [
       "<span style=\"color:blue\"> |-unit_0: 50</span>"
      ],
      "text/plain": [
       "<IPython.core.display.HTML object>"
      ]
     },
     "metadata": {
      "tags": []
     },
     "output_type": "display_data"
    },
    {
     "data": {
      "text/html": [
       "<span style=\"color:cyan\"> |-unit_1: 500</span>"
      ],
      "text/plain": [
       "<IPython.core.display.HTML object>"
      ]
     },
     "metadata": {
      "tags": []
     },
     "output_type": "display_data"
    },
    {
     "data": {
      "text/html": [
       "<span style=\"color:blue\"> |-unit_10: 50</span>"
      ],
      "text/plain": [
       "<IPython.core.display.HTML object>"
      ]
     },
     "metadata": {
      "tags": []
     },
     "output_type": "display_data"
    },
    {
     "data": {
      "text/html": [
       "<span style=\"color:cyan\"> |-unit_2: 500</span>"
      ],
      "text/plain": [
       "<IPython.core.display.HTML object>"
      ]
     },
     "metadata": {
      "tags": []
     },
     "output_type": "display_data"
    },
    {
     "data": {
      "text/html": [
       "<span style=\"color:blue\"> |-unit_3: 500</span>"
      ],
      "text/plain": [
       "<IPython.core.display.HTML object>"
      ]
     },
     "metadata": {
      "tags": []
     },
     "output_type": "display_data"
    },
    {
     "data": {
      "text/html": [
       "<span style=\"color:cyan\"> |-unit_4: 300</span>"
      ],
      "text/plain": [
       "<IPython.core.display.HTML object>"
      ]
     },
     "metadata": {
      "tags": []
     },
     "output_type": "display_data"
    },
    {
     "data": {
      "text/html": [
       "<span style=\"color:blue\"> |-unit_5: 50</span>"
      ],
      "text/plain": [
       "<IPython.core.display.HTML object>"
      ]
     },
     "metadata": {
      "tags": []
     },
     "output_type": "display_data"
    },
    {
     "data": {
      "text/html": [
       "<span style=\"color:cyan\"> |-unit_6: 50</span>"
      ],
      "text/plain": [
       "<IPython.core.display.HTML object>"
      ]
     },
     "metadata": {
      "tags": []
     },
     "output_type": "display_data"
    },
    {
     "data": {
      "text/html": [
       "<span style=\"color:blue\"> |-unit_7: 350</span>"
      ],
      "text/plain": [
       "<IPython.core.display.HTML object>"
      ]
     },
     "metadata": {
      "tags": []
     },
     "output_type": "display_data"
    },
    {
     "data": {
      "text/html": [
       "<span style=\"color:cyan\"> |-unit_8: 500</span>"
      ],
      "text/plain": [
       "<IPython.core.display.HTML object>"
      ]
     },
     "metadata": {
      "tags": []
     },
     "output_type": "display_data"
    },
    {
     "data": {
      "text/html": [
       "<span style=\"color:blue\"> |-unit_9: 500</span>"
      ],
      "text/plain": [
       "<IPython.core.display.HTML object>"
      ]
     },
     "metadata": {
      "tags": []
     },
     "output_type": "display_data"
    },
    {
     "data": {
      "text/html": [
       "<span style=\"color:#4527A0\"><h1 style=\"font-size:18px\">Trial summary</h1></span>"
      ],
      "text/plain": [
       "<IPython.core.display.HTML object>"
      ]
     },
     "metadata": {
      "tags": []
     },
     "output_type": "display_data"
    },
    {
     "data": {
      "text/html": [
       "<span style=\"color:cyan\"> |-Trial ID: 01acab214c4a476b8107640e58e6daf3</span>"
      ],
      "text/plain": [
       "<IPython.core.display.HTML object>"
      ]
     },
     "metadata": {
      "tags": []
     },
     "output_type": "display_data"
    },
    {
     "data": {
      "text/html": [
       "<span style=\"color:cyan\"> |-Score: 0.34948978821436566</span>"
      ],
      "text/plain": [
       "<IPython.core.display.HTML object>"
      ]
     },
     "metadata": {
      "tags": []
     },
     "output_type": "display_data"
    },
    {
     "data": {
      "text/html": [
       "<span style=\"color:cyan\"> |-Best step: 0</span>"
      ],
      "text/plain": [
       "<IPython.core.display.HTML object>"
      ]
     },
     "metadata": {
      "tags": []
     },
     "output_type": "display_data"
    },
    {
     "data": {
      "text/html": [
       "<span style=\"color:#7E57C2\"><h2 style=\"font-size:16px\">Hyperparameters:</h2></span>"
      ],
      "text/plain": [
       "<IPython.core.display.HTML object>"
      ]
     },
     "metadata": {
      "tags": []
     },
     "output_type": "display_data"
    },
    {
     "data": {
      "text/html": [
       "<span style=\"color:cyan\"> |-act_0: relu</span>"
      ],
      "text/plain": [
       "<IPython.core.display.HTML object>"
      ]
     },
     "metadata": {
      "tags": []
     },
     "output_type": "display_data"
    },
    {
     "data": {
      "text/html": [
       "<span style=\"color:blue\"> |-act_1: relu</span>"
      ],
      "text/plain": [
       "<IPython.core.display.HTML object>"
      ]
     },
     "metadata": {
      "tags": []
     },
     "output_type": "display_data"
    },
    {
     "data": {
      "text/html": [
       "<span style=\"color:cyan\"> |-act_10: relu</span>"
      ],
      "text/plain": [
       "<IPython.core.display.HTML object>"
      ]
     },
     "metadata": {
      "tags": []
     },
     "output_type": "display_data"
    },
    {
     "data": {
      "text/html": [
       "<span style=\"color:blue\"> |-act_2: relu</span>"
      ],
      "text/plain": [
       "<IPython.core.display.HTML object>"
      ]
     },
     "metadata": {
      "tags": []
     },
     "output_type": "display_data"
    },
    {
     "data": {
      "text/html": [
       "<span style=\"color:cyan\"> |-act_3: relu</span>"
      ],
      "text/plain": [
       "<IPython.core.display.HTML object>"
      ]
     },
     "metadata": {
      "tags": []
     },
     "output_type": "display_data"
    },
    {
     "data": {
      "text/html": [
       "<span style=\"color:blue\"> |-act_4: relu</span>"
      ],
      "text/plain": [
       "<IPython.core.display.HTML object>"
      ]
     },
     "metadata": {
      "tags": []
     },
     "output_type": "display_data"
    },
    {
     "data": {
      "text/html": [
       "<span style=\"color:cyan\"> |-act_5: selu</span>"
      ],
      "text/plain": [
       "<IPython.core.display.HTML object>"
      ]
     },
     "metadata": {
      "tags": []
     },
     "output_type": "display_data"
    },
    {
     "data": {
      "text/html": [
       "<span style=\"color:blue\"> |-act_6: elu</span>"
      ],
      "text/plain": [
       "<IPython.core.display.HTML object>"
      ]
     },
     "metadata": {
      "tags": []
     },
     "output_type": "display_data"
    },
    {
     "data": {
      "text/html": [
       "<span style=\"color:cyan\"> |-act_7: elu</span>"
      ],
      "text/plain": [
       "<IPython.core.display.HTML object>"
      ]
     },
     "metadata": {
      "tags": []
     },
     "output_type": "display_data"
    },
    {
     "data": {
      "text/html": [
       "<span style=\"color:blue\"> |-act_8: relu</span>"
      ],
      "text/plain": [
       "<IPython.core.display.HTML object>"
      ]
     },
     "metadata": {
      "tags": []
     },
     "output_type": "display_data"
    },
    {
     "data": {
      "text/html": [
       "<span style=\"color:cyan\"> |-act_9: selu</span>"
      ],
      "text/plain": [
       "<IPython.core.display.HTML object>"
      ]
     },
     "metadata": {
      "tags": []
     },
     "output_type": "display_data"
    },
    {
     "data": {
      "text/html": [
       "<span style=\"color:blue\"> |-batch_size: 50</span>"
      ],
      "text/plain": [
       "<IPython.core.display.HTML object>"
      ]
     },
     "metadata": {
      "tags": []
     },
     "output_type": "display_data"
    },
    {
     "data": {
      "text/html": [
       "<span style=\"color:cyan\"> |-epochs: 100</span>"
      ],
      "text/plain": [
       "<IPython.core.display.HTML object>"
      ]
     },
     "metadata": {
      "tags": []
     },
     "output_type": "display_data"
    },
    {
     "data": {
      "text/html": [
       "<span style=\"color:blue\"> |-learning_rate: 0.1</span>"
      ],
      "text/plain": [
       "<IPython.core.display.HTML object>"
      ]
     },
     "metadata": {
      "tags": []
     },
     "output_type": "display_data"
    },
    {
     "data": {
      "text/html": [
       "<span style=\"color:cyan\"> |-number_of_layers: 5</span>"
      ],
      "text/plain": [
       "<IPython.core.display.HTML object>"
      ]
     },
     "metadata": {
      "tags": []
     },
     "output_type": "display_data"
    },
    {
     "data": {
      "text/html": [
       "<span style=\"color:blue\"> |-unit_0: 250</span>"
      ],
      "text/plain": [
       "<IPython.core.display.HTML object>"
      ]
     },
     "metadata": {
      "tags": []
     },
     "output_type": "display_data"
    },
    {
     "data": {
      "text/html": [
       "<span style=\"color:cyan\"> |-unit_1: 450</span>"
      ],
      "text/plain": [
       "<IPython.core.display.HTML object>"
      ]
     },
     "metadata": {
      "tags": []
     },
     "output_type": "display_data"
    },
    {
     "data": {
      "text/html": [
       "<span style=\"color:blue\"> |-unit_10: 300</span>"
      ],
      "text/plain": [
       "<IPython.core.display.HTML object>"
      ]
     },
     "metadata": {
      "tags": []
     },
     "output_type": "display_data"
    },
    {
     "data": {
      "text/html": [
       "<span style=\"color:cyan\"> |-unit_2: 300</span>"
      ],
      "text/plain": [
       "<IPython.core.display.HTML object>"
      ]
     },
     "metadata": {
      "tags": []
     },
     "output_type": "display_data"
    },
    {
     "data": {
      "text/html": [
       "<span style=\"color:blue\"> |-unit_3: 150</span>"
      ],
      "text/plain": [
       "<IPython.core.display.HTML object>"
      ]
     },
     "metadata": {
      "tags": []
     },
     "output_type": "display_data"
    },
    {
     "data": {
      "text/html": [
       "<span style=\"color:cyan\"> |-unit_4: 500</span>"
      ],
      "text/plain": [
       "<IPython.core.display.HTML object>"
      ]
     },
     "metadata": {
      "tags": []
     },
     "output_type": "display_data"
    },
    {
     "data": {
      "text/html": [
       "<span style=\"color:blue\"> |-unit_5: 250</span>"
      ],
      "text/plain": [
       "<IPython.core.display.HTML object>"
      ]
     },
     "metadata": {
      "tags": []
     },
     "output_type": "display_data"
    },
    {
     "data": {
      "text/html": [
       "<span style=\"color:cyan\"> |-unit_6: 450</span>"
      ],
      "text/plain": [
       "<IPython.core.display.HTML object>"
      ]
     },
     "metadata": {
      "tags": []
     },
     "output_type": "display_data"
    },
    {
     "data": {
      "text/html": [
       "<span style=\"color:blue\"> |-unit_7: 100</span>"
      ],
      "text/plain": [
       "<IPython.core.display.HTML object>"
      ]
     },
     "metadata": {
      "tags": []
     },
     "output_type": "display_data"
    },
    {
     "data": {
      "text/html": [
       "<span style=\"color:cyan\"> |-unit_8: 500</span>"
      ],
      "text/plain": [
       "<IPython.core.display.HTML object>"
      ]
     },
     "metadata": {
      "tags": []
     },
     "output_type": "display_data"
    },
    {
     "data": {
      "text/html": [
       "<span style=\"color:blue\"> |-unit_9: 500</span>"
      ],
      "text/plain": [
       "<IPython.core.display.HTML object>"
      ]
     },
     "metadata": {
      "tags": []
     },
     "output_type": "display_data"
    },
    {
     "data": {
      "text/html": [
       "<span style=\"color:#4527A0\"><h1 style=\"font-size:18px\">Trial summary</h1></span>"
      ],
      "text/plain": [
       "<IPython.core.display.HTML object>"
      ]
     },
     "metadata": {
      "tags": []
     },
     "output_type": "display_data"
    },
    {
     "data": {
      "text/html": [
       "<span style=\"color:cyan\"> |-Trial ID: b3390564dbe04bb53df08cf3c003f567</span>"
      ],
      "text/plain": [
       "<IPython.core.display.HTML object>"
      ]
     },
     "metadata": {
      "tags": []
     },
     "output_type": "display_data"
    },
    {
     "data": {
      "text/html": [
       "<span style=\"color:cyan\"> |-Score: 0.34863946835199994</span>"
      ],
      "text/plain": [
       "<IPython.core.display.HTML object>"
      ]
     },
     "metadata": {
      "tags": []
     },
     "output_type": "display_data"
    },
    {
     "data": {
      "text/html": [
       "<span style=\"color:cyan\"> |-Best step: 0</span>"
      ],
      "text/plain": [
       "<IPython.core.display.HTML object>"
      ]
     },
     "metadata": {
      "tags": []
     },
     "output_type": "display_data"
    },
    {
     "data": {
      "text/html": [
       "<span style=\"color:#7E57C2\"><h2 style=\"font-size:16px\">Hyperparameters:</h2></span>"
      ],
      "text/plain": [
       "<IPython.core.display.HTML object>"
      ]
     },
     "metadata": {
      "tags": []
     },
     "output_type": "display_data"
    },
    {
     "data": {
      "text/html": [
       "<span style=\"color:cyan\"> |-act_0: relu</span>"
      ],
      "text/plain": [
       "<IPython.core.display.HTML object>"
      ]
     },
     "metadata": {
      "tags": []
     },
     "output_type": "display_data"
    },
    {
     "data": {
      "text/html": [
       "<span style=\"color:blue\"> |-act_1: relu</span>"
      ],
      "text/plain": [
       "<IPython.core.display.HTML object>"
      ]
     },
     "metadata": {
      "tags": []
     },
     "output_type": "display_data"
    },
    {
     "data": {
      "text/html": [
       "<span style=\"color:cyan\"> |-act_10: relu</span>"
      ],
      "text/plain": [
       "<IPython.core.display.HTML object>"
      ]
     },
     "metadata": {
      "tags": []
     },
     "output_type": "display_data"
    },
    {
     "data": {
      "text/html": [
       "<span style=\"color:blue\"> |-act_2: relu</span>"
      ],
      "text/plain": [
       "<IPython.core.display.HTML object>"
      ]
     },
     "metadata": {
      "tags": []
     },
     "output_type": "display_data"
    },
    {
     "data": {
      "text/html": [
       "<span style=\"color:cyan\"> |-act_3: selu</span>"
      ],
      "text/plain": [
       "<IPython.core.display.HTML object>"
      ]
     },
     "metadata": {
      "tags": []
     },
     "output_type": "display_data"
    },
    {
     "data": {
      "text/html": [
       "<span style=\"color:blue\"> |-act_4: selu</span>"
      ],
      "text/plain": [
       "<IPython.core.display.HTML object>"
      ]
     },
     "metadata": {
      "tags": []
     },
     "output_type": "display_data"
    },
    {
     "data": {
      "text/html": [
       "<span style=\"color:cyan\"> |-act_5: selu</span>"
      ],
      "text/plain": [
       "<IPython.core.display.HTML object>"
      ]
     },
     "metadata": {
      "tags": []
     },
     "output_type": "display_data"
    },
    {
     "data": {
      "text/html": [
       "<span style=\"color:blue\"> |-act_6: relu</span>"
      ],
      "text/plain": [
       "<IPython.core.display.HTML object>"
      ]
     },
     "metadata": {
      "tags": []
     },
     "output_type": "display_data"
    },
    {
     "data": {
      "text/html": [
       "<span style=\"color:cyan\"> |-act_7: selu</span>"
      ],
      "text/plain": [
       "<IPython.core.display.HTML object>"
      ]
     },
     "metadata": {
      "tags": []
     },
     "output_type": "display_data"
    },
    {
     "data": {
      "text/html": [
       "<span style=\"color:blue\"> |-act_8: relu</span>"
      ],
      "text/plain": [
       "<IPython.core.display.HTML object>"
      ]
     },
     "metadata": {
      "tags": []
     },
     "output_type": "display_data"
    },
    {
     "data": {
      "text/html": [
       "<span style=\"color:cyan\"> |-act_9: selu</span>"
      ],
      "text/plain": [
       "<IPython.core.display.HTML object>"
      ]
     },
     "metadata": {
      "tags": []
     },
     "output_type": "display_data"
    },
    {
     "data": {
      "text/html": [
       "<span style=\"color:blue\"> |-batch_size: 100</span>"
      ],
      "text/plain": [
       "<IPython.core.display.HTML object>"
      ]
     },
     "metadata": {
      "tags": []
     },
     "output_type": "display_data"
    },
    {
     "data": {
      "text/html": [
       "<span style=\"color:cyan\"> |-epochs: 100</span>"
      ],
      "text/plain": [
       "<IPython.core.display.HTML object>"
      ]
     },
     "metadata": {
      "tags": []
     },
     "output_type": "display_data"
    },
    {
     "data": {
      "text/html": [
       "<span style=\"color:blue\"> |-learning_rate: 0.1</span>"
      ],
      "text/plain": [
       "<IPython.core.display.HTML object>"
      ]
     },
     "metadata": {
      "tags": []
     },
     "output_type": "display_data"
    },
    {
     "data": {
      "text/html": [
       "<span style=\"color:cyan\"> |-number_of_layers: 1</span>"
      ],
      "text/plain": [
       "<IPython.core.display.HTML object>"
      ]
     },
     "metadata": {
      "tags": []
     },
     "output_type": "display_data"
    },
    {
     "data": {
      "text/html": [
       "<span style=\"color:blue\"> |-unit_0: 500</span>"
      ],
      "text/plain": [
       "<IPython.core.display.HTML object>"
      ]
     },
     "metadata": {
      "tags": []
     },
     "output_type": "display_data"
    },
    {
     "data": {
      "text/html": [
       "<span style=\"color:cyan\"> |-unit_1: 500</span>"
      ],
      "text/plain": [
       "<IPython.core.display.HTML object>"
      ]
     },
     "metadata": {
      "tags": []
     },
     "output_type": "display_data"
    },
    {
     "data": {
      "text/html": [
       "<span style=\"color:blue\"> |-unit_10: 500</span>"
      ],
      "text/plain": [
       "<IPython.core.display.HTML object>"
      ]
     },
     "metadata": {
      "tags": []
     },
     "output_type": "display_data"
    },
    {
     "data": {
      "text/html": [
       "<span style=\"color:cyan\"> |-unit_2: 50</span>"
      ],
      "text/plain": [
       "<IPython.core.display.HTML object>"
      ]
     },
     "metadata": {
      "tags": []
     },
     "output_type": "display_data"
    },
    {
     "data": {
      "text/html": [
       "<span style=\"color:blue\"> |-unit_3: 500</span>"
      ],
      "text/plain": [
       "<IPython.core.display.HTML object>"
      ]
     },
     "metadata": {
      "tags": []
     },
     "output_type": "display_data"
    },
    {
     "data": {
      "text/html": [
       "<span style=\"color:cyan\"> |-unit_4: 50</span>"
      ],
      "text/plain": [
       "<IPython.core.display.HTML object>"
      ]
     },
     "metadata": {
      "tags": []
     },
     "output_type": "display_data"
    },
    {
     "data": {
      "text/html": [
       "<span style=\"color:blue\"> |-unit_5: 500</span>"
      ],
      "text/plain": [
       "<IPython.core.display.HTML object>"
      ]
     },
     "metadata": {
      "tags": []
     },
     "output_type": "display_data"
    },
    {
     "data": {
      "text/html": [
       "<span style=\"color:cyan\"> |-unit_6: 500</span>"
      ],
      "text/plain": [
       "<IPython.core.display.HTML object>"
      ]
     },
     "metadata": {
      "tags": []
     },
     "output_type": "display_data"
    },
    {
     "data": {
      "text/html": [
       "<span style=\"color:blue\"> |-unit_7: 50</span>"
      ],
      "text/plain": [
       "<IPython.core.display.HTML object>"
      ]
     },
     "metadata": {
      "tags": []
     },
     "output_type": "display_data"
    },
    {
     "data": {
      "text/html": [
       "<span style=\"color:cyan\"> |-unit_8: 500</span>"
      ],
      "text/plain": [
       "<IPython.core.display.HTML object>"
      ]
     },
     "metadata": {
      "tags": []
     },
     "output_type": "display_data"
    },
    {
     "data": {
      "text/html": [
       "<span style=\"color:blue\"> |-unit_9: 50</span>"
      ],
      "text/plain": [
       "<IPython.core.display.HTML object>"
      ]
     },
     "metadata": {
      "tags": []
     },
     "output_type": "display_data"
    },
    {
     "data": {
      "text/html": [
       "<span style=\"color:#4527A0\"><h1 style=\"font-size:18px\">Trial summary</h1></span>"
      ],
      "text/plain": [
       "<IPython.core.display.HTML object>"
      ]
     },
     "metadata": {
      "tags": []
     },
     "output_type": "display_data"
    },
    {
     "data": {
      "text/html": [
       "<span style=\"color:cyan\"> |-Trial ID: a416f8cc3b492e28be3d687565f0cf53</span>"
      ],
      "text/plain": [
       "<IPython.core.display.HTML object>"
      ]
     },
     "metadata": {
      "tags": []
     },
     "output_type": "display_data"
    },
    {
     "data": {
      "text/html": [
       "<span style=\"color:cyan\"> |-Score: 0.34863945841789246</span>"
      ],
      "text/plain": [
       "<IPython.core.display.HTML object>"
      ]
     },
     "metadata": {
      "tags": []
     },
     "output_type": "display_data"
    },
    {
     "data": {
      "text/html": [
       "<span style=\"color:cyan\"> |-Best step: 0</span>"
      ],
      "text/plain": [
       "<IPython.core.display.HTML object>"
      ]
     },
     "metadata": {
      "tags": []
     },
     "output_type": "display_data"
    },
    {
     "data": {
      "text/html": [
       "<span style=\"color:#7E57C2\"><h2 style=\"font-size:16px\">Hyperparameters:</h2></span>"
      ],
      "text/plain": [
       "<IPython.core.display.HTML object>"
      ]
     },
     "metadata": {
      "tags": []
     },
     "output_type": "display_data"
    },
    {
     "data": {
      "text/html": [
       "<span style=\"color:cyan\"> |-act_0: selu</span>"
      ],
      "text/plain": [
       "<IPython.core.display.HTML object>"
      ]
     },
     "metadata": {
      "tags": []
     },
     "output_type": "display_data"
    },
    {
     "data": {
      "text/html": [
       "<span style=\"color:blue\"> |-act_1: relu</span>"
      ],
      "text/plain": [
       "<IPython.core.display.HTML object>"
      ]
     },
     "metadata": {
      "tags": []
     },
     "output_type": "display_data"
    },
    {
     "data": {
      "text/html": [
       "<span style=\"color:cyan\"> |-act_10: selu</span>"
      ],
      "text/plain": [
       "<IPython.core.display.HTML object>"
      ]
     },
     "metadata": {
      "tags": []
     },
     "output_type": "display_data"
    },
    {
     "data": {
      "text/html": [
       "<span style=\"color:blue\"> |-act_2: relu</span>"
      ],
      "text/plain": [
       "<IPython.core.display.HTML object>"
      ]
     },
     "metadata": {
      "tags": []
     },
     "output_type": "display_data"
    },
    {
     "data": {
      "text/html": [
       "<span style=\"color:cyan\"> |-act_3: relu</span>"
      ],
      "text/plain": [
       "<IPython.core.display.HTML object>"
      ]
     },
     "metadata": {
      "tags": []
     },
     "output_type": "display_data"
    },
    {
     "data": {
      "text/html": [
       "<span style=\"color:blue\"> |-act_4: selu</span>"
      ],
      "text/plain": [
       "<IPython.core.display.HTML object>"
      ]
     },
     "metadata": {
      "tags": []
     },
     "output_type": "display_data"
    },
    {
     "data": {
      "text/html": [
       "<span style=\"color:cyan\"> |-act_5: relu</span>"
      ],
      "text/plain": [
       "<IPython.core.display.HTML object>"
      ]
     },
     "metadata": {
      "tags": []
     },
     "output_type": "display_data"
    },
    {
     "data": {
      "text/html": [
       "<span style=\"color:blue\"> |-act_6: selu</span>"
      ],
      "text/plain": [
       "<IPython.core.display.HTML object>"
      ]
     },
     "metadata": {
      "tags": []
     },
     "output_type": "display_data"
    },
    {
     "data": {
      "text/html": [
       "<span style=\"color:cyan\"> |-act_7: relu</span>"
      ],
      "text/plain": [
       "<IPython.core.display.HTML object>"
      ]
     },
     "metadata": {
      "tags": []
     },
     "output_type": "display_data"
    },
    {
     "data": {
      "text/html": [
       "<span style=\"color:blue\"> |-act_8: relu</span>"
      ],
      "text/plain": [
       "<IPython.core.display.HTML object>"
      ]
     },
     "metadata": {
      "tags": []
     },
     "output_type": "display_data"
    },
    {
     "data": {
      "text/html": [
       "<span style=\"color:cyan\"> |-act_9: relu</span>"
      ],
      "text/plain": [
       "<IPython.core.display.HTML object>"
      ]
     },
     "metadata": {
      "tags": []
     },
     "output_type": "display_data"
    },
    {
     "data": {
      "text/html": [
       "<span style=\"color:blue\"> |-batch_size: 100</span>"
      ],
      "text/plain": [
       "<IPython.core.display.HTML object>"
      ]
     },
     "metadata": {
      "tags": []
     },
     "output_type": "display_data"
    },
    {
     "data": {
      "text/html": [
       "<span style=\"color:cyan\"> |-epochs: 100</span>"
      ],
      "text/plain": [
       "<IPython.core.display.HTML object>"
      ]
     },
     "metadata": {
      "tags": []
     },
     "output_type": "display_data"
    },
    {
     "data": {
      "text/html": [
       "<span style=\"color:blue\"> |-learning_rate: 0.1</span>"
      ],
      "text/plain": [
       "<IPython.core.display.HTML object>"
      ]
     },
     "metadata": {
      "tags": []
     },
     "output_type": "display_data"
    },
    {
     "data": {
      "text/html": [
       "<span style=\"color:cyan\"> |-number_of_layers: 1</span>"
      ],
      "text/plain": [
       "<IPython.core.display.HTML object>"
      ]
     },
     "metadata": {
      "tags": []
     },
     "output_type": "display_data"
    },
    {
     "data": {
      "text/html": [
       "<span style=\"color:blue\"> |-unit_0: 50</span>"
      ],
      "text/plain": [
       "<IPython.core.display.HTML object>"
      ]
     },
     "metadata": {
      "tags": []
     },
     "output_type": "display_data"
    },
    {
     "data": {
      "text/html": [
       "<span style=\"color:cyan\"> |-unit_1: 500</span>"
      ],
      "text/plain": [
       "<IPython.core.display.HTML object>"
      ]
     },
     "metadata": {
      "tags": []
     },
     "output_type": "display_data"
    },
    {
     "data": {
      "text/html": [
       "<span style=\"color:blue\"> |-unit_10: 500</span>"
      ],
      "text/plain": [
       "<IPython.core.display.HTML object>"
      ]
     },
     "metadata": {
      "tags": []
     },
     "output_type": "display_data"
    },
    {
     "data": {
      "text/html": [
       "<span style=\"color:cyan\"> |-unit_2: 500</span>"
      ],
      "text/plain": [
       "<IPython.core.display.HTML object>"
      ]
     },
     "metadata": {
      "tags": []
     },
     "output_type": "display_data"
    },
    {
     "data": {
      "text/html": [
       "<span style=\"color:blue\"> |-unit_3: 50</span>"
      ],
      "text/plain": [
       "<IPython.core.display.HTML object>"
      ]
     },
     "metadata": {
      "tags": []
     },
     "output_type": "display_data"
    },
    {
     "data": {
      "text/html": [
       "<span style=\"color:cyan\"> |-unit_4: 500</span>"
      ],
      "text/plain": [
       "<IPython.core.display.HTML object>"
      ]
     },
     "metadata": {
      "tags": []
     },
     "output_type": "display_data"
    },
    {
     "data": {
      "text/html": [
       "<span style=\"color:blue\"> |-unit_5: 50</span>"
      ],
      "text/plain": [
       "<IPython.core.display.HTML object>"
      ]
     },
     "metadata": {
      "tags": []
     },
     "output_type": "display_data"
    },
    {
     "data": {
      "text/html": [
       "<span style=\"color:cyan\"> |-unit_6: 500</span>"
      ],
      "text/plain": [
       "<IPython.core.display.HTML object>"
      ]
     },
     "metadata": {
      "tags": []
     },
     "output_type": "display_data"
    },
    {
     "data": {
      "text/html": [
       "<span style=\"color:blue\"> |-unit_7: 500</span>"
      ],
      "text/plain": [
       "<IPython.core.display.HTML object>"
      ]
     },
     "metadata": {
      "tags": []
     },
     "output_type": "display_data"
    },
    {
     "data": {
      "text/html": [
       "<span style=\"color:cyan\"> |-unit_8: 500</span>"
      ],
      "text/plain": [
       "<IPython.core.display.HTML object>"
      ]
     },
     "metadata": {
      "tags": []
     },
     "output_type": "display_data"
    },
    {
     "data": {
      "text/html": [
       "<span style=\"color:blue\"> |-unit_9: 500</span>"
      ],
      "text/plain": [
       "<IPython.core.display.HTML object>"
      ]
     },
     "metadata": {
      "tags": []
     },
     "output_type": "display_data"
    }
   ],
   "source": [
    "   # Show a summary of the search\n",
    "tuner.results_summary()\n",
    "\n",
    "# Retrieve the best model.\n",
    "best_model = tuner.get_best_models(num_models=1)[0]\n",
    "\n",
    "# Evaluate the best model.\n",
    "#results = best_model.evaluate(X_combined_test_gridsearch, y_test_gridsearch)"
   ]
  },
  {
   "cell_type": "code",
   "execution_count": null,
   "metadata": {
    "colab": {
     "base_uri": "https://localhost:8080/"
    },
    "id": "pW_KKVA7fVnZ",
    "outputId": "e28a5ada-af91-47de-f6f9-4ed5897f8a87"
   },
   "outputs": [
    {
     "name": "stdout",
     "output_type": "stream",
     "text": [
      "WARNING:tensorflow:Unresolved object in checkpoint: (root).optimizer.iter\n",
      "WARNING:tensorflow:Unresolved object in checkpoint: (root).optimizer.decay\n",
      "WARNING:tensorflow:Unresolved object in checkpoint: (root).optimizer.learning_rate\n",
      "WARNING:tensorflow:Unresolved object in checkpoint: (root).optimizer.momentum\n",
      "WARNING:tensorflow:A checkpoint was restored (e.g. tf.train.Checkpoint.restore or tf.keras.Model.load_weights) but not all checkpointed values were used. See above for specific issues. Use expect_partial() on the load status object, e.g. tf.train.Checkpoint.restore(...).expect_partial(), to silence these warnings, or use assert_consumed() to make the check explicit. See https://www.tensorflow.org/guide/checkpoint#loading_mechanics for details.\n"
     ]
    }
   ],
   "source": [
    "best_model = tuner.get_best_models(num_models=1)[0]"
   ]
  },
  {
   "cell_type": "code",
   "execution_count": null,
   "metadata": {
    "colab": {
     "base_uri": "https://localhost:8080/"
    },
    "id": "salWLINPfXkV",
    "outputId": "c01d2964-b573-4686-8163-b720ff12a36f"
   },
   "outputs": [
    {
     "name": "stdout",
     "output_type": "stream",
     "text": [
      "Model: \"sequential\"\n",
      "_________________________________________________________________\n",
      "Layer (type)                 Output Shape              Param #   \n",
      "=================================================================\n",
      "dense (Dense)                (None, 50)                5650      \n",
      "_________________________________________________________________\n",
      "dense_1 (Dense)              (None, 500)               25500     \n",
      "_________________________________________________________________\n",
      "dense_2 (Dense)              (None, 5)                 2505      \n",
      "=================================================================\n",
      "Total params: 33,655\n",
      "Trainable params: 33,655\n",
      "Non-trainable params: 0\n",
      "_________________________________________________________________\n",
      "None\n"
     ]
    }
   ],
   "source": [
    "print(best_model.summary())"
   ]
  },
  {
   "cell_type": "code",
   "execution_count": null,
   "metadata": {
    "colab": {
     "base_uri": "https://localhost:8080/"
    },
    "id": "q7dvs11ufs0V",
    "outputId": "cbb0fa68-0b37-4e65-e315-651a3861ac4c"
   },
   "outputs": [
    {
     "data": {
      "text/plain": [
       "<tf.Variable 'learning_rate:0' shape=() dtype=float32, numpy=0.1>"
      ]
     },
     "execution_count": 767,
     "metadata": {
      "tags": []
     },
     "output_type": "execute_result"
    }
   ],
   "source": [
    "best_model.fit()"
   ]
  },
  {
   "cell_type": "code",
   "execution_count": null,
   "metadata": {
    "colab": {
     "background_save": true,
     "base_uri": "https://localhost:8080/"
    },
    "id": "L7Xq3pjy6f1W",
    "outputId": "1251709a-7bd7-4e74-8f63-82cf9b518e1e"
   },
   "outputs": [
    {
     "name": "stdout",
     "output_type": "stream",
     "text": [
      "Iteration 1, loss = 2.94802144\n",
      "Iteration 2, loss = 2.75704406\n",
      "Iteration 3, loss = 2.73531889\n",
      "Iteration 4, loss = 2.72236389\n",
      "Iteration 5, loss = 2.71254358\n",
      "Iteration 6, loss = 2.70466316\n",
      "Iteration 7, loss = 2.69819206\n"
     ]
    }
   ],
   "source": [
    "#rom sklearn.metrics import fbeta_score\n",
    "#from sklearn.metrics import f1_score\n",
    "from sklearn.metrics import accuracy_score\n",
    "\n",
    "\n",
    "test_res = np.zeros(shape=(10,5))\n",
    "training_res = np.zeros(shape=(10,5))\n",
    "\n",
    "\n",
    "for train_index, val_index in folds:\n",
    "    y_cv_train = y_train_ohe[train_index]\n",
    "    X_cv_train = X_train.iloc[train_index]\n",
    "    y_cv_val = y_train_ohe[val_index]\n",
    "    X_cv_val = X_train.iloc[val_index]\n",
    "\n",
    "    scaler = StandardScaler()\n",
    "    scaler.fit(X_cv_train)\n",
    "    X_cv_train = scaler.transform(X_cv_train)\n",
    "    X_cv_val = scaler.transform(X_cv_val)\n",
    "    #best_model = tuner.get_best_models(num_models=1)[0]\n",
    "    #best_model.fit(X_cv_train,y_cv_train,epochs=100, batch_size=100, validation_data=(X_cv_val,y_cv_val))\n",
    "    model = MLPClassifier(solver='adam', alpha=0.0001, hidden_layer_sizes=(100,100,100,100), verbose=1, max_iter=10, batch_size=100, learning_rate='adaptive', activation='relu',learning_rate_init=0.0001)\n",
    "    model.fit(X_cv_train,y_cv_train)\n",
    "    Train_pred = model.predict(X_cv_train)\n",
    "\n",
    "    highscore = 0\n",
    "    best_thr = 0\n",
    "    score_temp = 0\n",
    "    for i in range(100):\n",
    "        k= i*0.01*np.ones(5)\n",
    "        score_temp = metrics.compute_accuracy(y_cv_train, Train_pred>k)\n",
    "        if score_temp > highscore:\n",
    "            highscore = score_temp\n",
    "            best_thr = k\n",
    "    print(\"best threshold:\", best_thr)\n",
    "    best_thr = optimize.fmin(thr_acc_metrics, args=(y_cv_train,Train_pred), x0=best_thr)\n",
    "    print(\"best threshold:\", best_thr)\n",
    "\n",
    "    Val_pred = model.predict(X_cv_val)\n",
    "    Val_pred = (Val_pred > best_thr) * 1\n",
    "    print(\"Accuracy validation data:\",metrics.compute_accuracy(y_cv_val, Val_pred))\n",
    "    X_test_scaled = scaler.transform(X_test)\n",
    "    Test_pred = model.predict(X_test_scaled)\n",
    "    Test_pred = (Test_pred > best_thr) * 1\n",
    "    print(\"Accuracy test data:\",metrics.compute_accuracy(y_test_ohe, Test_pred))\n",
    "\n"
   ]
  },
  {
   "cell_type": "code",
   "execution_count": null,
   "metadata": {
    "colab": {
     "base_uri": "https://localhost:8080/"
    },
    "id": "qztwUc4IXBQT",
    "outputId": "ca90cb62-2078-43d7-c550-cdc2adfbb323"
   },
   "outputs": [
    {
     "name": "stdout",
     "output_type": "stream",
     "text": [
      "Epoch 1/36\n",
      "653/653 [==============================] - 2s 2ms/step - loss: 0.5770 - accuracy: 0.3988 - auc: 0.5928 - val_loss: 0.5497 - val_accuracy: 0.4163 - val_auc: 0.6340\n",
      "Epoch 2/36\n",
      "653/653 [==============================] - 1s 2ms/step - loss: 0.5477 - accuracy: 0.4173 - auc: 0.6323 - val_loss: 0.5423 - val_accuracy: 0.4163 - val_auc: 0.6535\n",
      "Epoch 3/36\n",
      "653/653 [==============================] - 1s 2ms/step - loss: 0.5453 - accuracy: 0.4173 - auc: 0.6349 - val_loss: 0.5392 - val_accuracy: 0.4163 - val_auc: 0.6598\n",
      "Epoch 4/36\n",
      "653/653 [==============================] - 1s 2ms/step - loss: 0.5440 - accuracy: 0.4173 - auc: 0.6365 - val_loss: 0.5373 - val_accuracy: 0.4163 - val_auc: 0.6678\n",
      "Epoch 5/36\n",
      "653/653 [==============================] - 1s 2ms/step - loss: 0.5431 - accuracy: 0.4172 - auc: 0.6383 - val_loss: 0.5358 - val_accuracy: 0.4163 - val_auc: 0.6723\n",
      "Epoch 6/36\n",
      "653/653 [==============================] - 1s 2ms/step - loss: 0.5424 - accuracy: 0.4171 - auc: 0.6394 - val_loss: 0.5347 - val_accuracy: 0.4163 - val_auc: 0.6756\n",
      "Epoch 7/36\n",
      "653/653 [==============================] - 1s 2ms/step - loss: 0.5419 - accuracy: 0.4172 - auc: 0.6406 - val_loss: 0.5337 - val_accuracy: 0.4163 - val_auc: 0.6796\n",
      "Epoch 8/36\n",
      "653/653 [==============================] - 1s 2ms/step - loss: 0.5414 - accuracy: 0.4173 - auc: 0.6415 - val_loss: 0.5331 - val_accuracy: 0.4163 - val_auc: 0.6811\n",
      "Epoch 9/36\n",
      "653/653 [==============================] - 1s 2ms/step - loss: 0.5410 - accuracy: 0.4170 - auc: 0.6428 - val_loss: 0.5327 - val_accuracy: 0.4163 - val_auc: 0.6841\n",
      "Epoch 10/36\n",
      "653/653 [==============================] - 1s 2ms/step - loss: 0.5407 - accuracy: 0.4173 - auc: 0.6433 - val_loss: 0.5320 - val_accuracy: 0.4163 - val_auc: 0.6870\n",
      "Epoch 11/36\n",
      "653/653 [==============================] - 1s 2ms/step - loss: 0.5404 - accuracy: 0.4173 - auc: 0.6447 - val_loss: 0.5314 - val_accuracy: 0.4163 - val_auc: 0.6887\n",
      "Epoch 12/36\n",
      "653/653 [==============================] - 1s 2ms/step - loss: 0.5402 - accuracy: 0.4173 - auc: 0.6455 - val_loss: 0.5307 - val_accuracy: 0.4163 - val_auc: 0.6923\n",
      "Epoch 13/36\n",
      "653/653 [==============================] - 1s 2ms/step - loss: 0.5400 - accuracy: 0.4177 - auc: 0.6461 - val_loss: 0.5313 - val_accuracy: 0.4163 - val_auc: 0.6885\n",
      "Epoch 14/36\n",
      "653/653 [==============================] - 1s 2ms/step - loss: 0.5398 - accuracy: 0.4175 - auc: 0.6469 - val_loss: 0.5304 - val_accuracy: 0.4163 - val_auc: 0.6925\n",
      "Epoch 15/36\n",
      "653/653 [==============================] - 1s 2ms/step - loss: 0.5396 - accuracy: 0.4176 - auc: 0.6477 - val_loss: 0.5299 - val_accuracy: 0.4163 - val_auc: 0.6944\n",
      "Epoch 16/36\n",
      "653/653 [==============================] - 1s 2ms/step - loss: 0.5394 - accuracy: 0.4176 - auc: 0.6481 - val_loss: 0.5301 - val_accuracy: 0.4163 - val_auc: 0.6938\n",
      "Epoch 17/36\n",
      "653/653 [==============================] - 1s 2ms/step - loss: 0.5392 - accuracy: 0.4174 - auc: 0.6492 - val_loss: 0.5299 - val_accuracy: 0.4163 - val_auc: 0.6896\n",
      "Epoch 18/36\n",
      "653/653 [==============================] - 1s 2ms/step - loss: 0.5391 - accuracy: 0.4176 - auc: 0.6494 - val_loss: 0.5293 - val_accuracy: 0.4163 - val_auc: 0.6977\n",
      "Epoch 19/36\n",
      "653/653 [==============================] - 1s 2ms/step - loss: 0.5389 - accuracy: 0.4177 - auc: 0.6502 - val_loss: 0.5293 - val_accuracy: 0.4163 - val_auc: 0.6941\n",
      "Epoch 20/36\n",
      "653/653 [==============================] - 1s 2ms/step - loss: 0.5388 - accuracy: 0.4176 - auc: 0.6506 - val_loss: 0.5292 - val_accuracy: 0.4163 - val_auc: 0.6950\n",
      "Epoch 21/36\n",
      "653/653 [==============================] - 1s 2ms/step - loss: 0.5387 - accuracy: 0.4176 - auc: 0.6511 - val_loss: 0.5287 - val_accuracy: 0.4163 - val_auc: 0.6969\n",
      "Epoch 22/36\n",
      "653/653 [==============================] - 1s 2ms/step - loss: 0.5385 - accuracy: 0.4176 - auc: 0.6519 - val_loss: 0.5283 - val_accuracy: 0.4172 - val_auc: 0.6969\n",
      "Epoch 23/36\n",
      "653/653 [==============================] - 1s 2ms/step - loss: 0.5383 - accuracy: 0.4176 - auc: 0.6525 - val_loss: 0.5281 - val_accuracy: 0.4163 - val_auc: 0.6973\n",
      "Epoch 24/36\n",
      "653/653 [==============================] - 1s 2ms/step - loss: 0.5382 - accuracy: 0.4177 - auc: 0.6530 - val_loss: 0.5274 - val_accuracy: 0.4172 - val_auc: 0.6989\n",
      "Epoch 25/36\n",
      "653/653 [==============================] - 1s 2ms/step - loss: 0.5381 - accuracy: 0.4179 - auc: 0.6533 - val_loss: 0.5277 - val_accuracy: 0.4163 - val_auc: 0.6983\n",
      "Epoch 26/36\n",
      "653/653 [==============================] - 1s 2ms/step - loss: 0.5379 - accuracy: 0.4179 - auc: 0.6540 - val_loss: 0.5273 - val_accuracy: 0.4163 - val_auc: 0.6988\n",
      "Epoch 27/36\n",
      "653/653 [==============================] - 1s 2ms/step - loss: 0.5378 - accuracy: 0.4180 - auc: 0.6543 - val_loss: 0.5280 - val_accuracy: 0.4167 - val_auc: 0.6965\n",
      "Epoch 28/36\n",
      "653/653 [==============================] - 1s 2ms/step - loss: 0.5377 - accuracy: 0.4180 - auc: 0.6551 - val_loss: 0.5283 - val_accuracy: 0.4163 - val_auc: 0.6933\n",
      "Epoch 29/36\n",
      "653/653 [==============================] - 1s 2ms/step - loss: 0.5375 - accuracy: 0.4180 - auc: 0.6557 - val_loss: 0.5267 - val_accuracy: 0.4181 - val_auc: 0.6973\n",
      "Epoch 30/36\n",
      "653/653 [==============================] - 1s 2ms/step - loss: 0.5373 - accuracy: 0.4182 - auc: 0.6559 - val_loss: 0.5268 - val_accuracy: 0.4167 - val_auc: 0.7001\n",
      "Epoch 31/36\n",
      "653/653 [==============================] - 1s 2ms/step - loss: 0.5372 - accuracy: 0.4180 - auc: 0.6567 - val_loss: 0.5268 - val_accuracy: 0.4176 - val_auc: 0.6979\n",
      "Epoch 32/36\n",
      "653/653 [==============================] - 1s 2ms/step - loss: 0.5370 - accuracy: 0.4187 - auc: 0.6573 - val_loss: 0.5262 - val_accuracy: 0.4190 - val_auc: 0.6956\n",
      "Epoch 33/36\n",
      "653/653 [==============================] - 1s 2ms/step - loss: 0.5368 - accuracy: 0.4182 - auc: 0.6575 - val_loss: 0.5270 - val_accuracy: 0.4185 - val_auc: 0.6976\n",
      "Epoch 34/36\n",
      "653/653 [==============================] - 1s 2ms/step - loss: 0.5367 - accuracy: 0.4187 - auc: 0.6584 - val_loss: 0.5255 - val_accuracy: 0.4181 - val_auc: 0.6982\n",
      "Epoch 35/36\n",
      "653/653 [==============================] - 1s 2ms/step - loss: 0.5365 - accuracy: 0.4184 - auc: 0.6584 - val_loss: 0.5263 - val_accuracy: 0.4181 - val_auc: 0.6995\n",
      "Epoch 36/36\n",
      "653/653 [==============================] - 1s 2ms/step - loss: 0.5363 - accuracy: 0.4191 - auc: 0.6592 - val_loss: 0.5264 - val_accuracy: 0.4181 - val_auc: 0.6964\n"
     ]
    },
    {
     "data": {
      "text/plain": [
       "<tensorflow.python.keras.callbacks.History at 0x7fc39e541cf8>"
      ]
     },
     "execution_count": 575,
     "metadata": {
      "tags": []
     },
     "output_type": "execute_result"
    }
   ],
   "source": [
    "model = mlp_clf(112,5)\n",
    "scaler = StandardScaler()\n",
    "scaler.fit(X_train)\n",
    "X_train_scaled = scaler.transform(X_train)\n",
    "#model = MLPClassifier(solver='adam', alpha=0.0001, hidden_layer_sizes=(100,100,100,100), verbose=1, max_iter=10, batch_size=30, learning_rate='adaptive', activation='relu',learning_rate_init=0.0001)\n",
    "#model.fit(X_train_scaled,y_train_ohe)\n",
    "model.fit(X_train_scaled,y_train_ohe,epochs=36, batch_size=30, validation_data=(X_test_scaled,y_test_ohe))"
   ]
  },
  {
   "cell_type": "code",
   "execution_count": null,
   "metadata": {
    "colab": {
     "base_uri": "https://localhost:8080/"
    },
    "id": "_RqIevZjXVG3",
    "outputId": "615a9471-2b51-4d25-c9eb-91223c3b0ab2"
   },
   "outputs": [
    {
     "name": "stdout",
     "output_type": "stream",
     "text": [
      "best threshold: [0.33 0.33 0.33 0.33 0.33]\n",
      "Optimization terminated successfully.\n",
      "         Current function value: -0.416173\n",
      "         Iterations: 32\n",
      "         Function evaluations: 99\n",
      "best threshold: [0.36294259 0.32424667 0.389395   0.22155697 0.37779083]\n"
     ]
    }
   ],
   "source": [
    "y_train_pred = model.predict(X_train_scaled)\n",
    "highscore = 0\n",
    "best_thr = 0\n",
    "score_temp = 0\n",
    "k=0\n",
    "for i in range(100):\n",
    "  k= i*0.01*np.ones(5)\n",
    "  score_temp = compute_accuracy(y_train_ohe, y_train_pred>k)\n",
    "  if score_temp > highscore:\n",
    "    highscore = score_temp\n",
    "    best_thr = k\n",
    "print(\"best threshold:\", best_thr)\n",
    "new_best_thr = optimize.fmin(thr_acc_metrics, args=(y_train_ohe,y_train_pred), x0=best_thr)\n",
    "print(\"best threshold:\", new_best_thr)"
   ]
  },
  {
   "cell_type": "code",
   "execution_count": null,
   "metadata": {
    "id": "Hkfs023DXAUV"
   },
   "outputs": [],
   "source": [
    "X_test_scaled = scaler.transform(X_test)\n",
    "y_pred = model.predict(X_test_scaled)\n",
    "y_pred = (y_pred>best_thr)*1"
   ]
  },
  {
   "cell_type": "code",
   "execution_count": null,
   "metadata": {
    "colab": {
     "base_uri": "https://localhost:8080/"
    },
    "id": "dZM5LsmGdkAX",
    "outputId": "10591d47-2ee2-44cc-d93e-a19a2c7326d2"
   },
   "outputs": [
    {
     "data": {
      "text/plain": [
       "0.4148887880163413"
      ]
     },
     "execution_count": 578,
     "metadata": {
      "tags": []
     },
     "output_type": "execute_result"
    }
   ],
   "source": [
    "compute_accuracy(y_test_ohe,y_pred)"
   ]
  },
  {
   "cell_type": "code",
   "execution_count": null,
   "metadata": {
    "id": "Ekp0x0xrWhI6"
   },
   "outputs": [],
   "source": [
    "def compute_modified_confusion_matrix_nonorm(labels, outputs):\n",
    "    # Compute a binary multi-class, multi-label confusion matrix, where the rows\n",
    "    # are the labels and the columns are the outputs.\n",
    "    num_recordings, num_classes = np.shape(labels)\n",
    "    A = np.zeros((num_classes, num_classes))\n",
    "\n",
    "    # Iterate over all of the recordings.\n",
    "    for i in range(num_recordings):\n",
    "        # Calculate the number of positive labels and/or outputs.\n",
    "        #####normalization = float(max(np.sum(np.any((labels[i, :], outputs[i, :]), axis=0)), 1))\n",
    "        # Iterate over all of the classes.\n",
    "        for j in range(num_classes):\n",
    "            # Assign full and/or partial credit for each positive class.\n",
    "            if labels[i, j]:\n",
    "                for k in range(num_classes):\n",
    "                    if outputs[i, k]:\n",
    "                        A[j, k] += 1.0#/normalization\n",
    "\n",
    "    return A"
   ]
  },
  {
   "cell_type": "code",
   "execution_count": null,
   "metadata": {
    "id": "GPRhQVcuYc5e"
   },
   "outputs": [],
   "source": [
    "conf_matrix = compute_modified_confusion_matrix_nonorm(y_test_ohe,y_pred)"
   ]
  },
  {
   "cell_type": "code",
   "execution_count": null,
   "metadata": {
    "id": "xu86xMSIcpb-"
   },
   "outputs": [],
   "source": [
    "conf_matrix_df = pd.DataFrame(conf_matrix)"
   ]
  },
  {
   "cell_type": "code",
   "execution_count": null,
   "metadata": {
    "id": "y8ije__LdP-H"
   },
   "outputs": [],
   "source": [
    "conf_matrix_df.index = one_hot.classes_[1:]\n",
    "conf_matrix_df.columns = one_hot.classes_[1:]"
   ]
  },
  {
   "cell_type": "code",
   "execution_count": null,
   "metadata": {
    "colab": {
     "base_uri": "https://localhost:8080/",
     "height": 1000
    },
    "id": "-17GvKc1aId4",
    "outputId": "cc0e2329-ba6d-4555-d047-043b26021836"
   },
   "outputs": [
    {
     "data": {
      "image/png": "[encoded data removed]",
      "text/plain": [
       "<Figure size 1440x1440 with 1 Axes>"
      ]
     },
     "metadata": {
      "tags": []
     },
     "output_type": "display_data"
    }
   ],
   "source": [
    "import seaborn as sns\n",
    "plt.figure(figsize = (20,20))\n",
    "sns.set(font_scale=1.4)#for label size\n",
    "sns.heatmap(conf_matrix_df, cmap=\"rocket_r\", annot=True,annot_kws={\"size\": 20}, fmt=\".2f\", cbar=False)\n",
    "plt.title(\"Predict MNIST data using own Neural Network\", fontsize = 40, color= \"black\")\n",
    "plt.xlabel(\"y predicted\",fontsize=30, color= \"black\")\n",
    "plt.ylabel(\"y true\",fontsize = 30, color= \"black\")\n",
    "plt.yticks(fontsize=30, rotation=0, color= \"black\")\n",
    "plt.xticks(fontsize=30, rotation=0, color= \"black\")\n",
    "#plt.savefig(\"Results/MNIST_confMatrix_ownNN.png\",dpi=100)\n",
    "plt.show()"
   ]
  },
  {
   "cell_type": "code",
   "execution_count": null,
   "metadata": {
    "id": "FiYupdS4j8Df"
   },
   "outputs": [],
   "source": []
  }
 ],
 "metadata": {
  "colab": {
   "collapsed_sections": [],
   "machine_shape": "hm",
   "name": "PTB-XL NeuralNetwork",
   "provenance": []
  },
  "kernelspec": {
   "display_name": "Python 3",
   "language": "python",
   "name": "python3"
  },
  "language_info": {
   "codemirror_mode": {
    "name": "ipython",
    "version": 3
   },
   "file_extension": ".py",
   "mimetype": "text/x-python",
   "name": "python",
   "nbconvert_exporter": "python",
   "pygments_lexer": "ipython3",
   "version": "3.7.7"
  }
 },
 "nbformat": 4,
 "nbformat_minor": 1
}
