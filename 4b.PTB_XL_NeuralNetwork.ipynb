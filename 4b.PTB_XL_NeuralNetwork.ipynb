{
  "nbformat": 4,
  "nbformat_minor": 0,
  "metadata": {
    "colab": {
      "name": "PTB-XL NeuralNetwork",
      "provenance": [],
      "collapsed_sections": [],
      "machine_shape": "hm"
    },
    "kernelspec": {
      "display_name": "Python 3",
      "name": "python3"
    }
  },
  "cells": [
    {
      "cell_type": "code",
      "metadata": {
        "id": "GchOCS1E2JJK"
      },
      "source": [
        "import warnings\n",
        "warnings.filterwarnings(\"ignore\")\n",
        "from sklearn import preprocessing\n",
        "import pandas as pd\n",
        "import numpy as np\n",
        "import matplotlib.pyplot as plt\n",
        "from prettytable import PrettyTable\n",
        "from sklearn.linear_model import SGDRegressor\n",
        "from sklearn.metrics import mean_squared_error\n",
        "from numpy import random\n",
        "from sklearn.model_selection import train_test_split\n",
        "import os\n",
        "from matplotlib import cm\n",
        "from matplotlib.ticker import LinearLocator, FormatStrFormatter\n",
        "from sklearn.preprocessing import StandardScaler\n",
        "from sklearn.utils import resample\n",
        "from sklearn.metrics import r2_score\n",
        "from random import seed\n",
        "from random import randrange\n",
        "import timeit\n",
        "import tensorflow as tf"
      ],
      "execution_count": 1,
      "outputs": []
    },
    {
      "cell_type": "code",
      "metadata": {
        "id": "CPkrHhSK3hsD",
        "outputId": "cfaeb589-41d5-449b-8d15-4a9c94c0cdd0",
        "colab": {
          "base_uri": "https://localhost:8080/"
        }
      },
      "source": [
        "from google.colab import drive\n",
        "drive.mount('/content/drive')\n"
      ],
      "execution_count": 2,
      "outputs": [
        {
          "output_type": "stream",
          "text": [
            "Mounted at /content/drive\n"
          ],
          "name": "stdout"
        }
      ]
    },
    {
      "cell_type": "code",
      "metadata": {
        "id": "QvowcUrvdDD0"
      },
      "source": [
        "train_data = pd.read_csv('/content/drive/My Drive/logs/train_data_ptb.csv')"
      ],
      "execution_count": 3,
      "outputs": []
    },
    {
      "cell_type": "code",
      "metadata": {
        "id": "U4B4ElLcI3kq"
      },
      "source": [
        "test_data = pd.read_csv('/content/drive/My Drive/logs/test_data_ptb.csv')"
      ],
      "execution_count": 4,
      "outputs": []
    },
    {
      "cell_type": "code",
      "metadata": {
        "id": "12pe6rFW_byh",
        "outputId": "b8819c46-ac25-4f01-840e-b76938a6c4b0",
        "colab": {
          "base_uri": "https://localhost:8080/",
          "height": 507
        }
      },
      "source": [
        "train_data"
      ],
      "execution_count": 5,
      "outputs": [
        {
          "output_type": "execute_result",
          "data": {
            "text/html": [
              "<div>\n",
              "<style scoped>\n",
              "    .dataframe tbody tr th:only-of-type {\n",
              "        vertical-align: middle;\n",
              "    }\n",
              "\n",
              "    .dataframe tbody tr th {\n",
              "        vertical-align: top;\n",
              "    }\n",
              "\n",
              "    .dataframe thead th {\n",
              "        text-align: right;\n",
              "    }\n",
              "</style>\n",
              "<table border=\"1\" class=\"dataframe\">\n",
              "  <thead>\n",
              "    <tr style=\"text-align: right;\">\n",
              "      <th></th>\n",
              "      <th>Unnamed: 0</th>\n",
              "      <th>gender</th>\n",
              "      <th>age</th>\n",
              "      <th>R HR STD</th>\n",
              "      <th>R HR median</th>\n",
              "      <th>R HR min</th>\n",
              "      <th>R HR max</th>\n",
              "      <th>R HR mean</th>\n",
              "      <th>RMSSD</th>\n",
              "      <th>R amp II std</th>\n",
              "      <th>R amp II min</th>\n",
              "      <th>R amp II min_2</th>\n",
              "      <th>R amp leads I</th>\n",
              "      <th>R amp leads II</th>\n",
              "      <th>R amp lead III</th>\n",
              "      <th>R amp lead aVR</th>\n",
              "      <th>R amp lead aVL</th>\n",
              "      <th>R amp lead aVF</th>\n",
              "      <th>R amp V1</th>\n",
              "      <th>R amp V2</th>\n",
              "      <th>R amp V3</th>\n",
              "      <th>R amp V4</th>\n",
              "      <th>R amp V5</th>\n",
              "      <th>R amp V6</th>\n",
              "      <th>p_offset_std</th>\n",
              "      <th>p_offset_median</th>\n",
              "      <th>p_offset_min</th>\n",
              "      <th>p_offset_max</th>\n",
              "      <th>mean_p_offset</th>\n",
              "      <th>p_onsets_std</th>\n",
              "      <th>p_onsets_median</th>\n",
              "      <th>p_onsets_min</th>\n",
              "      <th>p_onsets_max</th>\n",
              "      <th>mean_p_onsets</th>\n",
              "      <th>ECG_baseline</th>\n",
              "      <th>p_rate_std</th>\n",
              "      <th>p_rate_median</th>\n",
              "      <th>p_rate_min</th>\n",
              "      <th>p_rate_max</th>\n",
              "      <th>mean_p_rate</th>\n",
              "      <th>...</th>\n",
              "      <th>S amp leads I</th>\n",
              "      <th>S amp leads II</th>\n",
              "      <th>S amp lead III</th>\n",
              "      <th>S amp lead aVR</th>\n",
              "      <th>S amp lead aVL</th>\n",
              "      <th>S amp lead aVF</th>\n",
              "      <th>S amp V1</th>\n",
              "      <th>S amp V2</th>\n",
              "      <th>S amp V3</th>\n",
              "      <th>S amp V4</th>\n",
              "      <th>S amp V5</th>\n",
              "      <th>S amp V6</th>\n",
              "      <th>t_rate_std</th>\n",
              "      <th>t_rate_median</th>\n",
              "      <th>t_rate_min</th>\n",
              "      <th>t_rate_max</th>\n",
              "      <th>mean_t_rate</th>\n",
              "      <th>T amp leads I</th>\n",
              "      <th>T amp leads II</th>\n",
              "      <th>T amp lead III</th>\n",
              "      <th>T amp lead aVR</th>\n",
              "      <th>T amp lead aVL</th>\n",
              "      <th>T amp lead aVF</th>\n",
              "      <th>T amp V1</th>\n",
              "      <th>T amp V2</th>\n",
              "      <th>T amp V3</th>\n",
              "      <th>T amp V4</th>\n",
              "      <th>T amp V5</th>\n",
              "      <th>T amp V6</th>\n",
              "      <th>t_offset_std</th>\n",
              "      <th>t_offset_median</th>\n",
              "      <th>t_offset_min</th>\n",
              "      <th>t_offset_max</th>\n",
              "      <th>mean_t_offset</th>\n",
              "      <th>t_onsets_std</th>\n",
              "      <th>t_onsets_median</th>\n",
              "      <th>t_onsets_min</th>\n",
              "      <th>t_onsets_max</th>\n",
              "      <th>mean_t_onsets</th>\n",
              "      <th>Labels</th>\n",
              "    </tr>\n",
              "  </thead>\n",
              "  <tbody>\n",
              "    <tr>\n",
              "      <th>0</th>\n",
              "      <td>0</td>\n",
              "      <td>2.0</td>\n",
              "      <td>-1.0</td>\n",
              "      <td>35.022173</td>\n",
              "      <td>64.242480</td>\n",
              "      <td>62.240664</td>\n",
              "      <td>178.571429</td>\n",
              "      <td>78.968869</td>\n",
              "      <td>7462.634770</td>\n",
              "      <td>0.098937</td>\n",
              "      <td>0.125</td>\n",
              "      <td>0.125</td>\n",
              "      <td>0.578000</td>\n",
              "      <td>0.390364</td>\n",
              "      <td>-0.187636</td>\n",
              "      <td>-0.484000</td>\n",
              "      <td>0.382636</td>\n",
              "      <td>0.101000</td>\n",
              "      <td>-0.329091</td>\n",
              "      <td>-0.155727</td>\n",
              "      <td>0.325091</td>\n",
              "      <td>0.450818</td>\n",
              "      <td>0.495182</td>\n",
              "      <td>0.411000</td>\n",
              "      <td>147.375751</td>\n",
              "      <td>63.626795</td>\n",
              "      <td>57.034221</td>\n",
              "      <td>555.555556</td>\n",
              "      <td>113.872955</td>\n",
              "      <td>89.047138</td>\n",
              "      <td>64.174720</td>\n",
              "      <td>59.171598</td>\n",
              "      <td>361.445783</td>\n",
              "      <td>95.002390</td>\n",
              "      <td>-0.025364</td>\n",
              "      <td>144.267983</td>\n",
              "      <td>63.560463</td>\n",
              "      <td>58.479532</td>\n",
              "      <td>545.454545</td>\n",
              "      <td>113.038421</td>\n",
              "      <td>...</td>\n",
              "      <td>-0.044091</td>\n",
              "      <td>-0.061636</td>\n",
              "      <td>-0.017636</td>\n",
              "      <td>0.052909</td>\n",
              "      <td>-0.013091</td>\n",
              "      <td>-0.039636</td>\n",
              "      <td>-0.180273</td>\n",
              "      <td>-0.342909</td>\n",
              "      <td>-0.205091</td>\n",
              "      <td>-0.140182</td>\n",
              "      <td>-0.043909</td>\n",
              "      <td>0.066545</td>\n",
              "      <td>59.761749</td>\n",
              "      <td>64.936282</td>\n",
              "      <td>62.370062</td>\n",
              "      <td>265.486726</td>\n",
              "      <td>87.351414</td>\n",
              "      <td>0.132909</td>\n",
              "      <td>0.159364</td>\n",
              "      <td>0.026455</td>\n",
              "      <td>-0.146364</td>\n",
              "      <td>0.052909</td>\n",
              "      <td>0.092818</td>\n",
              "      <td>0.070455</td>\n",
              "      <td>0.210636</td>\n",
              "      <td>0.139091</td>\n",
              "      <td>0.140455</td>\n",
              "      <td>0.145818</td>\n",
              "      <td>0.137727</td>\n",
              "      <td>66.537396</td>\n",
              "      <td>65.865579</td>\n",
              "      <td>61.855670</td>\n",
              "      <td>288.461538</td>\n",
              "      <td>89.609104</td>\n",
              "      <td>61.288462</td>\n",
              "      <td>65.077147</td>\n",
              "      <td>60.483871</td>\n",
              "      <td>270.270270</td>\n",
              "      <td>87.847241</td>\n",
              "      <td>['NORM']</td>\n",
              "    </tr>\n",
              "    <tr>\n",
              "      <th>1</th>\n",
              "      <td>1</td>\n",
              "      <td>2.0</td>\n",
              "      <td>-1.0</td>\n",
              "      <td>23.360239</td>\n",
              "      <td>50.726668</td>\n",
              "      <td>43.795620</td>\n",
              "      <td>116.731518</td>\n",
              "      <td>60.291780</td>\n",
              "      <td>4180.799504</td>\n",
              "      <td>0.522686</td>\n",
              "      <td>0.119</td>\n",
              "      <td>0.119</td>\n",
              "      <td>0.439333</td>\n",
              "      <td>1.065778</td>\n",
              "      <td>0.626333</td>\n",
              "      <td>-0.752778</td>\n",
              "      <td>-0.093889</td>\n",
              "      <td>0.845667</td>\n",
              "      <td>-1.255778</td>\n",
              "      <td>-2.350111</td>\n",
              "      <td>-1.414333</td>\n",
              "      <td>1.577778</td>\n",
              "      <td>1.404889</td>\n",
              "      <td>1.091667</td>\n",
              "      <td>18.936710</td>\n",
              "      <td>51.457976</td>\n",
              "      <td>44.776119</td>\n",
              "      <td>92.592593</td>\n",
              "      <td>59.821273</td>\n",
              "      <td>21.843615</td>\n",
              "      <td>50.167224</td>\n",
              "      <td>43.478261</td>\n",
              "      <td>103.092784</td>\n",
              "      <td>60.782777</td>\n",
              "      <td>-0.013125</td>\n",
              "      <td>20.829736</td>\n",
              "      <td>49.504950</td>\n",
              "      <td>43.541364</td>\n",
              "      <td>97.402597</td>\n",
              "      <td>60.615808</td>\n",
              "      <td>...</td>\n",
              "      <td>-0.128333</td>\n",
              "      <td>-0.090444</td>\n",
              "      <td>0.037778</td>\n",
              "      <td>0.109444</td>\n",
              "      <td>-0.083000</td>\n",
              "      <td>-0.026222</td>\n",
              "      <td>-0.335778</td>\n",
              "      <td>-0.619444</td>\n",
              "      <td>-0.658444</td>\n",
              "      <td>-0.438444</td>\n",
              "      <td>-0.176222</td>\n",
              "      <td>-0.060333</td>\n",
              "      <td>20.862022</td>\n",
              "      <td>50.505051</td>\n",
              "      <td>43.923865</td>\n",
              "      <td>99.667774</td>\n",
              "      <td>60.616709</td>\n",
              "      <td>0.339125</td>\n",
              "      <td>0.327875</td>\n",
              "      <td>-0.011250</td>\n",
              "      <td>-0.333375</td>\n",
              "      <td>0.175000</td>\n",
              "      <td>0.158125</td>\n",
              "      <td>-0.195375</td>\n",
              "      <td>0.600125</td>\n",
              "      <td>0.651125</td>\n",
              "      <td>0.469750</td>\n",
              "      <td>0.373500</td>\n",
              "      <td>0.295375</td>\n",
              "      <td>20.519107</td>\n",
              "      <td>50.251256</td>\n",
              "      <td>43.352601</td>\n",
              "      <td>97.719870</td>\n",
              "      <td>60.381687</td>\n",
              "      <td>21.792238</td>\n",
              "      <td>48.701299</td>\n",
              "      <td>41.551247</td>\n",
              "      <td>97.719870</td>\n",
              "      <td>60.685624</td>\n",
              "      <td>['NORM']</td>\n",
              "    </tr>\n",
              "    <tr>\n",
              "      <th>2</th>\n",
              "      <td>2</td>\n",
              "      <td>2.0</td>\n",
              "      <td>-1.0</td>\n",
              "      <td>27.444595</td>\n",
              "      <td>64.308756</td>\n",
              "      <td>61.475410</td>\n",
              "      <td>138.888889</td>\n",
              "      <td>77.215155</td>\n",
              "      <td>6715.386001</td>\n",
              "      <td>0.260972</td>\n",
              "      <td>-0.129</td>\n",
              "      <td>-0.129</td>\n",
              "      <td>0.739000</td>\n",
              "      <td>0.622545</td>\n",
              "      <td>-0.116364</td>\n",
              "      <td>-0.680545</td>\n",
              "      <td>0.427455</td>\n",
              "      <td>0.253000</td>\n",
              "      <td>-0.464182</td>\n",
              "      <td>-0.295455</td>\n",
              "      <td>0.697273</td>\n",
              "      <td>0.904091</td>\n",
              "      <td>0.731727</td>\n",
              "      <td>0.615909</td>\n",
              "      <td>39.352330</td>\n",
              "      <td>62.827294</td>\n",
              "      <td>57.915058</td>\n",
              "      <td>187.500000</td>\n",
              "      <td>81.766103</td>\n",
              "      <td>37.246120</td>\n",
              "      <td>63.230134</td>\n",
              "      <td>58.479532</td>\n",
              "      <td>171.428571</td>\n",
              "      <td>81.025344</td>\n",
              "      <td>-0.028000</td>\n",
              "      <td>31.974935</td>\n",
              "      <td>63.164894</td>\n",
              "      <td>60.000000</td>\n",
              "      <td>147.058824</td>\n",
              "      <td>79.442134</td>\n",
              "      <td>...</td>\n",
              "      <td>-0.076091</td>\n",
              "      <td>-0.081000</td>\n",
              "      <td>-0.004727</td>\n",
              "      <td>0.078455</td>\n",
              "      <td>-0.035545</td>\n",
              "      <td>-0.042818</td>\n",
              "      <td>-0.010273</td>\n",
              "      <td>-0.029364</td>\n",
              "      <td>-0.120091</td>\n",
              "      <td>-0.078182</td>\n",
              "      <td>-0.045455</td>\n",
              "      <td>-0.022000</td>\n",
              "      <td>41.800335</td>\n",
              "      <td>64.725597</td>\n",
              "      <td>55.248619</td>\n",
              "      <td>201.342282</td>\n",
              "      <td>80.680656</td>\n",
              "      <td>0.170455</td>\n",
              "      <td>0.137818</td>\n",
              "      <td>-0.032545</td>\n",
              "      <td>-0.154182</td>\n",
              "      <td>0.101091</td>\n",
              "      <td>0.052818</td>\n",
              "      <td>-0.104818</td>\n",
              "      <td>0.072364</td>\n",
              "      <td>0.206545</td>\n",
              "      <td>0.154727</td>\n",
              "      <td>0.135545</td>\n",
              "      <td>0.125909</td>\n",
              "      <td>37.137996</td>\n",
              "      <td>66.080578</td>\n",
              "      <td>51.993068</td>\n",
              "      <td>180.722892</td>\n",
              "      <td>79.872997</td>\n",
              "      <td>48.470414</td>\n",
              "      <td>65.011598</td>\n",
              "      <td>53.475936</td>\n",
              "      <td>223.880597</td>\n",
              "      <td>82.741229</td>\n",
              "      <td>['NORM']</td>\n",
              "    </tr>\n",
              "    <tr>\n",
              "      <th>3</th>\n",
              "      <td>3</td>\n",
              "      <td>2.0</td>\n",
              "      <td>-1.0</td>\n",
              "      <td>3.937792</td>\n",
              "      <td>76.142622</td>\n",
              "      <td>68.649886</td>\n",
              "      <td>83.102493</td>\n",
              "      <td>75.315293</td>\n",
              "      <td>5687.899616</td>\n",
              "      <td>0.411491</td>\n",
              "      <td>0.445</td>\n",
              "      <td>0.445</td>\n",
              "      <td>0.251692</td>\n",
              "      <td>1.398769</td>\n",
              "      <td>1.147231</td>\n",
              "      <td>-0.825462</td>\n",
              "      <td>-0.448077</td>\n",
              "      <td>1.272769</td>\n",
              "      <td>-0.369231</td>\n",
              "      <td>-0.843154</td>\n",
              "      <td>0.438462</td>\n",
              "      <td>2.604538</td>\n",
              "      <td>1.945462</td>\n",
              "      <td>1.414154</td>\n",
              "      <td>9.133375</td>\n",
              "      <td>75.187970</td>\n",
              "      <td>64.655172</td>\n",
              "      <td>98.360656</td>\n",
              "      <td>76.135691</td>\n",
              "      <td>8.118279</td>\n",
              "      <td>74.441687</td>\n",
              "      <td>67.873303</td>\n",
              "      <td>99.009901</td>\n",
              "      <td>75.675597</td>\n",
              "      <td>-0.093667</td>\n",
              "      <td>9.333440</td>\n",
              "      <td>74.626866</td>\n",
              "      <td>64.935065</td>\n",
              "      <td>102.040816</td>\n",
              "      <td>75.892683</td>\n",
              "      <td>...</td>\n",
              "      <td>-0.312923</td>\n",
              "      <td>-0.325538</td>\n",
              "      <td>-0.012692</td>\n",
              "      <td>0.319231</td>\n",
              "      <td>-0.149846</td>\n",
              "      <td>-0.169077</td>\n",
              "      <td>-0.444769</td>\n",
              "      <td>-0.946385</td>\n",
              "      <td>-1.442692</td>\n",
              "      <td>-1.016308</td>\n",
              "      <td>-0.643538</td>\n",
              "      <td>-0.391692</td>\n",
              "      <td>3.713153</td>\n",
              "      <td>75.187970</td>\n",
              "      <td>68.027211</td>\n",
              "      <td>80.428954</td>\n",
              "      <td>74.695693</td>\n",
              "      <td>0.289000</td>\n",
              "      <td>0.476000</td>\n",
              "      <td>0.187000</td>\n",
              "      <td>-0.382750</td>\n",
              "      <td>0.050750</td>\n",
              "      <td>0.331167</td>\n",
              "      <td>-0.165750</td>\n",
              "      <td>0.549417</td>\n",
              "      <td>0.946250</td>\n",
              "      <td>0.771833</td>\n",
              "      <td>0.576083</td>\n",
              "      <td>0.445250</td>\n",
              "      <td>4.209661</td>\n",
              "      <td>74.074074</td>\n",
              "      <td>69.124424</td>\n",
              "      <td>82.417582</td>\n",
              "      <td>74.724755</td>\n",
              "      <td>3.361471</td>\n",
              "      <td>74.165750</td>\n",
              "      <td>68.181818</td>\n",
              "      <td>78.947368</td>\n",
              "      <td>74.100926</td>\n",
              "      <td>['NORM']</td>\n",
              "    </tr>\n",
              "    <tr>\n",
              "      <th>4</th>\n",
              "      <td>4</td>\n",
              "      <td>2.0</td>\n",
              "      <td>-1.0</td>\n",
              "      <td>3.568312</td>\n",
              "      <td>66.519174</td>\n",
              "      <td>60.975610</td>\n",
              "      <td>72.289157</td>\n",
              "      <td>66.474286</td>\n",
              "      <td>4431.563492</td>\n",
              "      <td>0.127395</td>\n",
              "      <td>0.978</td>\n",
              "      <td>0.978</td>\n",
              "      <td>0.335545</td>\n",
              "      <td>1.249455</td>\n",
              "      <td>0.914000</td>\n",
              "      <td>-0.792727</td>\n",
              "      <td>-0.289545</td>\n",
              "      <td>1.081273</td>\n",
              "      <td>-0.708636</td>\n",
              "      <td>-1.754727</td>\n",
              "      <td>0.686636</td>\n",
              "      <td>1.536818</td>\n",
              "      <td>1.427636</td>\n",
              "      <td>1.230364</td>\n",
              "      <td>4.361567</td>\n",
              "      <td>67.873303</td>\n",
              "      <td>57.692308</td>\n",
              "      <td>71.942446</td>\n",
              "      <td>66.509194</td>\n",
              "      <td>3.873108</td>\n",
              "      <td>67.264574</td>\n",
              "      <td>60.000000</td>\n",
              "      <td>71.599045</td>\n",
              "      <td>66.567541</td>\n",
              "      <td>-0.090500</td>\n",
              "      <td>4.495829</td>\n",
              "      <td>65.934066</td>\n",
              "      <td>58.593750</td>\n",
              "      <td>73.891626</td>\n",
              "      <td>66.726560</td>\n",
              "      <td>...</td>\n",
              "      <td>-0.094364</td>\n",
              "      <td>-0.151455</td>\n",
              "      <td>-0.057091</td>\n",
              "      <td>0.122909</td>\n",
              "      <td>-0.018455</td>\n",
              "      <td>-0.104091</td>\n",
              "      <td>-0.040182</td>\n",
              "      <td>-0.095909</td>\n",
              "      <td>-0.147455</td>\n",
              "      <td>-0.134091</td>\n",
              "      <td>-0.104909</td>\n",
              "      <td>-0.075091</td>\n",
              "      <td>3.699815</td>\n",
              "      <td>65.721278</td>\n",
              "      <td>60.728745</td>\n",
              "      <td>72.115385</td>\n",
              "      <td>66.428960</td>\n",
              "      <td>0.164364</td>\n",
              "      <td>0.340909</td>\n",
              "      <td>0.176636</td>\n",
              "      <td>-0.252909</td>\n",
              "      <td>-0.006545</td>\n",
              "      <td>0.258545</td>\n",
              "      <td>-0.007364</td>\n",
              "      <td>0.378909</td>\n",
              "      <td>0.415091</td>\n",
              "      <td>0.354636</td>\n",
              "      <td>0.295909</td>\n",
              "      <td>0.235636</td>\n",
              "      <td>3.768587</td>\n",
              "      <td>65.288434</td>\n",
              "      <td>60.483871</td>\n",
              "      <td>73.170732</td>\n",
              "      <td>66.478167</td>\n",
              "      <td>3.622490</td>\n",
              "      <td>65.502183</td>\n",
              "      <td>62.761506</td>\n",
              "      <td>73.891626</td>\n",
              "      <td>66.544697</td>\n",
              "      <td>['NORM']</td>\n",
              "    </tr>\n",
              "    <tr>\n",
              "      <th>...</th>\n",
              "      <td>...</td>\n",
              "      <td>...</td>\n",
              "      <td>...</td>\n",
              "      <td>...</td>\n",
              "      <td>...</td>\n",
              "      <td>...</td>\n",
              "      <td>...</td>\n",
              "      <td>...</td>\n",
              "      <td>...</td>\n",
              "      <td>...</td>\n",
              "      <td>...</td>\n",
              "      <td>...</td>\n",
              "      <td>...</td>\n",
              "      <td>...</td>\n",
              "      <td>...</td>\n",
              "      <td>...</td>\n",
              "      <td>...</td>\n",
              "      <td>...</td>\n",
              "      <td>...</td>\n",
              "      <td>...</td>\n",
              "      <td>...</td>\n",
              "      <td>...</td>\n",
              "      <td>...</td>\n",
              "      <td>...</td>\n",
              "      <td>...</td>\n",
              "      <td>...</td>\n",
              "      <td>...</td>\n",
              "      <td>...</td>\n",
              "      <td>...</td>\n",
              "      <td>...</td>\n",
              "      <td>...</td>\n",
              "      <td>...</td>\n",
              "      <td>...</td>\n",
              "      <td>...</td>\n",
              "      <td>...</td>\n",
              "      <td>...</td>\n",
              "      <td>...</td>\n",
              "      <td>...</td>\n",
              "      <td>...</td>\n",
              "      <td>...</td>\n",
              "      <td>...</td>\n",
              "      <td>...</td>\n",
              "      <td>...</td>\n",
              "      <td>...</td>\n",
              "      <td>...</td>\n",
              "      <td>...</td>\n",
              "      <td>...</td>\n",
              "      <td>...</td>\n",
              "      <td>...</td>\n",
              "      <td>...</td>\n",
              "      <td>...</td>\n",
              "      <td>...</td>\n",
              "      <td>...</td>\n",
              "      <td>...</td>\n",
              "      <td>...</td>\n",
              "      <td>...</td>\n",
              "      <td>...</td>\n",
              "      <td>...</td>\n",
              "      <td>...</td>\n",
              "      <td>...</td>\n",
              "      <td>...</td>\n",
              "      <td>...</td>\n",
              "      <td>...</td>\n",
              "      <td>...</td>\n",
              "      <td>...</td>\n",
              "      <td>...</td>\n",
              "      <td>...</td>\n",
              "      <td>...</td>\n",
              "      <td>...</td>\n",
              "      <td>...</td>\n",
              "      <td>...</td>\n",
              "      <td>...</td>\n",
              "      <td>...</td>\n",
              "      <td>...</td>\n",
              "      <td>...</td>\n",
              "      <td>...</td>\n",
              "      <td>...</td>\n",
              "      <td>...</td>\n",
              "      <td>...</td>\n",
              "      <td>...</td>\n",
              "      <td>...</td>\n",
              "    </tr>\n",
              "    <tr>\n",
              "      <th>19603</th>\n",
              "      <td>19603</td>\n",
              "      <td>2.0</td>\n",
              "      <td>-1.0</td>\n",
              "      <td>10.235809</td>\n",
              "      <td>107.720275</td>\n",
              "      <td>85.714286</td>\n",
              "      <td>142.180095</td>\n",
              "      <td>108.752499</td>\n",
              "      <td>11931.877900</td>\n",
              "      <td>0.407431</td>\n",
              "      <td>0.629</td>\n",
              "      <td>0.629</td>\n",
              "      <td>1.064176</td>\n",
              "      <td>0.863118</td>\n",
              "      <td>-0.201000</td>\n",
              "      <td>-0.963412</td>\n",
              "      <td>0.632412</td>\n",
              "      <td>0.330765</td>\n",
              "      <td>-0.616353</td>\n",
              "      <td>-0.024353</td>\n",
              "      <td>0.796529</td>\n",
              "      <td>1.489588</td>\n",
              "      <td>2.262765</td>\n",
              "      <td>1.850059</td>\n",
              "      <td>16.720456</td>\n",
              "      <td>106.416433</td>\n",
              "      <td>75.376884</td>\n",
              "      <td>148.514851</td>\n",
              "      <td>110.069512</td>\n",
              "      <td>11.047870</td>\n",
              "      <td>108.303249</td>\n",
              "      <td>81.521739</td>\n",
              "      <td>138.248848</td>\n",
              "      <td>109.160070</td>\n",
              "      <td>-0.036176</td>\n",
              "      <td>11.505643</td>\n",
              "      <td>108.695652</td>\n",
              "      <td>78.534031</td>\n",
              "      <td>140.845070</td>\n",
              "      <td>109.435441</td>\n",
              "      <td>...</td>\n",
              "      <td>0.138471</td>\n",
              "      <td>-0.345529</td>\n",
              "      <td>-0.484000</td>\n",
              "      <td>0.103882</td>\n",
              "      <td>0.311353</td>\n",
              "      <td>-0.414412</td>\n",
              "      <td>-0.225059</td>\n",
              "      <td>-1.084824</td>\n",
              "      <td>-1.352294</td>\n",
              "      <td>-1.071588</td>\n",
              "      <td>-0.794059</td>\n",
              "      <td>-0.217412</td>\n",
              "      <td>15.390438</td>\n",
              "      <td>106.761566</td>\n",
              "      <td>67.114094</td>\n",
              "      <td>131.578947</td>\n",
              "      <td>103.602722</td>\n",
              "      <td>-0.088562</td>\n",
              "      <td>0.127438</td>\n",
              "      <td>0.216000</td>\n",
              "      <td>-0.019625</td>\n",
              "      <td>-0.152188</td>\n",
              "      <td>0.171500</td>\n",
              "      <td>0.075063</td>\n",
              "      <td>0.231563</td>\n",
              "      <td>0.330062</td>\n",
              "      <td>0.260813</td>\n",
              "      <td>0.162187</td>\n",
              "      <td>0.051312</td>\n",
              "      <td>15.511938</td>\n",
              "      <td>106.382979</td>\n",
              "      <td>65.359477</td>\n",
              "      <td>135.135135</td>\n",
              "      <td>103.745420</td>\n",
              "      <td>16.437627</td>\n",
              "      <td>107.913669</td>\n",
              "      <td>67.264574</td>\n",
              "      <td>137.614679</td>\n",
              "      <td>104.168044</td>\n",
              "      <td>['NORM']</td>\n",
              "    </tr>\n",
              "    <tr>\n",
              "      <th>19604</th>\n",
              "      <td>19604</td>\n",
              "      <td>2.0</td>\n",
              "      <td>-1.0</td>\n",
              "      <td>4.089769</td>\n",
              "      <td>67.267618</td>\n",
              "      <td>65.789474</td>\n",
              "      <td>80.428954</td>\n",
              "      <td>68.441891</td>\n",
              "      <td>4701.018623</td>\n",
              "      <td>0.090460</td>\n",
              "      <td>0.045</td>\n",
              "      <td>0.045</td>\n",
              "      <td>0.553273</td>\n",
              "      <td>0.327545</td>\n",
              "      <td>-0.225909</td>\n",
              "      <td>-0.440182</td>\n",
              "      <td>0.389273</td>\n",
              "      <td>0.050455</td>\n",
              "      <td>-0.096364</td>\n",
              "      <td>0.370545</td>\n",
              "      <td>0.579091</td>\n",
              "      <td>0.788818</td>\n",
              "      <td>0.833636</td>\n",
              "      <td>0.777091</td>\n",
              "      <td>9.844362</td>\n",
              "      <td>67.265927</td>\n",
              "      <td>65.645514</td>\n",
              "      <td>99.667774</td>\n",
              "      <td>70.278583</td>\n",
              "      <td>10.547722</td>\n",
              "      <td>67.114094</td>\n",
              "      <td>64.516129</td>\n",
              "      <td>101.694915</td>\n",
              "      <td>70.266143</td>\n",
              "      <td>-0.031000</td>\n",
              "      <td>10.220683</td>\n",
              "      <td>67.267618</td>\n",
              "      <td>65.645514</td>\n",
              "      <td>101.010101</td>\n",
              "      <td>70.487796</td>\n",
              "      <td>...</td>\n",
              "      <td>-0.073700</td>\n",
              "      <td>-0.061600</td>\n",
              "      <td>0.012000</td>\n",
              "      <td>0.067600</td>\n",
              "      <td>-0.042400</td>\n",
              "      <td>-0.024600</td>\n",
              "      <td>0.004000</td>\n",
              "      <td>-0.028700</td>\n",
              "      <td>-0.066800</td>\n",
              "      <td>-0.079900</td>\n",
              "      <td>-0.078000</td>\n",
              "      <td>-0.064300</td>\n",
              "      <td>0.815703</td>\n",
              "      <td>67.114094</td>\n",
              "      <td>65.934066</td>\n",
              "      <td>68.493151</td>\n",
              "      <td>67.090652</td>\n",
              "      <td>0.090700</td>\n",
              "      <td>0.160800</td>\n",
              "      <td>0.070100</td>\n",
              "      <td>-0.125900</td>\n",
              "      <td>0.010000</td>\n",
              "      <td>0.115300</td>\n",
              "      <td>0.018600</td>\n",
              "      <td>0.185300</td>\n",
              "      <td>0.178600</td>\n",
              "      <td>0.168000</td>\n",
              "      <td>0.162000</td>\n",
              "      <td>0.164000</td>\n",
              "      <td>1.294149</td>\n",
              "      <td>67.114094</td>\n",
              "      <td>64.516129</td>\n",
              "      <td>68.807339</td>\n",
              "      <td>67.256308</td>\n",
              "      <td>2.235809</td>\n",
              "      <td>66.964286</td>\n",
              "      <td>62.761506</td>\n",
              "      <td>70.588235</td>\n",
              "      <td>66.989704</td>\n",
              "      <td>['CD']</td>\n",
              "    </tr>\n",
              "    <tr>\n",
              "      <th>19605</th>\n",
              "      <td>19605</td>\n",
              "      <td>2.0</td>\n",
              "      <td>-1.0</td>\n",
              "      <td>38.461356</td>\n",
              "      <td>81.146063</td>\n",
              "      <td>55.045872</td>\n",
              "      <td>171.428571</td>\n",
              "      <td>92.664642</td>\n",
              "      <td>10066.011663</td>\n",
              "      <td>0.308788</td>\n",
              "      <td>-0.028</td>\n",
              "      <td>-0.028</td>\n",
              "      <td>0.482462</td>\n",
              "      <td>0.532000</td>\n",
              "      <td>0.049462</td>\n",
              "      <td>-0.507615</td>\n",
              "      <td>0.216385</td>\n",
              "      <td>0.290385</td>\n",
              "      <td>-0.377615</td>\n",
              "      <td>0.227462</td>\n",
              "      <td>0.346538</td>\n",
              "      <td>0.619692</td>\n",
              "      <td>0.607154</td>\n",
              "      <td>0.470385</td>\n",
              "      <td>240.507609</td>\n",
              "      <td>66.770648</td>\n",
              "      <td>54.545455</td>\n",
              "      <td>833.333333</td>\n",
              "      <td>178.472426</td>\n",
              "      <td>120.449568</td>\n",
              "      <td>71.090447</td>\n",
              "      <td>54.644809</td>\n",
              "      <td>400.000000</td>\n",
              "      <td>126.522903</td>\n",
              "      <td>-0.035692</td>\n",
              "      <td>154.683129</td>\n",
              "      <td>68.807339</td>\n",
              "      <td>54.945055</td>\n",
              "      <td>500.000000</td>\n",
              "      <td>142.708388</td>\n",
              "      <td>...</td>\n",
              "      <td>-0.047417</td>\n",
              "      <td>-0.093083</td>\n",
              "      <td>-0.045750</td>\n",
              "      <td>0.070417</td>\n",
              "      <td>-0.000500</td>\n",
              "      <td>-0.069083</td>\n",
              "      <td>-0.055500</td>\n",
              "      <td>-0.122167</td>\n",
              "      <td>-0.116000</td>\n",
              "      <td>-0.092250</td>\n",
              "      <td>-0.037500</td>\n",
              "      <td>-0.006250</td>\n",
              "      <td>59.918761</td>\n",
              "      <td>73.349633</td>\n",
              "      <td>55.350554</td>\n",
              "      <td>240.000000</td>\n",
              "      <td>101.334952</td>\n",
              "      <td>0.011750</td>\n",
              "      <td>0.040833</td>\n",
              "      <td>0.029000</td>\n",
              "      <td>-0.026500</td>\n",
              "      <td>-0.008667</td>\n",
              "      <td>0.035000</td>\n",
              "      <td>-0.015000</td>\n",
              "      <td>-0.038417</td>\n",
              "      <td>-0.075083</td>\n",
              "      <td>-0.041500</td>\n",
              "      <td>0.012167</td>\n",
              "      <td>0.029083</td>\n",
              "      <td>65.121957</td>\n",
              "      <td>72.639225</td>\n",
              "      <td>54.644809</td>\n",
              "      <td>263.157895</td>\n",
              "      <td>102.831542</td>\n",
              "      <td>53.624632</td>\n",
              "      <td>75.566751</td>\n",
              "      <td>54.249548</td>\n",
              "      <td>196.078431</td>\n",
              "      <td>99.489230</td>\n",
              "      <td>['CD']</td>\n",
              "    </tr>\n",
              "    <tr>\n",
              "      <th>19606</th>\n",
              "      <td>19606</td>\n",
              "      <td>2.0</td>\n",
              "      <td>-1.0</td>\n",
              "      <td>10.795504</td>\n",
              "      <td>69.204981</td>\n",
              "      <td>58.027079</td>\n",
              "      <td>101.694915</td>\n",
              "      <td>71.262827</td>\n",
              "      <td>5194.933469</td>\n",
              "      <td>0.028010</td>\n",
              "      <td>0.540</td>\n",
              "      <td>0.540</td>\n",
              "      <td>0.688545</td>\n",
              "      <td>0.580727</td>\n",
              "      <td>-0.107636</td>\n",
              "      <td>-0.634364</td>\n",
              "      <td>0.397909</td>\n",
              "      <td>0.236273</td>\n",
              "      <td>-0.028273</td>\n",
              "      <td>0.729364</td>\n",
              "      <td>0.795909</td>\n",
              "      <td>1.028545</td>\n",
              "      <td>0.975182</td>\n",
              "      <td>0.783364</td>\n",
              "      <td>21.810355</td>\n",
              "      <td>69.127727</td>\n",
              "      <td>50.335570</td>\n",
              "      <td>136.986301</td>\n",
              "      <td>74.005383</td>\n",
              "      <td>26.430534</td>\n",
              "      <td>68.259474</td>\n",
              "      <td>49.586777</td>\n",
              "      <td>152.284264</td>\n",
              "      <td>75.296000</td>\n",
              "      <td>-0.038182</td>\n",
              "      <td>24.367926</td>\n",
              "      <td>68.729334</td>\n",
              "      <td>49.833887</td>\n",
              "      <td>145.631068</td>\n",
              "      <td>74.762103</td>\n",
              "      <td>...</td>\n",
              "      <td>0.041273</td>\n",
              "      <td>-0.418273</td>\n",
              "      <td>-0.459455</td>\n",
              "      <td>0.188818</td>\n",
              "      <td>0.250636</td>\n",
              "      <td>-0.438545</td>\n",
              "      <td>-0.536182</td>\n",
              "      <td>-1.692818</td>\n",
              "      <td>-1.395545</td>\n",
              "      <td>-0.975545</td>\n",
              "      <td>-0.588182</td>\n",
              "      <td>-0.189545</td>\n",
              "      <td>11.872530</td>\n",
              "      <td>68.965517</td>\n",
              "      <td>57.361377</td>\n",
              "      <td>103.092784</td>\n",
              "      <td>71.530929</td>\n",
              "      <td>0.132800</td>\n",
              "      <td>0.311400</td>\n",
              "      <td>0.178700</td>\n",
              "      <td>-0.222400</td>\n",
              "      <td>-0.023200</td>\n",
              "      <td>0.244800</td>\n",
              "      <td>-0.064500</td>\n",
              "      <td>0.261800</td>\n",
              "      <td>0.216300</td>\n",
              "      <td>0.304800</td>\n",
              "      <td>0.294300</td>\n",
              "      <td>0.238800</td>\n",
              "      <td>12.624129</td>\n",
              "      <td>68.181818</td>\n",
              "      <td>56.603774</td>\n",
              "      <td>105.263158</td>\n",
              "      <td>71.615786</td>\n",
              "      <td>11.696963</td>\n",
              "      <td>68.649886</td>\n",
              "      <td>58.708415</td>\n",
              "      <td>102.739726</td>\n",
              "      <td>71.375763</td>\n",
              "      <td>['CD', 'STTC', 'MI']</td>\n",
              "    </tr>\n",
              "    <tr>\n",
              "      <th>19607</th>\n",
              "      <td>19607</td>\n",
              "      <td>2.0</td>\n",
              "      <td>-1.0</td>\n",
              "      <td>0.576332</td>\n",
              "      <td>59.171598</td>\n",
              "      <td>58.252427</td>\n",
              "      <td>60.240964</td>\n",
              "      <td>59.203135</td>\n",
              "      <td>3505.343403</td>\n",
              "      <td>0.019503</td>\n",
              "      <td>0.800</td>\n",
              "      <td>0.800</td>\n",
              "      <td>0.898200</td>\n",
              "      <td>0.841800</td>\n",
              "      <td>-0.056400</td>\n",
              "      <td>-0.869800</td>\n",
              "      <td>0.477200</td>\n",
              "      <td>0.392600</td>\n",
              "      <td>-0.678400</td>\n",
              "      <td>0.616900</td>\n",
              "      <td>1.227900</td>\n",
              "      <td>1.735100</td>\n",
              "      <td>1.704900</td>\n",
              "      <td>1.142200</td>\n",
              "      <td>0.848199</td>\n",
              "      <td>59.171598</td>\n",
              "      <td>58.365759</td>\n",
              "      <td>61.601643</td>\n",
              "      <td>59.326385</td>\n",
              "      <td>1.265551</td>\n",
              "      <td>58.823529</td>\n",
              "      <td>57.581574</td>\n",
              "      <td>61.728395</td>\n",
              "      <td>59.133450</td>\n",
              "      <td>-0.036700</td>\n",
              "      <td>0.689427</td>\n",
              "      <td>58.939096</td>\n",
              "      <td>58.027079</td>\n",
              "      <td>60.240964</td>\n",
              "      <td>59.114856</td>\n",
              "      <td>...</td>\n",
              "      <td>-0.091000</td>\n",
              "      <td>-0.088444</td>\n",
              "      <td>0.002556</td>\n",
              "      <td>0.089778</td>\n",
              "      <td>-0.046444</td>\n",
              "      <td>-0.042444</td>\n",
              "      <td>-0.082556</td>\n",
              "      <td>-0.315778</td>\n",
              "      <td>-0.334333</td>\n",
              "      <td>-0.258222</td>\n",
              "      <td>-0.142111</td>\n",
              "      <td>-0.073333</td>\n",
              "      <td>0.533584</td>\n",
              "      <td>59.172518</td>\n",
              "      <td>58.708415</td>\n",
              "      <td>60.120240</td>\n",
              "      <td>59.278681</td>\n",
              "      <td>0.181222</td>\n",
              "      <td>0.145444</td>\n",
              "      <td>-0.035889</td>\n",
              "      <td>-0.163000</td>\n",
              "      <td>0.108444</td>\n",
              "      <td>0.054444</td>\n",
              "      <td>0.017333</td>\n",
              "      <td>0.607333</td>\n",
              "      <td>0.394667</td>\n",
              "      <td>0.279444</td>\n",
              "      <td>0.184111</td>\n",
              "      <td>0.117333</td>\n",
              "      <td>1.338507</td>\n",
              "      <td>59.057178</td>\n",
              "      <td>58.027079</td>\n",
              "      <td>62.370062</td>\n",
              "      <td>59.405972</td>\n",
              "      <td>2.733110</td>\n",
              "      <td>59.311703</td>\n",
              "      <td>55.658627</td>\n",
              "      <td>64.239829</td>\n",
              "      <td>59.266767</td>\n",
              "      <td>['STTC']</td>\n",
              "    </tr>\n",
              "  </tbody>\n",
              "</table>\n",
              "<p>19608 rows × 114 columns</p>\n",
              "</div>"
            ],
            "text/plain": [
              "       Unnamed: 0  gender  ...  mean_t_onsets                Labels\n",
              "0               0     2.0  ...      87.847241              ['NORM']\n",
              "1               1     2.0  ...      60.685624              ['NORM']\n",
              "2               2     2.0  ...      82.741229              ['NORM']\n",
              "3               3     2.0  ...      74.100926              ['NORM']\n",
              "4               4     2.0  ...      66.544697              ['NORM']\n",
              "...           ...     ...  ...            ...                   ...\n",
              "19603       19603     2.0  ...     104.168044              ['NORM']\n",
              "19604       19604     2.0  ...      66.989704                ['CD']\n",
              "19605       19605     2.0  ...      99.489230                ['CD']\n",
              "19606       19606     2.0  ...      71.375763  ['CD', 'STTC', 'MI']\n",
              "19607       19607     2.0  ...      59.266767              ['STTC']\n",
              "\n",
              "[19608 rows x 114 columns]"
            ]
          },
          "metadata": {
            "tags": []
          },
          "execution_count": 5
        }
      ]
    },
    {
      "cell_type": "code",
      "metadata": {
        "id": "r9KoawzlJG32",
        "outputId": "98eb9242-52e2-4e77-d3f1-cfd10ab4a663",
        "colab": {
          "base_uri": "https://localhost:8080/"
        }
      },
      "source": [
        "print(np.where(test_data.iloc[:,:-1].isna()))\n",
        "print(test_data.index[np.isinf(test_data.iloc[:,:-1]).any(1)])\n",
        "#print(test_data.columns.to_series()[np.isinf(test_data.iloc[:,:-1]).any()])"
      ],
      "execution_count": 6,
      "outputs": [
        {
          "output_type": "stream",
          "text": [
            "(array([1021, 1021, 1021, 1021, 1021, 1021, 1021, 1021, 1021, 1021, 1021,\n",
            "       1021, 1021, 1021, 1021, 1021, 1021, 1021, 1021, 1021, 1021, 1597,\n",
            "       1597, 1597, 1597, 1597, 1597, 1597, 1597, 1597, 2030, 2030, 2030,\n",
            "       2030, 2030, 2030, 2030, 2030, 2030]), array([ 86,  87,  90,  91,  92,  93,  94,  95,  96,  97,  98,  99, 100,\n",
            "       101, 102, 103, 104, 107, 108, 109, 112,  86,  87,  90, 103, 104,\n",
            "       107, 108, 109, 112,  86,  87,  90, 103, 104, 107, 108, 109, 112]))\n",
            "Int64Index([], dtype='int64')\n"
          ],
          "name": "stdout"
        }
      ]
    },
    {
      "cell_type": "code",
      "metadata": {
        "id": "BTGAr_dBJ8iJ",
        "outputId": "23731efe-93e2-4ad3-d13e-815bb4668bea",
        "colab": {
          "base_uri": "https://localhost:8080/"
        }
      },
      "source": [
        "count = 0\n",
        "while len(np.where(test_data.iloc[:,:-1].isna())[1]) != 0:\n",
        "  try:\n",
        "    for i,j in enumerate(np.where(test_data.iloc[:,:-1].isna())[0]):\n",
        "      print(\"-------\")\n",
        "      print(i)\n",
        "      print(j)\n",
        "      print(np.where(test_data.iloc[:,:-1].isna())[1][i])\n",
        "      print(test_data.iloc[j,np.where(test_data.iloc[:,:-1].isna())[1][i]])\n",
        "      test_data.iloc[j,np.where(test_data.iloc[:,:-1].isna())[1][i]] = test_data.iloc[:,np.where(test_data.iloc[:,:-1].isna())[1][i]].mean()\n",
        "    count = count + 1\n",
        "    print(count)\n",
        "  except:\n",
        "    continue"
      ],
      "execution_count": 7,
      "outputs": [
        {
          "output_type": "stream",
          "text": [
            "-------\n",
            "0\n",
            "1021\n",
            "86\n",
            "nan\n",
            "-------\n",
            "1\n",
            "1021\n",
            "90\n",
            "nan\n",
            "-------\n",
            "2\n",
            "1021\n",
            "92\n",
            "nan\n",
            "-------\n",
            "3\n",
            "1021\n",
            "94\n",
            "nan\n",
            "-------\n",
            "4\n",
            "1021\n",
            "96\n",
            "nan\n",
            "-------\n",
            "5\n",
            "1021\n",
            "98\n",
            "nan\n",
            "-------\n",
            "6\n",
            "1021\n",
            "100\n",
            "nan\n",
            "-------\n",
            "7\n",
            "1021\n",
            "102\n",
            "nan\n",
            "-------\n",
            "8\n",
            "1021\n",
            "104\n",
            "nan\n",
            "-------\n",
            "9\n",
            "1021\n",
            "108\n",
            "nan\n",
            "-------\n",
            "10\n",
            "1021\n",
            "112\n",
            "nan\n",
            "-------\n",
            "11\n",
            "1021\n",
            "87\n",
            "nan\n",
            "-------\n",
            "12\n",
            "1021\n",
            "103\n",
            "nan\n",
            "-------\n",
            "13\n",
            "1021\n",
            "107\n",
            "nan\n",
            "-------\n",
            "14\n",
            "1021\n",
            "109\n",
            "nan\n",
            "-------\n",
            "15\n",
            "1021\n",
            "86\n",
            "14.939227040749353\n",
            "-------\n",
            "16\n",
            "1021\n",
            "87\n",
            "75.01747710530589\n",
            "-------\n",
            "17\n",
            "1021\n",
            "90\n",
            "78.94823922112602\n",
            "-------\n",
            "18\n",
            "1021\n",
            "103\n",
            "15.988065782919792\n",
            "-------\n",
            "19\n",
            "1021\n",
            "104\n",
            "75.08083513696857\n",
            "-------\n",
            "20\n",
            "1021\n",
            "107\n",
            "79.26914674133704\n",
            "-------\n",
            "21\n",
            "1597\n",
            "108\n",
            "nan\n",
            "-------\n",
            "22\n",
            "1597\n",
            "112\n",
            "nan\n",
            "-------\n",
            "23\n",
            "1597\n",
            "-------\n",
            "0\n",
            "1021\n",
            "91\n",
            "nan\n",
            "-------\n",
            "1\n",
            "1021\n",
            "95\n",
            "nan\n",
            "-------\n",
            "2\n",
            "1021\n",
            "99\n",
            "nan\n",
            "-------\n",
            "3\n",
            "1021\n",
            "86\n",
            "14.939227040749351\n",
            "-------\n",
            "4\n",
            "1021\n",
            "87\n",
            "75.01747710530589\n",
            "-------\n",
            "5\n",
            "1021\n",
            "90\n",
            "78.94823922112602\n",
            "-------\n",
            "6\n",
            "1597\n",
            "103\n",
            "nan\n",
            "-------\n",
            "7\n",
            "1597\n",
            "107\n",
            "nan\n",
            "-------\n",
            "8\n",
            "1597\n",
            "86\n",
            "nan\n",
            "-------\n",
            "9\n",
            "1597\n",
            "90\n",
            "nan\n",
            "-------\n",
            "10\n",
            "1597\n",
            "104\n",
            "nan\n",
            "-------\n",
            "11\n",
            "1597\n",
            "108\n",
            "16.928863236802307\n",
            "-------\n",
            "12\n",
            "1597\n",
            "109\n",
            "nan\n",
            "-------\n",
            "13\n",
            "2030\n",
            "-------\n",
            "0\n",
            "1021\n",
            "93\n",
            "nan\n",
            "-------\n",
            "1\n",
            "1021\n",
            "101\n",
            "nan\n",
            "-------\n",
            "2\n",
            "1021\n",
            "86\n",
            "14.939227040749351\n",
            "-------\n",
            "3\n",
            "1597\n",
            "87\n",
            "nan\n",
            "-------\n",
            "4\n",
            "2030\n",
            "103\n",
            "nan\n",
            "-------\n",
            "5\n",
            "2030\n",
            "107\n",
            "nan\n",
            "-------\n",
            "6\n",
            "2030\n",
            "109\n",
            "nan\n",
            "-------\n",
            "7\n",
            "2030\n",
            "-------\n",
            "0\n",
            "1021\n",
            "97\n",
            "nan\n",
            "-------\n",
            "1\n",
            "2030\n",
            "87\n",
            "nan\n",
            "-------\n",
            "2\n",
            "2030\n",
            "104\n",
            "nan\n",
            "-------\n",
            "3\n",
            "2030\n",
            "112\n",
            "nan\n",
            "-------\n",
            "4\n",
            "2030\n",
            "-------\n",
            "0\n",
            "2030\n",
            "86\n",
            "nan\n",
            "-------\n",
            "1\n",
            "2030\n",
            "108\n",
            "nan\n",
            "-------\n",
            "2\n",
            "2030\n",
            "-------\n",
            "0\n",
            "2030\n",
            "90\n",
            "nan\n",
            "1\n"
          ],
          "name": "stdout"
        }
      ]
    },
    {
      "cell_type": "code",
      "metadata": {
        "id": "Veprqscw4RkK",
        "outputId": "20ac52ed-217e-4dd6-beb3-6de49e10ad5d",
        "colab": {
          "base_uri": "https://localhost:8080/"
        }
      },
      "source": [
        "print(np.where(train_data.iloc[:,:-1].isna()))\n",
        "print(train_data.index[np.isinf(train_data.iloc[:,:-1]).any(1)])\n",
        "#print(data.columns.to_series()[np.isinf(data.iloc[:,:-1]).any()])"
      ],
      "execution_count": 8,
      "outputs": [
        {
          "output_type": "stream",
          "text": [
            "(array([  281,   281,   281,   281,   281,   281,   281,   281,   281,\n",
            "         281,   281,   281,   281,   281,   281,   281,   281,   281,\n",
            "         281,   281,   281,   477,   477,   477,   477,   477,   477,\n",
            "         477,   477,   477,   477,   477,   477,   477,   477,   477,\n",
            "         477,   477,   477,   477,   477,   477,  3294,  3294,  3294,\n",
            "        3294,  3294,  3294,  3294,  3294,  3294,  3294,  3294,  3294,\n",
            "        3294,  3294,  3294,  3294,  3294,  3294,  3294,  3294,  3294,\n",
            "        3298,  3298,  3298,  3298,  3298,  3298,  3298,  3298,  3298,\n",
            "        3299,  3299,  3299,  3299,  3299,  3299,  3299,  3299,  3299,\n",
            "        3546,  3546,  3546,  3546,  3546,  3546,  3546,  3546,  3546,\n",
            "        3546,  3546,  3546,  3546,  3546,  3546,  3546,  3546,  3546,\n",
            "        3546,  3546,  3546,  4141,  4141,  4141,  4141,  4141,  4141,\n",
            "        4141,  4141,  4141,  5882,  5882,  5882,  5882,  5882,  5882,\n",
            "        5882,  5882,  5882,  5882,  5882,  5882,  5882,  5882,  5882,\n",
            "        5882,  5882,  5882,  5882,  5882,  5882,  5907,  5907,  5907,\n",
            "        6061,  6061,  6061,  6061,  6061,  6061,  6061,  6061,  6061,\n",
            "        6086,  6086,  6086,  6086,  6086,  6086,  6086,  6086,  6086,\n",
            "        6086,  6086,  6086,  6086,  6086,  6086,  6086,  6086,  6086,\n",
            "        6086,  6086,  6086,  6374,  6374,  6374,  6374,  6374,  6374,\n",
            "        6374,  6374,  6374,  6374,  6374,  6374,  6374,  6374,  6374,\n",
            "        6374,  6374,  6374,  6374,  6374,  6374,  6571,  6571,  6571,\n",
            "        6571,  6571,  6571,  6571,  6571,  6571,  6571,  6571,  6571,\n",
            "        6571,  6571,  6571,  6571,  6571,  6571,  6571,  6571,  6571,\n",
            "        6614,  6614,  6614,  6619,  6619,  6619,  6619,  6619,  6619,\n",
            "        6619,  6619,  6619,  6619,  6619,  6619,  6619,  6619,  6619,\n",
            "        6619,  6619,  6619,  6619,  6619,  6619,  6983,  6983,  6983,\n",
            "        6983,  6983,  6983,  6983,  6983,  6983,  7449,  7449,  7449,\n",
            "        7449,  7449,  7449,  7449,  7449,  7449,  7449,  7449,  7449,\n",
            "        7449,  7449,  7449,  7449,  7449,  7449,  7449,  7449,  7449,\n",
            "        7918,  7918,  7918,  7918,  7918,  7918,  7918,  7918,  7918,\n",
            "        7930,  7930,  7930,  7930,  7930,  7930,  7930,  7930,  7930,\n",
            "        7930,  7930,  7930,  7930,  7930,  7930,  7930,  7930,  7930,\n",
            "        7930,  7930,  7930,  7948,  7948,  7948,  7948,  7948,  7948,\n",
            "        7948,  7948,  7948,  9056,  9056,  9056,  9056,  9056,  9056,\n",
            "        9056,  9056,  9056,  9133,  9133,  9133,  9133,  9133,  9133,\n",
            "        9133,  9133,  9133,  9133,  9133,  9133,  9133,  9133,  9133,\n",
            "        9133,  9133,  9133,  9133,  9133,  9133,  9419,  9419,  9419,\n",
            "        9419,  9419,  9419,  9419,  9419,  9419, 10924, 11111, 11111,\n",
            "       11111, 11111, 11111, 11111, 11111, 11111, 11111, 11111, 11111,\n",
            "       11111, 11111, 11111, 11111, 11111, 11111, 11111, 11111, 11111,\n",
            "       11111, 11473, 11473, 11473, 11473, 11473, 11473, 11473, 11473,\n",
            "       11473, 13636, 13636, 13636, 13925, 13925, 13925, 13925, 13925,\n",
            "       13925, 13925, 13925, 13925, 13925, 13925, 13925, 13925, 13925,\n",
            "       13925, 13925, 13925, 13925, 13925, 13925, 13925, 14354, 14354,\n",
            "       14354, 14354, 14354, 14354, 14354, 14354, 14354, 14354, 14354,\n",
            "       14354, 14354, 14354, 14354, 14354, 14354, 14354, 14354, 14354,\n",
            "       14354, 14463, 14463, 14463, 14463, 14463, 14463, 14463, 14463,\n",
            "       14463, 14532, 14532, 14532, 14532, 14532, 14532, 14532, 14532,\n",
            "       14532, 14654, 14654, 14654, 14654, 14654, 14654, 14654, 14654,\n",
            "       14654, 14654, 14654, 14654, 14654, 14654, 14654, 14654, 14654,\n",
            "       14654, 14654, 14654, 14654, 15773, 15773, 15773, 15773, 15773,\n",
            "       15773, 15773, 15773, 15773, 15773, 15773, 15773, 15773, 15773,\n",
            "       15773, 15773, 15773, 15773, 15773, 15773, 15773, 15945, 15945,\n",
            "       15945, 16463, 16463, 16463, 16463, 16463, 16463, 16463, 16463,\n",
            "       16463, 16463, 16463, 16463, 16463, 16463, 16463, 16463, 16463,\n",
            "       16463, 16463, 16463, 16463, 17300, 17378, 17378, 17378, 17378,\n",
            "       17378, 17378, 17378, 17378, 17378, 17378, 17378, 17378, 17378,\n",
            "       17378, 17378, 17378, 17378, 17378, 17378, 17378, 17378, 17384,\n",
            "       17384, 17384, 17384, 17384, 17384, 17384, 17384, 17384, 18000,\n",
            "       18000, 18000, 18355, 18355, 18355, 18355, 18355, 18355, 18355,\n",
            "       18355, 18355, 18355, 18355, 18355, 18355, 18355, 18355, 18355,\n",
            "       18355, 18355, 18355, 18355, 18355, 18692, 18804, 18804, 18804,\n",
            "       18804, 18804, 18804, 18804, 18804, 18804, 18935, 18935, 18935,\n",
            "       19360, 19360, 19360, 19360, 19360, 19360, 19360, 19360, 19360,\n",
            "       19360, 19360, 19360, 19360, 19360, 19360, 19360, 19360, 19360,\n",
            "       19360, 19360, 19360]), array([ 86,  87,  90,  91,  92,  93,  94,  95,  96,  97,  98,  99, 100,\n",
            "       101, 102, 103, 104, 107, 108, 109, 112,  86,  87,  90,  91,  92,\n",
            "        93,  94,  95,  96,  97,  98,  99, 100, 101, 102, 103, 104, 107,\n",
            "       108, 109, 112,  86,  87,  90,  91,  92,  93,  94,  95,  96,  97,\n",
            "        98,  99, 100, 101, 102, 103, 104, 107, 108, 109, 112,  86,  87,\n",
            "        90, 103, 104, 107, 108, 109, 112,  86,  87,  90, 103, 104, 107,\n",
            "       108, 109, 112,  86,  87,  90,  91,  92,  93,  94,  95,  96,  97,\n",
            "        98,  99, 100, 101, 102, 103, 104, 107, 108, 109, 112,  86,  87,\n",
            "        90, 103, 104, 107, 108, 109, 112,  86,  87,  90,  91,  92,  93,\n",
            "        94,  95,  96,  97,  98,  99, 100, 101, 102, 103, 104, 107, 108,\n",
            "       109, 112,  86, 103, 108,  86,  87,  90, 103, 104, 107, 108, 109,\n",
            "       112,  86,  87,  90,  91,  92,  93,  94,  95,  96,  97,  98,  99,\n",
            "       100, 101, 102, 103, 104, 107, 108, 109, 112,  86,  87,  90,  91,\n",
            "        92,  93,  94,  95,  96,  97,  98,  99, 100, 101, 102, 103, 104,\n",
            "       107, 108, 109, 112,  86,  87,  90,  91,  92,  93,  94,  95,  96,\n",
            "        97,  98,  99, 100, 101, 102, 103, 104, 107, 108, 109, 112,  86,\n",
            "       103, 108,  86,  87,  90,  91,  92,  93,  94,  95,  96,  97,  98,\n",
            "        99, 100, 101, 102, 103, 104, 107, 108, 109, 112,  86,  87,  90,\n",
            "       103, 104, 107, 108, 109, 112,  86,  87,  90,  91,  92,  93,  94,\n",
            "        95,  96,  97,  98,  99, 100, 101, 102, 103, 104, 107, 108, 109,\n",
            "       112,  86,  87,  90, 103, 104, 107, 108, 109, 112,  86,  87,  90,\n",
            "        91,  92,  93,  94,  95,  96,  97,  98,  99, 100, 101, 102, 103,\n",
            "       104, 107, 108, 109, 112,  86,  87,  90, 103, 104, 107, 108, 109,\n",
            "       112,  86,  87,  90, 103, 104, 107, 108, 109, 112,  86,  87,  90,\n",
            "        91,  92,  93,  94,  95,  96,  97,  98,  99, 100, 101, 102, 103,\n",
            "       104, 107, 108, 109, 112,  86,  87,  90, 103, 104, 107, 108, 109,\n",
            "       112,  69,  86,  87,  90,  91,  92,  93,  94,  95,  96,  97,  98,\n",
            "        99, 100, 101, 102, 103, 104, 107, 108, 109, 112,  86,  87,  90,\n",
            "       103, 104, 107, 108, 109, 112,  86, 103, 108,  86,  87,  90,  91,\n",
            "        92,  93,  94,  95,  96,  97,  98,  99, 100, 101, 102, 103, 104,\n",
            "       107, 108, 109, 112,  86,  87,  90,  91,  92,  93,  94,  95,  96,\n",
            "        97,  98,  99, 100, 101, 102, 103, 104, 107, 108, 109, 112,  86,\n",
            "        87,  90, 103, 104, 107, 108, 109, 112,  86,  87,  90, 103, 104,\n",
            "       107, 108, 109, 112,  86,  87,  90,  91,  92,  93,  94,  95,  96,\n",
            "        97,  98,  99, 100, 101, 102, 103, 104, 107, 108, 109, 112,  86,\n",
            "        87,  90,  91,  92,  93,  94,  95,  96,  97,  98,  99, 100, 101,\n",
            "       102, 103, 104, 107, 108, 109, 112,  86, 103, 108,  86,  87,  90,\n",
            "        91,  92,  93,  94,  95,  96,  97,  98,  99, 100, 101, 102, 103,\n",
            "       104, 107, 108, 109, 112,  69,  86,  87,  90,  91,  92,  93,  94,\n",
            "        95,  96,  97,  98,  99, 100, 101, 102, 103, 104, 107, 108, 109,\n",
            "       112,  86,  87,  90, 103, 104, 107, 108, 109, 112,  86, 103, 108,\n",
            "        86,  87,  90,  91,  92,  93,  94,  95,  96,  97,  98,  99, 100,\n",
            "       101, 102, 103, 104, 107, 108, 109, 112,  69,  86,  87,  90, 103,\n",
            "       104, 107, 108, 109, 112,  86, 103, 108,  86,  87,  90,  91,  92,\n",
            "        93,  94,  95,  96,  97,  98,  99, 100, 101, 102, 103, 104, 107,\n",
            "       108, 109, 112]))\n",
            "Int64Index([5907, 6614, 10924, 13636, 15945, 17300, 18000, 18692, 18935], dtype='int64')\n"
          ],
          "name": "stdout"
        }
      ]
    },
    {
      "cell_type": "code",
      "metadata": {
        "id": "szSHME5w29aa",
        "outputId": "b332a592-ed75-4f35-8f50-1b3736b47bbf",
        "colab": {
          "base_uri": "https://localhost:8080/"
        }
      },
      "source": [
        "train_data.shape"
      ],
      "execution_count": 9,
      "outputs": [
        {
          "output_type": "execute_result",
          "data": {
            "text/plain": [
              "(19608, 114)"
            ]
          },
          "metadata": {
            "tags": []
          },
          "execution_count": 9
        }
      ]
    },
    {
      "cell_type": "code",
      "metadata": {
        "id": "G-PKD_mh214O"
      },
      "source": [
        "train_data = train_data.dropna()"
      ],
      "execution_count": 10,
      "outputs": []
    },
    {
      "cell_type": "code",
      "metadata": {
        "id": "YEiIZs4a3Ayz",
        "outputId": "0e53ab40-c15d-44f9-901a-77bf79a9396f",
        "colab": {
          "base_uri": "https://localhost:8080/"
        }
      },
      "source": [
        "train_data.shape"
      ],
      "execution_count": 11,
      "outputs": [
        {
          "output_type": "execute_result",
          "data": {
            "text/plain": [
              "(19564, 114)"
            ]
          },
          "metadata": {
            "tags": []
          },
          "execution_count": 11
        }
      ]
    },
    {
      "cell_type": "code",
      "metadata": {
        "id": "4Mm8uzwr3FGw",
        "outputId": "7a3424c6-75e0-4eee-a90b-be012ceac513",
        "colab": {
          "base_uri": "https://localhost:8080/"
        }
      },
      "source": [
        "print(np.where(train_data.iloc[:,1:-1].isna()))\n",
        "print(train_data.index[np.isinf(train_data.iloc[:,1:-1]).any(1)])\n",
        "#print(data.columns.to_series()[np.isinf(data.iloc[:,1:-1]).any()])"
      ],
      "execution_count": 12,
      "outputs": [
        {
          "output_type": "stream",
          "text": [
            "(array([], dtype=int64), array([], dtype=int64))\n",
            "Int64Index([], dtype='int64')\n"
          ],
          "name": "stdout"
        }
      ]
    },
    {
      "cell_type": "code",
      "metadata": {
        "id": "kgZWnXHcRETx",
        "outputId": "a9f141bf-3666-4bde-99c9-3e389c2ef532",
        "colab": {
          "base_uri": "https://localhost:8080/",
          "height": 507
        }
      },
      "source": [
        "train_data"
      ],
      "execution_count": 13,
      "outputs": [
        {
          "output_type": "execute_result",
          "data": {
            "text/html": [
              "<div>\n",
              "<style scoped>\n",
              "    .dataframe tbody tr th:only-of-type {\n",
              "        vertical-align: middle;\n",
              "    }\n",
              "\n",
              "    .dataframe tbody tr th {\n",
              "        vertical-align: top;\n",
              "    }\n",
              "\n",
              "    .dataframe thead th {\n",
              "        text-align: right;\n",
              "    }\n",
              "</style>\n",
              "<table border=\"1\" class=\"dataframe\">\n",
              "  <thead>\n",
              "    <tr style=\"text-align: right;\">\n",
              "      <th></th>\n",
              "      <th>Unnamed: 0</th>\n",
              "      <th>gender</th>\n",
              "      <th>age</th>\n",
              "      <th>R HR STD</th>\n",
              "      <th>R HR median</th>\n",
              "      <th>R HR min</th>\n",
              "      <th>R HR max</th>\n",
              "      <th>R HR mean</th>\n",
              "      <th>RMSSD</th>\n",
              "      <th>R amp II std</th>\n",
              "      <th>R amp II min</th>\n",
              "      <th>R amp II min_2</th>\n",
              "      <th>R amp leads I</th>\n",
              "      <th>R amp leads II</th>\n",
              "      <th>R amp lead III</th>\n",
              "      <th>R amp lead aVR</th>\n",
              "      <th>R amp lead aVL</th>\n",
              "      <th>R amp lead aVF</th>\n",
              "      <th>R amp V1</th>\n",
              "      <th>R amp V2</th>\n",
              "      <th>R amp V3</th>\n",
              "      <th>R amp V4</th>\n",
              "      <th>R amp V5</th>\n",
              "      <th>R amp V6</th>\n",
              "      <th>p_offset_std</th>\n",
              "      <th>p_offset_median</th>\n",
              "      <th>p_offset_min</th>\n",
              "      <th>p_offset_max</th>\n",
              "      <th>mean_p_offset</th>\n",
              "      <th>p_onsets_std</th>\n",
              "      <th>p_onsets_median</th>\n",
              "      <th>p_onsets_min</th>\n",
              "      <th>p_onsets_max</th>\n",
              "      <th>mean_p_onsets</th>\n",
              "      <th>ECG_baseline</th>\n",
              "      <th>p_rate_std</th>\n",
              "      <th>p_rate_median</th>\n",
              "      <th>p_rate_min</th>\n",
              "      <th>p_rate_max</th>\n",
              "      <th>mean_p_rate</th>\n",
              "      <th>...</th>\n",
              "      <th>S amp leads I</th>\n",
              "      <th>S amp leads II</th>\n",
              "      <th>S amp lead III</th>\n",
              "      <th>S amp lead aVR</th>\n",
              "      <th>S amp lead aVL</th>\n",
              "      <th>S amp lead aVF</th>\n",
              "      <th>S amp V1</th>\n",
              "      <th>S amp V2</th>\n",
              "      <th>S amp V3</th>\n",
              "      <th>S amp V4</th>\n",
              "      <th>S amp V5</th>\n",
              "      <th>S amp V6</th>\n",
              "      <th>t_rate_std</th>\n",
              "      <th>t_rate_median</th>\n",
              "      <th>t_rate_min</th>\n",
              "      <th>t_rate_max</th>\n",
              "      <th>mean_t_rate</th>\n",
              "      <th>T amp leads I</th>\n",
              "      <th>T amp leads II</th>\n",
              "      <th>T amp lead III</th>\n",
              "      <th>T amp lead aVR</th>\n",
              "      <th>T amp lead aVL</th>\n",
              "      <th>T amp lead aVF</th>\n",
              "      <th>T amp V1</th>\n",
              "      <th>T amp V2</th>\n",
              "      <th>T amp V3</th>\n",
              "      <th>T amp V4</th>\n",
              "      <th>T amp V5</th>\n",
              "      <th>T amp V6</th>\n",
              "      <th>t_offset_std</th>\n",
              "      <th>t_offset_median</th>\n",
              "      <th>t_offset_min</th>\n",
              "      <th>t_offset_max</th>\n",
              "      <th>mean_t_offset</th>\n",
              "      <th>t_onsets_std</th>\n",
              "      <th>t_onsets_median</th>\n",
              "      <th>t_onsets_min</th>\n",
              "      <th>t_onsets_max</th>\n",
              "      <th>mean_t_onsets</th>\n",
              "      <th>Labels</th>\n",
              "    </tr>\n",
              "  </thead>\n",
              "  <tbody>\n",
              "    <tr>\n",
              "      <th>0</th>\n",
              "      <td>0</td>\n",
              "      <td>2.0</td>\n",
              "      <td>-1.0</td>\n",
              "      <td>35.022173</td>\n",
              "      <td>64.242480</td>\n",
              "      <td>62.240664</td>\n",
              "      <td>178.571429</td>\n",
              "      <td>78.968869</td>\n",
              "      <td>7462.634770</td>\n",
              "      <td>0.098937</td>\n",
              "      <td>0.125</td>\n",
              "      <td>0.125</td>\n",
              "      <td>0.578000</td>\n",
              "      <td>0.390364</td>\n",
              "      <td>-0.187636</td>\n",
              "      <td>-0.484000</td>\n",
              "      <td>0.382636</td>\n",
              "      <td>0.101000</td>\n",
              "      <td>-0.329091</td>\n",
              "      <td>-0.155727</td>\n",
              "      <td>0.325091</td>\n",
              "      <td>0.450818</td>\n",
              "      <td>0.495182</td>\n",
              "      <td>0.411000</td>\n",
              "      <td>147.375751</td>\n",
              "      <td>63.626795</td>\n",
              "      <td>57.034221</td>\n",
              "      <td>555.555556</td>\n",
              "      <td>113.872955</td>\n",
              "      <td>89.047138</td>\n",
              "      <td>64.174720</td>\n",
              "      <td>59.171598</td>\n",
              "      <td>361.445783</td>\n",
              "      <td>95.002390</td>\n",
              "      <td>-0.025364</td>\n",
              "      <td>144.267983</td>\n",
              "      <td>63.560463</td>\n",
              "      <td>58.479532</td>\n",
              "      <td>545.454545</td>\n",
              "      <td>113.038421</td>\n",
              "      <td>...</td>\n",
              "      <td>-0.044091</td>\n",
              "      <td>-0.061636</td>\n",
              "      <td>-0.017636</td>\n",
              "      <td>0.052909</td>\n",
              "      <td>-0.013091</td>\n",
              "      <td>-0.039636</td>\n",
              "      <td>-0.180273</td>\n",
              "      <td>-0.342909</td>\n",
              "      <td>-0.205091</td>\n",
              "      <td>-0.140182</td>\n",
              "      <td>-0.043909</td>\n",
              "      <td>0.066545</td>\n",
              "      <td>59.761749</td>\n",
              "      <td>64.936282</td>\n",
              "      <td>62.370062</td>\n",
              "      <td>265.486726</td>\n",
              "      <td>87.351414</td>\n",
              "      <td>0.132909</td>\n",
              "      <td>0.159364</td>\n",
              "      <td>0.026455</td>\n",
              "      <td>-0.146364</td>\n",
              "      <td>0.052909</td>\n",
              "      <td>0.092818</td>\n",
              "      <td>0.070455</td>\n",
              "      <td>0.210636</td>\n",
              "      <td>0.139091</td>\n",
              "      <td>0.140455</td>\n",
              "      <td>0.145818</td>\n",
              "      <td>0.137727</td>\n",
              "      <td>66.537396</td>\n",
              "      <td>65.865579</td>\n",
              "      <td>61.855670</td>\n",
              "      <td>288.461538</td>\n",
              "      <td>89.609104</td>\n",
              "      <td>61.288462</td>\n",
              "      <td>65.077147</td>\n",
              "      <td>60.483871</td>\n",
              "      <td>270.270270</td>\n",
              "      <td>87.847241</td>\n",
              "      <td>['NORM']</td>\n",
              "    </tr>\n",
              "    <tr>\n",
              "      <th>1</th>\n",
              "      <td>1</td>\n",
              "      <td>2.0</td>\n",
              "      <td>-1.0</td>\n",
              "      <td>23.360239</td>\n",
              "      <td>50.726668</td>\n",
              "      <td>43.795620</td>\n",
              "      <td>116.731518</td>\n",
              "      <td>60.291780</td>\n",
              "      <td>4180.799504</td>\n",
              "      <td>0.522686</td>\n",
              "      <td>0.119</td>\n",
              "      <td>0.119</td>\n",
              "      <td>0.439333</td>\n",
              "      <td>1.065778</td>\n",
              "      <td>0.626333</td>\n",
              "      <td>-0.752778</td>\n",
              "      <td>-0.093889</td>\n",
              "      <td>0.845667</td>\n",
              "      <td>-1.255778</td>\n",
              "      <td>-2.350111</td>\n",
              "      <td>-1.414333</td>\n",
              "      <td>1.577778</td>\n",
              "      <td>1.404889</td>\n",
              "      <td>1.091667</td>\n",
              "      <td>18.936710</td>\n",
              "      <td>51.457976</td>\n",
              "      <td>44.776119</td>\n",
              "      <td>92.592593</td>\n",
              "      <td>59.821273</td>\n",
              "      <td>21.843615</td>\n",
              "      <td>50.167224</td>\n",
              "      <td>43.478261</td>\n",
              "      <td>103.092784</td>\n",
              "      <td>60.782777</td>\n",
              "      <td>-0.013125</td>\n",
              "      <td>20.829736</td>\n",
              "      <td>49.504950</td>\n",
              "      <td>43.541364</td>\n",
              "      <td>97.402597</td>\n",
              "      <td>60.615808</td>\n",
              "      <td>...</td>\n",
              "      <td>-0.128333</td>\n",
              "      <td>-0.090444</td>\n",
              "      <td>0.037778</td>\n",
              "      <td>0.109444</td>\n",
              "      <td>-0.083000</td>\n",
              "      <td>-0.026222</td>\n",
              "      <td>-0.335778</td>\n",
              "      <td>-0.619444</td>\n",
              "      <td>-0.658444</td>\n",
              "      <td>-0.438444</td>\n",
              "      <td>-0.176222</td>\n",
              "      <td>-0.060333</td>\n",
              "      <td>20.862022</td>\n",
              "      <td>50.505051</td>\n",
              "      <td>43.923865</td>\n",
              "      <td>99.667774</td>\n",
              "      <td>60.616709</td>\n",
              "      <td>0.339125</td>\n",
              "      <td>0.327875</td>\n",
              "      <td>-0.011250</td>\n",
              "      <td>-0.333375</td>\n",
              "      <td>0.175000</td>\n",
              "      <td>0.158125</td>\n",
              "      <td>-0.195375</td>\n",
              "      <td>0.600125</td>\n",
              "      <td>0.651125</td>\n",
              "      <td>0.469750</td>\n",
              "      <td>0.373500</td>\n",
              "      <td>0.295375</td>\n",
              "      <td>20.519107</td>\n",
              "      <td>50.251256</td>\n",
              "      <td>43.352601</td>\n",
              "      <td>97.719870</td>\n",
              "      <td>60.381687</td>\n",
              "      <td>21.792238</td>\n",
              "      <td>48.701299</td>\n",
              "      <td>41.551247</td>\n",
              "      <td>97.719870</td>\n",
              "      <td>60.685624</td>\n",
              "      <td>['NORM']</td>\n",
              "    </tr>\n",
              "    <tr>\n",
              "      <th>2</th>\n",
              "      <td>2</td>\n",
              "      <td>2.0</td>\n",
              "      <td>-1.0</td>\n",
              "      <td>27.444595</td>\n",
              "      <td>64.308756</td>\n",
              "      <td>61.475410</td>\n",
              "      <td>138.888889</td>\n",
              "      <td>77.215155</td>\n",
              "      <td>6715.386001</td>\n",
              "      <td>0.260972</td>\n",
              "      <td>-0.129</td>\n",
              "      <td>-0.129</td>\n",
              "      <td>0.739000</td>\n",
              "      <td>0.622545</td>\n",
              "      <td>-0.116364</td>\n",
              "      <td>-0.680545</td>\n",
              "      <td>0.427455</td>\n",
              "      <td>0.253000</td>\n",
              "      <td>-0.464182</td>\n",
              "      <td>-0.295455</td>\n",
              "      <td>0.697273</td>\n",
              "      <td>0.904091</td>\n",
              "      <td>0.731727</td>\n",
              "      <td>0.615909</td>\n",
              "      <td>39.352330</td>\n",
              "      <td>62.827294</td>\n",
              "      <td>57.915058</td>\n",
              "      <td>187.500000</td>\n",
              "      <td>81.766103</td>\n",
              "      <td>37.246120</td>\n",
              "      <td>63.230134</td>\n",
              "      <td>58.479532</td>\n",
              "      <td>171.428571</td>\n",
              "      <td>81.025344</td>\n",
              "      <td>-0.028000</td>\n",
              "      <td>31.974935</td>\n",
              "      <td>63.164894</td>\n",
              "      <td>60.000000</td>\n",
              "      <td>147.058824</td>\n",
              "      <td>79.442134</td>\n",
              "      <td>...</td>\n",
              "      <td>-0.076091</td>\n",
              "      <td>-0.081000</td>\n",
              "      <td>-0.004727</td>\n",
              "      <td>0.078455</td>\n",
              "      <td>-0.035545</td>\n",
              "      <td>-0.042818</td>\n",
              "      <td>-0.010273</td>\n",
              "      <td>-0.029364</td>\n",
              "      <td>-0.120091</td>\n",
              "      <td>-0.078182</td>\n",
              "      <td>-0.045455</td>\n",
              "      <td>-0.022000</td>\n",
              "      <td>41.800335</td>\n",
              "      <td>64.725597</td>\n",
              "      <td>55.248619</td>\n",
              "      <td>201.342282</td>\n",
              "      <td>80.680656</td>\n",
              "      <td>0.170455</td>\n",
              "      <td>0.137818</td>\n",
              "      <td>-0.032545</td>\n",
              "      <td>-0.154182</td>\n",
              "      <td>0.101091</td>\n",
              "      <td>0.052818</td>\n",
              "      <td>-0.104818</td>\n",
              "      <td>0.072364</td>\n",
              "      <td>0.206545</td>\n",
              "      <td>0.154727</td>\n",
              "      <td>0.135545</td>\n",
              "      <td>0.125909</td>\n",
              "      <td>37.137996</td>\n",
              "      <td>66.080578</td>\n",
              "      <td>51.993068</td>\n",
              "      <td>180.722892</td>\n",
              "      <td>79.872997</td>\n",
              "      <td>48.470414</td>\n",
              "      <td>65.011598</td>\n",
              "      <td>53.475936</td>\n",
              "      <td>223.880597</td>\n",
              "      <td>82.741229</td>\n",
              "      <td>['NORM']</td>\n",
              "    </tr>\n",
              "    <tr>\n",
              "      <th>3</th>\n",
              "      <td>3</td>\n",
              "      <td>2.0</td>\n",
              "      <td>-1.0</td>\n",
              "      <td>3.937792</td>\n",
              "      <td>76.142622</td>\n",
              "      <td>68.649886</td>\n",
              "      <td>83.102493</td>\n",
              "      <td>75.315293</td>\n",
              "      <td>5687.899616</td>\n",
              "      <td>0.411491</td>\n",
              "      <td>0.445</td>\n",
              "      <td>0.445</td>\n",
              "      <td>0.251692</td>\n",
              "      <td>1.398769</td>\n",
              "      <td>1.147231</td>\n",
              "      <td>-0.825462</td>\n",
              "      <td>-0.448077</td>\n",
              "      <td>1.272769</td>\n",
              "      <td>-0.369231</td>\n",
              "      <td>-0.843154</td>\n",
              "      <td>0.438462</td>\n",
              "      <td>2.604538</td>\n",
              "      <td>1.945462</td>\n",
              "      <td>1.414154</td>\n",
              "      <td>9.133375</td>\n",
              "      <td>75.187970</td>\n",
              "      <td>64.655172</td>\n",
              "      <td>98.360656</td>\n",
              "      <td>76.135691</td>\n",
              "      <td>8.118279</td>\n",
              "      <td>74.441687</td>\n",
              "      <td>67.873303</td>\n",
              "      <td>99.009901</td>\n",
              "      <td>75.675597</td>\n",
              "      <td>-0.093667</td>\n",
              "      <td>9.333440</td>\n",
              "      <td>74.626866</td>\n",
              "      <td>64.935065</td>\n",
              "      <td>102.040816</td>\n",
              "      <td>75.892683</td>\n",
              "      <td>...</td>\n",
              "      <td>-0.312923</td>\n",
              "      <td>-0.325538</td>\n",
              "      <td>-0.012692</td>\n",
              "      <td>0.319231</td>\n",
              "      <td>-0.149846</td>\n",
              "      <td>-0.169077</td>\n",
              "      <td>-0.444769</td>\n",
              "      <td>-0.946385</td>\n",
              "      <td>-1.442692</td>\n",
              "      <td>-1.016308</td>\n",
              "      <td>-0.643538</td>\n",
              "      <td>-0.391692</td>\n",
              "      <td>3.713153</td>\n",
              "      <td>75.187970</td>\n",
              "      <td>68.027211</td>\n",
              "      <td>80.428954</td>\n",
              "      <td>74.695693</td>\n",
              "      <td>0.289000</td>\n",
              "      <td>0.476000</td>\n",
              "      <td>0.187000</td>\n",
              "      <td>-0.382750</td>\n",
              "      <td>0.050750</td>\n",
              "      <td>0.331167</td>\n",
              "      <td>-0.165750</td>\n",
              "      <td>0.549417</td>\n",
              "      <td>0.946250</td>\n",
              "      <td>0.771833</td>\n",
              "      <td>0.576083</td>\n",
              "      <td>0.445250</td>\n",
              "      <td>4.209661</td>\n",
              "      <td>74.074074</td>\n",
              "      <td>69.124424</td>\n",
              "      <td>82.417582</td>\n",
              "      <td>74.724755</td>\n",
              "      <td>3.361471</td>\n",
              "      <td>74.165750</td>\n",
              "      <td>68.181818</td>\n",
              "      <td>78.947368</td>\n",
              "      <td>74.100926</td>\n",
              "      <td>['NORM']</td>\n",
              "    </tr>\n",
              "    <tr>\n",
              "      <th>4</th>\n",
              "      <td>4</td>\n",
              "      <td>2.0</td>\n",
              "      <td>-1.0</td>\n",
              "      <td>3.568312</td>\n",
              "      <td>66.519174</td>\n",
              "      <td>60.975610</td>\n",
              "      <td>72.289157</td>\n",
              "      <td>66.474286</td>\n",
              "      <td>4431.563492</td>\n",
              "      <td>0.127395</td>\n",
              "      <td>0.978</td>\n",
              "      <td>0.978</td>\n",
              "      <td>0.335545</td>\n",
              "      <td>1.249455</td>\n",
              "      <td>0.914000</td>\n",
              "      <td>-0.792727</td>\n",
              "      <td>-0.289545</td>\n",
              "      <td>1.081273</td>\n",
              "      <td>-0.708636</td>\n",
              "      <td>-1.754727</td>\n",
              "      <td>0.686636</td>\n",
              "      <td>1.536818</td>\n",
              "      <td>1.427636</td>\n",
              "      <td>1.230364</td>\n",
              "      <td>4.361567</td>\n",
              "      <td>67.873303</td>\n",
              "      <td>57.692308</td>\n",
              "      <td>71.942446</td>\n",
              "      <td>66.509194</td>\n",
              "      <td>3.873108</td>\n",
              "      <td>67.264574</td>\n",
              "      <td>60.000000</td>\n",
              "      <td>71.599045</td>\n",
              "      <td>66.567541</td>\n",
              "      <td>-0.090500</td>\n",
              "      <td>4.495829</td>\n",
              "      <td>65.934066</td>\n",
              "      <td>58.593750</td>\n",
              "      <td>73.891626</td>\n",
              "      <td>66.726560</td>\n",
              "      <td>...</td>\n",
              "      <td>-0.094364</td>\n",
              "      <td>-0.151455</td>\n",
              "      <td>-0.057091</td>\n",
              "      <td>0.122909</td>\n",
              "      <td>-0.018455</td>\n",
              "      <td>-0.104091</td>\n",
              "      <td>-0.040182</td>\n",
              "      <td>-0.095909</td>\n",
              "      <td>-0.147455</td>\n",
              "      <td>-0.134091</td>\n",
              "      <td>-0.104909</td>\n",
              "      <td>-0.075091</td>\n",
              "      <td>3.699815</td>\n",
              "      <td>65.721278</td>\n",
              "      <td>60.728745</td>\n",
              "      <td>72.115385</td>\n",
              "      <td>66.428960</td>\n",
              "      <td>0.164364</td>\n",
              "      <td>0.340909</td>\n",
              "      <td>0.176636</td>\n",
              "      <td>-0.252909</td>\n",
              "      <td>-0.006545</td>\n",
              "      <td>0.258545</td>\n",
              "      <td>-0.007364</td>\n",
              "      <td>0.378909</td>\n",
              "      <td>0.415091</td>\n",
              "      <td>0.354636</td>\n",
              "      <td>0.295909</td>\n",
              "      <td>0.235636</td>\n",
              "      <td>3.768587</td>\n",
              "      <td>65.288434</td>\n",
              "      <td>60.483871</td>\n",
              "      <td>73.170732</td>\n",
              "      <td>66.478167</td>\n",
              "      <td>3.622490</td>\n",
              "      <td>65.502183</td>\n",
              "      <td>62.761506</td>\n",
              "      <td>73.891626</td>\n",
              "      <td>66.544697</td>\n",
              "      <td>['NORM']</td>\n",
              "    </tr>\n",
              "    <tr>\n",
              "      <th>...</th>\n",
              "      <td>...</td>\n",
              "      <td>...</td>\n",
              "      <td>...</td>\n",
              "      <td>...</td>\n",
              "      <td>...</td>\n",
              "      <td>...</td>\n",
              "      <td>...</td>\n",
              "      <td>...</td>\n",
              "      <td>...</td>\n",
              "      <td>...</td>\n",
              "      <td>...</td>\n",
              "      <td>...</td>\n",
              "      <td>...</td>\n",
              "      <td>...</td>\n",
              "      <td>...</td>\n",
              "      <td>...</td>\n",
              "      <td>...</td>\n",
              "      <td>...</td>\n",
              "      <td>...</td>\n",
              "      <td>...</td>\n",
              "      <td>...</td>\n",
              "      <td>...</td>\n",
              "      <td>...</td>\n",
              "      <td>...</td>\n",
              "      <td>...</td>\n",
              "      <td>...</td>\n",
              "      <td>...</td>\n",
              "      <td>...</td>\n",
              "      <td>...</td>\n",
              "      <td>...</td>\n",
              "      <td>...</td>\n",
              "      <td>...</td>\n",
              "      <td>...</td>\n",
              "      <td>...</td>\n",
              "      <td>...</td>\n",
              "      <td>...</td>\n",
              "      <td>...</td>\n",
              "      <td>...</td>\n",
              "      <td>...</td>\n",
              "      <td>...</td>\n",
              "      <td>...</td>\n",
              "      <td>...</td>\n",
              "      <td>...</td>\n",
              "      <td>...</td>\n",
              "      <td>...</td>\n",
              "      <td>...</td>\n",
              "      <td>...</td>\n",
              "      <td>...</td>\n",
              "      <td>...</td>\n",
              "      <td>...</td>\n",
              "      <td>...</td>\n",
              "      <td>...</td>\n",
              "      <td>...</td>\n",
              "      <td>...</td>\n",
              "      <td>...</td>\n",
              "      <td>...</td>\n",
              "      <td>...</td>\n",
              "      <td>...</td>\n",
              "      <td>...</td>\n",
              "      <td>...</td>\n",
              "      <td>...</td>\n",
              "      <td>...</td>\n",
              "      <td>...</td>\n",
              "      <td>...</td>\n",
              "      <td>...</td>\n",
              "      <td>...</td>\n",
              "      <td>...</td>\n",
              "      <td>...</td>\n",
              "      <td>...</td>\n",
              "      <td>...</td>\n",
              "      <td>...</td>\n",
              "      <td>...</td>\n",
              "      <td>...</td>\n",
              "      <td>...</td>\n",
              "      <td>...</td>\n",
              "      <td>...</td>\n",
              "      <td>...</td>\n",
              "      <td>...</td>\n",
              "      <td>...</td>\n",
              "      <td>...</td>\n",
              "      <td>...</td>\n",
              "    </tr>\n",
              "    <tr>\n",
              "      <th>19603</th>\n",
              "      <td>19603</td>\n",
              "      <td>2.0</td>\n",
              "      <td>-1.0</td>\n",
              "      <td>10.235809</td>\n",
              "      <td>107.720275</td>\n",
              "      <td>85.714286</td>\n",
              "      <td>142.180095</td>\n",
              "      <td>108.752499</td>\n",
              "      <td>11931.877900</td>\n",
              "      <td>0.407431</td>\n",
              "      <td>0.629</td>\n",
              "      <td>0.629</td>\n",
              "      <td>1.064176</td>\n",
              "      <td>0.863118</td>\n",
              "      <td>-0.201000</td>\n",
              "      <td>-0.963412</td>\n",
              "      <td>0.632412</td>\n",
              "      <td>0.330765</td>\n",
              "      <td>-0.616353</td>\n",
              "      <td>-0.024353</td>\n",
              "      <td>0.796529</td>\n",
              "      <td>1.489588</td>\n",
              "      <td>2.262765</td>\n",
              "      <td>1.850059</td>\n",
              "      <td>16.720456</td>\n",
              "      <td>106.416433</td>\n",
              "      <td>75.376884</td>\n",
              "      <td>148.514851</td>\n",
              "      <td>110.069512</td>\n",
              "      <td>11.047870</td>\n",
              "      <td>108.303249</td>\n",
              "      <td>81.521739</td>\n",
              "      <td>138.248848</td>\n",
              "      <td>109.160070</td>\n",
              "      <td>-0.036176</td>\n",
              "      <td>11.505643</td>\n",
              "      <td>108.695652</td>\n",
              "      <td>78.534031</td>\n",
              "      <td>140.845070</td>\n",
              "      <td>109.435441</td>\n",
              "      <td>...</td>\n",
              "      <td>0.138471</td>\n",
              "      <td>-0.345529</td>\n",
              "      <td>-0.484000</td>\n",
              "      <td>0.103882</td>\n",
              "      <td>0.311353</td>\n",
              "      <td>-0.414412</td>\n",
              "      <td>-0.225059</td>\n",
              "      <td>-1.084824</td>\n",
              "      <td>-1.352294</td>\n",
              "      <td>-1.071588</td>\n",
              "      <td>-0.794059</td>\n",
              "      <td>-0.217412</td>\n",
              "      <td>15.390438</td>\n",
              "      <td>106.761566</td>\n",
              "      <td>67.114094</td>\n",
              "      <td>131.578947</td>\n",
              "      <td>103.602722</td>\n",
              "      <td>-0.088562</td>\n",
              "      <td>0.127438</td>\n",
              "      <td>0.216000</td>\n",
              "      <td>-0.019625</td>\n",
              "      <td>-0.152188</td>\n",
              "      <td>0.171500</td>\n",
              "      <td>0.075063</td>\n",
              "      <td>0.231563</td>\n",
              "      <td>0.330062</td>\n",
              "      <td>0.260813</td>\n",
              "      <td>0.162187</td>\n",
              "      <td>0.051312</td>\n",
              "      <td>15.511938</td>\n",
              "      <td>106.382979</td>\n",
              "      <td>65.359477</td>\n",
              "      <td>135.135135</td>\n",
              "      <td>103.745420</td>\n",
              "      <td>16.437627</td>\n",
              "      <td>107.913669</td>\n",
              "      <td>67.264574</td>\n",
              "      <td>137.614679</td>\n",
              "      <td>104.168044</td>\n",
              "      <td>['NORM']</td>\n",
              "    </tr>\n",
              "    <tr>\n",
              "      <th>19604</th>\n",
              "      <td>19604</td>\n",
              "      <td>2.0</td>\n",
              "      <td>-1.0</td>\n",
              "      <td>4.089769</td>\n",
              "      <td>67.267618</td>\n",
              "      <td>65.789474</td>\n",
              "      <td>80.428954</td>\n",
              "      <td>68.441891</td>\n",
              "      <td>4701.018623</td>\n",
              "      <td>0.090460</td>\n",
              "      <td>0.045</td>\n",
              "      <td>0.045</td>\n",
              "      <td>0.553273</td>\n",
              "      <td>0.327545</td>\n",
              "      <td>-0.225909</td>\n",
              "      <td>-0.440182</td>\n",
              "      <td>0.389273</td>\n",
              "      <td>0.050455</td>\n",
              "      <td>-0.096364</td>\n",
              "      <td>0.370545</td>\n",
              "      <td>0.579091</td>\n",
              "      <td>0.788818</td>\n",
              "      <td>0.833636</td>\n",
              "      <td>0.777091</td>\n",
              "      <td>9.844362</td>\n",
              "      <td>67.265927</td>\n",
              "      <td>65.645514</td>\n",
              "      <td>99.667774</td>\n",
              "      <td>70.278583</td>\n",
              "      <td>10.547722</td>\n",
              "      <td>67.114094</td>\n",
              "      <td>64.516129</td>\n",
              "      <td>101.694915</td>\n",
              "      <td>70.266143</td>\n",
              "      <td>-0.031000</td>\n",
              "      <td>10.220683</td>\n",
              "      <td>67.267618</td>\n",
              "      <td>65.645514</td>\n",
              "      <td>101.010101</td>\n",
              "      <td>70.487796</td>\n",
              "      <td>...</td>\n",
              "      <td>-0.073700</td>\n",
              "      <td>-0.061600</td>\n",
              "      <td>0.012000</td>\n",
              "      <td>0.067600</td>\n",
              "      <td>-0.042400</td>\n",
              "      <td>-0.024600</td>\n",
              "      <td>0.004000</td>\n",
              "      <td>-0.028700</td>\n",
              "      <td>-0.066800</td>\n",
              "      <td>-0.079900</td>\n",
              "      <td>-0.078000</td>\n",
              "      <td>-0.064300</td>\n",
              "      <td>0.815703</td>\n",
              "      <td>67.114094</td>\n",
              "      <td>65.934066</td>\n",
              "      <td>68.493151</td>\n",
              "      <td>67.090652</td>\n",
              "      <td>0.090700</td>\n",
              "      <td>0.160800</td>\n",
              "      <td>0.070100</td>\n",
              "      <td>-0.125900</td>\n",
              "      <td>0.010000</td>\n",
              "      <td>0.115300</td>\n",
              "      <td>0.018600</td>\n",
              "      <td>0.185300</td>\n",
              "      <td>0.178600</td>\n",
              "      <td>0.168000</td>\n",
              "      <td>0.162000</td>\n",
              "      <td>0.164000</td>\n",
              "      <td>1.294149</td>\n",
              "      <td>67.114094</td>\n",
              "      <td>64.516129</td>\n",
              "      <td>68.807339</td>\n",
              "      <td>67.256308</td>\n",
              "      <td>2.235809</td>\n",
              "      <td>66.964286</td>\n",
              "      <td>62.761506</td>\n",
              "      <td>70.588235</td>\n",
              "      <td>66.989704</td>\n",
              "      <td>['CD']</td>\n",
              "    </tr>\n",
              "    <tr>\n",
              "      <th>19605</th>\n",
              "      <td>19605</td>\n",
              "      <td>2.0</td>\n",
              "      <td>-1.0</td>\n",
              "      <td>38.461356</td>\n",
              "      <td>81.146063</td>\n",
              "      <td>55.045872</td>\n",
              "      <td>171.428571</td>\n",
              "      <td>92.664642</td>\n",
              "      <td>10066.011663</td>\n",
              "      <td>0.308788</td>\n",
              "      <td>-0.028</td>\n",
              "      <td>-0.028</td>\n",
              "      <td>0.482462</td>\n",
              "      <td>0.532000</td>\n",
              "      <td>0.049462</td>\n",
              "      <td>-0.507615</td>\n",
              "      <td>0.216385</td>\n",
              "      <td>0.290385</td>\n",
              "      <td>-0.377615</td>\n",
              "      <td>0.227462</td>\n",
              "      <td>0.346538</td>\n",
              "      <td>0.619692</td>\n",
              "      <td>0.607154</td>\n",
              "      <td>0.470385</td>\n",
              "      <td>240.507609</td>\n",
              "      <td>66.770648</td>\n",
              "      <td>54.545455</td>\n",
              "      <td>833.333333</td>\n",
              "      <td>178.472426</td>\n",
              "      <td>120.449568</td>\n",
              "      <td>71.090447</td>\n",
              "      <td>54.644809</td>\n",
              "      <td>400.000000</td>\n",
              "      <td>126.522903</td>\n",
              "      <td>-0.035692</td>\n",
              "      <td>154.683129</td>\n",
              "      <td>68.807339</td>\n",
              "      <td>54.945055</td>\n",
              "      <td>500.000000</td>\n",
              "      <td>142.708388</td>\n",
              "      <td>...</td>\n",
              "      <td>-0.047417</td>\n",
              "      <td>-0.093083</td>\n",
              "      <td>-0.045750</td>\n",
              "      <td>0.070417</td>\n",
              "      <td>-0.000500</td>\n",
              "      <td>-0.069083</td>\n",
              "      <td>-0.055500</td>\n",
              "      <td>-0.122167</td>\n",
              "      <td>-0.116000</td>\n",
              "      <td>-0.092250</td>\n",
              "      <td>-0.037500</td>\n",
              "      <td>-0.006250</td>\n",
              "      <td>59.918761</td>\n",
              "      <td>73.349633</td>\n",
              "      <td>55.350554</td>\n",
              "      <td>240.000000</td>\n",
              "      <td>101.334952</td>\n",
              "      <td>0.011750</td>\n",
              "      <td>0.040833</td>\n",
              "      <td>0.029000</td>\n",
              "      <td>-0.026500</td>\n",
              "      <td>-0.008667</td>\n",
              "      <td>0.035000</td>\n",
              "      <td>-0.015000</td>\n",
              "      <td>-0.038417</td>\n",
              "      <td>-0.075083</td>\n",
              "      <td>-0.041500</td>\n",
              "      <td>0.012167</td>\n",
              "      <td>0.029083</td>\n",
              "      <td>65.121957</td>\n",
              "      <td>72.639225</td>\n",
              "      <td>54.644809</td>\n",
              "      <td>263.157895</td>\n",
              "      <td>102.831542</td>\n",
              "      <td>53.624632</td>\n",
              "      <td>75.566751</td>\n",
              "      <td>54.249548</td>\n",
              "      <td>196.078431</td>\n",
              "      <td>99.489230</td>\n",
              "      <td>['CD']</td>\n",
              "    </tr>\n",
              "    <tr>\n",
              "      <th>19606</th>\n",
              "      <td>19606</td>\n",
              "      <td>2.0</td>\n",
              "      <td>-1.0</td>\n",
              "      <td>10.795504</td>\n",
              "      <td>69.204981</td>\n",
              "      <td>58.027079</td>\n",
              "      <td>101.694915</td>\n",
              "      <td>71.262827</td>\n",
              "      <td>5194.933469</td>\n",
              "      <td>0.028010</td>\n",
              "      <td>0.540</td>\n",
              "      <td>0.540</td>\n",
              "      <td>0.688545</td>\n",
              "      <td>0.580727</td>\n",
              "      <td>-0.107636</td>\n",
              "      <td>-0.634364</td>\n",
              "      <td>0.397909</td>\n",
              "      <td>0.236273</td>\n",
              "      <td>-0.028273</td>\n",
              "      <td>0.729364</td>\n",
              "      <td>0.795909</td>\n",
              "      <td>1.028545</td>\n",
              "      <td>0.975182</td>\n",
              "      <td>0.783364</td>\n",
              "      <td>21.810355</td>\n",
              "      <td>69.127727</td>\n",
              "      <td>50.335570</td>\n",
              "      <td>136.986301</td>\n",
              "      <td>74.005383</td>\n",
              "      <td>26.430534</td>\n",
              "      <td>68.259474</td>\n",
              "      <td>49.586777</td>\n",
              "      <td>152.284264</td>\n",
              "      <td>75.296000</td>\n",
              "      <td>-0.038182</td>\n",
              "      <td>24.367926</td>\n",
              "      <td>68.729334</td>\n",
              "      <td>49.833887</td>\n",
              "      <td>145.631068</td>\n",
              "      <td>74.762103</td>\n",
              "      <td>...</td>\n",
              "      <td>0.041273</td>\n",
              "      <td>-0.418273</td>\n",
              "      <td>-0.459455</td>\n",
              "      <td>0.188818</td>\n",
              "      <td>0.250636</td>\n",
              "      <td>-0.438545</td>\n",
              "      <td>-0.536182</td>\n",
              "      <td>-1.692818</td>\n",
              "      <td>-1.395545</td>\n",
              "      <td>-0.975545</td>\n",
              "      <td>-0.588182</td>\n",
              "      <td>-0.189545</td>\n",
              "      <td>11.872530</td>\n",
              "      <td>68.965517</td>\n",
              "      <td>57.361377</td>\n",
              "      <td>103.092784</td>\n",
              "      <td>71.530929</td>\n",
              "      <td>0.132800</td>\n",
              "      <td>0.311400</td>\n",
              "      <td>0.178700</td>\n",
              "      <td>-0.222400</td>\n",
              "      <td>-0.023200</td>\n",
              "      <td>0.244800</td>\n",
              "      <td>-0.064500</td>\n",
              "      <td>0.261800</td>\n",
              "      <td>0.216300</td>\n",
              "      <td>0.304800</td>\n",
              "      <td>0.294300</td>\n",
              "      <td>0.238800</td>\n",
              "      <td>12.624129</td>\n",
              "      <td>68.181818</td>\n",
              "      <td>56.603774</td>\n",
              "      <td>105.263158</td>\n",
              "      <td>71.615786</td>\n",
              "      <td>11.696963</td>\n",
              "      <td>68.649886</td>\n",
              "      <td>58.708415</td>\n",
              "      <td>102.739726</td>\n",
              "      <td>71.375763</td>\n",
              "      <td>['CD', 'STTC', 'MI']</td>\n",
              "    </tr>\n",
              "    <tr>\n",
              "      <th>19607</th>\n",
              "      <td>19607</td>\n",
              "      <td>2.0</td>\n",
              "      <td>-1.0</td>\n",
              "      <td>0.576332</td>\n",
              "      <td>59.171598</td>\n",
              "      <td>58.252427</td>\n",
              "      <td>60.240964</td>\n",
              "      <td>59.203135</td>\n",
              "      <td>3505.343403</td>\n",
              "      <td>0.019503</td>\n",
              "      <td>0.800</td>\n",
              "      <td>0.800</td>\n",
              "      <td>0.898200</td>\n",
              "      <td>0.841800</td>\n",
              "      <td>-0.056400</td>\n",
              "      <td>-0.869800</td>\n",
              "      <td>0.477200</td>\n",
              "      <td>0.392600</td>\n",
              "      <td>-0.678400</td>\n",
              "      <td>0.616900</td>\n",
              "      <td>1.227900</td>\n",
              "      <td>1.735100</td>\n",
              "      <td>1.704900</td>\n",
              "      <td>1.142200</td>\n",
              "      <td>0.848199</td>\n",
              "      <td>59.171598</td>\n",
              "      <td>58.365759</td>\n",
              "      <td>61.601643</td>\n",
              "      <td>59.326385</td>\n",
              "      <td>1.265551</td>\n",
              "      <td>58.823529</td>\n",
              "      <td>57.581574</td>\n",
              "      <td>61.728395</td>\n",
              "      <td>59.133450</td>\n",
              "      <td>-0.036700</td>\n",
              "      <td>0.689427</td>\n",
              "      <td>58.939096</td>\n",
              "      <td>58.027079</td>\n",
              "      <td>60.240964</td>\n",
              "      <td>59.114856</td>\n",
              "      <td>...</td>\n",
              "      <td>-0.091000</td>\n",
              "      <td>-0.088444</td>\n",
              "      <td>0.002556</td>\n",
              "      <td>0.089778</td>\n",
              "      <td>-0.046444</td>\n",
              "      <td>-0.042444</td>\n",
              "      <td>-0.082556</td>\n",
              "      <td>-0.315778</td>\n",
              "      <td>-0.334333</td>\n",
              "      <td>-0.258222</td>\n",
              "      <td>-0.142111</td>\n",
              "      <td>-0.073333</td>\n",
              "      <td>0.533584</td>\n",
              "      <td>59.172518</td>\n",
              "      <td>58.708415</td>\n",
              "      <td>60.120240</td>\n",
              "      <td>59.278681</td>\n",
              "      <td>0.181222</td>\n",
              "      <td>0.145444</td>\n",
              "      <td>-0.035889</td>\n",
              "      <td>-0.163000</td>\n",
              "      <td>0.108444</td>\n",
              "      <td>0.054444</td>\n",
              "      <td>0.017333</td>\n",
              "      <td>0.607333</td>\n",
              "      <td>0.394667</td>\n",
              "      <td>0.279444</td>\n",
              "      <td>0.184111</td>\n",
              "      <td>0.117333</td>\n",
              "      <td>1.338507</td>\n",
              "      <td>59.057178</td>\n",
              "      <td>58.027079</td>\n",
              "      <td>62.370062</td>\n",
              "      <td>59.405972</td>\n",
              "      <td>2.733110</td>\n",
              "      <td>59.311703</td>\n",
              "      <td>55.658627</td>\n",
              "      <td>64.239829</td>\n",
              "      <td>59.266767</td>\n",
              "      <td>['STTC']</td>\n",
              "    </tr>\n",
              "  </tbody>\n",
              "</table>\n",
              "<p>19564 rows × 114 columns</p>\n",
              "</div>"
            ],
            "text/plain": [
              "       Unnamed: 0  gender  ...  mean_t_onsets                Labels\n",
              "0               0     2.0  ...      87.847241              ['NORM']\n",
              "1               1     2.0  ...      60.685624              ['NORM']\n",
              "2               2     2.0  ...      82.741229              ['NORM']\n",
              "3               3     2.0  ...      74.100926              ['NORM']\n",
              "4               4     2.0  ...      66.544697              ['NORM']\n",
              "...           ...     ...  ...            ...                   ...\n",
              "19603       19603     2.0  ...     104.168044              ['NORM']\n",
              "19604       19604     2.0  ...      66.989704                ['CD']\n",
              "19605       19605     2.0  ...      99.489230                ['CD']\n",
              "19606       19606     2.0  ...      71.375763  ['CD', 'STTC', 'MI']\n",
              "19607       19607     2.0  ...      59.266767              ['STTC']\n",
              "\n",
              "[19564 rows x 114 columns]"
            ]
          },
          "metadata": {
            "tags": []
          },
          "execution_count": 13
        }
      ]
    },
    {
      "cell_type": "code",
      "metadata": {
        "id": "bGlAZ_wX0oOC"
      },
      "source": [
        "y_train = train_data['Labels'].str.lstrip(\"'[\").str.rstrip(\"]'\").str.replace(\"'\", \"\").str.replace(\" \", \"\")"
      ],
      "execution_count": 14,
      "outputs": []
    },
    {
      "cell_type": "code",
      "metadata": {
        "id": "83Iu2S0U27gS"
      },
      "source": [
        "y_test = test_data['Labels'].str.lstrip(\"'[\").str.rstrip(\"]'\").str.replace(\"'\", \"\").str.replace(\" \", \"\")"
      ],
      "execution_count": 15,
      "outputs": []
    },
    {
      "cell_type": "code",
      "metadata": {
        "id": "ojVmjNoT0zh4"
      },
      "source": [
        "X_train = train_data.iloc[:,1:-1]"
      ],
      "execution_count": 16,
      "outputs": []
    },
    {
      "cell_type": "code",
      "metadata": {
        "id": "O8roFa289ZWg"
      },
      "source": [
        "X_test = test_data.iloc[:,1:-1]"
      ],
      "execution_count": 17,
      "outputs": []
    },
    {
      "cell_type": "code",
      "metadata": {
        "id": "CMhw16gYR_6W",
        "outputId": "96a970de-d0a4-49de-bd05-3cf1de43fea5",
        "colab": {
          "base_uri": "https://localhost:8080/"
        }
      },
      "source": [
        "from sklearn.preprocessing import MultiLabelBinarizer\n",
        "one_hot = MultiLabelBinarizer()\n",
        "y_train_ohe=one_hot.fit_transform(y_train.str.split(','))\n",
        "print(one_hot.classes_)\n",
        "print(\"classes: {}\".format(y_train_ohe.shape[1]))"
      ],
      "execution_count": 18,
      "outputs": [
        {
          "output_type": "stream",
          "text": [
            "['' 'CD' 'HYP' 'MI' 'NORM' 'STTC']\n",
            "classes: 6\n"
          ],
          "name": "stdout"
        }
      ]
    },
    {
      "cell_type": "code",
      "metadata": {
        "id": "86Vaonew3KzW",
        "outputId": "e0e08e7c-ee8b-4f4e-fec2-7d9b4c95b28e",
        "colab": {
          "base_uri": "https://localhost:8080/"
        }
      },
      "source": [
        "y_test_ohe = one_hot.transform(y_test.str.split(','))\n",
        "print(\"classes: {}\".format(y_test_ohe.shape[1]))"
      ],
      "execution_count": 19,
      "outputs": [
        {
          "output_type": "stream",
          "text": [
            "classes: 6\n"
          ],
          "name": "stdout"
        }
      ]
    },
    {
      "cell_type": "code",
      "metadata": {
        "id": "8qqSZQIN5Kpi"
      },
      "source": [
        "y_test_ohe = np.delete(y_test_ohe, 0, axis=1)"
      ],
      "execution_count": 20,
      "outputs": []
    },
    {
      "cell_type": "code",
      "metadata": {
        "id": "jMyjZJIz3ct7"
      },
      "source": [
        "y_train_ohe = np.delete(y_train_ohe, 0, axis=1)"
      ],
      "execution_count": 21,
      "outputs": []
    },
    {
      "cell_type": "code",
      "metadata": {
        "id": "NcPM_5pA3mPX",
        "outputId": "df0ef204-d784-42ec-e3ab-e0ed7fd264bb",
        "colab": {
          "base_uri": "https://localhost:8080/",
          "height": 900
        }
      },
      "source": [
        "def plot_classes(classes,y_ohe,plot_name = \"myplot\"):\n",
        "  plt.style.use('seaborn-paper')\n",
        "  plt.figure(figsize=(20,16))\n",
        "  plt.bar(x=classes,height=y_ohe.sum(axis=0))\n",
        "  plt.title(\"Distribution of Diagnosis\", color = \"black\")\n",
        "  plt.tick_params(axis=\"both\", colors = \"black\")\n",
        "  plt.xlabel(\"Diagnosis\", color = \"black\")\n",
        "  plt.ylabel(\"Count\", color = \"black\")\n",
        "  plt.xticks(rotation=90, fontsize=20)\n",
        "  plt.yticks(fontsize = 20)\n",
        "  plt.savefig(plot_name + \".png\")\n",
        "  plt.show()\n",
        "\n",
        "plot_classes(one_hot.classes_[1:],y_train_ohe)"
      ],
      "execution_count": 22,
      "outputs": [
        {
          "output_type": "display_data",
          "data": {
            "image/png": "[encoded data removed]",
            "text/plain": [
              "<Figure size 1440x1152 with 1 Axes>"
            ]
          },
          "metadata": {
            "tags": [],
            "needs_background": "light"
          }
        }
      ]
    },
    {
      "cell_type": "code",
      "metadata": {
        "id": "aynBBGml4Tyb",
        "outputId": "3d535392-8b56-4a5e-c4d8-b3cea3f1653f",
        "colab": {
          "base_uri": "https://localhost:8080/",
          "height": 900
        }
      },
      "source": [
        "plot_classes(one_hot.classes_[1:],y_test_ohe)"
      ],
      "execution_count": 23,
      "outputs": [
        {
          "output_type": "display_data",
          "data": {
            "image/png": "[encoded data removed]",
            "text/plain": [
              "<Figure size 1440x1152 with 1 Axes>"
            ]
          },
          "metadata": {
            "tags": [],
            "needs_background": "light"
          }
        }
      ]
    },
    {
      "cell_type": "code",
      "metadata": {
        "id": "AmpeQQLIi0Kg"
      },
      "source": [
        "#@title Transform our One Hot encoded multilabel output to a new type of label where all can be represented by a number:\n",
        "from sklearn.preprocessing import LabelEncoder\n",
        "def get_new_labels(y):\n",
        "    y_new = LabelEncoder().fit_transform([''.join(str(l)) for l in y])\n",
        "    return y_new"
      ],
      "execution_count": 24,
      "outputs": []
    },
    {
      "cell_type": "code",
      "metadata": {
        "id": "Yaom7G8A5euX",
        "outputId": "e8a27aba-e6af-4ae1-bdc6-ff37686ac145",
        "colab": {
          "base_uri": "https://localhost:8080/"
        }
      },
      "source": [
        "y_train_ = get_new_labels(y_train_ohe)\n",
        "print(\"Total number of unique combinations of diagnosis: {}\".format(len(np.unique(y_train_))))"
      ],
      "execution_count": 25,
      "outputs": [
        {
          "output_type": "stream",
          "text": [
            "Total number of unique combinations of diagnosis: 22\n"
          ],
          "name": "stdout"
        }
      ]
    },
    {
      "cell_type": "code",
      "metadata": {
        "id": "FSDzwTrM5i2o",
        "outputId": "842e264f-00cf-48a8-d631-a0a2311b9d76",
        "colab": {
          "base_uri": "https://localhost:8080/"
        }
      },
      "source": [
        "y_test_ = get_new_labels(y_test_ohe)\n",
        "print(\"Total number of unique combinations of diagnosis: {}\".format(len(np.unique(y_test_))))"
      ],
      "execution_count": 26,
      "outputs": [
        {
          "output_type": "stream",
          "text": [
            "Total number of unique combinations of diagnosis: 20\n"
          ],
          "name": "stdout"
        }
      ]
    },
    {
      "cell_type": "code",
      "metadata": {
        "id": "9yJP7EnM5n9l",
        "outputId": "fc8af498-62f0-4a94-9e5b-b2a35c71abcf",
        "colab": {
          "base_uri": "https://localhost:8080/"
        }
      },
      "source": [
        "from sklearn.model_selection import StratifiedKFold\n",
        "folds = list(StratifiedKFold(n_splits=10, shuffle=True, random_state=42).split(y_train_ohe,y_train_))\n",
        "print(\"Training split: {}\".format(len(folds[0][0])))\n",
        "print(\"Validation split: {}\".format(len(folds[0][1])))"
      ],
      "execution_count": 27,
      "outputs": [
        {
          "output_type": "stream",
          "text": [
            "Training split: 17607\n",
            "Validation split: 1957\n"
          ],
          "name": "stdout"
        }
      ]
    },
    {
      "cell_type": "code",
      "metadata": {
        "id": "HGCw-JmZ8C4I"
      },
      "source": [
        "def mlp_clf(input_dim, output_dim, lr = 0.01, activation_l=\"relu\"):\n",
        "    model = tf.keras.Sequential()\n",
        "    model.add(tf.keras.layers.Dense(100, input_dim=input_dim, activation=activation_l))\n",
        "    model.add(tf.keras.layers.Dense(100, activation=activation_l))\n",
        "    model.add(tf.keras.layers.Dense(100, activation=activation_l))\n",
        "    model.add(tf.keras.layers.Dense(100, activation=activation_l))\n",
        "    model.add(tf.keras.layers.Dense(100, activation=activation_l))\n",
        "    model.add(tf.keras.layers.Dense(100, activation=activation_l))\n",
        "    model.add(tf.keras.layers.Dense(100, activation=activation_l))\n",
        "    model.add(tf.keras.layers.Dense(output_dim, activation='sigmoid'))\n",
        "\n",
        "    model.compile(loss=tf.keras.losses.binary_crossentropy, optimizer=tf.keras.optimizers.SGD(learning_rate = lr), metrics=[\"accuracy\",\"AUC\"])\n",
        "\n",
        "    return model"
      ],
      "execution_count": 28,
      "outputs": []
    },
    {
      "cell_type": "code",
      "metadata": {
        "id": "9S7zZAQ0eZTY"
      },
      "source": [
        "from sklearn.neural_network import MLPClassifier\n",
        "from sklearn.datasets import make_classification\n",
        "model = MLPClassifier(solver='adam', alpha=0.0001, hidden_layer_sizes=(200,200,200,200,200), verbose=1, max_iter=10, batch_size=100, learning_rate='adaptive', activation='relu',learning_rate_init=0.0001)"
      ],
      "execution_count": 29,
      "outputs": []
    },
    {
      "cell_type": "code",
      "metadata": {
        "id": "Q8b3LK8YEBMz"
      },
      "source": [
        "from scipy import optimize\n",
        "#init_threshold = np.ones(24)*0.100\n",
        "def thr_acc_metrics(thr, label, output_prob):\n",
        "    return -compute_accuracy(label, np.array(output_prob>thr))"
      ],
      "execution_count": 30,
      "outputs": []
    },
    {
      "cell_type": "code",
      "metadata": {
        "id": "_hgLevpQUyqZ"
      },
      "source": [
        "def compute_accuracy(labels, outputs):\n",
        "    num_recordings, num_classes = np.shape(labels)\n",
        "\n",
        "    num_correct_recordings = 0\n",
        "    for i in range(num_recordings):\n",
        "        if np.all(labels[i, :]==outputs[i, :]):\n",
        "            num_correct_recordings += 1\n",
        "\n",
        "    return float(num_correct_recordings) / float(num_recordings)"
      ],
      "execution_count": 31,
      "outputs": []
    },
    {
      "cell_type": "code",
      "metadata": {
        "id": "iMgMHB6AlQrn",
        "outputId": "c89ed3be-47d0-4f13-f136-b4c981c29def",
        "colab": {
          "base_uri": "https://localhost:8080/"
        }
      },
      "source": [
        "!pip install -q -U keras-tuner"
      ],
      "execution_count": 32,
      "outputs": [
        {
          "output_type": "stream",
          "text": [
            "\u001b[?25l\r\u001b[K     |██████                          | 10kB 19.5MB/s eta 0:00:01\r\u001b[K     |████████████                    | 20kB 11.8MB/s eta 0:00:01\r\u001b[K     |██████████████████              | 30kB 8.3MB/s eta 0:00:01\r\u001b[K     |████████████████████████        | 40kB 7.5MB/s eta 0:00:01\r\u001b[K     |██████████████████████████████  | 51kB 4.4MB/s eta 0:00:01\r\u001b[K     |████████████████████████████████| 61kB 3.1MB/s \n",
            "\u001b[?25h  Building wheel for keras-tuner (setup.py) ... \u001b[?25l\u001b[?25hdone\n",
            "  Building wheel for terminaltables (setup.py) ... \u001b[?25l\u001b[?25hdone\n"
          ],
          "name": "stdout"
        }
      ]
    },
    {
      "cell_type": "code",
      "metadata": {
        "id": "gKCmywcPtlGb",
        "outputId": "b4c875dd-4965-4ec5-8f23-97494ee1268d",
        "colab": {
          "base_uri": "https://localhost:8080/"
        }
      },
      "source": [
        "1e-10"
      ],
      "execution_count": 33,
      "outputs": [
        {
          "output_type": "execute_result",
          "data": {
            "text/plain": [
              "1e-10"
            ]
          },
          "metadata": {
            "tags": []
          },
          "execution_count": 33
        }
      ]
    },
    {
      "cell_type": "code",
      "metadata": {
        "id": "hVgcyu6XlciB"
      },
      "source": [
        "import kerastuner\n",
        "from kerastuner import HyperModel\n",
        "import tensorflow as tf\n",
        "from tensorflow.keras import regularizers\n",
        "\n",
        "\n",
        "class HyperModel(HyperModel):\n",
        "    def __init__(self, input_shape, num_classes):\n",
        "        self.input_shape = input_shape\n",
        "        self.num_classes = num_classes\n",
        "\n",
        "\n",
        "\n",
        "    def build(self, hp):\n",
        "\n",
        "      model = tf.keras.Sequential()\n",
        "      model.add(tf.keras.layers.Dense(units=hp.Int('unit_0', 50, 500, step=50, default=100), input_dim=112,activation=hp.Choice('act_0', values=['relu', 'elu', 'selu'], default='relu')))\n",
        "      for i in range(hp.Int('number_of_layers',1,10,step=1, default=5)):\n",
        "        model.add(tf.keras.layers.Dense(units=hp.Int('unit_{}'.format(i+1), 50, 500, step=50, default=100), activation=hp.Choice('act_{}'.format(i+1), values=['relu', 'elu', 'selu'], default='relu')))\n",
        "\n",
        "      model.add(tf.keras.layers.Dense(5, activation='sigmoid'))\n",
        "      model.compile(loss=tf.keras.losses.binary_crossentropy, optimizer=tf.keras.optimizers.SGD(learning_rate = hp.Choice('learning_rate', values=[0.00001, 0.0001, 0.001, 0.01, 0.1], default=0.001)), metrics=[\"accuracy\",\"AUC\"])\n",
        "      return model\n",
        "\n"
      ],
      "execution_count": 34,
      "outputs": []
    },
    {
      "cell_type": "code",
      "metadata": {
        "id": "_4zOmgaEocdr"
      },
      "source": [
        "class MyTuner(kerastuner.tuners.BayesianOptimization):\n",
        "  def run_trial(self, trial, *args, **kwargs):\n",
        "    # You can add additional HyperParameters for preprocessing and custom training loops\n",
        "    # via overriding `run_trial`\n",
        "    kwargs['batch_size'] = trial.hyperparameters.Int('batch_size', 10, 100, step=10)\n",
        "    kwargs['epochs'] = trial.hyperparameters.Int('epochs', 10, 100, step=10)\n",
        "    super(MyTuner, self).run_trial(trial, *args, **kwargs)"
      ],
      "execution_count": 35,
      "outputs": []
    },
    {
      "cell_type": "code",
      "metadata": {
        "id": "rho7lNhxoiR3",
        "outputId": "f6fcf644-0d4b-4763-dc6e-6682ee15f18f",
        "colab": {
          "base_uri": "https://localhost:8080/"
        }
      },
      "source": [
        "from kerastuner.tuners import BayesianOptimization\n",
        "\n",
        "NUM_CLASSES = one_hot.classes_[1:]\n",
        "INPUT_SHAPE = 112  \n",
        "SEED = 42\n",
        "MAX_TRIALS = 50\n",
        "EXECUTION_PER_TRIAL = 3\n",
        "\n",
        "hypermodel = HyperModel(input_shape=INPUT_SHAPE, num_classes=NUM_CLASSES)\n",
        "\n",
        "tuner = MyTuner(\n",
        "    hypermodel,\n",
        "    objective='val_accuracy',\n",
        "    seed=SEED,\n",
        "    max_trials=MAX_TRIALS,\n",
        "    executions_per_trial=EXECUTION_PER_TRIAL,\n",
        "    directory='drive/My Drive/logs/fysstk_oblig',\n",
        "    project_name='ECGopt11',\n",
        ")"
      ],
      "execution_count": 36,
      "outputs": [
        {
          "output_type": "stream",
          "text": [
            "INFO:tensorflow:Reloading Oracle from existing project drive/My Drive/logs/fysstk_oblig/ECGopt11/oracle.json\n",
            "INFO:tensorflow:Reloading Tuner from drive/My Drive/logs/fysstk_oblig/ECGopt11/tuner0.json\n"
          ],
          "name": "stdout"
        }
      ]
    },
    {
      "cell_type": "code",
      "metadata": {
        "id": "6H1sAbNEqE03"
      },
      "source": [
        "scaler = StandardScaler()\n",
        "scaler.fit(X_train)\n",
        "X_train_scaled = scaler.transform(X_train)"
      ],
      "execution_count": 37,
      "outputs": []
    },
    {
      "cell_type": "code",
      "metadata": {
        "id": "WBC9zUS3qAKr",
        "outputId": "84be46b3-0844-43f8-fe19-da51c395a058",
        "colab": {
          "base_uri": "https://localhost:8080/"
        }
      },
      "source": [
        "tuner.search(X_train_scaled[folds[0][1]],y_train_ohe[folds[0][1]], validation_split=0.2, verbose=1,)"
      ],
      "execution_count": 38,
      "outputs": [
        {
          "output_type": "stream",
          "text": [
            "INFO:tensorflow:Oracle triggered exit\n"
          ],
          "name": "stdout"
        }
      ]
    },
    {
      "cell_type": "code",
      "metadata": {
        "id": "QEHRh-K85Taj",
        "outputId": "fb275fc9-b855-4d54-9f29-6c237da225c4",
        "colab": {
          "base_uri": "https://localhost:8080/",
          "height": 1000
        }
      },
      "source": [
        "   # Show a summary of the search\n",
        "tuner.results_summary()\n",
        "\n",
        "# Retrieve the best model.\n",
        "best_model = tuner.get_best_models(num_models=1)[0]\n",
        "\n",
        "# Evaluate the best model.\n",
        "#results = best_model.evaluate(X_combined_test_gridsearch, y_test_gridsearch)"
      ],
      "execution_count": 39,
      "outputs": [
        {
          "output_type": "display_data",
          "data": {
            "text/html": [
              "<span style=\"color:#4527A0\"><h1 style=\"font-size:18px\">Results summary</h1></span>"
            ],
            "text/plain": [
              "<IPython.core.display.HTML object>"
            ]
          },
          "metadata": {
            "tags": []
          }
        },
        {
          "output_type": "display_data",
          "data": {
            "text/html": [
              "<span style=\"color:cyan\"> |-Results in drive/My Drive/logs/fysstk_oblig/ECGopt11</span>"
            ],
            "text/plain": [
              "<IPython.core.display.HTML object>"
            ]
          },
          "metadata": {
            "tags": []
          }
        },
        {
          "output_type": "display_data",
          "data": {
            "text/html": [
              "<span style=\"color:cyan\"> |-Showing 10 best trials</span>"
            ],
            "text/plain": [
              "<IPython.core.display.HTML object>"
            ]
          },
          "metadata": {
            "tags": []
          }
        },
        {
          "output_type": "display_data",
          "data": {
            "text/html": [
              "<span style=\"color:cyan\"> |-Objective(name='val_accuracy', direction='max')</span>"
            ],
            "text/plain": [
              "<IPython.core.display.HTML object>"
            ]
          },
          "metadata": {
            "tags": []
          }
        },
        {
          "output_type": "display_data",
          "data": {
            "text/html": [
              "<span style=\"color:#4527A0\"><h1 style=\"font-size:18px\">Trial summary</h1></span>"
            ],
            "text/plain": [
              "<IPython.core.display.HTML object>"
            ]
          },
          "metadata": {
            "tags": []
          }
        },
        {
          "output_type": "display_data",
          "data": {
            "text/html": [
              "<span style=\"color:cyan\"> |-Trial ID: 55fea409858df97a08924e742f255e8f</span>"
            ],
            "text/plain": [
              "<IPython.core.display.HTML object>"
            ]
          },
          "metadata": {
            "tags": []
          }
        },
        {
          "output_type": "display_data",
          "data": {
            "text/html": [
              "<span style=\"color:cyan\"> |-Score: 0.35629252592722577</span>"
            ],
            "text/plain": [
              "<IPython.core.display.HTML object>"
            ]
          },
          "metadata": {
            "tags": []
          }
        },
        {
          "output_type": "display_data",
          "data": {
            "text/html": [
              "<span style=\"color:cyan\"> |-Best step: 0</span>"
            ],
            "text/plain": [
              "<IPython.core.display.HTML object>"
            ]
          },
          "metadata": {
            "tags": []
          }
        },
        {
          "output_type": "display_data",
          "data": {
            "text/html": [
              "<span style=\"color:#7E57C2\"><h2 style=\"font-size:16px\">Hyperparameters:</h2></span>"
            ],
            "text/plain": [
              "<IPython.core.display.HTML object>"
            ]
          },
          "metadata": {
            "tags": []
          }
        },
        {
          "output_type": "display_data",
          "data": {
            "text/html": [
              "<span style=\"color:cyan\"> |-act_0: selu</span>"
            ],
            "text/plain": [
              "<IPython.core.display.HTML object>"
            ]
          },
          "metadata": {
            "tags": []
          }
        },
        {
          "output_type": "display_data",
          "data": {
            "text/html": [
              "<span style=\"color:blue\"> |-act_1: selu</span>"
            ],
            "text/plain": [
              "<IPython.core.display.HTML object>"
            ]
          },
          "metadata": {
            "tags": []
          }
        },
        {
          "output_type": "display_data",
          "data": {
            "text/html": [
              "<span style=\"color:cyan\"> |-act_10: selu</span>"
            ],
            "text/plain": [
              "<IPython.core.display.HTML object>"
            ]
          },
          "metadata": {
            "tags": []
          }
        },
        {
          "output_type": "display_data",
          "data": {
            "text/html": [
              "<span style=\"color:blue\"> |-act_2: relu</span>"
            ],
            "text/plain": [
              "<IPython.core.display.HTML object>"
            ]
          },
          "metadata": {
            "tags": []
          }
        },
        {
          "output_type": "display_data",
          "data": {
            "text/html": [
              "<span style=\"color:cyan\"> |-act_3: selu</span>"
            ],
            "text/plain": [
              "<IPython.core.display.HTML object>"
            ]
          },
          "metadata": {
            "tags": []
          }
        },
        {
          "output_type": "display_data",
          "data": {
            "text/html": [
              "<span style=\"color:blue\"> |-act_4: selu</span>"
            ],
            "text/plain": [
              "<IPython.core.display.HTML object>"
            ]
          },
          "metadata": {
            "tags": []
          }
        },
        {
          "output_type": "display_data",
          "data": {
            "text/html": [
              "<span style=\"color:cyan\"> |-act_5: relu</span>"
            ],
            "text/plain": [
              "<IPython.core.display.HTML object>"
            ]
          },
          "metadata": {
            "tags": []
          }
        },
        {
          "output_type": "display_data",
          "data": {
            "text/html": [
              "<span style=\"color:blue\"> |-act_6: selu</span>"
            ],
            "text/plain": [
              "<IPython.core.display.HTML object>"
            ]
          },
          "metadata": {
            "tags": []
          }
        },
        {
          "output_type": "display_data",
          "data": {
            "text/html": [
              "<span style=\"color:cyan\"> |-act_7: selu</span>"
            ],
            "text/plain": [
              "<IPython.core.display.HTML object>"
            ]
          },
          "metadata": {
            "tags": []
          }
        },
        {
          "output_type": "display_data",
          "data": {
            "text/html": [
              "<span style=\"color:blue\"> |-act_8: relu</span>"
            ],
            "text/plain": [
              "<IPython.core.display.HTML object>"
            ]
          },
          "metadata": {
            "tags": []
          }
        },
        {
          "output_type": "display_data",
          "data": {
            "text/html": [
              "<span style=\"color:cyan\"> |-act_9: relu</span>"
            ],
            "text/plain": [
              "<IPython.core.display.HTML object>"
            ]
          },
          "metadata": {
            "tags": []
          }
        },
        {
          "output_type": "display_data",
          "data": {
            "text/html": [
              "<span style=\"color:blue\"> |-batch_size: 100</span>"
            ],
            "text/plain": [
              "<IPython.core.display.HTML object>"
            ]
          },
          "metadata": {
            "tags": []
          }
        },
        {
          "output_type": "display_data",
          "data": {
            "text/html": [
              "<span style=\"color:cyan\"> |-epochs: 100</span>"
            ],
            "text/plain": [
              "<IPython.core.display.HTML object>"
            ]
          },
          "metadata": {
            "tags": []
          }
        },
        {
          "output_type": "display_data",
          "data": {
            "text/html": [
              "<span style=\"color:blue\"> |-learning_rate: 0.1</span>"
            ],
            "text/plain": [
              "<IPython.core.display.HTML object>"
            ]
          },
          "metadata": {
            "tags": []
          }
        },
        {
          "output_type": "display_data",
          "data": {
            "text/html": [
              "<span style=\"color:cyan\"> |-number_of_layers: 1</span>"
            ],
            "text/plain": [
              "<IPython.core.display.HTML object>"
            ]
          },
          "metadata": {
            "tags": []
          }
        },
        {
          "output_type": "display_data",
          "data": {
            "text/html": [
              "<span style=\"color:blue\"> |-unit_0: 50</span>"
            ],
            "text/plain": [
              "<IPython.core.display.HTML object>"
            ]
          },
          "metadata": {
            "tags": []
          }
        },
        {
          "output_type": "display_data",
          "data": {
            "text/html": [
              "<span style=\"color:cyan\"> |-unit_1: 500</span>"
            ],
            "text/plain": [
              "<IPython.core.display.HTML object>"
            ]
          },
          "metadata": {
            "tags": []
          }
        },
        {
          "output_type": "display_data",
          "data": {
            "text/html": [
              "<span style=\"color:blue\"> |-unit_10: 50</span>"
            ],
            "text/plain": [
              "<IPython.core.display.HTML object>"
            ]
          },
          "metadata": {
            "tags": []
          }
        },
        {
          "output_type": "display_data",
          "data": {
            "text/html": [
              "<span style=\"color:cyan\"> |-unit_2: 500</span>"
            ],
            "text/plain": [
              "<IPython.core.display.HTML object>"
            ]
          },
          "metadata": {
            "tags": []
          }
        },
        {
          "output_type": "display_data",
          "data": {
            "text/html": [
              "<span style=\"color:blue\"> |-unit_3: 500</span>"
            ],
            "text/plain": [
              "<IPython.core.display.HTML object>"
            ]
          },
          "metadata": {
            "tags": []
          }
        },
        {
          "output_type": "display_data",
          "data": {
            "text/html": [
              "<span style=\"color:cyan\"> |-unit_4: 500</span>"
            ],
            "text/plain": [
              "<IPython.core.display.HTML object>"
            ]
          },
          "metadata": {
            "tags": []
          }
        },
        {
          "output_type": "display_data",
          "data": {
            "text/html": [
              "<span style=\"color:blue\"> |-unit_5: 500</span>"
            ],
            "text/plain": [
              "<IPython.core.display.HTML object>"
            ]
          },
          "metadata": {
            "tags": []
          }
        },
        {
          "output_type": "display_data",
          "data": {
            "text/html": [
              "<span style=\"color:cyan\"> |-unit_6: 50</span>"
            ],
            "text/plain": [
              "<IPython.core.display.HTML object>"
            ]
          },
          "metadata": {
            "tags": []
          }
        },
        {
          "output_type": "display_data",
          "data": {
            "text/html": [
              "<span style=\"color:blue\"> |-unit_7: 50</span>"
            ],
            "text/plain": [
              "<IPython.core.display.HTML object>"
            ]
          },
          "metadata": {
            "tags": []
          }
        },
        {
          "output_type": "display_data",
          "data": {
            "text/html": [
              "<span style=\"color:cyan\"> |-unit_8: 500</span>"
            ],
            "text/plain": [
              "<IPython.core.display.HTML object>"
            ]
          },
          "metadata": {
            "tags": []
          }
        },
        {
          "output_type": "display_data",
          "data": {
            "text/html": [
              "<span style=\"color:blue\"> |-unit_9: 500</span>"
            ],
            "text/plain": [
              "<IPython.core.display.HTML object>"
            ]
          },
          "metadata": {
            "tags": []
          }
        },
        {
          "output_type": "display_data",
          "data": {
            "text/html": [
              "<span style=\"color:#4527A0\"><h1 style=\"font-size:18px\">Trial summary</h1></span>"
            ],
            "text/plain": [
              "<IPython.core.display.HTML object>"
            ]
          },
          "metadata": {
            "tags": []
          }
        },
        {
          "output_type": "display_data",
          "data": {
            "text/html": [
              "<span style=\"color:cyan\"> |-Trial ID: 3068c533d598b62396ad9320d6a65edd</span>"
            ],
            "text/plain": [
              "<IPython.core.display.HTML object>"
            ]
          },
          "metadata": {
            "tags": []
          }
        },
        {
          "output_type": "display_data",
          "data": {
            "text/html": [
              "<span style=\"color:cyan\"> |-Score: 0.35459183653195697</span>"
            ],
            "text/plain": [
              "<IPython.core.display.HTML object>"
            ]
          },
          "metadata": {
            "tags": []
          }
        },
        {
          "output_type": "display_data",
          "data": {
            "text/html": [
              "<span style=\"color:cyan\"> |-Best step: 0</span>"
            ],
            "text/plain": [
              "<IPython.core.display.HTML object>"
            ]
          },
          "metadata": {
            "tags": []
          }
        },
        {
          "output_type": "display_data",
          "data": {
            "text/html": [
              "<span style=\"color:#7E57C2\"><h2 style=\"font-size:16px\">Hyperparameters:</h2></span>"
            ],
            "text/plain": [
              "<IPython.core.display.HTML object>"
            ]
          },
          "metadata": {
            "tags": []
          }
        },
        {
          "output_type": "display_data",
          "data": {
            "text/html": [
              "<span style=\"color:cyan\"> |-act_0: relu</span>"
            ],
            "text/plain": [
              "<IPython.core.display.HTML object>"
            ]
          },
          "metadata": {
            "tags": []
          }
        },
        {
          "output_type": "display_data",
          "data": {
            "text/html": [
              "<span style=\"color:blue\"> |-act_1: relu</span>"
            ],
            "text/plain": [
              "<IPython.core.display.HTML object>"
            ]
          },
          "metadata": {
            "tags": []
          }
        },
        {
          "output_type": "display_data",
          "data": {
            "text/html": [
              "<span style=\"color:cyan\"> |-act_10: selu</span>"
            ],
            "text/plain": [
              "<IPython.core.display.HTML object>"
            ]
          },
          "metadata": {
            "tags": []
          }
        },
        {
          "output_type": "display_data",
          "data": {
            "text/html": [
              "<span style=\"color:blue\"> |-act_2: relu</span>"
            ],
            "text/plain": [
              "<IPython.core.display.HTML object>"
            ]
          },
          "metadata": {
            "tags": []
          }
        },
        {
          "output_type": "display_data",
          "data": {
            "text/html": [
              "<span style=\"color:cyan\"> |-act_3: selu</span>"
            ],
            "text/plain": [
              "<IPython.core.display.HTML object>"
            ]
          },
          "metadata": {
            "tags": []
          }
        },
        {
          "output_type": "display_data",
          "data": {
            "text/html": [
              "<span style=\"color:blue\"> |-act_4: selu</span>"
            ],
            "text/plain": [
              "<IPython.core.display.HTML object>"
            ]
          },
          "metadata": {
            "tags": []
          }
        },
        {
          "output_type": "display_data",
          "data": {
            "text/html": [
              "<span style=\"color:cyan\"> |-act_5: relu</span>"
            ],
            "text/plain": [
              "<IPython.core.display.HTML object>"
            ]
          },
          "metadata": {
            "tags": []
          }
        },
        {
          "output_type": "display_data",
          "data": {
            "text/html": [
              "<span style=\"color:blue\"> |-act_6: relu</span>"
            ],
            "text/plain": [
              "<IPython.core.display.HTML object>"
            ]
          },
          "metadata": {
            "tags": []
          }
        },
        {
          "output_type": "display_data",
          "data": {
            "text/html": [
              "<span style=\"color:cyan\"> |-act_7: relu</span>"
            ],
            "text/plain": [
              "<IPython.core.display.HTML object>"
            ]
          },
          "metadata": {
            "tags": []
          }
        },
        {
          "output_type": "display_data",
          "data": {
            "text/html": [
              "<span style=\"color:blue\"> |-act_8: relu</span>"
            ],
            "text/plain": [
              "<IPython.core.display.HTML object>"
            ]
          },
          "metadata": {
            "tags": []
          }
        },
        {
          "output_type": "display_data",
          "data": {
            "text/html": [
              "<span style=\"color:cyan\"> |-act_9: selu</span>"
            ],
            "text/plain": [
              "<IPython.core.display.HTML object>"
            ]
          },
          "metadata": {
            "tags": []
          }
        },
        {
          "output_type": "display_data",
          "data": {
            "text/html": [
              "<span style=\"color:blue\"> |-batch_size: 10</span>"
            ],
            "text/plain": [
              "<IPython.core.display.HTML object>"
            ]
          },
          "metadata": {
            "tags": []
          }
        },
        {
          "output_type": "display_data",
          "data": {
            "text/html": [
              "<span style=\"color:cyan\"> |-epochs: 10</span>"
            ],
            "text/plain": [
              "<IPython.core.display.HTML object>"
            ]
          },
          "metadata": {
            "tags": []
          }
        },
        {
          "output_type": "display_data",
          "data": {
            "text/html": [
              "<span style=\"color:blue\"> |-learning_rate: 0.1</span>"
            ],
            "text/plain": [
              "<IPython.core.display.HTML object>"
            ]
          },
          "metadata": {
            "tags": []
          }
        },
        {
          "output_type": "display_data",
          "data": {
            "text/html": [
              "<span style=\"color:cyan\"> |-number_of_layers: 1</span>"
            ],
            "text/plain": [
              "<IPython.core.display.HTML object>"
            ]
          },
          "metadata": {
            "tags": []
          }
        },
        {
          "output_type": "display_data",
          "data": {
            "text/html": [
              "<span style=\"color:blue\"> |-unit_0: 50</span>"
            ],
            "text/plain": [
              "<IPython.core.display.HTML object>"
            ]
          },
          "metadata": {
            "tags": []
          }
        },
        {
          "output_type": "display_data",
          "data": {
            "text/html": [
              "<span style=\"color:cyan\"> |-unit_1: 500</span>"
            ],
            "text/plain": [
              "<IPython.core.display.HTML object>"
            ]
          },
          "metadata": {
            "tags": []
          }
        },
        {
          "output_type": "display_data",
          "data": {
            "text/html": [
              "<span style=\"color:blue\"> |-unit_10: 50</span>"
            ],
            "text/plain": [
              "<IPython.core.display.HTML object>"
            ]
          },
          "metadata": {
            "tags": []
          }
        },
        {
          "output_type": "display_data",
          "data": {
            "text/html": [
              "<span style=\"color:cyan\"> |-unit_2: 500</span>"
            ],
            "text/plain": [
              "<IPython.core.display.HTML object>"
            ]
          },
          "metadata": {
            "tags": []
          }
        },
        {
          "output_type": "display_data",
          "data": {
            "text/html": [
              "<span style=\"color:blue\"> |-unit_3: 500</span>"
            ],
            "text/plain": [
              "<IPython.core.display.HTML object>"
            ]
          },
          "metadata": {
            "tags": []
          }
        },
        {
          "output_type": "display_data",
          "data": {
            "text/html": [
              "<span style=\"color:cyan\"> |-unit_4: 500</span>"
            ],
            "text/plain": [
              "<IPython.core.display.HTML object>"
            ]
          },
          "metadata": {
            "tags": []
          }
        },
        {
          "output_type": "display_data",
          "data": {
            "text/html": [
              "<span style=\"color:blue\"> |-unit_5: 50</span>"
            ],
            "text/plain": [
              "<IPython.core.display.HTML object>"
            ]
          },
          "metadata": {
            "tags": []
          }
        },
        {
          "output_type": "display_data",
          "data": {
            "text/html": [
              "<span style=\"color:cyan\"> |-unit_6: 500</span>"
            ],
            "text/plain": [
              "<IPython.core.display.HTML object>"
            ]
          },
          "metadata": {
            "tags": []
          }
        },
        {
          "output_type": "display_data",
          "data": {
            "text/html": [
              "<span style=\"color:blue\"> |-unit_7: 50</span>"
            ],
            "text/plain": [
              "<IPython.core.display.HTML object>"
            ]
          },
          "metadata": {
            "tags": []
          }
        },
        {
          "output_type": "display_data",
          "data": {
            "text/html": [
              "<span style=\"color:cyan\"> |-unit_8: 50</span>"
            ],
            "text/plain": [
              "<IPython.core.display.HTML object>"
            ]
          },
          "metadata": {
            "tags": []
          }
        },
        {
          "output_type": "display_data",
          "data": {
            "text/html": [
              "<span style=\"color:blue\"> |-unit_9: 50</span>"
            ],
            "text/plain": [
              "<IPython.core.display.HTML object>"
            ]
          },
          "metadata": {
            "tags": []
          }
        },
        {
          "output_type": "display_data",
          "data": {
            "text/html": [
              "<span style=\"color:#4527A0\"><h1 style=\"font-size:18px\">Trial summary</h1></span>"
            ],
            "text/plain": [
              "<IPython.core.display.HTML object>"
            ]
          },
          "metadata": {
            "tags": []
          }
        },
        {
          "output_type": "display_data",
          "data": {
            "text/html": [
              "<span style=\"color:cyan\"> |-Trial ID: d29a2420f8817dc079fcfb7cb4029793</span>"
            ],
            "text/plain": [
              "<IPython.core.display.HTML object>"
            ]
          },
          "metadata": {
            "tags": []
          }
        },
        {
          "output_type": "display_data",
          "data": {
            "text/html": [
              "<span style=\"color:cyan\"> |-Score: 0.3520408272743225</span>"
            ],
            "text/plain": [
              "<IPython.core.display.HTML object>"
            ]
          },
          "metadata": {
            "tags": []
          }
        },
        {
          "output_type": "display_data",
          "data": {
            "text/html": [
              "<span style=\"color:cyan\"> |-Best step: 0</span>"
            ],
            "text/plain": [
              "<IPython.core.display.HTML object>"
            ]
          },
          "metadata": {
            "tags": []
          }
        },
        {
          "output_type": "display_data",
          "data": {
            "text/html": [
              "<span style=\"color:#7E57C2\"><h2 style=\"font-size:16px\">Hyperparameters:</h2></span>"
            ],
            "text/plain": [
              "<IPython.core.display.HTML object>"
            ]
          },
          "metadata": {
            "tags": []
          }
        },
        {
          "output_type": "display_data",
          "data": {
            "text/html": [
              "<span style=\"color:cyan\"> |-act_0: relu</span>"
            ],
            "text/plain": [
              "<IPython.core.display.HTML object>"
            ]
          },
          "metadata": {
            "tags": []
          }
        },
        {
          "output_type": "display_data",
          "data": {
            "text/html": [
              "<span style=\"color:blue\"> |-act_1: relu</span>"
            ],
            "text/plain": [
              "<IPython.core.display.HTML object>"
            ]
          },
          "metadata": {
            "tags": []
          }
        },
        {
          "output_type": "display_data",
          "data": {
            "text/html": [
              "<span style=\"color:cyan\"> |-act_10: elu</span>"
            ],
            "text/plain": [
              "<IPython.core.display.HTML object>"
            ]
          },
          "metadata": {
            "tags": []
          }
        },
        {
          "output_type": "display_data",
          "data": {
            "text/html": [
              "<span style=\"color:blue\"> |-act_2: relu</span>"
            ],
            "text/plain": [
              "<IPython.core.display.HTML object>"
            ]
          },
          "metadata": {
            "tags": []
          }
        },
        {
          "output_type": "display_data",
          "data": {
            "text/html": [
              "<span style=\"color:cyan\"> |-act_3: selu</span>"
            ],
            "text/plain": [
              "<IPython.core.display.HTML object>"
            ]
          },
          "metadata": {
            "tags": []
          }
        },
        {
          "output_type": "display_data",
          "data": {
            "text/html": [
              "<span style=\"color:blue\"> |-act_4: selu</span>"
            ],
            "text/plain": [
              "<IPython.core.display.HTML object>"
            ]
          },
          "metadata": {
            "tags": []
          }
        },
        {
          "output_type": "display_data",
          "data": {
            "text/html": [
              "<span style=\"color:cyan\"> |-act_5: elu</span>"
            ],
            "text/plain": [
              "<IPython.core.display.HTML object>"
            ]
          },
          "metadata": {
            "tags": []
          }
        },
        {
          "output_type": "display_data",
          "data": {
            "text/html": [
              "<span style=\"color:blue\"> |-act_6: selu</span>"
            ],
            "text/plain": [
              "<IPython.core.display.HTML object>"
            ]
          },
          "metadata": {
            "tags": []
          }
        },
        {
          "output_type": "display_data",
          "data": {
            "text/html": [
              "<span style=\"color:cyan\"> |-act_7: relu</span>"
            ],
            "text/plain": [
              "<IPython.core.display.HTML object>"
            ]
          },
          "metadata": {
            "tags": []
          }
        },
        {
          "output_type": "display_data",
          "data": {
            "text/html": [
              "<span style=\"color:blue\"> |-act_8: relu</span>"
            ],
            "text/plain": [
              "<IPython.core.display.HTML object>"
            ]
          },
          "metadata": {
            "tags": []
          }
        },
        {
          "output_type": "display_data",
          "data": {
            "text/html": [
              "<span style=\"color:cyan\"> |-act_9: selu</span>"
            ],
            "text/plain": [
              "<IPython.core.display.HTML object>"
            ]
          },
          "metadata": {
            "tags": []
          }
        },
        {
          "output_type": "display_data",
          "data": {
            "text/html": [
              "<span style=\"color:blue\"> |-batch_size: 10</span>"
            ],
            "text/plain": [
              "<IPython.core.display.HTML object>"
            ]
          },
          "metadata": {
            "tags": []
          }
        },
        {
          "output_type": "display_data",
          "data": {
            "text/html": [
              "<span style=\"color:cyan\"> |-epochs: 10</span>"
            ],
            "text/plain": [
              "<IPython.core.display.HTML object>"
            ]
          },
          "metadata": {
            "tags": []
          }
        },
        {
          "output_type": "display_data",
          "data": {
            "text/html": [
              "<span style=\"color:blue\"> |-learning_rate: 0.1</span>"
            ],
            "text/plain": [
              "<IPython.core.display.HTML object>"
            ]
          },
          "metadata": {
            "tags": []
          }
        },
        {
          "output_type": "display_data",
          "data": {
            "text/html": [
              "<span style=\"color:cyan\"> |-number_of_layers: 3</span>"
            ],
            "text/plain": [
              "<IPython.core.display.HTML object>"
            ]
          },
          "metadata": {
            "tags": []
          }
        },
        {
          "output_type": "display_data",
          "data": {
            "text/html": [
              "<span style=\"color:blue\"> |-unit_0: 50</span>"
            ],
            "text/plain": [
              "<IPython.core.display.HTML object>"
            ]
          },
          "metadata": {
            "tags": []
          }
        },
        {
          "output_type": "display_data",
          "data": {
            "text/html": [
              "<span style=\"color:cyan\"> |-unit_1: 500</span>"
            ],
            "text/plain": [
              "<IPython.core.display.HTML object>"
            ]
          },
          "metadata": {
            "tags": []
          }
        },
        {
          "output_type": "display_data",
          "data": {
            "text/html": [
              "<span style=\"color:blue\"> |-unit_10: 500</span>"
            ],
            "text/plain": [
              "<IPython.core.display.HTML object>"
            ]
          },
          "metadata": {
            "tags": []
          }
        },
        {
          "output_type": "display_data",
          "data": {
            "text/html": [
              "<span style=\"color:cyan\"> |-unit_2: 50</span>"
            ],
            "text/plain": [
              "<IPython.core.display.HTML object>"
            ]
          },
          "metadata": {
            "tags": []
          }
        },
        {
          "output_type": "display_data",
          "data": {
            "text/html": [
              "<span style=\"color:blue\"> |-unit_3: 500</span>"
            ],
            "text/plain": [
              "<IPython.core.display.HTML object>"
            ]
          },
          "metadata": {
            "tags": []
          }
        },
        {
          "output_type": "display_data",
          "data": {
            "text/html": [
              "<span style=\"color:cyan\"> |-unit_4: 150</span>"
            ],
            "text/plain": [
              "<IPython.core.display.HTML object>"
            ]
          },
          "metadata": {
            "tags": []
          }
        },
        {
          "output_type": "display_data",
          "data": {
            "text/html": [
              "<span style=\"color:blue\"> |-unit_5: 50</span>"
            ],
            "text/plain": [
              "<IPython.core.display.HTML object>"
            ]
          },
          "metadata": {
            "tags": []
          }
        },
        {
          "output_type": "display_data",
          "data": {
            "text/html": [
              "<span style=\"color:cyan\"> |-unit_6: 50</span>"
            ],
            "text/plain": [
              "<IPython.core.display.HTML object>"
            ]
          },
          "metadata": {
            "tags": []
          }
        },
        {
          "output_type": "display_data",
          "data": {
            "text/html": [
              "<span style=\"color:blue\"> |-unit_7: 150</span>"
            ],
            "text/plain": [
              "<IPython.core.display.HTML object>"
            ]
          },
          "metadata": {
            "tags": []
          }
        },
        {
          "output_type": "display_data",
          "data": {
            "text/html": [
              "<span style=\"color:cyan\"> |-unit_8: 500</span>"
            ],
            "text/plain": [
              "<IPython.core.display.HTML object>"
            ]
          },
          "metadata": {
            "tags": []
          }
        },
        {
          "output_type": "display_data",
          "data": {
            "text/html": [
              "<span style=\"color:blue\"> |-unit_9: 50</span>"
            ],
            "text/plain": [
              "<IPython.core.display.HTML object>"
            ]
          },
          "metadata": {
            "tags": []
          }
        },
        {
          "output_type": "display_data",
          "data": {
            "text/html": [
              "<span style=\"color:#4527A0\"><h1 style=\"font-size:18px\">Trial summary</h1></span>"
            ],
            "text/plain": [
              "<IPython.core.display.HTML object>"
            ]
          },
          "metadata": {
            "tags": []
          }
        },
        {
          "output_type": "display_data",
          "data": {
            "text/html": [
              "<span style=\"color:cyan\"> |-Trial ID: b88ba7c58e1be4e3731325a70ae63f5e</span>"
            ],
            "text/plain": [
              "<IPython.core.display.HTML object>"
            ]
          },
          "metadata": {
            "tags": []
          }
        },
        {
          "output_type": "display_data",
          "data": {
            "text/html": [
              "<span style=\"color:cyan\"> |-Score: 0.3511904875437419</span>"
            ],
            "text/plain": [
              "<IPython.core.display.HTML object>"
            ]
          },
          "metadata": {
            "tags": []
          }
        },
        {
          "output_type": "display_data",
          "data": {
            "text/html": [
              "<span style=\"color:cyan\"> |-Best step: 0</span>"
            ],
            "text/plain": [
              "<IPython.core.display.HTML object>"
            ]
          },
          "metadata": {
            "tags": []
          }
        },
        {
          "output_type": "display_data",
          "data": {
            "text/html": [
              "<span style=\"color:#7E57C2\"><h2 style=\"font-size:16px\">Hyperparameters:</h2></span>"
            ],
            "text/plain": [
              "<IPython.core.display.HTML object>"
            ]
          },
          "metadata": {
            "tags": []
          }
        },
        {
          "output_type": "display_data",
          "data": {
            "text/html": [
              "<span style=\"color:cyan\"> |-act_0: selu</span>"
            ],
            "text/plain": [
              "<IPython.core.display.HTML object>"
            ]
          },
          "metadata": {
            "tags": []
          }
        },
        {
          "output_type": "display_data",
          "data": {
            "text/html": [
              "<span style=\"color:blue\"> |-act_1: selu</span>"
            ],
            "text/plain": [
              "<IPython.core.display.HTML object>"
            ]
          },
          "metadata": {
            "tags": []
          }
        },
        {
          "output_type": "display_data",
          "data": {
            "text/html": [
              "<span style=\"color:cyan\"> |-act_10: selu</span>"
            ],
            "text/plain": [
              "<IPython.core.display.HTML object>"
            ]
          },
          "metadata": {
            "tags": []
          }
        },
        {
          "output_type": "display_data",
          "data": {
            "text/html": [
              "<span style=\"color:blue\"> |-act_2: relu</span>"
            ],
            "text/plain": [
              "<IPython.core.display.HTML object>"
            ]
          },
          "metadata": {
            "tags": []
          }
        },
        {
          "output_type": "display_data",
          "data": {
            "text/html": [
              "<span style=\"color:cyan\"> |-act_3: relu</span>"
            ],
            "text/plain": [
              "<IPython.core.display.HTML object>"
            ]
          },
          "metadata": {
            "tags": []
          }
        },
        {
          "output_type": "display_data",
          "data": {
            "text/html": [
              "<span style=\"color:blue\"> |-act_4: selu</span>"
            ],
            "text/plain": [
              "<IPython.core.display.HTML object>"
            ]
          },
          "metadata": {
            "tags": []
          }
        },
        {
          "output_type": "display_data",
          "data": {
            "text/html": [
              "<span style=\"color:cyan\"> |-act_5: relu</span>"
            ],
            "text/plain": [
              "<IPython.core.display.HTML object>"
            ]
          },
          "metadata": {
            "tags": []
          }
        },
        {
          "output_type": "display_data",
          "data": {
            "text/html": [
              "<span style=\"color:blue\"> |-act_6: selu</span>"
            ],
            "text/plain": [
              "<IPython.core.display.HTML object>"
            ]
          },
          "metadata": {
            "tags": []
          }
        },
        {
          "output_type": "display_data",
          "data": {
            "text/html": [
              "<span style=\"color:cyan\"> |-act_7: selu</span>"
            ],
            "text/plain": [
              "<IPython.core.display.HTML object>"
            ]
          },
          "metadata": {
            "tags": []
          }
        },
        {
          "output_type": "display_data",
          "data": {
            "text/html": [
              "<span style=\"color:blue\"> |-act_8: relu</span>"
            ],
            "text/plain": [
              "<IPython.core.display.HTML object>"
            ]
          },
          "metadata": {
            "tags": []
          }
        },
        {
          "output_type": "display_data",
          "data": {
            "text/html": [
              "<span style=\"color:cyan\"> |-act_9: selu</span>"
            ],
            "text/plain": [
              "<IPython.core.display.HTML object>"
            ]
          },
          "metadata": {
            "tags": []
          }
        },
        {
          "output_type": "display_data",
          "data": {
            "text/html": [
              "<span style=\"color:blue\"> |-batch_size: 100</span>"
            ],
            "text/plain": [
              "<IPython.core.display.HTML object>"
            ]
          },
          "metadata": {
            "tags": []
          }
        },
        {
          "output_type": "display_data",
          "data": {
            "text/html": [
              "<span style=\"color:cyan\"> |-epochs: 100</span>"
            ],
            "text/plain": [
              "<IPython.core.display.HTML object>"
            ]
          },
          "metadata": {
            "tags": []
          }
        },
        {
          "output_type": "display_data",
          "data": {
            "text/html": [
              "<span style=\"color:blue\"> |-learning_rate: 0.1</span>"
            ],
            "text/plain": [
              "<IPython.core.display.HTML object>"
            ]
          },
          "metadata": {
            "tags": []
          }
        },
        {
          "output_type": "display_data",
          "data": {
            "text/html": [
              "<span style=\"color:cyan\"> |-number_of_layers: 1</span>"
            ],
            "text/plain": [
              "<IPython.core.display.HTML object>"
            ]
          },
          "metadata": {
            "tags": []
          }
        },
        {
          "output_type": "display_data",
          "data": {
            "text/html": [
              "<span style=\"color:blue\"> |-unit_0: 50</span>"
            ],
            "text/plain": [
              "<IPython.core.display.HTML object>"
            ]
          },
          "metadata": {
            "tags": []
          }
        },
        {
          "output_type": "display_data",
          "data": {
            "text/html": [
              "<span style=\"color:cyan\"> |-unit_1: 500</span>"
            ],
            "text/plain": [
              "<IPython.core.display.HTML object>"
            ]
          },
          "metadata": {
            "tags": []
          }
        },
        {
          "output_type": "display_data",
          "data": {
            "text/html": [
              "<span style=\"color:blue\"> |-unit_10: 50</span>"
            ],
            "text/plain": [
              "<IPython.core.display.HTML object>"
            ]
          },
          "metadata": {
            "tags": []
          }
        },
        {
          "output_type": "display_data",
          "data": {
            "text/html": [
              "<span style=\"color:cyan\"> |-unit_2: 50</span>"
            ],
            "text/plain": [
              "<IPython.core.display.HTML object>"
            ]
          },
          "metadata": {
            "tags": []
          }
        },
        {
          "output_type": "display_data",
          "data": {
            "text/html": [
              "<span style=\"color:blue\"> |-unit_3: 500</span>"
            ],
            "text/plain": [
              "<IPython.core.display.HTML object>"
            ]
          },
          "metadata": {
            "tags": []
          }
        },
        {
          "output_type": "display_data",
          "data": {
            "text/html": [
              "<span style=\"color:cyan\"> |-unit_4: 50</span>"
            ],
            "text/plain": [
              "<IPython.core.display.HTML object>"
            ]
          },
          "metadata": {
            "tags": []
          }
        },
        {
          "output_type": "display_data",
          "data": {
            "text/html": [
              "<span style=\"color:blue\"> |-unit_5: 500</span>"
            ],
            "text/plain": [
              "<IPython.core.display.HTML object>"
            ]
          },
          "metadata": {
            "tags": []
          }
        },
        {
          "output_type": "display_data",
          "data": {
            "text/html": [
              "<span style=\"color:cyan\"> |-unit_6: 500</span>"
            ],
            "text/plain": [
              "<IPython.core.display.HTML object>"
            ]
          },
          "metadata": {
            "tags": []
          }
        },
        {
          "output_type": "display_data",
          "data": {
            "text/html": [
              "<span style=\"color:blue\"> |-unit_7: 500</span>"
            ],
            "text/plain": [
              "<IPython.core.display.HTML object>"
            ]
          },
          "metadata": {
            "tags": []
          }
        },
        {
          "output_type": "display_data",
          "data": {
            "text/html": [
              "<span style=\"color:cyan\"> |-unit_8: 50</span>"
            ],
            "text/plain": [
              "<IPython.core.display.HTML object>"
            ]
          },
          "metadata": {
            "tags": []
          }
        },
        {
          "output_type": "display_data",
          "data": {
            "text/html": [
              "<span style=\"color:blue\"> |-unit_9: 500</span>"
            ],
            "text/plain": [
              "<IPython.core.display.HTML object>"
            ]
          },
          "metadata": {
            "tags": []
          }
        },
        {
          "output_type": "display_data",
          "data": {
            "text/html": [
              "<span style=\"color:#4527A0\"><h1 style=\"font-size:18px\">Trial summary</h1></span>"
            ],
            "text/plain": [
              "<IPython.core.display.HTML object>"
            ]
          },
          "metadata": {
            "tags": []
          }
        },
        {
          "output_type": "display_data",
          "data": {
            "text/html": [
              "<span style=\"color:cyan\"> |-Trial ID: 8f9434b3f5211a0e828256650047c769</span>"
            ],
            "text/plain": [
              "<IPython.core.display.HTML object>"
            ]
          },
          "metadata": {
            "tags": []
          }
        },
        {
          "output_type": "display_data",
          "data": {
            "text/html": [
              "<span style=\"color:cyan\"> |-Score: 0.3511904776096344</span>"
            ],
            "text/plain": [
              "<IPython.core.display.HTML object>"
            ]
          },
          "metadata": {
            "tags": []
          }
        },
        {
          "output_type": "display_data",
          "data": {
            "text/html": [
              "<span style=\"color:cyan\"> |-Best step: 0</span>"
            ],
            "text/plain": [
              "<IPython.core.display.HTML object>"
            ]
          },
          "metadata": {
            "tags": []
          }
        },
        {
          "output_type": "display_data",
          "data": {
            "text/html": [
              "<span style=\"color:#7E57C2\"><h2 style=\"font-size:16px\">Hyperparameters:</h2></span>"
            ],
            "text/plain": [
              "<IPython.core.display.HTML object>"
            ]
          },
          "metadata": {
            "tags": []
          }
        },
        {
          "output_type": "display_data",
          "data": {
            "text/html": [
              "<span style=\"color:cyan\"> |-act_0: selu</span>"
            ],
            "text/plain": [
              "<IPython.core.display.HTML object>"
            ]
          },
          "metadata": {
            "tags": []
          }
        },
        {
          "output_type": "display_data",
          "data": {
            "text/html": [
              "<span style=\"color:blue\"> |-act_1: relu</span>"
            ],
            "text/plain": [
              "<IPython.core.display.HTML object>"
            ]
          },
          "metadata": {
            "tags": []
          }
        },
        {
          "output_type": "display_data",
          "data": {
            "text/html": [
              "<span style=\"color:cyan\"> |-act_10: selu</span>"
            ],
            "text/plain": [
              "<IPython.core.display.HTML object>"
            ]
          },
          "metadata": {
            "tags": []
          }
        },
        {
          "output_type": "display_data",
          "data": {
            "text/html": [
              "<span style=\"color:blue\"> |-act_2: selu</span>"
            ],
            "text/plain": [
              "<IPython.core.display.HTML object>"
            ]
          },
          "metadata": {
            "tags": []
          }
        },
        {
          "output_type": "display_data",
          "data": {
            "text/html": [
              "<span style=\"color:cyan\"> |-act_3: selu</span>"
            ],
            "text/plain": [
              "<IPython.core.display.HTML object>"
            ]
          },
          "metadata": {
            "tags": []
          }
        },
        {
          "output_type": "display_data",
          "data": {
            "text/html": [
              "<span style=\"color:blue\"> |-act_4: selu</span>"
            ],
            "text/plain": [
              "<IPython.core.display.HTML object>"
            ]
          },
          "metadata": {
            "tags": []
          }
        },
        {
          "output_type": "display_data",
          "data": {
            "text/html": [
              "<span style=\"color:cyan\"> |-act_5: selu</span>"
            ],
            "text/plain": [
              "<IPython.core.display.HTML object>"
            ]
          },
          "metadata": {
            "tags": []
          }
        },
        {
          "output_type": "display_data",
          "data": {
            "text/html": [
              "<span style=\"color:blue\"> |-act_6: selu</span>"
            ],
            "text/plain": [
              "<IPython.core.display.HTML object>"
            ]
          },
          "metadata": {
            "tags": []
          }
        },
        {
          "output_type": "display_data",
          "data": {
            "text/html": [
              "<span style=\"color:cyan\"> |-act_7: relu</span>"
            ],
            "text/plain": [
              "<IPython.core.display.HTML object>"
            ]
          },
          "metadata": {
            "tags": []
          }
        },
        {
          "output_type": "display_data",
          "data": {
            "text/html": [
              "<span style=\"color:blue\"> |-act_8: relu</span>"
            ],
            "text/plain": [
              "<IPython.core.display.HTML object>"
            ]
          },
          "metadata": {
            "tags": []
          }
        },
        {
          "output_type": "display_data",
          "data": {
            "text/html": [
              "<span style=\"color:cyan\"> |-act_9: selu</span>"
            ],
            "text/plain": [
              "<IPython.core.display.HTML object>"
            ]
          },
          "metadata": {
            "tags": []
          }
        },
        {
          "output_type": "display_data",
          "data": {
            "text/html": [
              "<span style=\"color:blue\"> |-batch_size: 100</span>"
            ],
            "text/plain": [
              "<IPython.core.display.HTML object>"
            ]
          },
          "metadata": {
            "tags": []
          }
        },
        {
          "output_type": "display_data",
          "data": {
            "text/html": [
              "<span style=\"color:cyan\"> |-epochs: 100</span>"
            ],
            "text/plain": [
              "<IPython.core.display.HTML object>"
            ]
          },
          "metadata": {
            "tags": []
          }
        },
        {
          "output_type": "display_data",
          "data": {
            "text/html": [
              "<span style=\"color:blue\"> |-learning_rate: 0.1</span>"
            ],
            "text/plain": [
              "<IPython.core.display.HTML object>"
            ]
          },
          "metadata": {
            "tags": []
          }
        },
        {
          "output_type": "display_data",
          "data": {
            "text/html": [
              "<span style=\"color:cyan\"> |-number_of_layers: 9</span>"
            ],
            "text/plain": [
              "<IPython.core.display.HTML object>"
            ]
          },
          "metadata": {
            "tags": []
          }
        },
        {
          "output_type": "display_data",
          "data": {
            "text/html": [
              "<span style=\"color:blue\"> |-unit_0: 500</span>"
            ],
            "text/plain": [
              "<IPython.core.display.HTML object>"
            ]
          },
          "metadata": {
            "tags": []
          }
        },
        {
          "output_type": "display_data",
          "data": {
            "text/html": [
              "<span style=\"color:cyan\"> |-unit_1: 500</span>"
            ],
            "text/plain": [
              "<IPython.core.display.HTML object>"
            ]
          },
          "metadata": {
            "tags": []
          }
        },
        {
          "output_type": "display_data",
          "data": {
            "text/html": [
              "<span style=\"color:blue\"> |-unit_10: 500</span>"
            ],
            "text/plain": [
              "<IPython.core.display.HTML object>"
            ]
          },
          "metadata": {
            "tags": []
          }
        },
        {
          "output_type": "display_data",
          "data": {
            "text/html": [
              "<span style=\"color:cyan\"> |-unit_2: 50</span>"
            ],
            "text/plain": [
              "<IPython.core.display.HTML object>"
            ]
          },
          "metadata": {
            "tags": []
          }
        },
        {
          "output_type": "display_data",
          "data": {
            "text/html": [
              "<span style=\"color:blue\"> |-unit_3: 450</span>"
            ],
            "text/plain": [
              "<IPython.core.display.HTML object>"
            ]
          },
          "metadata": {
            "tags": []
          }
        },
        {
          "output_type": "display_data",
          "data": {
            "text/html": [
              "<span style=\"color:cyan\"> |-unit_4: 500</span>"
            ],
            "text/plain": [
              "<IPython.core.display.HTML object>"
            ]
          },
          "metadata": {
            "tags": []
          }
        },
        {
          "output_type": "display_data",
          "data": {
            "text/html": [
              "<span style=\"color:blue\"> |-unit_5: 300</span>"
            ],
            "text/plain": [
              "<IPython.core.display.HTML object>"
            ]
          },
          "metadata": {
            "tags": []
          }
        },
        {
          "output_type": "display_data",
          "data": {
            "text/html": [
              "<span style=\"color:cyan\"> |-unit_6: 50</span>"
            ],
            "text/plain": [
              "<IPython.core.display.HTML object>"
            ]
          },
          "metadata": {
            "tags": []
          }
        },
        {
          "output_type": "display_data",
          "data": {
            "text/html": [
              "<span style=\"color:blue\"> |-unit_7: 250</span>"
            ],
            "text/plain": [
              "<IPython.core.display.HTML object>"
            ]
          },
          "metadata": {
            "tags": []
          }
        },
        {
          "output_type": "display_data",
          "data": {
            "text/html": [
              "<span style=\"color:cyan\"> |-unit_8: 500</span>"
            ],
            "text/plain": [
              "<IPython.core.display.HTML object>"
            ]
          },
          "metadata": {
            "tags": []
          }
        },
        {
          "output_type": "display_data",
          "data": {
            "text/html": [
              "<span style=\"color:blue\"> |-unit_9: 50</span>"
            ],
            "text/plain": [
              "<IPython.core.display.HTML object>"
            ]
          },
          "metadata": {
            "tags": []
          }
        },
        {
          "output_type": "display_data",
          "data": {
            "text/html": [
              "<span style=\"color:#4527A0\"><h1 style=\"font-size:18px\">Trial summary</h1></span>"
            ],
            "text/plain": [
              "<IPython.core.display.HTML object>"
            ]
          },
          "metadata": {
            "tags": []
          }
        },
        {
          "output_type": "display_data",
          "data": {
            "text/html": [
              "<span style=\"color:cyan\"> |-Trial ID: 2b2207721741177a7cffea7a6883131f</span>"
            ],
            "text/plain": [
              "<IPython.core.display.HTML object>"
            ]
          },
          "metadata": {
            "tags": []
          }
        },
        {
          "output_type": "display_data",
          "data": {
            "text/html": [
              "<span style=\"color:cyan\"> |-Score: 0.35034013787905377</span>"
            ],
            "text/plain": [
              "<IPython.core.display.HTML object>"
            ]
          },
          "metadata": {
            "tags": []
          }
        },
        {
          "output_type": "display_data",
          "data": {
            "text/html": [
              "<span style=\"color:cyan\"> |-Best step: 0</span>"
            ],
            "text/plain": [
              "<IPython.core.display.HTML object>"
            ]
          },
          "metadata": {
            "tags": []
          }
        },
        {
          "output_type": "display_data",
          "data": {
            "text/html": [
              "<span style=\"color:#7E57C2\"><h2 style=\"font-size:16px\">Hyperparameters:</h2></span>"
            ],
            "text/plain": [
              "<IPython.core.display.HTML object>"
            ]
          },
          "metadata": {
            "tags": []
          }
        },
        {
          "output_type": "display_data",
          "data": {
            "text/html": [
              "<span style=\"color:cyan\"> |-act_0: selu</span>"
            ],
            "text/plain": [
              "<IPython.core.display.HTML object>"
            ]
          },
          "metadata": {
            "tags": []
          }
        },
        {
          "output_type": "display_data",
          "data": {
            "text/html": [
              "<span style=\"color:blue\"> |-act_1: relu</span>"
            ],
            "text/plain": [
              "<IPython.core.display.HTML object>"
            ]
          },
          "metadata": {
            "tags": []
          }
        },
        {
          "output_type": "display_data",
          "data": {
            "text/html": [
              "<span style=\"color:cyan\"> |-act_10: selu</span>"
            ],
            "text/plain": [
              "<IPython.core.display.HTML object>"
            ]
          },
          "metadata": {
            "tags": []
          }
        },
        {
          "output_type": "display_data",
          "data": {
            "text/html": [
              "<span style=\"color:blue\"> |-act_2: selu</span>"
            ],
            "text/plain": [
              "<IPython.core.display.HTML object>"
            ]
          },
          "metadata": {
            "tags": []
          }
        },
        {
          "output_type": "display_data",
          "data": {
            "text/html": [
              "<span style=\"color:cyan\"> |-act_3: selu</span>"
            ],
            "text/plain": [
              "<IPython.core.display.HTML object>"
            ]
          },
          "metadata": {
            "tags": []
          }
        },
        {
          "output_type": "display_data",
          "data": {
            "text/html": [
              "<span style=\"color:blue\"> |-act_4: selu</span>"
            ],
            "text/plain": [
              "<IPython.core.display.HTML object>"
            ]
          },
          "metadata": {
            "tags": []
          }
        },
        {
          "output_type": "display_data",
          "data": {
            "text/html": [
              "<span style=\"color:cyan\"> |-act_5: elu</span>"
            ],
            "text/plain": [
              "<IPython.core.display.HTML object>"
            ]
          },
          "metadata": {
            "tags": []
          }
        },
        {
          "output_type": "display_data",
          "data": {
            "text/html": [
              "<span style=\"color:blue\"> |-act_6: selu</span>"
            ],
            "text/plain": [
              "<IPython.core.display.HTML object>"
            ]
          },
          "metadata": {
            "tags": []
          }
        },
        {
          "output_type": "display_data",
          "data": {
            "text/html": [
              "<span style=\"color:cyan\"> |-act_7: selu</span>"
            ],
            "text/plain": [
              "<IPython.core.display.HTML object>"
            ]
          },
          "metadata": {
            "tags": []
          }
        },
        {
          "output_type": "display_data",
          "data": {
            "text/html": [
              "<span style=\"color:blue\"> |-act_8: relu</span>"
            ],
            "text/plain": [
              "<IPython.core.display.HTML object>"
            ]
          },
          "metadata": {
            "tags": []
          }
        },
        {
          "output_type": "display_data",
          "data": {
            "text/html": [
              "<span style=\"color:cyan\"> |-act_9: selu</span>"
            ],
            "text/plain": [
              "<IPython.core.display.HTML object>"
            ]
          },
          "metadata": {
            "tags": []
          }
        },
        {
          "output_type": "display_data",
          "data": {
            "text/html": [
              "<span style=\"color:blue\"> |-batch_size: 30</span>"
            ],
            "text/plain": [
              "<IPython.core.display.HTML object>"
            ]
          },
          "metadata": {
            "tags": []
          }
        },
        {
          "output_type": "display_data",
          "data": {
            "text/html": [
              "<span style=\"color:cyan\"> |-epochs: 90</span>"
            ],
            "text/plain": [
              "<IPython.core.display.HTML object>"
            ]
          },
          "metadata": {
            "tags": []
          }
        },
        {
          "output_type": "display_data",
          "data": {
            "text/html": [
              "<span style=\"color:blue\"> |-learning_rate: 0.1</span>"
            ],
            "text/plain": [
              "<IPython.core.display.HTML object>"
            ]
          },
          "metadata": {
            "tags": []
          }
        },
        {
          "output_type": "display_data",
          "data": {
            "text/html": [
              "<span style=\"color:cyan\"> |-number_of_layers: 4</span>"
            ],
            "text/plain": [
              "<IPython.core.display.HTML object>"
            ]
          },
          "metadata": {
            "tags": []
          }
        },
        {
          "output_type": "display_data",
          "data": {
            "text/html": [
              "<span style=\"color:blue\"> |-unit_0: 50</span>"
            ],
            "text/plain": [
              "<IPython.core.display.HTML object>"
            ]
          },
          "metadata": {
            "tags": []
          }
        },
        {
          "output_type": "display_data",
          "data": {
            "text/html": [
              "<span style=\"color:cyan\"> |-unit_1: 500</span>"
            ],
            "text/plain": [
              "<IPython.core.display.HTML object>"
            ]
          },
          "metadata": {
            "tags": []
          }
        },
        {
          "output_type": "display_data",
          "data": {
            "text/html": [
              "<span style=\"color:blue\"> |-unit_10: 500</span>"
            ],
            "text/plain": [
              "<IPython.core.display.HTML object>"
            ]
          },
          "metadata": {
            "tags": []
          }
        },
        {
          "output_type": "display_data",
          "data": {
            "text/html": [
              "<span style=\"color:cyan\"> |-unit_2: 300</span>"
            ],
            "text/plain": [
              "<IPython.core.display.HTML object>"
            ]
          },
          "metadata": {
            "tags": []
          }
        },
        {
          "output_type": "display_data",
          "data": {
            "text/html": [
              "<span style=\"color:blue\"> |-unit_3: 500</span>"
            ],
            "text/plain": [
              "<IPython.core.display.HTML object>"
            ]
          },
          "metadata": {
            "tags": []
          }
        },
        {
          "output_type": "display_data",
          "data": {
            "text/html": [
              "<span style=\"color:cyan\"> |-unit_4: 400</span>"
            ],
            "text/plain": [
              "<IPython.core.display.HTML object>"
            ]
          },
          "metadata": {
            "tags": []
          }
        },
        {
          "output_type": "display_data",
          "data": {
            "text/html": [
              "<span style=\"color:blue\"> |-unit_5: 450</span>"
            ],
            "text/plain": [
              "<IPython.core.display.HTML object>"
            ]
          },
          "metadata": {
            "tags": []
          }
        },
        {
          "output_type": "display_data",
          "data": {
            "text/html": [
              "<span style=\"color:cyan\"> |-unit_6: 50</span>"
            ],
            "text/plain": [
              "<IPython.core.display.HTML object>"
            ]
          },
          "metadata": {
            "tags": []
          }
        },
        {
          "output_type": "display_data",
          "data": {
            "text/html": [
              "<span style=\"color:blue\"> |-unit_7: 50</span>"
            ],
            "text/plain": [
              "<IPython.core.display.HTML object>"
            ]
          },
          "metadata": {
            "tags": []
          }
        },
        {
          "output_type": "display_data",
          "data": {
            "text/html": [
              "<span style=\"color:cyan\"> |-unit_8: 400</span>"
            ],
            "text/plain": [
              "<IPython.core.display.HTML object>"
            ]
          },
          "metadata": {
            "tags": []
          }
        },
        {
          "output_type": "display_data",
          "data": {
            "text/html": [
              "<span style=\"color:blue\"> |-unit_9: 500</span>"
            ],
            "text/plain": [
              "<IPython.core.display.HTML object>"
            ]
          },
          "metadata": {
            "tags": []
          }
        },
        {
          "output_type": "display_data",
          "data": {
            "text/html": [
              "<span style=\"color:#4527A0\"><h1 style=\"font-size:18px\">Trial summary</h1></span>"
            ],
            "text/plain": [
              "<IPython.core.display.HTML object>"
            ]
          },
          "metadata": {
            "tags": []
          }
        },
        {
          "output_type": "display_data",
          "data": {
            "text/html": [
              "<span style=\"color:cyan\"> |-Trial ID: 71467fca1ef796b1227d66e61e2bac45</span>"
            ],
            "text/plain": [
              "<IPython.core.display.HTML object>"
            ]
          },
          "metadata": {
            "tags": []
          }
        },
        {
          "output_type": "display_data",
          "data": {
            "text/html": [
              "<span style=\"color:cyan\"> |-Score: 0.34948980808258057</span>"
            ],
            "text/plain": [
              "<IPython.core.display.HTML object>"
            ]
          },
          "metadata": {
            "tags": []
          }
        },
        {
          "output_type": "display_data",
          "data": {
            "text/html": [
              "<span style=\"color:cyan\"> |-Best step: 0</span>"
            ],
            "text/plain": [
              "<IPython.core.display.HTML object>"
            ]
          },
          "metadata": {
            "tags": []
          }
        },
        {
          "output_type": "display_data",
          "data": {
            "text/html": [
              "<span style=\"color:#7E57C2\"><h2 style=\"font-size:16px\">Hyperparameters:</h2></span>"
            ],
            "text/plain": [
              "<IPython.core.display.HTML object>"
            ]
          },
          "metadata": {
            "tags": []
          }
        },
        {
          "output_type": "display_data",
          "data": {
            "text/html": [
              "<span style=\"color:cyan\"> |-act_0: relu</span>"
            ],
            "text/plain": [
              "<IPython.core.display.HTML object>"
            ]
          },
          "metadata": {
            "tags": []
          }
        },
        {
          "output_type": "display_data",
          "data": {
            "text/html": [
              "<span style=\"color:blue\"> |-act_1: selu</span>"
            ],
            "text/plain": [
              "<IPython.core.display.HTML object>"
            ]
          },
          "metadata": {
            "tags": []
          }
        },
        {
          "output_type": "display_data",
          "data": {
            "text/html": [
              "<span style=\"color:cyan\"> |-act_10: selu</span>"
            ],
            "text/plain": [
              "<IPython.core.display.HTML object>"
            ]
          },
          "metadata": {
            "tags": []
          }
        },
        {
          "output_type": "display_data",
          "data": {
            "text/html": [
              "<span style=\"color:blue\"> |-act_2: selu</span>"
            ],
            "text/plain": [
              "<IPython.core.display.HTML object>"
            ]
          },
          "metadata": {
            "tags": []
          }
        },
        {
          "output_type": "display_data",
          "data": {
            "text/html": [
              "<span style=\"color:cyan\"> |-act_3: selu</span>"
            ],
            "text/plain": [
              "<IPython.core.display.HTML object>"
            ]
          },
          "metadata": {
            "tags": []
          }
        },
        {
          "output_type": "display_data",
          "data": {
            "text/html": [
              "<span style=\"color:blue\"> |-act_4: selu</span>"
            ],
            "text/plain": [
              "<IPython.core.display.HTML object>"
            ]
          },
          "metadata": {
            "tags": []
          }
        },
        {
          "output_type": "display_data",
          "data": {
            "text/html": [
              "<span style=\"color:cyan\"> |-act_5: selu</span>"
            ],
            "text/plain": [
              "<IPython.core.display.HTML object>"
            ]
          },
          "metadata": {
            "tags": []
          }
        },
        {
          "output_type": "display_data",
          "data": {
            "text/html": [
              "<span style=\"color:blue\"> |-act_6: selu</span>"
            ],
            "text/plain": [
              "<IPython.core.display.HTML object>"
            ]
          },
          "metadata": {
            "tags": []
          }
        },
        {
          "output_type": "display_data",
          "data": {
            "text/html": [
              "<span style=\"color:cyan\"> |-act_7: relu</span>"
            ],
            "text/plain": [
              "<IPython.core.display.HTML object>"
            ]
          },
          "metadata": {
            "tags": []
          }
        },
        {
          "output_type": "display_data",
          "data": {
            "text/html": [
              "<span style=\"color:blue\"> |-act_8: relu</span>"
            ],
            "text/plain": [
              "<IPython.core.display.HTML object>"
            ]
          },
          "metadata": {
            "tags": []
          }
        },
        {
          "output_type": "display_data",
          "data": {
            "text/html": [
              "<span style=\"color:cyan\"> |-act_9: selu</span>"
            ],
            "text/plain": [
              "<IPython.core.display.HTML object>"
            ]
          },
          "metadata": {
            "tags": []
          }
        },
        {
          "output_type": "display_data",
          "data": {
            "text/html": [
              "<span style=\"color:blue\"> |-batch_size: 70</span>"
            ],
            "text/plain": [
              "<IPython.core.display.HTML object>"
            ]
          },
          "metadata": {
            "tags": []
          }
        },
        {
          "output_type": "display_data",
          "data": {
            "text/html": [
              "<span style=\"color:cyan\"> |-epochs: 30</span>"
            ],
            "text/plain": [
              "<IPython.core.display.HTML object>"
            ]
          },
          "metadata": {
            "tags": []
          }
        },
        {
          "output_type": "display_data",
          "data": {
            "text/html": [
              "<span style=\"color:blue\"> |-learning_rate: 0.1</span>"
            ],
            "text/plain": [
              "<IPython.core.display.HTML object>"
            ]
          },
          "metadata": {
            "tags": []
          }
        },
        {
          "output_type": "display_data",
          "data": {
            "text/html": [
              "<span style=\"color:cyan\"> |-number_of_layers: 1</span>"
            ],
            "text/plain": [
              "<IPython.core.display.HTML object>"
            ]
          },
          "metadata": {
            "tags": []
          }
        },
        {
          "output_type": "display_data",
          "data": {
            "text/html": [
              "<span style=\"color:blue\"> |-unit_0: 50</span>"
            ],
            "text/plain": [
              "<IPython.core.display.HTML object>"
            ]
          },
          "metadata": {
            "tags": []
          }
        },
        {
          "output_type": "display_data",
          "data": {
            "text/html": [
              "<span style=\"color:cyan\"> |-unit_1: 500</span>"
            ],
            "text/plain": [
              "<IPython.core.display.HTML object>"
            ]
          },
          "metadata": {
            "tags": []
          }
        },
        {
          "output_type": "display_data",
          "data": {
            "text/html": [
              "<span style=\"color:blue\"> |-unit_10: 50</span>"
            ],
            "text/plain": [
              "<IPython.core.display.HTML object>"
            ]
          },
          "metadata": {
            "tags": []
          }
        },
        {
          "output_type": "display_data",
          "data": {
            "text/html": [
              "<span style=\"color:cyan\"> |-unit_2: 500</span>"
            ],
            "text/plain": [
              "<IPython.core.display.HTML object>"
            ]
          },
          "metadata": {
            "tags": []
          }
        },
        {
          "output_type": "display_data",
          "data": {
            "text/html": [
              "<span style=\"color:blue\"> |-unit_3: 500</span>"
            ],
            "text/plain": [
              "<IPython.core.display.HTML object>"
            ]
          },
          "metadata": {
            "tags": []
          }
        },
        {
          "output_type": "display_data",
          "data": {
            "text/html": [
              "<span style=\"color:cyan\"> |-unit_4: 300</span>"
            ],
            "text/plain": [
              "<IPython.core.display.HTML object>"
            ]
          },
          "metadata": {
            "tags": []
          }
        },
        {
          "output_type": "display_data",
          "data": {
            "text/html": [
              "<span style=\"color:blue\"> |-unit_5: 50</span>"
            ],
            "text/plain": [
              "<IPython.core.display.HTML object>"
            ]
          },
          "metadata": {
            "tags": []
          }
        },
        {
          "output_type": "display_data",
          "data": {
            "text/html": [
              "<span style=\"color:cyan\"> |-unit_6: 50</span>"
            ],
            "text/plain": [
              "<IPython.core.display.HTML object>"
            ]
          },
          "metadata": {
            "tags": []
          }
        },
        {
          "output_type": "display_data",
          "data": {
            "text/html": [
              "<span style=\"color:blue\"> |-unit_7: 350</span>"
            ],
            "text/plain": [
              "<IPython.core.display.HTML object>"
            ]
          },
          "metadata": {
            "tags": []
          }
        },
        {
          "output_type": "display_data",
          "data": {
            "text/html": [
              "<span style=\"color:cyan\"> |-unit_8: 500</span>"
            ],
            "text/plain": [
              "<IPython.core.display.HTML object>"
            ]
          },
          "metadata": {
            "tags": []
          }
        },
        {
          "output_type": "display_data",
          "data": {
            "text/html": [
              "<span style=\"color:blue\"> |-unit_9: 500</span>"
            ],
            "text/plain": [
              "<IPython.core.display.HTML object>"
            ]
          },
          "metadata": {
            "tags": []
          }
        },
        {
          "output_type": "display_data",
          "data": {
            "text/html": [
              "<span style=\"color:#4527A0\"><h1 style=\"font-size:18px\">Trial summary</h1></span>"
            ],
            "text/plain": [
              "<IPython.core.display.HTML object>"
            ]
          },
          "metadata": {
            "tags": []
          }
        },
        {
          "output_type": "display_data",
          "data": {
            "text/html": [
              "<span style=\"color:cyan\"> |-Trial ID: 01acab214c4a476b8107640e58e6daf3</span>"
            ],
            "text/plain": [
              "<IPython.core.display.HTML object>"
            ]
          },
          "metadata": {
            "tags": []
          }
        },
        {
          "output_type": "display_data",
          "data": {
            "text/html": [
              "<span style=\"color:cyan\"> |-Score: 0.34948978821436566</span>"
            ],
            "text/plain": [
              "<IPython.core.display.HTML object>"
            ]
          },
          "metadata": {
            "tags": []
          }
        },
        {
          "output_type": "display_data",
          "data": {
            "text/html": [
              "<span style=\"color:cyan\"> |-Best step: 0</span>"
            ],
            "text/plain": [
              "<IPython.core.display.HTML object>"
            ]
          },
          "metadata": {
            "tags": []
          }
        },
        {
          "output_type": "display_data",
          "data": {
            "text/html": [
              "<span style=\"color:#7E57C2\"><h2 style=\"font-size:16px\">Hyperparameters:</h2></span>"
            ],
            "text/plain": [
              "<IPython.core.display.HTML object>"
            ]
          },
          "metadata": {
            "tags": []
          }
        },
        {
          "output_type": "display_data",
          "data": {
            "text/html": [
              "<span style=\"color:cyan\"> |-act_0: relu</span>"
            ],
            "text/plain": [
              "<IPython.core.display.HTML object>"
            ]
          },
          "metadata": {
            "tags": []
          }
        },
        {
          "output_type": "display_data",
          "data": {
            "text/html": [
              "<span style=\"color:blue\"> |-act_1: relu</span>"
            ],
            "text/plain": [
              "<IPython.core.display.HTML object>"
            ]
          },
          "metadata": {
            "tags": []
          }
        },
        {
          "output_type": "display_data",
          "data": {
            "text/html": [
              "<span style=\"color:cyan\"> |-act_10: relu</span>"
            ],
            "text/plain": [
              "<IPython.core.display.HTML object>"
            ]
          },
          "metadata": {
            "tags": []
          }
        },
        {
          "output_type": "display_data",
          "data": {
            "text/html": [
              "<span style=\"color:blue\"> |-act_2: relu</span>"
            ],
            "text/plain": [
              "<IPython.core.display.HTML object>"
            ]
          },
          "metadata": {
            "tags": []
          }
        },
        {
          "output_type": "display_data",
          "data": {
            "text/html": [
              "<span style=\"color:cyan\"> |-act_3: relu</span>"
            ],
            "text/plain": [
              "<IPython.core.display.HTML object>"
            ]
          },
          "metadata": {
            "tags": []
          }
        },
        {
          "output_type": "display_data",
          "data": {
            "text/html": [
              "<span style=\"color:blue\"> |-act_4: relu</span>"
            ],
            "text/plain": [
              "<IPython.core.display.HTML object>"
            ]
          },
          "metadata": {
            "tags": []
          }
        },
        {
          "output_type": "display_data",
          "data": {
            "text/html": [
              "<span style=\"color:cyan\"> |-act_5: selu</span>"
            ],
            "text/plain": [
              "<IPython.core.display.HTML object>"
            ]
          },
          "metadata": {
            "tags": []
          }
        },
        {
          "output_type": "display_data",
          "data": {
            "text/html": [
              "<span style=\"color:blue\"> |-act_6: elu</span>"
            ],
            "text/plain": [
              "<IPython.core.display.HTML object>"
            ]
          },
          "metadata": {
            "tags": []
          }
        },
        {
          "output_type": "display_data",
          "data": {
            "text/html": [
              "<span style=\"color:cyan\"> |-act_7: elu</span>"
            ],
            "text/plain": [
              "<IPython.core.display.HTML object>"
            ]
          },
          "metadata": {
            "tags": []
          }
        },
        {
          "output_type": "display_data",
          "data": {
            "text/html": [
              "<span style=\"color:blue\"> |-act_8: relu</span>"
            ],
            "text/plain": [
              "<IPython.core.display.HTML object>"
            ]
          },
          "metadata": {
            "tags": []
          }
        },
        {
          "output_type": "display_data",
          "data": {
            "text/html": [
              "<span style=\"color:cyan\"> |-act_9: selu</span>"
            ],
            "text/plain": [
              "<IPython.core.display.HTML object>"
            ]
          },
          "metadata": {
            "tags": []
          }
        },
        {
          "output_type": "display_data",
          "data": {
            "text/html": [
              "<span style=\"color:blue\"> |-batch_size: 50</span>"
            ],
            "text/plain": [
              "<IPython.core.display.HTML object>"
            ]
          },
          "metadata": {
            "tags": []
          }
        },
        {
          "output_type": "display_data",
          "data": {
            "text/html": [
              "<span style=\"color:cyan\"> |-epochs: 100</span>"
            ],
            "text/plain": [
              "<IPython.core.display.HTML object>"
            ]
          },
          "metadata": {
            "tags": []
          }
        },
        {
          "output_type": "display_data",
          "data": {
            "text/html": [
              "<span style=\"color:blue\"> |-learning_rate: 0.1</span>"
            ],
            "text/plain": [
              "<IPython.core.display.HTML object>"
            ]
          },
          "metadata": {
            "tags": []
          }
        },
        {
          "output_type": "display_data",
          "data": {
            "text/html": [
              "<span style=\"color:cyan\"> |-number_of_layers: 5</span>"
            ],
            "text/plain": [
              "<IPython.core.display.HTML object>"
            ]
          },
          "metadata": {
            "tags": []
          }
        },
        {
          "output_type": "display_data",
          "data": {
            "text/html": [
              "<span style=\"color:blue\"> |-unit_0: 250</span>"
            ],
            "text/plain": [
              "<IPython.core.display.HTML object>"
            ]
          },
          "metadata": {
            "tags": []
          }
        },
        {
          "output_type": "display_data",
          "data": {
            "text/html": [
              "<span style=\"color:cyan\"> |-unit_1: 450</span>"
            ],
            "text/plain": [
              "<IPython.core.display.HTML object>"
            ]
          },
          "metadata": {
            "tags": []
          }
        },
        {
          "output_type": "display_data",
          "data": {
            "text/html": [
              "<span style=\"color:blue\"> |-unit_10: 300</span>"
            ],
            "text/plain": [
              "<IPython.core.display.HTML object>"
            ]
          },
          "metadata": {
            "tags": []
          }
        },
        {
          "output_type": "display_data",
          "data": {
            "text/html": [
              "<span style=\"color:cyan\"> |-unit_2: 300</span>"
            ],
            "text/plain": [
              "<IPython.core.display.HTML object>"
            ]
          },
          "metadata": {
            "tags": []
          }
        },
        {
          "output_type": "display_data",
          "data": {
            "text/html": [
              "<span style=\"color:blue\"> |-unit_3: 150</span>"
            ],
            "text/plain": [
              "<IPython.core.display.HTML object>"
            ]
          },
          "metadata": {
            "tags": []
          }
        },
        {
          "output_type": "display_data",
          "data": {
            "text/html": [
              "<span style=\"color:cyan\"> |-unit_4: 500</span>"
            ],
            "text/plain": [
              "<IPython.core.display.HTML object>"
            ]
          },
          "metadata": {
            "tags": []
          }
        },
        {
          "output_type": "display_data",
          "data": {
            "text/html": [
              "<span style=\"color:blue\"> |-unit_5: 250</span>"
            ],
            "text/plain": [
              "<IPython.core.display.HTML object>"
            ]
          },
          "metadata": {
            "tags": []
          }
        },
        {
          "output_type": "display_data",
          "data": {
            "text/html": [
              "<span style=\"color:cyan\"> |-unit_6: 450</span>"
            ],
            "text/plain": [
              "<IPython.core.display.HTML object>"
            ]
          },
          "metadata": {
            "tags": []
          }
        },
        {
          "output_type": "display_data",
          "data": {
            "text/html": [
              "<span style=\"color:blue\"> |-unit_7: 100</span>"
            ],
            "text/plain": [
              "<IPython.core.display.HTML object>"
            ]
          },
          "metadata": {
            "tags": []
          }
        },
        {
          "output_type": "display_data",
          "data": {
            "text/html": [
              "<span style=\"color:cyan\"> |-unit_8: 500</span>"
            ],
            "text/plain": [
              "<IPython.core.display.HTML object>"
            ]
          },
          "metadata": {
            "tags": []
          }
        },
        {
          "output_type": "display_data",
          "data": {
            "text/html": [
              "<span style=\"color:blue\"> |-unit_9: 500</span>"
            ],
            "text/plain": [
              "<IPython.core.display.HTML object>"
            ]
          },
          "metadata": {
            "tags": []
          }
        },
        {
          "output_type": "display_data",
          "data": {
            "text/html": [
              "<span style=\"color:#4527A0\"><h1 style=\"font-size:18px\">Trial summary</h1></span>"
            ],
            "text/plain": [
              "<IPython.core.display.HTML object>"
            ]
          },
          "metadata": {
            "tags": []
          }
        },
        {
          "output_type": "display_data",
          "data": {
            "text/html": [
              "<span style=\"color:cyan\"> |-Trial ID: b3390564dbe04bb53df08cf3c003f567</span>"
            ],
            "text/plain": [
              "<IPython.core.display.HTML object>"
            ]
          },
          "metadata": {
            "tags": []
          }
        },
        {
          "output_type": "display_data",
          "data": {
            "text/html": [
              "<span style=\"color:cyan\"> |-Score: 0.34863946835199994</span>"
            ],
            "text/plain": [
              "<IPython.core.display.HTML object>"
            ]
          },
          "metadata": {
            "tags": []
          }
        },
        {
          "output_type": "display_data",
          "data": {
            "text/html": [
              "<span style=\"color:cyan\"> |-Best step: 0</span>"
            ],
            "text/plain": [
              "<IPython.core.display.HTML object>"
            ]
          },
          "metadata": {
            "tags": []
          }
        },
        {
          "output_type": "display_data",
          "data": {
            "text/html": [
              "<span style=\"color:#7E57C2\"><h2 style=\"font-size:16px\">Hyperparameters:</h2></span>"
            ],
            "text/plain": [
              "<IPython.core.display.HTML object>"
            ]
          },
          "metadata": {
            "tags": []
          }
        },
        {
          "output_type": "display_data",
          "data": {
            "text/html": [
              "<span style=\"color:cyan\"> |-act_0: relu</span>"
            ],
            "text/plain": [
              "<IPython.core.display.HTML object>"
            ]
          },
          "metadata": {
            "tags": []
          }
        },
        {
          "output_type": "display_data",
          "data": {
            "text/html": [
              "<span style=\"color:blue\"> |-act_1: relu</span>"
            ],
            "text/plain": [
              "<IPython.core.display.HTML object>"
            ]
          },
          "metadata": {
            "tags": []
          }
        },
        {
          "output_type": "display_data",
          "data": {
            "text/html": [
              "<span style=\"color:cyan\"> |-act_10: relu</span>"
            ],
            "text/plain": [
              "<IPython.core.display.HTML object>"
            ]
          },
          "metadata": {
            "tags": []
          }
        },
        {
          "output_type": "display_data",
          "data": {
            "text/html": [
              "<span style=\"color:blue\"> |-act_2: relu</span>"
            ],
            "text/plain": [
              "<IPython.core.display.HTML object>"
            ]
          },
          "metadata": {
            "tags": []
          }
        },
        {
          "output_type": "display_data",
          "data": {
            "text/html": [
              "<span style=\"color:cyan\"> |-act_3: selu</span>"
            ],
            "text/plain": [
              "<IPython.core.display.HTML object>"
            ]
          },
          "metadata": {
            "tags": []
          }
        },
        {
          "output_type": "display_data",
          "data": {
            "text/html": [
              "<span style=\"color:blue\"> |-act_4: selu</span>"
            ],
            "text/plain": [
              "<IPython.core.display.HTML object>"
            ]
          },
          "metadata": {
            "tags": []
          }
        },
        {
          "output_type": "display_data",
          "data": {
            "text/html": [
              "<span style=\"color:cyan\"> |-act_5: selu</span>"
            ],
            "text/plain": [
              "<IPython.core.display.HTML object>"
            ]
          },
          "metadata": {
            "tags": []
          }
        },
        {
          "output_type": "display_data",
          "data": {
            "text/html": [
              "<span style=\"color:blue\"> |-act_6: relu</span>"
            ],
            "text/plain": [
              "<IPython.core.display.HTML object>"
            ]
          },
          "metadata": {
            "tags": []
          }
        },
        {
          "output_type": "display_data",
          "data": {
            "text/html": [
              "<span style=\"color:cyan\"> |-act_7: selu</span>"
            ],
            "text/plain": [
              "<IPython.core.display.HTML object>"
            ]
          },
          "metadata": {
            "tags": []
          }
        },
        {
          "output_type": "display_data",
          "data": {
            "text/html": [
              "<span style=\"color:blue\"> |-act_8: relu</span>"
            ],
            "text/plain": [
              "<IPython.core.display.HTML object>"
            ]
          },
          "metadata": {
            "tags": []
          }
        },
        {
          "output_type": "display_data",
          "data": {
            "text/html": [
              "<span style=\"color:cyan\"> |-act_9: selu</span>"
            ],
            "text/plain": [
              "<IPython.core.display.HTML object>"
            ]
          },
          "metadata": {
            "tags": []
          }
        },
        {
          "output_type": "display_data",
          "data": {
            "text/html": [
              "<span style=\"color:blue\"> |-batch_size: 100</span>"
            ],
            "text/plain": [
              "<IPython.core.display.HTML object>"
            ]
          },
          "metadata": {
            "tags": []
          }
        },
        {
          "output_type": "display_data",
          "data": {
            "text/html": [
              "<span style=\"color:cyan\"> |-epochs: 100</span>"
            ],
            "text/plain": [
              "<IPython.core.display.HTML object>"
            ]
          },
          "metadata": {
            "tags": []
          }
        },
        {
          "output_type": "display_data",
          "data": {
            "text/html": [
              "<span style=\"color:blue\"> |-learning_rate: 0.1</span>"
            ],
            "text/plain": [
              "<IPython.core.display.HTML object>"
            ]
          },
          "metadata": {
            "tags": []
          }
        },
        {
          "output_type": "display_data",
          "data": {
            "text/html": [
              "<span style=\"color:cyan\"> |-number_of_layers: 1</span>"
            ],
            "text/plain": [
              "<IPython.core.display.HTML object>"
            ]
          },
          "metadata": {
            "tags": []
          }
        },
        {
          "output_type": "display_data",
          "data": {
            "text/html": [
              "<span style=\"color:blue\"> |-unit_0: 500</span>"
            ],
            "text/plain": [
              "<IPython.core.display.HTML object>"
            ]
          },
          "metadata": {
            "tags": []
          }
        },
        {
          "output_type": "display_data",
          "data": {
            "text/html": [
              "<span style=\"color:cyan\"> |-unit_1: 500</span>"
            ],
            "text/plain": [
              "<IPython.core.display.HTML object>"
            ]
          },
          "metadata": {
            "tags": []
          }
        },
        {
          "output_type": "display_data",
          "data": {
            "text/html": [
              "<span style=\"color:blue\"> |-unit_10: 500</span>"
            ],
            "text/plain": [
              "<IPython.core.display.HTML object>"
            ]
          },
          "metadata": {
            "tags": []
          }
        },
        {
          "output_type": "display_data",
          "data": {
            "text/html": [
              "<span style=\"color:cyan\"> |-unit_2: 50</span>"
            ],
            "text/plain": [
              "<IPython.core.display.HTML object>"
            ]
          },
          "metadata": {
            "tags": []
          }
        },
        {
          "output_type": "display_data",
          "data": {
            "text/html": [
              "<span style=\"color:blue\"> |-unit_3: 500</span>"
            ],
            "text/plain": [
              "<IPython.core.display.HTML object>"
            ]
          },
          "metadata": {
            "tags": []
          }
        },
        {
          "output_type": "display_data",
          "data": {
            "text/html": [
              "<span style=\"color:cyan\"> |-unit_4: 50</span>"
            ],
            "text/plain": [
              "<IPython.core.display.HTML object>"
            ]
          },
          "metadata": {
            "tags": []
          }
        },
        {
          "output_type": "display_data",
          "data": {
            "text/html": [
              "<span style=\"color:blue\"> |-unit_5: 500</span>"
            ],
            "text/plain": [
              "<IPython.core.display.HTML object>"
            ]
          },
          "metadata": {
            "tags": []
          }
        },
        {
          "output_type": "display_data",
          "data": {
            "text/html": [
              "<span style=\"color:cyan\"> |-unit_6: 500</span>"
            ],
            "text/plain": [
              "<IPython.core.display.HTML object>"
            ]
          },
          "metadata": {
            "tags": []
          }
        },
        {
          "output_type": "display_data",
          "data": {
            "text/html": [
              "<span style=\"color:blue\"> |-unit_7: 50</span>"
            ],
            "text/plain": [
              "<IPython.core.display.HTML object>"
            ]
          },
          "metadata": {
            "tags": []
          }
        },
        {
          "output_type": "display_data",
          "data": {
            "text/html": [
              "<span style=\"color:cyan\"> |-unit_8: 500</span>"
            ],
            "text/plain": [
              "<IPython.core.display.HTML object>"
            ]
          },
          "metadata": {
            "tags": []
          }
        },
        {
          "output_type": "display_data",
          "data": {
            "text/html": [
              "<span style=\"color:blue\"> |-unit_9: 50</span>"
            ],
            "text/plain": [
              "<IPython.core.display.HTML object>"
            ]
          },
          "metadata": {
            "tags": []
          }
        },
        {
          "output_type": "display_data",
          "data": {
            "text/html": [
              "<span style=\"color:#4527A0\"><h1 style=\"font-size:18px\">Trial summary</h1></span>"
            ],
            "text/plain": [
              "<IPython.core.display.HTML object>"
            ]
          },
          "metadata": {
            "tags": []
          }
        },
        {
          "output_type": "display_data",
          "data": {
            "text/html": [
              "<span style=\"color:cyan\"> |-Trial ID: a416f8cc3b492e28be3d687565f0cf53</span>"
            ],
            "text/plain": [
              "<IPython.core.display.HTML object>"
            ]
          },
          "metadata": {
            "tags": []
          }
        },
        {
          "output_type": "display_data",
          "data": {
            "text/html": [
              "<span style=\"color:cyan\"> |-Score: 0.34863945841789246</span>"
            ],
            "text/plain": [
              "<IPython.core.display.HTML object>"
            ]
          },
          "metadata": {
            "tags": []
          }
        },
        {
          "output_type": "display_data",
          "data": {
            "text/html": [
              "<span style=\"color:cyan\"> |-Best step: 0</span>"
            ],
            "text/plain": [
              "<IPython.core.display.HTML object>"
            ]
          },
          "metadata": {
            "tags": []
          }
        },
        {
          "output_type": "display_data",
          "data": {
            "text/html": [
              "<span style=\"color:#7E57C2\"><h2 style=\"font-size:16px\">Hyperparameters:</h2></span>"
            ],
            "text/plain": [
              "<IPython.core.display.HTML object>"
            ]
          },
          "metadata": {
            "tags": []
          }
        },
        {
          "output_type": "display_data",
          "data": {
            "text/html": [
              "<span style=\"color:cyan\"> |-act_0: selu</span>"
            ],
            "text/plain": [
              "<IPython.core.display.HTML object>"
            ]
          },
          "metadata": {
            "tags": []
          }
        },
        {
          "output_type": "display_data",
          "data": {
            "text/html": [
              "<span style=\"color:blue\"> |-act_1: relu</span>"
            ],
            "text/plain": [
              "<IPython.core.display.HTML object>"
            ]
          },
          "metadata": {
            "tags": []
          }
        },
        {
          "output_type": "display_data",
          "data": {
            "text/html": [
              "<span style=\"color:cyan\"> |-act_10: selu</span>"
            ],
            "text/plain": [
              "<IPython.core.display.HTML object>"
            ]
          },
          "metadata": {
            "tags": []
          }
        },
        {
          "output_type": "display_data",
          "data": {
            "text/html": [
              "<span style=\"color:blue\"> |-act_2: relu</span>"
            ],
            "text/plain": [
              "<IPython.core.display.HTML object>"
            ]
          },
          "metadata": {
            "tags": []
          }
        },
        {
          "output_type": "display_data",
          "data": {
            "text/html": [
              "<span style=\"color:cyan\"> |-act_3: relu</span>"
            ],
            "text/plain": [
              "<IPython.core.display.HTML object>"
            ]
          },
          "metadata": {
            "tags": []
          }
        },
        {
          "output_type": "display_data",
          "data": {
            "text/html": [
              "<span style=\"color:blue\"> |-act_4: selu</span>"
            ],
            "text/plain": [
              "<IPython.core.display.HTML object>"
            ]
          },
          "metadata": {
            "tags": []
          }
        },
        {
          "output_type": "display_data",
          "data": {
            "text/html": [
              "<span style=\"color:cyan\"> |-act_5: relu</span>"
            ],
            "text/plain": [
              "<IPython.core.display.HTML object>"
            ]
          },
          "metadata": {
            "tags": []
          }
        },
        {
          "output_type": "display_data",
          "data": {
            "text/html": [
              "<span style=\"color:blue\"> |-act_6: selu</span>"
            ],
            "text/plain": [
              "<IPython.core.display.HTML object>"
            ]
          },
          "metadata": {
            "tags": []
          }
        },
        {
          "output_type": "display_data",
          "data": {
            "text/html": [
              "<span style=\"color:cyan\"> |-act_7: relu</span>"
            ],
            "text/plain": [
              "<IPython.core.display.HTML object>"
            ]
          },
          "metadata": {
            "tags": []
          }
        },
        {
          "output_type": "display_data",
          "data": {
            "text/html": [
              "<span style=\"color:blue\"> |-act_8: relu</span>"
            ],
            "text/plain": [
              "<IPython.core.display.HTML object>"
            ]
          },
          "metadata": {
            "tags": []
          }
        },
        {
          "output_type": "display_data",
          "data": {
            "text/html": [
              "<span style=\"color:cyan\"> |-act_9: relu</span>"
            ],
            "text/plain": [
              "<IPython.core.display.HTML object>"
            ]
          },
          "metadata": {
            "tags": []
          }
        },
        {
          "output_type": "display_data",
          "data": {
            "text/html": [
              "<span style=\"color:blue\"> |-batch_size: 100</span>"
            ],
            "text/plain": [
              "<IPython.core.display.HTML object>"
            ]
          },
          "metadata": {
            "tags": []
          }
        },
        {
          "output_type": "display_data",
          "data": {
            "text/html": [
              "<span style=\"color:cyan\"> |-epochs: 100</span>"
            ],
            "text/plain": [
              "<IPython.core.display.HTML object>"
            ]
          },
          "metadata": {
            "tags": []
          }
        },
        {
          "output_type": "display_data",
          "data": {
            "text/html": [
              "<span style=\"color:blue\"> |-learning_rate: 0.1</span>"
            ],
            "text/plain": [
              "<IPython.core.display.HTML object>"
            ]
          },
          "metadata": {
            "tags": []
          }
        },
        {
          "output_type": "display_data",
          "data": {
            "text/html": [
              "<span style=\"color:cyan\"> |-number_of_layers: 1</span>"
            ],
            "text/plain": [
              "<IPython.core.display.HTML object>"
            ]
          },
          "metadata": {
            "tags": []
          }
        },
        {
          "output_type": "display_data",
          "data": {
            "text/html": [
              "<span style=\"color:blue\"> |-unit_0: 50</span>"
            ],
            "text/plain": [
              "<IPython.core.display.HTML object>"
            ]
          },
          "metadata": {
            "tags": []
          }
        },
        {
          "output_type": "display_data",
          "data": {
            "text/html": [
              "<span style=\"color:cyan\"> |-unit_1: 500</span>"
            ],
            "text/plain": [
              "<IPython.core.display.HTML object>"
            ]
          },
          "metadata": {
            "tags": []
          }
        },
        {
          "output_type": "display_data",
          "data": {
            "text/html": [
              "<span style=\"color:blue\"> |-unit_10: 500</span>"
            ],
            "text/plain": [
              "<IPython.core.display.HTML object>"
            ]
          },
          "metadata": {
            "tags": []
          }
        },
        {
          "output_type": "display_data",
          "data": {
            "text/html": [
              "<span style=\"color:cyan\"> |-unit_2: 500</span>"
            ],
            "text/plain": [
              "<IPython.core.display.HTML object>"
            ]
          },
          "metadata": {
            "tags": []
          }
        },
        {
          "output_type": "display_data",
          "data": {
            "text/html": [
              "<span style=\"color:blue\"> |-unit_3: 50</span>"
            ],
            "text/plain": [
              "<IPython.core.display.HTML object>"
            ]
          },
          "metadata": {
            "tags": []
          }
        },
        {
          "output_type": "display_data",
          "data": {
            "text/html": [
              "<span style=\"color:cyan\"> |-unit_4: 500</span>"
            ],
            "text/plain": [
              "<IPython.core.display.HTML object>"
            ]
          },
          "metadata": {
            "tags": []
          }
        },
        {
          "output_type": "display_data",
          "data": {
            "text/html": [
              "<span style=\"color:blue\"> |-unit_5: 50</span>"
            ],
            "text/plain": [
              "<IPython.core.display.HTML object>"
            ]
          },
          "metadata": {
            "tags": []
          }
        },
        {
          "output_type": "display_data",
          "data": {
            "text/html": [
              "<span style=\"color:cyan\"> |-unit_6: 500</span>"
            ],
            "text/plain": [
              "<IPython.core.display.HTML object>"
            ]
          },
          "metadata": {
            "tags": []
          }
        },
        {
          "output_type": "display_data",
          "data": {
            "text/html": [
              "<span style=\"color:blue\"> |-unit_7: 500</span>"
            ],
            "text/plain": [
              "<IPython.core.display.HTML object>"
            ]
          },
          "metadata": {
            "tags": []
          }
        },
        {
          "output_type": "display_data",
          "data": {
            "text/html": [
              "<span style=\"color:cyan\"> |-unit_8: 500</span>"
            ],
            "text/plain": [
              "<IPython.core.display.HTML object>"
            ]
          },
          "metadata": {
            "tags": []
          }
        },
        {
          "output_type": "display_data",
          "data": {
            "text/html": [
              "<span style=\"color:blue\"> |-unit_9: 500</span>"
            ],
            "text/plain": [
              "<IPython.core.display.HTML object>"
            ]
          },
          "metadata": {
            "tags": []
          }
        }
      ]
    },
    {
      "cell_type": "code",
      "metadata": {
        "id": "pW_KKVA7fVnZ",
        "outputId": "b299b373-acf3-4739-bd25-22b9d4aea3ae",
        "colab": {
          "base_uri": "https://localhost:8080/"
        }
      },
      "source": [
        "best_model = tuner.get_best_models(num_models=1)[0]"
      ],
      "execution_count": 40,
      "outputs": [
        {
          "output_type": "stream",
          "text": [
            "WARNING:tensorflow:Unresolved object in checkpoint: (root).optimizer.iter\n",
            "WARNING:tensorflow:Unresolved object in checkpoint: (root).optimizer.decay\n",
            "WARNING:tensorflow:Unresolved object in checkpoint: (root).optimizer.learning_rate\n",
            "WARNING:tensorflow:Unresolved object in checkpoint: (root).optimizer.momentum\n",
            "WARNING:tensorflow:A checkpoint was restored (e.g. tf.train.Checkpoint.restore or tf.keras.Model.load_weights) but not all checkpointed values were used. See above for specific issues. Use expect_partial() on the load status object, e.g. tf.train.Checkpoint.restore(...).expect_partial(), to silence these warnings, or use assert_consumed() to make the check explicit. See https://www.tensorflow.org/guide/checkpoint#loading_mechanics for details.\n"
          ],
          "name": "stdout"
        }
      ]
    },
    {
      "cell_type": "code",
      "metadata": {
        "id": "salWLINPfXkV",
        "outputId": "026ef844-cc8e-4dd3-a458-6435b4396046",
        "colab": {
          "base_uri": "https://localhost:8080/"
        }
      },
      "source": [
        "print(best_model.summary())"
      ],
      "execution_count": 41,
      "outputs": [
        {
          "output_type": "stream",
          "text": [
            "Model: \"sequential\"\n",
            "_________________________________________________________________\n",
            "Layer (type)                 Output Shape              Param #   \n",
            "=================================================================\n",
            "dense (Dense)                (None, 50)                5650      \n",
            "_________________________________________________________________\n",
            "dense_1 (Dense)              (None, 500)               25500     \n",
            "_________________________________________________________________\n",
            "dense_2 (Dense)              (None, 5)                 2505      \n",
            "=================================================================\n",
            "Total params: 33,655\n",
            "Trainable params: 33,655\n",
            "Non-trainable params: 0\n",
            "_________________________________________________________________\n",
            "None\n"
          ],
          "name": "stdout"
        }
      ]
    },
    {
      "cell_type": "code",
      "metadata": {
        "id": "L7Xq3pjy6f1W",
        "outputId": "e57f57c3-99ae-4019-d17f-6c8bb2191e7c",
        "colab": {
          "background_save": true,
          "base_uri": "https://localhost:8080/"
        }
      },
      "source": [
        "#rom sklearn.metrics import fbeta_score\n",
        "#from sklearn.metrics import f1_score\n",
        "from sklearn.metrics import accuracy_score\n",
        "\n",
        "test_res = np.zeros(shape=(10,5))\n",
        "training_res = np.zeros(shape=(10,5))\n",
        "\n",
        "cv_accuracy = []\n",
        "\n",
        "for train_index, val_index in folds:\n",
        "  y_cv_train = y_train_ohe[train_index]\n",
        "  X_cv_train = X_train.iloc[train_index]\n",
        "  y_cv_val = y_train_ohe[val_index]\n",
        "  X_cv_val = X_train.iloc[val_index]\n",
        "\n",
        "  scaler = StandardScaler()\n",
        "  scaler.fit(X_cv_train)\n",
        "  X_cv_train = scaler.transform(X_cv_train)\n",
        "  X_cv_val = scaler.transform(X_cv_val)\n",
        "  best_model = tuner.get_best_models(num_models=1)[0]\n",
        "  best_model.fit(X_cv_train,y_cv_train,epochs=100, batch_size=100, validation_data=(X_cv_val,y_cv_val))\n",
        "\n",
        "  Train_pred = best_model.predict(X_cv_train)\n",
        "  highscore = 0\n",
        "  best_thr = 0\n",
        "  score_temp = 0\n",
        "  for i in range(100):\n",
        "    k= i*0.01*np.ones(5)\n",
        "    score_temp = compute_accuracy(y_cv_train, Train_pred>k)\n",
        "    if score_temp > highscore:\n",
        "      highscore = score_temp\n",
        "      best_thr = k\n",
        "  print(\"best threshold:\", best_thr)\n",
        "  best_thr = optimize.fmin(thr_acc_metrics, args=(y_cv_train,Train_pred), x0=best_thr)\n",
        "  print(\"best threshold:\", best_thr)\n",
        "\n",
        "  Val_pred = best_model.predict(X_cv_val)\n",
        "  Val_pred = (Val_pred > best_thr) * 1\n",
        "  print(\"Accuracy validation data:\",compute_accuracy(y_cv_val, Val_pred))\n",
        "  X_test_scaled = scaler.transform(X_test)\n",
        "  Test_pred = best_model.predict(X_test_scaled)\n",
        "  Test_pred = (Test_pred > best_thr) * 1\n",
        "  print(\"Accuracy test data:\",compute_accuracy(y_test_ohe, Test_pred))\n",
        "  cv_accuracy.append(compute_accuracy(y_test_ohe, Test_pred))\n",
        "\n"
      ],
      "execution_count": null,
      "outputs": [
        {
          "output_type": "stream",
          "text": [
            "WARNING:tensorflow:Unresolved object in checkpoint: (root).optimizer.iter\n",
            "WARNING:tensorflow:Unresolved object in checkpoint: (root).optimizer.decay\n",
            "WARNING:tensorflow:Unresolved object in checkpoint: (root).optimizer.learning_rate\n",
            "WARNING:tensorflow:Unresolved object in checkpoint: (root).optimizer.momentum\n",
            "WARNING:tensorflow:A checkpoint was restored (e.g. tf.train.Checkpoint.restore or tf.keras.Model.load_weights) but not all checkpointed values were used. See above for specific issues. Use expect_partial() on the load status object, e.g. tf.train.Checkpoint.restore(...).expect_partial(), to silence these warnings, or use assert_consumed() to make the check explicit. See https://www.tensorflow.org/guide/checkpoint#loading_mechanics for details.\n",
            "Epoch 1/100\n",
            "177/177 [==============================] - 1s 5ms/step - loss: 0.5501 - accuracy: 0.3964 - auc: 0.6298 - val_loss: 0.5375 - val_accuracy: 0.3914 - val_auc: 0.6609\n",
            "Epoch 2/100\n",
            "177/177 [==============================] - 1s 4ms/step - loss: 0.5448 - accuracy: 0.4073 - auc: 0.6366 - val_loss: 0.5501 - val_accuracy: 0.3694 - val_auc: 0.6368\n",
            "Epoch 3/100\n",
            "177/177 [==============================] - 1s 4ms/step - loss: 0.5440 - accuracy: 0.4069 - auc: 0.6388 - val_loss: 0.5428 - val_accuracy: 0.3756 - val_auc: 0.6466\n",
            "Epoch 4/100\n",
            "177/177 [==============================] - 1s 4ms/step - loss: 0.5427 - accuracy: 0.4086 - auc: 0.6423 - val_loss: 0.5468 - val_accuracy: 0.3485 - val_auc: 0.6404\n",
            "Epoch 5/100\n",
            "177/177 [==============================] - 1s 4ms/step - loss: 0.5418 - accuracy: 0.4080 - auc: 0.6443 - val_loss: 0.5418 - val_accuracy: 0.4073 - val_auc: 0.6463\n",
            "Epoch 6/100\n",
            "177/177 [==============================] - 1s 4ms/step - loss: 0.5414 - accuracy: 0.4112 - auc: 0.6442 - val_loss: 0.5528 - val_accuracy: 0.3623 - val_auc: 0.6288\n",
            "Epoch 7/100\n",
            "177/177 [==============================] - 1s 4ms/step - loss: 0.5415 - accuracy: 0.4105 - auc: 0.6447 - val_loss: 0.5413 - val_accuracy: 0.4006 - val_auc: 0.6470\n",
            "Epoch 8/100\n",
            "177/177 [==============================] - 1s 4ms/step - loss: 0.5408 - accuracy: 0.4109 - auc: 0.6455 - val_loss: 0.5417 - val_accuracy: 0.4001 - val_auc: 0.6481\n",
            "Epoch 9/100\n",
            "177/177 [==============================] - 1s 4ms/step - loss: 0.5409 - accuracy: 0.4115 - auc: 0.6452 - val_loss: 0.5446 - val_accuracy: 0.3817 - val_auc: 0.6449\n",
            "Epoch 10/100\n",
            "177/177 [==============================] - 1s 4ms/step - loss: 0.5402 - accuracy: 0.4107 - auc: 0.6476 - val_loss: 0.5437 - val_accuracy: 0.3868 - val_auc: 0.6425\n",
            "Epoch 11/100\n",
            "177/177 [==============================] - 1s 4ms/step - loss: 0.5399 - accuracy: 0.4147 - auc: 0.6485 - val_loss: 0.5452 - val_accuracy: 0.4006 - val_auc: 0.6381\n",
            "Epoch 12/100\n",
            "177/177 [==============================] - 1s 4ms/step - loss: 0.5396 - accuracy: 0.4130 - auc: 0.6495 - val_loss: 0.5566 - val_accuracy: 0.3746 - val_auc: 0.6307\n",
            "Epoch 13/100\n",
            "177/177 [==============================] - 1s 3ms/step - loss: 0.5395 - accuracy: 0.4123 - auc: 0.6496 - val_loss: 0.5541 - val_accuracy: 0.3541 - val_auc: 0.6299\n",
            "Epoch 14/100\n",
            "177/177 [==============================] - 1s 4ms/step - loss: 0.5394 - accuracy: 0.4124 - auc: 0.6496 - val_loss: 0.5503 - val_accuracy: 0.3567 - val_auc: 0.6319\n",
            "Epoch 15/100\n",
            "177/177 [==============================] - 1s 4ms/step - loss: 0.5390 - accuracy: 0.4136 - auc: 0.6506 - val_loss: 0.5440 - val_accuracy: 0.3883 - val_auc: 0.6450\n",
            "Epoch 16/100\n",
            "177/177 [==============================] - 1s 4ms/step - loss: 0.5387 - accuracy: 0.4122 - auc: 0.6516 - val_loss: 0.5470 - val_accuracy: 0.3771 - val_auc: 0.6388\n",
            "Epoch 17/100\n",
            "177/177 [==============================] - 1s 4ms/step - loss: 0.5387 - accuracy: 0.4128 - auc: 0.6520 - val_loss: 0.5445 - val_accuracy: 0.3878 - val_auc: 0.6440\n",
            "Epoch 18/100\n",
            "177/177 [==============================] - 1s 4ms/step - loss: 0.5384 - accuracy: 0.4134 - auc: 0.6526 - val_loss: 0.5409 - val_accuracy: 0.4052 - val_auc: 0.6499\n",
            "Epoch 19/100\n",
            "177/177 [==============================] - 1s 4ms/step - loss: 0.5382 - accuracy: 0.4132 - auc: 0.6533 - val_loss: 0.5424 - val_accuracy: 0.4113 - val_auc: 0.6479\n",
            "Epoch 20/100\n",
            "177/177 [==============================] - 1s 4ms/step - loss: 0.5380 - accuracy: 0.4137 - auc: 0.6530 - val_loss: 0.5411 - val_accuracy: 0.4042 - val_auc: 0.6498\n",
            "Epoch 21/100\n",
            "177/177 [==============================] - 1s 4ms/step - loss: 0.5377 - accuracy: 0.4130 - auc: 0.6543 - val_loss: 0.5437 - val_accuracy: 0.4078 - val_auc: 0.6435\n",
            "Epoch 22/100\n",
            "177/177 [==============================] - 1s 4ms/step - loss: 0.5374 - accuracy: 0.4159 - auc: 0.6545 - val_loss: 0.5430 - val_accuracy: 0.3924 - val_auc: 0.6453\n",
            "Epoch 23/100\n",
            "177/177 [==============================] - 1s 4ms/step - loss: 0.5373 - accuracy: 0.4149 - auc: 0.6558 - val_loss: 0.5440 - val_accuracy: 0.3945 - val_auc: 0.6416\n",
            "Epoch 24/100\n",
            "177/177 [==============================] - 1s 4ms/step - loss: 0.5370 - accuracy: 0.4146 - auc: 0.6564 - val_loss: 0.5434 - val_accuracy: 0.4103 - val_auc: 0.6422\n",
            "Epoch 25/100\n",
            "177/177 [==============================] - 1s 4ms/step - loss: 0.5371 - accuracy: 0.4156 - auc: 0.6561 - val_loss: 0.5434 - val_accuracy: 0.4052 - val_auc: 0.6413\n",
            "Epoch 26/100\n",
            "177/177 [==============================] - 1s 4ms/step - loss: 0.5366 - accuracy: 0.4139 - auc: 0.6569 - val_loss: 0.5462 - val_accuracy: 0.3975 - val_auc: 0.6399\n",
            "Epoch 27/100\n",
            "177/177 [==============================] - 1s 4ms/step - loss: 0.5367 - accuracy: 0.4146 - auc: 0.6568 - val_loss: 0.5459 - val_accuracy: 0.4016 - val_auc: 0.6372\n",
            "Epoch 28/100\n",
            "177/177 [==============================] - 1s 4ms/step - loss: 0.5366 - accuracy: 0.4142 - auc: 0.6575 - val_loss: 0.5519 - val_accuracy: 0.3628 - val_auc: 0.6293\n",
            "Epoch 29/100\n",
            "177/177 [==============================] - 1s 4ms/step - loss: 0.5360 - accuracy: 0.4139 - auc: 0.6593 - val_loss: 0.5565 - val_accuracy: 0.3613 - val_auc: 0.6230\n",
            "Epoch 30/100\n",
            "177/177 [==============================] - 1s 4ms/step - loss: 0.5358 - accuracy: 0.4130 - auc: 0.6596 - val_loss: 0.5457 - val_accuracy: 0.3878 - val_auc: 0.6404\n",
            "Epoch 31/100\n",
            "177/177 [==============================] - 1s 4ms/step - loss: 0.5360 - accuracy: 0.4140 - auc: 0.6595 - val_loss: 0.5445 - val_accuracy: 0.3965 - val_auc: 0.6394\n",
            "Epoch 32/100\n",
            "177/177 [==============================] - 1s 4ms/step - loss: 0.5359 - accuracy: 0.4140 - auc: 0.6590 - val_loss: 0.5490 - val_accuracy: 0.3628 - val_auc: 0.6350\n",
            "Epoch 33/100\n",
            "177/177 [==============================] - 1s 4ms/step - loss: 0.5356 - accuracy: 0.4127 - auc: 0.6606 - val_loss: 0.5418 - val_accuracy: 0.4042 - val_auc: 0.6464\n",
            "Epoch 34/100\n",
            "177/177 [==============================] - 1s 4ms/step - loss: 0.5354 - accuracy: 0.4138 - auc: 0.6613 - val_loss: 0.5440 - val_accuracy: 0.4093 - val_auc: 0.6441\n",
            "Epoch 35/100\n",
            "177/177 [==============================] - 1s 4ms/step - loss: 0.5352 - accuracy: 0.4136 - auc: 0.6614 - val_loss: 0.5482 - val_accuracy: 0.3996 - val_auc: 0.6341\n",
            "Epoch 36/100\n",
            "177/177 [==============================] - 1s 4ms/step - loss: 0.5350 - accuracy: 0.4137 - auc: 0.6619 - val_loss: 0.5471 - val_accuracy: 0.3970 - val_auc: 0.6351\n",
            "Epoch 37/100\n",
            "177/177 [==============================] - 1s 4ms/step - loss: 0.5350 - accuracy: 0.4132 - auc: 0.6619 - val_loss: 0.5448 - val_accuracy: 0.3965 - val_auc: 0.6397\n",
            "Epoch 38/100\n",
            "177/177 [==============================] - 1s 4ms/step - loss: 0.5347 - accuracy: 0.4156 - auc: 0.6627 - val_loss: 0.5496 - val_accuracy: 0.3889 - val_auc: 0.6342\n",
            "Epoch 39/100\n",
            "177/177 [==============================] - 1s 4ms/step - loss: 0.5348 - accuracy: 0.4152 - auc: 0.6620 - val_loss: 0.5558 - val_accuracy: 0.3546 - val_auc: 0.6241\n",
            "Epoch 40/100\n",
            "177/177 [==============================] - 1s 4ms/step - loss: 0.5344 - accuracy: 0.4155 - auc: 0.6630 - val_loss: 0.5515 - val_accuracy: 0.3659 - val_auc: 0.6275\n",
            "Epoch 41/100\n",
            "177/177 [==============================] - 1s 4ms/step - loss: 0.5343 - accuracy: 0.4116 - auc: 0.6646 - val_loss: 0.5509 - val_accuracy: 0.3705 - val_auc: 0.6293\n",
            "Epoch 42/100\n",
            "177/177 [==============================] - 1s 4ms/step - loss: 0.5342 - accuracy: 0.4153 - auc: 0.6641 - val_loss: 0.5471 - val_accuracy: 0.3694 - val_auc: 0.6363\n",
            "Epoch 43/100\n",
            "177/177 [==============================] - 1s 4ms/step - loss: 0.5342 - accuracy: 0.4121 - auc: 0.6639 - val_loss: 0.5427 - val_accuracy: 0.4088 - val_auc: 0.6424\n",
            "Epoch 44/100\n",
            "177/177 [==============================] - 1s 4ms/step - loss: 0.5337 - accuracy: 0.4134 - auc: 0.6654 - val_loss: 0.5471 - val_accuracy: 0.4057 - val_auc: 0.6380\n",
            "Epoch 45/100\n",
            "177/177 [==============================] - 1s 4ms/step - loss: 0.5340 - accuracy: 0.4161 - auc: 0.6648 - val_loss: 0.5663 - val_accuracy: 0.3035 - val_auc: 0.6197\n",
            "Epoch 46/100\n",
            "177/177 [==============================] - 1s 4ms/step - loss: 0.5336 - accuracy: 0.4132 - auc: 0.6662 - val_loss: 0.5504 - val_accuracy: 0.3664 - val_auc: 0.6318\n",
            "Epoch 47/100\n",
            "177/177 [==============================] - 1s 4ms/step - loss: 0.5331 - accuracy: 0.4138 - auc: 0.6663 - val_loss: 0.5467 - val_accuracy: 0.3878 - val_auc: 0.6363\n",
            "Epoch 48/100\n",
            "177/177 [==============================] - 1s 4ms/step - loss: 0.5330 - accuracy: 0.4143 - auc: 0.6669 - val_loss: 0.5514 - val_accuracy: 0.3608 - val_auc: 0.6310\n",
            "Epoch 49/100\n",
            "177/177 [==============================] - 1s 3ms/step - loss: 0.5329 - accuracy: 0.4134 - auc: 0.6672 - val_loss: 0.5546 - val_accuracy: 0.3694 - val_auc: 0.6244\n",
            "Epoch 50/100\n",
            "177/177 [==============================] - 1s 4ms/step - loss: 0.5328 - accuracy: 0.4138 - auc: 0.6674 - val_loss: 0.5509 - val_accuracy: 0.3817 - val_auc: 0.6334\n",
            "Epoch 51/100\n",
            "177/177 [==============================] - 1s 4ms/step - loss: 0.5323 - accuracy: 0.4149 - auc: 0.6687 - val_loss: 0.5462 - val_accuracy: 0.4021 - val_auc: 0.6376\n",
            "Epoch 52/100\n",
            "177/177 [==============================] - 1s 4ms/step - loss: 0.5323 - accuracy: 0.4144 - auc: 0.6686 - val_loss: 0.5519 - val_accuracy: 0.3797 - val_auc: 0.6323\n",
            "Epoch 53/100\n",
            "177/177 [==============================] - 1s 4ms/step - loss: 0.5322 - accuracy: 0.4138 - auc: 0.6694 - val_loss: 0.5544 - val_accuracy: 0.3720 - val_auc: 0.6337\n",
            "Epoch 54/100\n",
            "177/177 [==============================] - 1s 4ms/step - loss: 0.5319 - accuracy: 0.4152 - auc: 0.6694 - val_loss: 0.5591 - val_accuracy: 0.3679 - val_auc: 0.6237\n",
            "Epoch 55/100\n",
            "177/177 [==============================] - 1s 4ms/step - loss: 0.5321 - accuracy: 0.4156 - auc: 0.6695 - val_loss: 0.5630 - val_accuracy: 0.3444 - val_auc: 0.6147\n",
            "Epoch 56/100\n",
            "177/177 [==============================] - 1s 4ms/step - loss: 0.5319 - accuracy: 0.4134 - auc: 0.6694 - val_loss: 0.5520 - val_accuracy: 0.3848 - val_auc: 0.6295\n",
            "Epoch 57/100\n",
            "177/177 [==============================] - 1s 4ms/step - loss: 0.5312 - accuracy: 0.4146 - auc: 0.6712 - val_loss: 0.5498 - val_accuracy: 0.3776 - val_auc: 0.6324\n",
            "Epoch 58/100\n",
            "177/177 [==============================] - 1s 4ms/step - loss: 0.5309 - accuracy: 0.4159 - auc: 0.6716 - val_loss: 0.5549 - val_accuracy: 0.3802 - val_auc: 0.6257\n",
            "Epoch 59/100\n",
            "177/177 [==============================] - 1s 4ms/step - loss: 0.5313 - accuracy: 0.4140 - auc: 0.6711 - val_loss: 0.5804 - val_accuracy: 0.3357 - val_auc: 0.6002\n",
            "Epoch 60/100\n",
            "177/177 [==============================] - 1s 4ms/step - loss: 0.5312 - accuracy: 0.4138 - auc: 0.6716 - val_loss: 0.5502 - val_accuracy: 0.4047 - val_auc: 0.6310\n",
            "Epoch 61/100\n",
            "177/177 [==============================] - 1s 4ms/step - loss: 0.5306 - accuracy: 0.4160 - auc: 0.6729 - val_loss: 0.5530 - val_accuracy: 0.3562 - val_auc: 0.6326\n",
            "Epoch 62/100\n",
            "177/177 [==============================] - 1s 4ms/step - loss: 0.5304 - accuracy: 0.4124 - auc: 0.6728 - val_loss: 0.5525 - val_accuracy: 0.3945 - val_auc: 0.6316\n",
            "Epoch 63/100\n",
            "177/177 [==============================] - 1s 4ms/step - loss: 0.5300 - accuracy: 0.4157 - auc: 0.6740 - val_loss: 0.5606 - val_accuracy: 0.3495 - val_auc: 0.6212\n",
            "Epoch 64/100\n",
            "177/177 [==============================] - 1s 4ms/step - loss: 0.5302 - accuracy: 0.4145 - auc: 0.6737 - val_loss: 0.5560 - val_accuracy: 0.3694 - val_auc: 0.6247\n",
            "Epoch 65/100\n",
            "177/177 [==============================] - 1s 4ms/step - loss: 0.5298 - accuracy: 0.4144 - auc: 0.6742 - val_loss: 0.5591 - val_accuracy: 0.3802 - val_auc: 0.6255\n",
            "Epoch 66/100\n",
            "177/177 [==============================] - 1s 4ms/step - loss: 0.5294 - accuracy: 0.4126 - auc: 0.6760 - val_loss: 0.5518 - val_accuracy: 0.3945 - val_auc: 0.6288\n",
            "Epoch 67/100\n",
            "177/177 [==============================] - 1s 4ms/step - loss: 0.5298 - accuracy: 0.4138 - auc: 0.6743 - val_loss: 0.5505 - val_accuracy: 0.3873 - val_auc: 0.6356\n",
            "Epoch 68/100\n",
            "177/177 [==============================] - 1s 4ms/step - loss: 0.5297 - accuracy: 0.4148 - auc: 0.6751 - val_loss: 0.5633 - val_accuracy: 0.3541 - val_auc: 0.6167\n",
            "Epoch 69/100\n",
            "177/177 [==============================] - 1s 4ms/step - loss: 0.5292 - accuracy: 0.4127 - auc: 0.6758 - val_loss: 0.5742 - val_accuracy: 0.3301 - val_auc: 0.5978\n",
            "Epoch 70/100\n",
            "177/177 [==============================] - 1s 4ms/step - loss: 0.5291 - accuracy: 0.4166 - auc: 0.6762 - val_loss: 0.5548 - val_accuracy: 0.3541 - val_auc: 0.6229\n",
            "Epoch 71/100\n",
            "177/177 [==============================] - 1s 4ms/step - loss: 0.5289 - accuracy: 0.4153 - auc: 0.6764 - val_loss: 0.5635 - val_accuracy: 0.3219 - val_auc: 0.6049\n",
            "Epoch 72/100\n",
            "177/177 [==============================] - 1s 4ms/step - loss: 0.5287 - accuracy: 0.4122 - auc: 0.6771 - val_loss: 0.5651 - val_accuracy: 0.3521 - val_auc: 0.6107\n",
            "Epoch 73/100\n",
            "177/177 [==============================] - 1s 4ms/step - loss: 0.5287 - accuracy: 0.4138 - auc: 0.6773 - val_loss: 0.5566 - val_accuracy: 0.3802 - val_auc: 0.6238\n",
            "Epoch 74/100\n",
            "177/177 [==============================] - 1s 4ms/step - loss: 0.5281 - accuracy: 0.4165 - auc: 0.6780 - val_loss: 0.5586 - val_accuracy: 0.3705 - val_auc: 0.6203\n",
            "Epoch 75/100\n",
            "177/177 [==============================] - 1s 4ms/step - loss: 0.5279 - accuracy: 0.4144 - auc: 0.6790 - val_loss: 0.5636 - val_accuracy: 0.3761 - val_auc: 0.6154\n",
            "Epoch 76/100\n",
            "177/177 [==============================] - 1s 4ms/step - loss: 0.5281 - accuracy: 0.4145 - auc: 0.6781 - val_loss: 0.5563 - val_accuracy: 0.3725 - val_auc: 0.6228\n",
            "Epoch 77/100\n",
            "177/177 [==============================] - 1s 4ms/step - loss: 0.5278 - accuracy: 0.4167 - auc: 0.6790 - val_loss: 0.5596 - val_accuracy: 0.3572 - val_auc: 0.6186\n",
            "Epoch 78/100\n",
            "177/177 [==============================] - 1s 4ms/step - loss: 0.5275 - accuracy: 0.4163 - auc: 0.6799 - val_loss: 0.5727 - val_accuracy: 0.3495 - val_auc: 0.6142\n",
            "Epoch 79/100\n",
            "177/177 [==============================] - 1s 3ms/step - loss: 0.5272 - accuracy: 0.4165 - auc: 0.6799 - val_loss: 0.5610 - val_accuracy: 0.3618 - val_auc: 0.6213\n",
            "Epoch 80/100\n",
            "177/177 [==============================] - 1s 4ms/step - loss: 0.5268 - accuracy: 0.4160 - auc: 0.6807 - val_loss: 0.5689 - val_accuracy: 0.3229 - val_auc: 0.6137\n",
            "Epoch 81/100\n",
            "177/177 [==============================] - 1s 4ms/step - loss: 0.5272 - accuracy: 0.4146 - auc: 0.6804 - val_loss: 0.5798 - val_accuracy: 0.3153 - val_auc: 0.5988\n",
            "Epoch 82/100\n",
            "177/177 [==============================] - 1s 4ms/step - loss: 0.5267 - accuracy: 0.4153 - auc: 0.6810 - val_loss: 0.5595 - val_accuracy: 0.3260 - val_auc: 0.6187\n",
            "Epoch 83/100\n",
            "177/177 [==============================] - 1s 4ms/step - loss: 0.5268 - accuracy: 0.4164 - auc: 0.6809 - val_loss: 0.5607 - val_accuracy: 0.3480 - val_auc: 0.6220\n",
            "Epoch 84/100\n",
            "177/177 [==============================] - 1s 4ms/step - loss: 0.5262 - accuracy: 0.4143 - auc: 0.6824 - val_loss: 0.5627 - val_accuracy: 0.3536 - val_auc: 0.6091\n",
            "Epoch 85/100\n",
            "177/177 [==============================] - 1s 4ms/step - loss: 0.5261 - accuracy: 0.4157 - auc: 0.6828 - val_loss: 0.5600 - val_accuracy: 0.3654 - val_auc: 0.6231\n",
            "Epoch 86/100\n",
            "177/177 [==============================] - 1s 4ms/step - loss: 0.5258 - accuracy: 0.4154 - auc: 0.6830 - val_loss: 0.5714 - val_accuracy: 0.3807 - val_auc: 0.6202\n",
            "Epoch 87/100\n",
            "177/177 [==============================] - 1s 4ms/step - loss: 0.5258 - accuracy: 0.4142 - auc: 0.6836 - val_loss: 0.5756 - val_accuracy: 0.3434 - val_auc: 0.6088\n",
            "Epoch 88/100\n",
            "177/177 [==============================] - 1s 4ms/step - loss: 0.5250 - accuracy: 0.4157 - auc: 0.6855 - val_loss: 0.5616 - val_accuracy: 0.3602 - val_auc: 0.6156\n",
            "Epoch 89/100\n",
            "177/177 [==============================] - 1s 4ms/step - loss: 0.5249 - accuracy: 0.4167 - auc: 0.6849 - val_loss: 0.5611 - val_accuracy: 0.3500 - val_auc: 0.6189\n",
            "Epoch 90/100\n",
            "177/177 [==============================] - 1s 4ms/step - loss: 0.5251 - accuracy: 0.4129 - auc: 0.6841 - val_loss: 0.5834 - val_accuracy: 0.3163 - val_auc: 0.5923\n",
            "Epoch 91/100\n",
            "177/177 [==============================] - 1s 4ms/step - loss: 0.5248 - accuracy: 0.4150 - auc: 0.6850 - val_loss: 0.5595 - val_accuracy: 0.3005 - val_auc: 0.6148\n",
            "Epoch 92/100\n",
            "177/177 [==============================] - 1s 5ms/step - loss: 0.5243 - accuracy: 0.4185 - auc: 0.6858 - val_loss: 0.5922 - val_accuracy: 0.3265 - val_auc: 0.5934\n",
            "Epoch 93/100\n",
            "177/177 [==============================] - 1s 4ms/step - loss: 0.5248 - accuracy: 0.4167 - auc: 0.6850 - val_loss: 0.5590 - val_accuracy: 0.3643 - val_auc: 0.6213\n",
            "Epoch 94/100\n",
            "177/177 [==============================] - 1s 5ms/step - loss: 0.5237 - accuracy: 0.4167 - auc: 0.6868 - val_loss: 0.5595 - val_accuracy: 0.3613 - val_auc: 0.6246\n",
            "Epoch 95/100\n",
            "177/177 [==============================] - 1s 4ms/step - loss: 0.5235 - accuracy: 0.4207 - auc: 0.6869 - val_loss: 0.6169 - val_accuracy: 0.3071 - val_auc: 0.5666\n",
            "Epoch 96/100\n",
            "177/177 [==============================] - 1s 5ms/step - loss: 0.5240 - accuracy: 0.4165 - auc: 0.6867 - val_loss: 0.5799 - val_accuracy: 0.3352 - val_auc: 0.6021\n",
            "Epoch 97/100\n",
            "177/177 [==============================] - 1s 4ms/step - loss: 0.5232 - accuracy: 0.4154 - auc: 0.6882 - val_loss: 0.5551 - val_accuracy: 0.3720 - val_auc: 0.6322\n",
            "Epoch 98/100\n",
            "177/177 [==============================] - 1s 4ms/step - loss: 0.5228 - accuracy: 0.4177 - auc: 0.6893 - val_loss: 0.5672 - val_accuracy: 0.3551 - val_auc: 0.6104\n",
            "Epoch 99/100\n",
            "177/177 [==============================] - 1s 4ms/step - loss: 0.5229 - accuracy: 0.4183 - auc: 0.6891 - val_loss: 0.5690 - val_accuracy: 0.3321 - val_auc: 0.6112\n",
            "Epoch 100/100\n",
            "177/177 [==============================] - 1s 4ms/step - loss: 0.5225 - accuracy: 0.4203 - auc: 0.6901 - val_loss: 0.5717 - val_accuracy: 0.3112 - val_auc: 0.6074\n",
            "best threshold: [0.36 0.36 0.36 0.36 0.36]\n"
          ],
          "name": "stdout"
        }
      ]
    },
    {
      "cell_type": "code",
      "metadata": {
        "id": "GK2DsfGGHs4W"
      },
      "source": [
        "cv_accuracy"
      ],
      "execution_count": null,
      "outputs": []
    },
    {
      "cell_type": "code",
      "metadata": {
        "id": "BfczOcpa1h_9"
      },
      "source": [
        "best_model.fit(X_train,X_train_ohe,epochs=100, batch_size=100)"
      ],
      "execution_count": null,
      "outputs": []
    },
    {
      "cell_type": "code",
      "metadata": {
        "id": "Hkfs023DXAUV"
      },
      "source": [
        "\n",
        "X_test_scaled = scaler.transform(X_test)\n",
        "y_pred = best_model.predict(X_test_scaled)\n",
        "y_pred = (y_pred>best_thr)*1"
      ],
      "execution_count": null,
      "outputs": []
    },
    {
      "cell_type": "code",
      "metadata": {
        "id": "dZM5LsmGdkAX",
        "outputId": "10591d47-2ee2-44cc-d93e-a19a2c7326d2",
        "colab": {
          "base_uri": "https://localhost:8080/"
        }
      },
      "source": [
        "compute_accuracy(y_test_ohe,y_pred)"
      ],
      "execution_count": null,
      "outputs": [
        {
          "output_type": "execute_result",
          "data": {
            "text/plain": [
              "0.4148887880163413"
            ]
          },
          "metadata": {
            "tags": []
          },
          "execution_count": 578
        }
      ]
    },
    {
      "cell_type": "code",
      "metadata": {
        "id": "Ekp0x0xrWhI6"
      },
      "source": [
        "def compute_modified_confusion_matrix_nonorm(labels, outputs):\n",
        "    # Compute a binary multi-class, multi-label confusion matrix, where the rows\n",
        "    # are the labels and the columns are the outputs.\n",
        "    num_recordings, num_classes = np.shape(labels)\n",
        "    A = np.zeros((num_classes, num_classes))\n",
        "\n",
        "    # Iterate over all of the recordings.\n",
        "    for i in range(num_recordings):\n",
        "        # Calculate the number of positive labels and/or outputs.\n",
        "        #####normalization = float(max(np.sum(np.any((labels[i, :], outputs[i, :]), axis=0)), 1))\n",
        "        # Iterate over all of the classes.\n",
        "        for j in range(num_classes):\n",
        "            # Assign full and/or partial credit for each positive class.\n",
        "            if labels[i, j]:\n",
        "                for k in range(num_classes):\n",
        "                    if outputs[i, k]:\n",
        "                        A[j, k] += 1.0#/normalization\n",
        "\n",
        "    return A"
      ],
      "execution_count": null,
      "outputs": []
    },
    {
      "cell_type": "code",
      "metadata": {
        "id": "GPRhQVcuYc5e"
      },
      "source": [
        "conf_matrix = compute_modified_confusion_matrix_nonorm(y_test_ohe,y_pred)"
      ],
      "execution_count": null,
      "outputs": []
    },
    {
      "cell_type": "code",
      "metadata": {
        "id": "xu86xMSIcpb-"
      },
      "source": [
        "conf_matrix_df = pd.DataFrame(conf_matrix)"
      ],
      "execution_count": null,
      "outputs": []
    },
    {
      "cell_type": "code",
      "metadata": {
        "id": "y8ije__LdP-H"
      },
      "source": [
        "conf_matrix_df.index = one_hot.classes_[1:]\n",
        "conf_matrix_df.columns = one_hot.classes_[1:]"
      ],
      "execution_count": null,
      "outputs": []
    },
    {
      "cell_type": "code",
      "metadata": {
        "id": "-17GvKc1aId4",
        "outputId": "cc0e2329-ba6d-4555-d047-043b26021836",
        "colab": {
          "base_uri": "https://localhost:8080/",
          "height": 1000
        }
      },
      "source": [
        "import seaborn as sns\n",
        "plt.figure(figsize = (20,20))\n",
        "sns.set(font_scale=1.4)#for label size\n",
        "sns.heatmap(conf_matrix_df, cmap=\"rocket_r\", annot=True,annot_kws={\"size\": 20}, fmt=\".2f\", cbar=False)\n",
        "plt.title(\"Predict MNIST data using own Neural Network\", fontsize = 40, color= \"black\")\n",
        "plt.xlabel(\"y predicted\",fontsize=30, color= \"black\")\n",
        "plt.ylabel(\"y true\",fontsize = 30, color= \"black\")\n",
        "plt.yticks(fontsize=30, rotation=0, color= \"black\")\n",
        "plt.xticks(fontsize=30, rotation=0, color= \"black\")\n",
        "#plt.savefig(\"Results/MNIST_confMatrix_ownNN.png\",dpi=100)\n",
        "plt.show()"
      ],
      "execution_count": null,
      "outputs": [
        {
          "output_type": "display_data",
          "data": {
            "image/png": "[encoded data removed]",
            "text/plain": [
              "<Figure size 1440x1440 with 1 Axes>"
            ]
          },
          "metadata": {
            "tags": []
          }
        }
      ]
    },
    {
      "cell_type": "code",
      "metadata": {
        "id": "FiYupdS4j8Df"
      },
      "source": [
        ""
      ],
      "execution_count": null,
      "outputs": []
    }
  ]
}